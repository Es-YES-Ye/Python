{
  "nbformat": 4,
  "nbformat_minor": 0,
  "metadata": {
    "colab": {
      "name": "CovidData.ipynb",
      "provenance": [],
      "authorship_tag": "ABX9TyNw76c3kqCuUveO5jE8eEWS",
      "include_colab_link": true
    },
    "kernelspec": {
      "name": "python3",
      "display_name": "Python 3"
    },
    "language_info": {
      "name": "python"
    }
  },
  "cells": [
    {
      "cell_type": "markdown",
      "metadata": {
        "id": "view-in-github",
        "colab_type": "text"
      },
      "source": [
        "<a href=\"https://colab.research.google.com/github/Es-YES-Ye/Python/blob/main/CovidData.ipynb\" target=\"_parent\"><img src=\"https://colab.research.google.com/assets/colab-badge.svg\" alt=\"Open In Colab\"/></a>"
      ]
    },
    {
      "cell_type": "code",
      "execution_count": null,
      "metadata": {
        "id": "csqa5xN-OiZ9"
      },
      "outputs": [],
      "source": [
        "from datetime import datetime\n",
        "\n",
        "class CovidData:\n",
        "  def __init__(self,dt,dcnt, ccnt):\n",
        "    self.dt = dt\n",
        "    self.dcnt = dcnt\n",
        "    self.ccnt = ccnt\n",
        "  @staticmethod #정적메소드 만들 때 쓰는 표현\n",
        "  def make_covid_data(src):\n",
        "    dt = datetime.strptime(src['구분'], '%Y-%m-%d')\n",
        "    dcnt = src['사망자']\n",
        "    ccnt = src['확진자']\n",
        "    return CovidData(dt, dcnt, ccnt)"
      ]
    }
  ]
}