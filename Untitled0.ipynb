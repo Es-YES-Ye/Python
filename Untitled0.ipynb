{
  "nbformat": 4,
  "nbformat_minor": 0,
  "metadata": {
    "colab": {
      "name": "Untitled0.ipynb",
      "provenance": [],
      "collapsed_sections": [],
      "authorship_tag": "ABX9TyN2JnpAD0Agpjey8v4acfOF",
      "include_colab_link": true
    },
    "kernelspec": {
      "name": "python3",
      "display_name": "Python 3"
    },
    "language_info": {
      "name": "python"
    }
  },
  "cells": [
    {
      "cell_type": "markdown",
      "metadata": {
        "id": "view-in-github",
        "colab_type": "text"
      },
      "source": [
        "<a href=\"https://colab.research.google.com/github/Es-YES-Ye/Python/blob/main/Untitled0.ipynb\" target=\"_parent\"><img src=\"https://colab.research.google.com/assets/colab-badge.svg\" alt=\"Open In Colab\"/></a>"
      ]
    },
    {
      "cell_type": "markdown",
      "source": [
        "#조건문 if\n",
        "\n",
        "if expression: \n"
      ],
      "metadata": {
        "id": "7OlziUtKgGDb"
      }
    },
    {
      "cell_type": "markdown",
      "source": [
        "  statement *이탤릭체 텍스트*"
      ],
      "metadata": {
        "id": "GDnM9O-8gX1P"
      }
    },
    {
      "cell_type": "markdown",
      "source": [
        "expression이 참일 때 statement 수행"
      ],
      "metadata": {
        "id": "wEmndPI2gr3o"
      }
    },
    {
      "cell_type": "code",
      "execution_count": 2,
      "metadata": {
        "colab": {
          "base_uri": "https://localhost:8080/"
        },
        "id": "8lnrfe4LgFKs",
        "outputId": "b17ef39b-55a5-4e8a-ba71-4edc15e51e80"
      },
      "outputs": [
        {
          "output_type": "stream",
          "name": "stdout",
          "text": [
            "국어 점수 : 55\n",
            "A는 아닙니다.\n"
          ]
        }
      ],
      "source": [
        "num1 = int(input(\"국어 점수 : \"))\n",
        "if num1 >= 90:\n",
        "  print(\"A\") #조건이 참일 때 수행하는 구문\n",
        "  print(\"GOOD\")#조건이 참일 때 수행하는 구문\n",
        "print(\"A는 아닙니다.\") #조건과는 상관없는 구문\n",
        "\n",
        "#들여쓰기의 중요성  "
      ]
    },
    {
      "cell_type": "code",
      "source": [
        "import datetime"
      ],
      "metadata": {
        "id": "LsdLz94miZUb"
      },
      "execution_count": 3,
      "outputs": []
    },
    {
      "cell_type": "code",
      "source": [
        "now = datetime.datetime.now()\n",
        "now"
      ],
      "metadata": {
        "colab": {
          "base_uri": "https://localhost:8080/"
        },
        "id": "gwCpKpDki8RX",
        "outputId": "956bd504-772a-492b-92bb-6566ed645481"
      },
      "execution_count": 18,
      "outputs": [
        {
          "output_type": "execute_result",
          "data": {
            "text/plain": [
              "datetime.datetime(2022, 2, 18, 6, 37, 10, 992078)"
            ]
          },
          "metadata": {},
          "execution_count": 18
        }
      ]
    },
    {
      "cell_type": "code",
      "source": [
        "now = datetime.datetime.now()\n",
        "if now.hour>12:\n",
        "  print('오후입니다.')\n",
        "print(now.hour)"
      ],
      "metadata": {
        "id": "hv6gTw4DjIep"
      },
      "execution_count": null,
      "outputs": []
    },
    {
      "cell_type": "code",
      "source": [
        "now = datetime.datetime.now()\n",
        "if (now.month==1) or (now.month==2) or (now.month==12):\n",
        "  print('겨울')\n",
        "if (now.month==3) or (now.month==4) or (now.month==5):\n",
        "  print('봄')\n",
        "if (now.month==6) or (now.month==7) or (now.month==8):\n",
        "  print('여름')\n",
        "if (now.month==9) or (now.month==10) or (now.month==11):\n",
        "  print('가을') "
      ],
      "metadata": {
        "colab": {
          "base_uri": "https://localhost:8080/"
        },
        "id": "V0T4iu80kPHt",
        "outputId": "06b67b61-8318-49e2-a723-63ce1974fc7a"
      },
      "execution_count": 20,
      "outputs": [
        {
          "output_type": "stream",
          "name": "stdout",
          "text": [
            "겨울\n"
          ]
        }
      ]
    }
  ]
}