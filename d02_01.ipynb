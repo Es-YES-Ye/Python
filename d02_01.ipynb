{
  "nbformat": 4,
  "nbformat_minor": 0,
  "metadata": {
    "colab": {
      "name": "d02_01.ipynb",
      "provenance": [],
      "collapsed_sections": [],
      "include_colab_link": true
    },
    "kernelspec": {
      "name": "python3",
      "display_name": "Python 3"
    },
    "language_info": {
      "name": "python"
    }
  },
  "cells": [
    {
      "cell_type": "markdown",
      "metadata": {
        "id": "view-in-github",
        "colab_type": "text"
      },
      "source": [
        "<a href=\"https://colab.research.google.com/github/Es-YES-Ye/Python/blob/main/d02_01.ipynb\" target=\"_parent\"><img src=\"https://colab.research.google.com/assets/colab-badge.svg\" alt=\"Open In Colab\"/></a>"
      ]
    },
    {
      "cell_type": "code",
      "source": [
        "# 코랩에서 한글 폰트 설치하기\n",
        "#!sudo apt-get install -y fonts-nanum\n",
        "#!sudo fc-cache -fv\n",
        "#!rm ~/.cache/matplotlib -rf\n",
        "# 1. 최초 실행 후 런타임 재기동 하시고,\n",
        "# 2. 런타임 재기동 후 주석 처리하세요."
      ],
      "metadata": {
        "id": "dLiWcvU1WXk0"
      },
      "execution_count": null,
      "outputs": []
    },
    {
      "cell_type": "code",
      "source": [
        "%run my_init.py"
      ],
      "metadata": {
        "colab": {
          "base_uri": "https://localhost:8080/"
        },
        "id": "EN0TEW1HZ3CD",
        "outputId": "c76c9460-9b00-4f74-c706-7a1dd4e7fa1a"
      },
      "execution_count": 3,
      "outputs": [
        {
          "output_type": "stream",
          "name": "stdout",
          "text": [
            "Mounted at /content/drive\n"
          ]
        }
      ]
    },
    {
      "cell_type": "code",
      "source": [
        "%matplotlib inline"
      ],
      "metadata": {
        "id": "dwfm3fiCmcS6"
      },
      "execution_count": 4,
      "outputs": []
    },
    {
      "cell_type": "code",
      "source": [
        "base_dir = '/content/drive/MyDrive/청년취업사관학교/금천캠퍼스/01.머신러닝/D02'"
      ],
      "metadata": {
        "id": "EII92avIfMkN"
      },
      "execution_count": null,
      "outputs": []
    },
    {
      "cell_type": "code",
      "source": [
        "%%writefile test.txt\n",
        "이 파일은 테스트 파일입니다."
      ],
      "metadata": {
        "colab": {
          "base_uri": "https://localhost:8080/"
        },
        "id": "M_esZljQf42y",
        "outputId": "97bb183f-1671-454f-f928-09fedb76e714"
      },
      "execution_count": null,
      "outputs": [
        {
          "output_type": "stream",
          "name": "stdout",
          "text": [
            "Writing test.txt\n"
          ]
        }
      ]
    },
    {
      "cell_type": "code",
      "source": [
        "import os\n",
        "\n",
        "file_name = os.path.join(base_dir, 'test.txt')\n",
        "print(file_name)"
      ],
      "metadata": {
        "colab": {
          "base_uri": "https://localhost:8080/"
        },
        "id": "MPkdFlHDgWIf",
        "outputId": "db79ce10-07af-46fa-b792-eb5d3d19227d"
      },
      "execution_count": null,
      "outputs": [
        {
          "output_type": "stream",
          "name": "stdout",
          "text": [
            "/content/drive/MyDrive/청년취업사관학교/금천캠퍼스/01.머신러닝/D02/test.txt\n"
          ]
        }
      ]
    },
    {
      "cell_type": "code",
      "source": [
        "base_dir + '/test.txt'"
      ],
      "metadata": {
        "colab": {
          "base_uri": "https://localhost:8080/",
          "height": 35
        },
        "id": "jOhqx1IMg7kR",
        "outputId": "880919cd-b89b-40fe-ef09-58ce310e1771"
      },
      "execution_count": null,
      "outputs": [
        {
          "output_type": "execute_result",
          "data": {
            "text/plain": [
              "'/content/drive/MyDrive/청년취업사관학교/금천캠퍼스/01.머신러닝/D02/test.txt'"
            ],
            "application/vnd.google.colaboratory.intrinsic+json": {
              "type": "string"
            }
          },
          "metadata": {},
          "execution_count": 7
        }
      ]
    },
    {
      "cell_type": "code",
      "source": [
        "f = open(file_name, 'w')\n",
        "f.write('이 파일은 테스트 파일입니다.\\n')\n",
        "f.close()"
      ],
      "metadata": {
        "id": "PXYYL5jVilNP"
      },
      "execution_count": null,
      "outputs": []
    },
    {
      "cell_type": "markdown",
      "source": [
        "# 제목1\n",
        "## 제목2\n",
        "### 제목3\n",
        "#### 제목4\n",
        "##### 제목5"
      ],
      "metadata": {
        "id": "IAQBOUhijHeS"
      }
    },
    {
      "cell_type": "markdown",
      "source": [
        "`f = open(file_name, 'w')`<br>\n",
        "`f.write('이 파일은 테스트 파일입니다.\\n')`<br>\n",
        "`f.close()`"
      ],
      "metadata": {
        "id": "FFzU_yzUjspe"
      }
    },
    {
      "cell_type": "markdown",
      "source": [
        ">내용"
      ],
      "metadata": {
        "id": "hoKqyjKAkcPi"
      }
    },
    {
      "cell_type": "markdown",
      "source": [
        ">>내용"
      ],
      "metadata": {
        "id": "9OZ_HDxTkklX"
      }
    },
    {
      "cell_type": "markdown",
      "source": [
        "선형방정식은 $y = ax+b$와 같은 유형입니다.$X_{i} + X_{i}^{2}$"
      ],
      "metadata": {
        "id": "0dfWzK1mk4wN"
      }
    },
    {
      "cell_type": "markdown",
      "source": [
        "$$y = ax+b$$"
      ],
      "metadata": {
        "id": "Vy29BSgPlQhG"
      }
    },
    {
      "cell_type": "markdown",
      "source": [
        "$ \\sum_{n=1}^{\\infty} 2^{-n} = 1 $"
      ],
      "metadata": {
        "id": "04md7CGBnDZ4"
      }
    },
    {
      "cell_type": "markdown",
      "source": [
        "$\\sigma^{2}=\\frac{1}{n}\\sum_{i=1}^{n}(\\bar{x}-x_{i})^2$"
      ],
      "metadata": {
        "id": "84IXXX6UtK5y"
      }
    },
    {
      "cell_type": "markdown",
      "source": [
        "![분산.jpg](data:image/jpeg;base64,/9j/4AAQSkZJRgABAQEAYABgAAD/2wBDAAMCAgMCAgMDAwMEAwMEBQgFBQQEBQoHBwYIDAoMDAsKCwsNDhIQDQ4RDgsLEBYQERMUFRUVDA8XGBYUGBIUFRT/2wBDAQMEBAUEBQkFBQkUDQsNFBQUFBQUFBQUFBQUFBQUFBQUFBQUFBQUFBQUFBQUFBQUFBQUFBQUFBQUFBQUFBQUFBT/wAARCAFAAeQDASIAAhEBAxEB/8QAHwAAAQUBAQEBAQEAAAAAAAAAAAECAwQFBgcICQoL/8QAtRAAAgEDAwIEAwUFBAQAAAF9AQIDAAQRBRIhMUEGE1FhByJxFDKBkaEII0KxwRVS0fAkM2JyggkKFhcYGRolJicoKSo0NTY3ODk6Q0RFRkdISUpTVFVWV1hZWmNkZWZnaGlqc3R1dnd4eXqDhIWGh4iJipKTlJWWl5iZmqKjpKWmp6ipqrKztLW2t7i5usLDxMXGx8jJytLT1NXW19jZ2uHi4+Tl5ufo6erx8vP09fb3+Pn6/8QAHwEAAwEBAQEBAQEBAQAAAAAAAAECAwQFBgcICQoL/8QAtREAAgECBAQDBAcFBAQAAQJ3AAECAxEEBSExBhJBUQdhcRMiMoEIFEKRobHBCSMzUvAVYnLRChYkNOEl8RcYGRomJygpKjU2Nzg5OkNERUZHSElKU1RVVldYWVpjZGVmZ2hpanN0dXZ3eHl6goOEhYaHiImKkpOUlZaXmJmaoqOkpaanqKmqsrO0tba3uLm6wsPExcbHyMnK0tPU1dbX2Nna4uPk5ebn6Onq8vP09fb3+Pn6/9oADAMBAAIRAxEAPwD9U6KKKACiiigAooooAKKKKACiiigAooooAKKKKACiiigAooooAKKKKACiiigAooooAKKKKACiiigAooooAKKKKACiiigAooooAKKKKACiiigAooooAKKKKACiiigAooooAKKKKACiiigAooooAKKKKACiiigAooooAKKKKACiivKvi18erL4U6zpWkvpGoa3qWopJLDb2KgnYn3jz9D+VaQpyqS5Yq7MqtWFGPPUdkeq0V88/8NbS/wDROfEh/wCALR/w1tL/ANE48S/98rW/1Wt/L+KOH+0sL/N+D/yPoaivnn/hraX/AKJx4l/75Wj/AIa2l/6Jx4l/74Wj6pW/l/Ff5h/aWF/m/B/5H0NRXzz/AMNbS/8AROfEv/fK0f8ADW0v/ROPEv8A3wtH1St/L+K/zD+0sL/N+D/yPoaivnn/AIa2l/6Jx4l/75Wj/hraX/onHiX/AL5Wj6pW/l/Ff5h/aWF/m/B/5H0NRXzz/wANbS/9E48S/wDfK0f8NbS/9E58S/8AfK0fVK38v4r/ADD+0sL/ADfg/wDI+hqK+ef+Gtpf+ic+Jf8AvlaP+Gtpf+iceJf++Vo+qVv5fxX+Yf2lhf5vwf8AkfQ1FfPP/DW0v/ROPEv/AHytH/DW0v8A0TjxL/3ytH1St/L+K/zD+0sL/N+D/wAj6Gor54b9riRVJPw68SAAZ+4teq/C34k2XxY8HWniLTYZra3nZ0MNwBvRlYqQce4rOdCpTXNJaG1LGUK8uSnK79H+p2VFIvSlrA7QooooAKKKKACiiigAooooAKKKKACiiigAooooAKKKKACiiigAooooAKKKKACiiigAooooAKKKKACiiigAooooAKKKKACiiigAooooAKKKKACiiigAr5T/AGnIUm+Pnw7jkUPG9ldKysMgghgQa+rK+Vv2mP8Ak4D4cf8AXnc/+zV24P8Aiv0f5Hj5r/u6/wAUfzR9B23w98MNbxk+HtLJ2jraJ6fSpP8AhXfhf/oXdL/8BE/wrdtf+PaL/dFS1yuUr7npKjTt8K+457/hXnhf/oXtL/8AARP8KT/hXfhf/oXdL/8AARP8K6Kijnl3D2NP+Vfcc9/wrvwv/wBC9pf/AICJ/hR/wrzwv/0L2l/+Aif4V0NFHPLuHsaf8q+453/hXfhf/oXdL/8AARP8KX/hXfhf/oXtL/8AARP8K6Gijnl3H7Gn/KvuOd/4V34X/wChd0v/AMBE/wAKP+Fd+F/+hd0v/wABE/wroqKOeXcXsaf8q+457/hXnhf/AKF7S/8AwET/AApP+Fd+F/8AoXdL/wDARP8ACuioo55dw9jT/lX3HO/8K78L/wDQu6X/AOAif4Uf8K88L/8AQvaX/wCAkf8AhXRUlHPLuHsaf8q+48k+Nngrw/p/wx1u5tdFsLa4jWIpLFbIrKfOToQOKxP2M/8Akidn/wBft1/6Oeu1+O//ACSjX/8Aci/9HJXFfsZ/8kTtP+v26/8ARz12JuWFld9UeVyRjmUVFW9x/mj3ZelLSL90UtcB7YUUUUAFFFFABRRSUALRSbhSBgelADqKTcKTdQA6ik3CjdQAtFNDg80uaAFopKWgAoopKAOM8Y/GHwh8P7yK08Q67aaZczL5iQyv8xXpnA7Vz/8Aw1B8MP8Aob7D82/wrxn4vaLa69+0/wDY7tBJHJpdnHyqsVDXUStjcCAdrEdO9evj9mXwZ/zxn/KL/wCN16Hs6EIxc73Z4SxGMrVJxoqNou2v/Dk//DUHww/6G+x/Nv8ACj/hqD4Yf9DfY/m3+FQ/8My+DP8AnjcflF/8bo/4Zl8Gf88bj8ov/jdT/svn/XyLvmXaP4/5k/8Aw1B8MP8Aob7H82/wo/4ag+GH/Q32P5t/hUH/AAzL4M/543H5Rf8Axuj/AIZl8Gf88bj8ov8A43R/svn/AF8gvmXaP4/5k/8Aw1B8MP8Aob7H82/wo/4ag+GH/Q32H5t/hUH/AAzL4M/54XH5Rf8Axuj/AIZl8Gf88bj8ov8A43R/svn/AF8gvmXaP4/5k3/DUHww/wChvsfzb/Cl/wCGoPhh/wBDfYfm3+FQf8My+DP+eNx+UX/xuj/hmXwZ/wA8bj8ov/jdH+y+f9fIL5l2j+P+ZP8A8NQfDD/ob7D82/wpP+GoPhh/0N9j+bf4VD/wzL4M/wCeNx+UX/xuj/hmXwZ/zxuPyi/+N0f7L5/18gvmXaP4/wCZN/w1B8MP+hvsfzb/AApf+GoPhh/0N9j+bf4VB/wzL4M/54XH5Rf/ABuj/hmXwZ/zxuPyi/8AjdH+y+f9fIL5l2j+P+ZN/wANQfDD/ob7H82/wpf+GoPhh/0N9h+bf4VB/wAMy+DP+eE//kL/AON1wvxk+B/hfwh4Kub+xt2ab5oysyxsuDE57IPQflVRjhpSUVfUipVzClBzko2Xr/mfQ2j6xaa9pttf2FxHd2dwgkimibcrqehBq9Xk/wCy6SfgP4POcn7J/wCzGvVxXHUjyTcV0PWoVHWpRqPqk/vFooorM3CiiigAooooAK+Vv2mP+TgPhx/153P/ALNX1TXyt+0x/wAnAfDj/rzuf/Zq7cH/ABH6P8jx81/3df4o/wDpSPqS1/49ov8AdFS1Fa/8e0X+6Klrje7PXWwUmRQea/O/9tZ/FfjL9tn4WfDnR/G+teEdK1zSJDO+lXDJhleUhtucE/KBSGfohmivz2+Mn7FvjD4Y/CrxV4rtvj544vLjR9PlvEgkuSFkKDOCc9K93/4J3+KdW8Zfsg+CNX1vULjVNTnF35t3dSGSR8XUqjLHk4AA/CgD6Fk1zToZGje/tkkU4ZWlUEfhmnW+r2N3II4Ly3mkPRY5VY/kDX5mf8FKvgb8NPht4c1TxTYar4gb4meKNQBsdOg1IsjOTmRxEBnaBx16sK7/AP4Jv/Cr4T6x4d8O/ETw/rOsz+PNNtns9V06+1PesNwUaOTMJGQDyy89x6UAfcXh7x34c8W3+p2Wia9pur3mlyCG+t7K6jmktXOcLIqklD8rcHHQ+lbu4eo/Ovgn/gnLx8fP2oz/ANTFb/8Aod3XmK/C+9/aM/b1+MfhTVPH3iTw5pOkQW91bR6TqBiAYpGCMHIxyTwKAP1CkmSNGYsoCjJJPSsTwn478OeO7e7n8Oa9puvQWsxtp5NNu47hYpQASjFCcMARweea8C+Cf7J2mfAbXtX1u2+IPiXxRNc6ZNZ/Y9av1niUMVbeFAHzDZjPoTXy7/wTC/aC8D/D5/HHgbXNWNp4k17xtN/Z9p5Lt5u8JGvzAYGWBHNAH6e0lLSUAeffHf8A5JRr/wDuRf8Ao5K4r9jP/kidp/1+3X/o567X47/8ko1//ci/9HJXFfsZ/wDJE7T/AK/br/0c9d0f91l6o8aX/Iyj/gf/AKUe7L90UtIv3RS1wnsLYKKKKBhRRRQAUyZtsZPp6U+q99OlrayTSOsaRgsXkOFXHcn0oGtXY8Yuv2qtCtby6tT4X8XySWxPmeVoFy20epwnT3rt/hx8ULD4maXPf6fp2q2EEL7P+JnYyWpk4zlQ4G4c4yK+PdU8YeP7H4sfF1rfV/CRkm0KOW5YySeW0QicKIfm/wBZg89s4r2f9lfxD4itv2f7ESjSNavbXT/O07T7K5McsikFtsrNu2sWJ5xgV5NHEzlU5JPTXp2fqfoGZ5Hh8NgVXpJcz5Pt3+KN3ul10321NfR/2yPAVzcava6lLqGlXem301i8TWE04cxsV3Bo0YYOPXNd18IPi9p/xg8Fv4l0y1uLezFxNAsdwvzsI2K7gB64yB15r43b4a+L/G2pvqvgnw1fWFl/bE8usQWfi9XjlkJbzYlxbjy23kc/N0xXv3ws0bxV4D+GOv8Ah6z8CX2g+THJPZPDrkd5c3E8hJbDGFVUg4OSCOaKOIrTl73w+j/yKzXJ8toUP9mdqja0c4e6tnpe/bvZdij4q/bg0Lwv4k0DSJvCviaJ9TlaP/StLmglAC8GONlBkJbAwvrXtXgv4hW/jXw7NrFvpuq6fFE7IbfUrGS3nbAByI3AJHPHHODXx5qVjHompWGleNvhd4i8UeKvEztb22p6rrULXBZB5pEJRQsWNmeB26mvYPAPhz4hXXw58V6BcrrGj3EkQTTbrxJdx3flowIZAYBG2VxncTn5h6UUcRVlNqWvlZ6eugszynAU8PB0VyPS8nNNSV7OUUndparZPT5FPxJ+3V4a8O+L9E0K48N+JIXv9+/7Vpk0M6HHybYmUM+5uOB3r3nwL4yh8daDHqtvY3+nRyMyiDU7V7aYYPUo4BxX5pHxtrOiLc6UfDej6zaXhYahqepaTLLdfJypDG+3H5gOhXFfZP7F6avdfDQ6tcalDfaRqUjS2KeTMksO0lHVvMmk+XKDAB9fWs8Ji6laq4yZ2cRcP4LL8CsRQXK00r81+bV9LaPfR9Fc+iV6UtNjzt5p1e0fmIUUUUAfKnxE/wCTsIv+wdY/+lkNfVS9K+VfiJ/ydhF/2DrH/wBLIa+ql6V24j4afoeNgP4lb/F+rFoooriPZCvNfj98Udc+EXgQa74f8Hah44vvtSQHS9N/1oRgxMnQ8DaPzFelV5X+0d8cNK+Avw/Ov6vpmqarbXE4sRDpFv50oZ0YhiuR8vynn3FAHzjZ/wDBQL4kaijNafs7eKbtUO1mgcOAfQ4HFdT8Jf21PHPxL8f6T4fuvgl4g0OwurgQXOqzOHisxgndJgcdMc18f/sI/tteG/gXoHj/AE7WtA8Uaw2oeIJL23OnWXn+TGVwEfLDa3HSuj/4Jr/tQ6Lo3jLxVoF7pXiC71Dxh4jL2tzHb+Zb26ncQJXJ+U8ntQB+j3xw8bXvw2+D/jPxVp0cc19oukXV/BHMCUZ4oWdQ2O2VFfGHwj/4Kx6Hq3gHTLvxh4R8RS6/IrfaW0PS3ktSdxxsbPPGPxr6G/a8+Mnw58IfD/VvBPjrxI3htvFelXVnBcLavOVV0MbPhfTd0JFflT478YWPwU8D6Np3wq/aC1jxBEl2sDaXHpDWqW0Dbi8oLE5wcce9AH3Z8M/+Ci118Zf2sPCfw+8O6Dcad4U1OznkuZNZs2gvBLHDI42DONuUX9a+66/JL4MeKPg54E+OXhv4p+J/2g9Q8YavpNvLAtveaDJGdskTpt3gnpvJ6V+qfg7xdpvjvwzpuv6NMbnS9QgW4tpipXejdDg8igDaooooAK8r/aM/5Jtdf77f+ipK9Uryv9oz/km11/vt/wCipK2o/wASJx4z/d5+hH+y5/yQbwh/16f+zGvWK8n/AGXP+SDeEP8Ar0/9mNesVWI/iy9RYL/dqf8AhX5BRRRXOdoUUUUAFFFFABXyt+0x/wAnAfDj/rzuf/Zq+qa+Vv2mP+TgPhx/153P/s1duD/iP0f5Hj5r/u6/xR/9KR9SWv8Ax7Rf7oqWorX/AI9ov90VLXG92euthGOATXyj+05+xhrHx0+MHhn4h+H/AB/N4K1nQrE2cElvbiRwSzEsDkY4Yivqi+tVvrK4tnZkSaNo2ZDggEYyPevjO5/4JY/D+5uJJT8QPiQpkYsQuuoAMnPH7mkM+cfhJ4A+M/7S3xC+MHwx1j45axFpnheZNOnaSLet8khkByueB+7/AFr9DP2Zfgqv7PPwV0DwAup/2v8A2X52Lzy9nmeZM8n3ecY34/CvnCz/AOCSHwu0+4uLi18Z/EC2uLg7ppodYiR5D6sRDk9T1r1X4C/sPeFP2ffG/wDwk2jeK/GGtXfkPb/Z9c1NbiDa3U7RGvP40AeE/tEeAfBv7IvxEj+PHjV9Y+JWp6lrEen6Xa6ncgxaOsiu2U3HBC7TjPQHjnmt/QYP2VNF+OUPxc0f4g6LoWvSxs91YWWsRxWs8zjmR41bBbkkjoTyRmuv/wCCkXwG8Y/tAfCHQNE8F6bBquo2euQ30tvcTCNDEscoOSfdgPxr5ph/Zt+LccUaH9mH4YttABdriXJ9z+9oA9y/4J86p4E8QfE74+6r4JutVvTd6zbyXs98YTbyMTclWtzGSSh+b73tXDftofs7fCv4Y+Opfih4n8XeNdF1Dxhfx2RXw3MqDeI1AB6HbhQeT1rvP+Ccv7PPjr4F3nxQu/GXh6x8Nr4gvbW4srHTphJDEqefuRepAHmLjJrpf+Ch/wCzn43/AGjPAXhPTvAqae+paVq325xqM5iTaEwOQDnmgBfhb+wj4d+FPiK28a2vjXxdr19a20rRQarqBlibfGRyvfg15d/wSr8A2L+FPiZqOs+HoDqcPjO4e1ur6zHnIojjIKMwyBnJ4711EGtft0W9rHAvh/4VlEQIN0l1nAGP79e1fs3z/G2SPWh8YNJ8JaY25DYDwt5mH67zJvJ56YxQB7jSUtJQB598d/8AklGv/wC5F/6OSuK/Yz/5Inaf9ft1/wCjnrtvjxj/AIVTrwzgFYf/AEcleb/syald+H/hXa2mlWDa/a/aLh/tkL+Wu4ysSuCD90kj8KyxeY0MBhf3/N7z05Yyl/6Snb5nBTw1SvmKlC2kOrS+15tH0Qv3RS1x3/CWeIdox4WkH1uR/wDE0f8ACUeJG6eGCPrcj/Cvn/8AWHBdI1P/AAVV/wDkD3/qFbvH/wACj/mdjRXHnxH4nbp4cUfW6H+FJ/bvis9NBgH1uf8A61H+sGE6Qqf+Cqn/AMiH1Gp1lH/wKP8AmdjRXHf214tx/wAgW1H1uP8A61H9q+MG6aTZge85/wAKX9v4fpSq/wDgqf6of1Gf80f/AAJf5nY1U1bS7TW9NuLC/t47uyuEMU0EyhkkQjBVgeCCO1cz/aHjNumnaeB7zN/hR9s8aMP+PLTR9ZG/wpf27Tlp9Xqv/uHIawc4u6qRT/xIwP8AhmX4U/8ARPfDh/7hkP8A8TW74T+EPg3wHdT3XhvwxpWh3NwnlyTWFpHCzL6EqBkU/wC0eND/AMu+lD/gbUnmeNj/AMstJH/AnrJZxRWscHV/8FnbUljKsXCpirp9HO55tpv7LT6Bcak+ifEDxNotvf3kt9Ja2cyCMSSMWbHy+teqeBfCdx4P0P7Bd65f+IZfMMn2zUmDS4OPlyB0GP1qp/xW57aSPwc/1ppHjb+/pI/4C/8AjRHNowd4YOt/4B/nIrEVMTio8tevBr5fmlcqeNvhXZ+NPGng/wASXF3NbT+G7mW5hijAKyl4mjIbPYBieK7WaJZrd0PRlwSPeuU8nxq/BuNLH/bNj/Wl+w+MixJvtNHGOIW/xqlnEtWsFV1/ux/+SOWdOVSMITrxahotXor37dzwq0/YH8I2sbJBrmoLGzs+JLW2kILHJ5aMn9a95+Gnw/t/hn4StPD9pdSXdvbFikkqIhwxzjCAAdewqL+zfGJ/5idgPpAf8aUaT4wJ51izA9rc/wCNZwzKVN81PAVb/wDbn/yZ6OMxuMzCmqeLxaklrr3/APATrweKXPvXH/2H4sYc69br9Lb/AOvR/wAI/wCKmxnxHEv0tR/8VXR/bGJtpgav/lP/AOTPH+q0/wDn/H/yb/5E7DdjvVK81i0sbiKG5uY4JJc7FdsZx+Nc23hzxPtOfEyj/t0H/wAVXMeNvDuttDb28upSarPITsRLQKFxjJLZ4ry8yz7HYTDSr08DNNW3cLPVae7Nu72Vk9ejOjD4KhVqKEq6s+yl+sbHl3xC5/awhP8A1DrH/wBLIa+ql+6K+QNRsbjSP2gtPsb9RLqEdlZs1xvLfKbyHCfh619fp90V9th8TVxmDoV61J0pOOsXa6+7/h+6R8vQpwpYivCE1Jc2623Y6iiuePjzQ18ZQeFDqUH/AAkE1q94tgrZk8lWClyOwywHPXn0rQ9A6Cvnj9ov4p/GfwV4gttP+HHwst/HWlXFpvnvJtQW3MUhJGzBYZ4wfxr6HoCigD8tP2bNL/af/Zzm8dvZ/A+HWP8AhKtVfVJPtGqwp5DNn5BiTkc1L+yrYftO/sx6L4g0u0+B8Osxazqb6i8txqsKGItgFQBJyK/UajigDwj9oxftH7M/ijxZqmhafH4o0/wzcXsYuraO4NlcC3LlVLAj5X/PFfK37L/7XX7PS/BPw3/ws698PDxr5b/b/N0HLbt5xkpDt+7jpX6Lajpdpq2n3Fle28d1Z3CGOWCZQyOpGCpB6giuM/4UH8OP+hI0H/wAi/woA8S8A/H79lj4neLNP8NeGv8AhG9R1m+cpb2y6EULsASRlogBwD1NfUdjYW2l2cNrZ28VrawrsjhhQIiKOgAHAFeb+IvC3wt+C2j3XjK+0HRfD1ppSGaTUo7JFaEdMgquR17V3PhPxTpvjXw7p2u6PcreaVqEC3FtcKCBJGwyGGaANeiszxL4k0/wj4f1LW9VuVtNM063ku7m4fOI4kUs7HHYAE1JoetWXiLS7fUdOuor2xuEEkNxCwZHUjIII6jFAF+vK/2jP+SbXX++3/oqSvVK8r/aM/5Jtdf77f8AoqStqP8AEiceM/3efoR/suf8kG8If9en/sxr1ivJ/wBlz/kg3hD/AK9P/ZjXrFViP4svUWC/3an/AIV+QUUUVznaFFFFABRRRQAV8rftMf8AJwHw4/687n/2avqmvlb9pj/k4D4cf9edz/7NXbg/4j9H+R4+a/7uv8Uf/SkfUlr/AMe0X+6Kw/H/AIy074feD9W8R6tKYtP0y3e5lKjLEKpO1R3Y9AO5Irctf+PaL/dFeG/ts2lzc/s96xJbozpaX2n3lyFGf9GivIZJ/wAPLV8+2a43uz11sdz4T+IiDwvo994yudL8MarqcMl1Hp1xeIjLEMH+IjcVUqWI4BNdH4b8a6B4ysTe+H9b07XbJW2G4027juIww6jcjEZr5W/agbwdqPxs/Z7Pi57U+GpotUL/AGpyIHJitigbHGCccHivNda0ub/hLv2kpfgpD5Xh8+EEhH9kAi3fU9mX8jHHmCMkHb/EfWkM+6dJ+JfhLXtYuNI0vxNo+patb586wtL+KWePHB3RqxYfiKi1j4qeDPD/ANp/tXxZoemG2lW3nF5qUMXlSsoZY33MNrFSCFPJBBr4h8V3XgS5+HPwFt/haLX/AIT9dasTAtiP9MSERv8Aa/tGOdv97d3xXSeH4PhFL+0J+0C/xJGkSXEd9amOPVmyBb/2fBvZFPGc55HPT2oA+zpvFejW66c02q2US6jIIrIyXKL9qcgsFiyfnJAJwuTgGq+seLLC1Gp2dvfWsusWdobt7HzlMypztdkzuCkgjOMcV+f/AIDu7nwT8Cf2etb8TzTaf4fsPHTzxXV9kfZrBoboQGQnovPBPYivXfA3xG0L4m/tTfFDU/Dd02o6VF4LgtkvlQiGZlmk3GNj94A5GR3BoA9p+DPxqtvFnwH8LePfF17pvh4apaieeWedYLeNizDAZyAPu9zW74q+N3gvwn8M9V8fTeINPvPC+n28lw9/ZXcc0Uu0H5I2VsM5I2hQckkAc18oeC/iJF4T/Ze+Anh2bT9IZ9eUxpqniGIyWOntGJW3umRucglVXcvU81zvw+FrrX7Pv7WWgJeaZr9yr39xaxaXaGCBw2nIVkhgZnKqZM4IY5OSDQB9cWPx00TxdpPhXVvCOp6LrmnaxqEdnM/9rwK0G6J5CoG755RtH7ofNgk4wDXWax8TvCHhw3i6r4p0XTWs5FhuReajDF5EjKGVH3MNrFSCAeoINfKGr33h7U/Av7M8vhp7KW3HiyxFwbFVAEv9n3W7fj+L1zzV/wAL/CHwt8QP2kv2iNR8R6NDrMlvPYwQR3il4ow2mW+5lU8bj03dcCgD334j/FKT4fzeG9WeGC88H39wtne6jFJlrVpSBBLxwYy3yk9cuh6Zr0lfujBzXw9p109x/wAEzdBtpmebUrzT7OztEbJkeY3aCNR6kYB+gr7V0WGW30WxinO6eOBEkPqwUA/rQBxfx4/5JRr/APuxf+jkriv2M/8Akidn/wBft1/6Oeu1+O//ACSjX/8Aci/9HJXFfsZ/8kTtP+v26/8ARz13R/3WXqjxpa5lH/A/zPdVXgUbfSlX7opa4T2Bu0+tG2nUUDG7fel20tFADdtG2nUUANwaNv8AnNOooAZs/wA5pQtOooATbSbadRQA3aKNop1FADdtAUinUUANIJ70m00+ikB8p/EPj9rCL/sHWP8A6WQ19Vr92vlX4if8nYRf9g6x/wDSyGvqpeld2I+Gn6HjYD+JX/xfqyrq2oR6Xpt3ey/6q3heZz/sqCT/ACr4f/ZL8UxxfCz4sftJeIrWTVvEGpXt48e0bnSwthiKCP8AujJbOOvBPSvt7WtOXWNJvbB+I7qB4GPsykH+dfE37GXihvhb8B/ib8PtX0aTWPEvgfVLwzeH4xmW7tZcPEUBHIf5wOO1cR7Ju/sq/tEfGr9oK40TxVcaZ4LTwDfySfaINPvzJqFmoDBA67vvbguQecHpXSfHD4nftEeHdc8Q3HgrwZ4Xj8J6OnmRX+tX+2bUMIGYIgYbccj5sZxXyF4F0/S9c/aa8Bat+zz4M8a+Bpf7TU+LNP1KAw6bFabszAAseSu4Y6ZxgA1a+K0d7rn7QnxQ074ueD/HXjDUbh/J8F6bou8ad5JDDcdrKBzt5Of4sigD3/xN+3prEP7D2lfHHSPD9o2q3FzHazabcMxhVxc+RJtIOSMgkfhXBeJP29vjl8N7jwr4j8YfCS1tvCPip2g0vT7W43ak0m0FNy7sqWLDggcV4tZaLr2p/wDBMu8+HUfhrWU8WeHfESRXunvZPuy1+ZPk/vAKecdK+o/20PCesa5N+zl/ZulXV6LHXraS68iEv5KhI8s+Og4PJoAsfCL9rH4uRftEeGfhv8XfBGl+G/8AhLNPm1DS20+482SFUR22SYZhn5CPUGsK8/a++O/jr4xfEn4f/DT4daRrEnha/EP9qXlwYoY4sHAfcwBdiOAP7p4rpfjl4X1e+/4KKfAvWLXTLqfSbPRL+O5vY4iYomKT4DN0BOR+deH/AAo/aWtP2ef2mf2kp9U8J+INe02/1yAC80S1FwIJVWXYjjIxv3HBz/CeKAOn8Z/tS3/7Rn7EvxtsfEmiJ4c8aeFxJpuq6fExaMOr43LnnGQR9Qe1dnJ+1C37OP7IPwVt9K02HWPF/iSwtrHSbK5lEUJYIN0kjEjCruXPP8Qrxrwv8HPGmofsu/tIePdX8N3umax8Qbya90/RWiJuRbmQumUHOTuPbOBnvVz9pD9m/wAUeOf2X/2fvEtj4ZuPEM/guyQap4dG5J5reRY/MAA5yPKAIHPze1AHvXwQ/aW8T+OPi3qPwc+LGk+GpNT1DSmvLS58P3YurS8gKkSxOMnkDcDnrg0n7DOvSeDfH3xh+C7zyzad4M1dZNGEz7ilpOGbywT/AAqVGB/tV5/+yfe/Ai4+L2k3/gT4S+KvC2u2ttcG51vWIJI7awHkv5iM7SEHIyo4HWu2/Yj0d/G3xk+OfxejVjoniLWUstHm2kCaGAMHkHqCSuD7GgD7Mryv9oz/AJJtdf77f+ipK9THQV5Z+0Z/yTa6/wB9v/RUlbUf4kTjxn+7z9CP9lz/AJIN4Q/69P8A2Y16xXk/7Ln/ACQbwh/16f8Asxr1iqxH8WXqLBf7tT/wr8gooornO0KKKKACiiigAr5W/aY/5OA+HH/Xnc/+zV9U18rftMf8nAfDj/rzuf8A2au3B/xH6P8AI8fNf93X+KP/AKUj6ktf+PaL/dFR6lpttrFhcWN5ClzaXEbQzQyKGSRGBDKQeoIJFSWv/HtF/uipa43uz11seIX37M2mTeKvh1dR3jXGi+EY7+FdO1BTcedHcBAIyzE/KmzAznjAr1zRfDWl+G7FbLSdPtdMs1JK29nCsUYJ6kKoArTopDMHT/Avh7RdSn1LT9D06y1Cf/W3VvapHLJ67mAyfxrz7wv+z7o+n+OPHmu65b2HiCLxJqUGoQ295aJILQx20cOBuB5Pl5yMda9fpKAM3VPDema1pr6dqFha3tg4Cta3EKyRMB0BUgg1FY+D9E0uQvZ6VZWj+QLbdDboh8odI+B90enStiigDDuPBPh+80WLR7jRdPn0mHHl2MlqjQJjphCNoxn0qaz8K6Pp95Ld2umWdvdTRLBJPFAiu8ajCoSBkqB0HQVrUUAYFj4B8NaZFFHaaBplrHFcfa41hs40CT4I80ADh8Ejd15NaFtoWn2d1eXMFlbxXN4Q1zMkSh5iFCguQMthQBz2AFX6KAOK1P4R+HtU1Tw1cvaiKz8Pu81jpkACWqTEYWXyxxuUFwvHG9u9dp0XFLSUAeffHf8A5JRr/wDuRf8Ao5K4r9jP/kidp/1+3X/o567X47/8ko1//ci/9HJXFfsZ/wDJE7T/AK/br/0c9d0f91l6o8aX/Iyj/gf/AKUe7L90UtIv3RS1wnsLYKKKKBhRRRQAUUUUAFFFFABRRRQAUUUUAFFFFABRRRQAUUUUAfKnxE/5Owi/7B1j/wClkNfVS9K+R/j5Hrnhj47J4htdE1G/spdOgjiuLG0NwqyRzpJhlDL/AHMde9XP+GoPGn/Qq6t/4IH/APkivVqUZVoQcOx81QxdPC1q0al7uTPq2uOHwm8NR/EtfHsVgsHif7E2ny3kRKmaEsGCyAcNtI4J5GT614H/AMNQeNP+hV1b/wAED/8AyRR/w1B40/6FXVv/AAQP/wDJFYfU6vkdv9q4fzPqryxR5fPWvlX/AIag8af9Crq3/ggf/wCSKP8AhqDxp/0Kurf+CB//AJIo+p1fIP7Vw/mfVXlj1o8scV8q/wDDUHjT/oVdW/8ABA//AMkUf8NQeNP+hV1b/wAED/8AyRR9Tq+Qf2rh/M+qvLHPNeT/AAh/Z30v4Q/EH4jeK7HVLu+uvGt7FfXUFwqhLdow4ATAyQd56+leVr+1N4tl3CHw7qM5U4cR6ExKN/db/SOD7U7/AIag8af9Crq3/ggf/wCSKbwVVOxMc2w0leN7H1V5Yo8setfKv/DUHjT/AKFXVv8AwQP/APJFH/DUHjT/AKFXVv8AwQP/APJFL6nV8iv7Vw/mfSXjDwjYeOPCur+HtTEh07VLSWyuRC5RzHIpVgGHIOCeRUnhPwnpPgfw7YaFodjDp2lWMSw29rAoVEUdABXzT/w1B40/6FXVv/BA/wD8kUf8NQeNP+hV1b/wQP8A/JFH1Or5B/auH8z6tryv9oz/AJJtdf77f+ipK8m/4ag8af8AQq6t/wCCB/8A5Irn/HPxw8V+ONAm0y68K60UYMQsWiNGWbYygbjMcDLdcGtKeEqRmpM5sTmVCpRlCN7tdj3X9lz/AJIN4Q/69P8A2Y16xXmv7O+h33h34M+FdO1K2e0vYbQeZDIMMhJJAPvg16SOK5K7vVl6nq4NOOHpp9l+QtFFFYHYFFFFABRRRQAV8q/tMf8AJwHw4/687n/2avqqvm39pj4c+L/EXjzwt4k8MaR/bA022nt5IEuVhdWcEBgWBHGfQ8iuzCtKpq+j/I8nNIylh/dV7OL08mj6LtXAt4v90fyqTzBXyYusftAqoUeGtQwBj/kKW3/xil/tn9oL/oWtQ/8ABnbf/Gav6q7/ABL70Z/2nH/n3L/wFn1l5go8wV8m/wBs/tBf9C1qH/gztv8A4xR/bP7QX/Qtah/4M7b/AOM0fVH/ADL70H9qR/59y/8AAWfWXmCjzBXyb/bP7QX/AELWof8Agztv/jNH9s/tBf8AQtah/wCDO2/+MUfVH/MvvQf2pH/n3L/wFn1l5go8wV8m/wBtftBf9C3qH/g0tv8A4zVS38ZfHG7v7mwg0TUJNQtQpuIP7Rth5YYZXnyecimsHJptSWnmiZZtTjZOEtf7r8/8mfXvmCjzBXyb/bP7QX/Qtah/4M7b/wCM0f2z+0F/0LWof+DO2/8AjNL6o/5l96K/tSP/AD7l/wCAs+svMFHmCvk3+2f2gv8AoWtQ/wDBpbf/ABmj+2f2gv8AoWtQ/wDBnbf/ABmj6o/5l96D+1I/8+5f+As+svMFHmCvk3+2f2gv+ha1D/waW3/xmj+2v2gv+hb1D/waW3/xmj6o/wCZfeg/tSP/AD7l/wCAs9z+O/8AySfXv9yL/wBHR1xX7Gf/ACRO0/6/br/0c9eZa4vx28RaXNp2oeFb+4tJtu+JtUtwGwwYZxCDjIHevbP2Z/A2sfD34U6fpOuwpb6n5s08kMb7gm+RmAz64Iq5xVLDuLabbRjRqvEY6NVRaSi1qrdUerr90UtIvSlrzT3wooooGFFFFABRRRQAUUUUAFFFFABRRRQAUUUUAFFFFABRRRQA3y19KPLX0p1FADdo9KNo9KdRSsA3aPSjaPSnUUWAbtHpTSg3dKkpp+9mgDgPheo/trxuuPu6uev/AFzSu/2j0rgfhmwPiDxyB21X/wBpJXoFdOIt7R/L8kefgNMOl5v/ANKY3aPSjaPSnUVzWPQG7R6UbR6U6iiwCbR6UbQe1LRTAaFC9KdRRQAUUUUAFFFFABRRRQAU0qDTqKAGhTRtp1FADdtG2nUUAN20badRQAwjkVwPhVSPix41OOsdp/6LFd+3UVwnhf8A5Kt4y/65Wv8A6Lrel8M/T9UcGK+Oj/i/9tkd3to206isDvG7aNtOooAbto206igBu2jb7U6igBBxS0UUAFFFFABRRRQAUUUUAFFFFABRRRQAUUUUAFFFFABRRRQAUUUUAFFFFABRRRQAUUUUAFIaWkagDz/4Z4/4Sfx7jp/aq/8AoiOvQa8/+Go2+KvHo/6iif8AoiOvQK6MR8fyX5I4MD/B+cv/AEphRRRXOd4UUUUAFFFFABRRRQAUUUUAFFFFABRRRQAUUUUAFFFFABRRRQAUUUUANbqK4Twv/wAlW8Zf9crX/wBF13h7VwHhdj/wtvxgvbyLU/8AjldFL4Z+n6o4MV8dH/F/7bI9AooornO8KKwfEXjbQvCckKaxrFnpbTZMS3Uyx7wMZxk9sj86xr/4weEtP0y01Btdtrizur2PToprZvNU3EhAVMr0JyPzqHUhHdnRDDV6iThBtPbRnb0VXkukijMruEiUFizHgDrmsPwb4+0L4gabLf8Ah/VIdTs453t2lhOQHVtrDn0Ip8yva+pmqdRwc1F2W76eX3nSUVxXxD+L3hP4VLYt4p1mLSlvmZLfejsZGUZIAUE9KyPB/wC0V4B8ea9Bo2h+II77UZwxjhWCVSdoyeWUDoPWpdSClyuSudMcDip0vbxpScO9nb79j0yiuZ1z4ieGfDV8LLVdfsNOu9obybi4VGwehwT7Vz958evBFnry6K2vwvqL3tvYCGJWbE06hoVzjHzKwOenNDqQW7Jp4PE1VeFOTW+z27no1FMVsgc0+tDkCiiigAooooAKKKKACiiigAooooAKKKKACiiigAooooAKKKKACiiigAooooAKY33hT6a1AHA/DcFfF3j8f9ROI/nbx16BXn/w6J/4TL4gDH/MShP/AJLR137Z2nHWunEfxPkvyR5+B/gfOX/pTForN1zXbDw7p0l7qd9Bp9ohAae4cIgycAEk9yawIfiv4TurW+ntfEFheJZwNdTi2nWRkiXq2BziuNzjHdnrQoVaivCDa8kdjRWN4a8S2Pi7w/Yazpdx9p0++hW4gmwRuRgCpwR6GqWn/ELQNT8Wah4ZtdWt5tdsYkmuLJWO+NGztJ/KnzR013F7KpeS5XeO/l017anTUVg+LfGWk+BfDt5rmu3yafpdou+a5kB2oCcds153a/tafCu6mjii8WRu8jBVAtpuSeB/BUSqwg7Skk/U6aGBxeKg6lCjKUe6i2vwPYqKxNc8YaN4ZtYbnVtUtdNt5jiOS6lEYY4zgZPXFcvrnx38DaDFbPc+JbNluYZ54WgYyiRIQDKQVyPlDLke9U5wjuzKnha9a3s4N37JnodFZ3h3W7TxJoljq1hN9osL6FLm3lwRujdQynB9iK0aswlFxbjJWaCiiigkKKKKACiiigAooooAKKKKACiiigBGrz/wwuPi54vPrbWp/wDHK79q4Pw3/wAla8Wf9e1r/wCgmuijtP0/VHBivjo/4v8A22R31FFFc53nkH7QHiXwH4V0MX/izRdJ17VAGh0vT7yziubieVsYSJGBPJC5x6c14BrXwxuvhj8E/AUWpW0Njq+reOLHVb20t0CR28ktyGESqOAEXauB/dr691DwHoWreKLHxBeaTaXWsWKNHbXkqbpIlbqFPauO+PHwx1X4maX4ZttKltoX03XbPU5vtLsoMcUgZguActgcV52IoSkpT620sfYZVmlPD+xw92o815tvTROyXZa3fVv018c/a41bW9M1XTDdNdQeEpIhG8Nvrq2KXrnlkcAb8ADsRkGvFPhz8QI/EHi/Sv8AhXfh4+DdRmmWE6PYeIViivvK4+eFwVJKr98AE5znNfV/7Snwa8T/ABY0/wAOxeHtQtrM6fctNcxXM0kSzoUICkoM9efwrzz4b/st+LfDHxE8P6/qcOhyxabceZvjvrmWRFPDFA4xnHrXFiKNWWIvFOx9VlmZYCllPLVnFVEpaXavvvG6Um9PwsYf7aFveeLtS8ORDRtehfQS1xJe21jM9rIZExtE0bKQRznBFeX/ALN+uaz4d8Zafr8/h/xBetbmSOe1sI768AVsqDl5mTpg8rxmvrv9oT4I6l8Wl8O3Om31ms2i3L3H9m6pE0lneblK4kCsDkdQee9cj8Nf2cPEWi/E7SfFmqjw5oEemxSxix8MwSILveuP3rMcYHUDbTqYao8Tz26rUnA53g6eRvCVJpPlkuW789PPmb3V0vkYf7Y1x4Y8QWdn4StdDsb7xtrioZb2PTkuL3T7GM75ZidpcYA2gdy3Ga+bfCYtV+MFrHZanf6vaReNtAiiu9TtDa3DqsSKA0ZRduANo+UcAGv0ht/BOj2viO61+LTLZdauolhmvdn7x0XopPp/gK+efFX7LPiTVvjNc+L7S901bCfxNpmsmGR3V1hto1RwAFI3EqcDp7inisLOU1UWuvTtr/wDDIc8wlDDywc24pResnvJuOi00SS01tpd6vT6ijXAH0qSmqMAU6vcPy4KKKKACiiigAooooAKKKKACiiigAooooAKKKKACiiigAooooAKKKKACiiigApp64p1NP3hQBwnw/b/AIrbx+O4v7f/ANJo67w9K4LwDj/hPPiBj/n+tz/5LR13p5FdOI+P5L8kcGB/hP8AxT/9KZy/xCn8L2fhe8n8YLpjaDEvmTjVkR4PlORkOME5Ax74r5f8GeD7LxDpfxU+J9h4ftfDWhX+iy6ZodnbWa2vm2yKzPOyKB99tuDjotfVfi7wTovjrTlsNe0221WzWRZlguU3KHU5U4qv448MS6/4D1jQtPWGGW7spLWEOdqIWUgZwOB+FeXWoupLmfT87H2OXZjHB0/ZQbUptXd/dUU09F3dtW9ltufOd1eeIbH9kHwLNoLz2iR6VaveX1vfpZyQQiJSSGYHOenAyOtfOUfxH8Nrc/ZdO8PHRPENoRMfFcXidlup3k4YPM2RL90ZVsgdgM19rTfB7xD/AMMy2vw/ttQt7PxDDo8VgLyORvKSRUALBsZxx6V4U37Gvju6s0tb4aDexYUSedqV2Q+CDkjHqM15WIo1rw5E9l8j77J8yy+Ea/t6kV+8k1q02m73eqUlrZJ6HbfF1/EWufsxQ+G9e0fWrvWNYt/JkudNi/tEoqsGWWQxgD5lAPHrXyf4Xs9a/wCEmFqmm61KLR4mtxCdRkllI5YGIXHy4wOvXNfon8RPhjefEL4O3fg7+0zot5dWEdsbq0yyxsFGQBkEoSMYyCQa8Gm/ZJ8Wa1b2Om3Nv4L0C2t5opDq+jWcwvgEYHKZYBScdST1p4rDVJzi0r6L+v8AhzHIs7wmHwtWnUkoc0pO3a9veXfRWsm2ekfFD4keFYfgzD4n8V+F0u7lgy6boevacj3Mt3koiLE6kgsQOg6HNfDWpeG08G3Gh6M+pajLqUei61Nf6bdaeba3sp3iQskDbF8xTjBILAbR61+nOp+BtI1y60m61Swg1C70t/Ms5rhdzRPjG4e9eP8A7RX7Pet/FrxBoupaTc2NqLDS9RsmS4Zl3vcIiochTwNpzW2Mws6seZatWX+Z5/DeeYXA1PYTvCMnJtt6LSXKkrN211ejbeuh6L8A/wDkifgP/sBWX/ohK72uY+GPhm68G/Dvw1oV68cl5pum29pM0JJQvHGqsVJAOMg9q6evWppqCTPz/FyU8RUlHZyf5hRRRVnKFFFFABRRRQAUUUUAFFFFABRRRQAhrgvDf/JWvFn/AF7Wv/oJrvGrgfDhP/C4PFg7fZLX/wBBNdFHafp+qODFfHR/xf8Atsj0Ciiiuc7wooooAKKKKACiiigAooooAKKKKACiiigAooooAKKKKACiiigAooooAKKKKACiiigAooooAKKKKACiiigAooooAKafvfhTqa1AHA+A12/ELx/73Vqf/JaOvQK8/wDBKlfiV4+BPBntD/5LR16BXRiPjXpH8kcGC/hP/FP/ANKYUUUVzneFFFFABRRRQAUUUUAFFFFABRRRQAUUUUAFFFFABRRRQAUUlIzH/IoAdRTd34Um7IoAVq4Pw+m34weKT/es7U/oa7O8mljt5TEFMoU7Ax4JxxXgnhH4pX2qfFO6tYdNC65dLBbXsDkhLZYi3mvnHIIHy+u4V3YelKcajj2/VHjY/E06NSjGb1cvv0a/VH0NRUUcjMvOKcrHHNcJ7I+im7qVc0ALRRRQAUUUUAFFFFABRRRQAUUUUAFFFFABRRRQAUUUUAFFFFABRRRQAUUUUAFFFFABRRRQAUUUUAFFFFABTW6U6mt92gDgvBv/ACU/x6Mf8tbQ/wDksld/XBeEWH/C0PHS553Wh/8AJdK72umv8S9I/kjgwf8ADl/in/6UwooormO8KKKKACiiigAooooAKKKKACiiigAooooAKKSjcB1OKAE3fNj2zR5gryH4rftKeGvhzcNptqZPEPiJhhNL0/5ip9ZG6IPzPtXjqJ8YP2gpCbm5bw7oTsQbHTpDEhXusk+Mk/7isD7V1ww0pLmm+VeZ5VbMKcJ+zpJzl2X6vZH0B45+PngT4d7o9a8Q2kV0vH2SF/Nn/wC+Fyf0ryXWv2xZ72TyvDHgu+uPM/1N5q8gs4ZfTbuwT9K3/Af7Ivhvwr5VxeO13eryWhGwn2ZySzfgR9K9e0HwRoXhmJ00vSLWz3nLGOMZY+pPUmtL4anpFOT+5GPLmFfWUlTXlqz5tXx78fPGkZNlZ2fh4N90QabJJkezyDYfwNNj+Evxu8RMTrHjHVLYN1NrcW9sP/IYOK+sAgXAAA+lG0+lL604/BBIr+zVL+JVk/nY+Vf+GV/G14p+0/ELXSx/56a1MR/46oqFP2N/EMMv2iPxpeRXbcSXMd/Ossg7Bnxkjgda+sVz6Uc+lNY2stn+CE8nwcrc0W7ebPlVv2YfHtjza/ELxASOy61Jj/x5Krt8Pvj14ZctpXiy+uI173X2a6z+DYJ/KvrKk2+1L65N/Ek/kH9lUI/BKUfSTPlJvi58b/BbAapomn65Av8ArJprSWzx/wBtDiPP41vaH+2hpcI/4qjwxqmiQqcPqEC/arXPs6A19HNCsgw6Bl9GGa5vxB8N/DviSbz73SLaS5C7VuFTbIv0Yc0e2oz+On9wfVMVS1o1m/KWv/BIfBfxY8JfEKASeH9ds9SbGTDFKPNX/eT7w/EV1fmDtz+NfOPjP9jrSb+T7doF09jfq3mKzMYpS3bEyDjHurVyVv48+LnwJuktdcgfxfoysRtuj5dztHeOUZVwOwbDHHQU/q9Op/Clr2YfXq2H0xdOy/mjqvu3X4n15up1ed/C745eFvitak6VemDUYx++028Hl3ER9Cvf8M16FuHTPNccoSg7SVj1aVWFaPPTd0OopKWoNQooooAKKKKACiiigAooooAKKKKACiiigAooooAKKKKACiikoAWik3Ck3qBknAoAWjdXO6/8RfDHhaJpNW1/T7BV6+dcKD+Wc15rrH7X3w30zeLXUrrWnU426baPJn8TgfrWsKNSfwxbOSpi6FH+JNL5nte4UbgK+arr9sr7Zk6H4D1q+X+Frxo7YH82NYdx+1N8Rr5ttj8PrSy9Gnv2m/RI66PqdbqrfM4pZthVtJv0T/yPrHcKgvrxbO0mmKNII0LlYxliAM8D1r5Uj+MHx31TBtNI0C3B6B7W7b9fLqdfFv7ReocC20OMHjKWEv8AXFP6pJfFJfeT/akH8NOT/wC3f+CeieDfiRo1x8Rtaubd5J/7aks47WONcvn7OC24dtoBz6Yr2ZZA3tXxToPgf40eF/FF54g0/S9Lj1O53mV3tXMfzHJKL/Dmurfx3+0Ra/fstAIH9+xuP/ZQa68ThoSkvZSVrLr20PNwGOrUacliKcr3b0Xdtn1Zuo3jtzXyW3x3+NOj83/h7RbwDqI4rqP9THirln+1n44t+L/4apKB1e31RVP4KyA1yfU6nSz+Z6azbD9br/t1/ofVAbPtSht1fONn+2ho1uwj1vwn4h0x+7RW6ToPxDj+VdloX7VHw01qRYv+EkjsJ2xiG+ieE/mRj9azlha0d4/qdEMwwtTaovnp+Z67RWZpXibSNciWTT9TtL1GGQbeZX/ka0fMU965mmtGegpKSumOopMijcKQxaKKKACiiigAooooAguLhLWJ5ZHCRoCzMxwAB3r5V+JHx41/4s61N4R+GjzRaf5jQXGuW67pJ2/iS39Pd+gHOQME2P2ifiRqHj/xYnww8LySeTlRrFxbnDtu+7boemSAST0x9CK9o+Efwl074X6DBBBFEb9ows0qDhe+xM87QfxJyTya9CMY4eCqVF7z2R4VWpUx1V0KLtCOkn+i/U4v4S/sw6J4Lthc6tEuoahJ80kchMils5zIx5kOcdfl4yFBzXuEMKwIqIqoijAVRgAemKkpa46lSdR3kz1aOHp4eChTVgooorM6AoprZxxXxVaft0/E7xd498ceHvAfwKn8YW/hXV59Jub6HXY4dzRuyglXj4yFzgE9etAH2vRXyH8MP20vG3iX9oHR/hV45+EkngPU9SspL+OWbWEuj5a9DtRMckEfe7V9aXN/b2MLS3EyQRIMtJKwVQPUk0AWKK+HPGf/AAUEh0f9qjTfDmn3Vrc/CSALY6x4iS1Z4re/cOUTzwdu35Rnj1r7W03WLHWbWO6sLuG8tpFDJNBIHVge4INAF2ikpaAEaqmoaba6rayW17bx3VtINrwzIHRh6EHrVyigTV9z5q+Lf7L0c1wNf8H3Fxp+r2x8yL7PKVnQgfwPnLD/AGXJ44Ur3m+C/wC0Zd3GrweDfHwSz18t5VpqW3ZFfYONpHG2TsVOOeMA8V9HV4p+0B8CbL4iaLc39nb7NXjG8+TgPJgcFf8ApoO3TPQkDkd9OtGovZ1tu/VHiV8LLDyeIwm/WPRntUZ3LkU6vn/9mX4wXniaC58H+JZd/ibSVBS4bI+22/QSjPORxnPPI969+WuWpTlSlyyPTw+IjiaaqQ6jqKKKyOkKKKKAENRfaY/OEW9fMxnbnnHriuQ+L2tW+g+A9Tubr+1fJMflk6Jj7YCxABjyRzk18V/8Kt+IVx4pX4hrfeJP7Hjj+xLpL+IoxrbW33vMDbdg5J/d7vxzXHXxHsWko3PpsqyaOY05VKlZU0tFdbvtuj9CaK8Vtdfg1f8AZ31OXTk1a7kXTbiCGLxER9snkCMAsmG5JPoea+Bf7Kk1lToU+l3Wma9LaCeWGz0ZzLApJG5WN1yAQRnHbpWVbGex5bRvc9DKuGXmXteeryezlb4bv1tdf11P1korwf4k6ra2/wCy7c2K6ilrfXmiC0tPtsyQSPN5YwhJbCvweM8YNfAOiwEX0WkzeS2o20Eckwa0t2XnjPmG/Cscg9OfYVFfGui4pQvfzNMp4Y/tOlUqyrcnJJr4W7pdd9v6ufrrSM4RSxICgZJNeUa1/Yfjr4T2l8vie/0PSbGL7RLfaJerEyCNCGRnG4YHORk8ivh258TeM9Qt/B0mtanLqGjXl/q1zplzd6k018bcwqiJLHtG0YTcDk53ngVpWxao2929zkyvh6WZc69ryuDaaa8m9Nr7bdD9NoZluI1kjZXRhkMpyDUteRfsnyNJ+zj8PmZizHSLfJY5J+QV65XZTn7SCn3R83jKH1XE1MPe/K2r+jsLRRVDXNasfD+mzX+pXUdlZQKXkmmYKqge5rTfRHG2oq7LzfdrjPiB8XvCfwxtfO8Ra1bWLEZS3Lbpn/3Yx8x/AV4B4u/aG8V/FbVG0T4Z2s1lpbsUOtSRbp5/XyIzjA/2mIHqQcVvfD39km1t7oaz4qvZb7VpGEjsZTJMW9TKemfRRxj7xrvWHhTXNXlbyW//AADxZY6piHyYON/7z2/4Jna7+1l4i8TTG08C+D5CZP8AVXmsZUyqf444R8z/AIZrOX4X/Gb4nSGTxF4p1DT7Fx8sVky2CAf3SqjzCPqBX034d8I6R4Xt2h0uwgtI2O5vLTBZvUnufetr+Gj6zGGlKCX4gsBUra4mq35LRf16nzZ4a/Yt0Cybz9TuhcXhPzyRp5wf/e8/zPzAFenaJ8BPBmgxBINNYj+JfPcI31jUhP0rxn4yftVfFP4Y/ER/D2l/BX+39OuJxBpmpSeIre1N+xA4SN1znJxiuZuv2zPjjY+ILHQ7z9nJrXVb35oLOTxXbCWVR1KrtyQPasZ4mtP4pHZTwGGpK0YI+tLHwP4d0vBtND063b+9HaIG/PFbEcCQrhEVB6KMCsSbWr+LwDNq1xafYNTTTmuntXYP5MojLFCR1weM98V8N/BD/go9418SeBxea38J/EPie++1TRnUPD9qi2jqrYAUM+cjvXPd9TsjCMdkfoGFA5xRXx5+yv8Atf8Ai74+ftLePvCOreHm8MaBo+lQ3tppt9AEvopGMYbzSGIIO4kY7EVu/wDBQL9o7xf+zd8PvDmr+D205L7UtWSxkfUrdpo1QoxztU56gdM/SkVZH1PxSMK/LL/hu7489P8AhL/h+f8AuX9W/wDjFfoH8D/F/iPxZ8EtB8Q6+9jqniC7sWuZDpkckMEz/NtCLIoZc8D5gKBnpG0d6jmsLa6BWeCOZfSRAw/Wvh7x7+318UPhLdaI3jv4DN4V0zVtQj06C/u/EcTJuY9SFjPAGTXD+Ov2/fHn2D403Xh680WWx8K+I9J07SLqCDzVkt7nz/M3Nuw5/dLgjHegVk9z77vvhv4Xv2Yy6BYCQ/8ALWK3WN/++lAP61x3iD9mvwVr6sWs5Ipz/wAtZG+0n8BNvA/AVx/7THxi8YfDX4beGNY8L6t4R0nUb90E8vi65eC3YGLcRGUBJbPb0r54+FP7cnxR1z9ob4f+A/EF/wCANc0zxJPNHNP4UuZbh4AkZb5iwG0k4xwc4NaxqTjsznnhqNTScE/ke06x+xhbWV2brwzrE2lXH3jNBPLbzk+xQ7B/3xWX5Px1+E+9ob+XxFp0Z+W11K3FzuHqZohuH1bFcz8K/wBubU5P2ovHnw38W2Go6laRa3FpeiyaPpm+O2DPs3XMm7hckc46A19vcOvTj3rpWLm9JpSR57yqjF81FuD8mfNvhn9siwtykHjXQbrw6c7G1G2zc2Zf0DrnH64r3vwz4s0fxhpsd/ompW2p2bdJrWQOv0yO9ZXir4XeHfGIdr/T4xcshj+1QfJKFPbcO3seK+e/FX7NHiD4calJr3w81WexmXBKWnyllHO14fuuO5IIIxwpzTth63w+6/wI58bhdZr2kV2+L/gn1iKWvnL4U/tQNe6lB4c+INpHoWtu3lwX6E/ZLs5xjJwY2z/C36dK+iIXEm0qcgjI965atKVF2melh8TTxMeam/XyJaKKKyOoKKKKAPmb9kXwFKlje+K9WV5NTupWdnl5Yyvh5G9wAY1HoQ+Opr6XUDaK4X4J24tvhhoOMZkhMjN6lmY13Y6CujETdSo5HBgaKo4eMV6/eLRRRXOd4UUUUANfp1xX5neJn+Pf7Ct58Z/iLpvhbwtqvg7XPEM2rPPqN2zzqks5WPCRyKed65BFfoT8TvBt74/8E6loWn+Ib/wrd3ahU1bTDi4gwwOV59sfjXy14w/4J4634/8AD91oXiT4+eN9a0i62+dZ3m145MMGGQW7EA/hQBy/wW+HHxt+LH7UHgv44ePdA8P6Jo0WhtbRLo92XLRyDchKM7Nn5q7/APbcuP7eutD8NX3wj8e/ETR9n22SbwndzW8GSxUwTeXjdkDOD6iodL/YV8XaNZ2tnZ/tE+PbeztkWOKCNlCKi8BQN3TFfV+h6bJpOh6fYTXct/Na28cD3c/+smZVCl292IyfrQB+eVn+1d4W8J29v8Go/wBlLxJaDULczx+F5beMyXMY4MpRk3OePvHJ4616H+x7cQ+F/iVd6Vo3wK+IXw60rVYnaS4168nl020KAsFSNyQhY8ceoHSuq8cfBTxbq37fvgn4i2umeZ4S07QZbO5vvMUbJSWwu3O49R2r6uxigAXoKWiigAooooAKayginUUAfIf7QmiyfCL4paF490pVgWOfz5wowGhZ1SdW9RmRGUdiXNfWGnX8Wo2NvdwvvhnjWVG9VYAg/kRXjn7WmjQ6x8NQkqg4lf8AS3mIH/fQU/hXj9p+1Te6P8NfDehaPabNUhsIree+uhlUIUD5VH3uAOT+texDDVMbTh7NarRnydbHYfKMRV9s7RlZpee1l6n2YrZOKfXzV8M/j1oXhHRHi1vW9Y13UJ5TNJLJanahI+6uW6V2P/DVfgr+5qf/AIC//XrCpl+IhJxUG/kd9HOsFUpqU6ii30b2PZKK8c/4aq8Ff3dT/wDAX/69PH7U3ggjO7UB/wBup/xrP6lif+fbNv7XwH/P6P3nfeOPAWh/ETSV0vX7L7fZLIJRF5rx/MAQDlCD3NfNl3+zF4YX9pWwsI/C95/whreHDLIwnuDb/a/Pccyb/vbQvy56dq9V/wCGpfBH9/UP/AU/400ftSeCAc77/P8A16H/ABrmq5XVqtOVLbyPYwXFlLAxlClibJpq3M1a+l15lT4k/Arw5pvwa1vR9A8PPcNbpJf2Vkk00ha6EbKp+8Sx5xjpXhnhfwf4Hj0PTX1z4F+M5ddFsiXdxDZ3QDSY+bb8/TOeK9//AOGpPBH9/UP/AAFP+NJ/w1F4J/56ah/4CH/Gs6mUVpu6p2+SO3C8Z4fD0pUp1+a7vfnkn+BDq3wt0qL4IXdj4T8JWa372rXmnaXr1uLjybp1/iWbdtcZI54zXytJ8HNa/s2JtJ8D+KD44wuf7Q0DThpfm/xZPkBfL69DnFfV/wDw1F4I2436h/4CH/Gk/wCGovBG3G+//wDAQ/40quT1qrT5GrLsa4DjihgVP95GXM+bVtv0b6oteJ/gbpvjjwHo3hq6I8P6XHNHc3+maHGlvb3bDlomAX7hbk4wTivHf2lfgLBb+KPBmp+DPCLtKovRqE+nW7Nhfs6LEHx06ECvWR+1F4I/56ah/wCAh/xpG/al8Dbv9bf/APgKf8auplFWpFr2bv3t2OPBcZU8FWjUWITS5tL2T5k0723369kaH7Mek3uh/APwLYahaTWF5b6VBHNbXCFJI2CDKsp5BHvXqVeOr+1N4GUY82+/8BT/AI07/hqjwN/z0v8A/wABT/jXRDAYiEVFU3p5HlYrPsDiq868qsU5Nvfu7nrs0ywozMwUKMkk9q+O/Fuuax+1R8RzoWmuU8FaZOyLHyEupExvllxjKLkALkFs8fxEeifEL9pDwhr3g3WdOs77UbSe6tnhE0dpll3DBxlgM4Jxkitn9lnwfYeHfh/59qDJ5z+WkrgbjGg6cE/xmRuv8ZrqhTnhYOpUjZ7K55NTEUszqxw9GonDeVn9yPQvAvw90jwDpUdnp1uu/aBLcsoDykeuAAB6KMAdAAK6jaB2oxS15spOTuz6GEI04qMFZIShvumlqK6hNxbSxK5jLoVDr1XI6ipLPzT/AOCgHiv4sWvxw+FFz/whOmDS9P8AFsEXhy6+3rv1KdiNscq7sxgkdTiuY8ffEH476t+3J8P7rUvhpotv440/RpZbLRU1VWglgZmDSNLvwCMHjPavoXxh/wAE59T8eXml3Ov/AB18aapJpV4t/p5ugrm1nU5WRPm4YetRXn/BOHUtQ8aWni65+OvjSbxNaW5tYNVYKZ44iSSgbdwMk8e9AHuXxj+KXiP4f/CXT9Qm+Her+L9V1GBbfUtH8OkSPal4iZW3YPyqcjP0r8sPFfwj1/VdF01vhZ8JfjDolv8Ab/Nu838skEkWSZFjEYAVye/tX6zeEPhbq/gn4N6l4VuvFWpeNdVe1u0TVdXI8+RpA+1Sc9BuAHsK+QvgHov7WH7Pvw7t/BulfDjw7rFla3E0yXd3rJV23uWwQFPTNAGL+zLJN8DviZPrGi/s9/Foalr6xaZeanr0xuFiiMi/vGLJnC4B69BXaft5f8JH8UMeG9Q+FPii98OaHdR6hb+I9I1OG1BfZ1y6naFLEfUV7r8BvGXx28Q+KrqD4neB9F8NaMtsXhudN1A3DtNuACkbRgYyfwrm/wBvv4F+Mfjp8M9IsvCBhvZdM1KO+utDubhoI9SiUEGIsOh578cnnpQB+ZGg3Hie98fanbyeIfHd/pEiIlhpln8QoftscmBu3tuIbJzgBQeRX6a/sk+NPFGgeB5tB8Y+DfEXhXRNDtfPTX/FmppdS3KkktvkwOg7ntXzB4r+Dfinxb4TvvDmmfsW6J4a1S6t2t4tbOtQYtHI2iYFV3Eqfm7ZxX3J+zd8J9V+HP7PvhrwR4yvIte1C1sjb3rMTJGwYn93lhllCnbyO1AHxL8VfF2pftofGA+KPDvga8+Ivwn+Hspt4NNgbYmt3rna7qzcbUzn3VP9qvm/ULdbXwP+0dCvhc+ClTxf4fA8Pkg/Yf8Aj7/d8ccf1r9q/BvgfQvh7oMGieHNKtdG0mDJis7OMJGmSScAepJP41+fvxp/Yv8AiXq0vx4vtMsLTUh4z8VaTqmmQW9yBJ5EHn+YX3ABSPMXgE0Aex/tm/s6eKf2iPhT8OLXwsNJa40K8t9Tmi1liLeVFhHysO4J4I9M18dR/HJPhL44thHcfAnQta02bH2/RdOlmkhP3WxJHkA4yOvev1M8T+C5/GHwf1Lwo15JpdxqWiSaabqHl7dngMe8c9VJz+FfD3wr+Hfx2/Zu8It4Es/gX4R8fW0DOqeIIdTSA3KseGlV4yzN69KAKf7J3wd8RfFD9oDxz8VND8fy6f4SutbgvVXQbmKW31YKwZ4pgCWQdtpwcNX6QL93FfJ/7Dv7Nvi34N6j458VeMI9L0bUPFl2LlfDmiMxtLBQScAkAbuecDHvX1lQAU0qG6inUUAeT/Gr4E6R8TdJuGS1hi1QrkNjasxA4DHs3o45HuMg+d/s3/FTU9B8RSfDPxZPLLfQKx0u8uPvyIhw0L/7a/ngHqMGvpph3r5L/at0z/hEvHnhPxTYN5V8LyKfKjGArrHJj/fEqZ/3BXo4eXtk6E9uh4OOprCyWNpaNaPzR9ZqxOKfUFvJ5kcbAcMob86nrzrWPe3CiiigDzf4A6zBq/wv0tYJVm+y7oGZTnn7w/8AHWU/jXo9fIn7PXim5+D/AMQNW+H2vHyVhkEUcjDCvGSfJlB7g5KMe2Ix619dKwKjnPFdWJp8lRvo9Uebl9f21BX+KOj9UOrzL4pfETU9J8V+FfBvhmOGXxFrkzSvJcAtHaWcXzTTMARkkDYvP3mXtkV6ZXgXi+N9A/bC8EaxeN5em6r4du9HtpH+79qWXz9mexZFbHriuU9I6bxX+1J8LPh/cXVn4i8b6TpV3Z3RsZ4rqcI6zBVZl2nngOpJ6DcK6TxJ8ZPBXhPwtYeI9U8S6da6JqAU2d4Z1KXW5dy+UQfnyvI2545r5N8JePvh14H+K37Rf/CWW6rqd7rLxRu2nSTtcx/ZYx5KsqMCct93OfmzWZ8M/Eni34GfAL4NeGNaDeE7HWLm/lvNavdOa9OmQM8s1tB5Y+67IyICeF9DigD67t/jx4CvPAEnja38TWM/heOQRSalHIGjRywXaxHRskAg8jNV7f8AaI+HF14c1jX4vGGlSaNpF59gvL5blTDHcEgCLdnBYlgMDucV8NzeXq37OXx60TdfalcXHjCG+Vbqxe3kuLaaS2CS+XtGA2x+g7V9T/tEeMJ/gv4N8Iad4bsrTQ9HvdRh0661X+zjdQ6TbheJDCnXoFBPAzk0Aek+G/jf4H8X+EdT8TaR4is77RdLLi9uYZARbFBlg46qQOcGsPT/ANqf4T6nrT6Vb+PtCa/Sy/tB4WvUUpAI/MLnJ4wnzEHkDk18q+DNSiu9O/afskv73V5NV0qG+sbm4097X7bCIJEaSNNgGN2B69OvWug174R+HX8J/snaX/wjVubEXNtNdQC343mw3s0nHd+TnqaAPqn4d/GrwP8AFfSb7VPCfiTT9csbFzHdTWkwYQkAn5vQYBOT6VU8G/H34f8AxD1a80zw34r03V7+1RpJILW4V2KKSGdcH5lBBG4ZFfMvjnwHreteLf2p9E8JWrWd/qHh7RVslhXYssgW73qp4BJUbfxFU/2cLTQ/EniL4W3l58QtQk8Q+H7N7WLwvJ4da0e2Y2xilhlkUY2rg4JOCVBHWgD334M/tXeCvjVrmv6VpN08F9pV5cW5imz+9ii2gzA44Ulxwea6vwj8fPh7488SXGgeH/Fmmarq0IYm2trhXZgpIcpg/NtIIOM4xzXzV4HjmuPCv7RHw705pNN8e3+sate2FvJA8bSQypGI5EfG0qTxwe9cv+zZpWka1J8JYdZ8f6ja+JfC4W3TwnL4da3lguBCYpYpJQOU6/OThuvXigD6wufj94G1LXj4U03xdpi+LLi6uNNtbFpA0v2qJMuDHnJC5BPb3qX4J/Em6+IWhajb6vBHaeJdBvn0vVoISfL89AGDpnna6MkgB6BwO1eZ/sl+E7Cx1z4x61LpcUOqXPja/VrySHEjxKE2fMR90bmx25NaP7N9u+rfFT42+K7fjRtU8Qw29my/dlNtZwQTOP8AtpG6/wDAKAPoOkzS1XvLuGxtZbieVIYYlLu7nCqo5JJpiPBP2yPE40jwFFZxHN3IXlVO7KUMJA990yVd0z9nHw/4m+Fvhqyv7U2GtW2nQr9uthslV9gJ3dmwT39K8uv5p/2kPj/Z2MSSHw5o8i3t22flVEJ8mPHZmZizD0wP4a+w4kEfA6DgCvSnUnhYQhB2luz5ynQpZlVq1K0eaHwq/wCLOB+GPw71Dwtoklj4iuLLW5Y5T5FwLZQ3l44DHHJrsv7A0z/oHWv/AH4T/CtCiuGdWdSTk3ue1RwtKhTVOC0XfUz/AOwNM/6B1r/34T/Ck/sHTf8AoHWv/fhP8K0aTNRzS7m3s4fyoz/7B03/AKB1r/35T/Cj+wdN/wCgda/9+E/wrQ3D1o3D1p88u4ezh/KjP/sHTf8AoHWv/flP8KP7B03/AKB1r/35T/CrNnqFrqERltbmG5jDFC8Mgcbh1GR3FSSXEUK7pJFRfVmAFLne9x+yje3LqUv7B03/AKB1r/34X/Cj+wdN/wCgda/9+E/wpdQ1yw0pYGu7yC2W4lEMTSyBRI56KuepPpV9elHO+43RildxM86Dpv8A0DrUf9sF/wAKj/4RrSWbJ0yzJ/690/wrSkkWNcswUepNUbfxBp15fXNnDfW8t1bbfPhSVS8eRkbhnjNPnl3EqEZaqH4DP+EY0j/oF2f/AIDp/hR/wjOkf9Auy/8AAdP8KtXmq2WnBTdXcFsG+750ipn6ZNVZPFGkR2dxdHU7P7Pbrvml89Ssa+rHPA+tL2j7jWFi1dU9PQ5T4pfDey8WfD/XdKsbC1gvp7Vvs8iQopEoG5Ocf3gK8u/ZB+JH9oeGX8M6pMF1SzkkVY2VUKshAkiCgAfKcN06SD0NfRMFxHd26TwyLJFIu5HQ5DAjgg18z/Hb4M6t4d8St8Q/Asckl0WWXU9Lt22PMV6TRHGBIAT25z3yQeyjJVIujN77ep42MpSw1WOKpR+HRpdv+AfTqsG6U6vEPg3+0lo/jyyhttTuEstTX92zyL5auw4wyn/Vv/snj0Zq9sjkEihgQVPII6VyzpypvlmtT06FeniIKdN3Q+ikyKM1mdAV88/Dz9oDU/iF8UvHmoiex0j4TeDRJps+qXLAG8vlw0r7zwscS7R7l/y+hXUspAODivz/APgfp/hyH9k343eA/H11daYNN8Q6jFrLWkZe5ijlMbRzhRywPb12mgD6c8OftffCTxnpfiW+0Dxpp2rw+HrOS/1D7NJuMUK9X91zxketcx8B/wBur4YfG7wpqesRaxb6DJpcUl1f2moXCg2sCvtErvwoU8H8a8H/AGNfHWpXHjXX/hlZatpXxJ8H2Phz/QfFVjpb2csajCpaz7lAY4xwCen1xxPwh+OmlfC79iXxLo2laTa6v470i8uY9Q0e+sHb7PE9zjzZVK/Oigg4BoA+4PBX7Vfwp+JGm6/e+GvGmmatDoVrJe6h9nlBaCBAWaQr12gA89K8e8L/APBQjwh8VPhT4w1rwldafp3inRLee5TTNcmPl+VG6IJpGTGEbeOhzXhX7NvjTR7r9tSxubvxnaeL11zws1kt/Z6E+nWktxkMbdFIIfaoI3H0xWF8PfEfh6w/Yd+OHgSbba+O7G41KefTJLZ0nWAzxYbO3G3JHegD7s1z9pvwJ8M/AfhXW/iD4q0fQLnW7CC6RPP+WVnjDMYgSWZMk4PPGK5L4yft1fDb4QaT4H1WbUI9X03xZMPsl1aSgIlv0a4JxyikgEDnmvmj46w+GdG0P4N+K4vHqeBviLovgm1awj1XTJLvT9QgMAzC21TtYnI6ZwenSrPxi8cXnjL9m/8AZ/8AiJ4r8NJocFl4ptZ9TjtrRvKggHmjzQm3cqNjdjHce1AH1R4X/aHi8cfGnQdB8P6loeo+EdW0BtXgmWR/t0jByoZVzt8vj0zmtHUv2wPg5pXjhPCFx4+0ceIGmFt9jS4DESk4CEjgNnsa+etW1S28eftpaXqPgi5jmtNR+G94NMvIEKR7y7hGGQMfNXIfsa/Ev4R/DX4TxeB/HOmLY/EaPWZI9Q0u90ySS6ubky/u5VOwgjGMEkYx2oA+v739qr4UWPxFi8ByeN9J/wCErluFs101bgNJ57EARHHR8nG085rn/hr8Ztej+PHiz4VeM1tzqkMP9s6HfW67Vu9OZ9u1h/fjYqD67hXxlD41034K/tASN8LvENv41tvEnjQjWPBGqaRKL6yuHnxLNDOVxtVssCSABjrX0L4iRvGn/BRbwg2lOD/wjPhW5l1eSM5CedJGI4WP944LYPYUAfYCgYFLSCloAKSjNVtQ1C2021kubueO2gjGWkkYKBQK6SuywzAdTivj/wCMerH40fHDw14S0t/Otre6SaSSPkJBES0rk/3XbYAfVPcVv/Gb9omfXLseE/A9tNqmo3n7pVtwRJNnI6/8s4/VjgnnAA+au+/Z9+B6/DHT59T1Z473xXqahry4UfLEo6RR+ij6DOB6CvSpw+rR9rU3ey/U8DEVP7QmsNS+BfE/0XqewxLsUDGB0FSU0CnV5p9AFFFFAHiP7RnwPk+Ilhb67oPl2/i7S1Y27so23MZ+9C+eCD2z6n1rnvgH+0HHqcf/AAjnicvp2q2bi2ZbskSQuDtEcueevCueuQD8x5+jtoPavGvjT+ztp3xLk/tjTJ/7D8VQoVi1CNQVlGMbJV/iUjj6Hv0rupVYzj7Ktt0fY8fEYarTqPE4X4uq6P8A4P5nscbB1yORWJ4w8E6R460+Cz1e1FwlvcR3UDhmR4ZUYMjoykFSCB0Pt0r5g8LfHLxd8E9Ui8O+P9Okit1+SGcsWgkGesMvbj+B8AcncOBX0n4P+JGg+NbZJdOv43kYc28h2yD8O/1GR71lVoTp67rudGGx1LEe6tJdnozJ8B/B3TfAniDxhq0NxLfS+JNTGpzJcqpEL+WseE46YQdcmu5mtI7hdssaSLnO1lBFS7hTq5j0Cs2nwPu3RRsWADbkBzjpmny2sc8ZjkRZEPVWGQfwqaigCs2nwNz5UeSNp+Ufd9PpTjZxHy8xofL+58o+X6elT0UAQraxpI0ioqyNjcwXk4zjn8T+dJHZQxStKkUayt1kVQGP1NT0UAQfY4vtBn8tPOxt37Rux6ZpFsoVnMwijWU8FwoBP41YprUAU7vSYbyyubVhsiuUZJPLJRiGGCcjBB9xzVbwv4V0vwXoFloujWkdjptnGI4oIxwB1JJ6kk5JJ5JJJrULhRnPFcJ48+NHhrwFayteXqT3CAn7PA6kjA/iJIVfxOfTNVGLm+WKuzOpUhSjzTdkdteXkNhbPPPIsUMalnkY4VQOSSfSvlX40fGfU/iNrkPgXwLAb67uj6ZDDP8ArZOwiA5AP3uCcqQGyb7xj8QP2mtSOn+GrY6d4dV/3upzBltYx6oCA0zehIAHoOtfQXwj+C+hfCPS5IrFWu9TuTvvNTuOZrh+pJPpntXeoQwnvVNZdv8AM8OVWrmL9nR92n1ltf0F+Cfwks/hJ4SSwjkN5qdw3n6hfScvcTHqSTzgdhXoi0i8CnVwzk5ycpbnt0qcKMFCCskFFFFQahXzt+2Vqk+m+GvCLDUtS0vTX8Q20epXGlzSRSi1OfMyYzuxjNfRNea/EPw78Q9a1pH8L+JdJ0fTBEFe3vtK+0uZMnLBt68YwMY7VhXi5U3Ffh/SPXymtHD4yFaUklHXW/byT1+R8tab4o8KXHxi+G0Xw68ZeJ9bSTVZItUhvdQu5YfLEMmAwkOPvYr3345/FLU9BvoPD+h+I/Cvh65u4ibjUNcvlSW0U8BkhJG446E8cVzfgL4C/FL4c2d/b6T470MJe301/KZtC3t5sjZbB83gZ7V7PqHw60TX7eG417RtM1fVhAsct3Larl2A5IznAznjPeuGhSqKEo7N/L/M+ozPHYF4qlUUvawgmlrdvW6crxitL6LXY+ZvhnrEHwHnh0rw38TPCni/wxeXAluodV1SKG7tpX/1ssbq2GUnLbSM+hra/aEuLWf4ueHZvGp1Sf4WPpDMjaW84ge+LnBlaEhiNmzbk4/Wun/Zx+A+m6F4Au4PFPhCxj1Q6teyRrdW8cjeSZSYzkZ429B2rr/Ffw38eaxrU0uifEGHQNHIVYNN/sOO48kBQMBzIM8gnpxmohRn7BK3ay7eVm/1NcRj8JDNJT59VzJzenNfTmThGVpedj5f262vw18FDUP7R/sP/hY8B0H+1t/2n7DmTy95f5unTNfeoPrXy/8AFH4N/EO4Hgw3HiSbxulp4ks7uWFLCK0W1iTfuk4c5xkDHvX1Co455rfC05U5SUvI8vPsVSxVOhOnJO7m3a+l2u6T131Wp47+0pr9jY+DbfT7vSbjV2vZwqW9tq/9mspAJDmUOpCg4zg96+TdJ+DS+CdYn8WXerad4nXUyGvPD2m+K7i2uLML9zZOZ8zEDrvJ9sV95+LPh74b8cLbjX9EstXFuT5X2uEPsz1xnpXhHw9/Zs0K1+M3xIuNY8D6f/wjdw1n/ZHnQI0XEZ83Yufl+brwM1licPKpUUrX7eXrpqelkebUMHgqtJzcbK8l/N7yVo+8rNb3ST03IPjxq3hvxr8KdBsE8NT654o1u2NroVijtM9tK6BWd5VOB5YyxJP8NeJzeFvEHhn4JeLvCVro9v4Y8QabpRi14zWskw1mPJMb28wbbnBbIwSD1r7b1zwOln8PdS8P+FY7fQZWspoLFreMKlvIykKwA6cnPFfIcn7P/iS58FxeHrf4RwWnjIYX/hNG1ZPll3c3G8fvDzzt298VjiaM+bm3bXn939eh6ORZhh3SdLm5Yxmpe813vd80kuVLouZ82t9EfY3wvjaP4c+GkcFWXToAVIwR+7HFdLIN2BWd4XsLvS/DunWd/c/bb2CBI5rjGPNcKAW/E81p17MNIpH5niJc9acl1b/M8S+LH7MWiePLqTWtGuG8M+JSP+Py1QeVP7TR/dcH8z3zXllv46+KXwAkEHifTJNR0KN8fb7ZGubXZ6tj54z+O0Y4WvsDaPSmyQpKpV0VlPUMMiu+niWo8lRcyPDrZfGUva0ZOE/LZ+q/4Y8c8BftQeEfGlujNcfY5MfMQwljQersPuD/AHwK9W0vWrHWrVbnT7uG9tm6TQSB1P4ivMvHH7MHgHxxcG6k0n+ytR3bxeaW3kSbvU44P4ivMdT/AGX/AB94Vu5b3wj40i1J2+6uro0cyjsBMhJP6VfJh6nwy5X2Zl7bHYfSpT513W/3H1UtcFH8E/DFv8Ubvx7b2rW+t31j9gv1jbEN6gYFGlj6My8gN1wxHpjwc/ED45fD2EJq/hi9vbeM/Nd2zJqAcey5Rx+JrQ0/9tNLMBdc0OTTCv32vEmgkP0QRsP/AB6k8HU+zZ+jGs1w60qXj6po+lNK8O6XoKSJpunWmnpIdzLawLEGPqQoGajTwpo8c13MulWKzXY23Ei2yBph6OcZb8a8m0P9rXwZraKUM8Y7sZYMfl5m79K6ez/aA8D3X/MZKMf4Wt5T+oUj9awlh6sd4s7I43DT2qL7zr7Xwfoti1qbfSLCA2ufs5jtkXyc9dmB8ufakm8HaJcT3U0ukWEs10uyeR7ZC0q+jnHzD2NZtv8AFXwndKDHrlrz/fJX+Yq2nj7w5IMjXLD8bhR/Ws+SXY3VanLaS+8tX3hPRdSgt4bzSLC7htwBDHPbI6xgdNoI4x7VavNGstQsTZXVpBcWbDabeWJWjI9CpGMVnf8ACd+Hf+g5p/8A4Ep/jUUnxD8NR53a5Y/hMD/Kjkl2K9pD+ZF+08M6Vp9xDPa6ZZ280MXkxSQ26KyR/wBxSBwvsOKbJ4V0eXUhqL6VYvqIGBdtbIZR/wADxn9awrv4weELIEya5Bgf3Fd//QVNYV5+0T4Jt87NVacjsImj/WTaKpUqj2izKWKoR3mvvO7j8L6RDqTajHpdimotwbtbdBKf+BYz+tc18Pfg34d+GupeItT0qB31XxBetfajf3LmSaZznau49EUEhVHAz7mvOde/bI8H6UxjjEnndvNkjZD+MTOf0rkL79r/AFvWv9H8OeGby6nbhJrGzluk/HeIsfrW0cJWl0t66HHPNMJDTnv6H1azbVyaxfEHjTRfC6qdU1K3s2f7kckgDv7KvUn2FfMrzftAfEjYsWmHw7bv1m1C9EKMPUxxAsPoSa19D/ZB1LVXlm8YeMrmaOf/AF+n6OnkRP8A7z5y34ir+r04fxZr5amX16tW0w9F+r0Rs+P/ANr7w94dk+yaXG13fNlUSZW37+w8kfvDz67R71wsPhL4t/H64jn1NpfCOhPgiW+TE5Gc4jg4C9iGYFh2avoLwF8EfBfw2VToegWtvOBtN1IoeZvq55rvFUY6Yp+3p0v4Mde7/wAhfU6+I1xVTT+WOn47nn3wt+Cfhr4TWTJpFsZr+Xm41K6PmXM7dyzHp9Bge1egr9KXAoxiuOUpTfNJ3Z61OlCjFQpqyFoooqDUKKKKACmld1fNfhX/AIKBfCnWHjg1q51LwhdPx5es2bBM/wDXSIug/Fq9u8M/FDwn40hWXQvEWmatG3INpdJJ+gNXKEou0lYyhVp1EpQkmjS8ReFdJ8WabLp+safb6lZSDDQ3CBh9fY+4r528Vfsi3eh3Zv8A4deIZtJ2ksuk37NLAM9o3+/Hn1Bz719NrMj/AHWDfQ07rWlOtUpfC9PwOfEYOjitakde+z+8+SIfjF8VfhC0cPi7w5dT2EfD3ixG7tlUdNsiYZfq5Y133g/9sLwh4mjHnZtpegjhcTO30jGHH/fNe7PH5i7XVWHoea4PxZ8B/AnjVpJNW8M2E08nW4SMJL/30Oa6PbUan8SFvT/I4fquLofwKt12kv1/4Bo2Pxa8J33lqNds7eWT7sF1KIZf++Gwa6i2vobyNZIZUljboyHIP414Dd/sZeHLWOQeHvEGu+Hd/wDDb3ZdP++Tj+dc4f2QfFelSNJpnj6C7bOQdQ0xS34sGJpezw8vhqW9UV9YxtP46N/R/wCf+R9T7qNwr5Vl+A/xst/ltPF2glR0O64iP/jopv8Awpf49FQv/CWaGAO/2y85/Sj6vD/n4g+vVv8AoHkfVm8dqqX2r2elw+beXUNrH3eZwo/M18wx/s/fGK9Gy/8AF2hBD1wk0x/JxUtr+xzr91cCfUPiC9q+cldM09Yif+Bbv6UexpLWVQf1zFS+DDv5tHt2pfGfwjp0DyjWIb8J95dPzcsPqEzivLPF/wC2f4X0Wb7PpypezNwu6QMwPoYky2fY4q9Z/sZ+C5Zo7jXb7WPEdwv8V9eHafwFem+E/hL4R8EYOieHtP06TGPMhhAc/VsZNP8A2aHeX4E2zGr/ACwX3s+c28UfGf4z/u9K0WfRNMlbm4vw1nBt7Mig+af++yD6V2HgX9kDS7e6i1Hxzqk3iy/VvMFrjybJG9RGuMn1z19K+iFQrx2p22plipW5aa5V/XUunltPm568nOXnt9xXsdLtdLtIrWzt47W2iG1IYUCoo9AB0qxtp1FcZ6ySSshKWiikMKKKKACmGMFic980+igBu2gpnvTqKAGeWMYpQgHenUUAM8v3PWnKNo65paKAEpvljmn0UAIVz3ppiBbOSDT6KAEUbeKWiigAooooATFI0YanUUAMMYJByeKp6hoWnarGUvbG2u0PVbiJXH6ir9FNNrYTinozz/WPgD8O9d3fa/CGlkt1MUAiP5piuSvv2OfhfcMXt9FuNOc/xWt9Ov8ANzXttFbRr1Y7Sf3nJLB4afxU0/kj5+m/Yv8ACp/49vEXiixHYQakcD8wapSfsU6KzfJ448XDvhr5D/NK+jqK0+t1/wCYweWYN/8ALtfifN7fsVaTJwfHXi0j/r8j/wDiKmh/Ys0NfveNvF7+v/EwUD9Er6Kop/XK/wDMT/ZeD/59/i/8zwKD9jHwWMC71PxBqA7i41JyD+WK2dP/AGQ/hXYMHPhkXUn9+5u55P0L4/SvZKKh4ms/tM1jl+Ej/wAul91zjdH+DfgfQcfYvCmkwlejfY0Zh+JBNdVb2EFooSCJIUHRY1Cj9KsUVi5ylu7nXClTp/BFL0G+WM5pdtLRUGo3bTqKKACiiigAooooAKKKKAPx5jhEyGN0Dq/BVgCM/Ss6X4aaJPObqwiudAvz8y3mi3MlnKvr9wgZ+orbt4znngng/Xsa1LVDwV653D69xX6xVo06ytOKZ/M+FxmJwrvRm4/Mq+H/AB18efhuCfC3xNk1+yjwV03xLAkhYdgZgA36ivQ9L/4KXfEn4exoPiR8LZnt1/1mpeH5S8AHqd+/8twrnLVRxxwOR/u1rWqlTjOONpP16GvDrZNRlrTdj7XCcVYqn7teKn+D/A9z+Hv/AAVD+DPjZoYZ/ES6DdPwY9Zga3Cn08w/L+tfSXhX4t+HfGliLzRdTs9XtOv2iwuEmT81Nfmr4q+B3gj4gAnWfD1q9w/BurdfJm3f769fxryzVP2K7rRb8an8OvG994fvVG+OO6d1C+wljyf/AB2vCrZTXp6qPMvI+ywvEWCxGjm4Pz2+8/aGLX7KTjzdh/2hirsN1DN9yVH+hr8UofjT+118AQv2q5uPF2lJ92W4QaghUe4PmKMeoFeheBf+Cv1zYulp488AyRSxnbLcaVPh8/8AXKQDH/fVeRKnyO000z6WnWdRc1NqS8mfrhmjivi34c/8FJPgx46aGJPF0vh66k4W21iFojn3ZdyD8Wr6M8N/FTTfFFuk2j63p2sxMMhrS4SX/wBBJqPZ32Zp7a3xKx6NS1zkPiojiWD8VNXIvElnJgOWjP8AtD/CpcJLoWqkH1NeiqkepWs33JkP44qwjhuhB/GpszRNPYfRRRSGFFFFABRRRQAUUUUAFFFFABRRRQAUUUUAFFFFABRRRQAUUUUAFFFFABRRRQAUUUUAFFFFABRRRQAUUUUAFFFFABRRRQAUUUUAFFFFABRRRQAUUUUAFFFFABRRRQB//9k=)"
      ],
      "metadata": {
        "id": "wyRyJWivbvio"
      }
    },
    {
      "cell_type": "markdown",
      "source": [
        "#분산의 식\n",
        "\n",
        ": 왼쪽 모수로 할 때 \n",
        "$$\\sigma^{2}=\\frac{1}{N}\\sum_{i=1}^{N}(\\bar{x}-x_{i})^2$$"
      ],
      "metadata": {
        "id": "E5PGKuE0ux1k"
      }
    },
    {
      "cell_type": "markdown",
      "source": [
        "#불편분산의 식\n",
        "\n",
        ": 오른쪽 통계로 할 때\n",
        "$$\\sigma^{2}=\\frac{1}{n-1}\\sum_{i=1}^{n}(\\bar{x}-x_{i})^2$$"
      ],
      "metadata": {
        "id": "t_dWC2b_aVZi"
      }
    },
    {
      "cell_type": "code",
      "source": [
        "np.random.seed(42) \n",
        "samples = np.random.randint(1,101, 100)\n",
        "sample_df = pd.DataFrame({\"col1\":samples})"
      ],
      "metadata": {
        "id": "gCJuDUyeXm2O"
      },
      "execution_count": 5,
      "outputs": []
    },
    {
      "cell_type": "code",
      "source": [
        "sample_df.head(3)"
      ],
      "metadata": {
        "colab": {
          "base_uri": "https://localhost:8080/",
          "height": 144
        },
        "id": "6z-s3LCnYF73",
        "outputId": "0bc35ca8-4977-413b-e07d-762802e8f797"
      },
      "execution_count": 6,
      "outputs": [
        {
          "output_type": "execute_result",
          "data": {
            "text/plain": [
              "   col1\n",
              "0    52\n",
              "1    93\n",
              "2    15"
            ],
            "text/html": [
              "\n",
              "  <div id=\"df-6eda8a21-8218-4696-abc8-05a6e2bfbbea\">\n",
              "    <div class=\"colab-df-container\">\n",
              "      <div>\n",
              "<style scoped>\n",
              "    .dataframe tbody tr th:only-of-type {\n",
              "        vertical-align: middle;\n",
              "    }\n",
              "\n",
              "    .dataframe tbody tr th {\n",
              "        vertical-align: top;\n",
              "    }\n",
              "\n",
              "    .dataframe thead th {\n",
              "        text-align: right;\n",
              "    }\n",
              "</style>\n",
              "<table border=\"1\" class=\"dataframe\">\n",
              "  <thead>\n",
              "    <tr style=\"text-align: right;\">\n",
              "      <th></th>\n",
              "      <th>col1</th>\n",
              "    </tr>\n",
              "  </thead>\n",
              "  <tbody>\n",
              "    <tr>\n",
              "      <th>0</th>\n",
              "      <td>52</td>\n",
              "    </tr>\n",
              "    <tr>\n",
              "      <th>1</th>\n",
              "      <td>93</td>\n",
              "    </tr>\n",
              "    <tr>\n",
              "      <th>2</th>\n",
              "      <td>15</td>\n",
              "    </tr>\n",
              "  </tbody>\n",
              "</table>\n",
              "</div>\n",
              "      <button class=\"colab-df-convert\" onclick=\"convertToInteractive('df-6eda8a21-8218-4696-abc8-05a6e2bfbbea')\"\n",
              "              title=\"Convert this dataframe to an interactive table.\"\n",
              "              style=\"display:none;\">\n",
              "        \n",
              "  <svg xmlns=\"http://www.w3.org/2000/svg\" height=\"24px\"viewBox=\"0 0 24 24\"\n",
              "       width=\"24px\">\n",
              "    <path d=\"M0 0h24v24H0V0z\" fill=\"none\"/>\n",
              "    <path d=\"M18.56 5.44l.94 2.06.94-2.06 2.06-.94-2.06-.94-.94-2.06-.94 2.06-2.06.94zm-11 1L8.5 8.5l.94-2.06 2.06-.94-2.06-.94L8.5 2.5l-.94 2.06-2.06.94zm10 10l.94 2.06.94-2.06 2.06-.94-2.06-.94-.94-2.06-.94 2.06-2.06.94z\"/><path d=\"M17.41 7.96l-1.37-1.37c-.4-.4-.92-.59-1.43-.59-.52 0-1.04.2-1.43.59L10.3 9.45l-7.72 7.72c-.78.78-.78 2.05 0 2.83L4 21.41c.39.39.9.59 1.41.59.51 0 1.02-.2 1.41-.59l7.78-7.78 2.81-2.81c.8-.78.8-2.07 0-2.86zM5.41 20L4 18.59l7.72-7.72 1.47 1.35L5.41 20z\"/>\n",
              "  </svg>\n",
              "      </button>\n",
              "      \n",
              "  <style>\n",
              "    .colab-df-container {\n",
              "      display:flex;\n",
              "      flex-wrap:wrap;\n",
              "      gap: 12px;\n",
              "    }\n",
              "\n",
              "    .colab-df-convert {\n",
              "      background-color: #E8F0FE;\n",
              "      border: none;\n",
              "      border-radius: 50%;\n",
              "      cursor: pointer;\n",
              "      display: none;\n",
              "      fill: #1967D2;\n",
              "      height: 32px;\n",
              "      padding: 0 0 0 0;\n",
              "      width: 32px;\n",
              "    }\n",
              "\n",
              "    .colab-df-convert:hover {\n",
              "      background-color: #E2EBFA;\n",
              "      box-shadow: 0px 1px 2px rgba(60, 64, 67, 0.3), 0px 1px 3px 1px rgba(60, 64, 67, 0.15);\n",
              "      fill: #174EA6;\n",
              "    }\n",
              "\n",
              "    [theme=dark] .colab-df-convert {\n",
              "      background-color: #3B4455;\n",
              "      fill: #D2E3FC;\n",
              "    }\n",
              "\n",
              "    [theme=dark] .colab-df-convert:hover {\n",
              "      background-color: #434B5C;\n",
              "      box-shadow: 0px 1px 3px 1px rgba(0, 0, 0, 0.15);\n",
              "      filter: drop-shadow(0px 1px 2px rgba(0, 0, 0, 0.3));\n",
              "      fill: #FFFFFF;\n",
              "    }\n",
              "  </style>\n",
              "\n",
              "      <script>\n",
              "        const buttonEl =\n",
              "          document.querySelector('#df-6eda8a21-8218-4696-abc8-05a6e2bfbbea button.colab-df-convert');\n",
              "        buttonEl.style.display =\n",
              "          google.colab.kernel.accessAllowed ? 'block' : 'none';\n",
              "\n",
              "        async function convertToInteractive(key) {\n",
              "          const element = document.querySelector('#df-6eda8a21-8218-4696-abc8-05a6e2bfbbea');\n",
              "          const dataTable =\n",
              "            await google.colab.kernel.invokeFunction('convertToInteractive',\n",
              "                                                     [key], {});\n",
              "          if (!dataTable) return;\n",
              "\n",
              "          const docLinkHtml = 'Like what you see? Visit the ' +\n",
              "            '<a target=\"_blank\" href=https://colab.research.google.com/notebooks/data_table.ipynb>data table notebook</a>'\n",
              "            + ' to learn more about interactive tables.';\n",
              "          element.innerHTML = '';\n",
              "          dataTable['output_type'] = 'display_data';\n",
              "          await google.colab.output.renderOutput(dataTable, element);\n",
              "          const docLink = document.createElement('div');\n",
              "          docLink.innerHTML = docLinkHtml;\n",
              "          element.appendChild(docLink);\n",
              "        }\n",
              "      </script>\n",
              "    </div>\n",
              "  </div>\n",
              "  "
            ]
          },
          "metadata": {},
          "execution_count": 6
        }
      ]
    },
    {
      "cell_type": "code",
      "source": [
        "#pandas는 기본적으로 분산을 구하는 식의 분모가 n-1(불편분산)으로 계산됨\n",
        "sample_df['col1'].var() #series로 접근해서 var 구하기"
      ],
      "metadata": {
        "colab": {
          "base_uri": "https://localhost:8080/"
        },
        "id": "klrOKmq5YaJh",
        "outputId": "222c0b11-886a-4d21-eb32-8bf83dd9b974"
      },
      "execution_count": 7,
      "outputs": [
        {
          "output_type": "execute_result",
          "data": {
            "text/plain": [
              "865.8872727272732"
            ]
          },
          "metadata": {},
          "execution_count": 7
        }
      ]
    },
    {
      "cell_type": "code",
      "source": [
        "#numpy는 기본적으로 분산을 구하는 식의 분모가 n 으로 계산\n",
        "samples.var()"
      ],
      "metadata": {
        "colab": {
          "base_uri": "https://localhost:8080/"
        },
        "id": "_tVx1JZ3Yqn7",
        "outputId": "2733aace-e162-4589-d3fb-e361327592b9"
      },
      "execution_count": 11,
      "outputs": [
        {
          "output_type": "execute_result",
          "data": {
            "text/plain": [
              "857.2284"
            ]
          },
          "metadata": {},
          "execution_count": 11
        }
      ]
    },
    {
      "cell_type": "code",
      "source": [
        "#pandas에서 표본분산(n으로 나눈 값)을 구하려면 ddof=0으로 지정\n",
        "sample_df['col1'].var(ddof=0)"
      ],
      "metadata": {
        "colab": {
          "base_uri": "https://localhost:8080/"
        },
        "id": "IdAu_128bWWl",
        "outputId": "549c317a-b827-474f-a89a-a90a05ebb6fb"
      },
      "execution_count": 10,
      "outputs": [
        {
          "output_type": "execute_result",
          "data": {
            "text/plain": [
              "857.2284000000004"
            ]
          },
          "metadata": {},
          "execution_count": 10
        }
      ]
    },
    {
      "cell_type": "code",
      "source": [
        "#numpy 옵션도 동일\n",
        "#numpy에서 불편분산(n-1로 나눈 값)을 구하려면 ddof=1로 지정\n",
        "samples.var(ddof =1) "
      ],
      "metadata": {
        "id": "Yc7TtAOCcDeF"
      },
      "execution_count": null,
      "outputs": []
    },
    {
      "cell_type": "code",
      "source": [
        "bream_length = [25.4, 26.3, 26.5, 29.0, 29.0, 29.7, 29.7, 30.0, 30.0, 30.7, 31.0, 31.0, \n",
        "                31.5, 32.0, 32.0, 32.0, 33.0, 33.0, 33.5, 33.5, 34.0, 34.0, 34.5, 35.0, \n",
        "                35.0, 35.0, 35.0, 36.0, 36.0, 37.0, 38.5, 38.5, 39.5, 41.0, 41.0]\n",
        "bream_weight = [242.0, 290.0, 340.0, 363.0, 430.0, 450.0, 500.0, 390.0, 450.0, 500.0, 475.0, 500.0, \n",
        "                500.0, 340.0, 600.0, 600.0, 700.0, 700.0, 610.0, 650.0, 575.0, 685.0, 620.0, 680.0, \n",
        "                700.0, 725.0, 720.0, 714.0, 850.0, 1000.0, 920.0, 955.0, 925.0, 975.0, 950.0]"
      ],
      "metadata": {
        "id": "5rq62lIVuGvm"
      },
      "execution_count": null,
      "outputs": []
    },
    {
      "cell_type": "code",
      "source": [
        "len(bream_length)"
      ],
      "metadata": {
        "colab": {
          "base_uri": "https://localhost:8080/"
        },
        "id": "cHWIthJqI1S9",
        "outputId": "26956ea6-6267-4db5-cc7f-c61c0dc31210"
      },
      "execution_count": null,
      "outputs": [
        {
          "output_type": "execute_result",
          "data": {
            "text/plain": [
              "35"
            ]
          },
          "metadata": {},
          "execution_count": 10
        }
      ]
    },
    {
      "cell_type": "code",
      "source": [
        "len(bream_weight)"
      ],
      "metadata": {
        "colab": {
          "base_uri": "https://localhost:8080/"
        },
        "id": "4LOZqxmaJIkh",
        "outputId": "51021ff8-3103-4b53-b0c5-0b2c2b96c2cf"
      },
      "execution_count": null,
      "outputs": [
        {
          "output_type": "execute_result",
          "data": {
            "text/plain": [
              "35"
            ]
          },
          "metadata": {},
          "execution_count": 11
        }
      ]
    },
    {
      "cell_type": "code",
      "source": [
        "smelt_length = [9.8, 10.5, 10.6, 11.0, 11.2, 11.3, 11.8, 11.8, 12.0, 12.2, 12.4, 13.0, 14.3, 15.0]\n",
        "smelt_weight = [6.7, 7.5, 7.0, 9.7, 9.8, 8.7, 10.0, 9.9, 9.8, 12.2, 13.4, 12.2, 19.7, 19.9]"
      ],
      "metadata": {
        "id": "vur7ZDt0R9Oo"
      },
      "execution_count": null,
      "outputs": []
    },
    {
      "cell_type": "code",
      "source": [
        "print(f\"빙어 length 길이: {len(smelt_length)}, weight 길이: {len(smelt_weight)}\")"
      ],
      "metadata": {
        "colab": {
          "base_uri": "https://localhost:8080/"
        },
        "id": "L8RuNW8VSKsR",
        "outputId": "172220b3-4363-4e9c-a378-49b21d3b3b6c"
      },
      "execution_count": null,
      "outputs": [
        {
          "output_type": "stream",
          "name": "stdout",
          "text": [
            "빙어 length 길이: 14, weight 길이: 14\n"
          ]
        }
      ]
    },
    {
      "cell_type": "code",
      "source": [
        "?plt.scatter"
      ],
      "metadata": {
        "id": "lODjwEaoOPeA"
      },
      "execution_count": null,
      "outputs": []
    },
    {
      "cell_type": "code",
      "source": [
        "??plt.scatter"
      ],
      "metadata": {
        "id": "A_P0WDUWPVfN"
      },
      "execution_count": null,
      "outputs": []
    },
    {
      "cell_type": "code",
      "source": [
        "plt.scatter(bream_length, bream_weight)\n",
        "plt.scatter(smelt_length, smelt_weight)\n",
        "plt.xlabel('length')\n",
        "plt.ylabel('weight')\n",
        "plt.legend(['bream', 'smelt'])\n",
        "plt.show()"
      ],
      "metadata": {
        "colab": {
          "base_uri": "https://localhost:8080/",
          "height": 279
        },
        "id": "diT9jgPwP53Y",
        "outputId": "9fc5182a-fb5c-4006-8e57-85c0395a31cc"
      },
      "execution_count": null,
      "outputs": [
        {
          "output_type": "display_data",
          "data": {
            "text/plain": [
              "<Figure size 432x288 with 1 Axes>"
            ],
            "image/png": "[encoded data removed]"
          },
          "metadata": {
            "needs_background": "light"
          }
        }
      ]
    },
    {
      "cell_type": "code",
      "source": [
        "?range(3)"
      ],
      "metadata": {
        "id": "5BqN5-lxVKwn"
      },
      "execution_count": null,
      "outputs": []
    },
    {
      "cell_type": "code",
      "source": [
        "for i in range(3):\n",
        "  print(i)"
      ],
      "metadata": {
        "colab": {
          "base_uri": "https://localhost:8080/"
        },
        "id": "-PqCkI-tmzVE",
        "outputId": "c5842d7d-77bc-4c10-b5ca-294d3db9717e"
      },
      "execution_count": null,
      "outputs": [
        {
          "output_type": "stream",
          "name": "stdout",
          "text": [
            "0\n",
            "1\n",
            "2\n"
          ]
        }
      ]
    },
    {
      "cell_type": "code",
      "source": [
        "a = list(range(10, 51, 10))\n",
        "a"
      ],
      "metadata": {
        "colab": {
          "base_uri": "https://localhost:8080/"
        },
        "id": "HKZQfUCPnR1w",
        "outputId": "1773499b-62ae-4110-8841-b8df904ed85a"
      },
      "execution_count": null,
      "outputs": [
        {
          "output_type": "execute_result",
          "data": {
            "text/plain": [
              "[10, 20, 30, 40, 50]"
            ]
          },
          "metadata": {},
          "execution_count": 19
        }
      ]
    },
    {
      "cell_type": "code",
      "source": [
        "b = list(range(1, 6))\n",
        "b"
      ],
      "metadata": {
        "colab": {
          "base_uri": "https://localhost:8080/"
        },
        "id": "ULlIsVOYnvNV",
        "outputId": "1a172c7c-9e94-43b6-c8c7-482b2b88f13e"
      },
      "execution_count": null,
      "outputs": [
        {
          "output_type": "execute_result",
          "data": {
            "text/plain": [
              "[1, 2, 3, 4, 5]"
            ]
          },
          "metadata": {},
          "execution_count": 20
        }
      ]
    },
    {
      "cell_type": "code",
      "source": [
        "zip(a, b)"
      ],
      "metadata": {
        "colab": {
          "base_uri": "https://localhost:8080/"
        },
        "id": "IuzLLz12oMo7",
        "outputId": "b71cdfbd-3717-44b5-f862-df978c297cc1"
      },
      "execution_count": null,
      "outputs": [
        {
          "output_type": "execute_result",
          "data": {
            "text/plain": [
              "<zip at 0x7f3aa964a780>"
            ]
          },
          "metadata": {},
          "execution_count": 21
        }
      ]
    },
    {
      "cell_type": "code",
      "source": [
        "for t in zip(a, b):\n",
        "  print(t)"
      ],
      "metadata": {
        "colab": {
          "base_uri": "https://localhost:8080/"
        },
        "id": "Da3NNW8npyF9",
        "outputId": "c96ddd29-01bf-40f6-9b14-3db60bd264c0"
      },
      "execution_count": null,
      "outputs": [
        {
          "output_type": "stream",
          "name": "stdout",
          "text": [
            "(10, 1)\n",
            "(20, 2)\n",
            "(30, 3)\n",
            "(40, 4)\n",
            "(50, 5)\n"
          ]
        }
      ]
    },
    {
      "cell_type": "code",
      "source": [
        "for x, y in zip(a, b):\n",
        "  print(f\"{x}, {y}\")"
      ],
      "metadata": {
        "colab": {
          "base_uri": "https://localhost:8080/"
        },
        "id": "_NcMBCk8qBGK",
        "outputId": "07ea2f9c-a79a-45d3-8747-64f4a175809f"
      },
      "execution_count": null,
      "outputs": [
        {
          "output_type": "stream",
          "name": "stdout",
          "text": [
            "10, 1\n",
            "20, 2\n",
            "30, 3\n",
            "40, 4\n",
            "50, 5\n"
          ]
        }
      ]
    },
    {
      "cell_type": "code",
      "source": [
        "data = [t for t in zip(a, b)]\n",
        "data"
      ],
      "metadata": {
        "colab": {
          "base_uri": "https://localhost:8080/"
        },
        "id": "JgTo04h8rsdx",
        "outputId": "dc435422-cedd-4b47-cba9-7a1cf57b3117"
      },
      "execution_count": null,
      "outputs": [
        {
          "output_type": "execute_result",
          "data": {
            "text/plain": [
              "[(10, 1), (20, 2), (30, 3), (40, 4), (50, 5)]"
            ]
          },
          "metadata": {},
          "execution_count": 24
        }
      ]
    },
    {
      "cell_type": "code",
      "source": [
        "data2 = [(x, y) for x, y in zip(a, b)]\n",
        "data2"
      ],
      "metadata": {
        "colab": {
          "base_uri": "https://localhost:8080/"
        },
        "id": "r9ABVNkcr42p",
        "outputId": "f0cfadcb-4510-4806-ea63-54e339bdb836"
      },
      "execution_count": null,
      "outputs": [
        {
          "output_type": "execute_result",
          "data": {
            "text/plain": [
              "[(10, 1), (20, 2), (30, 3), (40, 4), (50, 5)]"
            ]
          },
          "metadata": {},
          "execution_count": 25
        }
      ]
    },
    {
      "cell_type": "code",
      "source": [
        "data3 = [(x*2, y*3) for x, y in zip(a, b)]\n",
        "data3"
      ],
      "metadata": {
        "colab": {
          "base_uri": "https://localhost:8080/"
        },
        "id": "0WWi_CIms5xx",
        "outputId": "5fa7b3ce-569a-436a-dde2-785d770ec334"
      },
      "execution_count": null,
      "outputs": [
        {
          "output_type": "execute_result",
          "data": {
            "text/plain": [
              "[(20, 3), (40, 6), (60, 9), (80, 12), (100, 15)]"
            ]
          },
          "metadata": {},
          "execution_count": 26
        }
      ]
    },
    {
      "cell_type": "code",
      "source": [
        "a = [1, 2, 3]\n",
        "b = {\"x\": 1, \"y\": 2}"
      ],
      "metadata": {
        "id": "MYXjrEDj3eAS"
      },
      "execution_count": null,
      "outputs": []
    },
    {
      "cell_type": "code",
      "source": [
        "def fn(*args, **kwargs):\n",
        "  for i, arg in enumerate(args):\n",
        "    print(f\"{i}: {arg}\")\n",
        "  for k, v in kwargs.items():\n",
        "    print(f\"{k}: {v}\")"
      ],
      "metadata": {
        "id": "p4Xm-8CP3p4E"
      },
      "execution_count": null,
      "outputs": []
    },
    {
      "cell_type": "code",
      "source": [
        "fn(*a, **b)"
      ],
      "metadata": {
        "colab": {
          "base_uri": "https://localhost:8080/"
        },
        "id": "WWUoBz9n4Vm4",
        "outputId": "3f35342d-4462-41a6-dd15-2a5ea9411865"
      },
      "execution_count": null,
      "outputs": [
        {
          "output_type": "stream",
          "name": "stdout",
          "text": [
            "0: 1\n",
            "1: 2\n",
            "2: 3\n",
            "x: 1\n",
            "y: 2\n"
          ]
        }
      ]
    },
    {
      "cell_type": "code",
      "source": [
        "fn(1, 2, 3, x=1, y=2)"
      ],
      "metadata": {
        "colab": {
          "base_uri": "https://localhost:8080/"
        },
        "id": "XAgbX3fm4h30",
        "outputId": "b366210c-d9c0-4dea-8f55-4941c939767e"
      },
      "execution_count": null,
      "outputs": [
        {
          "output_type": "stream",
          "name": "stdout",
          "text": [
            "0: 1\n",
            "1: 2\n",
            "2: 3\n",
            "x: 1\n",
            "y: 2\n"
          ]
        }
      ]
    },
    {
      "cell_type": "code",
      "source": [
        ""
      ],
      "metadata": {
        "id": "z7ic1xgyVdpU"
      },
      "execution_count": null,
      "outputs": []
    }
  ]
}