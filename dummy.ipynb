{
  "nbformat": 4,
  "nbformat_minor": 0,
  "metadata": {
    "colab": {
      "name": "dummy.ipynb",
      "provenance": [],
      "authorship_tag": "ABX9TyOf/zu6fOqwrGYZ+bTVqPgh",
      "include_colab_link": true
    },
    "kernelspec": {
      "name": "python3",
      "display_name": "Python 3"
    },
    "language_info": {
      "name": "python"
    }
  },
  "cells": [
    {
      "cell_type": "markdown",
      "metadata": {
        "id": "view-in-github",
        "colab_type": "text"
      },
      "source": [
        "<a href=\"https://colab.research.google.com/github/Es-YES-Ye/Python/blob/main/dummy.ipynb\" target=\"_parent\"><img src=\"https://colab.research.google.com/assets/colab-badge.svg\" alt=\"Open In Colab\"/></a>"
      ]
    },
    {
      "cell_type": "markdown",
      "source": [
        "#모듈 더미"
      ],
      "metadata": {
        "id": "Na5Zq6Ox7QaR"
      }
    },
    {
      "cell_type": "code",
      "execution_count": 1,
      "metadata": {
        "colab": {
          "base_uri": "https://localhost:8080/"
        },
        "id": "jDr8IiMk7OYy",
        "outputId": "a0021922-4d47-4775-eb80-59c62fe29684"
      },
      "outputs": [
        {
          "output_type": "stream",
          "name": "stdout",
          "text": [
            "1 s \n",
            "2 s \n",
            "3 s \n"
          ]
        }
      ],
      "source": [
        "def print_n(s, n=1):\n",
        "  for i in range(n):\n",
        "    print(f\"{i+1} s \")\n",
        "#print_n(\"Hello\", 3)"
      ]
    },
    {
      "cell_type": "code",
      "source": [
        "def print_list(ls):\n",
        "  for i, elem in enumerate(ls): #enumerate 하면 인덱스까지 표시해준다\n",
        "    print(f\"{i+1} : {elem}\")"
      ],
      "metadata": {
        "id": "3Ceu5lC88vew"
      },
      "execution_count": 4,
      "outputs": []
    },
    {
      "cell_type": "markdown",
      "source": [
        "#진입점 ( Entry Point)\n",
        "\n",
        "소스파일이 여러 개가 있으면 프로그램을 실행시켰을 때 시작하는 지점\n",
        "\n",
        "__name__ 에는 진입점이 무엇인지 알 수 있다."
      ],
      "metadata": {
        "id": "u6GKnDR27sVT"
      }
    },
    {
      "cell_type": "code",
      "source": [
        "#print(__name__)\n",
        "if __name__ == \"__main__\": #현재 파일의 main이 __name__과 일치할 때, 진입점일 때 아래를 수행하시오\n",
        "  print_n(\"Hello\", 3)\n",
        "  print_list([1,2,3])"
      ],
      "metadata": {
        "colab": {
          "base_uri": "https://localhost:8080/"
        },
        "id": "v4VWizF_8GQj",
        "outputId": "89ea3df9-9d7f-46f8-ba14-127574ac4700"
      },
      "execution_count": 5,
      "outputs": [
        {
          "output_type": "stream",
          "name": "stdout",
          "text": [
            "1 s \n",
            "2 s \n",
            "3 s \n",
            "1 : 1\n",
            "2 : 2\n",
            "3 : 3\n"
          ]
        }
      ]
    }
  ]
}