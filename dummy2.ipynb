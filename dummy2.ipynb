{
  "nbformat": 4,
  "nbformat_minor": 0,
  "metadata": {
    "colab": {
      "name": "dummy2.ipynb",
      "provenance": [],
      "authorship_tag": "ABX9TyPTarBfnzQpRwRiR4sdIhUg",
      "include_colab_link": true
    },
    "kernelspec": {
      "name": "python3",
      "display_name": "Python 3"
    },
    "language_info": {
      "name": "python"
    }
  },
  "cells": [
    {
      "cell_type": "markdown",
      "metadata": {
        "id": "view-in-github",
        "colab_type": "text"
      },
      "source": [
        "<a href=\"https://colab.research.google.com/github/Es-YES-Ye/Python/blob/main/dummy2.ipynb\" target=\"_parent\"><img src=\"https://colab.research.google.com/assets/colab-badge.svg\" alt=\"Open In Colab\"/></a>"
      ]
    },
    {
      "cell_type": "code",
      "execution_count": null,
      "metadata": {
        "id": "8zEsGDf4JZDs"
      },
      "outputs": [],
      "source": [
        "def dprint(s, n=1):\n",
        "  for i in range(n):\n",
        "    print(f\"{i+1}: {s}\")\n",
        "dprint(\"Hello\", 3)"
      ]
    }
  ]
}