{
  "nbformat": 4,
  "nbformat_minor": 0,
  "metadata": {
    "colab": {
      "name": "네이버 영화.ipynb",
      "provenance": [],
      "collapsed_sections": [],
      "authorship_tag": "ABX9TyM2rENTd2J6aDhXlR+wvXs8",
      "include_colab_link": true
    },
    "kernelspec": {
      "name": "python3",
      "display_name": "Python 3"
    },
    "language_info": {
      "name": "python"
    }
  },
  "cells": [
    {
      "cell_type": "markdown",
      "metadata": {
        "id": "view-in-github",
        "colab_type": "text"
      },
      "source": [
        "<a href=\"https://colab.research.google.com/github/Es-YES-Ye/Python/blob/main/%EB%84%A4%EC%9D%B4%EB%B2%84_%EC%98%81%ED%99%94.ipynb\" target=\"_parent\"><img src=\"https://colab.research.google.com/assets/colab-badge.svg\" alt=\"Open In Colab\"/></a>"
      ]
    },
    {
      "cell_type": "code",
      "execution_count": 1,
      "metadata": {
        "colab": {
          "base_uri": "https://localhost:8080/"
        },
        "id": "od-LQRoLkSYC",
        "outputId": "c8dbe3da-0527-4403-c8d4-2bd1a0c00344"
      },
      "outputs": [
        {
          "output_type": "stream",
          "name": "stdout",
          "text": [
            "검색 질의 : 사람\n",
            "https://openapi.naver.com/v1/search/movie.xml?query=%EC%82%AC%EB%9E%8C\n",
            "<?xml version=\"1.0\" encoding=\"UTF-8\"?><rss version=\"2.0\"><channel><title>Naver Open API - movie ::'사람'</title><link>https://search.naver.com</link><description>Naver Search Result</description><lastBuildDate>Wed, 23 Feb 2022 16:53:54 +0900</lastBuildDate><total>523</total><start>1</start><display>10</display><item><title>혼자 사는 &lt;b&gt;사람&lt;/b&gt;들</title><link>https://movie.naver.com/movie/bi/mi/basic.nhn?code=201863</link><image>https://ssl.pstatic.net/imgmovie/mdi/mit110/2018/201863_P15_180911.jpg</image><subtitle>Aloners</subtitle><pubDate>2021</pubDate><director>홍성은|</director><actor>공승연|정다은|</actor><userRating>8.08</userRating></item><item><title>숲의 비명 : 사라진 &lt;b&gt;사람&lt;/b&gt;들</title><link>https://movie.naver.com/movie/bi/mi/basic.nhn?code=207532</link><image>https://ssl.pstatic.net/imgmovie/mdi/mit110/2075/207532_P01_102154.jpg</image><subtitle></subtitle><pubDate>2021</pubDate><director>전혜림|</director><actor>박지원|정희민|문주하|주인협|정의욱|이지유|</actor><userRating>4.18</userRating></item><item><title>소리 줍는 &lt;b&gt;사람&lt;/b&gt;</title><link>https://movie.naver.com/movie/bi/mi/basic.nhn?code=211816</link><image>https://ssl.pstatic.net/imgmovie/mdi/mit110/2118/211816_P01_143518.jpg</image><subtitle></subtitle><pubDate>2021</pubDate><director>오도이|</director><actor></actor><userRating>0.00</userRating></item><item><title>정비소, 엔진 그리고 &lt;b&gt;사람&lt;/b&gt;들</title><link>https://movie.naver.com/movie/bi/mi/basic.nhn?code=208466</link><image>https://ssl.pstatic.net/imgmovie/mdi/mit110/2084/208466_P01_131750.jpg</image><subtitle>Garage, Engines and Men</subtitle><pubDate>2021</pubDate><director>클레르 시몽|</director><actor></actor><userRating>0.00</userRating></item><item><title>보호받지 못한 &lt;b&gt;사람&lt;/b&gt;들</title><link>https://movie.naver.com/movie/bi/mi/basic.nhn?code=201213</link><image>https://ssl.pstatic.net/imgmovie/mdi/mit110/2012/201213_P01_154216.jpg</image><subtitle>IN THE WAKE</subtitle><pubDate>2021</pubDate><director>제제 타카히사|</director><actor>사토 타케루|아베 히로시|키요하라 카야|바이쇼 미츠코|</actor><userRating>0.00</userRating></item><item><title>우리가 죽기를 바라는 &lt;b&gt;사람&lt;/b&gt;들</title><link>https://movie.naver.com/movie/bi/mi/basic.nhn?code=208642</link><image>https://ssl.pstatic.net/imgmovie/mdi/mit110/2086/208642_P01_112952.jpg</image><subtitle>Rushed</subtitle><pubDate>2021</pubDate><director>비베케 무아샤|</director><actor>시옵한 폴론|</actor><userRating>0.00</userRating></item><item><title>창가로 나온 &lt;b&gt;사람&lt;/b&gt;들</title><link>https://movie.naver.com/movie/bi/mi/basic.nhn?code=210179</link><image>https://ssl.pstatic.net/imgmovie/mdi/mit110/2101/210179_P01_180856.JPG</image><subtitle>Waving Through a Window</subtitle><pubDate>2021</pubDate><director>강유민|</director><actor></actor><userRating>0.00</userRating></item><item><title>평화가 &lt;b&gt;사람&lt;/b&gt; 속을 걸어다니네</title><link>https://movie.naver.com/movie/bi/mi/basic.nhn?code=210730</link><image>https://ssl.pstatic.net/imgmovie/mdi/mit110/2107/210730_P01_152052.JPG</image><subtitle></subtitle><pubDate>2021</pubDate><director>함유선|</director><actor></actor><userRating>0.00</userRating></item><item><title>지하철 같은 &lt;b&gt;사람&lt;/b&gt;이 좋아요</title><link>https://movie.naver.com/movie/bi/mi/basic.nhn?code=208030</link><image>https://ssl.pstatic.net/imgmovie/mdi/mit110/2080/208030_P01_144144.jpg</image><subtitle>A person like a subway</subtitle><pubDate>2021</pubDate><director>국범근|</director><actor></actor><userRating>0.00</userRating></item><item><title>보통 &lt;b&gt;사람&lt;/b&gt;</title><link>https://movie.naver.com/movie/bi/mi/basic.nhn?code=208275</link><image>https://ssl.pstatic.net/imgmovie/mdi/mit110/2082/208275_P01_163900.jpg</image><subtitle>Ordinary Person</subtitle><pubDate>2021</pubDate><director>국도원|</director><actor></actor><userRating>0.00</userRating></item></channel></rss>\n"
          ]
        }
      ],
      "source": [
        "import urllib.request \n",
        "\n",
        "url = 'https://openapi.naver.com/v1/search/movie.xml'\n",
        "\n",
        "query_in =input(\"검색 질의 : \") #사용자로부터 입력받은 것\n",
        "query_param = \"query=\"+urllib.parse.quote(query_in) #utf-8로 인코딩 #쿼리부분에 대한 param완성\n",
        "query_str = url+'?'+query_param\n",
        "\n",
        "print(query_str)\n",
        "\n",
        "request = urllib.request.Request(query_str) #서비스 요청에 사용할 개체를 생성\n",
        "request.add_header('X-Naver-Client-Id', '')\n",
        "request.add_header('X-Naver-Client-Secret', '')\n",
        "#request.add_header('X-Naver-Client-Id', '발급받은 client id')\n",
        "#request.add_header('X-Naver-Client-Secret', '발급받은 client secret')\n",
        "\n",
        "response = urllib.request.urlopen(request)\n",
        "res = response.read().decode(\"utf-8\")\n",
        "print(res)"
      ]
    },
    {
      "cell_type": "markdown",
      "source": [
        ""
      ],
      "metadata": {
        "id": "wXwatyK1lGZi"
      }
    },
    {
      "cell_type": "code",
      "source": [
        "from bs4 import BeautifulSoup\n",
        "xmlsoup = BeautifulSoup(res, 'html.parser')\n",
        "items = xmlsoup.find_all('item') #item으로 된 애들은 전부 찾는다\n",
        "for item in items:\n",
        "  print(\"제목 : \", item.title.get_text())\n",
        "  print(\"개봉일 : \", item.pubdate.get_text())\n",
        "  print(\"평점 : \", item.userrating.get_text())\n",
        "  print(\"=================================================================================\")"
      ],
      "metadata": {
        "colab": {
          "base_uri": "https://localhost:8080/"
        },
        "id": "wPiwa2_nkWRh",
        "outputId": "5b6f8630-ca69-40f9-9e34-0a175376df0d"
      },
      "execution_count": 10,
      "outputs": [
        {
          "output_type": "stream",
          "name": "stdout",
          "text": [
            "제목 :  혼자 사는 <b>사람</b>들\n",
            "개봉일 :  2021\n",
            "평점 :  8.08\n",
            "=================================================================================\n",
            "제목 :  숲의 비명 : 사라진 <b>사람</b>들\n",
            "개봉일 :  2021\n",
            "평점 :  4.18\n",
            "=================================================================================\n",
            "제목 :  소리 줍는 <b>사람</b>\n",
            "개봉일 :  2021\n",
            "평점 :  0.00\n",
            "=================================================================================\n",
            "제목 :  정비소, 엔진 그리고 <b>사람</b>들\n",
            "개봉일 :  2021\n",
            "평점 :  0.00\n",
            "=================================================================================\n",
            "제목 :  보호받지 못한 <b>사람</b>들\n",
            "개봉일 :  2021\n",
            "평점 :  0.00\n",
            "=================================================================================\n",
            "제목 :  우리가 죽기를 바라는 <b>사람</b>들\n",
            "개봉일 :  2021\n",
            "평점 :  0.00\n",
            "=================================================================================\n",
            "제목 :  창가로 나온 <b>사람</b>들\n",
            "개봉일 :  2021\n",
            "평점 :  0.00\n",
            "=================================================================================\n",
            "제목 :  평화가 <b>사람</b> 속을 걸어다니네\n",
            "개봉일 :  2021\n",
            "평점 :  0.00\n",
            "=================================================================================\n",
            "제목 :  지하철 같은 <b>사람</b>이 좋아요\n",
            "개봉일 :  2021\n",
            "평점 :  0.00\n",
            "=================================================================================\n",
            "제목 :  보통 <b>사람</b>\n",
            "개봉일 :  2021\n",
            "평점 :  0.00\n",
            "=================================================================================\n"
          ]
        }
      ]
    }
  ]
}