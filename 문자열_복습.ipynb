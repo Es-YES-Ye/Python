{
  "nbformat": 4,
  "nbformat_minor": 0,
  "metadata": {
    "colab": {
      "name": "문자열 복습.ipynb",
      "provenance": [],
      "authorship_tag": "ABX9TyOlCs2f90vznjP+MGqbbi/M",
      "include_colab_link": true
    },
    "kernelspec": {
      "name": "python3",
      "display_name": "Python 3"
    },
    "language_info": {
      "name": "python"
    }
  },
  "cells": [
    {
      "cell_type": "markdown",
      "metadata": {
        "id": "view-in-github",
        "colab_type": "text"
      },
      "source": [
        "<a href=\"https://colab.research.google.com/github/Es-YES-Ye/Python/blob/main/%EB%AC%B8%EC%9E%90%EC%97%B4_%EB%B3%B5%EC%8A%B5.ipynb\" target=\"_parent\"><img src=\"https://colab.research.google.com/assets/colab-badge.svg\" alt=\"Open In Colab\"/></a>"
      ]
    },
    {
      "cell_type": "markdown",
      "source": [
        "# 복습"
      ],
      "metadata": {
        "id": "lqBWX6f4TPMP"
      }
    },
    {
      "cell_type": "code",
      "execution_count": 2,
      "metadata": {
        "colab": {
          "base_uri": "https://localhost:8080/"
        },
        "id": "-uPWNP7mSQ33",
        "outputId": "f9e46ff4-8bb3-4a8e-e54b-476063a5ff30"
      },
      "outputs": [
        {
          "output_type": "stream",
          "name": "stdout",
          "text": [
            "\n",
            "Life is too short\n",
            "You need python\n",
            "\n",
            "Life is too short\n",
            "You need python too\n"
          ]
        }
      ],
      "source": [
        "multiline='''\n",
        "Life is too short\n",
        "You need python\n",
        "'''\n",
        "\n",
        "print(multiline)\n",
        "\n",
        "multiline2=\"Life is too short\\nYou need python too\"\n",
        "\n",
        "print(multiline2)\n",
        "\n"
      ]
    },
    {
      "cell_type": "code",
      "source": [
        "head=\"I\"\n",
        "body=\" don't\"\n",
        "tail=\" know\"\n",
        "\n",
        "head+body+tail"
      ],
      "metadata": {
        "colab": {
          "base_uri": "https://localhost:8080/",
          "height": 37
        },
        "id": "UCeIDxwfVjpB",
        "outputId": "a34e71aa-a396-4de5-9827-62ea8c1f3f48"
      },
      "execution_count": 4,
      "outputs": [
        {
          "output_type": "execute_result",
          "data": {
            "application/vnd.google.colaboratory.intrinsic+json": {
              "type": "string"
            },
            "text/plain": [
              "\"I don't know\""
            ]
          },
          "metadata": {},
          "execution_count": 4
        }
      ]
    },
    {
      "cell_type": "code",
      "source": [
        "a = \"jump! \"\n",
        "a*2"
      ],
      "metadata": {
        "colab": {
          "base_uri": "https://localhost:8080/",
          "height": 37
        },
        "id": "wjqcvcuuVzhv",
        "outputId": "b4ca58ea-03c9-448a-9a64-cd1bbad0c551"
      },
      "execution_count": 5,
      "outputs": [
        {
          "output_type": "execute_result",
          "data": {
            "application/vnd.google.colaboratory.intrinsic+json": {
              "type": "string"
            },
            "text/plain": [
              "'jump! jump! '"
            ]
          },
          "metadata": {},
          "execution_count": 5
        }
      ]
    },
    {
      "cell_type": "code",
      "source": [
        "b = \"You don't know why I start this.\"\n",
        "b[4]\n",
        "b[-4]\n",
        "b[-0]\n",
        "c= b[0] + b[5] + b[2]\n",
        "c"
      ],
      "metadata": {
        "colab": {
          "base_uri": "https://localhost:8080/",
          "height": 37
        },
        "id": "cricROJ7V9Gs",
        "outputId": "0d45603d-d73f-4562-9e88-b841c4b619cf"
      },
      "execution_count": 10,
      "outputs": [
        {
          "output_type": "execute_result",
          "data": {
            "application/vnd.google.colaboratory.intrinsic+json": {
              "type": "string"
            },
            "text/plain": [
              "'You'"
            ]
          },
          "metadata": {},
          "execution_count": 10
        }
      ]
    },
    {
      "cell_type": "code",
      "source": [
        "a=\"Pithon\"\n",
        "a[:1]\n",
        "a[1]='y' #error\n",
        "a[:1]+'y'+a[2:]"
      ],
      "metadata": {
        "colab": {
          "base_uri": "https://localhost:8080/",
          "height": 198
        },
        "id": "5mA6YhLuWsPQ",
        "outputId": "3a08786a-81ab-49be-903a-03eb4e041878"
      },
      "execution_count": 14,
      "outputs": [
        {
          "output_type": "error",
          "ename": "TypeError",
          "evalue": "ignored",
          "traceback": [
            "\u001b[0;31m---------------------------------------------------------------------------\u001b[0m",
            "\u001b[0;31mTypeError\u001b[0m                                 Traceback (most recent call last)",
            "\u001b[0;32m<ipython-input-14-41e113686bfd>\u001b[0m in \u001b[0;36m<module>\u001b[0;34m()\u001b[0m\n\u001b[1;32m      1\u001b[0m \u001b[0ma\u001b[0m\u001b[0;34m=\u001b[0m\u001b[0;34m\"Pithon\"\u001b[0m\u001b[0;34m\u001b[0m\u001b[0;34m\u001b[0m\u001b[0m\n\u001b[1;32m      2\u001b[0m \u001b[0;34m\u001b[0m\u001b[0m\n\u001b[0;32m----> 3\u001b[0;31m \u001b[0ma\u001b[0m\u001b[0;34m[\u001b[0m\u001b[0;36m1\u001b[0m\u001b[0;34m]\u001b[0m\u001b[0;34m=\u001b[0m\u001b[0;34m'y'\u001b[0m\u001b[0;34m\u001b[0m\u001b[0;34m\u001b[0m\u001b[0m\n\u001b[0m",
            "\u001b[0;31mTypeError\u001b[0m: 'str' object does not support item assignment"
          ]
        }
      ]
    },
    {
      "cell_type": "code",
      "source": [
        "\"I eat %d apples\" %3\n",
        "\"how many %s did you eat?\" %\"apples\""
      ],
      "metadata": {
        "colab": {
          "base_uri": "https://localhost:8080/",
          "height": 37
        },
        "id": "odIGRMF7XGDs",
        "outputId": "5ee7d9c5-813e-473e-9d06-8634bd2973fb"
      },
      "execution_count": 16,
      "outputs": [
        {
          "output_type": "execute_result",
          "data": {
            "application/vnd.google.colaboratory.intrinsic+json": {
              "type": "string"
            },
            "text/plain": [
              "'how many apple did you eat?'"
            ]
          },
          "metadata": {},
          "execution_count": 16
        }
      ]
    },
    {
      "cell_type": "code",
      "source": [
        "number = 10\n",
        "\"I had %d apples\" %number"
      ],
      "metadata": {
        "colab": {
          "base_uri": "https://localhost:8080/",
          "height": 37
        },
        "id": "Vmkd5ZH-XgfJ",
        "outputId": "8add223e-0fa6-41ea-abb4-db8151980d97"
      },
      "execution_count": 17,
      "outputs": [
        {
          "output_type": "execute_result",
          "data": {
            "application/vnd.google.colaboratory.intrinsic+json": {
              "type": "string"
            },
            "text/plain": [
              "'I had 10 apples'"
            ]
          },
          "metadata": {},
          "execution_count": 17
        }
      ]
    },
    {
      "cell_type": "code",
      "source": [
        "number=5\n",
        "day=\"Wednesday\"\n",
        "\n",
        "\"I got %d apples, but I finished all on %s\" %(number, day)"
      ],
      "metadata": {
        "colab": {
          "base_uri": "https://localhost:8080/",
          "height": 37
        },
        "id": "5oY2OWewXnfG",
        "outputId": "f65f656d-ea16-41a3-8d16-4716c65fa5f1"
      },
      "execution_count": 19,
      "outputs": [
        {
          "output_type": "execute_result",
          "data": {
            "application/vnd.google.colaboratory.intrinsic+json": {
              "type": "string"
            },
            "text/plain": [
              "'I got 5 apples, but I finished on Wednesday'"
            ]
          },
          "metadata": {},
          "execution_count": 19
        }
      ]
    },
    {
      "cell_type": "code",
      "source": [
        "\"%-10sJane\" % \"hi\""
      ],
      "metadata": {
        "colab": {
          "base_uri": "https://localhost:8080/",
          "height": 37
        },
        "id": "qPRN_reJX9Pi",
        "outputId": "d675d2ed-d043-4210-f17a-62fb10f337ce"
      },
      "execution_count": 22,
      "outputs": [
        {
          "output_type": "execute_result",
          "data": {
            "application/vnd.google.colaboratory.intrinsic+json": {
              "type": "string"
            },
            "text/plain": [
              "'hi        Jane'"
            ]
          },
          "metadata": {},
          "execution_count": 22
        }
      ]
    },
    {
      "cell_type": "code",
      "source": [
        "\"You got {0} apples\".format(3)"
      ],
      "metadata": {
        "colab": {
          "base_uri": "https://localhost:8080/",
          "height": 37
        },
        "id": "ZKW1QYMEYRK6",
        "outputId": "1b04bb22-886f-40e7-bcb9-3a1918c13097"
      },
      "execution_count": 24,
      "outputs": [
        {
          "output_type": "execute_result",
          "data": {
            "application/vnd.google.colaboratory.intrinsic+json": {
              "type": "string"
            },
            "text/plain": [
              "'You got 3 apples'"
            ]
          },
          "metadata": {},
          "execution_count": 24
        }
      ]
    },
    {
      "cell_type": "code",
      "source": [
        "\"I {0} you\".format(\"love\")"
      ],
      "metadata": {
        "colab": {
          "base_uri": "https://localhost:8080/",
          "height": 37
        },
        "id": "HD1eTUVIYnH9",
        "outputId": "3e00c352-f91d-4051-ce39-f97e1b0b2a94"
      },
      "execution_count": 25,
      "outputs": [
        {
          "output_type": "execute_result",
          "data": {
            "application/vnd.google.colaboratory.intrinsic+json": {
              "type": "string"
            },
            "text/plain": [
              "'I love you'"
            ]
          },
          "metadata": {},
          "execution_count": 25
        }
      ]
    },
    {
      "cell_type": "code",
      "source": [
        "number = 24\n",
        "day = \"Christmas eve\"\n",
        "\"Today is {0}, December. SO lovely {1}\".format(number, day)\n"
      ],
      "metadata": {
        "colab": {
          "base_uri": "https://localhost:8080/",
          "height": 37
        },
        "id": "TUUgRNDjYvbC",
        "outputId": "206ec6f9-6586-454f-f17b-3514f1d1f435"
      },
      "execution_count": 26,
      "outputs": [
        {
          "output_type": "execute_result",
          "data": {
            "application/vnd.google.colaboratory.intrinsic+json": {
              "type": "string"
            },
            "text/plain": [
              "'Today is 24, December. SO lovely Christmas eve'"
            ]
          },
          "metadata": {},
          "execution_count": 26
        }
      ]
    },
    {
      "cell_type": "code",
      "source": [
        "\"Today is {number}, December. So lovely {day}\".format(number=1, day=\"my birthday\")"
      ],
      "metadata": {
        "colab": {
          "base_uri": "https://localhost:8080/",
          "height": 37
        },
        "id": "wLu9wmokZC84",
        "outputId": "71e94cba-aea5-427c-98b3-b097a1e6f587"
      },
      "execution_count": 28,
      "outputs": [
        {
          "output_type": "execute_result",
          "data": {
            "application/vnd.google.colaboratory.intrinsic+json": {
              "type": "string"
            },
            "text/plain": [
              "'Today is 1, December. So lovely my birthday'"
            ]
          },
          "metadata": {},
          "execution_count": 28
        }
      ]
    },
    {
      "cell_type": "code",
      "source": [
        "\"Venti Americano is {0}. But {day} it will be free\".format(4.5, day=\"tomorrow\")"
      ],
      "metadata": {
        "colab": {
          "base_uri": "https://localhost:8080/",
          "height": 37
        },
        "id": "IDUS89sXZc0B",
        "outputId": "d918d87c-18d9-4cf6-e01b-59e165e4fe19"
      },
      "execution_count": 29,
      "outputs": [
        {
          "output_type": "execute_result",
          "data": {
            "application/vnd.google.colaboratory.intrinsic+json": {
              "type": "string"
            },
            "text/plain": [
              "'Venti Americano is 4.5. But tomorrow will be free'"
            ]
          },
          "metadata": {},
          "execution_count": 29
        }
      ]
    },
    {
      "cell_type": "code",
      "source": [
        "\"{0:^10}\".format(\"hi!\") #가운데정렬\n",
        "\"{0:=^10}\".format(\"next\") #공백채우기\n",
        "\"{0:<10}\".format(\"bye\")#왼쪽 정렬\n",
        "\"{0:>10}\".format(\"why\")#오른쪽 정렬\n"
      ],
      "metadata": {
        "colab": {
          "base_uri": "https://localhost:8080/",
          "height": 37
        },
        "id": "NtIguH0TZ6uY",
        "outputId": "4d5037da-40f1-40d5-ef17-11014bd1efb1"
      },
      "execution_count": 35,
      "outputs": [
        {
          "output_type": "execute_result",
          "data": {
            "application/vnd.google.colaboratory.intrinsic+json": {
              "type": "string"
            },
            "text/plain": [
              "'       why'"
            ]
          },
          "metadata": {},
          "execution_count": 35
        }
      ]
    },
    {
      "cell_type": "code",
      "source": [
        "\"{{and}}\".format()"
      ],
      "metadata": {
        "colab": {
          "base_uri": "https://localhost:8080/",
          "height": 37
        },
        "id": "bweTcCFwa0YL",
        "outputId": "97b8bfcc-0929-4e57-c746-c03ff4c25dbc"
      },
      "execution_count": 36,
      "outputs": [
        {
          "output_type": "execute_result",
          "data": {
            "application/vnd.google.colaboratory.intrinsic+json": {
              "type": "string"
            },
            "text/plain": [
              "'{and}'"
            ]
          },
          "metadata": {},
          "execution_count": 36
        }
      ]
    }
  ]
}