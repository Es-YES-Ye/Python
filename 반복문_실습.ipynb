{
  "nbformat": 4,
  "nbformat_minor": 0,
  "metadata": {
    "colab": {
      "name": "반복문 실습.ipynb",
      "provenance": [],
      "collapsed_sections": [],
      "authorship_tag": "ABX9TyOoz4pEFYpXuDYLUicvYmW+",
      "include_colab_link": true
    },
    "kernelspec": {
      "name": "python3",
      "display_name": "Python 3"
    },
    "language_info": {
      "name": "python"
    }
  },
  "cells": [
    {
      "cell_type": "markdown",
      "metadata": {
        "id": "view-in-github",
        "colab_type": "text"
      },
      "source": [
        "<a href=\"https://colab.research.google.com/github/Es-YES-Ye/Python/blob/main/%EB%B0%98%EB%B3%B5%EB%AC%B8_%EC%8B%A4%EC%8A%B5.ipynb\" target=\"_parent\"><img src=\"https://colab.research.google.com/assets/colab-badge.svg\" alt=\"Open In Colab\"/></a>"
      ]
    },
    {
      "cell_type": "markdown",
      "source": [
        "1. 사용자로부터 삼각형의 밑변과 높이를 입력받아 넓이를 출력하시오.\n",
        "   밑변과 높이는 실수를 입력할 수 있으며 넓이는 소수점 이하 2째 자리까지 출력하시오.\n"
      ],
      "metadata": {
        "id": "FnRyZNrHW33c"
      }
    },
    {
      "cell_type": "code",
      "source": [
        "  #사용자로부터 삼각형 밑변 (실수)\n",
        "w=float(input(\"삼각형의 밑변 : \"))\n",
        "  #사용자로부터 삼각형 높이 (실수)\n",
        "h=float(input(\"삼각형의 높이 : \"))\n",
        "  #삼각형 넓이 구하기 (소수점 이하 2개짜리 출력-이부분 검색)\n",
        "a=(w*h)/2\n",
        "print('넓이는 : %0.2f' %a ) \n",
        "\n"
      ],
      "metadata": {
        "colab": {
          "base_uri": "https://localhost:8080/"
        },
        "id": "uYUOzClfW_tu",
        "outputId": "f018fe71-0a54-4ea0-b4e2-6b47e14fd27a"
      },
      "execution_count": 10,
      "outputs": [
        {
          "output_type": "stream",
          "name": "stdout",
          "text": [
            "삼각형의 밑변 : 12\n",
            "삼각형의 높이 : 2\n",
            "넓이는 : 12.00\n"
          ]
        }
      ]
    },
    {
      "cell_type": "markdown",
      "source": [
        "2. 두 개의 정수를 입력받아 작은 수가 큰 수의 약수인지 아닌지를 출력하시오.\n"
      ],
      "metadata": {
        "id": "Kgxs7zWLW4wp"
      }
    },
    {
      "cell_type": "code",
      "execution_count": 28,
      "metadata": {
        "colab": {
          "base_uri": "https://localhost:8080/"
        },
        "id": "aJ6k3crcWz5_",
        "outputId": "9bd4cf8c-354d-44b9-db7b-8a2b8b19a5c1"
      },
      "outputs": [
        {
          "output_type": "stream",
          "name": "stdout",
          "text": [
            "정수 1 :14\n",
            "정수 2 :7\n",
            "7는(은) 약수입니다.\n"
          ]
        }
      ],
      "source": [
        "  #정수 a 입력 받기\n",
        "a=int(input(\"정수 1 :\"))\n",
        "  #정수 b 입력 받기\n",
        "b=int(input(\"정수 2 :\"))\n",
        "#효율적인 방법\n",
        "\n",
        "if a>b: #a가 b보다 크면\n",
        "    temp = a #a,b 교환\n",
        "    a = b\n",
        "    b = temp\n",
        "    #a,b=b,a  \n",
        "if b%a == 0: #만약 b%a==0이면\n",
        "    print('%d는(은) 약수입니다.'%a)\n",
        "else: #아니면\n",
        "    print('약수가 아닙니다.') #노약수\n",
        "\n",
        "#그 외 방법1\n",
        "  #만약 a > b 면:\n",
        "    #만약 a%b == 0면:\n",
        "      #b는 a의 약수이다\n",
        "    #만약 a%b != 0면:\n",
        "      #b는 a의 약수가 아니다.\n",
        "  #만약 a < b 면:\n",
        "    #만약 b%a ==0면:\n",
        "      #a는 b의 약수이다\n",
        "    #만약 b%a !=0 면:\n",
        "      #a는 b의 약수가 아니다.\n",
        "\n",
        "#그 외 방법2      \n",
        "  #a%b == a면:\n",
        "    #b%a == 0면:\n",
        "      #a는 b의 약수이다\n",
        "    #b%a != 0면:\n",
        "      #a는 b의 약수가 아니다.\n",
        "  #a%b == 0면:\n",
        "    #b는 a의 약수이다.\n"
      ]
    },
    {
      "cell_type": "markdown",
      "source": [
        "\n",
        "3. 두 개의 정수를 입력받아 두 개의 정수 사이의 정수의 합계를 구하여 출력하시오.\n"
      ],
      "metadata": {
        "id": "Xhq-1e2fW52y"
      }
    },
    {
      "cell_type": "code",
      "source": [
        "  #정수 c 입력받기\n",
        "c=int(input(\"정수 1 :\"))\n",
        "  #정수 d 입력받기\n",
        "d=int(input(\"정수 2 :\"))\n",
        "listcd = []\n",
        "\n",
        "if c>d: #만약 c>d면:\n",
        "    for i in range(d+1,c): #for문으로 d부터 d까지\n",
        "      listcd.append(i)  #리스트에 각 숫자를 넣기\n",
        "if c<d:  #만약 c<d면:\n",
        "    for i in range(c,d): #for문으로 c부터 d까지 \n",
        "      listcd.append(i) #리스트에 각 숫자를 넣기\n",
        "if c==d:  #만약 c==d면:\n",
        "    print('두 정수 사이의 수가 없습니다.') #출력 : 두 정수 사이의 수가 없습니다.\n",
        "\n",
        "sum=0\n",
        "for i in range(0,len(listcd)): #for문으로 리스트 인덱스0부터 리스트길이까지\n",
        "    sum+=int(listcd[i])  #리스트의 모든 값을 더하기\n",
        "\n",
        "print('두 수 사이의 총합 : ' + str(sum))"
      ],
      "metadata": {
        "colab": {
          "base_uri": "https://localhost:8080/"
        },
        "id": "GGnYMeaZXDRM",
        "outputId": "c434eee8-8b90-4c4b-f7fd-cbd4ab967876"
      },
      "execution_count": 47,
      "outputs": [
        {
          "output_type": "stream",
          "name": "stdout",
          "text": [
            "정수 1 :2\n",
            "정수 2 :1\n",
            "총합 : 0\n"
          ]
        }
      ]
    },
    {
      "cell_type": "markdown",
      "source": [
        "4. n개의 정수를 입력받아 평균과 표준 편차를 구하시오."
      ],
      "metadata": {
        "id": "3k-fQuC8W7If"
      }
    },
    {
      "cell_type": "code",
      "source": [
        "count=int(input(\"몇 개의 정수를 입력하는지? :\"))  #몇 개를 입력할 건지 묻기, count\n",
        "num=0\n",
        "nums=[]\n",
        "\n",
        "for i in range (0, count):  #for문으로 range 는 count까지\n",
        "    num = (int(input (f\"정수{i+1} :\"))) #input 정수 i 입력받는다.\n",
        "    nums.append(num) #리스트에 넣는다\n",
        "print(nums)\n",
        "\n",
        "sum=0\n",
        "for j in range (0, len(nums)): #for문으로 리스트인덱스0부터 리스트 길이까지 \n",
        "  sum += int(nums[j])#각 요소값을 더해서 최종 sum에 넣는다\n",
        "  avg = sum/len(nums) #sum을 리스트 길이로 나눠서 avg에 넣는다\n",
        "\n",
        "print('평균 : ' + str(avg))  #avg 출력\n",
        "\n",
        "sum2=0\n",
        "for k in range (0, len(nums)): #for문으로 0부터 리스트 길이까지\n",
        "  sum2 += (avg - int(nums[k]))**2  #(avg - 리스트[인덱스])를 매번 제곱해서 더한 다음 최종 sum2에 넣는다\n",
        "\n",
        "complete = sum2/(count-1) #sum2를 (count-1) 로 나눈다 complete에 넣는다 이게 분산\n",
        "\n",
        "print('분산 : ' + str(complete))\n",
        "\n",
        "#sum2에 루트를 씌우고 complete2에 넣는다\n",
        "complete2 = complete ** (1/2)\n",
        "print('표준 편차 : ' + str(complete2))\n"
      ],
      "metadata": {
        "colab": {
          "base_uri": "https://localhost:8080/"
        },
        "id": "0JsBqja-XDzn",
        "outputId": "95e797a6-d86c-4bf9-c5ab-3b5d356f4b4d"
      },
      "execution_count": 53,
      "outputs": [
        {
          "output_type": "stream",
          "name": "stdout",
          "text": [
            "몇 개의 정수를 입력하는지? :2\n",
            "정수{i} :10\n",
            "정수{i} :20\n",
            "[10, 20]\n",
            "평균 : 15.0\n",
            "분산 : 50.0\n",
            "표준 편차 : 7.0710678118654755\n"
          ]
        }
      ]
    },
    {
      "cell_type": "markdown",
      "source": [
        "5. n명의 국어, 영어, 수학 점수를 입력받아 출력하시오."
      ],
      "metadata": {
        "id": "80QTCWOcW8SG"
      }
    },
    {
      "cell_type": "code",
      "source": [
        "subjects = (\"국어\", \"영어\", \"수학\")  #과목 이름 국어, 영어, 수학을 묶어서 튜플 subject에 넣기\n",
        "count=int(input(\"몇 명을 입력하는지? :\"))  #몇 명 입력할 건지 묻기, count 에 넣기\n",
        "scores_dic = {}  #딕셔너리에 학생과 점수를 키와 값으로 묶어서 넣기: scores_dic\n",
        "\n",
        "\n",
        "for i in range (count):  #for문으로 range는 count까지, \n",
        "  name = input(f\"학생{i+1}의 이름 : \") #input 학생 이름 받기\n",
        "  scores = [] #점수들을 리스트로 받기: scores\n",
        "  for s in subjects: #for문으로 과목별 점수 받아서 튜플 subject에 넣기 \n",
        "    score = int(input(f\"{s}\"))  #input 점수 입력받기\n",
        "    scores.append(score) #scores에 정보를 넣기\n",
        "  scores_dic[name]=scores\n",
        "\n",
        "print(scores_dic)  #딕셔너리를 출력\n",
        "\n"
      ],
      "metadata": {
        "colab": {
          "base_uri": "https://localhost:8080/"
        },
        "id": "nJIW8m6oXEiI",
        "outputId": "f6af37c9-4cf7-49c1-f9d7-017da23856d2"
      },
      "execution_count": 57,
      "outputs": [
        {
          "output_type": "stream",
          "name": "stdout",
          "text": [
            "몇 명을 입력하는지? :1\n",
            "학생1의 이름 : 가\n",
            "국어1\n",
            "영어1\n",
            "수학1\n",
            "{'가': [1, 1, 1]}\n"
          ]
        }
      ]
    },
    {
      "cell_type": "markdown",
      "source": [
        "6. n명의 국어, 영어, 수학 점수를 입력받아 과목별 합계, 평균, 표준 편차를 출력하시오."
      ],
      "metadata": {
        "id": "sYjrJrleW9Z3"
      }
    },
    {
      "cell_type": "code",
      "source": [
        "subject = ('국어', '영어', '수학') #과목 이름을 국어 영어 수학 을 묶어서 튜플 subject에 넣기\n",
        "con = ('합계', '평균', '표준편차') #합계, 평균, 표준편차를 묶어서 튜플 con에 넣기\n",
        "count=int(input(\"몇 명을 입력하는지? :\")) #몇 명 입력할 건지 묻고 count에 넣기\n",
        "scores_dic = {} #딕셔너리에 학생과 각과목점수를 키와 값으로 묶기 위해서 scores_dic 초기화\n",
        "result_dic = {}  # 딕셔너리에 과목 이름과 합계평균표준편차를 키와 값으로 묶기 위해서 result_dic 초기화 \n",
        "\n",
        "\n",
        "for i in range (count):  #for문으로 range는 count까지\n",
        "  name = input(f\"학생{i+1}의 이름 : \")  #input 으로 학생 이름 받아서 name에 넣기\n",
        "  scores = [] #점수들을 리스트 scores 에 넣기 위해서 초기화\n",
        "  \n",
        "  for s in subjects: #for문으로 변수 s를 subject의 요소들을 반복\n",
        "    score = int(input(f\"{s}\"))  #score라는 변수에 각 과목의 점수를 입력 받기\n",
        "    scores.append(score)  #입력받은 점수 score를 scores라는 리스트에 넣기\n",
        "  scores_dic[name] = scores\n",
        "\n",
        "\n",
        "for #과목별 합계는 for문으로 구하기\n",
        "  #for문으로 0부터 3까지\n",
        "    #score[0]부터 score[2] 의 값을 구하고 더해서 sum에 넣는다.\n",
        "#sum을 3으로 나눠서 평균 avg에 넣는다\n",
        "\n",
        "  #딕셔너리에 학생 이름 name을 key로 과목별 점수 scores를 값으로 묶어서 넣기\n",
        "\n",
        "#\n",
        "#평균은\n",
        "\n",
        "\n",
        "\n",
        "sum2=0\n",
        "for k in range (0, len(nums)): #for문으로 0부터 리스트 길이까지\n",
        "  sum2 += (avg - int(nums[k]))**2  #(avg - 리스트[인덱스])를 매번 제곱해서 더한 다음 최종 sum2에 넣는다\n",
        "\n",
        "complete = sum2/(count-1) #sum2를 (count-1) 로 나눈다 complete에 넣는다 이게 분산\n",
        "\n",
        "print('분산 : ' + str(complete))\n",
        "\n",
        "#sum2에 루트를 씌우고 complete2에 넣는다\n",
        "complete2 = complete ** (1/2)\n",
        "print('표준 편차 : ' + str(complete2))\n",
        "\n"
      ],
      "metadata": {
        "id": "i8_E051oXE42"
      },
      "execution_count": null,
      "outputs": []
    },
    {
      "cell_type": "markdown",
      "source": [
        "# 해설"
      ],
      "metadata": {
        "id": "l__JMo4OTBEf"
      }
    },
    {
      "cell_type": "markdown",
      "source": [
        "1. 사용자로부터 삼각형의 밑변과 높이를 입력받아 넓이를 출력하시오.\n",
        "   밑변과 높이는 실수를 입력할 수 있으며 넓이는 소수점 이하 2째 자리까지 출력하시오.\n"
      ],
      "metadata": {
        "id": "TB_-2YuOS_N4"
      }
    },
    {
      "cell_type": "code",
      "source": [
        "bottom = float(input(\"밑변 : \"))\n",
        "height = float(input(\"높이 : \"))\n",
        "print(f\"넓이 : {(bottom*height/2):.2f}\")\n"
      ],
      "metadata": {
        "id": "vnrIN8trTJg_"
      },
      "execution_count": null,
      "outputs": []
    },
    {
      "cell_type": "markdown",
      "source": [
        "2. 두 개의 정수를 입력받아 작은 수가 큰 수의 약수인지 아닌지를 출력하시오."
      ],
      "metadata": {
        "id": "Tm1nj64KS_e_"
      }
    },
    {
      "cell_type": "code",
      "source": [
        "num1 = int(input(\"첫번째 정수 : \"))\n",
        "num2 = int(input(\"두번째 정수 : \"))\n",
        "\n",
        "if num1 > num2:\n",
        "    num1,num2=num2,num1\n",
        "\n",
        "if num2%num1==0:\n",
        "  print(\"약수\")\n",
        "else:\n",
        "  print(\"약수가 아니다\")"
      ],
      "metadata": {
        "id": "nGxu5DwlTYjf"
      },
      "execution_count": null,
      "outputs": []
    },
    {
      "cell_type": "markdown",
      "source": [
        "3. 두 개의 정수를 입력받아 두 개의 정수 사이의 정수의 합계를 구하여 출력하시오."
      ],
      "metadata": {
        "id": "TCU1BXeOTAIx"
      }
    },
    {
      "cell_type": "code",
      "source": [
        "num1 = int(input(\"첫번째 정수 : \"))\n",
        "num2 = int(input(\"두번째 정수 : \"))\n",
        "\n",
        "\n",
        "if num1 > num2:\n",
        "    num1,num2=num2,num1\n",
        "\n",
        "s=0\n",
        "\n",
        "for i in range(num1, num2+1):\n",
        "  s += i\n",
        "print(f\"{num1}에서 {num2}까지 합계: {s}\")"
      ],
      "metadata": {
        "id": "TQI0v38RT0bV"
      },
      "execution_count": null,
      "outputs": []
    },
    {
      "cell_type": "markdown",
      "source": [
        "4. n개의 정수를 입력받아 평균과 표준 편차를 구하시오."
      ],
      "metadata": {
        "id": "FcrGnMJ9TAe1"
      }
    },
    {
      "cell_type": "code",
      "source": [
        "import math \n",
        "\n",
        "n = int(input(\"입력할 개수 : \"))\n",
        "nums=[]\n",
        "\n",
        "#for num in range(n):\n",
        "#  nums.append(int(input(f\"{num+1}번째 정수 : \")))\n",
        "\n",
        "#같은 의미\n",
        "for i in range(n):\n",
        "  num = int(input(f\"{i+1}번째 정수 : \"))\n",
        "  nums.append(num)\n",
        "avg = sum(nums)/n\n",
        "print(f\"평균:{avg}\")\n",
        "\n",
        "ss=0\n",
        "for elem in nums:\n",
        "  ss += (avg - elem) **2\n",
        "\n",
        "var = ss/n #분산\n",
        "#stddev = var ** (1/2) 표준편차\n",
        "stddev = math.sqrt(var) #math를 import 해서 표준편차 구하기\n",
        "\n",
        "print(f\"표준 편차 : {stddev : .2f}\")"
      ],
      "metadata": {
        "colab": {
          "base_uri": "https://localhost:8080/"
        },
        "id": "KNbSR6svT090",
        "outputId": "74f9f5c5-e396-4cfb-ced7-fa803a9620b7"
      },
      "execution_count": 1,
      "outputs": [
        {
          "output_type": "stream",
          "name": "stdout",
          "text": [
            "입력할 개수 : 2\n",
            "1번째 정수 : 10\n",
            "2번째 정수 : 20\n",
            "평균:15.0\n",
            "표준 편차 :  5.00\n"
          ]
        }
      ]
    },
    {
      "cell_type": "markdown",
      "source": [
        "5. n명의 국어, 영어, 수학 점수를 입력받아 출력하시오."
      ],
      "metadata": {
        "id": "r0ftrE5GTAu2"
      }
    },
    {
      "cell_type": "code",
      "source": [
        "subjects = (\"국어\", \"영어\", \"수학\")\n",
        "n = int(input(\"입력할 학생 수 : \"))\n",
        "m_dict=dict()\n",
        "for i in range (n):\n",
        "  name = input(f\"{i+1} 번째 학생 이름 : \")\n",
        "  #세 과목 입력받기 \n",
        "  scores = []\n",
        "  for subject in subjects:\n",
        "    score=int(input(f\"{subject} 점수 : \"))\n",
        "    scores.append(score) #scores 컬렉션에 점수를 보관\n",
        "  m_dict[name] = scores\n",
        "print(m_dict)"
      ],
      "metadata": {
        "colab": {
          "base_uri": "https://localhost:8080/"
        },
        "id": "IEDtoFeBT1z3",
        "outputId": "4b7caeb0-bedb-494e-86c7-ac3fb6f8b855"
      },
      "execution_count": 60,
      "outputs": [
        {
          "output_type": "stream",
          "name": "stdout",
          "text": [
            "입력할 학생 수 : 2\n",
            "1 번째 학생 이름 : 화나게하지마\n",
            "국어 점수 : 5\n",
            "영어 점수 : 12\n",
            "수학 점수 : 30\n",
            "2 번째 학생 이름 : 장난하니\n",
            "국어 점수 : 90\n",
            "영어 점수 : 45\n",
            "수학 점수 : 86\n",
            "{'화나게하지마': [5, 12, 30], '장난하니': [90, 45, 86]}\n"
          ]
        }
      ]
    },
    {
      "cell_type": "markdown",
      "source": [
        "6. n명의 국어, 영어, 수학 점수를 입력받아 과목별 합계, 평균, 표준 편차를 출력하시오."
      ],
      "metadata": {
        "id": "UWQwetcCTzhv"
      }
    },
    {
      "cell_type": "code",
      "source": [
        "import math\n",
        "\n",
        "subjects = (\"국어\", \"영어\", \"수학\")\n",
        "n = int(input(\"입력할 학생 수 : \"))\n",
        "\n",
        "scores=[]\n",
        "scores.append([]) #국어\n",
        "scores.append([]) #영어\n",
        "scores.append([]) #수학\n",
        "\n",
        "for i in range (n):\n",
        "  for si, subject in enumerate(subjects): #index 와 element 값 확인이 가능하다\n",
        "    score=int(input(f\"{subject} 점수 : \"))\n",
        "    scores[si].append(score) #scores 컬렉션에 점수를 보관\n",
        "\n",
        "#과목별합계\n",
        "print(\"==============================================\")\n",
        "for si, subject in  enumerate(subjects):\n",
        "  avg = sum(scores[si])/len(scores[si])\n",
        "  print(f\"\\n {subjects[si]} 합계 : {sum(scores[si])}\")\n",
        "#과목별 평균\n",
        "  print(f\"{subjects[si]} 평균 : {avg:.2f}\")\n",
        "  ss=0\n",
        "  for score in scores[si]:\n",
        "    ss += (avg - score) **2\n",
        "  var = ss/n #분산\n",
        "  stddev = math.sqrt(var) #표준편차\n",
        "  print(f\"{subjects[si]} 표준 편차 : {stddev : .2f}\")\n",
        "  print(\"\\n==============================================\")"
      ],
      "metadata": {
        "colab": {
          "base_uri": "https://localhost:8080/"
        },
        "id": "g0tvxdWeT2b8",
        "outputId": "70eb57c6-dfa8-4019-f9e0-2bf9a94e8d2e"
      },
      "execution_count": 6,
      "outputs": [
        {
          "output_type": "stream",
          "name": "stdout",
          "text": [
            "입력할 학생 수 : 2\n",
            "국어 점수 : 10\n",
            "영어 점수 : 20\n",
            "수학 점수 : 30\n",
            "국어 점수 : 10\n",
            "영어 점수 : 20\n",
            "수학 점수 : 30\n",
            "==============================================\n",
            "\n",
            " 국어 합계 : 20\n",
            "국어 평균 : 10.00\n",
            "국어 표준 편차 :  0.00\n",
            "\n",
            "\n",
            "==============================================\n",
            "\n",
            " 영어 합계 : 40\n",
            "영어 평균 : 20.00\n",
            "영어 표준 편차 :  0.00\n",
            "\n",
            "\n",
            "==============================================\n",
            "\n",
            " 수학 합계 : 60\n",
            "수학 평균 : 30.00\n",
            "수학 표준 편차 :  0.00\n",
            "\n",
            "\n",
            "==============================================\n"
          ]
        }
      ]
    }
  ]
}