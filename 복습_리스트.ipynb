{
  "nbformat": 4,
  "nbformat_minor": 0,
  "metadata": {
    "colab": {
      "name": "복습-리스트.ipynb",
      "provenance": [],
      "authorship_tag": "ABX9TyNnWT7zbmVpHk8wRO8pCriC",
      "include_colab_link": true
    },
    "kernelspec": {
      "name": "python3",
      "display_name": "Python 3"
    },
    "language_info": {
      "name": "python"
    }
  },
  "cells": [
    {
      "cell_type": "markdown",
      "metadata": {
        "id": "view-in-github",
        "colab_type": "text"
      },
      "source": [
        "<a href=\"https://colab.research.google.com/github/Es-YES-Ye/Python/blob/main/%EB%B3%B5%EC%8A%B5_%EB%A6%AC%EC%8A%A4%ED%8A%B8.ipynb\" target=\"_parent\"><img src=\"https://colab.research.google.com/assets/colab-badge.svg\" alt=\"Open In Colab\"/></a>"
      ]
    },
    {
      "cell_type": "markdown",
      "source": [
        "# 리스트"
      ],
      "metadata": {
        "id": "h-kHnk6FlXmR"
      }
    },
    {
      "cell_type": "code",
      "execution_count": 4,
      "metadata": {
        "colab": {
          "base_uri": "https://localhost:8080/",
          "height": 37
        },
        "id": "8khWy_QHlWZG",
        "outputId": "c3035aff-03b7-4202-903e-6deda1dac2a9"
      },
      "outputs": [
        {
          "output_type": "execute_result",
          "data": {
            "application/vnd.google.colaboratory.intrinsic+json": {
              "type": "string"
            },
            "text/plain": [
              "'soso'"
            ]
          },
          "metadata": {},
          "execution_count": 4
        }
      ],
      "source": [
        "odd=[1,3,5,7,9]\n",
        "a=[]\n",
        "b=['a','good','b','great']\n",
        "c=[1,3,['soso', 'perfect']]\n",
        "sum = odd[3]+odd[4]\n",
        "c[2], b[0], sum, b[-1]\n",
        "#-1은 마지막 요솟값\n",
        "c[2][0]#c에 들어간 리스트의 0번째 요소 "
      ]
    },
    {
      "cell_type": "code",
      "source": [
        "a=[1,2,['a','b',['Life','Egg']]]\n",
        "a[2][2][0]"
      ],
      "metadata": {
        "colab": {
          "base_uri": "https://localhost:8080/",
          "height": 37
        },
        "id": "ap-N-WvAmgMt",
        "outputId": "e0fce992-f6cf-4e58-b1de-af5e3b858139"
      },
      "execution_count": 5,
      "outputs": [
        {
          "output_type": "execute_result",
          "data": {
            "application/vnd.google.colaboratory.intrinsic+json": {
              "type": "string"
            },
            "text/plain": [
              "'Life'"
            ]
          },
          "metadata": {},
          "execution_count": 5
        }
      ]
    },
    {
      "cell_type": "code",
      "source": [
        "a=[1,2,3,4,5,6,7]\n",
        "a[0:2]\n",
        "b=[1,2,3,['a','b','c'],4,5]\n",
        "b[3][:2]"
      ],
      "metadata": {
        "colab": {
          "base_uri": "https://localhost:8080/"
        },
        "id": "ArEJ4Oq6nRmK",
        "outputId": "a6796ad3-e528-49cb-b005-a38abfa89452"
      },
      "execution_count": 7,
      "outputs": [
        {
          "output_type": "execute_result",
          "data": {
            "text/plain": [
              "['a', 'b']"
            ]
          },
          "metadata": {},
          "execution_count": 7
        }
      ]
    },
    {
      "cell_type": "code",
      "source": [
        "a=[1,2,3]\n",
        "b=[4,5,6]\n",
        "a+b\n",
        "len(a) #리스트의 길이\n",
        "str(a[2])+\"hi\" #문자열과 더하고 싶으면 형변환 하고 더하기\n",
        "a[2]=4#리스트의 요소를 바꿀 수 있다\n",
        "a"
      ],
      "metadata": {
        "colab": {
          "base_uri": "https://localhost:8080/"
        },
        "id": "N89ETDdhoFxN",
        "outputId": "dc867b0c-4017-4e5c-e160-ac7c894b2df9"
      },
      "execution_count": 12,
      "outputs": [
        {
          "output_type": "execute_result",
          "data": {
            "text/plain": [
              "[1, 2, 4]"
            ]
          },
          "metadata": {},
          "execution_count": 12
        }
      ]
    },
    {
      "cell_type": "code",
      "source": [
        "a=[1,2,3]\n",
        "del a[1]\n",
        "a\n",
        "a.append(4)\n",
        "a"
      ],
      "metadata": {
        "colab": {
          "base_uri": "https://localhost:8080/"
        },
        "id": "QjfIIfK3o9_9",
        "outputId": "d0e82c5d-d6dc-40fb-a5ce-08030d7f746f"
      },
      "execution_count": 15,
      "outputs": [
        {
          "output_type": "execute_result",
          "data": {
            "text/plain": [
              "[1, 3, 4]"
            ]
          },
          "metadata": {},
          "execution_count": 15
        }
      ]
    },
    {
      "cell_type": "code",
      "source": [
        "a=[6,3,11,1,4]\n",
        "a.sort() #순서대로 정렬\n",
        "a "
      ],
      "metadata": {
        "colab": {
          "base_uri": "https://localhost:8080/"
        },
        "id": "52NODktYpJgs",
        "outputId": "a40c9e38-d07a-4920-c039-0d4d30ad9592"
      },
      "execution_count": 18,
      "outputs": [
        {
          "output_type": "execute_result",
          "data": {
            "text/plain": [
              "[1, 3, 4, 6, 11]"
            ]
          },
          "metadata": {},
          "execution_count": 18
        }
      ]
    },
    {
      "cell_type": "code",
      "source": [
        "a=['z','d','a','c','r']\n",
        "a.sort()\n",
        "a\n",
        "a.reverse() #역순\n",
        "a\n",
        "a.index('a') #a 위치의 값"
      ],
      "metadata": {
        "colab": {
          "base_uri": "https://localhost:8080/"
        },
        "id": "lHIObMgbpbcK",
        "outputId": "5e7d47b8-b7f4-4aa9-c65e-f32d87871c0e"
      },
      "execution_count": 23,
      "outputs": [
        {
          "output_type": "execute_result",
          "data": {
            "text/plain": [
              "4"
            ]
          },
          "metadata": {},
          "execution_count": 23
        }
      ]
    },
    {
      "cell_type": "code",
      "source": [
        "a=[1,2,3]\n",
        "a.index(0) #없는 값을 주면 에러\n",
        "a.index(2)"
      ],
      "metadata": {
        "colab": {
          "base_uri": "https://localhost:8080/",
          "height": 198
        },
        "id": "cmyDvDzUqR6j",
        "outputId": "d654bcad-5a55-4e4f-c38a-994c90af83c2"
      },
      "execution_count": 24,
      "outputs": [
        {
          "output_type": "error",
          "ename": "ValueError",
          "evalue": "ignored",
          "traceback": [
            "\u001b[0;31m---------------------------------------------------------------------------\u001b[0m",
            "\u001b[0;31mValueError\u001b[0m                                Traceback (most recent call last)",
            "\u001b[0;32m<ipython-input-24-416d1387f543>\u001b[0m in \u001b[0;36m<module>\u001b[0;34m()\u001b[0m\n\u001b[1;32m      1\u001b[0m \u001b[0ma\u001b[0m\u001b[0;34m=\u001b[0m\u001b[0;34m[\u001b[0m\u001b[0;36m1\u001b[0m\u001b[0;34m,\u001b[0m\u001b[0;36m2\u001b[0m\u001b[0;34m,\u001b[0m\u001b[0;36m3\u001b[0m\u001b[0;34m]\u001b[0m\u001b[0;34m\u001b[0m\u001b[0;34m\u001b[0m\u001b[0m\n\u001b[0;32m----> 2\u001b[0;31m \u001b[0ma\u001b[0m\u001b[0;34m.\u001b[0m\u001b[0mindex\u001b[0m\u001b[0;34m(\u001b[0m\u001b[0;36m0\u001b[0m\u001b[0;34m)\u001b[0m \u001b[0;31m#없는 값을 주면 에러\u001b[0m\u001b[0;34m\u001b[0m\u001b[0;34m\u001b[0m\u001b[0m\n\u001b[0m\u001b[1;32m      3\u001b[0m \u001b[0ma\u001b[0m\u001b[0;34m.\u001b[0m\u001b[0mindex\u001b[0m\u001b[0;34m(\u001b[0m\u001b[0;36m2\u001b[0m\u001b[0;34m)\u001b[0m\u001b[0;34m\u001b[0m\u001b[0;34m\u001b[0m\u001b[0m\n",
            "\u001b[0;31mValueError\u001b[0m: 0 is not in list"
          ]
        }
      ]
    },
    {
      "cell_type": "code",
      "source": [
        "b=[1,2,3]\n",
        "b.insert(0,4) #b[0] 위치에 4를 삽입해라\n",
        "b\n",
        "b.remove(3) #리스트에서 첫번째로 나오는 (값)을 삭제한다\n",
        "b"
      ],
      "metadata": {
        "colab": {
          "base_uri": "https://localhost:8080/"
        },
        "id": "RfWuqIdIqiZF",
        "outputId": "0dfe15b6-ec10-4c69-9719-f857eee9069d"
      },
      "execution_count": 26,
      "outputs": [
        {
          "output_type": "execute_result",
          "data": {
            "text/plain": [
              "[4, 1, 2]"
            ]
          },
          "metadata": {},
          "execution_count": 26
        }
      ]
    },
    {
      "cell_type": "code",
      "source": [
        "a=[3, 4, 3, 5, 6, 7, 3]\n",
        "a.remove(3)\n",
        "a\n",
        "a.pop() #맨 마지막 요소를 돌려주고 그 요소를 삭제\n",
        "a\n",
        "a.pop(1)\n",
        "a\n",
        "a.pop(2) #해당 인덱스의 요소를 돌려주고 삭제"
      ],
      "metadata": {
        "colab": {
          "base_uri": "https://localhost:8080/"
        },
        "id": "K9toWE9-rFMc",
        "outputId": "81fb628f-da37-450d-8eda-f860de62b328"
      },
      "execution_count": 32,
      "outputs": [
        {
          "output_type": "execute_result",
          "data": {
            "text/plain": [
              "6"
            ]
          },
          "metadata": {},
          "execution_count": 32
        }
      ]
    },
    {
      "cell_type": "code",
      "source": [
        "b=[1,2,3,1,5,6,1,7,8]\n",
        "b.count(1) #리스트 내에 1이 몇 개 들어있는지\n",
        "b.extend([10, 11])\n",
        "b\n",
        "c=[100,101]\n",
        "b.extend(c) #원래의 리스트 b 에 리스트를 더할 수 있다\n",
        "b"
      ],
      "metadata": {
        "colab": {
          "base_uri": "https://localhost:8080/"
        },
        "id": "K5v-bpo_r4Qr",
        "outputId": "abb15739-073d-47e6-cb2a-970bf6a6331e"
      },
      "execution_count": 35,
      "outputs": [
        {
          "output_type": "execute_result",
          "data": {
            "text/plain": [
              "[1, 2, 3, 1, 5, 6, 1, 7, 8, 10, 11, 100, 101]"
            ]
          },
          "metadata": {},
          "execution_count": 35
        }
      ]
    }
  ]
}