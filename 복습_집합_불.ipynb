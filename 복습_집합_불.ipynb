{
  "nbformat": 4,
  "nbformat_minor": 0,
  "metadata": {
    "colab": {
      "name": "복습-집합_불.ipynb",
      "provenance": [],
      "authorship_tag": "ABX9TyO8kbzxtBI7Rw9e0WsRb2wC",
      "include_colab_link": true
    },
    "kernelspec": {
      "name": "python3",
      "display_name": "Python 3"
    },
    "language_info": {
      "name": "python"
    }
  },
  "cells": [
    {
      "cell_type": "markdown",
      "metadata": {
        "id": "view-in-github",
        "colab_type": "text"
      },
      "source": [
        "<a href=\"https://colab.research.google.com/github/Es-YES-Ye/Python/blob/main/%EB%B3%B5%EC%8A%B5_%EC%A7%91%ED%95%A9_%EB%B6%88.ipynb\" target=\"_parent\"><img src=\"https://colab.research.google.com/assets/colab-badge.svg\" alt=\"Open In Colab\"/></a>"
      ]
    },
    {
      "cell_type": "markdown",
      "source": [
        "#set"
      ],
      "metadata": {
        "id": "IPAGkD73JG9M"
      }
    },
    {
      "cell_type": "code",
      "execution_count": 1,
      "metadata": {
        "colab": {
          "base_uri": "https://localhost:8080/"
        },
        "id": "eaICCOEXIOSd",
        "outputId": "86e90529-e838-4885-80a9-ceac2830149a"
      },
      "outputs": [
        {
          "output_type": "execute_result",
          "data": {
            "text/plain": [
              "{1, 2, 3}"
            ]
          },
          "metadata": {},
          "execution_count": 1
        }
      ],
      "source": [
        "s1=set([1,2,3])\n",
        "s1"
      ]
    },
    {
      "cell_type": "code",
      "source": [
        "s2=set(\"hello\") #중복을 허용하지 않는다, 순서가 없다\n",
        "s2 "
      ],
      "metadata": {
        "colab": {
          "base_uri": "https://localhost:8080/"
        },
        "id": "sVueHCQqIlu0",
        "outputId": "b06c3959-53f0-498b-fa8a-550d81524814"
      },
      "execution_count": 3,
      "outputs": [
        {
          "output_type": "execute_result",
          "data": {
            "text/plain": [
              "{'e', 'h', 'l', 'o'}"
            ]
          },
          "metadata": {},
          "execution_count": 3
        }
      ]
    },
    {
      "cell_type": "code",
      "source": [
        "#set 자료형에 저장된 값을 인덱싱으로 접근하려면 리스트나 튜플로 변환해야한다\n",
        "s1=set([1,2,3])\n",
        "l1=list(s1)\n",
        "l1\n",
        "l1[0]\n",
        "\n",
        "t1=tuple(s1)\n",
        "t1\n",
        "t1[0]"
      ],
      "metadata": {
        "colab": {
          "base_uri": "https://localhost:8080/"
        },
        "id": "Pzz_PPHQJR0x",
        "outputId": "99ceb26f-b98d-445f-8a1d-29361aea249c"
      },
      "execution_count": 7,
      "outputs": [
        {
          "output_type": "execute_result",
          "data": {
            "text/plain": [
              "1"
            ]
          },
          "metadata": {},
          "execution_count": 7
        }
      ]
    },
    {
      "cell_type": "code",
      "source": [
        "#합집합, 교집합, 차집합\n",
        "s1=set([1,2,3,4,5,6])\n",
        "s2=set([4,5,6,7,8,9])\n",
        "s1&s2 #교집합\n",
        "s1.intersection(s2) #교집합과 동일한 결과\n",
        "s1|s2 #합집합\n",
        "s1-s2 #차집합\n",
        "s1.difference(s2)#s1-s2와 같은 결과"
      ],
      "metadata": {
        "colab": {
          "base_uri": "https://localhost:8080/"
        },
        "id": "C5ZXGx7QJtvZ",
        "outputId": "508ef804-c502-406b-8f8e-0dbb363d1ca2"
      },
      "execution_count": 13,
      "outputs": [
        {
          "output_type": "execute_result",
          "data": {
            "text/plain": [
              "{1, 2, 3}"
            ]
          },
          "metadata": {},
          "execution_count": 13
        }
      ]
    },
    {
      "cell_type": "code",
      "source": [
        "#값 1개 추가하기\n",
        "s1=set([1,2,3])\n",
        "s1.add(4)\n",
        "s1\n",
        "s1.add(1)\n",
        "s1"
      ],
      "metadata": {
        "colab": {
          "base_uri": "https://localhost:8080/"
        },
        "id": "rLgRrhTnKb8M",
        "outputId": "5edd09b0-2862-403a-83f2-2926cc2851c6"
      },
      "execution_count": 17,
      "outputs": [
        {
          "output_type": "execute_result",
          "data": {
            "text/plain": [
              "{1, 2, 3, 4}"
            ]
          },
          "metadata": {},
          "execution_count": 17
        }
      ]
    },
    {
      "cell_type": "code",
      "source": [
        "#값 여러 개 추가하기\n",
        "s1=set([1,2,3])\n",
        "s1.update([4,5,6])\n",
        "s1"
      ],
      "metadata": {
        "colab": {
          "base_uri": "https://localhost:8080/"
        },
        "id": "2_x0Wv8QKpZd",
        "outputId": "fff4b310-d4e3-45d2-8b8d-978b253451c7"
      },
      "execution_count": 19,
      "outputs": [
        {
          "output_type": "execute_result",
          "data": {
            "text/plain": [
              "{1, 2, 3, 4, 5, 6}"
            ]
          },
          "metadata": {},
          "execution_count": 19
        }
      ]
    },
    {
      "cell_type": "code",
      "source": [
        "#특정 값 제거하기\n",
        "s1=set([12,13,14])\n",
        "s1.remove(12)\n",
        "s1"
      ],
      "metadata": {
        "colab": {
          "base_uri": "https://localhost:8080/"
        },
        "id": "FhFhF7AgK0LC",
        "outputId": "e797ceea-bbb4-4e86-f5f5-c1f1defe4ce6"
      },
      "execution_count": 21,
      "outputs": [
        {
          "output_type": "execute_result",
          "data": {
            "text/plain": [
              "{13, 14}"
            ]
          },
          "metadata": {},
          "execution_count": 21
        }
      ]
    },
    {
      "cell_type": "markdown",
      "source": [
        "# 불 자료형"
      ],
      "metadata": {
        "id": "x-31ULWpKme_"
      }
    },
    {
      "cell_type": "code",
      "source": [
        "a=True\n",
        "b=False\n",
        "type(a)"
      ],
      "metadata": {
        "colab": {
          "base_uri": "https://localhost:8080/"
        },
        "id": "iagikFQNLMVL",
        "outputId": "717f3d88-c0e4-40ea-cf0a-676b6c163206"
      },
      "execution_count": 22,
      "outputs": [
        {
          "output_type": "execute_result",
          "data": {
            "text/plain": [
              "bool"
            ]
          },
          "metadata": {},
          "execution_count": 22
        }
      ]
    },
    {
      "cell_type": "code",
      "source": [
        "1==1 #조건문의 반환값으로도 사용\n",
        "2>1\n",
        "2<1"
      ],
      "metadata": {
        "colab": {
          "base_uri": "https://localhost:8080/"
        },
        "id": "ss3M9EhZLTQK",
        "outputId": "2b736853-0b87-47c8-ad11-4c1c2d0937c6"
      },
      "execution_count": 25,
      "outputs": [
        {
          "output_type": "execute_result",
          "data": {
            "text/plain": [
              "False"
            ]
          },
          "metadata": {},
          "execution_count": 25
        }
      ]
    },
    {
      "cell_type": "code",
      "source": [
        "#문자열,리스트,튜플,딕셔너리 등의 값이 비어 있으면 거짓\n",
        "a=[1,2,3,4]\n",
        "while a:\n",
        "  print(a.pop())#a가 참이면 a.pop()을 실행하라"
      ],
      "metadata": {
        "colab": {
          "base_uri": "https://localhost:8080/"
        },
        "id": "zoObqv0pLfYL",
        "outputId": "7c759175-5ef9-42a2-de2d-472d7e32d799"
      },
      "execution_count": 26,
      "outputs": [
        {
          "output_type": "stream",
          "name": "stdout",
          "text": [
            "4\n",
            "3\n",
            "2\n",
            "1\n"
          ]
        }
      ]
    },
    {
      "cell_type": "code",
      "source": [
        "if[1,2,3]:\n",
        "  print(\"참\")\n",
        "else:\n",
        "  print(\"거짓\") #[1,2,3]이 참이면 \"참\"을 출력하고 그렇지지 않으면 \"거짓\"을 출력해라"
      ],
      "metadata": {
        "id": "0tJeowC0L2da"
      },
      "execution_count": null,
      "outputs": []
    },
    {
      "cell_type": "code",
      "source": [
        "if[]:\n",
        "  print(\"참\")\n",
        "else:\n",
        "  print(\"거짓\")"
      ],
      "metadata": {
        "colab": {
          "base_uri": "https://localhost:8080/"
        },
        "id": "In2K_-N3MDlJ",
        "outputId": "e4dd874a-5fd0-4202-abb2-427eb5b6c7dc"
      },
      "execution_count": 27,
      "outputs": [
        {
          "output_type": "stream",
          "name": "stdout",
          "text": [
            "거짓\n"
          ]
        }
      ]
    },
    {
      "cell_type": "code",
      "source": [
        "bool([1,2,3])\n",
        "bool([])\n",
        "bool(0)\n",
        "bool('')#빈 문자열은 False"
      ],
      "metadata": {
        "colab": {
          "base_uri": "https://localhost:8080/"
        },
        "id": "RUoaC_sOMOwk",
        "outputId": "9763663e-1272-47c1-8f7a-1fb4f755bddb"
      },
      "execution_count": 30,
      "outputs": [
        {
          "output_type": "execute_result",
          "data": {
            "text/plain": [
              "False"
            ]
          },
          "metadata": {},
          "execution_count": 30
        }
      ]
    }
  ]
}