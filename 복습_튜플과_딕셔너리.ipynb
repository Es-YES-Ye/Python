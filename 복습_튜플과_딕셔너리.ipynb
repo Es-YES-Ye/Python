{
  "nbformat": 4,
  "nbformat_minor": 0,
  "metadata": {
    "colab": {
      "name": "복습-튜플과 딕셔너리.ipynb",
      "provenance": [],
      "authorship_tag": "ABX9TyMzQMjpuTMr1un4Q4OvWzZQ",
      "include_colab_link": true
    },
    "kernelspec": {
      "name": "python3",
      "display_name": "Python 3"
    },
    "language_info": {
      "name": "python"
    }
  },
  "cells": [
    {
      "cell_type": "markdown",
      "metadata": {
        "id": "view-in-github",
        "colab_type": "text"
      },
      "source": [
        "<a href=\"https://colab.research.google.com/github/Es-YES-Ye/Python/blob/main/%EB%B3%B5%EC%8A%B5_%ED%8A%9C%ED%94%8C%EA%B3%BC_%EB%94%95%EC%85%94%EB%84%88%EB%A6%AC.ipynb\" target=\"_parent\"><img src=\"https://colab.research.google.com/assets/colab-badge.svg\" alt=\"Open In Colab\"/></a>"
      ]
    },
    {
      "cell_type": "markdown",
      "source": [
        "#튜플은 값을 바꿀 수 없다. () 로 둘러싼다."
      ],
      "metadata": {
        "id": "ta-aeNuFlkpe"
      }
    },
    {
      "cell_type": "code",
      "execution_count": 5,
      "metadata": {
        "colab": {
          "base_uri": "https://localhost:8080/"
        },
        "id": "ZqUpAgk3ld2b",
        "outputId": "215b5d23-e292-4f72-890e-24a0201f16b7"
      },
      "outputs": [
        {
          "output_type": "execute_result",
          "data": {
            "text/plain": [
              "((), (1,), (1, 2, 3), (1, 2, 3), ('a', 'b', ('c', 'd')))"
            ]
          },
          "metadata": {},
          "execution_count": 5
        }
      ],
      "source": [
        "t1=()\n",
        "t2=(1,) #한 개의 요소만 가질 때는 요소 뒤에 콤마를 붙여야한다\n",
        "t3=(1,2,3)\n",
        "t4=1,2,3 #괄호 생략도 가능하다\n",
        "t5=('a','b',('c','d'))\n",
        "t1, t2, t3, t4, t5"
      ]
    },
    {
      "cell_type": "code",
      "source": [
        "t1 = (1,2,3,'a','b')\n",
        "t1[0], t1[3]\n"
      ],
      "metadata": {
        "colab": {
          "base_uri": "https://localhost:8080/"
        },
        "id": "XyTEWpknmFCd",
        "outputId": "b0a552b6-3ec3-4c3c-9d80-94b77fa8b5a7"
      },
      "execution_count": 8,
      "outputs": [
        {
          "output_type": "execute_result",
          "data": {
            "text/plain": [
              "(1, 'a')"
            ]
          },
          "metadata": {},
          "execution_count": 8
        }
      ]
    },
    {
      "cell_type": "code",
      "source": [
        "t1=(1,2,3,'a','b')\n",
        "t1[1:]"
      ],
      "metadata": {
        "colab": {
          "base_uri": "https://localhost:8080/"
        },
        "id": "oXBljqsjmdSe",
        "outputId": "a5a2418a-3089-42c6-8117-c3bf3a9951cc"
      },
      "execution_count": 9,
      "outputs": [
        {
          "output_type": "execute_result",
          "data": {
            "text/plain": [
              "(2, 3, 'a', 'b')"
            ]
          },
          "metadata": {},
          "execution_count": 9
        }
      ]
    },
    {
      "cell_type": "code",
      "source": [
        "t1=(1,2,'a','b')\n",
        "t2=(3,4)\n",
        "t1+t2"
      ],
      "metadata": {
        "colab": {
          "base_uri": "https://localhost:8080/"
        },
        "id": "jfJdRzJlmpY0",
        "outputId": "02151ece-1e4f-42dc-f396-af17d84144ca"
      },
      "execution_count": 10,
      "outputs": [
        {
          "output_type": "execute_result",
          "data": {
            "text/plain": [
              "(1, 2, 'a', 'b', 3, 4)"
            ]
          },
          "metadata": {},
          "execution_count": 10
        }
      ]
    },
    {
      "cell_type": "code",
      "source": [
        "t3=(5,6)\n",
        "t3*3"
      ],
      "metadata": {
        "colab": {
          "base_uri": "https://localhost:8080/"
        },
        "id": "jBx8af2Rm5ql",
        "outputId": "8b6fc57c-3841-492b-c2e4-6f1404adcb55"
      },
      "execution_count": 11,
      "outputs": [
        {
          "output_type": "execute_result",
          "data": {
            "text/plain": [
              "(5, 6, 5, 6, 5, 6)"
            ]
          },
          "metadata": {},
          "execution_count": 11
        }
      ]
    },
    {
      "cell_type": "code",
      "source": [
        "t1=(1,2,'a','b')\n",
        "len(t1)"
      ],
      "metadata": {
        "colab": {
          "base_uri": "https://localhost:8080/"
        },
        "id": "VU7GjF_bnEUS",
        "outputId": "2c2eddfb-5f5d-4065-9f64-86bacd925b97"
      },
      "execution_count": 12,
      "outputs": [
        {
          "output_type": "execute_result",
          "data": {
            "text/plain": [
              "4"
            ]
          },
          "metadata": {},
          "execution_count": 12
        }
      ]
    },
    {
      "cell_type": "markdown",
      "source": [
        "#딕셔너리는 key와 value의 쌍 여러개가 {}로 둘러싸여있다."
      ],
      "metadata": {
        "id": "hM28ITfSnm2s"
      }
    },
    {
      "cell_type": "code",
      "source": [
        "dic={'name':'gold', 'phone':'11234567', 'birth':'221225'}\n",
        "a={1:'hi'}\n",
        "b={'b':[1,2,3]}\n",
        "dic, a, b"
      ],
      "metadata": {
        "colab": {
          "base_uri": "https://localhost:8080/"
        },
        "id": "CSN17y7fnXRY",
        "outputId": "28941332-f759-49e5-9b16-68e0cbae840f"
      },
      "execution_count": 16,
      "outputs": [
        {
          "output_type": "execute_result",
          "data": {
            "text/plain": [
              "({'birth': '221225', 'name': 'gold', 'phone': '11234567'},\n",
              " {1: 'hi'},\n",
              " {'b': [1, 2, 3]})"
            ]
          },
          "metadata": {},
          "execution_count": 16
        }
      ]
    },
    {
      "cell_type": "code",
      "source": [
        "a={1:'hi'}\n",
        "a[2]='bye'\n",
        "a"
      ],
      "metadata": {
        "colab": {
          "base_uri": "https://localhost:8080/"
        },
        "id": "bs99AdiEoFzC",
        "outputId": "8e08c728-7543-4ab5-8cdf-a442d622b48a"
      },
      "execution_count": 17,
      "outputs": [
        {
          "output_type": "execute_result",
          "data": {
            "text/plain": [
              "{1: 'hi', 2: 'bye'}"
            ]
          },
          "metadata": {},
          "execution_count": 17
        }
      ]
    },
    {
      "cell_type": "code",
      "source": [
        "a['name']='king'\n",
        "a\n",
        "a[3]=[1,2,3]\n",
        "a\n"
      ],
      "metadata": {
        "colab": {
          "base_uri": "https://localhost:8080/"
        },
        "id": "lPa73cVqo56H",
        "outputId": "d31434cf-5ed3-4b49-85c2-0b3b7b2f47a2"
      },
      "execution_count": 23,
      "outputs": [
        {
          "output_type": "execute_result",
          "data": {
            "text/plain": [
              "{1: 'hi', 3: [1, 2, 3], 'name': 'king'}"
            ]
          },
          "metadata": {},
          "execution_count": 23
        }
      ]
    },
    {
      "cell_type": "code",
      "source": [
        "a= {1: 'hi', 3: [1, 2, 3], 'name': 'king'}\n",
        "del a[1] # del변수명[key]\n",
        "a\n",
        "a['name']\n",
        "a[3]"
      ],
      "metadata": {
        "colab": {
          "base_uri": "https://localhost:8080/"
        },
        "id": "lvmheDHFpVPM",
        "outputId": "995ea878-56ee-46c2-add8-d1a5ffb0b1ab"
      },
      "execution_count": 29,
      "outputs": [
        {
          "output_type": "execute_result",
          "data": {
            "text/plain": [
              "[1, 2, 3]"
            ]
          },
          "metadata": {},
          "execution_count": 29
        }
      ]
    },
    {
      "cell_type": "code",
      "source": [
        "a={1:'a', 1:'b'}\n",
        "a"
      ],
      "metadata": {
        "colab": {
          "base_uri": "https://localhost:8080/"
        },
        "id": "vI6AXTtop7IP",
        "outputId": "089142ab-cc89-41b2-d31e-e49511b94cef"
      },
      "execution_count": 30,
      "outputs": [
        {
          "output_type": "execute_result",
          "data": {
            "text/plain": [
              "{1: 'b'}"
            ]
          },
          "metadata": {},
          "execution_count": 30
        }
      ]
    },
    {
      "cell_type": "markdown",
      "source": [
        "# key의 값으로 리스트,딕셔너리는 쓸 수 없다.\n"
      ],
      "metadata": {
        "id": "uK04x6CHqD3A"
      }
    },
    {
      "cell_type": "markdown",
      "source": [
        "# key 리스트 만들기(keys)"
      ],
      "metadata": {
        "id": "chdmTSNxqYJ1"
      }
    },
    {
      "cell_type": "code",
      "source": [
        "a={\n",
        "    'name':'queen'\n",
        "    ,'phone':'21234567'\n",
        "    ,'birth':'000101'\n",
        "}\n",
        "a.keys() #딕셔너리a의 key값만을 모아서 객체를 돌려준다.\n",
        "list(a.keys()) #객체를 리스트로 변환\n",
        "a.values() #딕셔너리a의 value만을 모아서 객체를 돌려준다.\n",
        "list(a.values())\n",
        "a.items()#key와 value의 쌍을 튜플로 묶은 값을 객체로 돌려준다.\n",
        "a.clear()#key와 value 쌍 모두 지우기\n",
        "a"
      ],
      "metadata": {
        "colab": {
          "base_uri": "https://localhost:8080/"
        },
        "id": "I9DzlMDnqMlo",
        "outputId": "8a3f7bb1-3bc4-4318-aa70-fa1ba159561c"
      },
      "execution_count": 37,
      "outputs": [
        {
          "output_type": "execute_result",
          "data": {
            "text/plain": [
              "{}"
            ]
          },
          "metadata": {},
          "execution_count": 37
        }
      ]
    },
    {
      "cell_type": "code",
      "source": [
        "a={\n",
        "    'name':'queen'\n",
        "    ,'phone':'21234567'\n",
        "    ,'birth':'000101'\n",
        "}\n",
        "a.get('name') #key로 value얻기\n",
        "a.get('age') #없는 key를 물어볼 때 오류가 아니라, none을 돌려준다."
      ],
      "metadata": {
        "id": "nJl5DjiErgmi"
      },
      "execution_count": 39,
      "outputs": []
    },
    {
      "cell_type": "code",
      "source": [
        "a={\n",
        "    'name':'queen'\n",
        "    ,'phone':'21234567'\n",
        "    ,'birth':'000101'\n",
        "}\n",
        "\n",
        "'name' in a #해당 key가 딕셔너리 안에 있는지 조사하기\n",
        "'email' in a #없는 key라면 false를 돌려준다."
      ],
      "metadata": {
        "colab": {
          "base_uri": "https://localhost:8080/"
        },
        "id": "WmKcQmpmq8Xi",
        "outputId": "f57da5f5-b0ca-44cc-8f0b-019d0bc16448"
      },
      "execution_count": 41,
      "outputs": [
        {
          "output_type": "execute_result",
          "data": {
            "text/plain": [
              "False"
            ]
          },
          "metadata": {},
          "execution_count": 41
        }
      ]
    }
  ]
}