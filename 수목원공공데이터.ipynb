{
  "nbformat": 4,
  "nbformat_minor": 0,
  "metadata": {
    "colab": {
      "name": "수목원공공데이터.ipynb",
      "provenance": [],
      "collapsed_sections": [],
      "authorship_tag": "ABX9TyON/uaWq/WNr5ip5akSoIp9",
      "include_colab_link": true
    },
    "kernelspec": {
      "name": "python3",
      "display_name": "Python 3"
    },
    "language_info": {
      "name": "python"
    }
  },
  "cells": [
    {
      "cell_type": "markdown",
      "metadata": {
        "id": "view-in-github",
        "colab_type": "text"
      },
      "source": [
        "<a href=\"https://colab.research.google.com/github/Es-YES-Ye/Python/blob/main/%EC%88%98%EB%AA%A9%EC%9B%90%EA%B3%B5%EA%B3%B5%EB%8D%B0%EC%9D%B4%ED%84%B0.ipynb\" target=\"_parent\"><img src=\"https://colab.research.google.com/assets/colab-badge.svg\" alt=\"Open In Colab\"/></a>"
      ]
    },
    {
      "cell_type": "markdown",
      "source": [
        ""
      ],
      "metadata": {
        "id": "-npoislDQxOO"
      }
    },
    {
      "cell_type": "code",
      "execution_count": null,
      "metadata": {
        "id": "r1hpqrULQpR7"
      },
      "outputs": [],
      "source": [
        "from bs4 import BeautifulSoup"
      ]
    },
    {
      "cell_type": "code",
      "source": [
        "import urllib.request \n",
        "\n",
        "url = 'http://openapi.nature.go.kr/openapi/service/rest/PlantService/plntIlstrInfo'\n",
        "sk_param='serviceKey=PiU45JSyjp2WHmUtYIV1iiiLSE1ufMsMfJMcBf%2FfWntZqbN4EAfGZ4kkAlolAJw10ACZVWciZh%2Fz9KqwP5%2BPNA%3D%3D&q1=32222'\n",
        "q1_param='q1=32222'\n",
        "\n",
        "query_str = url+'?'+sk_param +'&' + q1_param\n",
        "\n",
        "\n",
        "request = urllib.request.Request(query_str) #서비스 요청에 사용할 개체를 생성\n",
        "\n",
        "\n",
        "response = urllib.request.urlopen(request)\n",
        "res = response.read().decode(\"utf-8\")\n",
        "print(res)"
      ],
      "metadata": {
        "colab": {
          "base_uri": "https://localhost:8080/"
        },
        "id": "usnioymkQwuU",
        "outputId": "7a4fe3df-adb6-422c-c59d-c53fceffd533"
      },
      "execution_count": 5,
      "outputs": [
        {
          "output_type": "stream",
          "name": "stdout",
          "text": [
            "<?xml version=\"1.0\" encoding=\"UTF-8\" standalone=\"yes\"?><response><header><resultCode>00</resultCode><resultMsg>NORMAL SERVICE.</resultMsg></header><body><item><bfofMthod> </bfofMthod><branchDesc>가지는 2 ~ 7mm의 가시가 발달한다.</branchDesc><brdMthdDesc>▶번식은 실생 또는 삽목으로 한다. &#xD;\n",
            "  ①실생 : 가을에 종자를 따서 퇴적하여 과육을 벗긴 후 선별하여 물에 씻고 응달에서 건조한 후, 모래와 혼합하여 저장해 두었다가 이듬해 봄에 파종한다. &#xD;\n",
            "  ②삽목 : 2-3월,6월,9-10월에 가지삽목을 하면 발근이 잘된다. &#xD;\n",
            "</brdMthdDesc><bugInfo>▶병충해 : 흰가루병, 흑반병, 반점병, 진딧물.</bugInfo><cprtCtnt>본 데이터에 대한 모든 저작권리는 국립수목원 또는 원저작자에게 있습니다.</cprtCtnt><dstrb>중국, 일본; 함경북도를 제외한 전국 분포.</dstrb><engNm>Multiflora rose</engNm><familyKorNm>장미과</familyKorNm><familyNm>Rosaceae</familyNm><farmSpftDesc> </farmSpftDesc><flwrDesc>꽃은 5월에 개화하며 지름 2cm로 흰색 또는 연한 붉은색이며 원뿔모양꽃차례로, 작은꽃대에 샘털이 약간 있고 꽃받침조각은 피침형으로 뒤로 젖혀지며, 꽃잎은 거꿀달걀형이며 오목형으로 향기가 있다.</flwrDesc><flwrInfo01> </flwrInfo01><flwrInfo02> </flwrInfo02><flwrInfo03> </flwrInfo03><flwrInfo04> </flwrInfo04><flwrInfo05> </flwrInfo05><flwrInfo06> </flwrInfo06><flwrInfo07> </flwrInfo07><flwrInfo08> </flwrInfo08><flwrInfo09> </flwrInfo09><fritDesc>열매는 둥글고 지름 8mm로 붉은색이며 수과는 길이 3mm로 흰색이며 10월에 성숙한다.</fritDesc><fritInfo01> </fritInfo01><frstRgstnDtm> </frstRgstnDtm><gemmaDesc> </gemmaDesc><genusKorNm>장미속</genusKorNm><genusNm>Rosa</genusNm><grwEvrntDesc>습기가 많은 하천이나 호반 주변에서 많이 자라며 배수가 잘 되는 양지 바른 곳이 좋다. 생장이 빠르며 내한성과 내조성, 내염성, 내공해성이 강하다.</grwEvrntDesc><imgUrl>http://www.nature.go.kr/fileUpload/plants/basic/Rosaceae/Rosa/13151/1.JPG</imgUrl><inductionDesc> </inductionDesc><lastUpdtDtm> </lastUpdtDtm><leafDesc>잎은 어긋나기하며 깃모양겹잎이고 소엽은 5 ~ 9개로 타원형 또는 거꿀달걀형이며 길이 2 ~ 3cm로 양 끝이 좁으며 가장자리에 잔톱니가 있고 뒷면에 잔털이 있다.  턱잎은 빗살 같은 톱니가 있고, 하반부가 잎자루와 합쳐진다.</leafDesc><leafInfo01> </leafInfo01><leafInfo02> </leafInfo02><leafInfo03> </leafInfo03><leafInfo04> </leafInfo04><leafInfo05> </leafInfo05><leafInfo06> </leafInfo06><leafInfo07> </leafInfo07><leafInfo08> </leafInfo08><leafInfo09> </leafInfo09><leafInfo10> </leafInfo10><note> </note><orplcNm>한국</orplcNm><osDstrb> </osDstrb><peltDesc> </peltDesc><plantGnrlNm>찔레꽃</plantGnrlNm><plantPilbkNo>32222</plantPilbkNo><plantScnmId>13151</plantScnmId><plantSpecsScnm>Rosa multiflora Thunb.</plantSpecsScnm><prtcPlnDesc> </prtcPlnDesc><ramentumDesc> </ramentumDesc><ramentumInfo01> </ramentumInfo01><ramentumInfo02> </ramentumInfo02><rootDesc> </rootDesc><rrngGubun> </rrngGubun><rrngType> </rrngType><shpe>낙엽성 관목. </shpe><smlrPlntDesc>▶덩굴장미(var. platyphylla THORY): 낙엽 덩굴성 관목으로 길이 5m에 달하고 전체에 밑을 향한 가시가 드문드문 있으며, 엽축과 잎자루에 가시가 있고 꽃이 적색이다.&#xD;\n",
            "▶털찔레(=털가시나무, var. adenochaeta OHWI)(var. pilosissima Nakai): 잎과 꽃차례에 샘털이 많다. &#xD;\n",
            "▶좀찔레(=좀가시나무, var. quelpaetinsis NAK.): 소엽의 길이가 1-2cm이고 꽃이 작다.&#xD;\n",
            "▶제주찔레(R. luciae FR. et ROCKHEB.) : 탁엽의 가장자리가 거의 밋밋하고 암술대에 털이 있다. &#xD;\n",
            "▶국경 찔레꽃(R. jaluana KOM.): 제주찔레와 비슷하지만 꽃이 적색이고 탁엽에 톱니가 있다.&#xD;\n",
            "▶돌가시나무(R. wichuraiana): 반상록포복성이고 꽃의 지름 4cm로 소엽은 7-9개가 난다.&#xD;\n",
            "▶용가시나무(R. maximowicziana): 포복성, 소엽은 5-7개이다.</smlrPlntDesc><spft> </spft><sporeDesc> </sporeDesc><sporeInfo01> </sporeInfo01><sporeInfo02> </sporeInfo02><sporeInfo03> </sporeInfo03><sporeInfo04> </sporeInfo04><sporeInfo05> </sporeInfo05><sporeInfo06> </sporeInfo06><sporeInfo07> </sporeInfo07><sporeInfo08> </sporeInfo08><sporeInfo09> </sporeInfo09><stemDesc> </stemDesc><stemInfo01> </stemInfo01><stemInfo02> </stemInfo02><stemInfo03> </stemInfo03><stemInfo04> </stemInfo04><stemInfo05> </stemInfo05><stemInfo06> </stemInfo06><stemInfo07> </stemInfo07><stemInfo08> </stemInfo08><sz>높이 2m. </sz><useMthdDesc>▶관상용, 생울타리용으로 사용하고 장미의 원예품종을 번식시킬 때 대목으로 이용된다. &#xD;\n",
            "▶맹아지의 새순은 식용할 수 있다. &#xD;\n",
            "▶염료용으로 이용한다. - 흔히 갈색 계통의 염료를 얻기 위해 이용되는 식물이다. 빨간 열매를 이용하면 옅은 갈색을 얻을 수 있다. 잎의 염액은 적갈색으로 탁하다. 매염제에 대한 반응은 가을에 채집한 것이 보다 좋았다. &#xD;\n",
            "▶花는 薔薇花(장미화), 根은 薔薇根(장미근), 莖은 薔薇枝(장미지), 葉은 薔薇葉(장미엽), 과실은 營實(영실)이라 하며 약용한다. &#xD;\n",
            "⑴薔薇花(장미화) - ①5-6월 꽃이 한창 피었을 때 맑은 날씨에 채취하여 햇볕에 말린다. ②성분 : astragalin이 함유되어 있고 精油(정유)에는 0.02-0.03% 전후가 함유되어 있다. ③약효 : 淸暑(청서), 和胃(화위), 止血(지혈)의 효능이 있다. 暑熱吐血(서열토혈), 口渴(구갈), 瀉痢(사리), 말라리아, 刀傷出血(도상출혈)을 치료한다. ④용법/용량 : 3-6g을 달여 복용한다. &lt;외용&gt; 粉末(분말)을 살포한다. &#xD;\n",
            "⑵薔薇根(장미근) - ①연중 수시로 채취하여 깨끗이 씻어 햇볕에 말린다. ②성분 : 뿌리에는 tormentin acid가 함유되어 있고 근피에는 tannin 23.3%, 生葉에는 비타민C 61.6mg%가 함유되어 있다. ③약효 : 淸熱(청열), 利濕(이습), 祛濕(거습), 活血(활혈)의 효능이 있다. 肺癰(폐옹), 당뇨병, 이질, 관절염, 사지마비, 吐血(토혈), 鼻出血(비출혈), 頻尿(빈뇨), 遺尿(유뇨), 월경불순, 타박상, 瘡癤疥癬(창절개선)을 치료한다. ④용법/용량 : 4.5-12g을 달여서 복용한다. &lt;외용&gt; 짓찧어서 붙인다. 煎液(전액)으로 양치질을 한다. &#xD;\n",
            "⑶薔薇枝(장미지) - 婦人(부인)의 禿髮(독발)에 찔레의 햇가지와 후조(원숭이 내장 結石(결석))를 같이 삶아서 그 煎汁(전즙)을 바른다. &#xD;\n",
            "⑷薔薇葉(장미엽) - 짓찧어서 붙이면 生肌(생기)의 효능이 있다. &#xD;\n",
            "⑸營實(영실) - ①8-9월에 열매가 빨갛게 익기 전 푸른색이 조금 남아 있을 때 따서 그늘에서 건조하여 공기가 들어가지 않도록 밀봉한다. ②성분 : 利尿(이뇨), 해독, 瀉下(사하), 除熱(제열), 活血(활혈)의 효능이 있다. 腎炎(신염), 浮腫(부종), 尿不利(요불리), 脚氣(각기), 瘡疥癰腫(창개옹종), 小便秘澁(소변비삽), 月經腹痛(월경복통)을 치료한다. ③용법/용량 : 3-9g을 달여서 복용한다. 술에 담그거나 丸劑(환제), 散劑(산제)로 하여 복용한다. &lt;외용&gt; 짓찧어서 붙이거나 煎液(전액)으로 씻는다.</useMthdDesc><woodDesc> </woodDesc></item></body></response>\n"
          ]
        }
      ]
    },
    {
      "cell_type": "code",
      "source": [
        "from bs4 import BeautifulSoup\n",
        "xmlsoup = BeautifulSoup(res, 'html.parser')\n",
        "\n",
        "items = xmlsoup.find_all('item') #item으로 된 애들은 전부 찾는다\n",
        "for item in items:\n",
        "  print(\"설명 \")\n",
        "  print(item.smlrplntdesc.get_text()) \n",
        "  print(\"=================================================================================\")"
      ],
      "metadata": {
        "colab": {
          "base_uri": "https://localhost:8080/"
        },
        "id": "mUslHDhuSoi8",
        "outputId": "49ac41c9-9515-4dc3-852c-13a245931dfc"
      },
      "execution_count": 12,
      "outputs": [
        {
          "output_type": "stream",
          "name": "stdout",
          "text": [
            "설명 \n",
            "▶덩굴장미(var. platyphylla THORY): 낙엽 덩굴성 관목으로 길이 5m에 달하고 전체에 밑을 향한 가시가 드문드문 있으며, 엽축과 잎자루에 가시가 있고 꽃이 적색이다.\r\n",
            "▶털찔레(=털가시나무, var. adenochaeta OHWI)(var. pilosissima Nakai): 잎과 꽃차례에 샘털이 많다. \r\n",
            "▶좀찔레(=좀가시나무, var. quelpaetinsis NAK.): 소엽의 길이가 1-2cm이고 꽃이 작다.\r\n",
            "▶제주찔레(R. luciae FR. et ROCKHEB.) : 탁엽의 가장자리가 거의 밋밋하고 암술대에 털이 있다. \r\n",
            "▶국경 찔레꽃(R. jaluana KOM.): 제주찔레와 비슷하지만 꽃이 적색이고 탁엽에 톱니가 있다.\r\n",
            "▶돌가시나무(R. wichuraiana): 반상록포복성이고 꽃의 지름 4cm로 소엽은 7-9개가 난다.\r\n",
            "▶용가시나무(R. maximowicziana): 포복성, 소엽은 5-7개이다.\n",
            "=================================================================================\n"
          ]
        }
      ]
    }
  ]
}