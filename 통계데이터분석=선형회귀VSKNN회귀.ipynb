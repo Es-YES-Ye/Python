{
  "nbformat": 4,
  "nbformat_minor": 0,
  "metadata": {
    "colab": {
      "name": "통계데이터분석=선형회귀VSKNN회귀.ipynb",
      "provenance": [],
      "authorship_tag": "ABX9TyNN2ZV2IKkcr/UPQDyQyGUO",
      "include_colab_link": true
    },
    "kernelspec": {
      "name": "python3",
      "display_name": "Python 3"
    },
    "language_info": {
      "name": "python"
    }
  },
  "cells": [
    {
      "cell_type": "markdown",
      "metadata": {
        "id": "view-in-github",
        "colab_type": "text"
      },
      "source": [
        "<a href=\"https://colab.research.google.com/github/Es-YES-Ye/Python/blob/main/%ED%86%B5%EA%B3%84%EB%8D%B0%EC%9D%B4%ED%84%B0%EB%B6%84%EC%84%9D%3D%EC%84%A0%ED%98%95%ED%9A%8C%EA%B7%80VSKNN%ED%9A%8C%EA%B7%80.ipynb\" target=\"_parent\"><img src=\"https://colab.research.google.com/assets/colab-badge.svg\" alt=\"Open In Colab\"/></a>"
      ]
    },
    {
      "cell_type": "markdown",
      "source": [
        "선형 회귀 VS KNN 회귀"
      ],
      "metadata": {
        "id": "M5JkYNQkLAb-"
      }
    },
    {
      "cell_type": "code",
      "execution_count": 1,
      "metadata": {
        "id": "8_BTI-gcIvQM"
      },
      "outputs": [],
      "source": [
        "import numpy as np\n",
        "n =1000\n",
        "heights = np.random.normal(174,8,n)"
      ]
    },
    {
      "cell_type": "code",
      "source": [
        "heights2 = [height//5 for height in heights ]\n",
        "heights2"
      ],
      "metadata": {
        "colab": {
          "base_uri": "https://localhost:8080/"
        },
        "id": "xN7ROyNfLKA_",
        "outputId": "56927002-bef3-4c9e-f8ca-63c8ecdddd5e"
      },
      "execution_count": 11,
      "outputs": [
        {
          "output_type": "execute_result",
          "data": {
            "text/plain": [
              "[35.0,\n",
              " 34.0,\n",
              " 33.0,\n",
              " 34.0,\n",
              " 34.0,\n",
              " 33.0,\n",
              " 35.0,\n",
              " 37.0,\n",
              " 38.0,\n",
              " 34.0,\n",
              " 36.0,\n",
              " 35.0,\n",
              " 38.0,\n",
              " 34.0,\n",
              " 35.0,\n",
              " 34.0,\n",
              " 37.0,\n",
              " 31.0,\n",
              " 35.0,\n",
              " 33.0,\n",
              " 35.0,\n",
              " 33.0,\n",
              " 37.0,\n",
              " 35.0,\n",
              " 35.0,\n",
              " 37.0,\n",
              " 34.0,\n",
              " 35.0,\n",
              " 32.0,\n",
              " 35.0,\n",
              " 37.0,\n",
              " 34.0,\n",
              " 35.0,\n",
              " 35.0,\n",
              " 31.0,\n",
              " 38.0,\n",
              " 33.0,\n",
              " 35.0,\n",
              " 38.0,\n",
              " 35.0,\n",
              " 34.0,\n",
              " 35.0,\n",
              " 35.0,\n",
              " 36.0,\n",
              " 35.0,\n",
              " 31.0,\n",
              " 35.0,\n",
              " 37.0,\n",
              " 35.0,\n",
              " 33.0,\n",
              " 33.0,\n",
              " 33.0,\n",
              " 35.0,\n",
              " 37.0,\n",
              " 33.0,\n",
              " 36.0,\n",
              " 34.0,\n",
              " 34.0,\n",
              " 33.0,\n",
              " 36.0,\n",
              " 33.0,\n",
              " 36.0,\n",
              " 37.0,\n",
              " 34.0,\n",
              " 36.0,\n",
              " 34.0,\n",
              " 35.0,\n",
              " 34.0,\n",
              " 37.0,\n",
              " 35.0,\n",
              " 35.0,\n",
              " 33.0,\n",
              " 33.0,\n",
              " 35.0,\n",
              " 34.0,\n",
              " 33.0,\n",
              " 35.0,\n",
              " 37.0,\n",
              " 33.0,\n",
              " 33.0,\n",
              " 34.0,\n",
              " 33.0,\n",
              " 35.0,\n",
              " 34.0,\n",
              " 36.0,\n",
              " 36.0,\n",
              " 34.0,\n",
              " 33.0,\n",
              " 31.0,\n",
              " 31.0,\n",
              " 35.0,\n",
              " 35.0,\n",
              " 37.0,\n",
              " 33.0,\n",
              " 36.0,\n",
              " 33.0,\n",
              " 35.0,\n",
              " 36.0,\n",
              " 35.0,\n",
              " 34.0,\n",
              " 36.0,\n",
              " 34.0,\n",
              " 34.0,\n",
              " 38.0,\n",
              " 34.0,\n",
              " 31.0,\n",
              " 35.0,\n",
              " 35.0,\n",
              " 34.0,\n",
              " 34.0,\n",
              " 36.0,\n",
              " 36.0,\n",
              " 32.0,\n",
              " 34.0,\n",
              " 35.0,\n",
              " 37.0,\n",
              " 33.0,\n",
              " 33.0,\n",
              " 39.0,\n",
              " 32.0,\n",
              " 36.0,\n",
              " 35.0,\n",
              " 36.0,\n",
              " 34.0,\n",
              " 34.0,\n",
              " 33.0,\n",
              " 35.0,\n",
              " 35.0,\n",
              " 31.0,\n",
              " 32.0,\n",
              " 32.0,\n",
              " 35.0,\n",
              " 33.0,\n",
              " 31.0,\n",
              " 34.0,\n",
              " 33.0,\n",
              " 34.0,\n",
              " 33.0,\n",
              " 31.0,\n",
              " 37.0,\n",
              " 37.0,\n",
              " 35.0,\n",
              " 33.0,\n",
              " 33.0,\n",
              " 37.0,\n",
              " 30.0,\n",
              " 34.0,\n",
              " 37.0,\n",
              " 36.0,\n",
              " 34.0,\n",
              " 36.0,\n",
              " 33.0,\n",
              " 36.0,\n",
              " 35.0,\n",
              " 35.0,\n",
              " 35.0,\n",
              " 34.0,\n",
              " 32.0,\n",
              " 35.0,\n",
              " 35.0,\n",
              " 31.0,\n",
              " 37.0,\n",
              " 38.0,\n",
              " 35.0,\n",
              " 32.0,\n",
              " 33.0,\n",
              " 35.0,\n",
              " 35.0,\n",
              " 33.0,\n",
              " 32.0,\n",
              " 34.0,\n",
              " 34.0,\n",
              " 34.0,\n",
              " 34.0,\n",
              " 34.0,\n",
              " 34.0,\n",
              " 35.0,\n",
              " 33.0,\n",
              " 32.0,\n",
              " 33.0,\n",
              " 34.0,\n",
              " 36.0,\n",
              " 35.0,\n",
              " 36.0,\n",
              " 36.0,\n",
              " 32.0,\n",
              " 35.0,\n",
              " 34.0,\n",
              " 33.0,\n",
              " 34.0,\n",
              " 32.0,\n",
              " 33.0,\n",
              " 33.0,\n",
              " 34.0,\n",
              " 33.0,\n",
              " 34.0,\n",
              " 34.0,\n",
              " 36.0,\n",
              " 34.0,\n",
              " 35.0,\n",
              " 36.0,\n",
              " 35.0,\n",
              " 35.0,\n",
              " 34.0,\n",
              " 35.0,\n",
              " 34.0,\n",
              " 37.0,\n",
              " 33.0,\n",
              " 31.0,\n",
              " 34.0,\n",
              " 34.0,\n",
              " 35.0,\n",
              " 38.0,\n",
              " 36.0,\n",
              " 32.0,\n",
              " 34.0,\n",
              " 35.0,\n",
              " 34.0,\n",
              " 32.0,\n",
              " 36.0,\n",
              " 37.0,\n",
              " 34.0,\n",
              " 35.0,\n",
              " 33.0,\n",
              " 35.0,\n",
              " 32.0,\n",
              " 36.0,\n",
              " 35.0,\n",
              " 34.0,\n",
              " 32.0,\n",
              " 33.0,\n",
              " 35.0,\n",
              " 33.0,\n",
              " 34.0,\n",
              " 34.0,\n",
              " 34.0,\n",
              " 36.0,\n",
              " 33.0,\n",
              " 33.0,\n",
              " 35.0,\n",
              " 34.0,\n",
              " 32.0,\n",
              " 32.0,\n",
              " 32.0,\n",
              " 34.0,\n",
              " 35.0,\n",
              " 33.0,\n",
              " 34.0,\n",
              " 35.0,\n",
              " 33.0,\n",
              " 33.0,\n",
              " 33.0,\n",
              " 34.0,\n",
              " 33.0,\n",
              " 32.0,\n",
              " 37.0,\n",
              " 32.0,\n",
              " 34.0,\n",
              " 34.0,\n",
              " 35.0,\n",
              " 35.0,\n",
              " 33.0,\n",
              " 34.0,\n",
              " 37.0,\n",
              " 35.0,\n",
              " 34.0,\n",
              " 32.0,\n",
              " 34.0,\n",
              " 36.0,\n",
              " 34.0,\n",
              " 34.0,\n",
              " 35.0,\n",
              " 34.0,\n",
              " 35.0,\n",
              " 33.0,\n",
              " 35.0,\n",
              " 33.0,\n",
              " 34.0,\n",
              " 36.0,\n",
              " 34.0,\n",
              " 36.0,\n",
              " 36.0,\n",
              " 32.0,\n",
              " 37.0,\n",
              " 33.0,\n",
              " 36.0,\n",
              " 35.0,\n",
              " 35.0,\n",
              " 35.0,\n",
              " 32.0,\n",
              " 34.0,\n",
              " 36.0,\n",
              " 33.0,\n",
              " 36.0,\n",
              " 33.0,\n",
              " 36.0,\n",
              " 30.0,\n",
              " 32.0,\n",
              " 34.0,\n",
              " 36.0,\n",
              " 36.0,\n",
              " 37.0,\n",
              " 36.0,\n",
              " 35.0,\n",
              " 38.0,\n",
              " 34.0,\n",
              " 32.0,\n",
              " 37.0,\n",
              " 31.0,\n",
              " 33.0,\n",
              " 35.0,\n",
              " 34.0,\n",
              " 35.0,\n",
              " 34.0,\n",
              " 35.0,\n",
              " 36.0,\n",
              " 33.0,\n",
              " 33.0,\n",
              " 36.0,\n",
              " 33.0,\n",
              " 35.0,\n",
              " 34.0,\n",
              " 38.0,\n",
              " 32.0,\n",
              " 34.0,\n",
              " 33.0,\n",
              " 36.0,\n",
              " 33.0,\n",
              " 34.0,\n",
              " 33.0,\n",
              " 34.0,\n",
              " 35.0,\n",
              " 32.0,\n",
              " 33.0,\n",
              " 36.0,\n",
              " 36.0,\n",
              " 34.0,\n",
              " 34.0,\n",
              " 34.0,\n",
              " 33.0,\n",
              " 34.0,\n",
              " 33.0,\n",
              " 31.0,\n",
              " 37.0,\n",
              " 33.0,\n",
              " 35.0,\n",
              " 34.0,\n",
              " 34.0,\n",
              " 34.0,\n",
              " 34.0,\n",
              " 35.0,\n",
              " 35.0,\n",
              " 34.0,\n",
              " 34.0,\n",
              " 35.0,\n",
              " 33.0,\n",
              " 34.0,\n",
              " 35.0,\n",
              " 34.0,\n",
              " 37.0,\n",
              " 36.0,\n",
              " 37.0,\n",
              " 34.0,\n",
              " 34.0,\n",
              " 36.0,\n",
              " 34.0,\n",
              " 34.0,\n",
              " 38.0,\n",
              " 31.0,\n",
              " 34.0,\n",
              " 34.0,\n",
              " 31.0,\n",
              " 35.0,\n",
              " 33.0,\n",
              " 34.0,\n",
              " 34.0,\n",
              " 34.0,\n",
              " 37.0,\n",
              " 32.0,\n",
              " 33.0,\n",
              " 32.0,\n",
              " 34.0,\n",
              " 32.0,\n",
              " 35.0,\n",
              " 37.0,\n",
              " 35.0,\n",
              " 36.0,\n",
              " 32.0,\n",
              " 35.0,\n",
              " 36.0,\n",
              " 37.0,\n",
              " 35.0,\n",
              " 33.0,\n",
              " 36.0,\n",
              " 33.0,\n",
              " 32.0,\n",
              " 34.0,\n",
              " 37.0,\n",
              " 36.0,\n",
              " 33.0,\n",
              " 36.0,\n",
              " 32.0,\n",
              " 34.0,\n",
              " 35.0,\n",
              " 35.0,\n",
              " 37.0,\n",
              " 35.0,\n",
              " 32.0,\n",
              " 33.0,\n",
              " 35.0,\n",
              " 34.0,\n",
              " 32.0,\n",
              " 33.0,\n",
              " 34.0,\n",
              " 37.0,\n",
              " 36.0,\n",
              " 30.0,\n",
              " 35.0,\n",
              " 33.0,\n",
              " 35.0,\n",
              " 36.0,\n",
              " 34.0,\n",
              " 34.0,\n",
              " 34.0,\n",
              " 36.0,\n",
              " 34.0,\n",
              " 35.0,\n",
              " 32.0,\n",
              " 33.0,\n",
              " 32.0,\n",
              " 35.0,\n",
              " 35.0,\n",
              " 36.0,\n",
              " 32.0,\n",
              " 33.0,\n",
              " 34.0,\n",
              " 30.0,\n",
              " 33.0,\n",
              " 34.0,\n",
              " 37.0,\n",
              " 34.0,\n",
              " 35.0,\n",
              " 34.0,\n",
              " 34.0,\n",
              " 31.0,\n",
              " 35.0,\n",
              " 33.0,\n",
              " 33.0,\n",
              " 33.0,\n",
              " 35.0,\n",
              " 32.0,\n",
              " 36.0,\n",
              " 34.0,\n",
              " 34.0,\n",
              " 32.0,\n",
              " 32.0,\n",
              " 33.0,\n",
              " 35.0,\n",
              " 36.0,\n",
              " 35.0,\n",
              " 35.0,\n",
              " 35.0,\n",
              " 34.0,\n",
              " 31.0,\n",
              " 33.0,\n",
              " 33.0,\n",
              " 35.0,\n",
              " 32.0,\n",
              " 33.0,\n",
              " 37.0,\n",
              " 33.0,\n",
              " 33.0,\n",
              " 37.0,\n",
              " 34.0,\n",
              " 34.0,\n",
              " 35.0,\n",
              " 34.0,\n",
              " 33.0,\n",
              " 33.0,\n",
              " 33.0,\n",
              " 33.0,\n",
              " 36.0,\n",
              " 37.0,\n",
              " 32.0,\n",
              " 37.0,\n",
              " 35.0,\n",
              " 34.0,\n",
              " 34.0,\n",
              " 35.0,\n",
              " 37.0,\n",
              " 35.0,\n",
              " 34.0,\n",
              " 36.0,\n",
              " 35.0,\n",
              " 34.0,\n",
              " 29.0,\n",
              " 36.0,\n",
              " 35.0,\n",
              " 37.0,\n",
              " 33.0,\n",
              " 34.0,\n",
              " 33.0,\n",
              " 33.0,\n",
              " 35.0,\n",
              " 34.0,\n",
              " 35.0,\n",
              " 31.0,\n",
              " 32.0,\n",
              " 37.0,\n",
              " 35.0,\n",
              " 35.0,\n",
              " 36.0,\n",
              " 38.0,\n",
              " 36.0,\n",
              " 35.0,\n",
              " 36.0,\n",
              " 33.0,\n",
              " 34.0,\n",
              " 34.0,\n",
              " 37.0,\n",
              " 33.0,\n",
              " 35.0,\n",
              " 34.0,\n",
              " 35.0,\n",
              " 37.0,\n",
              " 34.0,\n",
              " 36.0,\n",
              " 37.0,\n",
              " 35.0,\n",
              " 35.0,\n",
              " 34.0,\n",
              " 36.0,\n",
              " 35.0,\n",
              " 35.0,\n",
              " 35.0,\n",
              " 34.0,\n",
              " 34.0,\n",
              " 34.0,\n",
              " 32.0,\n",
              " 34.0,\n",
              " 38.0,\n",
              " 34.0,\n",
              " 33.0,\n",
              " 36.0,\n",
              " 39.0,\n",
              " 35.0,\n",
              " 34.0,\n",
              " 34.0,\n",
              " 34.0,\n",
              " 37.0,\n",
              " 36.0,\n",
              " 39.0,\n",
              " 34.0,\n",
              " 32.0,\n",
              " 32.0,\n",
              " 34.0,\n",
              " 33.0,\n",
              " 36.0,\n",
              " 34.0,\n",
              " 36.0,\n",
              " 31.0,\n",
              " 35.0,\n",
              " 34.0,\n",
              " 34.0,\n",
              " 36.0,\n",
              " 34.0,\n",
              " 34.0,\n",
              " 34.0,\n",
              " 31.0,\n",
              " 36.0,\n",
              " 33.0,\n",
              " 34.0,\n",
              " 35.0,\n",
              " 31.0,\n",
              " 34.0,\n",
              " 36.0,\n",
              " 33.0,\n",
              " 36.0,\n",
              " 34.0,\n",
              " 35.0,\n",
              " 35.0,\n",
              " 35.0,\n",
              " 35.0,\n",
              " 35.0,\n",
              " 36.0,\n",
              " 33.0,\n",
              " 35.0,\n",
              " 33.0,\n",
              " 34.0,\n",
              " 33.0,\n",
              " 33.0,\n",
              " 35.0,\n",
              " 34.0,\n",
              " 37.0,\n",
              " 36.0,\n",
              " 35.0,\n",
              " 37.0,\n",
              " 35.0,\n",
              " 34.0,\n",
              " 34.0,\n",
              " 36.0,\n",
              " 37.0,\n",
              " 34.0,\n",
              " 35.0,\n",
              " 34.0,\n",
              " 34.0,\n",
              " 35.0,\n",
              " 34.0,\n",
              " 34.0,\n",
              " 36.0,\n",
              " 35.0,\n",
              " 35.0,\n",
              " 35.0,\n",
              " 33.0,\n",
              " 33.0,\n",
              " 34.0,\n",
              " 37.0,\n",
              " 32.0,\n",
              " 35.0,\n",
              " 34.0,\n",
              " 35.0,\n",
              " 32.0,\n",
              " 34.0,\n",
              " 35.0,\n",
              " 32.0,\n",
              " 36.0,\n",
              " 33.0,\n",
              " 34.0,\n",
              " 35.0,\n",
              " 36.0,\n",
              " 33.0,\n",
              " 33.0,\n",
              " 36.0,\n",
              " 33.0,\n",
              " 35.0,\n",
              " 34.0,\n",
              " 34.0,\n",
              " 35.0,\n",
              " 34.0,\n",
              " 32.0,\n",
              " 35.0,\n",
              " 35.0,\n",
              " 36.0,\n",
              " 37.0,\n",
              " 33.0,\n",
              " 32.0,\n",
              " 34.0,\n",
              " 33.0,\n",
              " 34.0,\n",
              " 37.0,\n",
              " 33.0,\n",
              " 36.0,\n",
              " 34.0,\n",
              " 33.0,\n",
              " 35.0,\n",
              " 35.0,\n",
              " 32.0,\n",
              " 37.0,\n",
              " 33.0,\n",
              " 32.0,\n",
              " 37.0,\n",
              " 35.0,\n",
              " 35.0,\n",
              " 34.0,\n",
              " 32.0,\n",
              " 33.0,\n",
              " 34.0,\n",
              " 36.0,\n",
              " 32.0,\n",
              " 38.0,\n",
              " 36.0,\n",
              " 36.0,\n",
              " 32.0,\n",
              " 32.0,\n",
              " 36.0,\n",
              " 36.0,\n",
              " 35.0,\n",
              " 36.0,\n",
              " 37.0,\n",
              " 35.0,\n",
              " 36.0,\n",
              " 31.0,\n",
              " 35.0,\n",
              " 35.0,\n",
              " 32.0,\n",
              " 31.0,\n",
              " 36.0,\n",
              " 33.0,\n",
              " 36.0,\n",
              " 38.0,\n",
              " 34.0,\n",
              " 34.0,\n",
              " 32.0,\n",
              " 33.0,\n",
              " 32.0,\n",
              " 36.0,\n",
              " 33.0,\n",
              " 37.0,\n",
              " 34.0,\n",
              " 34.0,\n",
              " 34.0,\n",
              " 34.0,\n",
              " 33.0,\n",
              " 34.0,\n",
              " 34.0,\n",
              " 35.0,\n",
              " 35.0,\n",
              " 33.0,\n",
              " 34.0,\n",
              " 35.0,\n",
              " 31.0,\n",
              " 33.0,\n",
              " 33.0,\n",
              " 36.0,\n",
              " 32.0,\n",
              " 37.0,\n",
              " 36.0,\n",
              " 36.0,\n",
              " 35.0,\n",
              " 36.0,\n",
              " 35.0,\n",
              " 36.0,\n",
              " 34.0,\n",
              " 35.0,\n",
              " 35.0,\n",
              " 32.0,\n",
              " 35.0,\n",
              " 33.0,\n",
              " 35.0,\n",
              " 35.0,\n",
              " 33.0,\n",
              " 37.0,\n",
              " 34.0,\n",
              " 34.0,\n",
              " 32.0,\n",
              " 37.0,\n",
              " 33.0,\n",
              " 34.0,\n",
              " 37.0,\n",
              " 35.0,\n",
              " 35.0,\n",
              " 32.0,\n",
              " 33.0,\n",
              " 33.0,\n",
              " 34.0,\n",
              " 33.0,\n",
              " 32.0,\n",
              " 36.0,\n",
              " 31.0,\n",
              " 35.0,\n",
              " 35.0,\n",
              " 36.0,\n",
              " 35.0,\n",
              " 30.0,\n",
              " 34.0,\n",
              " 35.0,\n",
              " 34.0,\n",
              " 35.0,\n",
              " 34.0,\n",
              " 33.0,\n",
              " 34.0,\n",
              " 37.0,\n",
              " 32.0,\n",
              " 35.0,\n",
              " 33.0,\n",
              " 32.0,\n",
              " 35.0,\n",
              " 33.0,\n",
              " 36.0,\n",
              " 32.0,\n",
              " 33.0,\n",
              " 34.0,\n",
              " 35.0,\n",
              " 38.0,\n",
              " 36.0,\n",
              " 33.0,\n",
              " 32.0,\n",
              " 33.0,\n",
              " 34.0,\n",
              " 34.0,\n",
              " 33.0,\n",
              " 31.0,\n",
              " 33.0,\n",
              " 32.0,\n",
              " 34.0,\n",
              " 37.0,\n",
              " 34.0,\n",
              " 33.0,\n",
              " 34.0,\n",
              " 36.0,\n",
              " 32.0,\n",
              " 34.0,\n",
              " 34.0,\n",
              " 33.0,\n",
              " 34.0,\n",
              " 34.0,\n",
              " 34.0,\n",
              " 32.0,\n",
              " 35.0,\n",
              " 32.0,\n",
              " 35.0,\n",
              " 35.0,\n",
              " 36.0,\n",
              " 37.0,\n",
              " 36.0,\n",
              " 36.0,\n",
              " 34.0,\n",
              " 34.0,\n",
              " 36.0,\n",
              " 34.0,\n",
              " 34.0,\n",
              " 39.0,\n",
              " 37.0,\n",
              " 31.0,\n",
              " 35.0,\n",
              " 37.0,\n",
              " 36.0,\n",
              " 34.0,\n",
              " 34.0,\n",
              " 36.0,\n",
              " 37.0,\n",
              " 36.0,\n",
              " 33.0,\n",
              " 34.0,\n",
              " 34.0,\n",
              " 36.0,\n",
              " 36.0,\n",
              " 36.0,\n",
              " 32.0,\n",
              " 34.0,\n",
              " 34.0,\n",
              " 35.0,\n",
              " 34.0,\n",
              " 34.0,\n",
              " 32.0,\n",
              " 30.0,\n",
              " 31.0,\n",
              " 36.0,\n",
              " 34.0,\n",
              " 33.0,\n",
              " 36.0,\n",
              " 35.0,\n",
              " 33.0,\n",
              " 32.0,\n",
              " 33.0,\n",
              " 33.0,\n",
              " 36.0,\n",
              " 33.0,\n",
              " 36.0,\n",
              " 32.0,\n",
              " 34.0,\n",
              " 34.0,\n",
              " 32.0,\n",
              " 36.0,\n",
              " 34.0,\n",
              " 35.0,\n",
              " 33.0,\n",
              " 37.0,\n",
              " 34.0,\n",
              " 33.0,\n",
              " 35.0,\n",
              " 33.0,\n",
              " 33.0,\n",
              " 34.0,\n",
              " 33.0,\n",
              " 33.0,\n",
              " 36.0,\n",
              " 32.0,\n",
              " 35.0,\n",
              " 34.0,\n",
              " 33.0,\n",
              " 35.0,\n",
              " 33.0,\n",
              " 32.0,\n",
              " 32.0,\n",
              " 33.0,\n",
              " 33.0,\n",
              " 35.0,\n",
              " 37.0,\n",
              " 37.0,\n",
              " 33.0,\n",
              " 37.0,\n",
              " 32.0,\n",
              " 35.0,\n",
              " 35.0,\n",
              " 33.0,\n",
              " 34.0,\n",
              " 34.0,\n",
              " 31.0,\n",
              " 35.0,\n",
              " 35.0,\n",
              " 35.0,\n",
              " 35.0,\n",
              " 35.0,\n",
              " 37.0,\n",
              " 34.0,\n",
              " 38.0,\n",
              " 37.0,\n",
              " 35.0,\n",
              " 37.0,\n",
              " 34.0,\n",
              " 35.0,\n",
              " 35.0,\n",
              " 36.0,\n",
              " 36.0,\n",
              " 36.0,\n",
              " 35.0,\n",
              " 34.0,\n",
              " 36.0,\n",
              " 34.0,\n",
              " 36.0,\n",
              " 32.0,\n",
              " 35.0,\n",
              " 33.0,\n",
              " 33.0,\n",
              " 31.0,\n",
              " 33.0,\n",
              " 36.0,\n",
              " 33.0,\n",
              " 34.0,\n",
              " 33.0,\n",
              " 35.0,\n",
              " 35.0,\n",
              " 36.0,\n",
              " 35.0,\n",
              " 34.0,\n",
              " 33.0,\n",
              " 33.0,\n",
              " 34.0,\n",
              " 34.0,\n",
              " 33.0,\n",
              " 37.0,\n",
              " 35.0,\n",
              " 35.0,\n",
              " 36.0,\n",
              " 34.0,\n",
              " 33.0,\n",
              " 35.0,\n",
              " 31.0,\n",
              " 35.0,\n",
              " 34.0,\n",
              " 34.0,\n",
              " 34.0,\n",
              " 34.0,\n",
              " 36.0,\n",
              " 32.0,\n",
              " 35.0,\n",
              " 36.0,\n",
              " 36.0,\n",
              " 35.0,\n",
              " 32.0,\n",
              " 34.0,\n",
              " 37.0,\n",
              " 36.0,\n",
              " 31.0,\n",
              " 37.0,\n",
              " 34.0,\n",
              " 34.0,\n",
              " 34.0,\n",
              " 34.0,\n",
              " 34.0,\n",
              " 33.0,\n",
              " 34.0,\n",
              " 35.0,\n",
              " 33.0,\n",
              " 35.0,\n",
              " 38.0,\n",
              " 35.0,\n",
              " 35.0,\n",
              " 33.0,\n",
              " 34.0,\n",
              " 35.0,\n",
              " 35.0,\n",
              " 35.0,\n",
              " 36.0,\n",
              " 34.0,\n",
              " 35.0,\n",
              " 33.0,\n",
              " 33.0,\n",
              " 31.0,\n",
              " 34.0,\n",
              " 34.0,\n",
              " 36.0,\n",
              " 34.0,\n",
              " 33.0,\n",
              " 32.0,\n",
              " 37.0,\n",
              " 36.0,\n",
              " 32.0,\n",
              " 37.0,\n",
              " 34.0,\n",
              " 37.0,\n",
              " 34.0,\n",
              " 33.0,\n",
              " 36.0,\n",
              " 34.0,\n",
              " 34.0,\n",
              " 37.0,\n",
              " 34.0,\n",
              " 31.0]"
            ]
          },
          "metadata": {},
          "execution_count": 11
        }
      ]
    },
    {
      "cell_type": "code",
      "source": [
        "import pandas as pd\n",
        "se = pd.Series(heights2)\n",
        "svc = se.value_counts()"
      ],
      "metadata": {
        "id": "8E3UNTW9LTe_"
      },
      "execution_count": 12,
      "outputs": []
    },
    {
      "cell_type": "code",
      "source": [
        "import matplotlib.pyplot as plt\n",
        "plt.plot(heights2, '.')\n",
        "plt.show()"
      ],
      "metadata": {
        "colab": {
          "base_uri": "https://localhost:8080/",
          "height": 265
        },
        "id": "YNOC7hr8LOHL",
        "outputId": "57c38230-731f-45d9-e274-40f054e25a7d"
      },
      "execution_count": 13,
      "outputs": [
        {
          "output_type": "display_data",
          "data": {
            "image/png": "[encoded data removed]",
            "text/plain": [
              "<Figure size 432x288 with 1 Axes>"
            ]
          },
          "metadata": {
            "needs_background": "light"
          }
        }
      ]
    },
    {
      "cell_type": "code",
      "source": [
        "\n",
        "plt.plot(se.values, se.index, '.')\n",
        "plt.show()"
      ],
      "metadata": {
        "colab": {
          "base_uri": "https://localhost:8080/",
          "height": 265
        },
        "id": "GkbKOkn0LdCF",
        "outputId": "8f35fe41-3c26-49e4-dbb5-40b2667bbe03"
      },
      "execution_count": 14,
      "outputs": [
        {
          "output_type": "display_data",
          "data": {
            "image/png": "[encoded data removed]",
            "text/plain": [
              "<Figure size 432x288 with 1 Axes>"
            ]
          },
          "metadata": {
            "needs_background": "light"
          }
        }
      ]
    },
    {
      "cell_type": "code",
      "source": [
        "plt.bar(se.values, se.index)\n",
        "plt.show()"
      ],
      "metadata": {
        "colab": {
          "base_uri": "https://localhost:8080/",
          "height": 265
        },
        "id": "awvEkBrdLjEA",
        "outputId": "9903d3ff-2654-4b23-e78d-c244fe1ef73a"
      },
      "execution_count": 15,
      "outputs": [
        {
          "output_type": "display_data",
          "data": {
            "image/png": "[encoded data removed]",
            "text/plain": [
              "<Figure size 432x288 with 1 Axes>"
            ]
          },
          "metadata": {
            "needs_background": "light"
          }
        }
      ]
    },
    {
      "cell_type": "code",
      "source": [
        "plt.bar(svc.index, svc.values)\n",
        "plt.show()"
      ],
      "metadata": {
        "colab": {
          "base_uri": "https://localhost:8080/",
          "height": 265
        },
        "id": "-CaXT4OCL7i5",
        "outputId": "465ed356-4084-452a-c854-9604a7869484"
      },
      "execution_count": 16,
      "outputs": [
        {
          "output_type": "display_data",
          "data": {
            "image/png": "[encoded data removed]",
            "text/plain": [
              "<Figure size 432x288 with 1 Axes>"
            ]
          },
          "metadata": {
            "needs_background": "light"
          }
        }
      ]
    },
    {
      "cell_type": "code",
      "source": [
        "bmi = np.random.normal(21,1,n)\n",
        "weights = bmi*(heights**2)/10000 #bmi = w/(txt), t의 단위는 m"
      ],
      "metadata": {
        "id": "Nwp3I1N_MpdO"
      },
      "execution_count": 17,
      "outputs": []
    },
    {
      "cell_type": "code",
      "source": [
        "plt.plot(weights, heights, '.')\n",
        "plt.xlabel('weights')\n",
        "plt.ylabel('heights')\n",
        "plt.xlim(0,110)\n",
        "plt.ylim(0,220)\n",
        "plt.show()"
      ],
      "metadata": {
        "colab": {
          "base_uri": "https://localhost:8080/",
          "height": 279
        },
        "id": "kbvUykCGMzSg",
        "outputId": "377792d1-7ccc-4ea0-aa01-156f6691909b"
      },
      "execution_count": 18,
      "outputs": [
        {
          "output_type": "display_data",
          "data": {
            "image/png": "[encoded data removed]",
            "text/plain": [
              "<Figure size 432x288 with 1 Axes>"
            ]
          },
          "metadata": {
            "needs_background": "light"
          }
        }
      ]
    },
    {
      "cell_type": "code",
      "source": [
        "plt.figure(figsize=(10,5))\n",
        "plt.plot(heights,weights, '.')\n",
        "plt.ylabel('weights')\n",
        "plt.xlabel('heights')\n",
        "plt.ylim(0,110)\n",
        "plt.xlim(0,220)\n",
        "plt.grid(True)\n",
        "plt.show()"
      ],
      "metadata": {
        "colab": {
          "base_uri": "https://localhost:8080/",
          "height": 334
        },
        "id": "d1IxiBNYNFDd",
        "outputId": "26548dd1-46ff-4885-fa59-2933bf0ab396"
      },
      "execution_count": 20,
      "outputs": [
        {
          "output_type": "display_data",
          "data": {
            "image/png": "[encoded data removed]",
            "text/plain": [
              "<Figure size 720x360 with 1 Axes>"
            ]
          },
          "metadata": {
            "needs_background": "light"
          }
        }
      ]
    },
    {
      "cell_type": "code",
      "source": [
        "#xs = [[weight] for weight in weights]\n",
        "xs = weights.reshape(-1, 1) \n",
        "#독립변수는 여러 개의 특성으로 구성할 수 ML 모델에서는 2차원 배열 형태로 학습 데이터를 입력받음\n",
        "xs.shape"
      ],
      "metadata": {
        "colab": {
          "base_uri": "https://localhost:8080/"
        },
        "id": "jlsOYUrjO3kU",
        "outputId": "740f7c2c-3299-4111-e24e-7d07cab43da0"
      },
      "execution_count": 21,
      "outputs": [
        {
          "output_type": "execute_result",
          "data": {
            "text/plain": [
              "(1000, 1)"
            ]
          },
          "metadata": {},
          "execution_count": 21
        }
      ]
    },
    {
      "cell_type": "code",
      "source": [
        "xs2 = xs.reshape(5,20,-1)\n",
        "xs2.shape"
      ],
      "metadata": {
        "colab": {
          "base_uri": "https://localhost:8080/"
        },
        "id": "NWTh_YuffLqu",
        "outputId": "85fd6882-b806-42dd-dde0-2bbc2e928a6c"
      },
      "execution_count": 62,
      "outputs": [
        {
          "output_type": "execute_result",
          "data": {
            "text/plain": [
              "(5, 20, 10)"
            ]
          },
          "metadata": {},
          "execution_count": 62
        }
      ]
    },
    {
      "cell_type": "code",
      "source": [
        "#tensor 데이터\n",
        "#cannot reshape array of size 1000 into shape (3,20,newaxis)\n",
        "#xs3=xs.reshape(3,20,-1)\n",
        "#xs3.shape"
      ],
      "metadata": {
        "colab": {
          "base_uri": "https://localhost:8080/",
          "height": 210
        },
        "id": "srILjzvUfPyx",
        "outputId": "a1829cb8-d3aa-48bf-dc25-c6fc740dd8ab"
      },
      "execution_count": 64,
      "outputs": [
        {
          "output_type": "error",
          "ename": "ValueError",
          "evalue": "ignored",
          "traceback": [
            "\u001b[0;31m---------------------------------------------------------------------------\u001b[0m",
            "\u001b[0;31mValueError\u001b[0m                                Traceback (most recent call last)",
            "\u001b[0;32m<ipython-input-64-ce09e5ef65d8>\u001b[0m in \u001b[0;36m<module>\u001b[0;34m()\u001b[0m\n\u001b[1;32m      1\u001b[0m \u001b[0;31m#tensor 데이터\u001b[0m\u001b[0;34m\u001b[0m\u001b[0;34m\u001b[0m\u001b[0;34m\u001b[0m\u001b[0m\n\u001b[0;32m----> 2\u001b[0;31m \u001b[0mxs3\u001b[0m\u001b[0;34m=\u001b[0m\u001b[0mxs\u001b[0m\u001b[0;34m.\u001b[0m\u001b[0mreshape\u001b[0m\u001b[0;34m(\u001b[0m\u001b[0;36m3\u001b[0m\u001b[0;34m,\u001b[0m\u001b[0;36m20\u001b[0m\u001b[0;34m,\u001b[0m\u001b[0;34m-\u001b[0m\u001b[0;36m1\u001b[0m\u001b[0;34m)\u001b[0m\u001b[0;34m\u001b[0m\u001b[0;34m\u001b[0m\u001b[0m\n\u001b[0m\u001b[1;32m      3\u001b[0m \u001b[0mxs3\u001b[0m\u001b[0;34m.\u001b[0m\u001b[0mshape\u001b[0m\u001b[0;34m\u001b[0m\u001b[0;34m\u001b[0m\u001b[0m\n",
            "\u001b[0;31mValueError\u001b[0m: cannot reshape array of size 1000 into shape (3,20,newaxis)"
          ]
        }
      ]
    },
    {
      "cell_type": "code",
      "source": [
        "#ys = heights \n",
        "#종속 변수는 하나의 값이며 ML 모델에서 1차원 배열 형태로 학습 데이터를 입력받음\n",
        "ys.shape"
      ],
      "metadata": {
        "colab": {
          "base_uri": "https://localhost:8080/"
        },
        "id": "vSvf_u2vPFLv",
        "outputId": "e3b3fe38-1a2b-4373-e78c-6e9efb0d1a20"
      },
      "execution_count": 39,
      "outputs": [
        {
          "output_type": "execute_result",
          "data": {
            "text/plain": [
              "(1000,)"
            ]
          },
          "metadata": {},
          "execution_count": 39
        }
      ]
    },
    {
      "cell_type": "code",
      "source": [
        "from sklearn.linear_model import LinearRegression"
      ],
      "metadata": {
        "id": "Mt6skavmQHQL"
      },
      "execution_count": 24,
      "outputs": []
    },
    {
      "cell_type": "code",
      "source": [
        "lr_model = LinearRegression() #모델 개체 생성\n",
        "lr_model.fit(xs,ys) #학습\n",
        "lr_model.coef_, lr_model.intercept_ #가중치, 편향"
      ],
      "metadata": {
        "colab": {
          "base_uri": "https://localhost:8080/"
        },
        "id": "cTiuX3JNPzrJ",
        "outputId": "eea873a8-b717-427a-daf6-18aa4df8d246"
      },
      "execution_count": 35,
      "outputs": [
        {
          "output_type": "execute_result",
          "data": {
            "text/plain": [
              "(array([1.05940479]), 106.40136727614531)"
            ]
          },
          "metadata": {},
          "execution_count": 35
        }
      ]
    },
    {
      "cell_type": "code",
      "source": [
        "txs = np.array([[50],[60],[67],[70],[94]])"
      ],
      "metadata": {
        "id": "_01Y7-6xQ50z"
      },
      "execution_count": 36,
      "outputs": []
    },
    {
      "cell_type": "code",
      "source": [
        "pred_val1 = lr_model.predict(txs) #예측하시오\n",
        "pred_val1"
      ],
      "metadata": {
        "colab": {
          "base_uri": "https://localhost:8080/"
        },
        "id": "XtBwS_ltQ937",
        "outputId": "b20ca515-6ef6-4314-de35-62a49721e64c"
      },
      "execution_count": 37,
      "outputs": [
        {
          "output_type": "execute_result",
          "data": {
            "text/plain": [
              "array([159.37160669, 169.96565458, 177.38148809, 180.55970246,\n",
              "       205.98541738])"
            ]
          },
          "metadata": {},
          "execution_count": 37
        }
      ]
    },
    {
      "cell_type": "code",
      "source": [
        "from sklearn.model_selection import train_test_split\n",
        "train_xs, test_xs, train_ys, test_ys = train_test_split(xs,ys,train_size=0.8)\n",
        "train_xs.shape, test_xs.shape, train_ys.shape, test_ys.shape"
      ],
      "metadata": {
        "colab": {
          "base_uri": "https://localhost:8080/"
        },
        "id": "OAMAw-NYS796",
        "outputId": "2fb4440e-17f6-4c11-bb1c-04a24e156679"
      },
      "execution_count": 42,
      "outputs": [
        {
          "output_type": "execute_result",
          "data": {
            "text/plain": [
              "((800, 1), (200, 1), (800,), (200,))"
            ]
          },
          "metadata": {},
          "execution_count": 42
        }
      ]
    },
    {
      "cell_type": "markdown",
      "source": [
        "![SST.PNG](data:image/png;base64,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)"
      ],
      "metadata": {
        "id": "9YJQD_glW88v"
      }
    },
    {
      "cell_type": "markdown",
      "source": [
        "SST에 사용한 값을 평균과 실제 값\n",
        "\n",
        "SSR에 사용한 값은 평균과 예측 값"
      ],
      "metadata": {
        "id": "jYUaDUy5X7kl"
      }
    },
    {
      "cell_type": "code",
      "source": [
        "lr_model = LinearRegression() #모델 개체 생성\n",
        "lr_model.fit(xs,ys) #학습\n",
        "train_score = lr_model.score(train_xs,train_ys) #평가하시오.\n",
        "test_score = lr_model.score(test_xs,test_ys) #평가하시오.\n",
        "train_score,test_score"
      ],
      "metadata": {
        "colab": {
          "base_uri": "https://localhost:8080/"
        },
        "id": "P4oyx_ajTQrG",
        "outputId": "dd1bdc85-c7ca-4513-8807-586bb21200dc"
      },
      "execution_count": 45,
      "outputs": [
        {
          "output_type": "execute_result",
          "data": {
            "text/plain": [
              "(0.7784610195176016, 0.7328812945111024)"
            ]
          },
          "metadata": {},
          "execution_count": 45
        }
      ]
    },
    {
      "cell_type": "code",
      "source": [
        "from sklearn.neighbors import KNeighborsRegressor\n",
        "knr_model = KNeighborsRegressor() #모델 개체 생성\n",
        "knr_model.fit(xs, ys) #학습\n",
        "pred_val2 = lr_model.predict(txs) #예측하시오\n",
        "pred_val2"
      ],
      "metadata": {
        "colab": {
          "base_uri": "https://localhost:8080/"
        },
        "id": "9kg9uQytW_-G",
        "outputId": "fd066ae6-2192-46c0-8df6-aac6629006c1"
      },
      "execution_count": 46,
      "outputs": [
        {
          "output_type": "execute_result",
          "data": {
            "text/plain": [
              "array([159.37160669, 169.96565458, 177.38148809, 180.55970246,\n",
              "       205.98541738])"
            ]
          },
          "metadata": {},
          "execution_count": 46
        }
      ]
    },
    {
      "cell_type": "code",
      "source": [
        "pred_val1"
      ],
      "metadata": {
        "colab": {
          "base_uri": "https://localhost:8080/"
        },
        "id": "UQRKi9T0XWdM",
        "outputId": "7ffd70be-e990-4f66-bf47-20fbfc2943b6"
      },
      "execution_count": 47,
      "outputs": [
        {
          "output_type": "execute_result",
          "data": {
            "text/plain": [
              "array([159.37160669, 169.96565458, 177.38148809, 180.55970246,\n",
              "       205.98541738])"
            ]
          },
          "metadata": {},
          "execution_count": 47
        }
      ]
    },
    {
      "cell_type": "code",
      "source": [
        "from sklearn.neighbors import KNeighborsRegressor\n",
        "knr_model = KNeighborsRegressor() #모델 개체 생성\n",
        "knr_model.fit(xs, ys) #학습\n",
        "train_score = knr_model.score(train_xs,train_ys) #평가하시오.\n",
        "test_score = knr_model.score(test_xs,test_ys) #평가하시오.\n",
        "train_score, test_score"
      ],
      "metadata": {
        "colab": {
          "base_uri": "https://localhost:8080/"
        },
        "id": "f_mFZEWYYFic",
        "outputId": "65ffd69a-5d7f-4b73-a586-e7a88cf8ee12"
      },
      "execution_count": 48,
      "outputs": [
        {
          "output_type": "execute_result",
          "data": {
            "text/plain": [
              "(0.8260969946530125, 0.7987069027420928)"
            ]
          },
          "metadata": {},
          "execution_count": 48
        }
      ]
    },
    {
      "cell_type": "markdown",
      "source": [
        "KNN에서 주의할점"
      ],
      "metadata": {
        "id": "V9UkdM6FZTep"
      }
    },
    {
      "cell_type": "code",
      "source": [
        "pv1 = lr_model.predict([[35],[82], [85], [90], [100], [108],[120],[130]])\n",
        "pv2 = knr_model.predict([[35],[82], [85], [90], [100], [108],[120],[130]])\n",
        "pv1, pv2"
      ],
      "metadata": {
        "colab": {
          "base_uri": "https://localhost:8080/"
        },
        "id": "Qa0Zvq3lZUl2",
        "outputId": "9b02d283-c529-4d4e-97fd-271de17c0cc5"
      },
      "execution_count": 51,
      "outputs": [
        {
          "output_type": "execute_result",
          "data": {
            "text/plain": [
              "(array([143.48053487, 193.27255992, 196.45077428, 201.74779822,\n",
              "        212.34184611, 220.81708441, 233.52994187, 244.12398976]),\n",
              " array([153.55353193, 193.8769482 , 192.77668299, 192.77668299,\n",
              "        192.77668299, 192.77668299, 192.77668299, 192.77668299]))"
            ]
          },
          "metadata": {},
          "execution_count": 51
        }
      ]
    },
    {
      "cell_type": "code",
      "source": [
        "weights.max()"
      ],
      "metadata": {
        "colab": {
          "base_uri": "https://localhost:8080/"
        },
        "id": "rFDnMmASalea",
        "outputId": "0772afd6-9775-4a97-9e40-305bc7d1a074"
      },
      "execution_count": 52,
      "outputs": [
        {
          "output_type": "execute_result",
          "data": {
            "text/plain": [
              "88.3101142683545"
            ]
          },
          "metadata": {},
          "execution_count": 52
        }
      ]
    },
    {
      "cell_type": "code",
      "source": [
        "plt.plot(heights,weights,'.')\n",
        "plt.plot([141.54,194.43,197.81,203.44,214.69,223.69,237.20,248.45],[35,82,85,90,100,108,120,130],'bo',label='lr')\n",
        "plt.plot([157.05,190.43,190.83,190.83,190.93,190.83,190.38,190.38],[35,82,85,90,100,108,120,130],'r^',label='knr')\n",
        "plt.xlabel(\"height\")\n",
        "plt.ylabel(\"weight\")\n",
        "plt.xlim(0,250)\n",
        "plt.ylim(0,135)\n",
        "plt.grid(True)\n",
        "plt.legend()\n",
        "plt.show()"
      ],
      "metadata": {
        "colab": {
          "base_uri": "https://localhost:8080/",
          "height": 279
        },
        "id": "GsT2J9rQam_Z",
        "outputId": "945cf52d-da17-4854-d2d2-caa25144c539"
      },
      "execution_count": 65,
      "outputs": [
        {
          "output_type": "display_data",
          "data": {
            "image/png": "[encoded data removed]",
            "text/plain": [
              "<Figure size 432x288 with 1 Axes>"
            ]
          },
          "metadata": {
            "needs_background": "light"
          }
        }
      ]
    },
    {
      "cell_type": "markdown",
      "source": [
        "회귀 vs 분류"
      ],
      "metadata": {
        "id": "y8NQsqf9Mz-O"
      }
    },
    {
      "cell_type": "markdown",
      "source": [
        "지도학습 vs 비지도학습"
      ],
      "metadata": {
        "id": "rbCkTy0cM2WU"
      }
    },
    {
      "cell_type": "markdown",
      "source": [
        "KMeans"
      ],
      "metadata": {
        "id": "PlNQBJpaXBJX"
      }
    }
  ]
}