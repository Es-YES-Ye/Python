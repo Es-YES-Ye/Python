{
  "nbformat": 4,
  "nbformat_minor": 0,
  "metadata": {
    "colab": {
      "name": "통계데이터분석-preview.ipynb",
      "provenance": [],
      "authorship_tag": "ABX9TyOWT2VQlnx1tiFttlTAJDMv",
      "include_colab_link": true
    },
    "kernelspec": {
      "name": "python3",
      "display_name": "Python 3"
    },
    "language_info": {
      "name": "python"
    }
  },
  "cells": [
    {
      "cell_type": "markdown",
      "metadata": {
        "id": "view-in-github",
        "colab_type": "text"
      },
      "source": [
        "<a href=\"https://colab.research.google.com/github/Es-YES-Ye/Python/blob/main/%ED%86%B5%EA%B3%84%EB%8D%B0%EC%9D%B4%ED%84%B0%EB%B6%84%EC%84%9D_preview.ipynb\" target=\"_parent\"><img src=\"https://colab.research.google.com/assets/colab-badge.svg\" alt=\"Open In Colab\"/></a>"
      ]
    },
    {
      "cell_type": "code",
      "source": [
        "import pandas as pd\n",
        "import numpy as np\n",
        "import matplotlib.pyplot as plt"
      ],
      "metadata": {
        "id": "s2y8wvm3h2mS"
      },
      "execution_count": null,
      "outputs": []
    },
    {
      "cell_type": "markdown",
      "source": [
        "데이터 분석에 자주 사용하는 문법 리뷰"
      ],
      "metadata": {
        "id": "0AYtwUunVsO9"
      }
    },
    {
      "cell_type": "markdown",
      "source": [
        "\n",
        "벡터"
      ],
      "metadata": {
        "id": "JkiDhq6yVxuZ"
      }
    },
    {
      "cell_type": "markdown",
      "source": [
        "행렬"
      ],
      "metadata": {
        "id": "0VlC_9uTVxsA"
      }
    },
    {
      "cell_type": "code",
      "source": [
        "import numpy as np\n",
        "a = np.array([[1,2],[2,3]])\n",
        "b = np.array([[5],[8]])\n",
        "b\n",
        "ar = np.linalg.inv(a) #역행렬\n",
        "ar\n",
        "answer = ar@b #행렬곱\n",
        "answer"
      ],
      "metadata": {
        "colab": {
          "base_uri": "https://localhost:8080/"
        },
        "id": "nINNFCQJV2or",
        "outputId": "aa02980d-be65-431d-a67c-2c2a530ace1f"
      },
      "execution_count": null,
      "outputs": [
        {
          "output_type": "execute_result",
          "data": {
            "text/plain": [
              "array([[-3.,  2.],\n",
              "       [ 2., -1.]])"
            ]
          },
          "metadata": {},
          "execution_count": 3
        }
      ]
    },
    {
      "cell_type": "markdown",
      "source": [
        "통계"
      ],
      "metadata": {
        "id": "0AOlWc3JVxpd"
      }
    },
    {
      "cell_type": "code",
      "source": [
        "heights=np.random.normal(174,10,size=10000)\n",
        "import pandas as pd\n",
        "hs = pd.Series(heights)\n",
        "hs.value_counts()"
      ],
      "metadata": {
        "colab": {
          "base_uri": "https://localhost:8080/"
        },
        "id": "46MvAaSzXbxe",
        "outputId": "5b324ad2-eb88-4888-8cfe-92f15bbbfc3f"
      },
      "execution_count": null,
      "outputs": [
        {
          "output_type": "execute_result",
          "data": {
            "text/plain": [
              "152.117446    1\n",
              "181.541264    1\n",
              "178.986252    1\n",
              "163.160685    1\n",
              "184.676618    1\n",
              "             ..\n",
              "166.797686    1\n",
              "179.032540    1\n",
              "173.568665    1\n",
              "181.301275    1\n",
              "174.842780    1\n",
              "Length: 10000, dtype: int64"
            ]
          },
          "metadata": {},
          "execution_count": 4
        }
      ]
    },
    {
      "cell_type": "code",
      "source": [
        "import matplotlib.pyplot as plt\n",
        "plt.hist(heights , bins = 100)\n",
        "plt.show()"
      ],
      "metadata": {
        "colab": {
          "base_uri": "https://localhost:8080/",
          "height": 265
        },
        "id": "Q_DWTVEyX-_I",
        "outputId": "cc944512-e8bf-4540-bdb8-1abe755fe7f8"
      },
      "execution_count": null,
      "outputs": [
        {
          "output_type": "display_data",
          "data": {
            "image/png": "[encoded data removed]",
            "text/plain": [
              "<Figure size 432x288 with 1 Axes>"
            ]
          },
          "metadata": {
            "needs_background": "light"
          }
        }
      ]
    },
    {
      "cell_type": "markdown",
      "source": [
        "확률"
      ],
      "metadata": {
        "id": "bLRYWAppVxm-"
      }
    },
    {
      "cell_type": "markdown",
      "source": [
        "1-6까지 쓰여진 육면체의 주사위가 있다. (공평하지 않은 주사위)\n",
        "\n",
        "1이 나온 확률이 1/6\n",
        "\n",
        "2이 나온 확률이 1/12\n",
        "\n",
        "3이 나온 확률이 1/12\n",
        "\n",
        "4이 나온 확률이 1/3\n",
        "\n",
        "5이 나온 확률이 1/6\n",
        "\n",
        "6이 나온 확률이 1/6\n",
        "\n",
        "주사위를 100번 던지는 실험을 해보세요\n",
        "\n",
        "\n"
      ],
      "metadata": {
        "id": "AKDD5bcWYr-q"
      }
    },
    {
      "cell_type": "markdown",
      "source": [
        "0-11 사이의 랜덤한 수를 발생시킨다.\n",
        "\n",
        "발생한 수가 0,1 이면 주사위 1 \n",
        "\n",
        "발생한 수가 2 이면 주사위 2 \n",
        "\n",
        "발생한 수가 3 이면 주사위 3 \n",
        "\n",
        "발생한 수가 4,5,6,7 이면 주사위 4 \n",
        "\n",
        "발생한 수가 8,9 이면 주사위 5 \n",
        "\n",
        "발생한 수가 10,11 이면 주사위 6 \n",
        "\n"
      ],
      "metadata": {
        "id": "f5Ed2Ja5ZUcx"
      }
    },
    {
      "cell_type": "code",
      "source": [
        "data = np.random.randint(0,12,1000)\n",
        "cnts = np.zeros(6)\n",
        "for tv in data:\n",
        "  if tv == 0 or tv ==1:\n",
        "    cnts[0] += 1\n",
        "  elif tv == 2:\n",
        "    cnts[1] += 1\n",
        "  elif tv == 3:\n",
        "    cnts[2] += 1\n",
        "  elif tv>4 and tv<=7:\n",
        "    cnts[3] += 1\n",
        "  elif tv == 8 or tv == 9:\n",
        "    cnts[4] += 1\n",
        "  else: \n",
        "    cnts[5] += 1\n",
        "cnts\n",
        "\n",
        "\n"
      ],
      "metadata": {
        "colab": {
          "base_uri": "https://localhost:8080/"
        },
        "id": "uiwa96g-Yo4e",
        "outputId": "850e478b-5717-4869-bb78-2ee3df37280f"
      },
      "execution_count": null,
      "outputs": [
        {
          "output_type": "execute_result",
          "data": {
            "text/plain": [
              "array([170.,  91.,  68., 256., 168., 247.])"
            ]
          },
          "metadata": {},
          "execution_count": 8
        }
      ]
    },
    {
      "cell_type": "markdown",
      "source": [
        "가설과추론"
      ],
      "metadata": {
        "id": "-FxCfs_DVxkh"
      }
    },
    {
      "cell_type": "markdown",
      "source": [
        "2022년 3월 4일 금요일\n",
        "\n",
        "방탈출게임에서 빠져나갈 수 있는 확률이 99%\n",
        "\n",
        "해당 게임은 유의미한 게임인지 판별하시오"
      ],
      "metadata": {
        "id": "9EDHfVG8bt7I"
      }
    },
    {
      "cell_type": "code",
      "source": [
        ""
      ],
      "metadata": {
        "id": "ZyI0T5FtbthD"
      },
      "execution_count": null,
      "outputs": []
    },
    {
      "cell_type": "markdown",
      "source": [
        "선형회귀"
      ],
      "metadata": {
        "id": "w3jj-bpPVxh4"
      }
    },
    {
      "cell_type": "code",
      "source": [
        "temperature = [25.2, 27.4, 22.9, 26.2, 29.5, 33.1, 30.4, 36.1, 34.3, 29.1]\n",
        "sales = [236500, 357500, 203500, 365200, 446600, 574200, 453200, 675400, 598400, 463100]\n",
        "dict_data = {\"temp\": temperature, \"sale\": sales}\n",
        "df_sales=pd.DataFrame(dict_data, columns=[\"temp\", \"sale\"])\n",
        "dict_data\n",
        "df_sales.plot.scatter(x='temp', y='sale',grid=True, title=\"temp and sale\")\n",
        "plt.show()"
      ],
      "metadata": {
        "colab": {
          "base_uri": "https://localhost:8080/",
          "height": 295
        },
        "id": "b-puhql6hyH8",
        "outputId": "8dc264f2-c9b0-40f8-b771-17d05a157760"
      },
      "execution_count": null,
      "outputs": [
        {
          "output_type": "display_data",
          "data": {
            "image/png": "[encoded data removed]",
            "text/plain": [
              "<Figure size 432x288 with 1 Axes>"
            ]
          },
          "metadata": {
            "needs_background": "light"
          }
        }
      ]
    },
    {
      "cell_type": "code",
      "source": [
        "sales2 = np.array(sales)/10000\n",
        "dict_data2 = {\"temp\": temperature, \"sale2\": sales2}\n",
        "df_sales2=pd.DataFrame(dict_data2, columns=[\"temp\", \"sale2\"])\n",
        "plt.figure(figsize=(6,6))\n",
        "plt.plot(temperature, sales2, 'o')\n",
        "plt.xlim(0,80)\n",
        "plt.ylim(0,80)\n",
        "plt.show()"
      ],
      "metadata": {
        "colab": {
          "base_uri": "https://localhost:8080/",
          "height": 378
        },
        "id": "zzi3nn3qh59-",
        "outputId": "c91cc89f-6a65-4b7c-baab-964776523275"
      },
      "execution_count": null,
      "outputs": [
        {
          "output_type": "display_data",
          "data": {
            "image/png": "[encoded data removed]",
            "text/plain": [
              "<Figure size 432x432 with 1 Axes>"
            ]
          },
          "metadata": {
            "needs_background": "light"
          }
        }
      ]
    },
    {
      "cell_type": "markdown",
      "source": [
        "y = ax + b\n",
        "\n",
        "y =wx + b : 머신러닝에서 표현하는 방식\n",
        "\n",
        "w: 가중치 - 독립변수 x 가 종속 변수 y 에 영향을 주는 정도\n",
        "\n",
        "b : 편향 - 주어진 인자 외에 결과 y 에 영향을 주는 정도\n",
        "\n",
        "y = 3x - 5\n",
        "\n",
        "y = 4x - 2\n",
        "\n",
        "y = 5x - 3\n",
        "\n",
        "y = 4x - 5\n",
        "\n",
        "\n",
        "\n"
      ],
      "metadata": {
        "id": "AkGsEIcRirpe"
      }
    },
    {
      "cell_type": "code",
      "source": [
        "sales2 = np.array(sales)/10000\n",
        "dict_data2 = {\"temp\": temperature, \"sale2\": sales2}\n",
        "df_sales2=pd.DataFrame(dict_data2, columns=[\"temp\", \"sale2\"])\n",
        "plt.figure(figsize=(6,6))\n",
        "plt.plot(temperature, sales2, 'o')\n",
        "plt.plot([0,80], [3*0-5, 3*80-5], '-', label='y=3x-5')\n",
        "plt.plot([0,80], [4*0-2, 4*80-2], '-', label='y=4x-2')\n",
        "plt.plot([0,80], [5*0-3, 5*80-3], '-', label='y=5x-3')\n",
        "plt.plot([0,80], [4*0-5, 4*80-5], '-', label='y=4x-5')\n",
        "plt.plot([0,80], [2*0-105, 3*80-105], '-', label='y=3x-105')\n",
        "plt.plot([0,80], [3.4*0-55, 3.4*80-55], '-', label='y=3.4x-55')\n",
        "plt.xlim(0,80)\n",
        "plt.ylim(0,80)\n",
        "plt.legend()\n",
        "plt.show()"
      ],
      "metadata": {
        "colab": {
          "base_uri": "https://localhost:8080/",
          "height": 378
        },
        "id": "rz9SPT8Cj6gB",
        "outputId": "4cd615a7-52e9-48e6-b681-5d6c701c0039"
      },
      "execution_count": null,
      "outputs": [
        {
          "output_type": "display_data",
          "data": {
            "image/png": "[encoded data removed]",
            "text/plain": [
              "<Figure size 432x432 with 1 Axes>"
            ]
          },
          "metadata": {
            "needs_background": "light"
          }
        }
      ]
    },
    {
      "cell_type": "code",
      "source": [
        "es1 = 0 \n",
        "for i, temp in enumerate(temperature):\n"
      ],
      "metadata": {
        "id": "Qt4GCKn4mWVl"
      },
      "execution_count": null,
      "outputs": []
    },
    {
      "cell_type": "markdown",
      "source": [
        ""
      ],
      "metadata": {
        "id": "FSAT68VgmWLe"
      }
    },
    {
      "cell_type": "markdown",
      "source": [
        "로지스틱회귀"
      ],
      "metadata": {
        "id": "dKzSHLLuVxe8"
      }
    },
    {
      "cell_type": "markdown",
      "source": [
        "KNN"
      ],
      "metadata": {
        "id": "NAr09bqLVxck"
      }
    }
  ]
}