{
  "nbformat": 4,
  "nbformat_minor": 0,
  "metadata": {
    "colab": {
      "name": "통계데이터분석-통계.ipynb",
      "provenance": [],
      "authorship_tag": "ABX9TyNM2H4Uc5HYrZosMdEk2XKc",
      "include_colab_link": true
    },
    "kernelspec": {
      "name": "python3",
      "display_name": "Python 3"
    },
    "language_info": {
      "name": "python"
    }
  },
  "cells": [
    {
      "cell_type": "markdown",
      "metadata": {
        "id": "view-in-github",
        "colab_type": "text"
      },
      "source": [
        "<a href=\"https://colab.research.google.com/github/Es-YES-Ye/Python/blob/main/%ED%86%B5%EA%B3%84%EB%8D%B0%EC%9D%B4%ED%84%B0%EB%B6%84%EC%84%9D_%ED%86%B5%EA%B3%84.ipynb\" target=\"_parent\"><img src=\"https://colab.research.google.com/assets/colab-badge.svg\" alt=\"Open In Colab\"/></a>"
      ]
    },
    {
      "cell_type": "markdown",
      "source": [
        "들여쓰기"
      ],
      "metadata": {
        "id": "xcvHe4mbssMK"
      }
    },
    {
      "cell_type": "code",
      "source": [
        "#C언어 예\n",
        "#i=0\n",
        "#while(i<10) //i가 10보다 작다면\n",
        "#{\n",
        "#printf(\"%d\", i) //i값을 출력\n",
        "#i+=1//i를 1 증가\n",
        "#}\n",
        "i=0\n",
        "while i <10:\n",
        "  print(i, end=' ')\n",
        "  i+=1"
      ],
      "metadata": {
        "colab": {
          "base_uri": "https://localhost:8080/"
        },
        "id": "bXrGQ1MPs1kI",
        "outputId": "77313d31-07a3-4a35-b564-5f9286b24519"
      },
      "execution_count": null,
      "outputs": [
        {
          "output_type": "stream",
          "name": "stdout",
          "text": [
            "0 1 2 3 4 5 6 7 8 9 "
          ]
        }
      ]
    },
    {
      "cell_type": "markdown",
      "source": [
        "모듈"
      ],
      "metadata": {
        "id": "GagITZMmwRWU"
      }
    },
    {
      "cell_type": "code",
      "source": [
        "import sys\n",
        "sys.path.append('/content/sample_data/')"
      ],
      "metadata": {
        "id": "SBHVz573unHk"
      },
      "execution_count": null,
      "outputs": []
    },
    {
      "cell_type": "code",
      "source": [
        "import demo\n",
        "demo.print_n(3,7)"
      ],
      "metadata": {
        "colab": {
          "base_uri": "https://localhost:8080/"
        },
        "id": "W02VQMpCus2D",
        "outputId": "f8c3cdec-c98b-4cc3-d255-26d7ef7eb762"
      },
      "execution_count": null,
      "outputs": [
        {
          "output_type": "stream",
          "name": "stdout",
          "text": [
            "3 3 3 3 3 3 3 3 "
          ]
        }
      ]
    },
    {
      "cell_type": "code",
      "source": [
        "import demo as d\n",
        "d.print_n(3,7)"
      ],
      "metadata": {
        "colab": {
          "base_uri": "https://localhost:8080/"
        },
        "id": "jBk7NyUAvTly",
        "outputId": "9d232a87-8d67-4840-d252-2677a3ed3203"
      },
      "execution_count": null,
      "outputs": [
        {
          "output_type": "stream",
          "name": "stdout",
          "text": [
            "3 3 3 3 3 3 3 3 "
          ]
        }
      ]
    },
    {
      "cell_type": "code",
      "source": [
        "from demo import print_n\n",
        "print_n(3,7)"
      ],
      "metadata": {
        "colab": {
          "base_uri": "https://localhost:8080/"
        },
        "id": "6sr_9Arsvbac",
        "outputId": "bb478af8-d205-4fe9-d9d4-095cd8879fa7"
      },
      "execution_count": null,
      "outputs": [
        {
          "output_type": "stream",
          "name": "stdout",
          "text": [
            "3 3 3 3 3 3 3 3 "
          ]
        }
      ]
    },
    {
      "cell_type": "markdown",
      "source": [
        "함수"
      ],
      "metadata": {
        "id": "c8I34mg3wT2Y"
      }
    },
    {
      "cell_type": "code",
      "source": [
        "\"\"\"\n",
        "함수 정의\n",
        "def 함수명(입력매개변수 목록):\n",
        "    수행할 구문\n",
        "\"\"\"\n",
        "def print_k(i,k=1):\n",
        "  \"\"\"\n",
        "  함수명: print_k \n",
        "  입력매개변수 목록:i,k\n",
        "    i : 출력할 인자\n",
        "    k : 출력할 횟수, 디폴트 값:1\n",
        "  반환: 없음\n",
        "  \"\"\"  \n",
        "  for _ in range(k):\n",
        "    print(i, end=\",\")\n",
        "  print()"
      ],
      "metadata": {
        "id": "j0YFZsDvwk3h"
      },
      "execution_count": null,
      "outputs": []
    },
    {
      "cell_type": "code",
      "source": [
        "def apply_to_one(f):\n",
        "  \"\"\"\n",
        "  함수명: apply_to_one\n",
        "  입력매개변수목록:f\n",
        "    f:알고리즘(최소 한 개의 입력 인자를 갖는)\n",
        "  반환 f(1)\n",
        "  \"\"\"\n",
        "  return f(1) #입력 인자 f를 함수처럼 호출"
      ],
      "metadata": {
        "id": "8A0u8eO8yJ-Z"
      },
      "execution_count": null,
      "outputs": []
    },
    {
      "cell_type": "code",
      "source": [
        "re = apply_to_one(print_k)\n",
        "print(re)"
      ],
      "metadata": {
        "colab": {
          "base_uri": "https://localhost:8080/"
        },
        "id": "79-cw84jyXSz",
        "outputId": "74ca5b67-6f08-4783-97ed-d18bb4f92d8e"
      },
      "execution_count": null,
      "outputs": [
        {
          "output_type": "stream",
          "name": "stdout",
          "text": [
            "1,\n",
            "None\n"
          ]
        }
      ]
    },
    {
      "cell_type": "code",
      "source": [
        "def foo(a):\n",
        "  print(\"foo\")\n",
        "  return str(a)"
      ],
      "metadata": {
        "id": "FJpNxMxlyfDE"
      },
      "execution_count": null,
      "outputs": []
    },
    {
      "cell_type": "code",
      "source": [
        "re2 = apply_to_one(foo)\n",
        "print(re2)"
      ],
      "metadata": {
        "colab": {
          "base_uri": "https://localhost:8080/"
        },
        "id": "3FaklbJXyjWt",
        "outputId": "aefd98c3-2a52-481c-fa9c-9838e4eb0bd7"
      },
      "execution_count": null,
      "outputs": [
        {
          "output_type": "stream",
          "name": "stdout",
          "text": [
            "foo\n",
            "1\n"
          ]
        }
      ]
    },
    {
      "cell_type": "code",
      "source": [
        "\"\"\"\n",
        "lambda x:x+2\n",
        "위 코드는 아래 코드와 같은 역할을 수행한다.\n",
        "def foo(x):\n",
        "  return x+2\n",
        "\"\"\"\n",
        "\n",
        "re3 = apply_to_one(lambda x:x*2)\n",
        "print(re3)"
      ],
      "metadata": {
        "colab": {
          "base_uri": "https://localhost:8080/"
        },
        "id": "L-1Uy4WlzA1b",
        "outputId": "67d6c53b-2bf8-4bda-cdd5-555a6a158ef3"
      },
      "execution_count": null,
      "outputs": [
        {
          "output_type": "stream",
          "name": "stdout",
          "text": [
            "2\n"
          ]
        }
      ]
    },
    {
      "cell_type": "markdown",
      "source": [
        "문자열"
      ],
      "metadata": {
        "id": "JHlIf7Hxz54a"
      }
    },
    {
      "cell_type": "code",
      "source": [
        "print(\"a\\t\\b\\n\\c\\\\hello\")"
      ],
      "metadata": {
        "colab": {
          "base_uri": "https://localhost:8080/"
        },
        "id": "gcGiHS3uz6qd",
        "outputId": "355c0a9b-0134-4777-cd51-20e935f3a8ed"
      },
      "execution_count": null,
      "outputs": [
        {
          "output_type": "stream",
          "name": "stdout",
          "text": [
            "a\t\b\n",
            "\\c\\hello\n"
          ]
        }
      ]
    },
    {
      "cell_type": "code",
      "source": [
        "i = int(input(\"첫번째 수\"))\n",
        "j = int(input(\"두번재 수\"))\n",
        "re = i + j\n",
        "print(re)"
      ],
      "metadata": {
        "colab": {
          "base_uri": "https://localhost:8080/"
        },
        "id": "NhAy6PBD0MKg",
        "outputId": "835b8502-070c-4304-e609-3798d1aeca92"
      },
      "execution_count": null,
      "outputs": [
        {
          "output_type": "stream",
          "name": "stdout",
          "text": [
            "첫번째 수3\n",
            "두번재 수4\n",
            "7\n"
          ]
        }
      ]
    },
    {
      "cell_type": "markdown",
      "source": [
        "포맷메소드\n",
        "\n",
        "두 가지 방법"
      ],
      "metadata": {
        "id": "dtaGlvUV0-7v"
      }
    },
    {
      "cell_type": "code",
      "source": [
        "i=23\n",
        "j=34\n",
        "\"{0} , {1}\".format(i, j)"
      ],
      "metadata": {
        "colab": {
          "base_uri": "https://localhost:8080/",
          "height": 36
        },
        "id": "pPkNefrC0zaj",
        "outputId": "18853015-e014-464b-9b2d-128aa98ad350"
      },
      "execution_count": null,
      "outputs": [
        {
          "output_type": "execute_result",
          "data": {
            "application/vnd.google.colaboratory.intrinsic+json": {
              "type": "string"
            },
            "text/plain": [
              "'23 , 34'"
            ]
          },
          "metadata": {},
          "execution_count": 43
        }
      ]
    },
    {
      "cell_type": "code",
      "source": [
        "f\"{i} , {j}\""
      ],
      "metadata": {
        "colab": {
          "base_uri": "https://localhost:8080/",
          "height": 36
        },
        "id": "jXCTsaYn04EB",
        "outputId": "e75c6279-3fbe-4f1a-a618-1550eebc6d9e"
      },
      "execution_count": null,
      "outputs": [
        {
          "output_type": "execute_result",
          "data": {
            "application/vnd.google.colaboratory.intrinsic+json": {
              "type": "string"
            },
            "text/plain": [
              "'23 34'"
            ]
          },
          "metadata": {},
          "execution_count": 42
        }
      ]
    },
    {
      "cell_type": "code",
      "source": [
        "i=23\n",
        "j=34\n",
        "\"{0:03d} , {1:04d}\".format(i, j)\n",
        "#3칸을 채우고 빈자리는 0으로 채워라"
      ],
      "metadata": {
        "colab": {
          "base_uri": "https://localhost:8080/",
          "height": 36
        },
        "id": "zzFiM_Ru1EAG",
        "outputId": "f05bc501-cfdf-4f24-c21b-954053ed7e20"
      },
      "execution_count": null,
      "outputs": [
        {
          "output_type": "execute_result",
          "data": {
            "application/vnd.google.colaboratory.intrinsic+json": {
              "type": "string"
            },
            "text/plain": [
              "' 23 ,   34'"
            ]
          },
          "metadata": {},
          "execution_count": 47
        }
      ]
    },
    {
      "cell_type": "code",
      "source": [
        "f\"{i:3f} , {j:3f}\""
      ],
      "metadata": {
        "colab": {
          "base_uri": "https://localhost:8080/",
          "height": 36
        },
        "id": "WXEP2D2d1KDr",
        "outputId": "42579b91-90d2-493c-be70-f229e8d3ab6b"
      },
      "execution_count": null,
      "outputs": [
        {
          "output_type": "execute_result",
          "data": {
            "application/vnd.google.colaboratory.intrinsic+json": {
              "type": "string"
            },
            "text/plain": [
              "'23.000000 , 34.000000'"
            ]
          },
          "metadata": {},
          "execution_count": 44
        }
      ]
    },
    {
      "cell_type": "code",
      "source": [
        "pre=\"cap\"\n",
        "ext=\".png\"\n",
        "for cnt in range(1,20):\n",
        "  print(f\"{pre}{cnt}{ext}\")\n"
      ],
      "metadata": {
        "colab": {
          "base_uri": "https://localhost:8080/"
        },
        "id": "ItT6u5Am1ch1",
        "outputId": "9ab083e8-07c7-498e-aa12-1ba60bf57508"
      },
      "execution_count": null,
      "outputs": [
        {
          "output_type": "stream",
          "name": "stdout",
          "text": [
            "cap1.png\n",
            "cap2.png\n",
            "cap3.png\n",
            "cap4.png\n",
            "cap5.png\n",
            "cap6.png\n",
            "cap7.png\n",
            "cap8.png\n",
            "cap9.png\n",
            "cap10.png\n",
            "cap11.png\n",
            "cap12.png\n",
            "cap13.png\n",
            "cap14.png\n",
            "cap15.png\n",
            "cap16.png\n",
            "cap17.png\n",
            "cap18.png\n",
            "cap19.png\n"
          ]
        }
      ]
    },
    {
      "cell_type": "markdown",
      "source": [
        "예외 처리"
      ],
      "metadata": {
        "id": "UDFdHT4F19tQ"
      }
    },
    {
      "cell_type": "code",
      "source": [
        "try:\n",
        "  i = int(input(\"첫 번째 수 : \"))\n",
        "except:\n",
        "  print(\"정수가 아닌 수를 입력하여 1로 처리합니다.\")\n",
        "  i=1\n",
        "try:\n",
        "  j = int(input(\"두 번째 수 : \"))\n",
        "except:\n",
        "  print(\"정수가 아닌 수를 입력하여 1로 처리합니다.\")\n",
        "  j=1\n",
        "re = i+j\n",
        "print(f\"두 수의 합은 {re}\")\n"
      ],
      "metadata": {
        "colab": {
          "base_uri": "https://localhost:8080/"
        },
        "id": "XXDHnpUK1_GT",
        "outputId": "4dd4c04f-1aa6-4fc6-a6bb-f2a7cb24675c"
      },
      "execution_count": null,
      "outputs": [
        {
          "output_type": "stream",
          "name": "stdout",
          "text": [
            "첫 번째 수 : 1\n",
            "두 번째 수 : 2\n",
            "두 수의 합은 3\n"
          ]
        }
      ]
    },
    {
      "cell_type": "markdown",
      "source": [
        "리스트 튜플 딕셔너리 디폴트 딕셔너리 집합"
      ],
      "metadata": {
        "id": "_F7R3SDn60t7"
      }
    },
    {
      "cell_type": "code",
      "source": [
        "x = [1,2,3,4,5,6,7,8,9,10]\n",
        "print(\"길이 : \",len(x))\n",
        "print(\"합계 : \", sum(x))"
      ],
      "metadata": {
        "colab": {
          "base_uri": "https://localhost:8080/"
        },
        "id": "JgN3HnTh63TP",
        "outputId": "943b3c7e-51c3-414d-9e8e-f934bf319143"
      },
      "execution_count": null,
      "outputs": [
        {
          "output_type": "stream",
          "name": "stdout",
          "text": [
            "길이 :  10\n",
            "합계 :  55\n"
          ]
        }
      ]
    },
    {
      "cell_type": "code",
      "source": [
        "for i in range(len(x)):\n",
        "  print(x[i], end=',') #인덱스 연산으로 원소에 접근\n",
        "print()"
      ],
      "metadata": {
        "colab": {
          "base_uri": "https://localhost:8080/"
        },
        "id": "PpNosz5E7AsB",
        "outputId": "6da0447f-86cb-44f0-b0f2-f054b5bd3134"
      },
      "execution_count": null,
      "outputs": [
        {
          "output_type": "stream",
          "name": "stdout",
          "text": [
            "1,2,3,4,5,6,7,8,9,10,\n"
          ]
        }
      ]
    },
    {
      "cell_type": "code",
      "source": [
        "for i in range(len(x)):\n",
        "  x[i] = i * i #리스트는 인덱스 연산을 = 좌항에 표현하여 값을 변경할 수 있다.\n",
        "\n",
        "for i in range(len(x)):\n",
        "  print(x[i], end=',') #인덱스 연산으로 원소에 접근\n",
        "print()"
      ],
      "metadata": {
        "id": "1AMx0xav6z80"
      },
      "execution_count": null,
      "outputs": []
    },
    {
      "cell_type": "code",
      "source": [
        "print(x)\n",
        "print(\"1:\", x[2:4])\n",
        "print(\"2:\", x[:4])\n",
        "print(\"3:\", x[2:])\n",
        "print(\"4:\", x[:])\n",
        "print(\"5:\", x[-1])\n",
        "print(\"6:\", x[2:-1])"
      ],
      "metadata": {
        "colab": {
          "base_uri": "https://localhost:8080/"
        },
        "id": "Md97y4RQ7ztp",
        "outputId": "7ab613a2-10ab-4eb3-8ae8-f89d3b415029"
      },
      "execution_count": null,
      "outputs": [
        {
          "output_type": "stream",
          "name": "stdout",
          "text": [
            "[1, 2, 3, 4, 5, 6, 7, 8, 9, 10]\n",
            "1: [3, 4]\n",
            "2: [1, 2, 3, 4]\n",
            "3: [3, 4, 5, 6, 7, 8, 9, 10]\n",
            "4: [1, 2, 3, 4, 5, 6, 7, 8, 9, 10]\n",
            "5: 10\n",
            "6: [3, 4, 5, 6, 7, 8, 9]\n"
          ]
        }
      ]
    },
    {
      "cell_type": "code",
      "source": [
        "print(x)\n",
        "for i in range(20):\n",
        "  if i in x:\n",
        "    print(f\"{i}는 리스트에 있습니다.\")\n",
        "  else:\n",
        "    print(f\"{i}는 없습니다.\")\n",
        "  print()"
      ],
      "metadata": {
        "colab": {
          "base_uri": "https://localhost:8080/"
        },
        "id": "KtTWqdLW8jdq",
        "outputId": "36d3a4e1-32bd-4f1e-9b00-ab48494a304e"
      },
      "execution_count": null,
      "outputs": [
        {
          "output_type": "stream",
          "name": "stdout",
          "text": [
            "[1, 2, 3, 4, 5, 6, 7, 8, 9, 10]\n",
            "0는 없습니다.\n",
            "\n",
            "1는 리스트에 있습니다.\n",
            "\n",
            "2는 리스트에 있습니다.\n",
            "\n",
            "3는 리스트에 있습니다.\n",
            "\n",
            "4는 리스트에 있습니다.\n",
            "\n",
            "5는 리스트에 있습니다.\n",
            "\n",
            "6는 리스트에 있습니다.\n",
            "\n",
            "7는 리스트에 있습니다.\n",
            "\n",
            "8는 리스트에 있습니다.\n",
            "\n",
            "9는 리스트에 있습니다.\n",
            "\n",
            "10는 리스트에 있습니다.\n",
            "\n",
            "11는 없습니다.\n",
            "\n",
            "12는 없습니다.\n",
            "\n",
            "13는 없습니다.\n",
            "\n",
            "14는 없습니다.\n",
            "\n",
            "15는 없습니다.\n",
            "\n",
            "16는 없습니다.\n",
            "\n",
            "17는 없습니다.\n",
            "\n",
            "18는 없습니다.\n",
            "\n",
            "19는 없습니다.\n",
            "\n"
          ]
        }
      ]
    },
    {
      "cell_type": "code",
      "source": [
        "ls = [3,4,5]\n",
        "_,b,_ = ls\n",
        "print(f\"b:{b}\")"
      ],
      "metadata": {
        "colab": {
          "base_uri": "https://localhost:8080/"
        },
        "id": "km4DybeU9DTR",
        "outputId": "b6109750-54ba-47c5-ce8a-2267a7d4e972"
      },
      "execution_count": null,
      "outputs": [
        {
          "output_type": "stream",
          "name": "stdout",
          "text": [
            "b:4\n"
          ]
        }
      ]
    },
    {
      "cell_type": "code",
      "source": [
        "def getcal(ls):\n",
        "  sum=0\n",
        "  for i in range(len(ls)):\n",
        "    sum += ls[i]\n",
        "  aver = sum/len(ls)\n",
        "  return [sum,aver]"
      ],
      "metadata": {
        "id": "IOkumlF-9JtM"
      },
      "execution_count": null,
      "outputs": []
    },
    {
      "cell_type": "code",
      "source": [
        "x = [3,4,8,1,9]\n",
        "_,aver = getcal(x)\n",
        "print(\"평균 : \",aver)"
      ],
      "metadata": {
        "colab": {
          "base_uri": "https://localhost:8080/"
        },
        "id": "RU0siTMM9dGD",
        "outputId": "26038aca-8bb8-4612-bd1f-2489e4a03f9e"
      },
      "execution_count": null,
      "outputs": [
        {
          "output_type": "stream",
          "name": "stdout",
          "text": [
            "평균 :  5.0\n"
          ]
        }
      ]
    },
    {
      "cell_type": "code",
      "source": [
        "x=(1,2,3,4,5) #튜플\n",
        "for i in range(len(x)):\n",
        "  print(x[i],end=\",\")\n",
        "print()"
      ],
      "metadata": {
        "colab": {
          "base_uri": "https://localhost:8080/"
        },
        "id": "u05x0wjN-CEc",
        "outputId": "97ea7667-339f-48f8-fae7-1587878aba67"
      },
      "execution_count": null,
      "outputs": [
        {
          "output_type": "stream",
          "name": "stdout",
          "text": [
            "1,2,3,4,5,\n"
          ]
        }
      ]
    },
    {
      "cell_type": "code",
      "source": [
        "try:\n",
        "  for i in range(len(x)):\n",
        "    x[i]=i*i #튜플은 원소의 값을 바꿀 수가 없다.(l-value로 사용할 수 없다.)\n",
        "except:\n",
        "  print(\"예외 발생\")"
      ],
      "metadata": {
        "colab": {
          "base_uri": "https://localhost:8080/"
        },
        "id": "U96WoTnI-JYT",
        "outputId": "ec5ae6f4-da27-4a80-eda8-31580728a391"
      },
      "execution_count": null,
      "outputs": [
        {
          "output_type": "stream",
          "name": "stdout",
          "text": [
            "예외 발생\n"
          ]
        }
      ]
    },
    {
      "cell_type": "code",
      "source": [
        "x=(2,3,4)\n",
        "a,b,c=x\n",
        "print(f\"a:{a}, b:{b}, c:{c}\")"
      ],
      "metadata": {
        "colab": {
          "base_uri": "https://localhost:8080/"
        },
        "id": "xK6IQsKZ-soE",
        "outputId": "7ef71781-7efc-462d-9492-aaf9bbf07d23"
      },
      "execution_count": null,
      "outputs": [
        {
          "output_type": "stream",
          "name": "stdout",
          "text": [
            "a:2, b:3, c:4\n"
          ]
        }
      ]
    },
    {
      "cell_type": "code",
      "source": [
        "x=1,2,3,4\n",
        "print(type(x))"
      ],
      "metadata": {
        "colab": {
          "base_uri": "https://localhost:8080/"
        },
        "id": "YUEwAwn0-y02",
        "outputId": "0f156c37-aef3-4921-da1b-390118d2ff5c"
      },
      "execution_count": null,
      "outputs": [
        {
          "output_type": "stream",
          "name": "stdout",
          "text": [
            "<class 'tuple'>\n"
          ]
        }
      ]
    },
    {
      "cell_type": "code",
      "source": [
        "def getcal2(ls):\n",
        "  sum=0\n",
        "  for i in range(len(ls)):\n",
        "    sum += ls[i]\n",
        "  aver = sum/len(ls)\n",
        "  return sum,aver"
      ],
      "metadata": {
        "id": "i7tbtSmP-32v"
      },
      "execution_count": null,
      "outputs": []
    },
    {
      "cell_type": "code",
      "source": [
        "re=getcal2([1,2,3,4])\n",
        "print(type(re))\n",
        "s, aver = re\n",
        "print(f\"합계 : {s}, 평균 : {aver}\")"
      ],
      "metadata": {
        "colab": {
          "base_uri": "https://localhost:8080/"
        },
        "id": "ZblRTDRh-5f9",
        "outputId": "17fd4fb0-3c90-4ca2-92d1-d38ac592a287"
      },
      "execution_count": null,
      "outputs": [
        {
          "output_type": "stream",
          "name": "stdout",
          "text": [
            "<class 'tuple'>\n",
            "합계 : 10, 평균 : 2.5\n"
          ]
        }
      ]
    },
    {
      "cell_type": "code",
      "source": [
        "mem_dic={}\n",
        "try:\n",
        "  mem_dic[0] += 1\n",
        "except:\n",
        "  print(\"예외 발생\")\n",
        "print(\"==========================\")\n",
        "mem_dic2={\"홍길동\" : [90,84,88],\n",
        "          \"강감찬\" : [80,75,45]}\n",
        "print(mem_dic2[\"홍길동\"])\n",
        "my_attr={\"이름\":\"홍길동\",\n",
        "         \"나이\":23,\n",
        "         \"키\": 186,\n",
        "         \"몸무게\":80}\n",
        "print(f'{my_attr[\"이름\"]} : {my_attr[\"키\"]}')"
      ],
      "metadata": {
        "colab": {
          "base_uri": "https://localhost:8080/"
        },
        "id": "HxXEapyq_cVp",
        "outputId": "2df7e848-cd42-4d79-c13f-7ac3425e48df"
      },
      "execution_count": null,
      "outputs": [
        {
          "output_type": "stream",
          "name": "stdout",
          "text": [
            "예외 발생\n",
            "==========================\n",
            "[90, 84, 88]\n",
            "홍길동 : 186\n"
          ]
        }
      ]
    },
    {
      "cell_type": "code",
      "source": [
        "from collections import defaultdict\n",
        "word_counts = defaultdict(int)\n",
        "try:\n",
        "  word_counts[0] += 1\n",
        "  print(\"나 살아있어요.\")\n",
        "except:\n",
        "  print(\"예외 발생\")"
      ],
      "metadata": {
        "colab": {
          "base_uri": "https://localhost:8080/"
        },
        "id": "js5ZPzY-BNS8",
        "outputId": "f4051af6-906b-40ee-8073-374322c6ea72"
      },
      "execution_count": null,
      "outputs": [
        {
          "output_type": "stream",
          "name": "stdout",
          "text": [
            "나 살아있어요.\n"
          ]
        }
      ]
    },
    {
      "cell_type": "code",
      "source": [
        "from collections import Counter\n",
        "c = Counter([1,2,2,3,4,2,1,3,2,3,0])\n",
        "print(c)"
      ],
      "metadata": {
        "colab": {
          "base_uri": "https://localhost:8080/"
        },
        "id": "Dpjbzxg9BP5s",
        "outputId": "2a8afd0e-88a3-4e05-874d-79ad39db78af"
      },
      "execution_count": null,
      "outputs": [
        {
          "output_type": "stream",
          "name": "stdout",
          "text": [
            "Counter({2: 4, 3: 3, 1: 2, 4: 1, 0: 1})\n"
          ]
        }
      ]
    },
    {
      "cell_type": "code",
      "source": [
        "s = set() #집합(내부적으로 이진 탐색 트리 구조와 유사하여 빠른 검색이 가능, 같은 값 보관 안 함.)\n",
        "s.add(1) #원소:1\n",
        "print(len(s))\n",
        "s.add(3) #원소:1,3\n",
        "print(len(s))\n",
        "s.add(3) #원소:1,3\n",
        "print(len(s))\n",
        "\n",
        "print(1 in s)\n",
        "print(2 in s)\n",
        "print(3 in s)"
      ],
      "metadata": {
        "colab": {
          "base_uri": "https://localhost:8080/"
        },
        "id": "VqITbMlBDnki",
        "outputId": "1d5f7cfa-cd0d-4c51-ab11-fb8f9ad71df4"
      },
      "execution_count": null,
      "outputs": [
        {
          "output_type": "stream",
          "name": "stdout",
          "text": [
            "1\n",
            "2\n",
            "2\n"
          ]
        }
      ]
    },
    {
      "cell_type": "code",
      "source": [
        "x=[5,10,6,7,3]\n",
        "sx = sorted(x)\n",
        "print(sx)\n",
        "print(x)"
      ],
      "metadata": {
        "colab": {
          "base_uri": "https://localhost:8080/"
        },
        "id": "d8hc9dzUHCDD",
        "outputId": "782d6a94-1dab-4316-b026-6334dfe45b63"
      },
      "execution_count": null,
      "outputs": [
        {
          "output_type": "stream",
          "name": "stdout",
          "text": [
            "[3, 5, 6, 7, 10]\n",
            "[5, 10, 6, 7, 3]\n"
          ]
        }
      ]
    },
    {
      "cell_type": "code",
      "source": [
        "zeros = [0 for i in range(10)]\n",
        "print(zeros)\n",
        "\n",
        "zeros2 = []\n",
        "for _ in range(10):\n",
        "  zeros2.append(0)\n",
        "print(zeros2)"
      ],
      "metadata": {
        "colab": {
          "base_uri": "https://localhost:8080/"
        },
        "id": "c9BHwC3FIEFh",
        "outputId": "01bc8578-6cb0-42d4-a213-6c1379ea022f"
      },
      "execution_count": null,
      "outputs": [
        {
          "output_type": "stream",
          "name": "stdout",
          "text": [
            "[0, 0, 0, 0, 0, 0, 0, 0, 0, 0]\n",
            "[0, 0, 0, 0, 0, 0, 0, 0, 0, 0]\n"
          ]
        }
      ]
    },
    {
      "cell_type": "code",
      "source": [
        "evens = [x for x in range(10) if x%2==0]\n",
        "print(evens)\n",
        "\n",
        "evens2 = []\n",
        "for x in range(10):\n",
        "  if x%2==0:\n",
        "    evens2.append(x)\n",
        "print(evens2)"
      ],
      "metadata": {
        "colab": {
          "base_uri": "https://localhost:8080/"
        },
        "id": "DsBjswtqIjQL",
        "outputId": "0c93458d-a241-46c3-bb6b-344341e621ff"
      },
      "execution_count": null,
      "outputs": [
        {
          "output_type": "stream",
          "name": "stdout",
          "text": [
            "[0, 2, 4, 6, 8]\n",
            "[0, 2, 4, 6, 8]\n"
          ]
        }
      ]
    },
    {
      "cell_type": "code",
      "source": [
        "def fibonacci(n):\n",
        "  if n<=0:\n",
        "    return 0\n",
        "  if n==1 or n==2:\n",
        "    return 1\n",
        "  return fibonacci(n-1) +fibonacci(n-2)\n",
        "#단위 테스트\n",
        "print(\"fibonacci(1):\", fibonacci(1))\n",
        "print(\"fibonacci(2):\", fibonacci(2))\n",
        "print(\"fibonacci(3):\", fibonacci(3))"
      ],
      "metadata": {
        "colab": {
          "base_uri": "https://localhost:8080/"
        },
        "id": "Lztw7bqbIvcL",
        "outputId": "36992d9a-4b7f-4a61-f7d2-54d82e01110a"
      },
      "execution_count": null,
      "outputs": [
        {
          "output_type": "stream",
          "name": "stdout",
          "text": [
            "fibonacci(1): 1\n",
            "fibonacci(1): 1\n",
            "fibonacci(1): 2\n"
          ]
        }
      ]
    },
    {
      "cell_type": "code",
      "source": [
        "import demo2"
      ],
      "metadata": {
        "colab": {
          "base_uri": "https://localhost:8080/"
        },
        "id": "ChnNS7AUJ4nD",
        "outputId": "463b6ea3-600a-431b-a185-9a96b76b3e21"
      },
      "execution_count": null,
      "outputs": [
        {
          "output_type": "stream",
          "name": "stdout",
          "text": [
            "fibonacci(1): 1\n",
            "fibonacci(2): 1\n",
            "fibonacci(3): 2\n"
          ]
        }
      ]
    },
    {
      "cell_type": "code",
      "source": [
        "def fibonacci2(n):\n",
        "  if n<=0:\n",
        "    return 0\n",
        "  if n==1 or n==2:\n",
        "    return 1\n",
        "  return fibonacci2(n-1) +fibonacci2(n-2)\n",
        "#단위 테스트\n",
        "assert fibonacci2(1) == 1, \"오류\"\n",
        "assert fibonacci2(2) == 1, \"오류\"\n",
        "assert fibonacci2(3) == 2, \"오류\"\n",
        "assert fibonacci2(4) == 3, \"오류\"\n",
        "assert fibonacci2(5) == 4, \"오류\"\n"
      ],
      "metadata": {
        "colab": {
          "base_uri": "https://localhost:8080/",
          "height": 213
        },
        "id": "5ucPBv3aKOSj",
        "outputId": "fcd2c5f4-23b0-4c11-c3d8-4bb44952a673"
      },
      "execution_count": null,
      "outputs": [
        {
          "output_type": "error",
          "ename": "AssertionError",
          "evalue": "ignored",
          "traceback": [
            "\u001b[0;31m---------------------------------------------------------------------------\u001b[0m",
            "\u001b[0;31mAssertionError\u001b[0m                            Traceback (most recent call last)",
            "\u001b[0;32m<ipython-input-90-d1507cf5941d>\u001b[0m in \u001b[0;36m<module>\u001b[0;34m()\u001b[0m\n\u001b[1;32m     10\u001b[0m \u001b[0;32massert\u001b[0m \u001b[0mfibonacci2\u001b[0m\u001b[0;34m(\u001b[0m\u001b[0;36m3\u001b[0m\u001b[0;34m)\u001b[0m \u001b[0;34m==\u001b[0m \u001b[0;36m2\u001b[0m\u001b[0;34m,\u001b[0m \u001b[0;34m\"오류\"\u001b[0m\u001b[0;34m\u001b[0m\u001b[0;34m\u001b[0m\u001b[0m\n\u001b[1;32m     11\u001b[0m \u001b[0;32massert\u001b[0m \u001b[0mfibonacci2\u001b[0m\u001b[0;34m(\u001b[0m\u001b[0;36m4\u001b[0m\u001b[0;34m)\u001b[0m \u001b[0;34m==\u001b[0m \u001b[0;36m3\u001b[0m\u001b[0;34m,\u001b[0m \u001b[0;34m\"오류\"\u001b[0m\u001b[0;34m\u001b[0m\u001b[0;34m\u001b[0m\u001b[0m\n\u001b[0;32m---> 12\u001b[0;31m \u001b[0;32massert\u001b[0m \u001b[0mfibonacci2\u001b[0m\u001b[0;34m(\u001b[0m\u001b[0;36m5\u001b[0m\u001b[0;34m)\u001b[0m \u001b[0;34m==\u001b[0m \u001b[0;36m4\u001b[0m\u001b[0;34m,\u001b[0m \u001b[0;34m\"오류\"\u001b[0m\u001b[0;34m\u001b[0m\u001b[0;34m\u001b[0m\u001b[0m\n\u001b[0m",
            "\u001b[0;31mAssertionError\u001b[0m: 오류"
          ]
        }
      ]
    },
    {
      "cell_type": "code",
      "source": [
        "def mygen(ls):\n",
        "  cnt = 0\n",
        "  for item in ls:\n",
        "    yield cnt, item\n",
        "    cnt += 1"
      ],
      "metadata": {
        "id": "k-QrwhoqKz3j"
      },
      "execution_count": null,
      "outputs": []
    },
    {
      "cell_type": "code",
      "source": [
        "for i, e in mygen(['a', 'b', 'c']):\n",
        "  print(i,e)"
      ],
      "metadata": {
        "colab": {
          "base_uri": "https://localhost:8080/"
        },
        "id": "BGfCOgvLLCaB",
        "outputId": "a665e3d2-66ff-4811-ac66-9d370c0912c5"
      },
      "execution_count": null,
      "outputs": [
        {
          "output_type": "stream",
          "name": "stdout",
          "text": [
            "0 a\n",
            "1 b\n",
            "2 c\n"
          ]
        }
      ]
    },
    {
      "cell_type": "code",
      "source": [
        "for i, e in enumerate(['a', 'b', 'c']):\n",
        "  print(i,e)"
      ],
      "metadata": {
        "colab": {
          "base_uri": "https://localhost:8080/"
        },
        "id": "Sfvur6wrLTKB",
        "outputId": "de1609bd-4c8f-4f94-8aac-8d46cbcc07ce"
      },
      "execution_count": null,
      "outputs": [
        {
          "output_type": "stream",
          "name": "stdout",
          "text": [
            "0 a\n",
            "1 b\n",
            "2 c\n"
          ]
        }
      ]
    },
    {
      "cell_type": "markdown",
      "source": [
        "aaabbbccccc\n",
        "\n",
        "aaabbbcc\n",
        "\n",
        "abc\n",
        "\n",
        "aaaaabbbbbbbbcccc\n",
        "\n",
        "\n",
        "a+b+c+"
      ],
      "metadata": {
        "id": "EcCu28ZPMe68"
      }
    },
    {
      "cell_type": "code",
      "source": [
        "ls1=[1,2,3,4,5]\n",
        "ls2=['a','b','c','d','e']\n",
        "for e1, e2 in zip(ls1, ls2): #zip은 실행 속도가 느린 함수\n",
        "  print(e1,e2)\n",
        "print(\"=================\")\n",
        "for i, e in enumerate(ls1):\n",
        "  print(e,ls2[i])"
      ],
      "metadata": {
        "colab": {
          "base_uri": "https://localhost:8080/"
        },
        "id": "z1ls1x7eM6Bd",
        "outputId": "7a62853b-9bbc-4e97-9b2e-7f36dfedbbd7"
      },
      "execution_count": null,
      "outputs": [
        {
          "output_type": "stream",
          "name": "stdout",
          "text": [
            "1 a\n",
            "2 b\n",
            "3 c\n",
            "4 d\n",
            "5 e\n",
            "=================\n",
            "1 a\n",
            "2 b\n",
            "3 c\n",
            "4 d\n",
            "5 e\n"
          ]
        }
      ]
    },
    {
      "cell_type": "code",
      "source": [
        "def add(a:int, b:int)->int:\n",
        "  return a+b"
      ],
      "metadata": {
        "id": "sKdITMgyNjr5"
      },
      "execution_count": null,
      "outputs": []
    },
    {
      "cell_type": "code",
      "source": [
        "add(2,3)"
      ],
      "metadata": {
        "colab": {
          "base_uri": "https://localhost:8080/"
        },
        "id": "GFH1QKFgNpLa",
        "outputId": "8c29ba4e-263a-492e-c31a-763aaacc0592"
      },
      "execution_count": null,
      "outputs": [
        {
          "output_type": "execute_result",
          "data": {
            "text/plain": [
              "5"
            ]
          },
          "metadata": {},
          "execution_count": 100
        }
      ]
    },
    {
      "cell_type": "code",
      "source": [
        "def foo(a):\n",
        "  \"\"\"\n",
        "  전달받은 값을 10으로 나누었을 때 몫을 반환하는 함수\n",
        "  \"\"\"\n",
        "  return a//10"
      ],
      "metadata": {
        "id": "-gxzrOPhVBMP"
      },
      "execution_count": null,
      "outputs": []
    },
    {
      "cell_type": "code",
      "source": [
        "src=[18, 23, 54, 67, 99]\n",
        "dst1 = [foo(n) for n in src]\n",
        "print(dst1)"
      ],
      "metadata": {
        "colab": {
          "base_uri": "https://localhost:8080/"
        },
        "id": "6Wp_nn8wVHXv",
        "outputId": "f3f912be-64b6-4251-cda8-1444c9d2dec7"
      },
      "execution_count": null,
      "outputs": [
        {
          "output_type": "stream",
          "name": "stdout",
          "text": [
            "[1, 2, 5, 6, 9]\n"
          ]
        }
      ]
    },
    {
      "cell_type": "code",
      "source": [
        "mo = map(foo,src)\n",
        "ls = list(mo)\n",
        "print(ls)"
      ],
      "metadata": {
        "colab": {
          "base_uri": "https://localhost:8080/"
        },
        "id": "q0qV6z1qVsPq",
        "outputId": "8446c14a-575a-4c6b-c72f-d2920edf4e61"
      },
      "execution_count": null,
      "outputs": [
        {
          "output_type": "stream",
          "name": "stdout",
          "text": [
            "[1, 2, 5, 6, 9]\n"
          ]
        }
      ]
    },
    {
      "cell_type": "code",
      "source": [
        "ls = list(map(foo, src))\n",
        "print(ls)"
      ],
      "metadata": {
        "colab": {
          "base_uri": "https://localhost:8080/"
        },
        "id": "LncIue5NVsH7",
        "outputId": "fd822f54-1a4c-4d57-cc22-d31a7e720c2a"
      },
      "execution_count": null,
      "outputs": [
        {
          "output_type": "stream",
          "name": "stdout",
          "text": [
            "[1, 2, 5, 6, 9]\n"
          ]
        }
      ]
    },
    {
      "cell_type": "markdown",
      "source": [
        "#통계\n",
        "평균, 중간값, 사분위값, 최빈값, 분산, 표준편차, 공분산, 상관관계"
      ],
      "metadata": {
        "id": "1znMj1nrs4VY"
      }
    },
    {
      "cell_type": "code",
      "source": [
        "import numpy as np\n",
        "#친구의 수\n",
        "num_friends = np.array([100.0,49,41,40,25,21,21,19,19,18,18,16,15,15,15,15,14,14,13,13,13,13,12,12,11,10,10,10,10,10,10,10,10,10,10,10,10,10,10,10,9,9,9,9,9,9,9,9,9,9,9,9,9,9,9,9,9,9,8,8,8,8,8,8,8,8,8,8,8,8,8,7,7,7,7,7,7,7,7,7,7,7,7,7,7,7,6,6,6,6,6,6,6,6,6,6,6,6,6,6,6,6,6,6,6,6,6,6,5,5,5,5,5,5,5,5,5,5,5,5,5,5,5,5,5,4,4,4,4,4,4,4,4,4,4,4,4,4,4,4,4,4,4,4,4,3,3,3,3,3,3,3,3,3,3,3,3,3,3,3,3,3,3,3,3,2,2,2,2,2,2,2,2,2,2,2,2,2,2,2,2,2,1,1,1,1,1,1,1,1,1,1,1,1,1,1,1,1,1,1,1,1,1,1])\n",
        "#웹서핑 소요 시간(분)\n",
        "daily_minutes = np.array([1,68.77,51.25,52.08,38.36,44.54,57.13,51.4,41.42,31.22,34.76,54.01,38.79,47.59,49.1,27.66,41.03,36.73,48.65,28.12,46.62,35.57,32.98,35,26.07,23.77,39.73,40.57,31.65,31.21,36.32,20.45,21.93,26.02,27.34,23.49,46.94,30.5,33.8,24.23,21.4,27.94,32.24,40.57,25.07,19.42,22.39,18.42,46.96,23.72,26.41,26.97,36.76,40.32,35.02,29.47,30.2,31,38.11,38.18,36.31,21.03,30.86,36.07,28.66,29.08,37.28,15.28,24.17,22.31,30.17,25.53,19.85,35.37,44.6,17.23,13.47,26.33,35.02,32.09,24.81,19.33,28.77,24.26,31.98,25.73,24.86,16.28,34.51,15.23,39.72,40.8,26.06,35.76,34.76,16.13,44.04,18.03,19.65,32.62,35.59,39.43,14.18,35.24,40.13,41.82,35.45,36.07,43.67,24.61,20.9,21.9,18.79,27.61,27.21,26.61,29.77,20.59,27.53,13.82,33.2,25,33.1,36.65,18.63,14.87,22.2,36.81,25.53,24.62,26.25,18.21,28.08,19.42,29.79,32.8,35.99,28.32,27.79,35.88,29.06,36.28,14.1,36.63,37.49,26.9,18.58,38.48,24.48,18.95,33.55,14.24,29.04,32.51,25.63,22.22,19,32.73,15.16,13.9,27.2,32.01,29.27,33,13.74,20.42,27.32,18.23,35.35,28.48,9.08,24.62,20.12,35.26,19.92,31.02,16.49,12.16,30.7,31.22,34.65,13.13,27.51,33.2,31.57,14.1,33.42,17.44,10.12,24.42,9.82,23.39,30.93,15.03,21.67,31.09,33.29,22.61,26.89,23.48,8.38,27.81,32.35,23.84])\n"
      ],
      "metadata": {
        "id": "NZUE4tuKOnqW"
      },
      "execution_count": null,
      "outputs": []
    },
    {
      "cell_type": "code",
      "source": [
        "import matplotlib.pyplot as plt"
      ],
      "metadata": {
        "id": "LwutEmius_UY"
      },
      "execution_count": null,
      "outputs": []
    },
    {
      "cell_type": "code",
      "source": [
        "plt.plot(num_friends, \"bo\")\n",
        "plt.xlabel(\"index\")\n",
        "plt.ylabel(\"num of friends\")\n",
        "plt.title(\"number of friends\")\n",
        "plt.show()"
      ],
      "metadata": {
        "colab": {
          "base_uri": "https://localhost:8080/",
          "height": 295
        },
        "id": "lwGFuVqtQX31",
        "outputId": "d9b2d6eb-26e6-4c0a-f685-0db07c294002"
      },
      "execution_count": null,
      "outputs": [
        {
          "output_type": "display_data",
          "data": {
            "image/png": "[encoded data removed]",
            "text/plain": [
              "<Figure size 432x288 with 1 Axes>"
            ]
          },
          "metadata": {
            "needs_background": "light"
          }
        }
      ]
    },
    {
      "cell_type": "code",
      "source": [
        "plt.plot(daily_minutes, \"ro\")\n",
        "plt.xlabel(\"index\")\n",
        "plt.ylabel(\"num of web\")\n",
        "plt.title(\"minuetes of web\")\n",
        "plt.show()"
      ],
      "metadata": {
        "colab": {
          "base_uri": "https://localhost:8080/",
          "height": 295
        },
        "id": "wfPKxUH3Qe2j",
        "outputId": "c39c44d6-c08e-478e-f5aa-3768cc8b01a3"
      },
      "execution_count": null,
      "outputs": [
        {
          "output_type": "display_data",
          "data": {
            "image/png": "[encoded data removed]",
            "text/plain": [
              "<Figure size 432x288 with 1 Axes>"
            ]
          },
          "metadata": {
            "needs_background": "light"
          }
        }
      ]
    },
    {
      "cell_type": "code",
      "source": [
        "plt.plot(num_friends, \"bo\")\n",
        "plt.xlabel(\"index\")\n",
        "plt.ylabel(\"num of friends and min of web\")\n",
        "plt.plot(daily_minutes, \"ro\")\n",
        "plt.title(\"number of friends and minutes of web\")\n",
        "plt.show()"
      ],
      "metadata": {
        "colab": {
          "base_uri": "https://localhost:8080/",
          "height": 295
        },
        "id": "ygHzSXKXRE06",
        "outputId": "b2e624ff-6300-44ff-9844-0e2509f8eaa5"
      },
      "execution_count": null,
      "outputs": [
        {
          "output_type": "display_data",
          "data": {
            "image/png": "[encoded data removed]",
            "text/plain": [
              "<Figure size 432x288 with 1 Axes>"
            ]
          },
          "metadata": {
            "needs_background": "light"
          }
        }
      ]
    },
    {
      "cell_type": "code",
      "source": [
        "import pandas as pd"
      ],
      "metadata": {
        "id": "lbYNfGLBWg5g"
      },
      "execution_count": null,
      "outputs": []
    },
    {
      "cell_type": "code",
      "source": [
        "friends_se = pd.Series(num_friends)\n",
        "fvc = friends_se.value_counts()\n",
        "plt.bar(fvc.index,fvc.values)\n",
        "plt.show()"
      ],
      "metadata": {
        "id": "NY4KHzy8W4J5",
        "colab": {
          "base_uri": "https://localhost:8080/",
          "height": 265
        },
        "outputId": "c23b796d-a73d-4c38-ab54-1aca99e90dde"
      },
      "execution_count": 19,
      "outputs": [
        {
          "output_type": "display_data",
          "data": {
            "image/png": "[encoded data removed]",
            "text/plain": [
              "<Figure size 432x288 with 1 Axes>"
            ]
          },
          "metadata": {
            "needs_background": "light"
          }
        }
      ]
    },
    {
      "cell_type": "code",
      "source": [
        "friends_se = pd.Series(num_friends)\n",
        "fvc = friends_se.value_counts()\n",
        "fvc_ind_str = [str(int(fc)) for fc in fvc.index]\n",
        "plt.bar(fvc_ind_str, fvc.values)\n",
        "plt.grid(True)\n",
        "plt.show()"
      ],
      "metadata": {
        "colab": {
          "base_uri": "https://localhost:8080/",
          "height": 265
        },
        "id": "TLgRh3O3V9le",
        "outputId": "0fc46015-4af0-461a-b278-1a388728ffec"
      },
      "execution_count": null,
      "outputs": [
        {
          "output_type": "display_data",
          "data": {
            "image/png": "[encoded data removed]",
            "text/plain": [
              "<Figure size 432x288 with 1 Axes>"
            ]
          },
          "metadata": {
            "needs_background": "light"
          }
        }
      ]
    },
    {
      "cell_type": "code",
      "source": [
        "print(\"================ 친구 수 ===============\")\n",
        "print(\"평균 : \", num_friends.mean())\n",
        "print(\"중간값 : \", np.median(num_friends))\n",
        "print(\"분산 : \", num_friends.std())\n",
        "print(\"표준 편차 : \", num_friends.std())\n",
        "print(\"1/4분위 \", np.quantile(num_friends, 0.25))\n",
        "print(\"1/2분위 \", np.quantile(num_friends, 0.5))\n",
        "print(\"3/4분위 \", np.quantile(num_friends, 0.75))\n",
        "\n",
        "from scipy.stats import mode\n",
        "mf = mode(num_friends)\n",
        "print(f\"최빈값 : {mf[0]} 빈도수 : {mf[1]}\")"
      ],
      "metadata": {
        "colab": {
          "base_uri": "https://localhost:8080/"
        },
        "id": "nKFUZOyAXF1H",
        "outputId": "c76c746b-897c-4fa6-e062-28b8d21674af"
      },
      "execution_count": null,
      "outputs": [
        {
          "output_type": "stream",
          "name": "stdout",
          "text": [
            "================ 친구 수 ===============\n",
            "평균 :  7.333333333333333\n",
            "중간값 :  6.0\n",
            "분산 :  9.007984838446012\n",
            "표준 편차 :  9.007984838446012\n",
            "1/4분위  3.0\n",
            "1/2분위  6.0\n",
            "3/4분위  9.0\n",
            "최빈값 : [1.] 빈도수 : [22]\n"
          ]
        }
      ]
    },
    {
      "cell_type": "markdown",
      "source": [
        "![공분산.png](data:image/png;base64,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)"
      ],
      "metadata": {
        "id": "FTXQmyKbY42u"
      }
    },
    {
      "cell_type": "code",
      "source": [
        "def cov(x,y):\n",
        "  dx = x-x.mean()\n",
        "  dy = y-y.mean()\n",
        "  return np.dot(dx,dy)/(len(x)-1)"
      ],
      "metadata": {
        "id": "LYQADvuAYyuF"
      },
      "execution_count": null,
      "outputs": []
    },
    {
      "cell_type": "code",
      "source": [
        "print(\"공분산(친구수, 웹서핑시간(분) : \", cov(num_friends, daily_minutes))"
      ],
      "metadata": {
        "colab": {
          "base_uri": "https://localhost:8080/"
        },
        "id": "jG4ACtWjZFvn",
        "outputId": "68fae151-d85c-4675-f5f8-827605cb6365"
      },
      "execution_count": null,
      "outputs": [
        {
          "output_type": "stream",
          "name": "stdout",
          "text": [
            "공분산(친구수, 웹서핑시간(분) :  22.425435139573057\n"
          ]
        }
      ]
    },
    {
      "cell_type": "code",
      "source": [
        "np.cov(num_friends, daily_minutes)"
      ],
      "metadata": {
        "colab": {
          "base_uri": "https://localhost:8080/"
        },
        "id": "nmHxrDkUZLrl",
        "outputId": "e3b73a8a-b8b5-4239-b739-541c1a6b2de0"
      },
      "execution_count": null,
      "outputs": [
        {
          "output_type": "execute_result",
          "data": {
            "text/plain": [
              "array([[ 81.54351396,  22.42543514],\n",
              "       [ 22.42543514, 100.78589895]])"
            ]
          },
          "metadata": {},
          "execution_count": 11
        }
      ]
    },
    {
      "cell_type": "code",
      "source": [
        "print(\"0 : \", cov(num_friends, num_friends))\n",
        "print(\"1: \", cov(num_friends, daily_minutes))\n",
        "print(\"2 : \", cov(daily_minutes, num_friends))\n",
        "print(\"3 : \", cov(daily_minutes, daily_minutes))"
      ],
      "metadata": {
        "colab": {
          "base_uri": "https://localhost:8080/"
        },
        "id": "5_ks7BCuZa9K",
        "outputId": "6f7d15a1-dd14-44d3-ddd2-ff24d814d43f"
      },
      "execution_count": null,
      "outputs": [
        {
          "output_type": "stream",
          "name": "stdout",
          "text": [
            "0 :  81.54351395730706\n",
            "1:  22.425435139573057\n",
            "2 :  22.425435139573057\n",
            "3 :  100.78589895440932\n"
          ]
        }
      ]
    },
    {
      "cell_type": "markdown",
      "source": [
        "![공분산2.png](data:image/png;base64,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)"
      ],
      "metadata": {
        "id": "XuaKmhbuaNxI"
      }
    },
    {
      "cell_type": "code",
      "source": [
        "def correlation(x,y):\n",
        "  std_x = x.std()\n",
        "  std_y = y.std()\n",
        "  if std_x>0 and std_y>0:\n",
        "    return cov(x,y)/std_x/std_y\n",
        "  else:\n",
        "    return 0"
      ],
      "metadata": {
        "id": "WRiX86jbaGqn"
      },
      "execution_count": null,
      "outputs": []
    },
    {
      "cell_type": "code",
      "source": [
        "print(\"친구 수와 웹서핑시간(분)의 상관관계 : \", correlation(num_friends, daily_minutes))"
      ],
      "metadata": {
        "colab": {
          "base_uri": "https://localhost:8080/"
        },
        "id": "-B6EI_RUabsS",
        "outputId": "55bbdc3f-7b40-4625-fb9e-479a351c68c8"
      },
      "execution_count": null,
      "outputs": [
        {
          "output_type": "stream",
          "name": "stdout",
          "text": [
            "친구 수와 웹서핑시간(분)의 상관관계 :  0.24858814299318005\n"
          ]
        }
      ]
    },
    {
      "cell_type": "code",
      "source": [
        "cv = correlation(num_friends, daily_minutes)\n",
        "plt.figure(figsize=(4,4))\n",
        "plt.plot(num_friends, daily_minutes, \".\")\n",
        "plt.plot([0,100],[0,100*cv])\n",
        "plt.xlabel(\"num of friends\")\n",
        "plt.ylabel(\"min of web\")\n",
        "plt.xlim(0,110)\n",
        "plt.ylim(0,110)\n",
        "plt.show()"
      ],
      "metadata": {
        "colab": {
          "base_uri": "https://localhost:8080/",
          "height": 279
        },
        "id": "rmZ60ePFcGZS",
        "outputId": "47c3afbb-eaf6-4ffa-e5cb-f6e963866532"
      },
      "execution_count": null,
      "outputs": [
        {
          "output_type": "display_data",
          "data": {
            "image/png": "[encoded data removed]",
            "text/plain": [
              "<Figure size 288x288 with 1 Axes>"
            ]
          },
          "metadata": {
            "needs_background": "light"
          }
        }
      ]
    },
    {
      "cell_type": "code",
      "source": [
        "num_friends2 = num_friends[1:]\n",
        "daily_minutes2 = daily_minutes[1:]"
      ],
      "metadata": {
        "id": "C46CgJy9dL-A"
      },
      "execution_count": null,
      "outputs": []
    },
    {
      "cell_type": "code",
      "source": [
        "cv2 = correlation(num_friends2, daily_minutes2)\n",
        "plt.figure(figsize=(4,4))\n",
        "plt.plot(num_friends2, daily_minutes2, \".\", label=\"num_fr, daily_min\")\n",
        "plt.plot([0,100],[0,100*cv2], label = 'corr')\n",
        "plt.xlabel(\"num of friends\")\n",
        "plt.ylabel(\"min of web\")\n",
        "plt.xlim(0,110)\n",
        "plt.ylim(0,110)\n",
        "plt.legend()\n",
        "plt.show()\n",
        "print(cv2)"
      ],
      "metadata": {
        "colab": {
          "base_uri": "https://localhost:8080/",
          "height": 297
        },
        "id": "U093ZXpGdWsn",
        "outputId": "3f76348c-5044-4f11-a417-d88b06e198b9"
      },
      "execution_count": null,
      "outputs": [
        {
          "output_type": "display_data",
          "data": {
            "image/png": "[encoded data removed]",
            "text/plain": [
              "<Figure size 288x288 with 1 Axes>"
            ]
          },
          "metadata": {
            "needs_background": "light"
          }
        },
        {
          "output_type": "stream",
          "name": "stdout",
          "text": [
            "0.5765192076634241\n"
          ]
        }
      ]
    },
    {
      "cell_type": "code",
      "source": [
        "plt.figure(figsize=(4,4))\n",
        "plt.plot(num_friends, daily_minutes, \"ro\", label=\"oringinal\")\n",
        "plt.plot(num_friends2, daily_minutes2, \"b.\", label=\"filtering\")\n",
        "plt.plot([0,100],[0,100*cv],\"r-\", label = 'original corr')\n",
        "plt.plot([0,100],[0,100*cv2],\"b-\", label = 'filtering corr')\n",
        "plt.xlabel(\"num of friends\")\n",
        "plt.ylabel(\"min of web\")\n",
        "plt.xlim(0,110)\n",
        "plt.ylim(0,110)\n",
        "plt.legend()\n",
        "plt.show()\n",
        "print(cv2)"
      ],
      "metadata": {
        "colab": {
          "base_uri": "https://localhost:8080/",
          "height": 297
        },
        "id": "mUXAU9cmwUXE",
        "outputId": "19b169ec-8f81-4e9b-de01-9a1ac4185517"
      },
      "execution_count": null,
      "outputs": [
        {
          "output_type": "display_data",
          "data": {
            "image/png": "[encoded data removed]",
            "text/plain": [
              "<Figure size 288x288 with 1 Axes>"
            ]
          },
          "metadata": {
            "needs_background": "light"
          }
        },
        {
          "output_type": "stream",
          "name": "stdout",
          "text": [
            "0.5765192076634241\n"
          ]
        }
      ]
    },
    {
      "cell_type": "code",
      "source": [
        ""
      ],
      "metadata": {
        "id": "t3EzVlDp17jO"
      },
      "execution_count": null,
      "outputs": []
    }
  ]
}