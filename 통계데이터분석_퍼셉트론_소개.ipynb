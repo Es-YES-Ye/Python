{
  "nbformat": 4,
  "nbformat_minor": 0,
  "metadata": {
    "colab": {
      "name": "통계데이터분석-퍼셉트론 소개.ipynb",
      "provenance": [],
      "authorship_tag": "ABX9TyN6zDnaV0Lr6ixd6M4L/kGp",
      "include_colab_link": true
    },
    "kernelspec": {
      "name": "python3",
      "display_name": "Python 3"
    },
    "language_info": {
      "name": "python"
    }
  },
  "cells": [
    {
      "cell_type": "markdown",
      "metadata": {
        "id": "view-in-github",
        "colab_type": "text"
      },
      "source": [
        "<a href=\"https://colab.research.google.com/github/Es-YES-Ye/Python/blob/main/%ED%86%B5%EA%B3%84%EB%8D%B0%EC%9D%B4%ED%84%B0%EB%B6%84%EC%84%9D_%ED%8D%BC%EC%85%89%ED%8A%B8%EB%A1%A0_%EC%86%8C%EA%B0%9C.ipynb\" target=\"_parent\"><img src=\"https://colab.research.google.com/assets/colab-badge.svg\" alt=\"Open In Colab\"/></a>"
      ]
    },
    {
      "cell_type": "markdown",
      "source": [
        "![가중치.png.jpg](data:image/jpeg;base64,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)"
      ],
      "metadata": {
        "id": "4nB7eCUhahVo"
      }
    },
    {
      "cell_type": "markdown",
      "source": [
        "단층 퍼셉트론으로 두 개의 입력으로 구성한 or, and , xor 논리 회로의 결과를 판별하는 코드를 작성해보자"
      ],
      "metadata": {
        "id": "c9yf9kKZaYy8"
      }
    },
    {
      "cell_type": "code",
      "execution_count": 1,
      "metadata": {
        "id": "TpQMNITbaYCc"
      },
      "outputs": [],
      "source": [
        "#[[x1,x2,y],[x1,x2,y],...]\n",
        "#0:False, 1:True\n",
        "ds_or = [[0,0,0],[0,1,1],[1,0,1],[1,1,1]]\n",
        "ds_and = [[0,0,0],[0,1,0],[1,0,0],[1,1,1]]\n",
        "ds_xor = [[0,0,0],[0,1,1],[1,0,1],[1,1,0]]"
      ]
    },
    {
      "cell_type": "code",
      "source": [
        "#구해야 하는 값은 x1의 가중치 w1, x2의 가중치 w2, 그 외에 y에 영향을 주는 것 b(편향, 임계치)\n",
        "s1, s2, b = 0,0,0\n",
        "def setwb(wt1,wt2,bt) : #w1, w2, b를 원하는 값으로 설정하는 함수(원하는 값은 테스트 값)\n",
        "  global w1,w2,b\n",
        "  w1,w2,b = wt1, wt2, bt"
      ],
      "metadata": {
        "id": "vqJtZFsmbSEI"
      },
      "execution_count": 2,
      "outputs": []
    },
    {
      "cell_type": "code",
      "source": [
        "def discriminate(x1,x2): #판별식\n",
        "  if (w1*x1 + w2*x2 + b<=0): #판별식보다 같거나 아래쪽이면 거짓\n",
        "    return 0\n",
        "  else: #판별식보다 크면 참\n",
        "    return 1"
      ],
      "metadata": {
        "id": "0O4d0-uucRdX"
      },
      "execution_count": 3,
      "outputs": []
    },
    {
      "cell_type": "code",
      "source": [
        "def test(ds, wt1, wt2, bt): #ds에 있는 데이터를 wt1, wt2, bt를 적용했을 때 성적을 테스트하는 함수\n",
        "  setwb(wt1, wt2, bt) #테스트할 wt1,wt2,bt로 설정\n",
        "  ok, total = 0,0 #맞춘 개수와 전체 데이터 개수를 기억할 변수를 0으로 초기화\n",
        "  for x1, x2, y in ds:\n",
        "    if discriminate(x1,x2) == y:\n",
        "      ok+=1\n",
        "    total+=1\n",
        "  return ok/total #스코어를 반환"
      ],
      "metadata": {
        "id": "dbRvFVqIcpdA"
      },
      "execution_count": 8,
      "outputs": []
    },
    {
      "cell_type": "code",
      "source": [
        "def myr(s,e,st): #range와 같은 목적의 함수, step이 실수\n",
        "  r = s\n",
        "  while(r<e):\n",
        "    yield r #myr 함수를 for문의 in 뒤에 표현했을 때 for와 in 사이의 변수가 갖는 값\n",
        "    r+=st"
      ],
      "metadata": {
        "id": "DCeXI_2Bdhdm"
      },
      "execution_count": 4,
      "outputs": []
    },
    {
      "cell_type": "code",
      "source": [
        "def find_wb(ds): #기계 학습 함수\n",
        "  for wt1 in myr(0,1,0.1):\n",
        "    for wt2 in myr(0,1,0.1):\n",
        "      for bt in myr(-1,1,0.1):\n",
        "        if test(ds,wt1,wt2,bt)==1.0: #모든 테스트를 했을 때 성적이 100점일 때\n",
        "          return True #성공\n",
        "  return False #실패 (실제 Deep Learning에서는 가장 높은 점수를 받은 가중치와 편향으로 결정)"
      ],
      "metadata": {
        "id": "wlbspgvUdsoJ"
      },
      "execution_count": 5,
      "outputs": []
    },
    {
      "cell_type": "code",
      "source": [
        "print(find_wb(ds_or))\n",
        "print(f'w1:{w1} w2:{w2} b:{b}')\n",
        "print(find_wb(ds_and))\n",
        "print(f'w1:{w1} w2:{w2} b:{b}')\n",
        "print(find_wb(ds_xor))"
      ],
      "metadata": {
        "colab": {
          "base_uri": "https://localhost:8080/"
        },
        "id": "7lMNe23fe4g9",
        "outputId": "a41973a3-cd24-4c27-80e2-fd55468d1911"
      },
      "execution_count": 10,
      "outputs": [
        {
          "output_type": "stream",
          "name": "stdout",
          "text": [
            "True\n",
            "w1:0.1 w2:0.1 b:-1.3877787807814457e-16\n",
            "True\n",
            "w1:0.1 w2:0.1 b:-0.10000000000000014\n",
            "False\n"
          ]
        }
      ]
    }
  ]
}