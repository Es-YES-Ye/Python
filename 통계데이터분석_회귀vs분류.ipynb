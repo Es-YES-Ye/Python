{
  "nbformat": 4,
  "nbformat_minor": 0,
  "metadata": {
    "colab": {
      "name": "통계데이터분석-회귀vs분류.ipynb",
      "provenance": [],
      "authorship_tag": "ABX9TyPz+QJMufN7+sw1/e7A+I5M",
      "include_colab_link": true
    },
    "kernelspec": {
      "name": "python3",
      "display_name": "Python 3"
    },
    "language_info": {
      "name": "python"
    }
  },
  "cells": [
    {
      "cell_type": "markdown",
      "metadata": {
        "id": "view-in-github",
        "colab_type": "text"
      },
      "source": [
        "<a href=\"https://colab.research.google.com/github/Es-YES-Ye/Python/blob/main/%ED%86%B5%EA%B3%84%EB%8D%B0%EC%9D%B4%ED%84%B0%EB%B6%84%EC%84%9D_%ED%9A%8C%EA%B7%80vs%EB%B6%84%EB%A5%98.ipynb\" target=\"_parent\"><img src=\"https://colab.research.google.com/assets/colab-badge.svg\" alt=\"Open In Colab\"/></a>"
      ]
    },
    {
      "cell_type": "markdown",
      "source": [
        "KNN 분류에 사용할 데이터 - 붓꽃 데이터"
      ],
      "metadata": {
        "id": "FkWZkWvvmzfM"
      }
    },
    {
      "cell_type": "code",
      "execution_count": 2,
      "metadata": {
        "colab": {
          "base_uri": "https://localhost:8080/"
        },
        "id": "48OiEbl0k5e-",
        "outputId": "ab1e50d8-f649-439a-b214-8d10dbda14cf"
      },
      "outputs": [
        {
          "output_type": "stream",
          "name": "stdout",
          "text": [
            "{'data': array([[5.1, 3.5, 1.4, 0.2],\n",
            "       [4.9, 3. , 1.4, 0.2],\n",
            "       [4.7, 3.2, 1.3, 0.2],\n",
            "       [4.6, 3.1, 1.5, 0.2],\n",
            "       [5. , 3.6, 1.4, 0.2],\n",
            "       [5.4, 3.9, 1.7, 0.4],\n",
            "       [4.6, 3.4, 1.4, 0.3],\n",
            "       [5. , 3.4, 1.5, 0.2],\n",
            "       [4.4, 2.9, 1.4, 0.2],\n",
            "       [4.9, 3.1, 1.5, 0.1],\n",
            "       [5.4, 3.7, 1.5, 0.2],\n",
            "       [4.8, 3.4, 1.6, 0.2],\n",
            "       [4.8, 3. , 1.4, 0.1],\n",
            "       [4.3, 3. , 1.1, 0.1],\n",
            "       [5.8, 4. , 1.2, 0.2],\n",
            "       [5.7, 4.4, 1.5, 0.4],\n",
            "       [5.4, 3.9, 1.3, 0.4],\n",
            "       [5.1, 3.5, 1.4, 0.3],\n",
            "       [5.7, 3.8, 1.7, 0.3],\n",
            "       [5.1, 3.8, 1.5, 0.3],\n",
            "       [5.4, 3.4, 1.7, 0.2],\n",
            "       [5.1, 3.7, 1.5, 0.4],\n",
            "       [4.6, 3.6, 1. , 0.2],\n",
            "       [5.1, 3.3, 1.7, 0.5],\n",
            "       [4.8, 3.4, 1.9, 0.2],\n",
            "       [5. , 3. , 1.6, 0.2],\n",
            "       [5. , 3.4, 1.6, 0.4],\n",
            "       [5.2, 3.5, 1.5, 0.2],\n",
            "       [5.2, 3.4, 1.4, 0.2],\n",
            "       [4.7, 3.2, 1.6, 0.2],\n",
            "       [4.8, 3.1, 1.6, 0.2],\n",
            "       [5.4, 3.4, 1.5, 0.4],\n",
            "       [5.2, 4.1, 1.5, 0.1],\n",
            "       [5.5, 4.2, 1.4, 0.2],\n",
            "       [4.9, 3.1, 1.5, 0.2],\n",
            "       [5. , 3.2, 1.2, 0.2],\n",
            "       [5.5, 3.5, 1.3, 0.2],\n",
            "       [4.9, 3.6, 1.4, 0.1],\n",
            "       [4.4, 3. , 1.3, 0.2],\n",
            "       [5.1, 3.4, 1.5, 0.2],\n",
            "       [5. , 3.5, 1.3, 0.3],\n",
            "       [4.5, 2.3, 1.3, 0.3],\n",
            "       [4.4, 3.2, 1.3, 0.2],\n",
            "       [5. , 3.5, 1.6, 0.6],\n",
            "       [5.1, 3.8, 1.9, 0.4],\n",
            "       [4.8, 3. , 1.4, 0.3],\n",
            "       [5.1, 3.8, 1.6, 0.2],\n",
            "       [4.6, 3.2, 1.4, 0.2],\n",
            "       [5.3, 3.7, 1.5, 0.2],\n",
            "       [5. , 3.3, 1.4, 0.2],\n",
            "       [7. , 3.2, 4.7, 1.4],\n",
            "       [6.4, 3.2, 4.5, 1.5],\n",
            "       [6.9, 3.1, 4.9, 1.5],\n",
            "       [5.5, 2.3, 4. , 1.3],\n",
            "       [6.5, 2.8, 4.6, 1.5],\n",
            "       [5.7, 2.8, 4.5, 1.3],\n",
            "       [6.3, 3.3, 4.7, 1.6],\n",
            "       [4.9, 2.4, 3.3, 1. ],\n",
            "       [6.6, 2.9, 4.6, 1.3],\n",
            "       [5.2, 2.7, 3.9, 1.4],\n",
            "       [5. , 2. , 3.5, 1. ],\n",
            "       [5.9, 3. , 4.2, 1.5],\n",
            "       [6. , 2.2, 4. , 1. ],\n",
            "       [6.1, 2.9, 4.7, 1.4],\n",
            "       [5.6, 2.9, 3.6, 1.3],\n",
            "       [6.7, 3.1, 4.4, 1.4],\n",
            "       [5.6, 3. , 4.5, 1.5],\n",
            "       [5.8, 2.7, 4.1, 1. ],\n",
            "       [6.2, 2.2, 4.5, 1.5],\n",
            "       [5.6, 2.5, 3.9, 1.1],\n",
            "       [5.9, 3.2, 4.8, 1.8],\n",
            "       [6.1, 2.8, 4. , 1.3],\n",
            "       [6.3, 2.5, 4.9, 1.5],\n",
            "       [6.1, 2.8, 4.7, 1.2],\n",
            "       [6.4, 2.9, 4.3, 1.3],\n",
            "       [6.6, 3. , 4.4, 1.4],\n",
            "       [6.8, 2.8, 4.8, 1.4],\n",
            "       [6.7, 3. , 5. , 1.7],\n",
            "       [6. , 2.9, 4.5, 1.5],\n",
            "       [5.7, 2.6, 3.5, 1. ],\n",
            "       [5.5, 2.4, 3.8, 1.1],\n",
            "       [5.5, 2.4, 3.7, 1. ],\n",
            "       [5.8, 2.7, 3.9, 1.2],\n",
            "       [6. , 2.7, 5.1, 1.6],\n",
            "       [5.4, 3. , 4.5, 1.5],\n",
            "       [6. , 3.4, 4.5, 1.6],\n",
            "       [6.7, 3.1, 4.7, 1.5],\n",
            "       [6.3, 2.3, 4.4, 1.3],\n",
            "       [5.6, 3. , 4.1, 1.3],\n",
            "       [5.5, 2.5, 4. , 1.3],\n",
            "       [5.5, 2.6, 4.4, 1.2],\n",
            "       [6.1, 3. , 4.6, 1.4],\n",
            "       [5.8, 2.6, 4. , 1.2],\n",
            "       [5. , 2.3, 3.3, 1. ],\n",
            "       [5.6, 2.7, 4.2, 1.3],\n",
            "       [5.7, 3. , 4.2, 1.2],\n",
            "       [5.7, 2.9, 4.2, 1.3],\n",
            "       [6.2, 2.9, 4.3, 1.3],\n",
            "       [5.1, 2.5, 3. , 1.1],\n",
            "       [5.7, 2.8, 4.1, 1.3],\n",
            "       [6.3, 3.3, 6. , 2.5],\n",
            "       [5.8, 2.7, 5.1, 1.9],\n",
            "       [7.1, 3. , 5.9, 2.1],\n",
            "       [6.3, 2.9, 5.6, 1.8],\n",
            "       [6.5, 3. , 5.8, 2.2],\n",
            "       [7.6, 3. , 6.6, 2.1],\n",
            "       [4.9, 2.5, 4.5, 1.7],\n",
            "       [7.3, 2.9, 6.3, 1.8],\n",
            "       [6.7, 2.5, 5.8, 1.8],\n",
            "       [7.2, 3.6, 6.1, 2.5],\n",
            "       [6.5, 3.2, 5.1, 2. ],\n",
            "       [6.4, 2.7, 5.3, 1.9],\n",
            "       [6.8, 3. , 5.5, 2.1],\n",
            "       [5.7, 2.5, 5. , 2. ],\n",
            "       [5.8, 2.8, 5.1, 2.4],\n",
            "       [6.4, 3.2, 5.3, 2.3],\n",
            "       [6.5, 3. , 5.5, 1.8],\n",
            "       [7.7, 3.8, 6.7, 2.2],\n",
            "       [7.7, 2.6, 6.9, 2.3],\n",
            "       [6. , 2.2, 5. , 1.5],\n",
            "       [6.9, 3.2, 5.7, 2.3],\n",
            "       [5.6, 2.8, 4.9, 2. ],\n",
            "       [7.7, 2.8, 6.7, 2. ],\n",
            "       [6.3, 2.7, 4.9, 1.8],\n",
            "       [6.7, 3.3, 5.7, 2.1],\n",
            "       [7.2, 3.2, 6. , 1.8],\n",
            "       [6.2, 2.8, 4.8, 1.8],\n",
            "       [6.1, 3. , 4.9, 1.8],\n",
            "       [6.4, 2.8, 5.6, 2.1],\n",
            "       [7.2, 3. , 5.8, 1.6],\n",
            "       [7.4, 2.8, 6.1, 1.9],\n",
            "       [7.9, 3.8, 6.4, 2. ],\n",
            "       [6.4, 2.8, 5.6, 2.2],\n",
            "       [6.3, 2.8, 5.1, 1.5],\n",
            "       [6.1, 2.6, 5.6, 1.4],\n",
            "       [7.7, 3. , 6.1, 2.3],\n",
            "       [6.3, 3.4, 5.6, 2.4],\n",
            "       [6.4, 3.1, 5.5, 1.8],\n",
            "       [6. , 3. , 4.8, 1.8],\n",
            "       [6.9, 3.1, 5.4, 2.1],\n",
            "       [6.7, 3.1, 5.6, 2.4],\n",
            "       [6.9, 3.1, 5.1, 2.3],\n",
            "       [5.8, 2.7, 5.1, 1.9],\n",
            "       [6.8, 3.2, 5.9, 2.3],\n",
            "       [6.7, 3.3, 5.7, 2.5],\n",
            "       [6.7, 3. , 5.2, 2.3],\n",
            "       [6.3, 2.5, 5. , 1.9],\n",
            "       [6.5, 3. , 5.2, 2. ],\n",
            "       [6.2, 3.4, 5.4, 2.3],\n",
            "       [5.9, 3. , 5.1, 1.8]]), 'target': array([0, 0, 0, 0, 0, 0, 0, 0, 0, 0, 0, 0, 0, 0, 0, 0, 0, 0, 0, 0, 0, 0,\n",
            "       0, 0, 0, 0, 0, 0, 0, 0, 0, 0, 0, 0, 0, 0, 0, 0, 0, 0, 0, 0, 0, 0,\n",
            "       0, 0, 0, 0, 0, 0, 1, 1, 1, 1, 1, 1, 1, 1, 1, 1, 1, 1, 1, 1, 1, 1,\n",
            "       1, 1, 1, 1, 1, 1, 1, 1, 1, 1, 1, 1, 1, 1, 1, 1, 1, 1, 1, 1, 1, 1,\n",
            "       1, 1, 1, 1, 1, 1, 1, 1, 1, 1, 1, 1, 2, 2, 2, 2, 2, 2, 2, 2, 2, 2,\n",
            "       2, 2, 2, 2, 2, 2, 2, 2, 2, 2, 2, 2, 2, 2, 2, 2, 2, 2, 2, 2, 2, 2,\n",
            "       2, 2, 2, 2, 2, 2, 2, 2, 2, 2, 2, 2, 2, 2, 2, 2, 2, 2]), 'frame': None, 'target_names': array(['setosa', 'versicolor', 'virginica'], dtype='<U10'), 'DESCR': '.. _iris_dataset:\\n\\nIris plants dataset\\n--------------------\\n\\n**Data Set Characteristics:**\\n\\n    :Number of Instances: 150 (50 in each of three classes)\\n    :Number of Attributes: 4 numeric, predictive attributes and the class\\n    :Attribute Information:\\n        - sepal length in cm\\n        - sepal width in cm\\n        - petal length in cm\\n        - petal width in cm\\n        - class:\\n                - Iris-Setosa\\n                - Iris-Versicolour\\n                - Iris-Virginica\\n                \\n    :Summary Statistics:\\n\\n    ============== ==== ==== ======= ===== ====================\\n                    Min  Max   Mean    SD   Class Correlation\\n    ============== ==== ==== ======= ===== ====================\\n    sepal length:   4.3  7.9   5.84   0.83    0.7826\\n    sepal width:    2.0  4.4   3.05   0.43   -0.4194\\n    petal length:   1.0  6.9   3.76   1.76    0.9490  (high!)\\n    petal width:    0.1  2.5   1.20   0.76    0.9565  (high!)\\n    ============== ==== ==== ======= ===== ====================\\n\\n    :Missing Attribute Values: None\\n    :Class Distribution: 33.3% for each of 3 classes.\\n    :Creator: R.A. Fisher\\n    :Donor: Michael Marshall (MARSHALL%PLU@io.arc.nasa.gov)\\n    :Date: July, 1988\\n\\nThe famous Iris database, first used by Sir R.A. Fisher. The dataset is taken\\nfrom Fisher\\'s paper. Note that it\\'s the same as in R, but not as in the UCI\\nMachine Learning Repository, which has two wrong data points.\\n\\nThis is perhaps the best known database to be found in the\\npattern recognition literature.  Fisher\\'s paper is a classic in the field and\\nis referenced frequently to this day.  (See Duda & Hart, for example.)  The\\ndata set contains 3 classes of 50 instances each, where each class refers to a\\ntype of iris plant.  One class is linearly separable from the other 2; the\\nlatter are NOT linearly separable from each other.\\n\\n.. topic:: References\\n\\n   - Fisher, R.A. \"The use of multiple measurements in taxonomic problems\"\\n     Annual Eugenics, 7, Part II, 179-188 (1936); also in \"Contributions to\\n     Mathematical Statistics\" (John Wiley, NY, 1950).\\n   - Duda, R.O., & Hart, P.E. (1973) Pattern Classification and Scene Analysis.\\n     (Q327.D83) John Wiley & Sons.  ISBN 0-471-22361-1.  See page 218.\\n   - Dasarathy, B.V. (1980) \"Nosing Around the Neighborhood: A New System\\n     Structure and Classification Rule for Recognition in Partially Exposed\\n     Environments\".  IEEE Transactions on Pattern Analysis and Machine\\n     Intelligence, Vol. PAMI-2, No. 1, 67-71.\\n   - Gates, G.W. (1972) \"The Reduced Nearest Neighbor Rule\".  IEEE Transactions\\n     on Information Theory, May 1972, 431-433.\\n   - See also: 1988 MLC Proceedings, 54-64.  Cheeseman et al\"s AUTOCLASS II\\n     conceptual clustering system finds 3 classes in the data.\\n   - Many, many more ...', 'feature_names': ['sepal length (cm)', 'sepal width (cm)', 'petal length (cm)', 'petal width (cm)'], 'filename': 'iris.csv', 'data_module': 'sklearn.datasets.data'}\n"
          ]
        }
      ],
      "source": [
        "from sklearn.datasets import load_iris\n",
        "iris_data = load_iris()\n",
        "print(iris_data)"
      ]
    },
    {
      "cell_type": "code",
      "source": [
        "data = iris_data['data']\n",
        "data.shape #150개 X (setal-length, setal-width, pepal-length, pepal-width)"
      ],
      "metadata": {
        "colab": {
          "base_uri": "https://localhost:8080/"
        },
        "id": "9G32XL9Om43c",
        "outputId": "1d1f6bfb-4f7f-4442-88d5-478173911283"
      },
      "execution_count": 3,
      "outputs": [
        {
          "output_type": "execute_result",
          "data": {
            "text/plain": [
              "(150, 4)"
            ]
          },
          "metadata": {},
          "execution_count": 3
        }
      ]
    },
    {
      "cell_type": "code",
      "source": [
        "target = iris_data['target']\n",
        "target.shape #150개 ([:50]>=0, [50:100]>=1, [100:]=>2)"
      ],
      "metadata": {
        "colab": {
          "base_uri": "https://localhost:8080/"
        },
        "id": "rr7NjP_5nmee",
        "outputId": "518547fb-e4d0-4aa8-91c1-f8d4ac93b425"
      },
      "execution_count": 4,
      "outputs": [
        {
          "output_type": "execute_result",
          "data": {
            "text/plain": [
              "(150,)"
            ]
          },
          "metadata": {},
          "execution_count": 4
        }
      ]
    },
    {
      "cell_type": "code",
      "source": [
        "tname = iris_data['target_names']\n",
        "tname #0:setosa, 1:versicolor, 2:virginica"
      ],
      "metadata": {
        "colab": {
          "base_uri": "https://localhost:8080/"
        },
        "id": "83o5EKo_nqR2",
        "outputId": "2171f143-933e-447f-d3f8-89534360b891"
      },
      "execution_count": 6,
      "outputs": [
        {
          "output_type": "execute_result",
          "data": {
            "text/plain": [
              "array(['setosa', 'versicolor', 'virginica'], dtype='<U10')"
            ]
          },
          "metadata": {},
          "execution_count": 6
        }
      ]
    },
    {
      "cell_type": "code",
      "source": [
        "for i , t in enumerate(target):\n",
        "  print(f\"{i} : {tname[t]}\")"
      ],
      "metadata": {
        "colab": {
          "base_uri": "https://localhost:8080/"
        },
        "id": "w4Sv6RpVnt76",
        "outputId": "b6213b41-946c-4636-c1bc-b51d57e43aa4"
      },
      "execution_count": 7,
      "outputs": [
        {
          "output_type": "stream",
          "name": "stdout",
          "text": [
            "0 : setosa\n",
            "1 : setosa\n",
            "2 : setosa\n",
            "3 : setosa\n",
            "4 : setosa\n",
            "5 : setosa\n",
            "6 : setosa\n",
            "7 : setosa\n",
            "8 : setosa\n",
            "9 : setosa\n",
            "10 : setosa\n",
            "11 : setosa\n",
            "12 : setosa\n",
            "13 : setosa\n",
            "14 : setosa\n",
            "15 : setosa\n",
            "16 : setosa\n",
            "17 : setosa\n",
            "18 : setosa\n",
            "19 : setosa\n",
            "20 : setosa\n",
            "21 : setosa\n",
            "22 : setosa\n",
            "23 : setosa\n",
            "24 : setosa\n",
            "25 : setosa\n",
            "26 : setosa\n",
            "27 : setosa\n",
            "28 : setosa\n",
            "29 : setosa\n",
            "30 : setosa\n",
            "31 : setosa\n",
            "32 : setosa\n",
            "33 : setosa\n",
            "34 : setosa\n",
            "35 : setosa\n",
            "36 : setosa\n",
            "37 : setosa\n",
            "38 : setosa\n",
            "39 : setosa\n",
            "40 : setosa\n",
            "41 : setosa\n",
            "42 : setosa\n",
            "43 : setosa\n",
            "44 : setosa\n",
            "45 : setosa\n",
            "46 : setosa\n",
            "47 : setosa\n",
            "48 : setosa\n",
            "49 : setosa\n",
            "50 : versicolor\n",
            "51 : versicolor\n",
            "52 : versicolor\n",
            "53 : versicolor\n",
            "54 : versicolor\n",
            "55 : versicolor\n",
            "56 : versicolor\n",
            "57 : versicolor\n",
            "58 : versicolor\n",
            "59 : versicolor\n",
            "60 : versicolor\n",
            "61 : versicolor\n",
            "62 : versicolor\n",
            "63 : versicolor\n",
            "64 : versicolor\n",
            "65 : versicolor\n",
            "66 : versicolor\n",
            "67 : versicolor\n",
            "68 : versicolor\n",
            "69 : versicolor\n",
            "70 : versicolor\n",
            "71 : versicolor\n",
            "72 : versicolor\n",
            "73 : versicolor\n",
            "74 : versicolor\n",
            "75 : versicolor\n",
            "76 : versicolor\n",
            "77 : versicolor\n",
            "78 : versicolor\n",
            "79 : versicolor\n",
            "80 : versicolor\n",
            "81 : versicolor\n",
            "82 : versicolor\n",
            "83 : versicolor\n",
            "84 : versicolor\n",
            "85 : versicolor\n",
            "86 : versicolor\n",
            "87 : versicolor\n",
            "88 : versicolor\n",
            "89 : versicolor\n",
            "90 : versicolor\n",
            "91 : versicolor\n",
            "92 : versicolor\n",
            "93 : versicolor\n",
            "94 : versicolor\n",
            "95 : versicolor\n",
            "96 : versicolor\n",
            "97 : versicolor\n",
            "98 : versicolor\n",
            "99 : versicolor\n",
            "100 : virginica\n",
            "101 : virginica\n",
            "102 : virginica\n",
            "103 : virginica\n",
            "104 : virginica\n",
            "105 : virginica\n",
            "106 : virginica\n",
            "107 : virginica\n",
            "108 : virginica\n",
            "109 : virginica\n",
            "110 : virginica\n",
            "111 : virginica\n",
            "112 : virginica\n",
            "113 : virginica\n",
            "114 : virginica\n",
            "115 : virginica\n",
            "116 : virginica\n",
            "117 : virginica\n",
            "118 : virginica\n",
            "119 : virginica\n",
            "120 : virginica\n",
            "121 : virginica\n",
            "122 : virginica\n",
            "123 : virginica\n",
            "124 : virginica\n",
            "125 : virginica\n",
            "126 : virginica\n",
            "127 : virginica\n",
            "128 : virginica\n",
            "129 : virginica\n",
            "130 : virginica\n",
            "131 : virginica\n",
            "132 : virginica\n",
            "133 : virginica\n",
            "134 : virginica\n",
            "135 : virginica\n",
            "136 : virginica\n",
            "137 : virginica\n",
            "138 : virginica\n",
            "139 : virginica\n",
            "140 : virginica\n",
            "141 : virginica\n",
            "142 : virginica\n",
            "143 : virginica\n",
            "144 : virginica\n",
            "145 : virginica\n",
            "146 : virginica\n",
            "147 : virginica\n",
            "148 : virginica\n",
            "149 : virginica\n"
          ]
        }
      ]
    },
    {
      "cell_type": "code",
      "source": [
        "def distance(x1, x2):\n",
        "  return sum((x1-x2)**2)**(1/2)"
      ],
      "metadata": {
        "id": "1XwQU0DFoWY4"
      },
      "execution_count": 9,
      "outputs": []
    },
    {
      "cell_type": "code",
      "source": [
        "import numpy as np\n",
        "na1 = np.array([1,2])\n",
        "na2 = np.array([5,5])\n",
        "print(distance(na1,na2))"
      ],
      "metadata": {
        "colab": {
          "base_uri": "https://localhost:8080/"
        },
        "id": "n6YR7Ba-pGIO",
        "outputId": "e97e3f70-613f-4476-9c19-e2e93737b216"
      },
      "execution_count": 10,
      "outputs": [
        {
          "output_type": "stream",
          "name": "stdout",
          "text": [
            "5.0\n"
          ]
        }
      ]
    },
    {
      "cell_type": "code",
      "source": [
        "def find_k_nearest_neighbor_c(xs,ys,tx,k=5):\n",
        "  sarr = []\n",
        "  for i,x in enumerate(xs):\n",
        "    dis = distance(x,tx)\n",
        "    sarr.append((dis,i)) #거리순으로 정렬한 이후에도 몇 번째 요소인지 기억하기 위해(dis,i)를 보관\n",
        "  sarr.sort(key = lambda x:x[0])\n",
        "  nd = {} #어떠한 클래스에 속하는지 분포를 파악해서 보관하기 위한 용도\n",
        "  for x in sarr[:k]: #k개의 가까운 이웃을 반복\n",
        "    neighbor = ys[x[1]] #x[0]은 거리 x[1]은 인덱스이므로 원하는 값은 ys[x[1]]\n",
        "    if neighbor in nd:\n",
        "      nd[neighbor] += 1\n",
        "    else:\n",
        "      nd[neighbor] = 0 \n",
        "  return max(nd,key=nd.get) #가장 많이 나온 클래스를 반환"
      ],
      "metadata": {
        "id": "iD5cW_3cp2AS"
      },
      "execution_count": 39,
      "outputs": []
    },
    {
      "cell_type": "code",
      "source": [
        "def find_k_nearest_neighbors_c(xs, ys, t_xs, k=5):\n",
        "  return np.array([find_k_nearest_neighbor_c(xs,ys,tx,k) for tx in t_xs])"
      ],
      "metadata": {
        "id": "eVuaX5farPwj"
      },
      "execution_count": 40,
      "outputs": []
    },
    {
      "cell_type": "code",
      "source": [
        "data.shape, target.shape"
      ],
      "metadata": {
        "colab": {
          "base_uri": "https://localhost:8080/"
        },
        "id": "ne_2EXkSrmVq",
        "outputId": "894e3db4-2bfc-460e-8fe4-99c45edc8ed9"
      },
      "execution_count": 41,
      "outputs": [
        {
          "output_type": "execute_result",
          "data": {
            "text/plain": [
              "((150, 4), (150,))"
            ]
          },
          "metadata": {},
          "execution_count": 41
        }
      ]
    },
    {
      "cell_type": "code",
      "source": [
        "from sklearn.model_selection import train_test_split\n",
        "train_xs, test_xs, train_ys, test_ys, = train_test_split(data,target)\n",
        "train_xs.shape, test_xs.shape, train_ys.shape, test_ys.shape"
      ],
      "metadata": {
        "colab": {
          "base_uri": "https://localhost:8080/"
        },
        "id": "elEKpDMjruW7",
        "outputId": "539aa30d-9805-455d-ec7f-aae84091804a"
      },
      "execution_count": 42,
      "outputs": [
        {
          "output_type": "execute_result",
          "data": {
            "text/plain": [
              "((112, 4), (38, 4), (112,), (38,))"
            ]
          },
          "metadata": {},
          "execution_count": 42
        }
      ]
    },
    {
      "cell_type": "code",
      "source": [
        "pred_val = find_k_nearest_neighbors_c(train_xs, train_ys, test_xs) #학습 후 예측하시오."
      ],
      "metadata": {
        "id": "eexKQ9ZssP7c"
      },
      "execution_count": 43,
      "outputs": []
    },
    {
      "cell_type": "code",
      "source": [
        "print(f\"예측 결과 : {pred_val}\")\n",
        "print(f\"실제 결과 : {test_ys}\")"
      ],
      "metadata": {
        "colab": {
          "base_uri": "https://localhost:8080/"
        },
        "id": "zioLrgsAsYGk",
        "outputId": "13ce6161-cc5c-43c7-c4cb-68df6998a0b0"
      },
      "execution_count": 44,
      "outputs": [
        {
          "output_type": "stream",
          "name": "stdout",
          "text": [
            "예측 결과 : [1 1 2 0 2 2 2 0 1 0 1 0 1 0 2 2 1 2 2 1 0 1 1 1 0 1 0 0 1 1 2 1 1 0 0 2 2\n",
            " 0]\n",
            "실제 결과 : [1 1 2 0 2 2 2 0 1 0 1 0 1 0 2 2 2 2 2 1 0 1 1 1 0 1 0 0 1 1 1 1 1 0 0 2 2\n",
            " 0]\n"
          ]
        }
      ]
    },
    {
      "cell_type": "code",
      "source": [
        "import matplotlib.pyplot as plt"
      ],
      "metadata": {
        "id": "WEfxJyAYyARQ"
      },
      "execution_count": 45,
      "outputs": []
    },
    {
      "cell_type": "code",
      "source": [
        "plt.plot(pred_val, 'ro', label='predict')\n",
        "plt.plot(test_ys, 'b.', label='actual')\n",
        "plt.xlabel(\"test index\")\n",
        "plt.ylabel('classes')\n",
        "plt.legend()\n",
        "plt.show()"
      ],
      "metadata": {
        "colab": {
          "base_uri": "https://localhost:8080/",
          "height": 279
        },
        "id": "U1vBatBjyCv8",
        "outputId": "e132bba6-002b-4a24-eff3-8d3359f4b7b2"
      },
      "execution_count": 47,
      "outputs": [
        {
          "output_type": "display_data",
          "data": {
            "image/png": "[encoded data removed]",
            "text/plain": [
              "<Figure size 432x288 with 1 Axes>"
            ]
          },
          "metadata": {
            "needs_background": "light"
          }
        }
      ]
    },
    {
      "cell_type": "code",
      "source": [
        "def evaluate(actual_ys, predict_ys):\n",
        "  correct_cnt = 0\n",
        "  for i, y in enumerate(actual_ys):\n",
        "    if predict_ys[i] == y:\n",
        "      correct_cnt+=1\n",
        "    return correct_cnt/len(actual_ys)"
      ],
      "metadata": {
        "id": "4bY1r0rdzcAw"
      },
      "execution_count": 50,
      "outputs": []
    },
    {
      "cell_type": "code",
      "source": [
        "print(evaluate(test_ys, pred_val))"
      ],
      "metadata": {
        "colab": {
          "base_uri": "https://localhost:8080/"
        },
        "id": "TH383co1zok1",
        "outputId": "637a3c7a-a7a0-4b7d-e0b9-d80affc2a052"
      },
      "execution_count": 51,
      "outputs": [
        {
          "output_type": "stream",
          "name": "stdout",
          "text": [
            "0.02631578947368421\n"
          ]
        }
      ]
    },
    {
      "cell_type": "markdown",
      "source": [
        "ML 개체 사용(사이킷 런의 KNN 분류 모델)"
      ],
      "metadata": {
        "id": "POXMhF0bz8rY"
      }
    },
    {
      "cell_type": "code",
      "source": [
        "from sklearn.neighbors import KNeighborsClassifier\n",
        "knc_model = KNeighborsClassifier() #모델 개체 생성\n",
        "knc_model.fit(train_xs, train_ys) #학습\n",
        "pred_val2 = knc_model.predict(test_xs) #예측하시오"
      ],
      "metadata": {
        "id": "U5-MiptW0GSn"
      },
      "execution_count": 53,
      "outputs": []
    },
    {
      "cell_type": "code",
      "source": [
        "print(f\"예측 결과1 : {pred_val}\")\n",
        "print(f\"예측 결과2 : {pred_val2}\")\n",
        "print(f\"실제 결과 : {test_ys}\")"
      ],
      "metadata": {
        "colab": {
          "base_uri": "https://localhost:8080/"
        },
        "id": "xhiBHIDo0ip5",
        "outputId": "b90e51e8-2444-4302-aa33-3c00fb66c1f4"
      },
      "execution_count": 55,
      "outputs": [
        {
          "output_type": "stream",
          "name": "stdout",
          "text": [
            "예측 결과1 : [1 1 2 0 2 2 2 0 1 0 1 0 1 0 2 2 1 2 2 1 0 1 1 1 0 1 0 0 1 1 2 1 1 0 0 2 2\n",
            " 0]\n",
            "예측 결과2 : [1 1 2 0 2 2 2 0 1 0 1 0 1 0 2 2 1 2 2 1 0 1 1 1 0 1 0 0 1 1 2 1 1 0 0 2 2\n",
            " 0]\n",
            "실제 결과 : [1 1 2 0 2 2 2 0 1 0 1 0 1 0 2 2 2 2 2 1 0 1 1 1 0 1 0 0 1 1 1 1 1 0 0 2 2\n",
            " 0]\n"
          ]
        }
      ]
    },
    {
      "cell_type": "code",
      "source": [
        "plt.plot(pred_val, 'ro', label='predict')\n",
        "plt.plot(pred_val, 'g*', label='predict2')\n",
        "plt.plot(pred_val, 'b.', label='actual')\n",
        "plt.xlabel(\"test index\")\n",
        "plt.ylabel(\"classes\")\n",
        "plt.legend(loc = (0.6,0.6))\n",
        "plt.show()"
      ],
      "metadata": {
        "colab": {
          "base_uri": "https://localhost:8080/",
          "height": 279
        },
        "id": "Ht3rrJL51OMt",
        "outputId": "d1c9a727-e04a-42af-d2c0-fafb89c1092e"
      },
      "execution_count": 59,
      "outputs": [
        {
          "output_type": "display_data",
          "data": {
            "image/png": "[encoded data removed]",
            "text/plain": [
              "<Figure size 432x288 with 1 Axes>"
            ]
          },
          "metadata": {
            "needs_background": "light"
          }
        }
      ]
    },
    {
      "cell_type": "code",
      "source": [
        "print(evaluate(test_ys,pred_val2))"
      ],
      "metadata": {
        "colab": {
          "base_uri": "https://localhost:8080/"
        },
        "id": "2h8BJGoF2c52",
        "outputId": "7c0a70d0-499f-4a86-8009-ef2abb475e40"
      },
      "execution_count": 60,
      "outputs": [
        {
          "output_type": "stream",
          "name": "stdout",
          "text": [
            "0.02631578947368421\n"
          ]
        }
      ]
    }
  ]
}