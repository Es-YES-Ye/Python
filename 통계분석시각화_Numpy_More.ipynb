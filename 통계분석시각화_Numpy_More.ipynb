{
  "nbformat": 4,
  "nbformat_minor": 0,
  "metadata": {
    "colab": {
      "name": "통계분석시각화-Numpy More.ipynb",
      "provenance": [],
      "authorship_tag": "ABX9TyNjs5f1YFhHfNVXz+GWZcjz",
      "include_colab_link": true
    },
    "kernelspec": {
      "name": "python3",
      "display_name": "Python 3"
    },
    "language_info": {
      "name": "python"
    }
  },
  "cells": [
    {
      "cell_type": "markdown",
      "metadata": {
        "id": "view-in-github",
        "colab_type": "text"
      },
      "source": [
        "<a href=\"https://colab.research.google.com/github/Es-YES-Ye/Python/blob/main/%ED%86%B5%EA%B3%84%EB%B6%84%EC%84%9D%EC%8B%9C%EA%B0%81%ED%99%94_Numpy_More.ipynb\" target=\"_parent\"><img src=\"https://colab.research.google.com/assets/colab-badge.svg\" alt=\"Open In Colab\"/></a>"
      ]
    },
    {
      "cell_type": "markdown",
      "source": [
        "#행렬의 기본 연산"
      ],
      "metadata": {
        "id": "WXJp2mqCnZ5H"
      }
    },
    {
      "cell_type": "code",
      "execution_count": null,
      "metadata": {
        "id": "DNZWMpslnMFQ"
      },
      "outputs": [],
      "source": [
        "import numpy as np"
      ]
    },
    {
      "cell_type": "code",
      "source": [
        "#리스트는 우리가 원하는 행렬 연산이 안 된다.\n",
        "ls1=[1,2]\n",
        "ls2=[3,4]\n",
        "ls3=ls1+ls2\n",
        "print(ls3) "
      ],
      "metadata": {
        "colab": {
          "base_uri": "https://localhost:8080/"
        },
        "id": "xPMFIt0lnjCJ",
        "outputId": "717fa333-e044-4cbe-81ae-2d46dc39b5fb"
      },
      "execution_count": null,
      "outputs": [
        {
          "output_type": "stream",
          "name": "stdout",
          "text": [
            "[1, 2, 3, 4]\n"
          ]
        }
      ]
    },
    {
      "cell_type": "code",
      "source": [
        "#행렬 연산을 위한 함수를 만들어야 한다.\n",
        "\n",
        "def add(l1, l2):\n",
        "  assert len(l1)==len(l2), \"더하기 연산을 위하서는 요소의 길이가 같아야 한다.\"\n",
        "  re=[]\n",
        "  for i in range(len(l1)):\n",
        "    re.append(l1[i]+l2[i])\n",
        "  return re   "
      ],
      "metadata": {
        "id": "8Ky5_-p6oCRk"
      },
      "execution_count": null,
      "outputs": []
    },
    {
      "cell_type": "code",
      "source": [
        "ls1=[1,2]\n",
        "ls2=[3,4]\n",
        "ls3=add(ls1,ls2)\n",
        "print(ls3)"
      ],
      "metadata": {
        "colab": {
          "base_uri": "https://localhost:8080/"
        },
        "id": "BR79PeQrp0jZ",
        "outputId": "a4d6b718-da3f-4883-cb69-192f7a5bad0b"
      },
      "execution_count": null,
      "outputs": [
        {
          "output_type": "stream",
          "name": "stdout",
          "text": [
            "[4, 6]\n"
          ]
        }
      ]
    },
    {
      "cell_type": "markdown",
      "source": [
        "#assert\n",
        "\n",
        "만든 함수를 테스트하기 위한 목적\n",
        "\n",
        "assert 조건, '메시지'\n",
        "\n",
        "'메시지'는 생략할 수 있다.\n",
        "\n",
        "assert 뒤의 조건이 True 가 아니면 AeertError가 발생한다."
      ],
      "metadata": {
        "id": "a8rO_TZgpVk1"
      }
    },
    {
      "cell_type": "code",
      "source": [
        "#ls 목록에 있는 요소의 합계를 구하는 함수\n",
        "def calsum(ls):\n",
        "  s=0\n",
        "  for e in ls:\n",
        "    s+=e\n",
        "  return s"
      ],
      "metadata": {
        "id": "2EwjlxU9otRD"
      },
      "execution_count": null,
      "outputs": []
    },
    {
      "cell_type": "code",
      "source": [
        "assert calsum([1,2,3,2])==8, \"calsum([1,2,3,2]) 값은 8이어야 합니다.\"\n"
      ],
      "metadata": {
        "id": "1XHqGtJpo2f9"
      },
      "execution_count": null,
      "outputs": []
    },
    {
      "cell_type": "code",
      "source": [
        "s=0\n",
        "for i in range(10):\n",
        "  s += i\n",
        "\n",
        "assert s==55, \"s는 55여야 합니다.\" #AssertionError: s는 55여야 합니다."
      ],
      "metadata": {
        "colab": {
          "base_uri": "https://localhost:8080/",
          "height": 211
        },
        "id": "Gy9KFKGsoMue",
        "outputId": "789d65a7-1cc8-44c4-966d-0c38282d9a8f"
      },
      "execution_count": null,
      "outputs": [
        {
          "output_type": "error",
          "ename": "AssertionError",
          "evalue": "ignored",
          "traceback": [
            "\u001b[0;31m---------------------------------------------------------------------------\u001b[0m",
            "\u001b[0;31mAssertionError\u001b[0m                            Traceback (most recent call last)",
            "\u001b[0;32m<ipython-input-19-3a37c7954fd7>\u001b[0m in \u001b[0;36m<module>\u001b[0;34m()\u001b[0m\n\u001b[1;32m      3\u001b[0m   \u001b[0ms\u001b[0m \u001b[0;34m+=\u001b[0m \u001b[0mi\u001b[0m\u001b[0;34m\u001b[0m\u001b[0;34m\u001b[0m\u001b[0m\n\u001b[1;32m      4\u001b[0m \u001b[0;34m\u001b[0m\u001b[0m\n\u001b[0;32m----> 5\u001b[0;31m \u001b[0;32massert\u001b[0m \u001b[0ms\u001b[0m\u001b[0;34m==\u001b[0m\u001b[0;36m55\u001b[0m\u001b[0;34m,\u001b[0m \u001b[0;34m\"s는 55여야 합니다.\"\u001b[0m \u001b[0;31m#AssertionError: s는 55여야 합니다.\u001b[0m\u001b[0;34m\u001b[0m\u001b[0;34m\u001b[0m\u001b[0m\n\u001b[0m",
            "\u001b[0;31mAssertionError\u001b[0m: s는 55여야 합니다."
          ]
        }
      ]
    },
    {
      "cell_type": "code",
      "source": [
        "#numpy는 행렬 연산이 이미 만들어져있다.\n",
        "n1=np.array([1,2])\n",
        "n2=np.array([3,4])\n",
        "n3=n1+n2\n",
        "print(n3)"
      ],
      "metadata": {
        "id": "FFPiCqHfqG7z"
      },
      "execution_count": null,
      "outputs": []
    },
    {
      "cell_type": "code",
      "source": [
        "n3=n1-n2\n",
        "print(n3)"
      ],
      "metadata": {
        "id": "FmyXedAIq06n"
      },
      "execution_count": null,
      "outputs": []
    },
    {
      "cell_type": "code",
      "source": [
        "#리스트는 값에 3을 곱하는 게 아니고 리스트를 세 번 반복한다.\n",
        "\n",
        "ls1 = [1,2,3,4]\n",
        "ls2 = ls1 * 3\n",
        "print(ls2)"
      ],
      "metadata": {
        "id": "zZn9MnACq8_T"
      },
      "execution_count": null,
      "outputs": []
    },
    {
      "cell_type": "code",
      "source": [
        "#numpy는 행렬 값에 3씩 곱하는 계산이 가능하다\n",
        "\n",
        "n1 = np.array([1,2,3,4])\n",
        "n2 = n1*3\n",
        "print(n2)"
      ],
      "metadata": {
        "id": "K7HynTIIrHSW"
      },
      "execution_count": null,
      "outputs": []
    },
    {
      "cell_type": "code",
      "source": [
        "#모든 원소들을 해당하는 표준편자로 나눠주는 작업\n",
        "n2 = n1/3\n",
        "print(n2)"
      ],
      "metadata": {
        "colab": {
          "base_uri": "https://localhost:8080/"
        },
        "id": "IG3Zqs27sIYa",
        "outputId": "babe866c-f65a-496b-c4c7-36347a435703"
      },
      "execution_count": null,
      "outputs": [
        {
          "output_type": "stream",
          "name": "stdout",
          "text": [
            "[0.33333333 0.66666667 1.         1.33333333]\n"
          ]
        }
      ]
    },
    {
      "cell_type": "markdown",
      "source": [
        "만약 n1에서 500 이상의 숫자만 추출하고 싶다면"
      ],
      "metadata": {
        "id": "ysOrJOPYtIUb"
      }
    },
    {
      "cell_type": "code",
      "source": [
        "n1 = np.random.randint(1, 1000, 100, dtype=int) #1부터 천까지 중에서 100개, 인트타입으로 출력\n",
        "print(n1)"
      ],
      "metadata": {
        "colab": {
          "base_uri": "https://localhost:8080/"
        },
        "id": "gVOrWHi1sadd",
        "outputId": "1c8fcc0d-2c1e-4dc0-ac20-da309973b525"
      },
      "execution_count": 27,
      "outputs": [
        {
          "output_type": "stream",
          "name": "stdout",
          "text": [
            "[451 946 976  55 709 114 656 403  93 602 572 424 313 497 335 649 365 794\n",
            " 845 780 482 721 897 864  83 454  36 830  54 762 753 546 460 863 448 164\n",
            " 894 262 163 983 206 151 988 999 773 198 266 261 858  24 418 622 344 973\n",
            " 240 619 437 830  38 976 123 108 499 287 917 755 936 398  78 485 861 772\n",
            " 769 328 987 651 433  52 344 852 182 140  31 231 896 452 854 283 151 867\n",
            " 497 282  11 353 905 667  28 897 875 725]\n"
          ]
        }
      ]
    },
    {
      "cell_type": "code",
      "source": [
        "n2 = n1>500\n",
        "print(n2)"
      ],
      "metadata": {
        "colab": {
          "base_uri": "https://localhost:8080/"
        },
        "id": "F7sw02MWs7Sk",
        "outputId": "127e753e-9086-42ca-a322-55e90ea074b5"
      },
      "execution_count": 24,
      "outputs": [
        {
          "output_type": "stream",
          "name": "stdout",
          "text": [
            "[ True  True  True False  True False  True  True  True  True  True False\n",
            "  True False False  True  True  True  True False False False  True  True\n",
            "  True  True False False  True  True False False False  True  True  True\n",
            " False  True  True False  True  True False False False  True False  True\n",
            " False  True False  True  True  True False  True False False False  True\n",
            " False  True  True False  True  True False  True  True False False False\n",
            " False  True False  True False False  True  True  True False  True False\n",
            "  True  True False False  True False False False  True False False  True\n",
            "  True False  True False]\n"
          ]
        }
      ]
    },
    {
      "cell_type": "code",
      "source": [
        "n3 = n1[n2]\n",
        "print(n3)"
      ],
      "metadata": {
        "colab": {
          "base_uri": "https://localhost:8080/"
        },
        "id": "3DDZrLx7s_K4",
        "outputId": "0cb846eb-9d88-4e38-b035-42307514ce8e"
      },
      "execution_count": 25,
      "outputs": [
        {
          "output_type": "stream",
          "name": "stdout",
          "text": [
            "[542 643 858 960 636 786 995 888 574 600 928 712 583 686 521 580 936 693\n",
            " 867 638 771 517 689 878 716 681 610 938 867 750 649 843 880 519 897 783\n",
            " 746 615 796 523 964 580 836 808 766 864 511 816 617 974 575 972 636 826]\n"
          ]
        }
      ]
    },
    {
      "cell_type": "markdown",
      "source": [
        "내적함수"
      ],
      "metadata": {
        "id": "N1rQh8MQqGtV"
      }
    },
    {
      "cell_type": "code",
      "source": [
        "n1=np.array([[1,2],[3,4]])\n",
        "n2=np.array([4,5])\n",
        "n3=np.dot(n1, n2)\n",
        "print(n3)"
      ],
      "metadata": {
        "colab": {
          "base_uri": "https://localhost:8080/"
        },
        "id": "E-Egrjxvu8EQ",
        "outputId": "62461541-a94a-40dd-a122-0748dda29b53"
      },
      "execution_count": 29,
      "outputs": [
        {
          "output_type": "stream",
          "name": "stdout",
          "text": [
            "[14 32]\n"
          ]
        }
      ]
    },
    {
      "cell_type": "code",
      "source": [
        "n1 = np.array([1,2,3,4])\n",
        "n2 = n1.reshape((2,2))\n",
        "print(n2)"
      ],
      "metadata": {
        "colab": {
          "base_uri": "https://localhost:8080/"
        },
        "id": "gw7hLNVEwC_o",
        "outputId": "57b1599b-12a7-402a-af8e-de2ec567266b"
      },
      "execution_count": 30,
      "outputs": [
        {
          "output_type": "stream",
          "name": "stdout",
          "text": [
            "[[1 2]\n",
            " [3 4]]\n"
          ]
        }
      ]
    },
    {
      "cell_type": "code",
      "source": [
        "#전치행렬 : 행과 열을 교환하여 얻는 행렬\n",
        "\n",
        "n3=np.transpose(n2)\n",
        "print(n3)"
      ],
      "metadata": {
        "colab": {
          "base_uri": "https://localhost:8080/"
        },
        "id": "jBtcJmn7wdO6",
        "outputId": "e269cbff-e66f-4606-e9d3-d414843a0220"
      },
      "execution_count": 31,
      "outputs": [
        {
          "output_type": "stream",
          "name": "stdout",
          "text": [
            "[[1 3]\n",
            " [2 4]]\n"
          ]
        }
      ]
    },
    {
      "cell_type": "code",
      "source": [
        "#반전 (원소의 메모리)\n",
        "\n",
        "n3=np.invert(n2)\n",
        "print(n3)"
      ],
      "metadata": {
        "colab": {
          "base_uri": "https://localhost:8080/"
        },
        "id": "0Un_VTw6wsR_",
        "outputId": "56bc2786-6106-4dec-e573-334528bbfcb5"
      },
      "execution_count": 34,
      "outputs": [
        {
          "output_type": "stream",
          "name": "stdout",
          "text": [
            "[[-2 -3]\n",
            " [-4 -5]]\n"
          ]
        }
      ]
    },
    {
      "cell_type": "code",
      "source": [
        "#역행렬 : 각행렬 AA의 곱셈에 대한 역원 A^{-1}A −1\n",
        "#A*B = 단위행렬(E) 일 때, B를 A의 역행렬 A-1로 표시\n",
        "\n",
        "n3 = np.linalg.inv(n2)"
      ],
      "metadata": {
        "id": "rLXVPJFi1rpd"
      },
      "execution_count": 35,
      "outputs": []
    },
    {
      "cell_type": "code",
      "source": [
        "n4 = n2.dot(n3)\n",
        "print(n4)"
      ],
      "metadata": {
        "colab": {
          "base_uri": "https://localhost:8080/"
        },
        "id": "3OZf6FmO1xCq",
        "outputId": "a319b862-d167-40b5-d9b1-421e5330a8d9"
      },
      "execution_count": 36,
      "outputs": [
        {
          "output_type": "stream",
          "name": "stdout",
          "text": [
            "[[1.0000000e+00 0.0000000e+00]\n",
            " [8.8817842e-16 1.0000000e+00]]\n"
          ]
        }
      ]
    },
    {
      "cell_type": "markdown",
      "source": [
        "통계 관련"
      ],
      "metadata": {
        "id": "h0uW07qw6-9D"
      }
    },
    {
      "cell_type": "code",
      "source": [
        "n1 = np.random.randint(1, 100, 30, dtype=int)\n",
        "print(n1)\n",
        "print(\"길이 : \", len(n1))\n",
        "print(\"평균 : \", n1.mean())"
      ],
      "metadata": {
        "colab": {
          "base_uri": "https://localhost:8080/"
        },
        "id": "3j0mcVr76_zZ",
        "outputId": "4b2a7c58-c6c9-4221-f270-8d1d33e90a99"
      },
      "execution_count": 37,
      "outputs": [
        {
          "output_type": "stream",
          "name": "stdout",
          "text": [
            "[73 88 64  5 57 71 94 62  4 71 43 50 58 50 96 79 85 58 89 77 78 39 64 35\n",
            " 30 49 56 29 92 27]\n",
            "길이 :  30\n"
          ]
        }
      ]
    },
    {
      "cell_type": "code",
      "source": [
        "n2=n1-n1.mean()\n",
        "print(\"수평 이동한 후 평균 : \", n2.mean())"
      ],
      "metadata": {
        "colab": {
          "base_uri": "https://localhost:8080/"
        },
        "id": "lW3cejnf7d-V",
        "outputId": "1c46e470-5c5f-484a-c3cd-4ee8ece4ae07"
      },
      "execution_count": 38,
      "outputs": [
        {
          "output_type": "stream",
          "name": "stdout",
          "text": [
            "수평 이동한 후 평균 :  -1.8947806286936005e-15\n"
          ]
        }
      ]
    },
    {
      "cell_type": "code",
      "source": [
        "print(\"최대값 위치 : \", n1.argmax())\n",
        "print(\"최대값 : \", n1[16])\n",
        "print(\"최대값 : \", n1.max())\n"
      ],
      "metadata": {
        "colab": {
          "base_uri": "https://localhost:8080/"
        },
        "id": "NiBf_j6O7jXO",
        "outputId": "2f8083ff-07a2-45b6-d853-80b6ea22dd03"
      },
      "execution_count": 40,
      "outputs": [
        {
          "output_type": "stream",
          "name": "stdout",
          "text": [
            "최대값 위치 :  14\n",
            "최대값 :  85\n",
            "최대값 :  96\n"
          ]
        }
      ]
    },
    {
      "cell_type": "code",
      "source": [
        "print(\"분산 : \", n1.var())\n",
        "print(\"표준편차 : \", n1.std())"
      ],
      "metadata": {
        "colab": {
          "base_uri": "https://localhost:8080/"
        },
        "id": "jhP7xiXh8Cru",
        "outputId": "237a890e-0fb4-418c-dd99-3badf992b759"
      },
      "execution_count": 41,
      "outputs": [
        {
          "output_type": "stream",
          "name": "stdout",
          "text": [
            "분산 :  598.09\n",
            "표준편차 :  24.455878638887626\n"
          ]
        }
      ]
    },
    {
      "cell_type": "code",
      "source": [
        "n2 = n1/n1.std()\n",
        "print(\"스케일 조절한 후 표준 편차 : \" , n2.std())"
      ],
      "metadata": {
        "colab": {
          "base_uri": "https://localhost:8080/"
        },
        "id": "UbuWwr7H8H_0",
        "outputId": "db2d3514-be2f-46f4-8c75-e78ceee6d3f9"
      },
      "execution_count": 42,
      "outputs": [
        {
          "output_type": "stream",
          "name": "stdout",
          "text": [
            "스케일 조절한 후 표준 편차 :  1.0\n"
          ]
        }
      ]
    },
    {
      "cell_type": "code",
      "source": [
        "print(\"최솟값 : \", n1.min()) #n1으로 접근은 객체의 멤버메소드\n",
        "print(\"최대값 : \", np.median(n1)) #np로 접근은 정적메소드\n",
        "print(\"1/4분위값 : \",np.percentile(n1, 0.25)) \n",
        "print(\"3/4분위값 : \", np.percentile(n1, 0.75))"
      ],
      "metadata": {
        "colab": {
          "base_uri": "https://localhost:8080/"
        },
        "id": "HS37T8hj8obz",
        "outputId": "d8e0d8d8-16f1-4f01-9f98-426063668b89"
      },
      "execution_count": 48,
      "outputs": [
        {
          "output_type": "stream",
          "name": "stdout",
          "text": [
            "최솟값 :  4\n",
            "최대값 :  60.0\n",
            "1/4분위값 :  4.0725\n",
            "3/4분위값 :  4.2175\n"
          ]
        }
      ]
    },
    {
      "cell_type": "code",
      "source": [
        "print(n1)\n",
        "print()\n",
        "print(\"누적 합: \", np.cumsum(n1))"
      ],
      "metadata": {
        "colab": {
          "base_uri": "https://localhost:8080/"
        },
        "id": "mfvCx-1S9UaP",
        "outputId": "ccaf8256-0c25-43a7-a382-1b1eab1e1b98"
      },
      "execution_count": 49,
      "outputs": [
        {
          "output_type": "stream",
          "name": "stdout",
          "text": [
            "[73 88 64  5 57 71 94 62  4 71 43 50 58 50 96 79 85 58 89 77 78 39 64 35\n",
            " 30 49 56 29 92 27]\n",
            "\n",
            "누적 합:  [  73  161  225  230  287  358  452  514  518  589  632  682  740  790\n",
            "  886  965 1050 1108 1197 1274 1352 1391 1455 1490 1520 1569 1625 1654\n",
            " 1746 1773]\n"
          ]
        }
      ]
    },
    {
      "cell_type": "code",
      "source": [
        "print(n1)\n",
        "print()\n",
        "print(\"누적 곱 : \", np.cumprod(n1))"
      ],
      "metadata": {
        "colab": {
          "base_uri": "https://localhost:8080/"
        },
        "id": "IvJQ-41c9aFk",
        "outputId": "6bcb5a99-6f83-4e96-9cc4-aeed62c86853"
      },
      "execution_count": 50,
      "outputs": [
        {
          "output_type": "stream",
          "name": "stdout",
          "text": [
            "[73 88 64  5 57 71 94 62  4 71 43 50 58 50 96 79 85 58 89 77 78 39 64 35\n",
            " 30 49 56 29 92 27]\n",
            "\n",
            "누적 곱 :  [                  73                 6424               411136\n",
            "              2055680            117173760           8319336960\n",
            "         782017674240       48485095802880      193940383211520\n",
            "    13769767208017920   592099989944770560 -7288488650180575232\n",
            "  1542771984846323712  3351622947477979136  8161153704823619584\n",
            "  -904899898768359424 -3129515100472344576  2955564909699530752\n",
            "  4790859931324514304   -38666762203430912 -3016007451867611136\n",
            " -6943826180579524608 -1683017788060336128 -3565390360983109632\n",
            "  3718753612764020736 -2248513711658500096  3210440663090855936\n",
            "   869058861087064064  6166438925171687424   473154316249595904]\n"
          ]
        }
      ]
    }
  ]
}