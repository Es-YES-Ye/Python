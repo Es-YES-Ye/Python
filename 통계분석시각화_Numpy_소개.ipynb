{
  "nbformat": 4,
  "nbformat_minor": 0,
  "metadata": {
    "colab": {
      "name": "통계분석시각화-Numpy 소개.ipynb",
      "provenance": [],
      "authorship_tag": "ABX9TyPiaRDfFjj6/I363I+FbOS2",
      "include_colab_link": true
    },
    "kernelspec": {
      "name": "python3",
      "display_name": "Python 3"
    },
    "language_info": {
      "name": "python"
    }
  },
  "cells": [
    {
      "cell_type": "markdown",
      "metadata": {
        "id": "view-in-github",
        "colab_type": "text"
      },
      "source": [
        "<a href=\"https://colab.research.google.com/github/Es-YES-Ye/Python/blob/main/%ED%86%B5%EA%B3%84%EB%B6%84%EC%84%9D%EC%8B%9C%EA%B0%81%ED%99%94_Numpy_%EC%86%8C%EA%B0%9C.ipynb\" target=\"_parent\"><img src=\"https://colab.research.google.com/assets/colab-badge.svg\" alt=\"Open In Colab\"/></a>"
      ]
    },
    {
      "cell_type": "markdown",
      "source": [
        "#Numpy 소개"
      ],
      "metadata": {
        "id": "KcenEPmAN_kN"
      }
    },
    {
      "cell_type": "code",
      "execution_count": 26,
      "metadata": {
        "id": "P-DDBiUwMpGK"
      },
      "outputs": [],
      "source": [
        "import numpy as np"
      ]
    },
    {
      "cell_type": "markdown",
      "source": [
        "numpy는 선형 시퀀스(튜플, 리스트)를 배열 개체로 취급\n",
        "\n",
        "한 줄로 쭉 들어가있는 데이터의 집합 -> 선형 시퀀스"
      ],
      "metadata": {
        "id": "DczkYC4QObi-"
      }
    },
    {
      "cell_type": "code",
      "source": [
        "ls = [1,2,3]\n",
        "arr = np.array(ls)\n",
        "print(arr)"
      ],
      "metadata": {
        "colab": {
          "base_uri": "https://localhost:8080/"
        },
        "id": "Y_Znhb4jOJsv",
        "outputId": "5a27df8e-97b4-466c-a366-b18c4056467f"
      },
      "execution_count": 2,
      "outputs": [
        {
          "output_type": "stream",
          "name": "stdout",
          "text": [
            "[1 2 3]\n"
          ]
        }
      ]
    },
    {
      "cell_type": "code",
      "source": [
        "#직접 만들 수도 있고, 리스트 변수를 넣어서 만들 수도 있다\n",
        "\n",
        "arr = np.array([1,2,3])\n",
        "print(arr)"
      ],
      "metadata": {
        "colab": {
          "base_uri": "https://localhost:8080/"
        },
        "id": "t6VST5i4OghF",
        "outputId": "fe271085-94a6-4685-9c7d-f4912a4525ce"
      },
      "execution_count": 4,
      "outputs": [
        {
          "output_type": "stream",
          "name": "stdout",
          "text": [
            "[1 2 3]\n"
          ]
        }
      ]
    },
    {
      "cell_type": "code",
      "source": [
        "print(\"구조 : \", arr.shape)\n",
        "print(\"차원 : \", arr.ndim)"
      ],
      "metadata": {
        "colab": {
          "base_uri": "https://localhost:8080/"
        },
        "id": "E4H7geN_OxQn",
        "outputId": "f6f7dce4-267f-4f87-e246-ec3a3fb9cf70"
      },
      "execution_count": 5,
      "outputs": [
        {
          "output_type": "stream",
          "name": "stdout",
          "text": [
            "구조 :  (3,)\n",
            "차원 :  1\n"
          ]
        }
      ]
    },
    {
      "cell_type": "markdown",
      "source": [
        "#다차원 배열\n",
        "tensor \n",
        "tensorflow 모듈"
      ],
      "metadata": {
        "id": "hlfjM6gQPRwU"
      }
    },
    {
      "cell_type": "code",
      "source": [
        "ls = [[1,2,3], [4,5,6], [7,8,9], [10,11,12]]\n",
        "arr = np.array(ls)\n",
        "print(arr)"
      ],
      "metadata": {
        "colab": {
          "base_uri": "https://localhost:8080/"
        },
        "id": "GMDvY-DqPQy3",
        "outputId": "0e13b2fb-d3f7-4ae2-d791-86ca8146d01f"
      },
      "execution_count": 6,
      "outputs": [
        {
          "output_type": "stream",
          "name": "stdout",
          "text": [
            "[[ 1  2  3]\n",
            " [ 4  5  6]\n",
            " [ 7  8  9]\n",
            " [10 11 12]]\n"
          ]
        }
      ]
    },
    {
      "cell_type": "code",
      "source": [
        "print(\"구조 : \", arr.shape)\n",
        "print(\"차원 : \", arr.ndim)"
      ],
      "metadata": {
        "colab": {
          "base_uri": "https://localhost:8080/"
        },
        "id": "io2Fzu68PfIf",
        "outputId": "d9def436-efe0-45c7-d37d-7e59b82b2dc8"
      },
      "execution_count": 8,
      "outputs": [
        {
          "output_type": "stream",
          "name": "stdout",
          "text": [
            "구조 :  (4, 3)\n",
            "차원 :  2\n"
          ]
        }
      ]
    },
    {
      "cell_type": "markdown",
      "source": [
        "#다양한 방법의 생성"
      ],
      "metadata": {
        "id": "yjKBMpJOQVUo"
      }
    },
    {
      "cell_type": "code",
      "source": [
        "#전체 구성요소가 zero로 되어있는 걸 원할 때\n",
        "#초기값을 0으로 정해놓고 값을 나중에 변경할 때 사용한다.\n",
        "#https://numpy.org/doc/stable/reference/generated/numpy.zeros.html?highlight=numpy%20zeros#numpy.zeros\n",
        "\n",
        "z_arr = np.zeros(10)\n",
        "print(z_arr)\n",
        "print(\"구조 : \", z_arr.shape)\n",
        "print(\"차원 : \", z_arr.ndim)\n",
        "print(\"원소형식 : \", z_arr.dtype)\n",
        "#64비트짜리 float"
      ],
      "metadata": {
        "colab": {
          "base_uri": "https://localhost:8080/"
        },
        "id": "R-1qamh6QXRS",
        "outputId": "94478b10-d90d-4ddc-bf2e-0b35f7585716"
      },
      "execution_count": 10,
      "outputs": [
        {
          "output_type": "stream",
          "name": "stdout",
          "text": [
            "[0. 0. 0. 0. 0. 0. 0. 0. 0. 0.]\n",
            "구조 :  (10,)\n",
            "차원 :  1\n",
            "원소형식 :  float64\n"
          ]
        }
      ]
    },
    {
      "cell_type": "code",
      "source": [
        "#원하는 타입으로 지정하면 원하는 형식으로 만들 수 있다.\n",
        "\n",
        "z_arr = np.zeros(10, dtype=int) \n",
        "print(z_arr)\n",
        "print(\"구조 : \", z_arr.shape)\n",
        "print(\"차원 : \", z_arr.ndim)\n",
        "print(\"원소형식 : \", z_arr.dtype)\n"
      ],
      "metadata": {
        "id": "efAAILReR59s"
      },
      "execution_count": null,
      "outputs": []
    },
    {
      "cell_type": "code",
      "source": [
        "#\n",
        "z_arr = np.zeros((2,3))\n",
        "print(z_arr)\n",
        "print(\"구조 : \", z_arr.shape)\n",
        "print(\"차원 : \", z_arr.ndim)\n",
        "print(\"원소형식 : \", z_arr.dtype)"
      ],
      "metadata": {
        "colab": {
          "base_uri": "https://localhost:8080/"
        },
        "id": "37zKeAMJS5xX",
        "outputId": "177e2381-c3ac-4646-d3d2-41c0b60be974"
      },
      "execution_count": 11,
      "outputs": [
        {
          "output_type": "stream",
          "name": "stdout",
          "text": [
            "[[0. 0. 0.]\n",
            " [0. 0. 0.]]\n",
            "구조 :  (2, 3)\n",
            "차원 :  2\n",
            "원소형식 :  float64\n"
          ]
        }
      ]
    },
    {
      "cell_type": "code",
      "source": [
        "def view_arr_info(arr):\n",
        "  print(arr)\n",
        "  print(\"구조 : \", arr.shape)\n",
        "  print(\"차원 : \", arr.ndim)\n",
        "  print(\"원소형식 : \", arr.dtype)"
      ],
      "metadata": {
        "id": "cfA2XuyETdMQ"
      },
      "execution_count": 17,
      "outputs": []
    },
    {
      "cell_type": "code",
      "source": [
        "z_arr = np.zeros((3,2,4), dtype=int)\n",
        "view_arr_info(z_arr)"
      ],
      "metadata": {
        "colab": {
          "base_uri": "https://localhost:8080/"
        },
        "id": "fFjwKIMuTjnJ",
        "outputId": "a82d7835-c30c-4985-acd1-d4bdc06716f9"
      },
      "execution_count": 18,
      "outputs": [
        {
          "output_type": "stream",
          "name": "stdout",
          "text": [
            "[[[0 0 0 0]\n",
            "  [0 0 0 0]]\n",
            "\n",
            " [[0 0 0 0]\n",
            "  [0 0 0 0]]\n",
            "\n",
            " [[0 0 0 0]\n",
            "  [0 0 0 0]]]\n",
            "구조 :  (3, 2, 4)\n",
            "차원 :  3\n",
            "원소형식 :  int64\n"
          ]
        }
      ]
    },
    {
      "cell_type": "code",
      "source": [
        "o_arr = np.ones(10)\n",
        "view_arr_info(o_arr)"
      ],
      "metadata": {
        "colab": {
          "base_uri": "https://localhost:8080/"
        },
        "id": "slnOuwoeU1A_",
        "outputId": "83bd37e2-1187-4eeb-d5d8-0de0517911e2"
      },
      "execution_count": 19,
      "outputs": [
        {
          "output_type": "stream",
          "name": "stdout",
          "text": [
            "[1. 1. 1. 1. 1. 1. 1. 1. 1. 1.]\n",
            "구조 :  (10,)\n",
            "차원 :  1\n",
            "원소형식 :  float64\n"
          ]
        }
      ]
    },
    {
      "cell_type": "code",
      "source": [
        "s_arr = np.arange(100)\n",
        "view_arr_info(s_arr)"
      ],
      "metadata": {
        "colab": {
          "base_uri": "https://localhost:8080/"
        },
        "id": "POlqqUTHaGW2",
        "outputId": "b0c52ad5-3104-4d88-b252-f6a56857283b"
      },
      "execution_count": 21,
      "outputs": [
        {
          "output_type": "stream",
          "name": "stdout",
          "text": [
            "[ 0  1  2  3  4  5  6  7  8  9 10 11 12 13 14 15 16 17 18 19 20 21 22 23\n",
            " 24 25 26 27 28 29 30 31 32 33 34 35 36 37 38 39 40 41 42 43 44 45 46 47\n",
            " 48 49 50 51 52 53 54 55 56 57 58 59 60 61 62 63 64 65 66 67 68 69 70 71\n",
            " 72 73 74 75 76 77 78 79 80 81 82 83 84 85 86 87 88 89 90 91 92 93 94 95\n",
            " 96 97 98 99]\n",
            "구조 :  (100,)\n",
            "차원 :  1\n",
            "원소형식 :  int64\n"
          ]
        }
      ]
    },
    {
      "cell_type": "code",
      "source": [
        "s_arr = np.arange(50, 100)\n",
        "view_arr_info(s_arr)"
      ],
      "metadata": {
        "colab": {
          "base_uri": "https://localhost:8080/"
        },
        "id": "DZQ7dHi3ab9g",
        "outputId": "35468f46-142a-46a2-a96f-93063c566837"
      },
      "execution_count": 22,
      "outputs": [
        {
          "output_type": "stream",
          "name": "stdout",
          "text": [
            "[50 51 52 53 54 55 56 57 58 59 60 61 62 63 64 65 66 67 68 69 70 71 72 73\n",
            " 74 75 76 77 78 79 80 81 82 83 84 85 86 87 88 89 90 91 92 93 94 95 96 97\n",
            " 98 99]\n",
            "구조 :  (50,)\n",
            "차원 :  1\n",
            "원소형식 :  int64\n"
          ]
        }
      ]
    },
    {
      "cell_type": "code",
      "source": [
        "r_arr = np.random.randint(0,100,size=10,dtype=int)\n",
        "view_arr_info(r_arr)\n",
        "\n",
        "#https://numpy.org/doc/stable/user/basics.creation.html"
      ],
      "metadata": {
        "colab": {
          "base_uri": "https://localhost:8080/"
        },
        "id": "vbLp0lxcarLP",
        "outputId": "19d697fb-5945-4036-b660-954d7009ec32"
      },
      "execution_count": 23,
      "outputs": [
        {
          "output_type": "stream",
          "name": "stdout",
          "text": [
            "[66 57 16 34 44 31 33 95 70 10]\n",
            "구조 :  (10,)\n",
            "차원 :  1\n",
            "원소형식 :  int64\n"
          ]
        }
      ]
    },
    {
      "cell_type": "markdown",
      "source": [
        "#기본적인 사용"
      ],
      "metadata": {
        "id": "0qOFhN6Uectf"
      }
    },
    {
      "cell_type": "code",
      "source": [
        "a1 = np.arange(1,100)\n",
        "view_arr_info(a1)"
      ],
      "metadata": {
        "colab": {
          "base_uri": "https://localhost:8080/"
        },
        "id": "fU1zfsrpd91t",
        "outputId": "d9753bd2-abd3-4399-a70a-07198c2ce74a"
      },
      "execution_count": 33,
      "outputs": [
        {
          "output_type": "stream",
          "name": "stdout",
          "text": [
            "[ 1  2  3  4  5  6  7  8  9 10 11 12 13 14 15 16 17 18 19 20 21 22 23 24\n",
            " 25 26 27 28 29 30 31 32 33 34 35 36 37 38 39 40 41 42 43 44 45 46 47 48\n",
            " 49 50 51 52 53 54 55 56 57 58 59 60 61 62 63 64 65 66 67 68 69 70 71 72\n",
            " 73 74 75 76 77 78 79 80 81 82 83 84 85 86 87 88 89 90 91 92 93 94 95 96\n",
            " 97 98 99]\n",
            "구조 :  (99,)\n",
            "차원 :  1\n",
            "원소형식 :  int64\n"
          ]
        }
      ]
    },
    {
      "cell_type": "code",
      "source": [
        "print(a1[4]) #인덱스를 통해 원소에 접근\n",
        "a1[4] = 9\n",
        "print(a1[4])"
      ],
      "metadata": {
        "colab": {
          "base_uri": "https://localhost:8080/"
        },
        "id": "tAOI9_bwd4GU",
        "outputId": "dcc7f265-bc4e-4e91-fb2e-07693e6aacc9"
      },
      "execution_count": 34,
      "outputs": [
        {
          "output_type": "stream",
          "name": "stdout",
          "text": [
            "5\n",
            "9\n"
          ]
        }
      ]
    },
    {
      "cell_type": "code",
      "source": [
        "print(a1[2:8])\n",
        "print(a1[:8])\n",
        "print(a1[8:])\n"
      ],
      "metadata": {
        "colab": {
          "base_uri": "https://localhost:8080/"
        },
        "id": "37_bynoieVo8",
        "outputId": "bebb0776-9298-4cec-a710-8b0c66c9d0d2"
      },
      "execution_count": 35,
      "outputs": [
        {
          "output_type": "stream",
          "name": "stdout",
          "text": [
            "[3 4 9 6 7 8]\n",
            "[1 2 3 4 9 6 7 8]\n",
            "[ 9 10 11 12 13 14 15 16 17 18 19 20 21 22 23 24 25 26 27 28 29 30 31 32\n",
            " 33 34 35 36 37 38 39 40 41 42 43 44 45 46 47 48 49 50 51 52 53 54 55 56\n",
            " 57 58 59 60 61 62 63 64 65 66 67 68 69 70 71 72 73 74 75 76 77 78 79 80\n",
            " 81 82 83 84 85 86 87 88 89 90 91 92 93 94 95 96 97 98 99]\n"
          ]
        }
      ]
    },
    {
      "cell_type": "code",
      "source": [
        "a1=np.arange(0,100)\n",
        "view_arr_info(a1)\n",
        "a2=a1.reshape(5,20)\n",
        "view_arr_info(a2)"
      ],
      "metadata": {
        "colab": {
          "base_uri": "https://localhost:8080/"
        },
        "id": "NncIfwJhee25",
        "outputId": "ab5b4fc0-4b29-4a67-da35-3d4e80447951"
      },
      "execution_count": 39,
      "outputs": [
        {
          "output_type": "stream",
          "name": "stdout",
          "text": [
            "[ 0  1  2  3  4  5  6  7  8  9 10 11 12 13 14 15 16 17 18 19 20 21 22 23\n",
            " 24 25 26 27 28 29 30 31 32 33 34 35 36 37 38 39 40 41 42 43 44 45 46 47\n",
            " 48 49 50 51 52 53 54 55 56 57 58 59 60 61 62 63 64 65 66 67 68 69 70 71\n",
            " 72 73 74 75 76 77 78 79 80 81 82 83 84 85 86 87 88 89 90 91 92 93 94 95\n",
            " 96 97 98 99]\n",
            "구조 :  (100,)\n",
            "차원 :  1\n",
            "원소형식 :  int64\n",
            "[[ 0  1  2  3  4  5  6  7  8  9 10 11 12 13 14 15 16 17 18 19]\n",
            " [20 21 22 23 24 25 26 27 28 29 30 31 32 33 34 35 36 37 38 39]\n",
            " [40 41 42 43 44 45 46 47 48 49 50 51 52 53 54 55 56 57 58 59]\n",
            " [60 61 62 63 64 65 66 67 68 69 70 71 72 73 74 75 76 77 78 79]\n",
            " [80 81 82 83 84 85 86 87 88 89 90 91 92 93 94 95 96 97 98 99]]\n",
            "구조 :  (5, 20)\n",
            "차원 :  2\n",
            "원소형식 :  int64\n"
          ]
        }
      ]
    },
    {
      "cell_type": "code",
      "source": [
        "print(a2[0]) #인덱스 0인 원소 : 리스트[0,1,2,...,19]\n",
        "print(a2[0][0]) #인덱스 0인 원소 : 리스트[0,1,2,3,...,19]의 인덱스 2인 원소"
      ],
      "metadata": {
        "colab": {
          "base_uri": "https://localhost:8080/"
        },
        "id": "9_GvGeRre7pb",
        "outputId": "78f68cc7-c3ea-4b61-fbfc-1962dc786a1a"
      },
      "execution_count": 40,
      "outputs": [
        {
          "output_type": "stream",
          "name": "stdout",
          "text": [
            "[ 0  1  2  3  4  5  6  7  8  9 10 11 12 13 14 15 16 17 18 19]\n",
            "0\n"
          ]
        }
      ]
    },
    {
      "cell_type": "code",
      "source": [
        "#음의 정수로 인덱스를 표현하면 뒤에서부터 접근(-1부터 시작)\n",
        "print(a2[0][-1]) #인덱스 0인 원소 : 리스트[0,1,2,...,19]의 인덱스 -1인 원소"
      ],
      "metadata": {
        "id": "RgxszsCmfUFz"
      },
      "execution_count": null,
      "outputs": []
    },
    {
      "cell_type": "markdown",
      "source": [
        "#구조 변경"
      ],
      "metadata": {
        "id": "_5QEnjJtfylT"
      }
    },
    {
      "cell_type": "code",
      "source": [
        "a1=np.arange(100)\n",
        "view_arr_info(a1)"
      ],
      "metadata": {
        "colab": {
          "base_uri": "https://localhost:8080/"
        },
        "id": "DltrdVNRfzjy",
        "outputId": "ba803223-74cd-40fd-8675-78eb57a4e5ee"
      },
      "execution_count": 41,
      "outputs": [
        {
          "output_type": "stream",
          "name": "stdout",
          "text": [
            "[ 0  1  2  3  4  5  6  7  8  9 10 11 12 13 14 15 16 17 18 19 20 21 22 23\n",
            " 24 25 26 27 28 29 30 31 32 33 34 35 36 37 38 39 40 41 42 43 44 45 46 47\n",
            " 48 49 50 51 52 53 54 55 56 57 58 59 60 61 62 63 64 65 66 67 68 69 70 71\n",
            " 72 73 74 75 76 77 78 79 80 81 82 83 84 85 86 87 88 89 90 91 92 93 94 95\n",
            " 96 97 98 99]\n",
            "구조 :  (100,)\n",
            "차원 :  1\n",
            "원소형식 :  int64\n"
          ]
        }
      ]
    },
    {
      "cell_type": "code",
      "source": [
        "a4=a1.reshape((5,2,5,-1))\n",
        "view_arr_info(a4)"
      ],
      "metadata": {
        "colab": {
          "base_uri": "https://localhost:8080/"
        },
        "id": "90lp8sl1gIuI",
        "outputId": "a20cab15-b846-4d5e-8dbb-ee3eda6c77d4"
      },
      "execution_count": 43,
      "outputs": [
        {
          "output_type": "stream",
          "name": "stdout",
          "text": [
            "[[[[ 0  1]\n",
            "   [ 2  3]\n",
            "   [ 4  5]\n",
            "   [ 6  7]\n",
            "   [ 8  9]]\n",
            "\n",
            "  [[10 11]\n",
            "   [12 13]\n",
            "   [14 15]\n",
            "   [16 17]\n",
            "   [18 19]]]\n",
            "\n",
            "\n",
            " [[[20 21]\n",
            "   [22 23]\n",
            "   [24 25]\n",
            "   [26 27]\n",
            "   [28 29]]\n",
            "\n",
            "  [[30 31]\n",
            "   [32 33]\n",
            "   [34 35]\n",
            "   [36 37]\n",
            "   [38 39]]]\n",
            "\n",
            "\n",
            " [[[40 41]\n",
            "   [42 43]\n",
            "   [44 45]\n",
            "   [46 47]\n",
            "   [48 49]]\n",
            "\n",
            "  [[50 51]\n",
            "   [52 53]\n",
            "   [54 55]\n",
            "   [56 57]\n",
            "   [58 59]]]\n",
            "\n",
            "\n",
            " [[[60 61]\n",
            "   [62 63]\n",
            "   [64 65]\n",
            "   [66 67]\n",
            "   [68 69]]\n",
            "\n",
            "  [[70 71]\n",
            "   [72 73]\n",
            "   [74 75]\n",
            "   [76 77]\n",
            "   [78 79]]]\n",
            "\n",
            "\n",
            " [[[80 81]\n",
            "   [82 83]\n",
            "   [84 85]\n",
            "   [86 87]\n",
            "   [88 89]]\n",
            "\n",
            "  [[90 91]\n",
            "   [92 93]\n",
            "   [94 95]\n",
            "   [96 97]\n",
            "   [98 99]]]]\n",
            "구조 :  (5, 2, 5, 2)\n",
            "차원 :  4\n",
            "원소형식 :  int64\n"
          ]
        }
      ]
    },
    {
      "cell_type": "code",
      "source": [
        "a1=np.arange(784)\n",
        "view_arr_info(a1)"
      ],
      "metadata": {
        "id": "C1WuObMqgUwu"
      },
      "execution_count": null,
      "outputs": []
    },
    {
      "cell_type": "code",
      "source": [
        "a2=a1.reshape(28,-1) #-1을 주면 알아서 배열을 해준다.\n",
        "view_arr_info(a2) "
      ],
      "metadata": {
        "id": "8ehF_bNKglhN"
      },
      "execution_count": null,
      "outputs": []
    },
    {
      "cell_type": "markdown",
      "source": [
        "#쉬어가는 코너"
      ],
      "metadata": {
        "id": "wl2dOi6jh5Cg"
      }
    },
    {
      "cell_type": "code",
      "source": [
        "from tensorflow import keras"
      ],
      "metadata": {
        "id": "HkbKAcJsh93C"
      },
      "execution_count": 61,
      "outputs": []
    },
    {
      "cell_type": "code",
      "source": [
        "data = keras.datasets.mnist.load_data() #손글씨 데이터를 다운로드"
      ],
      "metadata": {
        "id": "qBqdIWoagOjo"
      },
      "execution_count": 62,
      "outputs": []
    },
    {
      "cell_type": "code",
      "source": [
        "train_data, test_data = data #학습용 데이터, 평가용 데이터로 분리\n",
        "image_train, label_train = train_data #이미지, 실제값"
      ],
      "metadata": {
        "id": "px-xhCDqigkk"
      },
      "execution_count": 63,
      "outputs": []
    },
    {
      "cell_type": "code",
      "source": [
        "print(image_train.shape) #너비가 28 높이가 28 의 흑백이미지\n",
        "print(label_train.shape) #"
      ],
      "metadata": {
        "colab": {
          "base_uri": "https://localhost:8080/"
        },
        "id": "DQLBX73eiyrr",
        "outputId": "4f891db3-abd9-484d-829e-8abec9205a31"
      },
      "execution_count": 64,
      "outputs": [
        {
          "output_type": "stream",
          "name": "stdout",
          "text": [
            "(60000, 28, 28)\n",
            "(60000,)\n"
          ]
        }
      ]
    },
    {
      "cell_type": "code",
      "source": [
        "for r in range(28):\n",
        "  for c in range(28):\n",
        "    if(image_train[0][r][c] == 0):\n",
        "      print(\"  \",end='')\n",
        "    else:\n",
        "      print(\"■\",end='')\n",
        "  print()\n",
        "print(label_train[0])"
      ],
      "metadata": {
        "colab": {
          "base_uri": "https://localhost:8080/"
        },
        "id": "S1tTc47ojJ1D",
        "outputId": "175ad225-eb90-45d9-97dd-f179cee3a8b3"
      },
      "execution_count": 65,
      "outputs": [
        {
          "output_type": "stream",
          "name": "stdout",
          "text": [
            "                                                        \n",
            "                                                        \n",
            "                                                        \n",
            "                                                        \n",
            "                                                        \n",
            "                        ■■■■■■■■■■■■        \n",
            "                ■■■■■■■■■■■■■■■■        \n",
            "              ■■■■■■■■■■■■■■■■          \n",
            "              ■■■■■■■■■■■                    \n",
            "                ■■■■■■■  ■■                    \n",
            "                  ■■■■■                            \n",
            "                      ■■■■                          \n",
            "                      ■■■■                          \n",
            "                        ■■■■■■                    \n",
            "                          ■■■■■■                  \n",
            "                            ■■■■■■                \n",
            "                              ■■■■■                \n",
            "                                  ■■■■              \n",
            "                            ■■■■■■■              \n",
            "                        ■■■■■■■■                \n",
            "                    ■■■■■■■■■                  \n",
            "                ■■■■■■■■■■                    \n",
            "            ■■■■■■■■■■                        \n",
            "        ■■■■■■■■■■                            \n",
            "        ■■■■■■■■                                \n",
            "                                                        \n",
            "                                                        \n",
            "                                                        \n",
            "5\n"
          ]
        }
      ]
    }
  ]
}