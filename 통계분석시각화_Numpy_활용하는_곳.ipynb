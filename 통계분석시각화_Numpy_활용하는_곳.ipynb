{
  "nbformat": 4,
  "nbformat_minor": 0,
  "metadata": {
    "colab": {
      "name": "통계분석시각화 - Numpy 활용하는 곳.ipynb",
      "provenance": [],
      "collapsed_sections": [],
      "mount_file_id": "1kLiFPKpjZpttnaTLf6ixPJhgGeJunTDw",
      "authorship_tag": "ABX9TyP3rWcKtCl8Dxv/cSge7JA+",
      "include_colab_link": true
    },
    "kernelspec": {
      "name": "python3",
      "display_name": "Python 3"
    },
    "language_info": {
      "name": "python"
    }
  },
  "cells": [
    {
      "cell_type": "markdown",
      "metadata": {
        "id": "view-in-github",
        "colab_type": "text"
      },
      "source": [
        "<a href=\"https://colab.research.google.com/github/Es-YES-Ye/Python/blob/main/%ED%86%B5%EA%B3%84%EB%B6%84%EC%84%9D%EC%8B%9C%EA%B0%81%ED%99%94_Numpy_%ED%99%9C%EC%9A%A9%ED%95%98%EB%8A%94_%EA%B3%B3.ipynb\" target=\"_parent\"><img src=\"https://colab.research.google.com/assets/colab-badge.svg\" alt=\"Open In Colab\"/></a>"
      ]
    },
    {
      "cell_type": "markdown",
      "source": [
        "#영상처리"
      ],
      "metadata": {
        "id": "EuKTaUm0Sjz_"
      }
    },
    {
      "cell_type": "code",
      "execution_count": 3,
      "metadata": {
        "id": "v2YoCSrRQfyy"
      },
      "outputs": [],
      "source": [
        "import cv2 #OpenCV 라이브러리를 사용하기 위한 구문\n",
        "from google.colab.patches import cv2_imshow #코랩에서 시각화를 위해 필요한 구문"
      ]
    },
    {
      "cell_type": "code",
      "source": [
        "cv2.__version__"
      ],
      "metadata": {
        "colab": {
          "base_uri": "https://localhost:8080/",
          "height": 35
        },
        "id": "MAQnq_qPS0a-",
        "outputId": "3d2ad770-778d-45f3-809a-266804022992"
      },
      "execution_count": 4,
      "outputs": [
        {
          "output_type": "execute_result",
          "data": {
            "application/vnd.google.colaboratory.intrinsic+json": {
              "type": "string"
            },
            "text/plain": [
              "'4.1.2'"
            ]
          },
          "metadata": {},
          "execution_count": 4
        }
      ]
    },
    {
      "cell_type": "code",
      "source": [
        "path = '/content/drive/MyDrive/module/ahooo.png'\n",
        "image = cv2.imread(path, cv2.IMREAD_COLOR)\n",
        "cv2_imshow(image)"
      ],
      "metadata": {
        "colab": {
          "base_uri": "https://localhost:8080/",
          "height": 227
        },
        "id": "DFLi27IYRLFS",
        "outputId": "0440cc9e-d867-4bb6-e807-fad89650ecae"
      },
      "execution_count": 5,
      "outputs": [
        {
          "output_type": "display_data",
          "data": {
            "image/png": "[encoded data removed]",
            "text/plain": [
              "<PIL.Image.Image image mode=RGB size=210x210 at 0x7F1DC6A52F90>"
            ]
          },
          "metadata": {}
        }
      ]
    },
    {
      "cell_type": "code",
      "source": [
        "print(type(image))"
      ],
      "metadata": {
        "colab": {
          "base_uri": "https://localhost:8080/"
        },
        "id": "fiMoNS3jTjRv",
        "outputId": "1d503b21-98a7-4731-d8b5-8a9283cbfe25"
      },
      "execution_count": 6,
      "outputs": [
        {
          "output_type": "stream",
          "name": "stdout",
          "text": [
            "<class 'numpy.ndarray'>\n"
          ]
        }
      ]
    },
    {
      "cell_type": "code",
      "source": [
        "print(image.shape) #3은 rgb 색상"
      ],
      "metadata": {
        "colab": {
          "base_uri": "https://localhost:8080/"
        },
        "id": "6mNSjcwET0cs",
        "outputId": "70219364-0152-45bd-eba6-cb8698051fa4"
      },
      "execution_count": 7,
      "outputs": [
        {
          "output_type": "stream",
          "name": "stdout",
          "text": [
            "(210, 210, 3)\n"
          ]
        }
      ]
    },
    {
      "cell_type": "markdown",
      "source": [
        "#빈 이미지 만들어서 작업하기"
      ],
      "metadata": {
        "id": "sfllYMzwVluF"
      }
    },
    {
      "cell_type": "code",
      "source": [
        "import numpy as np\n",
        "image = np.zeros((28,28,3), np.uint8)"
      ],
      "metadata": {
        "id": "r0-K4MZrVoBv"
      },
      "execution_count": 8,
      "outputs": []
    },
    {
      "cell_type": "code",
      "source": [
        "cv2_imshow(image)"
      ],
      "metadata": {
        "colab": {
          "base_uri": "https://localhost:8080/",
          "height": 45
        },
        "id": "rbjWs3VVVuYe",
        "outputId": "ba9cb108-e63a-4132-c8bb-e75eb3bb11c9"
      },
      "execution_count": 9,
      "outputs": [
        {
          "output_type": "display_data",
          "data": {
            "image/png": "[encoded data removed]",
            "text/plain": [
              "<PIL.Image.Image image mode=RGB size=28x28 at 0x7F1DC4C37890>"
            ]
          },
          "metadata": {}
        }
      ]
    },
    {
      "cell_type": "code",
      "source": [
        "print(image)"
      ],
      "metadata": {
        "id": "PvOPIV-3V_Sm"
      },
      "execution_count": null,
      "outputs": []
    },
    {
      "cell_type": "code",
      "source": [
        "image[:, :, 0]=255\n",
        "print(image)"
      ],
      "metadata": {
        "colab": {
          "base_uri": "https://localhost:8080/"
        },
        "id": "rG9wyRQXWZIE",
        "outputId": "d3faa6c4-18b2-4efe-a13b-ee7af9cadd85"
      },
      "execution_count": 10,
      "outputs": [
        {
          "output_type": "stream",
          "name": "stdout",
          "text": [
            "[[[255   0   0]\n",
            "  [255   0   0]\n",
            "  [255   0   0]\n",
            "  ...\n",
            "  [255   0   0]\n",
            "  [255   0   0]\n",
            "  [255   0   0]]\n",
            "\n",
            " [[255   0   0]\n",
            "  [255   0   0]\n",
            "  [255   0   0]\n",
            "  ...\n",
            "  [255   0   0]\n",
            "  [255   0   0]\n",
            "  [255   0   0]]\n",
            "\n",
            " [[255   0   0]\n",
            "  [255   0   0]\n",
            "  [255   0   0]\n",
            "  ...\n",
            "  [255   0   0]\n",
            "  [255   0   0]\n",
            "  [255   0   0]]\n",
            "\n",
            " ...\n",
            "\n",
            " [[255   0   0]\n",
            "  [255   0   0]\n",
            "  [255   0   0]\n",
            "  ...\n",
            "  [255   0   0]\n",
            "  [255   0   0]\n",
            "  [255   0   0]]\n",
            "\n",
            " [[255   0   0]\n",
            "  [255   0   0]\n",
            "  [255   0   0]\n",
            "  ...\n",
            "  [255   0   0]\n",
            "  [255   0   0]\n",
            "  [255   0   0]]\n",
            "\n",
            " [[255   0   0]\n",
            "  [255   0   0]\n",
            "  [255   0   0]\n",
            "  ...\n",
            "  [255   0   0]\n",
            "  [255   0   0]\n",
            "  [255   0   0]]]\n"
          ]
        }
      ]
    },
    {
      "cell_type": "code",
      "source": [
        "cv2_imshow(image)"
      ],
      "metadata": {
        "colab": {
          "base_uri": "https://localhost:8080/",
          "height": 45
        },
        "id": "j8WKlJS3WdX-",
        "outputId": "45ec072d-d929-454d-9e52-e2e20b84fd61"
      },
      "execution_count": 11,
      "outputs": [
        {
          "output_type": "display_data",
          "data": {
            "image/png": "[encoded data removed]",
            "text/plain": [
              "<PIL.Image.Image image mode=RGB size=28x28 at 0x7F1DC4BC1850>"
            ]
          },
          "metadata": {}
        }
      ]
    },
    {
      "cell_type": "code",
      "source": [
        "image[:, :, 2]=255\n",
        "cv2_imshow(image) #영상처리도 내부적으로는 numpy\n"
      ],
      "metadata": {
        "colab": {
          "base_uri": "https://localhost:8080/",
          "height": 45
        },
        "id": "GifK7pYpWhTm",
        "outputId": "ba7a5035-4be9-46b3-92f5-492938715886"
      },
      "execution_count": 13,
      "outputs": [
        {
          "output_type": "display_data",
          "data": {
            "image/png": "[encoded data removed]",
            "text/plain": [
              "<PIL.Image.Image image mode=RGB size=28x28 at 0x7F1DC4BBF810>"
            ]
          },
          "metadata": {}
        }
      ]
    },
    {
      "cell_type": "code",
      "source": [
        "from tensorflow import keras"
      ],
      "metadata": {
        "id": "8BgMMVDVW-Ll"
      },
      "execution_count": 14,
      "outputs": []
    },
    {
      "cell_type": "code",
      "source": [
        "data = keras.datasets.mnist.load_data()\n",
        "print(type(data))"
      ],
      "metadata": {
        "colab": {
          "base_uri": "https://localhost:8080/"
        },
        "id": "1orQs8tZXApD",
        "outputId": "cff87e32-8454-4d7b-da13-18b079589aa1"
      },
      "execution_count": 16,
      "outputs": [
        {
          "output_type": "stream",
          "name": "stdout",
          "text": [
            "<class 'tuple'>\n"
          ]
        }
      ]
    },
    {
      "cell_type": "code",
      "source": [
        "train_data, test_data = data #학습터 데이터 평가용 데이터\n",
        "print(type(train_data))\n",
        "print(len(train_data))"
      ],
      "metadata": {
        "colab": {
          "base_uri": "https://localhost:8080/"
        },
        "id": "wzE9DyXlYOYc",
        "outputId": "7139b98e-36eb-42a3-c662-2d9d4aead5f9"
      },
      "execution_count": 17,
      "outputs": [
        {
          "output_type": "stream",
          "name": "stdout",
          "text": [
            "<class 'tuple'>\n",
            "2\n"
          ]
        }
      ]
    },
    {
      "cell_type": "code",
      "source": [
        "image_train, label_train = train_data #이미지 데이터와 정답 데이터\n",
        "print(image_train.shape)\n",
        "print(label_train.shape)"
      ],
      "metadata": {
        "colab": {
          "base_uri": "https://localhost:8080/"
        },
        "id": "wzq6dHXrYUwd",
        "outputId": "17987520-1adc-4a97-ae38-1e7d9e784af3"
      },
      "execution_count": 18,
      "outputs": [
        {
          "output_type": "stream",
          "name": "stdout",
          "text": [
            "(60000, 28, 28)\n",
            "(60000,)\n"
          ]
        }
      ]
    },
    {
      "cell_type": "code",
      "source": [
        "image=image_train[0]\n",
        "cv2_imshow(image)"
      ],
      "metadata": {
        "colab": {
          "base_uri": "https://localhost:8080/",
          "height": 45
        },
        "id": "UzwWayiQY15D",
        "outputId": "e6f81aa6-ed89-4232-c9b8-ee72b453b6da"
      },
      "execution_count": 19,
      "outputs": [
        {
          "output_type": "display_data",
          "data": {
            "image/png": "[encoded data removed]",
            "text/plain": [
              "<PIL.Image.Image image mode=L size=28x28 at 0x7F1D502927D0>"
            ]
          },
          "metadata": {}
        }
      ]
    },
    {
      "cell_type": "markdown",
      "source": [
        "#비슷한 데이터의 평균으로 예측"
      ],
      "metadata": {
        "id": "IYjx09gOiUtC"
      }
    },
    {
      "cell_type": "code",
      "source": [
        "from tensorflow import keras\n",
        "data = keras.datasets.mnist.load_data() #손글씨 데이터를 로딩\n",
        "train_data, test_data = data #학습데이터와 평가데이터\n",
        "image_train, label_train = train_data #학습이미지와 정답\n",
        "image_test, label_test = test_data #평가이미지와 정답\n",
        "\n",
        "print(image_train.shape, label_train.shape)\n",
        "image_train2 = image_train.reshape(60000, -1)\n",
        "print(image_train2.shape)\n",
        "image_test2 = image_test.reshape(10000, -1)"
      ],
      "metadata": {
        "colab": {
          "base_uri": "https://localhost:8080/"
        },
        "id": "Wij0kaLHjNih",
        "outputId": "eda61dc9-9632-4c08-cfdf-8ccd9992aeab"
      },
      "execution_count": 43,
      "outputs": [
        {
          "output_type": "stream",
          "name": "stdout",
          "text": [
            "(60000, 28, 28) (60000,)\n",
            "(60000, 784)\n"
          ]
        }
      ]
    },
    {
      "cell_type": "code",
      "source": [
        "from sklearn.neighbors import KNeighborsClassifier"
      ],
      "metadata": {
        "id": "yjCRt2Y4iWvl"
      },
      "execution_count": 44,
      "outputs": []
    },
    {
      "cell_type": "code",
      "source": [
        "model = KNeighborsClassifier() #모델 생성\n",
        "model.fit(image_train2,label_train) # 학습(독립변수, 종속변수)"
      ],
      "metadata": {
        "colab": {
          "base_uri": "https://localhost:8080/"
        },
        "id": "HtCfycM8icji",
        "outputId": "c87d9f4e-391f-4a74-8239-029a438c2d46"
      },
      "execution_count": 45,
      "outputs": [
        {
          "output_type": "execute_result",
          "data": {
            "text/plain": [
              "KNeighborsClassifier()"
            ]
          },
          "metadata": {},
          "execution_count": 45
        }
      ]
    },
    {
      "cell_type": "code",
      "source": [
        "pred_value = model.predict(image_test2) #예측"
      ],
      "metadata": {
        "id": "kqxK8Rsxkhi2"
      },
      "execution_count": 46,
      "outputs": []
    },
    {
      "cell_type": "code",
      "source": [
        "correct = 0\n",
        "for i in range(len(pred_value)):\n",
        "  if pred_value[i] == label_test[i]:\n",
        "    correct += 1\n",
        "print(correct, \"/\", len(pred_value))"
      ],
      "metadata": {
        "colab": {
          "base_uri": "https://localhost:8080/"
        },
        "id": "QUS9MbGlkl65",
        "outputId": "ab1ed14d-415c-48f6-b43b-d296f863b6d5"
      },
      "execution_count": 47,
      "outputs": [
        {
          "output_type": "stream",
          "name": "stdout",
          "text": [
            "9688 / 10000\n"
          ]
        }
      ]
    },
    {
      "cell_type": "markdown",
      "source": [
        "#러프하게\n",
        "\n",
        "동전을 던졌을 때 앞면이 나올 확률을 1/2이라고 가정하자.\n",
        "\n",
        "동전을 100번 던졌을 때 앞면이 몇 번 나오는지 테스트를 만 번 수행하여 수행 결과를 배열로 만드시오.\n"
      ],
      "metadata": {
        "id": "n2V-9rynlnuX"
      }
    },
    {
      "cell_type": "code",
      "source": [
        "import random"
      ],
      "metadata": {
        "id": "cPKzctaWkv5Y"
      },
      "execution_count": 48,
      "outputs": []
    },
    {
      "cell_type": "code",
      "source": [
        "#전제 조건: 동전을 던졌을 때 앞면이 나올 확률은 1/2\n",
        "#동전을 100번 던져서 앞면이 나온 횟수를 반환\n",
        "\n",
        "def test_n(n=100):\n",
        "  cnt=0\n",
        "  for i in range(n):\n",
        "    if random.randrange(0,2) ==1:\n",
        "      cnt+=1\n",
        "  return cnt\n"
      ],
      "metadata": {
        "id": "wBwhwHIGmiXU"
      },
      "execution_count": 65,
      "outputs": []
    },
    {
      "cell_type": "code",
      "source": [
        "for i in range(100):\n",
        "  print(test_n(), end=' ')"
      ],
      "metadata": {
        "colab": {
          "base_uri": "https://localhost:8080/"
        },
        "id": "DKATmiXWmtAk",
        "outputId": "89ecad89-0c48-4ab5-ca24-9f6417b544fd"
      },
      "execution_count": 66,
      "outputs": [
        {
          "output_type": "stream",
          "name": "stdout",
          "text": [
            "51 47 48 61 50 44 50 48 49 48 52 49 49 44 38 51 49 46 57 47 49 50 48 50 49 49 52 52 53 46 46 45 54 44 54 52 53 54 45 43 54 57 53 53 50 50 54 44 58 47 53 49 53 51 48 51 44 45 49 40 60 45 51 52 46 52 54 42 57 46 45 49 49 51 43 48 42 54 48 48 54 49 46 49 49 46 43 53 46 56 50 43 49 44 54 53 48 45 42 48 "
          ]
        }
      ]
    },
    {
      "cell_type": "code",
      "source": [
        "na = np.zeros(100) #앞면이 몇 번 나왔는지 기록할 배열\n",
        "for i in range(10000): #실험을 10만번 수행\n",
        "  na[test_n()] += 1 #실험해서 앞면이 나온 원소 값을 1 증가\n",
        "print(na)"
      ],
      "metadata": {
        "colab": {
          "base_uri": "https://localhost:8080/"
        },
        "id": "r3j-u6g1nE4D",
        "outputId": "98d79930-2e50-4b74-cb53-cd88be17a4bb"
      },
      "execution_count": 68,
      "outputs": [
        {
          "output_type": "stream",
          "name": "stdout",
          "text": [
            "[  0.   0.   0.   0.   0.   0.   0.   0.   0.   0.   0.   0.   0.   0.\n",
            "   0.   0.   0.   0.   0.   0.   0.   0.   0.   0.   0.   0.   0.   0.\n",
            "   0.   1.   0.   1.   2.   4.   5.  13.  11.  19.  45.  85. 113. 163.\n",
            " 202. 274. 390. 467. 588. 660. 709. 790. 764. 791. 765. 646. 597. 535.\n",
            " 383. 295. 233. 151. 107.  69.  47.  30.  29.   8.   5.   3.   0.   0.\n",
            "   0.   0.   0.   0.   0.   0.   0.   0.   0.   0.   0.   0.   0.   0.\n",
            "   0.   0.   0.   0.   0.   0.   0.   0.   0.   0.   0.   0.   0.   0.\n",
            "   0.   0.]\n"
          ]
        }
      ]
    },
    {
      "cell_type": "code",
      "source": [
        "import matplotlib.pyplot as plt"
      ],
      "metadata": {
        "id": "BSU5RrCDngUj"
      },
      "execution_count": 60,
      "outputs": []
    },
    {
      "cell_type": "code",
      "source": [
        "plt.plot(na)"
      ],
      "metadata": {
        "colab": {
          "base_uri": "https://localhost:8080/",
          "height": 283
        },
        "id": "UmmC4pUonjXg",
        "outputId": "d677401e-1fa6-4323-9f6e-a1649f2c8960"
      },
      "execution_count": 69,
      "outputs": [
        {
          "output_type": "execute_result",
          "data": {
            "text/plain": [
              "[<matplotlib.lines.Line2D at 0x7f1d4beca150>]"
            ]
          },
          "metadata": {},
          "execution_count": 69
        },
        {
          "output_type": "display_data",
          "data": {
            "image/png": "[encoded data removed]",
            "text/plain": [
              "<Figure size 432x288 with 1 Axes>"
            ]
          },
          "metadata": {
            "needs_background": "light"
          }
        }
      ]
    },
    {
      "cell_type": "markdown",
      "source": [
        "어느 카지노에서 동전을 100번 던져서 몇 번 나오는지 배팅하는 게임이 있다.\n",
        "\n",
        "길동이 카지노에 가서 67번 나오는 것에 배팅을 하였는데 대박을 맞을 확률은?\n",
        "\n",
        "해당 카지노의 동전은 앞면이 나올 확률이 1/2라고 말할 수 있는지 검정하시오"
      ],
      "metadata": {
        "id": "h9QIva4Ysi_I"
      }
    },
    {
      "cell_type": "code",
      "source": [
        "nac = np.cumsum(na)\n",
        "print(nac[33]*2/100000*100, \"%\")"
      ],
      "metadata": {
        "colab": {
          "base_uri": "https://localhost:8080/"
        },
        "id": "DQ_80nfStobF",
        "outputId": "e5b247a2-7c1b-4095-826b-9087a9f5bb6d"
      },
      "execution_count": 72,
      "outputs": [
        {
          "output_type": "stream",
          "name": "stdout",
          "text": [
            "0.0015999999999999999 %\n"
          ]
        }
      ]
    },
    {
      "cell_type": "code",
      "source": [
        "print(\"평균 : \" , np.mean(na), \" 표준편차 : \", np.std(na) )"
      ],
      "metadata": {
        "colab": {
          "base_uri": "https://localhost:8080/"
        },
        "id": "d9gG3wKNu73c",
        "outputId": "6762ab0d-c95d-4747-a8f3-d3499a958301"
      },
      "execution_count": 73,
      "outputs": [
        {
          "output_type": "stream",
          "name": "stdout",
          "text": [
            "평균 :  100.0  표준편차 :  215.15329418812067\n"
          ]
        }
      ]
    },
    {
      "cell_type": "code",
      "source": [
        "#정규분포를 표준정규분포로 전환 - 스케일 조정\n",
        "na2 = na-np.mean(na)\n",
        "print(\"평균 : \", np.mean(na2), \"표준 편차 : \", np.std(na2))\n",
        "na3 = na2/np.std(na2)\n",
        "print(\"평균 : \", np.mean(na3), \"표준 편차 : \", np.std(na3))"
      ],
      "metadata": {
        "colab": {
          "base_uri": "https://localhost:8080/"
        },
        "id": "8nIwO8r6vmeY",
        "outputId": "4574eb8c-c3c5-46f9-983f-c7c620ed156e"
      },
      "execution_count": 75,
      "outputs": [
        {
          "output_type": "stream",
          "name": "stdout",
          "text": [
            "평균 :  0.0 표준 편차 :  215.15329418812067\n",
            "평균 :  1.2212453270876722e-17 표준 편차 :  1.0\n"
          ]
        }
      ]
    },
    {
      "cell_type": "code",
      "source": [
        "plt.plot(na, 'ro', label='na')\n",
        "plt.plot(na2, 'bo', label='na2')\n",
        "plt.plot(na3, 'go', label='na3')\n",
        "plt.legend()\n",
        "plt.show"
      ],
      "metadata": {
        "colab": {
          "base_uri": "https://localhost:8080/",
          "height": 283
        },
        "id": "K0leeTNcxzd5",
        "outputId": "1e7dddf0-0d16-4281-e583-114a045a1af4"
      },
      "execution_count": 76,
      "outputs": [
        {
          "output_type": "execute_result",
          "data": {
            "text/plain": [
              "<function matplotlib.pyplot.show>"
            ]
          },
          "metadata": {},
          "execution_count": 76
        },
        {
          "output_type": "display_data",
          "data": {
            "image/png": "[encoded data removed]",
            "text/plain": [
              "<Figure size 432x288 with 1 Axes>"
            ]
          },
          "metadata": {
            "needs_background": "light"
          }
        }
      ]
    },
    {
      "cell_type": "code",
      "source": [
        "plt.plot(na3, 'go', label='na3')\n",
        "plt.legend()\n",
        "plt.show()"
      ],
      "metadata": {
        "colab": {
          "base_uri": "https://localhost:8080/",
          "height": 265
        },
        "id": "WFVUrQ3uyZr8",
        "outputId": "656e8a2b-64fa-418b-f20e-63ae34b7d464"
      },
      "execution_count": 77,
      "outputs": [
        {
          "output_type": "display_data",
          "data": {
            "image/png": "[encoded data removed]",
            "text/plain": [
              "<Figure size 432x288 with 1 Axes>"
            ]
          },
          "metadata": {
            "needs_background": "light"
          }
        }
      ]
    }
  ]
}