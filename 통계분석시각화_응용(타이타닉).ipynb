{
  "nbformat": 4,
  "nbformat_minor": 0,
  "metadata": {
    "colab": {
      "name": "통계분석시각화-응용(타이타닉).ipynb",
      "provenance": [],
      "mount_file_id": "1SjypYE8aDpjJ-T4gcAjGENqPadjMR1-4",
      "authorship_tag": "ABX9TyPjp4ai/iD3WSBDQyawVtxs",
      "include_colab_link": true
    },
    "kernelspec": {
      "name": "python3",
      "display_name": "Python 3"
    },
    "language_info": {
      "name": "python"
    }
  },
  "cells": [
    {
      "cell_type": "markdown",
      "metadata": {
        "id": "view-in-github",
        "colab_type": "text"
      },
      "source": [
        "<a href=\"https://colab.research.google.com/github/Es-YES-Ye/Python/blob/main/%ED%86%B5%EA%B3%84%EB%B6%84%EC%84%9D%EC%8B%9C%EA%B0%81%ED%99%94_%EC%9D%91%EC%9A%A9(%ED%83%80%EC%9D%B4%ED%83%80%EB%8B%89).ipynb\" target=\"_parent\"><img src=\"https://colab.research.google.com/assets/colab-badge.svg\" alt=\"Open In Colab\"/></a>"
      ]
    },
    {
      "cell_type": "code",
      "source": [
        "#웹 크롤링\n",
        "from bs4 import BeautifulSoup\n",
        "url = 'https://www.naver.com' #사이트 주소\n",
        "response = urllib.request.urlopen(url) #웹 서버에 요청\n",
        "res = response.read().decode('utf-8')\n",
        "bre = BeautifulSoup(res,'html.parser')\n",
        "print(bre.body.text) #텍스트만 얻어오기\n",
        "\n",
        "wc = WordCloud(font_path = '/usr/share/fonts/truetype/nanum/NanumBarunGothic.ttf')\n",
        "wc.generate(bre.body.text)\n",
        "plt.figure()\n",
        "plt.imshow(wc)\n",
        "plt.axis('off')\n",
        "plt.show()\n",
        "wc.words_"
      ],
      "metadata": {
        "id": "3dwySZKGMxRY"
      },
      "execution_count": null,
      "outputs": []
    },
    {
      "cell_type": "markdown",
      "source": [
        "#train_titanic.csv 파일의 내용을 분석 실습"
      ],
      "metadata": {
        "id": "G_HO2kp5ZYTo"
      }
    },
    {
      "cell_type": "code",
      "source": [
        "import pandas as pd\n",
        "import numpy as np\n",
        "import urllib.request\n",
        "import json\n",
        "import matplotlib.pyplot as plt\n",
        "from  wordcloud import WordCloud\n",
        "import matplotlib.font_manager as font_manager"
      ],
      "metadata": {
        "id": "-HDq04lCaH3w"
      },
      "execution_count": 1,
      "outputs": []
    },
    {
      "cell_type": "code",
      "source": [
        "path = '/content/drive/MyDrive/module/train_titanic.csv'\n",
        "df = pd.read_csv(path)\n",
        "df"
      ],
      "metadata": {
        "colab": {
          "base_uri": "https://localhost:8080/",
          "height": 971
        },
        "id": "SUhL1ZhKaAzZ",
        "outputId": "a3f79e49-de79-4b16-f8db-814946d0f4d3"
      },
      "execution_count": 2,
      "outputs": [
        {
          "output_type": "execute_result",
          "data": {
            "text/html": [
              "\n",
              "  <div id=\"df-a6b7ce2b-32a1-407c-a85b-99da48511957\">\n",
              "    <div class=\"colab-df-container\">\n",
              "      <div>\n",
              "<style scoped>\n",
              "    .dataframe tbody tr th:only-of-type {\n",
              "        vertical-align: middle;\n",
              "    }\n",
              "\n",
              "    .dataframe tbody tr th {\n",
              "        vertical-align: top;\n",
              "    }\n",
              "\n",
              "    .dataframe thead th {\n",
              "        text-align: right;\n",
              "    }\n",
              "</style>\n",
              "<table border=\"1\" class=\"dataframe\">\n",
              "  <thead>\n",
              "    <tr style=\"text-align: right;\">\n",
              "      <th></th>\n",
              "      <th>PassengerId</th>\n",
              "      <th>Survived</th>\n",
              "      <th>Pclass</th>\n",
              "      <th>Name</th>\n",
              "      <th>Sex</th>\n",
              "      <th>Age</th>\n",
              "      <th>SibSp</th>\n",
              "      <th>Parch</th>\n",
              "      <th>Ticket</th>\n",
              "      <th>Fare</th>\n",
              "      <th>Cabin</th>\n",
              "      <th>Embarked</th>\n",
              "    </tr>\n",
              "  </thead>\n",
              "  <tbody>\n",
              "    <tr>\n",
              "      <th>0</th>\n",
              "      <td>1</td>\n",
              "      <td>0</td>\n",
              "      <td>3</td>\n",
              "      <td>Braund, Mr. Owen Harris</td>\n",
              "      <td>male</td>\n",
              "      <td>22.0</td>\n",
              "      <td>1</td>\n",
              "      <td>0</td>\n",
              "      <td>A/5 21171</td>\n",
              "      <td>7.2500</td>\n",
              "      <td>NaN</td>\n",
              "      <td>S</td>\n",
              "    </tr>\n",
              "    <tr>\n",
              "      <th>1</th>\n",
              "      <td>2</td>\n",
              "      <td>1</td>\n",
              "      <td>1</td>\n",
              "      <td>Cumings, Mrs. John Bradley (Florence Briggs Th...</td>\n",
              "      <td>female</td>\n",
              "      <td>38.0</td>\n",
              "      <td>1</td>\n",
              "      <td>0</td>\n",
              "      <td>PC 17599</td>\n",
              "      <td>71.2833</td>\n",
              "      <td>C85</td>\n",
              "      <td>C</td>\n",
              "    </tr>\n",
              "    <tr>\n",
              "      <th>2</th>\n",
              "      <td>3</td>\n",
              "      <td>1</td>\n",
              "      <td>3</td>\n",
              "      <td>Heikkinen, Miss. Laina</td>\n",
              "      <td>female</td>\n",
              "      <td>26.0</td>\n",
              "      <td>0</td>\n",
              "      <td>0</td>\n",
              "      <td>STON/O2. 3101282</td>\n",
              "      <td>7.9250</td>\n",
              "      <td>NaN</td>\n",
              "      <td>S</td>\n",
              "    </tr>\n",
              "    <tr>\n",
              "      <th>3</th>\n",
              "      <td>4</td>\n",
              "      <td>1</td>\n",
              "      <td>1</td>\n",
              "      <td>Futrelle, Mrs. Jacques Heath (Lily May Peel)</td>\n",
              "      <td>female</td>\n",
              "      <td>35.0</td>\n",
              "      <td>1</td>\n",
              "      <td>0</td>\n",
              "      <td>113803</td>\n",
              "      <td>53.1000</td>\n",
              "      <td>C123</td>\n",
              "      <td>S</td>\n",
              "    </tr>\n",
              "    <tr>\n",
              "      <th>4</th>\n",
              "      <td>5</td>\n",
              "      <td>0</td>\n",
              "      <td>3</td>\n",
              "      <td>Allen, Mr. William Henry</td>\n",
              "      <td>male</td>\n",
              "      <td>35.0</td>\n",
              "      <td>0</td>\n",
              "      <td>0</td>\n",
              "      <td>373450</td>\n",
              "      <td>8.0500</td>\n",
              "      <td>NaN</td>\n",
              "      <td>S</td>\n",
              "    </tr>\n",
              "    <tr>\n",
              "      <th>...</th>\n",
              "      <td>...</td>\n",
              "      <td>...</td>\n",
              "      <td>...</td>\n",
              "      <td>...</td>\n",
              "      <td>...</td>\n",
              "      <td>...</td>\n",
              "      <td>...</td>\n",
              "      <td>...</td>\n",
              "      <td>...</td>\n",
              "      <td>...</td>\n",
              "      <td>...</td>\n",
              "      <td>...</td>\n",
              "    </tr>\n",
              "    <tr>\n",
              "      <th>886</th>\n",
              "      <td>887</td>\n",
              "      <td>0</td>\n",
              "      <td>2</td>\n",
              "      <td>Montvila, Rev. Juozas</td>\n",
              "      <td>male</td>\n",
              "      <td>27.0</td>\n",
              "      <td>0</td>\n",
              "      <td>0</td>\n",
              "      <td>211536</td>\n",
              "      <td>13.0000</td>\n",
              "      <td>NaN</td>\n",
              "      <td>S</td>\n",
              "    </tr>\n",
              "    <tr>\n",
              "      <th>887</th>\n",
              "      <td>888</td>\n",
              "      <td>1</td>\n",
              "      <td>1</td>\n",
              "      <td>Graham, Miss. Margaret Edith</td>\n",
              "      <td>female</td>\n",
              "      <td>19.0</td>\n",
              "      <td>0</td>\n",
              "      <td>0</td>\n",
              "      <td>112053</td>\n",
              "      <td>30.0000</td>\n",
              "      <td>B42</td>\n",
              "      <td>S</td>\n",
              "    </tr>\n",
              "    <tr>\n",
              "      <th>888</th>\n",
              "      <td>889</td>\n",
              "      <td>0</td>\n",
              "      <td>3</td>\n",
              "      <td>Johnston, Miss. Catherine Helen \"Carrie\"</td>\n",
              "      <td>female</td>\n",
              "      <td>NaN</td>\n",
              "      <td>1</td>\n",
              "      <td>2</td>\n",
              "      <td>W./C. 6607</td>\n",
              "      <td>23.4500</td>\n",
              "      <td>NaN</td>\n",
              "      <td>S</td>\n",
              "    </tr>\n",
              "    <tr>\n",
              "      <th>889</th>\n",
              "      <td>890</td>\n",
              "      <td>1</td>\n",
              "      <td>1</td>\n",
              "      <td>Behr, Mr. Karl Howell</td>\n",
              "      <td>male</td>\n",
              "      <td>26.0</td>\n",
              "      <td>0</td>\n",
              "      <td>0</td>\n",
              "      <td>111369</td>\n",
              "      <td>30.0000</td>\n",
              "      <td>C148</td>\n",
              "      <td>C</td>\n",
              "    </tr>\n",
              "    <tr>\n",
              "      <th>890</th>\n",
              "      <td>891</td>\n",
              "      <td>0</td>\n",
              "      <td>3</td>\n",
              "      <td>Dooley, Mr. Patrick</td>\n",
              "      <td>male</td>\n",
              "      <td>32.0</td>\n",
              "      <td>0</td>\n",
              "      <td>0</td>\n",
              "      <td>370376</td>\n",
              "      <td>7.7500</td>\n",
              "      <td>NaN</td>\n",
              "      <td>Q</td>\n",
              "    </tr>\n",
              "  </tbody>\n",
              "</table>\n",
              "<p>891 rows × 12 columns</p>\n",
              "</div>\n",
              "      <button class=\"colab-df-convert\" onclick=\"convertToInteractive('df-a6b7ce2b-32a1-407c-a85b-99da48511957')\"\n",
              "              title=\"Convert this dataframe to an interactive table.\"\n",
              "              style=\"display:none;\">\n",
              "        \n",
              "  <svg xmlns=\"http://www.w3.org/2000/svg\" height=\"24px\"viewBox=\"0 0 24 24\"\n",
              "       width=\"24px\">\n",
              "    <path d=\"M0 0h24v24H0V0z\" fill=\"none\"/>\n",
              "    <path d=\"M18.56 5.44l.94 2.06.94-2.06 2.06-.94-2.06-.94-.94-2.06-.94 2.06-2.06.94zm-11 1L8.5 8.5l.94-2.06 2.06-.94-2.06-.94L8.5 2.5l-.94 2.06-2.06.94zm10 10l.94 2.06.94-2.06 2.06-.94-2.06-.94-.94-2.06-.94 2.06-2.06.94z\"/><path d=\"M17.41 7.96l-1.37-1.37c-.4-.4-.92-.59-1.43-.59-.52 0-1.04.2-1.43.59L10.3 9.45l-7.72 7.72c-.78.78-.78 2.05 0 2.83L4 21.41c.39.39.9.59 1.41.59.51 0 1.02-.2 1.41-.59l7.78-7.78 2.81-2.81c.8-.78.8-2.07 0-2.86zM5.41 20L4 18.59l7.72-7.72 1.47 1.35L5.41 20z\"/>\n",
              "  </svg>\n",
              "      </button>\n",
              "      \n",
              "  <style>\n",
              "    .colab-df-container {\n",
              "      display:flex;\n",
              "      flex-wrap:wrap;\n",
              "      gap: 12px;\n",
              "    }\n",
              "\n",
              "    .colab-df-convert {\n",
              "      background-color: #E8F0FE;\n",
              "      border: none;\n",
              "      border-radius: 50%;\n",
              "      cursor: pointer;\n",
              "      display: none;\n",
              "      fill: #1967D2;\n",
              "      height: 32px;\n",
              "      padding: 0 0 0 0;\n",
              "      width: 32px;\n",
              "    }\n",
              "\n",
              "    .colab-df-convert:hover {\n",
              "      background-color: #E2EBFA;\n",
              "      box-shadow: 0px 1px 2px rgba(60, 64, 67, 0.3), 0px 1px 3px 1px rgba(60, 64, 67, 0.15);\n",
              "      fill: #174EA6;\n",
              "    }\n",
              "\n",
              "    [theme=dark] .colab-df-convert {\n",
              "      background-color: #3B4455;\n",
              "      fill: #D2E3FC;\n",
              "    }\n",
              "\n",
              "    [theme=dark] .colab-df-convert:hover {\n",
              "      background-color: #434B5C;\n",
              "      box-shadow: 0px 1px 3px 1px rgba(0, 0, 0, 0.15);\n",
              "      filter: drop-shadow(0px 1px 2px rgba(0, 0, 0, 0.3));\n",
              "      fill: #FFFFFF;\n",
              "    }\n",
              "  </style>\n",
              "\n",
              "      <script>\n",
              "        const buttonEl =\n",
              "          document.querySelector('#df-a6b7ce2b-32a1-407c-a85b-99da48511957 button.colab-df-convert');\n",
              "        buttonEl.style.display =\n",
              "          google.colab.kernel.accessAllowed ? 'block' : 'none';\n",
              "\n",
              "        async function convertToInteractive(key) {\n",
              "          const element = document.querySelector('#df-a6b7ce2b-32a1-407c-a85b-99da48511957');\n",
              "          const dataTable =\n",
              "            await google.colab.kernel.invokeFunction('convertToInteractive',\n",
              "                                                     [key], {});\n",
              "          if (!dataTable) return;\n",
              "\n",
              "          const docLinkHtml = 'Like what you see? Visit the ' +\n",
              "            '<a target=\"_blank\" href=https://colab.research.google.com/notebooks/data_table.ipynb>data table notebook</a>'\n",
              "            + ' to learn more about interactive tables.';\n",
              "          element.innerHTML = '';\n",
              "          dataTable['output_type'] = 'display_data';\n",
              "          await google.colab.output.renderOutput(dataTable, element);\n",
              "          const docLink = document.createElement('div');\n",
              "          docLink.innerHTML = docLinkHtml;\n",
              "          element.appendChild(docLink);\n",
              "        }\n",
              "      </script>\n",
              "    </div>\n",
              "  </div>\n",
              "  "
            ],
            "text/plain": [
              "     PassengerId  Survived  Pclass  \\\n",
              "0              1         0       3   \n",
              "1              2         1       1   \n",
              "2              3         1       3   \n",
              "3              4         1       1   \n",
              "4              5         0       3   \n",
              "..           ...       ...     ...   \n",
              "886          887         0       2   \n",
              "887          888         1       1   \n",
              "888          889         0       3   \n",
              "889          890         1       1   \n",
              "890          891         0       3   \n",
              "\n",
              "                                                  Name     Sex   Age  SibSp  \\\n",
              "0                              Braund, Mr. Owen Harris    male  22.0      1   \n",
              "1    Cumings, Mrs. John Bradley (Florence Briggs Th...  female  38.0      1   \n",
              "2                               Heikkinen, Miss. Laina  female  26.0      0   \n",
              "3         Futrelle, Mrs. Jacques Heath (Lily May Peel)  female  35.0      1   \n",
              "4                             Allen, Mr. William Henry    male  35.0      0   \n",
              "..                                                 ...     ...   ...    ...   \n",
              "886                              Montvila, Rev. Juozas    male  27.0      0   \n",
              "887                       Graham, Miss. Margaret Edith  female  19.0      0   \n",
              "888           Johnston, Miss. Catherine Helen \"Carrie\"  female   NaN      1   \n",
              "889                              Behr, Mr. Karl Howell    male  26.0      0   \n",
              "890                                Dooley, Mr. Patrick    male  32.0      0   \n",
              "\n",
              "     Parch            Ticket     Fare Cabin Embarked  \n",
              "0        0         A/5 21171   7.2500   NaN        S  \n",
              "1        0          PC 17599  71.2833   C85        C  \n",
              "2        0  STON/O2. 3101282   7.9250   NaN        S  \n",
              "3        0            113803  53.1000  C123        S  \n",
              "4        0            373450   8.0500   NaN        S  \n",
              "..     ...               ...      ...   ...      ...  \n",
              "886      0            211536  13.0000   NaN        S  \n",
              "887      0            112053  30.0000   B42        S  \n",
              "888      2        W./C. 6607  23.4500   NaN        S  \n",
              "889      0            111369  30.0000  C148        C  \n",
              "890      0            370376   7.7500   NaN        Q  \n",
              "\n",
              "[891 rows x 12 columns]"
            ]
          },
          "metadata": {},
          "execution_count": 2
        }
      ]
    },
    {
      "cell_type": "markdown",
      "source": [
        "\n",
        "#1. 주어진 자료의 인원, 생존자, 사망자는 몇 명인가?"
      ],
      "metadata": {
        "id": "dvdkAr0jZbOn"
      }
    },
    {
      "cell_type": "code",
      "source": [
        "#인원\n",
        "count = df['PassengerId'].count()\n",
        "#생존자와 사망자\n",
        "sur_data = df['Survived']\n",
        "print(type(sur_data))\n",
        "svc = sur_data.value_counts()\n",
        "#0은 사망자 1은 생존자\n",
        "print(type(svc)) #series는 인덱스와 value가 있다.\n",
        "sur_data.count()\n",
        "print(f\"인원 : {sur_data.count()}, 사망자수 : {svc.values[0]}, 생존자 수 : {svc.values[1]}\")"
      ],
      "metadata": {
        "colab": {
          "base_uri": "https://localhost:8080/"
        },
        "id": "yd4NSi73knaE",
        "outputId": "95f9eb98-15aa-4730-cc7b-e292b70ab8a8"
      },
      "execution_count": 35,
      "outputs": [
        {
          "output_type": "stream",
          "name": "stdout",
          "text": [
            "<class 'pandas.core.series.Series'>\n",
            "<class 'pandas.core.series.Series'>\n",
            "인원 : 891, 사망자수 : 549, 생존자 수 : 342\n"
          ]
        }
      ]
    },
    {
      "cell_type": "markdown",
      "source": [
        "#2. 생존자와 사망자를 Pie 그래프로 나타내고 생존자와 사망자의 퍼센트를 소수점 2자리까지 나타내시오."
      ],
      "metadata": {
        "id": "-N5ILjEyZdnI"
      }
    },
    {
      "cell_type": "code",
      "source": [
        "labels=[\"dead\", \"alive\"]\n",
        "plt.pie(svc, labels= labels, autopct='%.2f')\n",
        "plt.show()"
      ],
      "metadata": {
        "colab": {
          "base_uri": "https://localhost:8080/"
        },
        "id": "chisqMsogpfL",
        "outputId": "1a4d2c1e-b987-471d-f672-68c41206aacf"
      },
      "execution_count": null,
      "outputs": [
        {
          "output_type": "display_data",
          "data": {
            "image/png": "[encoded data removed]",
            "text/plain": [
              "<Figure size 432x288 with 1 Axes>"
            ]
          },
          "metadata": {}
        }
      ]
    },
    {
      "cell_type": "markdown",
      "source": [
        "#3. 결측데이터가 있는 컬럼들을 조사하시오."
      ],
      "metadata": {
        "id": "7Tq4JadkZdk8"
      }
    },
    {
      "cell_type": "code",
      "source": [
        "df.info() #전체 summary\n"
      ],
      "metadata": {
        "colab": {
          "base_uri": "https://localhost:8080/"
        },
        "id": "iSPJOpQUgp8n",
        "outputId": "13d620d8-97aa-42aa-d422-fbafb62854ea"
      },
      "execution_count": 31,
      "outputs": [
        {
          "output_type": "stream",
          "name": "stdout",
          "text": [
            "<class 'pandas.core.frame.DataFrame'>\n",
            "RangeIndex: 891 entries, 0 to 890\n",
            "Data columns (total 12 columns):\n",
            " #   Column       Non-Null Count  Dtype  \n",
            "---  ------       --------------  -----  \n",
            " 0   PassengerId  891 non-null    int64  \n",
            " 1   Survived     891 non-null    int64  \n",
            " 2   Pclass       891 non-null    int64  \n",
            " 3   Name         891 non-null    object \n",
            " 4   Sex          891 non-null    object \n",
            " 5   Age          714 non-null    float64\n",
            " 6   SibSp        891 non-null    int64  \n",
            " 7   Parch        891 non-null    int64  \n",
            " 8   Ticket       891 non-null    object \n",
            " 9   Fare         891 non-null    float64\n",
            " 10  Cabin        204 non-null    object \n",
            " 11  Embarked     889 non-null    object \n",
            "dtypes: float64(2), int64(5), object(5)\n",
            "memory usage: 83.7+ KB\n"
          ]
        }
      ]
    },
    {
      "cell_type": "code",
      "source": [
        "df['Age'].isnull().value_counts() #null이 177개"
      ],
      "metadata": {
        "colab": {
          "base_uri": "https://localhost:8080/"
        },
        "id": "Imya0rfFmGcp",
        "outputId": "96ca3e50-c474-4d30-e25c-8d6e8b431a91"
      },
      "execution_count": 32,
      "outputs": [
        {
          "output_type": "execute_result",
          "data": {
            "text/plain": [
              "False    714\n",
              "True     177\n",
              "Name: Age, dtype: int64"
            ]
          },
          "metadata": {},
          "execution_count": 32
        }
      ]
    },
    {
      "cell_type": "code",
      "source": [
        "df['Cabin'].isnull().value_counts()"
      ],
      "metadata": {
        "colab": {
          "base_uri": "https://localhost:8080/"
        },
        "id": "8L09Jl0MmLZE",
        "outputId": "18063347-f8da-4eca-9cfa-a52163ec8a00"
      },
      "execution_count": 33,
      "outputs": [
        {
          "output_type": "execute_result",
          "data": {
            "text/plain": [
              "True     687\n",
              "False    204\n",
              "Name: Cabin, dtype: int64"
            ]
          },
          "metadata": {},
          "execution_count": 33
        }
      ]
    },
    {
      "cell_type": "code",
      "source": [
        "df['Embarked'].isnull().value_counts()"
      ],
      "metadata": {
        "colab": {
          "base_uri": "https://localhost:8080/"
        },
        "id": "uqYoimOmmPPu",
        "outputId": "035daa77-3c94-4e0c-dce4-36736f5c029b"
      },
      "execution_count": 34,
      "outputs": [
        {
          "output_type": "execute_result",
          "data": {
            "text/plain": [
              "False    889\n",
              "True       2\n",
              "Name: Embarked, dtype: int64"
            ]
          },
          "metadata": {},
          "execution_count": 34
        }
      ]
    },
    {
      "cell_type": "markdown",
      "source": [
        "#4. Pclass의 종류별로 분포를 Pie 그래프로 나타내시오."
      ],
      "metadata": {
        "id": "7jyHccshZdip"
      }
    },
    {
      "cell_type": "code",
      "source": [
        "df.Pclass #df['Pclass']와 같은 말 #하나의 시리즈가 된다\n",
        "print(type(df.Pclass))\n",
        "dvc = df.Pclass.value_counts()  #값의 종류와 각 값의 갯수까지 파악\n",
        "dvc"
      ],
      "metadata": {
        "colab": {
          "base_uri": "https://localhost:8080/"
        },
        "id": "xsTxW50ymW30",
        "outputId": "6eeaf59a-6164-42c0-d515-476e19f411b3"
      },
      "execution_count": 24,
      "outputs": [
        {
          "output_type": "stream",
          "name": "stdout",
          "text": [
            "<class 'pandas.core.series.Series'>\n"
          ]
        },
        {
          "output_type": "execute_result",
          "data": {
            "text/plain": [
              "3    491\n",
              "1    216\n",
              "2    184\n",
              "Name: Pclass, dtype: int64"
            ]
          },
          "metadata": {},
          "execution_count": 24
        }
      ]
    },
    {
      "cell_type": "code",
      "source": [
        "dvc = df.Pclass.value_counts().sort_index() #인덱스 순으로 정렬\n",
        "plt.pie(dvc.values, labels=['1','2','3'], autopct=\"%.2f%%\")\n",
        "plt.title(\"Pclss\")\n",
        "plt.show()"
      ],
      "metadata": {
        "colab": {
          "base_uri": "https://localhost:8080/",
          "height": 264
        },
        "id": "qAevI7i7p7Cc",
        "outputId": "08c64596-a342-4cfe-981a-5b5899905e87"
      },
      "execution_count": 25,
      "outputs": [
        {
          "output_type": "display_data",
          "data": {
            "image/png": "[encoded data removed]",
            "text/plain": [
              "<Figure size 432x288 with 1 Axes>"
            ]
          },
          "metadata": {}
        }
      ]
    },
    {
      "cell_type": "markdown",
      "source": [
        "\n",
        "#5. Pclass의 종류별로 생존자와 사망자를 하나의 막대그래프로 나타내시오.(아래:생존자, 위:사망자)"
      ],
      "metadata": {
        "id": "E0K1ckznZdgY"
      }
    },
    {
      "cell_type": "code",
      "source": [
        "pdata = df.Pclass\n",
        "pdata.unique() #값의 종류가 무엇인지만 확인\n",
        "cn = len(pdata.unique()) #컬렉션의 길이\n",
        "pc_alive_arr = np.zeros(cn)\n",
        "pc_dead_arr = np.zeros(cn)\n",
        "pc_alive_arr, pc_dead_arr #각 클래스 별로 생존자, 사망자를 넣기 위해 초기값 지정하여 분리\n",
        "\n",
        "for index in range(len(pdata)):\n",
        "  pi = pdata[index]-1 #Pclass는 1,2,3인데 이를 0,1,2로 변환하여 인덱스로 사용하기 위해서 1 감소\n",
        "  if sur_data[index]==0: #사망한 승객일 때\n",
        "    pc_dead_arr[pi]+=1\n",
        "  else:\n",
        "    pc_alive_arr[pi]+=1 #생존한 승객일 때\n",
        "pc_alive_arr, pc_dead_arr #각 클래스의 생존자 사망자 확인\n",
        "\n",
        "labels=['1','2','3']\n",
        "plt.bar(labels,pc_alive_arr)\n",
        "plt.bar(labels,pc_dead_arr,bottom=pc_alive_arr)\n",
        "for i in range(cn):\n",
        "  plt.annotate(str(pc_alive_arr[i]),(-0.1+i, 40))\n",
        "  plt.annotate(str(pc_dead_arr[i]),(-0.1+i, pc_alive_arr[i]+30))\n",
        "plt.xlabel('Pclass')\n",
        "plt.show()"
      ],
      "metadata": {
        "colab": {
          "base_uri": "https://localhost:8080/",
          "height": 248
        },
        "id": "B0fWzbEhqqW-",
        "outputId": "582ee021-7e2a-4d06-ede0-66fc459e52ff"
      },
      "execution_count": 26,
      "outputs": [
        {
          "output_type": "error",
          "ename": "NameError",
          "evalue": "ignored",
          "traceback": [
            "\u001b[0;31m---------------------------------------------------------------------------\u001b[0m",
            "\u001b[0;31mNameError\u001b[0m                                 Traceback (most recent call last)",
            "\u001b[0;32m<ipython-input-26-c127aae510a2>\u001b[0m in \u001b[0;36m<module>\u001b[0;34m()\u001b[0m\n\u001b[1;32m      8\u001b[0m \u001b[0;32mfor\u001b[0m \u001b[0mindex\u001b[0m \u001b[0;32min\u001b[0m \u001b[0mrange\u001b[0m\u001b[0;34m(\u001b[0m\u001b[0mlen\u001b[0m\u001b[0;34m(\u001b[0m\u001b[0mpdata\u001b[0m\u001b[0;34m)\u001b[0m\u001b[0;34m)\u001b[0m\u001b[0;34m:\u001b[0m\u001b[0;34m\u001b[0m\u001b[0;34m\u001b[0m\u001b[0m\n\u001b[1;32m      9\u001b[0m   \u001b[0mpi\u001b[0m \u001b[0;34m=\u001b[0m \u001b[0mpdata\u001b[0m\u001b[0;34m[\u001b[0m\u001b[0mindex\u001b[0m\u001b[0;34m]\u001b[0m\u001b[0;34m-\u001b[0m\u001b[0;36m1\u001b[0m \u001b[0;31m#Pclass는 1,2,3인데 이를 0,1,2로 변환하여 인덱스로 사용하기 위해서 1 감소\u001b[0m\u001b[0;34m\u001b[0m\u001b[0;34m\u001b[0m\u001b[0m\n\u001b[0;32m---> 10\u001b[0;31m   \u001b[0;32mif\u001b[0m \u001b[0msur_data\u001b[0m\u001b[0;34m[\u001b[0m\u001b[0mindex\u001b[0m\u001b[0;34m]\u001b[0m\u001b[0;34m==\u001b[0m\u001b[0;36m0\u001b[0m\u001b[0;34m:\u001b[0m \u001b[0;31m#사망한 승객일 때\u001b[0m\u001b[0;34m\u001b[0m\u001b[0;34m\u001b[0m\u001b[0m\n\u001b[0m\u001b[1;32m     11\u001b[0m     \u001b[0mpc_dead_arr\u001b[0m\u001b[0;34m[\u001b[0m\u001b[0mpi\u001b[0m\u001b[0;34m]\u001b[0m\u001b[0;34m+=\u001b[0m\u001b[0;36m1\u001b[0m\u001b[0;34m\u001b[0m\u001b[0;34m\u001b[0m\u001b[0m\n\u001b[1;32m     12\u001b[0m   \u001b[0;32melse\u001b[0m\u001b[0;34m:\u001b[0m\u001b[0;34m\u001b[0m\u001b[0;34m\u001b[0m\u001b[0m\n",
            "\u001b[0;31mNameError\u001b[0m: name 'sur_data' is not defined"
          ]
        }
      ]
    },
    {
      "cell_type": "markdown",
      "source": [
        "#6. Name 컬럼에 탑승자를 부르는 호칭을 Mr, Mrs, Miss, Master, Dr, ETC로 나누어 분포를 파이 그래프로 나타내시오."
      ],
      "metadata": {
        "id": "0E5nx8TPZdd-"
      }
    },
    {
      "cell_type": "code",
      "source": [
        "df.Name\n",
        "names_values=['Mr', 'Mrs', 'Miss', 'Master', 'Dr', 'ETC']\n",
        "#names_values 중에 몇 번째 것인지 판별하는 함수\n",
        "def get_name_index(name):\n",
        "  first, second= name.split(',')#,를 기준으로 앞뒤로 분리시켜서 뒤쪽 데이터만 사용\n",
        "  foos = second.split('.' )#뒤의 데이터 중에서도 .을 기준으로 분리, 그런데 .이 있지 않은 것도 있어서 컬렉션을 받고\n",
        "  tn = foos[0].replace(' ','') #공백을 없앤다.\n",
        "  for index, nv in enumerate(names_values):\n",
        "    if nv == tn:  #names_values에 있는 각 요소들이 name에서 가져온 tn과 일치할 때\n",
        "      return index  \n",
        "  return 5\n",
        "\n",
        "#ni=get_name_index(df.Name[1])  잘 작동하는지 확인\n",
        "#print(f\"{df.Name[1]} : {names_values[ni]}\")\n",
        "\n",
        "n_cnts = np.zeros(6) #names_values 길이만큼을 원소값0 array로 만들기\n",
        "for i, name in enumerate(df.Name):\n",
        "  ni = get_name_index(name)\n",
        "  n_cnts[ni] +=1\n",
        "#print(n_cnts)\n",
        "\n",
        "plt.pie(n_cnts, labels=names_values, autopct=\"%.2f %%\")\n",
        "plt.title(\"Name\")\n",
        "plt.show()"
      ],
      "metadata": {
        "colab": {
          "base_uri": "https://localhost:8080/",
          "height": 264
        },
        "id": "zO356xbDxLfP",
        "outputId": "3741c1e7-fb82-447e-cc96-4749bdc18400"
      },
      "execution_count": 23,
      "outputs": [
        {
          "output_type": "display_data",
          "data": {
            "image/png": "[encoded data removed]",
            "text/plain": [
              "<Figure size 432x288 with 1 Axes>"
            ]
          },
          "metadata": {}
        }
      ]
    },
    {
      "cell_type": "markdown",
      "source": [
        "#7. 앞에서 구분한 호칭에 따른 생존자와 사망자를 하나의 막대그래프로 나타내시오.(아래:생존자, 위:사망자)"
      ],
      "metadata": {
        "id": "RCo3SmYwZdbz"
      }
    },
    {
      "cell_type": "code",
      "source": [
        "pn_alive_arr = np.zeros(6)\n",
        "pn_dead_arr = np.zeros(6)\n",
        "for i,name in enumerate(df.Name):\n",
        "  ni = get_name_index(name)\n",
        "  if sur_data[i]==0:\n",
        "    pn_dead_arr[ni]+=1\n",
        "  else:\n",
        "    pn_alive_arr[ni]+=1\n",
        "plt.bar(names_values, pn_alive_arr)\n",
        "plt.bar(names_values, pn_dead_arr, bottom = pn_alive_arr)\n",
        "for i in range(6):\n",
        "  plt.annotate(str(pn_alive_arr[i]),(-0.1+i,40))\n",
        "  if pn_alive_arr[i]<40:\n",
        "    plt.annotate(str(pn_dead_arr[i]),(-0.1+i, pn_alive_arr[i]+80))\n",
        "  else:\n",
        "    plt.annotate(str(pn_dead_arr[i]),(-0.1+i, pn_alive_arr[i]+80))\n",
        "plt.show()"
      ],
      "metadata": {
        "colab": {
          "base_uri": "https://localhost:8080/",
          "height": 248
        },
        "id": "da5Phux9yn4g",
        "outputId": "b93b4531-d56b-433d-d00c-1c0da6cd6fc6"
      },
      "execution_count": 22,
      "outputs": [
        {
          "output_type": "error",
          "ename": "NameError",
          "evalue": "ignored",
          "traceback": [
            "\u001b[0;31m---------------------------------------------------------------------------\u001b[0m",
            "\u001b[0;31mNameError\u001b[0m                                 Traceback (most recent call last)",
            "\u001b[0;32m<ipython-input-22-37e2668fe8bc>\u001b[0m in \u001b[0;36m<module>\u001b[0;34m()\u001b[0m\n\u001b[1;32m      2\u001b[0m \u001b[0mpn_dead_arr\u001b[0m \u001b[0;34m=\u001b[0m \u001b[0mnp\u001b[0m\u001b[0;34m.\u001b[0m\u001b[0mzeros\u001b[0m\u001b[0;34m(\u001b[0m\u001b[0;36m6\u001b[0m\u001b[0;34m)\u001b[0m\u001b[0;34m\u001b[0m\u001b[0;34m\u001b[0m\u001b[0m\n\u001b[1;32m      3\u001b[0m \u001b[0;32mfor\u001b[0m \u001b[0mi\u001b[0m\u001b[0;34m,\u001b[0m\u001b[0mname\u001b[0m \u001b[0;32min\u001b[0m \u001b[0menumerate\u001b[0m\u001b[0;34m(\u001b[0m\u001b[0mdf\u001b[0m\u001b[0;34m.\u001b[0m\u001b[0mName\u001b[0m\u001b[0;34m)\u001b[0m\u001b[0;34m:\u001b[0m\u001b[0;34m\u001b[0m\u001b[0;34m\u001b[0m\u001b[0m\n\u001b[0;32m----> 4\u001b[0;31m   \u001b[0mni\u001b[0m \u001b[0;34m=\u001b[0m \u001b[0mget_name_index\u001b[0m\u001b[0;34m(\u001b[0m\u001b[0mname\u001b[0m\u001b[0;34m)\u001b[0m\u001b[0;34m\u001b[0m\u001b[0;34m\u001b[0m\u001b[0m\n\u001b[0m\u001b[1;32m      5\u001b[0m   \u001b[0;32mif\u001b[0m \u001b[0msur_data\u001b[0m\u001b[0;34m[\u001b[0m\u001b[0mi\u001b[0m\u001b[0;34m]\u001b[0m\u001b[0;34m==\u001b[0m\u001b[0;36m0\u001b[0m\u001b[0;34m:\u001b[0m\u001b[0;34m\u001b[0m\u001b[0;34m\u001b[0m\u001b[0m\n\u001b[1;32m      6\u001b[0m     \u001b[0mpn_dead_arr\u001b[0m\u001b[0;34m[\u001b[0m\u001b[0mni\u001b[0m\u001b[0;34m]\u001b[0m\u001b[0;34m+=\u001b[0m\u001b[0;36m1\u001b[0m\u001b[0;34m\u001b[0m\u001b[0;34m\u001b[0m\u001b[0m\n",
            "\u001b[0;31mNameError\u001b[0m: name 'get_name_index' is not defined"
          ]
        }
      ]
    },
    {
      "cell_type": "markdown",
      "source": [
        "#8. 성별로 분포를 파이 그래프로 나타내시오."
      ],
      "metadata": {
        "id": "91fLvzICZdZo"
      }
    },
    {
      "cell_type": "code",
      "source": [
        "df.Sex.value_counts()"
      ],
      "metadata": {
        "colab": {
          "base_uri": "https://localhost:8080/"
        },
        "id": "-Lq-NKBLS2wk",
        "outputId": "dc88c99d-744b-4903-f6b8-7a32947f33c0"
      },
      "execution_count": null,
      "outputs": [
        {
          "output_type": "execute_result",
          "data": {
            "text/plain": [
              "male      577\n",
              "female    314\n",
              "Name: Sex, dtype: int64"
            ]
          },
          "metadata": {},
          "execution_count": 9
        }
      ]
    },
    {
      "cell_type": "code",
      "source": [
        "svc = df.Sex.value_counts().sort_index()\n",
        "plt.pie(svc.values, labels = ['female', 'male'], autopct=\"%.2f%%\", explode=[0.02, 0.02])\n",
        "plt.title(\"Sex\")\n",
        "plt.show()"
      ],
      "metadata": {
        "colab": {
          "base_uri": "https://localhost:8080/",
          "height": 264
        },
        "id": "zPpoX34KS7Fh",
        "outputId": "d0542e72-7ce3-46f9-d784-6d04c659d6a6"
      },
      "execution_count": null,
      "outputs": [
        {
          "output_type": "display_data",
          "data": {
            "image/png": "[encoded data removed]",
            "text/plain": [
              "<Figure size 432x288 with 1 Axes>"
            ]
          },
          "metadata": {}
        }
      ]
    },
    {
      "cell_type": "code",
      "source": [
        "sex_values = ['female', 'male']\n",
        "def get_sex_index(sex):\n",
        "  if sex == 'female':\n",
        "    return 0\n",
        "  return 1\n",
        "\n",
        "s_cnts = np.zeros(2)\n",
        "for i, sex in enumerate(df.Sex):\n",
        "  si = get_sex_index(sex)\n",
        "  s_cnts[si] += 1\n",
        "\n",
        "plt.pie(s_cnts, labels=sex_values, autopct=\"%.2f%%\")\n",
        "plt.title(\"Sex\")\n",
        "plt.show()"
      ],
      "metadata": {
        "colab": {
          "base_uri": "https://localhost:8080/",
          "height": 264
        },
        "id": "uX60_IXKR7Fm",
        "outputId": "b4347ac8-bb08-4545-bb28-90311f94ebac"
      },
      "execution_count": null,
      "outputs": [
        {
          "output_type": "display_data",
          "data": {
            "image/png": "[encoded data removed]",
            "text/plain": [
              "<Figure size 432x288 with 1 Axes>"
            ]
          },
          "metadata": {}
        }
      ]
    },
    {
      "cell_type": "markdown",
      "source": [
        "#9. 성별에 따른 생존자와 사망자를 하나의 막대그래프로 나타내시오.(아래:생존자, 위:사망자)"
      ],
      "metadata": {
        "id": "gkP6oGP3ZdXQ"
      }
    },
    {
      "cell_type": "code",
      "source": [
        "sdata = df.Sex\n",
        "sn=len(sdata.unique())\n",
        "ps_alive_arr = np.zeros(sn)\n",
        "ps_dead_arr = np.zeros(sn)\n",
        "for index in range(len(sdata)):\n",
        "  if sdata[index] == 'female':\n",
        "    si = 0\n",
        "  else:\n",
        "    si = 1\n",
        "  if sur_data[index]==0:\n",
        "    ps_dead_arr[si]+=1\n",
        "  else:\n",
        "    ps_alive_arr[si]+=1\n",
        "  \n",
        "labels=['female', 'male']\n",
        "plt.bar(labels, ps_alive_arr)\n",
        "plt.bar(labels, ps_dead_arr, bottom=ps_alive_arr)\n",
        "for i in range(sn):\n",
        "  plt.annotate(str(ps_alive_arr[i]), (-0.1+i, 40))\n",
        "  plt.annotate(str(ps_dead_arr[i]), (-0.1+i, ps_alive_arr[i]+30))\n",
        "plt.show()\n",
        "\n"
      ],
      "metadata": {
        "colab": {
          "base_uri": "https://localhost:8080/",
          "height": 266
        },
        "id": "UoCTt1MATcws",
        "outputId": "04a480b0-318f-47dd-b89c-8a9c18fea53e"
      },
      "execution_count": null,
      "outputs": [
        {
          "output_type": "display_data",
          "data": {
            "image/png": "[encoded data removed]",
            "text/plain": [
              "<Figure size 432x288 with 1 Axes>"
            ]
          },
          "metadata": {
            "needs_background": "light"
          }
        }
      ]
    },
    {
      "cell_type": "markdown",
      "source": [
        ""
      ],
      "metadata": {
        "id": "PzAefFaVak8w"
      }
    },
    {
      "cell_type": "markdown",
      "source": [
        "#10. 나이를 5살 범위로 17단계로(0-5, 5-10,...,80-85)로 나누어 분포를 조사하여 파이 그래프로 나타내시오.(결측값은 평균나이로 처리하시오.)\n"
      ],
      "metadata": {
        "id": "V4lzkOCFZdU2"
      }
    },
    {
      "cell_type": "code",
      "source": [
        "#결측데이터 채우기\n",
        "#df.Age.isnull().value_counts()\n",
        "mv = df.Age.mean() #평균\n",
        "ad = df.Age.fillna(mv) #결측치를 수정\n",
        "ad.isnull().value_counts() #확인"
      ],
      "metadata": {
        "colab": {
          "base_uri": "https://localhost:8080/"
        },
        "id": "iKGZI77eZLi_",
        "outputId": "a8eec2b8-9431-4639-eac3-88c7ec563b3b"
      },
      "execution_count": 43,
      "outputs": [
        {
          "output_type": "execute_result",
          "data": {
            "text/plain": [
              "False    891\n",
              "Name: Age, dtype: int64"
            ]
          },
          "metadata": {},
          "execution_count": 43
        }
      ]
    },
    {
      "cell_type": "code",
      "source": [
        "#histogram 도수 분포표를 막대 그래프로 시각화\n",
        "n, bins, patches = plt.hist(ad, bins=[0,5,10,15,20,25,30,35,40,45,50,55,60,65,70,75,80,85])\n",
        "plt.show()"
      ],
      "metadata": {
        "colab": {
          "base_uri": "https://localhost:8080/",
          "height": 265
        },
        "id": "63Es8LNEf6al",
        "outputId": "34ff4d08-90f7-4e50-c650-8e9fbc550e19"
      },
      "execution_count": 44,
      "outputs": [
        {
          "output_type": "display_data",
          "data": {
            "image/png": "[encoded data removed]",
            "text/plain": [
              "<Figure size 432x288 with 1 Axes>"
            ]
          },
          "metadata": {
            "needs_background": "light"
          }
        }
      ]
    },
    {
      "cell_type": "code",
      "source": [
        "#위에서 n을 가져온다\n",
        "n, _, _ = plt.hist(ad, bins=[0,5,10,15,20,25,30,35,40,45,50,55,60,65,70,75,80,85])\n",
        "plt.show()"
      ],
      "metadata": {
        "id": "GvlMcnlQgrUY",
        "colab": {
          "base_uri": "https://localhost:8080/",
          "height": 265
        },
        "outputId": "f316ce60-7be7-49c3-9372-01edb240626d"
      },
      "execution_count": 50,
      "outputs": [
        {
          "output_type": "display_data",
          "data": {
            "image/png": "[encoded data removed]",
            "text/plain": [
              "<Figure size 432x288 with 1 Axes>"
            ]
          },
          "metadata": {
            "needs_background": "light"
          }
        }
      ]
    },
    {
      "cell_type": "code",
      "source": [
        "numbers=['0','5','10','15','20','25','30','35','40','45','50','55','60','65','70','75','80']\n",
        "plt.pie(n, labels=numbers, autopct=\"%.2f%%\")\n",
        "plt.title('By Age')\n",
        "plt.show()"
      ],
      "metadata": {
        "colab": {
          "base_uri": "https://localhost:8080/",
          "height": 264
        },
        "id": "Ib7IuPCGhiao",
        "outputId": "3ed97b1b-876d-4a61-c557-4835aef63a5e"
      },
      "execution_count": 67,
      "outputs": [
        {
          "output_type": "display_data",
          "data": {
            "image/png": "[encoded data removed]",
            "text/plain": [
              "<Figure size 432x288 with 1 Axes>"
            ]
          },
          "metadata": {}
        }
      ]
    },
    {
      "cell_type": "code",
      "source": [
        "#hist 몰랐을 때 하는 법\n",
        "age_values=np.zeros(17)\n",
        "for i, age in enumerate(ad):\n",
        "  ai = age//5 #age_values에 사용할 인덱스\n",
        "  ai = int(ai) #ai가 float이기 때문에 int로 형변환\n",
        "  age_values[ai]+=1\n",
        "age_values"
      ],
      "metadata": {
        "colab": {
          "base_uri": "https://localhost:8080/"
        },
        "id": "c_qS-U0wg6Nz",
        "outputId": "07185145-39ba-4b4e-e744-2b233a4a1740"
      },
      "execution_count": 46,
      "outputs": [
        {
          "output_type": "execute_result",
          "data": {
            "text/plain": [
              "array([ 40.,  22.,  16.,  86., 114., 283.,  95.,  72.,  48.,  41.,  32.,\n",
              "        16.,  15.,   4.,   6.,   0.,   1.])"
            ]
          },
          "metadata": {},
          "execution_count": 46
        }
      ]
    },
    {
      "cell_type": "code",
      "source": [
        "plt.pie(age_values, labels=['0-5','5-10','10-15','15-20','20-25','25-30','30-35','35-40','40-45','45-50','50-55','55-60','60-65','65-70','70-75','75-80','80-85'], autopct=\"%.2f%%\")\n",
        "plt.show()"
      ],
      "metadata": {
        "colab": {
          "base_uri": "https://localhost:8080/",
          "height": 248
        },
        "id": "f1YYUGb6h_wF",
        "outputId": "a98947d3-555d-4468-bb77-d682df008a6a"
      },
      "execution_count": 47,
      "outputs": [
        {
          "output_type": "display_data",
          "data": {
            "image/png": "[encoded data removed]",
            "text/plain": [
              "<Figure size 432x288 with 1 Axes>"
            ]
          },
          "metadata": {}
        }
      ]
    },
    {
      "cell_type": "markdown",
      "source": [
        "#11. 나이를 구분한 단계에 따른 생존자와 사망자를 하나의 막대그래프로 나타내시오.(아래:생존자, 위:사망자)"
      ],
      "metadata": {
        "id": "5oJYgmwzZdSo"
      }
    },
    {
      "cell_type": "code",
      "source": [
        "ps_alive_arr = np.zeros(17)\n",
        "ps_dead_arr = np.zeros(17)\n",
        "for index in range(len(ad)):\n",
        "  ai = ad[index]//5 \n",
        "  ai = int(ai) \n",
        "\n",
        "  if sur_data[index]==0:\n",
        "    ps_dead_arr[ai]+=1\n",
        "  else:\n",
        "    ps_alive_arr[ai]+=1\n",
        "  \n",
        "labels=['0','5','10','15','20','25','30','35','40','45','50','55','60','65','70','75','80']\n",
        "plt.bar(labels, ps_alive_arr)\n",
        "plt.bar(labels, ps_dead_arr, bottom=ps_alive_arr)\n",
        "plt.show()\n",
        "for i in range(17):\n",
        "  print(f\"{i*5:4d}  ~  {(i+1)*5}:{age_values[i]}\")\n"
      ],
      "metadata": {
        "colab": {
          "base_uri": "https://localhost:8080/",
          "height": 578
        },
        "id": "i4S8IdZIixDe",
        "outputId": "645b35d0-a4e8-4c58-8035-92e683e3d8c9"
      },
      "execution_count": null,
      "outputs": [
        {
          "output_type": "display_data",
          "data": {
            "image/png": "[encoded data removed]",
            "text/plain": [
              "<Figure size 432x288 with 1 Axes>"
            ]
          },
          "metadata": {
            "needs_background": "light"
          }
        },
        {
          "output_type": "stream",
          "name": "stdout",
          "text": [
            "   0  ~  5:40.0\n",
            "   5  ~  10:22.0\n",
            "  10  ~  15:16.0\n",
            "  15  ~  20:86.0\n",
            "  20  ~  25:114.0\n",
            "  25  ~  30:283.0\n",
            "  30  ~  35:95.0\n",
            "  35  ~  40:72.0\n",
            "  40  ~  45:48.0\n",
            "  45  ~  50:41.0\n",
            "  50  ~  55:32.0\n",
            "  55  ~  60:16.0\n",
            "  60  ~  65:15.0\n",
            "  65  ~  70:4.0\n",
            "  70  ~  75:6.0\n",
            "  75  ~  80:0.0\n",
            "  80  ~  85:1.0\n"
          ]
        }
      ]
    },
    {
      "cell_type": "markdown",
      "source": [
        "#12. SibSp 컬럼의 값의 종류에 따른 분포를 조사하여 파이 그래프로 나타내시오."
      ],
      "metadata": {
        "id": "kZTVSM-aZdQa"
      }
    },
    {
      "cell_type": "code",
      "source": [
        "df.SibSp.value_counts()\n",
        "df.SibSp.isnull().value_counts()\n",
        "svc = df.SibSp.value_counts().sort_index()\n",
        "plt.pie(svc.values, labels = svc.index , autopct=\"%.2f%%\")\n",
        "plt.title(\"SibSp\")\n",
        "plt.show()"
      ],
      "metadata": {
        "colab": {
          "base_uri": "https://localhost:8080/",
          "height": 264
        },
        "id": "5elpDFYppAi1",
        "outputId": "20e99e21-37c3-46ff-d832-1571f282d466"
      },
      "execution_count": null,
      "outputs": [
        {
          "output_type": "display_data",
          "data": {
            "image/png": "[encoded data removed]",
            "text/plain": [
              "<Figure size 432x288 with 1 Axes>"
            ]
          },
          "metadata": {}
        }
      ]
    },
    {
      "cell_type": "markdown",
      "source": [
        "#13. 값에 따른 생존자와 사망자를 하나의 막대그래프로 나타내시오.(아래:생존자, 위:사망자)"
      ],
      "metadata": {
        "id": "B4hM74uYZdOA"
      }
    },
    {
      "cell_type": "code",
      "source": [
        "sdata = df.SibSp\n",
        "sn = 9 #형제자매 수를 인덱스로 사용하기 위해서 0-8까지 9개를 사용\n",
        "sc_alive_arr = np.zeros(sn)\n",
        "sc_dead_arr = np.zeros(sn)\n",
        "for index in range(len(sdata)):\n",
        "  si = sdata[index] #형제자매수를얻어온다\n",
        "  if sur_data[index]==0:\n",
        "    sc_dead_arr[si]+=1\n",
        "  else:\n",
        "    sc_alive_arr[si]+=1\n",
        "  \n",
        "labels=[str(i) for i in range(9)]\n",
        "plt.bar(labels,sc_alive_arr)\n",
        "plt.bar(labels,sc_dead_arr,bottom=sc_alive_arr)\n",
        "for i in range(sn):\n",
        "  plt.annotate(str(sc_alive_arr[i]),(-0.2+i, 40))\n",
        "  if sc_alive_arr[i]<40:\n",
        "    plt.annotate(str(sc_dead_arr[i]),(-0.2+i, sc_alive_arr[i]+80))\n",
        "  else:\n",
        "    plt.annotate(str(sc_dead_arr[i]),(-0.2+i, sc_alive_arr[i]+30))\n",
        "plt.show()"
      ],
      "metadata": {
        "colab": {
          "base_uri": "https://localhost:8080/",
          "height": 264
        },
        "id": "W8atnG2WpBVS",
        "outputId": "b68ccbbf-774e-4564-f074-59a030012c47"
      },
      "execution_count": null,
      "outputs": [
        {
          "output_type": "display_data",
          "data": {
            "image/png": "[encoded data removed]",
            "text/plain": [
              "<Figure size 432x288 with 1 Axes>"
            ]
          },
          "metadata": {
            "needs_background": "light"
          }
        }
      ]
    },
    {
      "cell_type": "code",
      "source": [
        "a_data = df['Age'] #같은 표현 a_data = df.Age\n",
        "a_data\n",
        "print(type(a_data))\n",
        "#데이터 프레임 = 여러개의 시리즈\n",
        "#데이터 프레임에서 특정한 컬럼을 추출하면 하나의 시리즈\n",
        "a_data.value_counts() #분포수 세기\n",
        "a_data.unique() #값의 종류가 무엇인지만 확인하고 싶을 때\n",
        "a_data.fillna(mv) # 결측값 채우기\n",
        "a_data.isnull().value_counts() #결측 데이터 있는지 확인하기\n",
        "a_data = a_data.fillna(mv) #결측값 채우고 a_data 에 다시 넣어주기\n",
        "a_data.isnull().value_counts() #그 다음에 결측 데이터 있는지 확인하면 사라져있다.\n",
        "n_data = df.Name\n",
        "n_data"
      ],
      "metadata": {
        "colab": {
          "base_uri": "https://localhost:8080/"
        },
        "id": "R-zudFVAP5IO",
        "outputId": "e0ce1fea-e88e-415d-e75c-f997e04fc2da"
      },
      "execution_count": 5,
      "outputs": [
        {
          "output_type": "stream",
          "name": "stdout",
          "text": [
            "<class 'pandas.core.series.Series'>\n"
          ]
        },
        {
          "output_type": "execute_result",
          "data": {
            "text/plain": [
              "24.00    30\n",
              "22.00    27\n",
              "18.00    26\n",
              "19.00    25\n",
              "28.00    25\n",
              "         ..\n",
              "36.50     1\n",
              "55.50     1\n",
              "0.92      1\n",
              "23.50     1\n",
              "74.00     1\n",
              "Name: Age, Length: 88, dtype: int64"
            ]
          },
          "metadata": {},
          "execution_count": 5
        }
      ]
    },
    {
      "cell_type": "code",
      "source": [
        "n_data = df.Name\n",
        "n_data\n",
        "def get_call_name(name):\n",
        "  _,s = name.split(',') #필요없는 데이터는 _ 로 표시\n",
        "  #sf, ss = s.split('.') #second의 first 그리고 second의 second\n",
        "  foos = s.split('.') #컬렉션에 넣기 Mr 다음에 . 있는 것 분리\n",
        "  return foos[0].replace(' ','')\n",
        "#get_call_name(n_data[0])\n",
        "for name in n_data:\n",
        "#  print(get_call_name(name))\n",
        "  if get_call_name(name) == \"Mr\":\n",
        "    print(\".\")\n"
      ],
      "metadata": {
        "id": "MSpRCalmSb7h"
      },
      "execution_count": null,
      "outputs": []
    },
    {
      "cell_type": "code",
      "source": [
        "df.info() #전체 summary"
      ],
      "metadata": {
        "colab": {
          "base_uri": "https://localhost:8080/"
        },
        "id": "-jx88O6eV0pP",
        "outputId": "d0a8d798-bdea-460c-8b41-de44d80b5a14"
      },
      "execution_count": 11,
      "outputs": [
        {
          "output_type": "stream",
          "name": "stdout",
          "text": [
            "<class 'pandas.core.frame.DataFrame'>\n",
            "RangeIndex: 891 entries, 0 to 890\n",
            "Data columns (total 12 columns):\n",
            " #   Column       Non-Null Count  Dtype  \n",
            "---  ------       --------------  -----  \n",
            " 0   PassengerId  891 non-null    int64  \n",
            " 1   Survived     891 non-null    int64  \n",
            " 2   Pclass       891 non-null    int64  \n",
            " 3   Name         891 non-null    object \n",
            " 4   Sex          891 non-null    object \n",
            " 5   Age          714 non-null    float64\n",
            " 6   SibSp        891 non-null    int64  \n",
            " 7   Parch        891 non-null    int64  \n",
            " 8   Ticket       891 non-null    object \n",
            " 9   Fare         891 non-null    float64\n",
            " 10  Cabin        204 non-null    object \n",
            " 11  Embarked     889 non-null    object \n",
            "dtypes: float64(2), int64(5), object(5)\n",
            "memory usage: 83.7+ KB\n"
          ]
        }
      ]
    },
    {
      "cell_type": "markdown",
      "source": [
        "#14. Parch 컬럼의 값의 종류에 따른 분포를 조사하여 파이 그래프로 나타내시오."
      ],
      "metadata": {
        "id": "iqCtgPn6ZdLs"
      }
    },
    {
      "cell_type": "code",
      "source": [
        "pvc = df.Parch.value_counts().sort_index() #pvc가 시리즈\n",
        "plt.pie(pvc.values, labels = pvc.index , autopct=\"%.2f%%\", explode=[0.02, 0.02, 0.02, 0.02, 0.02, 0.02, 0.02])\n",
        "plt.title(\"Parch\")\n",
        "plt.show()"
      ],
      "metadata": {
        "colab": {
          "base_uri": "https://localhost:8080/",
          "height": 264
        },
        "id": "gBYNNlvfclcx",
        "outputId": "54605630-0207-405c-c5a3-4c643878d9a6"
      },
      "execution_count": 40,
      "outputs": [
        {
          "output_type": "display_data",
          "data": {
            "image/png": "[encoded data removed]",
            "text/plain": [
              "<Figure size 432x288 with 1 Axes>"
            ]
          },
          "metadata": {}
        }
      ]
    },
    {
      "cell_type": "markdown",
      "source": [
        "#15. 값에 따른 생존자와 사망자를 하나의 막대그래프로 나타내시오.(아래:생존자, 위:사망자)"
      ],
      "metadata": {
        "id": "TUp65vrLZdJP"
      }
    },
    {
      "cell_type": "code",
      "source": [
        "pdata = df.Parch\n",
        "pn = 7 #직계 가족수를 인덱스로 사용하기 위해서 0~6까지 7개를 사용\n",
        "pc_alive_arr = np.zeros(pn)\n",
        "pc_dead_arr = np.zeros(pn)\n",
        "for index in range(len(pdata)):\n",
        "  pi = pdata[index] #직계 가족 수\n",
        "  if sur_data[index]==0: #사망 승객\n",
        "    pc_dead_arr[pi]+=1\n",
        "  else: #생존 승객\n",
        "    pc_alive_arr[pi]+=1\n",
        "  \n",
        "labels=[str(i) for i in range(pn)] #0~7까지 문자열로\n",
        "plt.bar(labels,pc_alive_arr)\n",
        "plt.bar(labels,pc_dead_arr,bottom=pc_alive_arr)\n",
        "for i in range(pn):\n",
        "  plt.annotate(str(pc_alive_arr[i]),(-0.2+i, 40))\n",
        "  if pc_alive_arr[i]<40:\n",
        "    plt.annotate(str(pc_dead_arr[i]),(-0.2+i, pc_alive_arr[i]+80))\n",
        "  else:\n",
        "    plt.annotate(str(pc_dead_arr[i]),(-0.2+i, pc_alive_arr[i]+30))\n",
        "plt.title('Parch')\n",
        "plt.show()"
      ],
      "metadata": {
        "colab": {
          "base_uri": "https://localhost:8080/",
          "height": 281
        },
        "id": "yCQUHwTPdd6Y",
        "outputId": "be36b4eb-0c02-45e3-fbd4-16b01fe3fba7"
      },
      "execution_count": 41,
      "outputs": [
        {
          "output_type": "display_data",
          "data": {
            "image/png": "[encoded data removed]",
            "text/plain": [
              "<Figure size 432x288 with 1 Axes>"
            ]
          },
          "metadata": {
            "needs_background": "light"
          }
        }
      ]
    },
    {
      "cell_type": "markdown",
      "source": [
        "#16. 승선한 항구(Embarked 컬럼)에 따른 분포를 조사하여 파이 그래프로 나타내시오.(결측값은 'N'으로 마킹하시오.)"
      ],
      "metadata": {
        "id": "s-d8JIC_ZdG0"
      }
    },
    {
      "cell_type": "code",
      "source": [
        "#결측데이터 확인\n",
        "df.Embarked.isnull().value_counts()\n",
        "#결측데이터 없애기\n",
        "edata = df.Embarked.fillna('N')\n",
        "edata.isnull().value_counts()"
      ],
      "metadata": {
        "colab": {
          "base_uri": "https://localhost:8080/"
        },
        "id": "F4eSkBiCkefO",
        "outputId": "e8387d10-785d-4927-ec90-8341a3b9af8e"
      },
      "execution_count": 69,
      "outputs": [
        {
          "output_type": "execute_result",
          "data": {
            "text/plain": [
              "False    891\n",
              "Name: Embarked, dtype: int64"
            ]
          },
          "metadata": {},
          "execution_count": 69
        }
      ]
    },
    {
      "cell_type": "code",
      "source": [
        "evc =edata.value_counts()\n",
        "#print(type(evc)) evc의 타입은 시리즈 scqn은 인덱스 644 168 77 2 는 value\n",
        "plt.pie(evc.values, labels = evc.index , autopct=\"%.2f%%\")\n",
        "plt.title(\"Embarked\")\n",
        "plt.show()"
      ],
      "metadata": {
        "colab": {
          "base_uri": "https://localhost:8080/",
          "height": 264
        },
        "id": "2Z3UjEXykwrP",
        "outputId": "64ca7480-128d-4115-a334-cda302d4f8b1"
      },
      "execution_count": 70,
      "outputs": [
        {
          "output_type": "display_data",
          "data": {
            "image/png": "[encoded data removed]",
            "text/plain": [
              "<Figure size 432x288 with 1 Axes>"
            ]
          },
          "metadata": {}
        }
      ]
    },
    {
      "cell_type": "markdown",
      "source": [
        "#17. 값에 따른 생존자와 사망자를 하나의 막대그래프로 나타내시오.(아래:생존자, 위:사망자)"
      ],
      "metadata": {
        "id": "q0Zar41aZdEV"
      }
    },
    {
      "cell_type": "code",
      "source": [
        "evc.index # s는 eve[0]\n",
        "#각 요소의 인덱스를 지정\n",
        "def get_embarked_index(embarked):\n",
        "  if embarked == \"S\":\n",
        "    return 0\n",
        "  if embarked == \"C\":\n",
        "    return 1\n",
        "  if embarked == \"Q\":\n",
        "    return 2\n",
        "  if embarked == \"N\":\n",
        "    return 3  \n",
        "#잘 돌아가는지 확인\n",
        "#i=0\n",
        "#print(edata[i], get_embarked_index(edata[i]))"
      ],
      "metadata": {
        "colab": {
          "base_uri": "https://localhost:8080/"
        },
        "id": "_3fm_CqWlvnm",
        "outputId": "0d125a2d-4554-416d-ea23-e1d0602769c7"
      },
      "execution_count": 73,
      "outputs": [
        {
          "output_type": "stream",
          "name": "stdout",
          "text": [
            "S 0\n"
          ]
        }
      ]
    },
    {
      "cell_type": "code",
      "source": [
        "edata.unique() #값의 종류 확인\n",
        "en = len(edata.unique()) #승선한 항구 수\n",
        "ec_alive_arr = np.zeros(en)\n",
        "ec_dead_arr = np.zeros(en)\n",
        "for index in range(len(edata)):\n",
        "  ei = get_embarked_index(edata[index]) #embarked의 인덱스 얻어온다\n",
        "  if sur_data[index]==0: #사망 승객\n",
        "    ec_dead_arr[ei]+=1\n",
        "  else: #생존 승객\n",
        "    ec_alive_arr[ei]+=1\n",
        "  \n",
        "labels=evc.index\n",
        "plt.bar(labels,ec_alive_arr)\n",
        "plt.bar(labels,ec_dead_arr,bottom=ec_alive_arr)\n",
        "for i in range(en):\n",
        "  plt.annotate(str(ec_alive_arr[i]),(-0.2+i, 40))\n",
        "  if ec_alive_arr[i]<40:\n",
        "    plt.annotate(str(ec_dead_arr[i]),(-0.2+i, ec_alive_arr[i]+80))\n",
        "  else:\n",
        "    plt.annotate(str(ec_dead_arr[i]),(-0.2+i, ec_alive_arr[i]+30))\n",
        "plt.title('Embarked')\n",
        "plt.show()"
      ],
      "metadata": {
        "colab": {
          "base_uri": "https://localhost:8080/",
          "height": 281
        },
        "id": "e2DVa_UJlJYP",
        "outputId": "ab29e4ae-0693-47ee-8f29-7ac1f69ff33b"
      },
      "execution_count": 75,
      "outputs": [
        {
          "output_type": "display_data",
          "data": {
            "image/png": "[encoded data removed]",
            "text/plain": [
              "<Figure size 432x288 with 1 Axes>"
            ]
          },
          "metadata": {
            "needs_background": "light"
          }
        }
      ]
    }
  ]
}