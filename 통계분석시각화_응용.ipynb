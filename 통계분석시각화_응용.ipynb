{
  "nbformat": 4,
  "nbformat_minor": 0,
  "metadata": {
    "colab": {
      "name": "통계분석시각화-응용.ipynb",
      "provenance": [],
      "authorship_tag": "ABX9TyO4KYzxCMZ8v66i+bNiumKq",
      "include_colab_link": true
    },
    "kernelspec": {
      "name": "python3",
      "display_name": "Python 3"
    },
    "language_info": {
      "name": "python"
    }
  },
  "cells": [
    {
      "cell_type": "markdown",
      "metadata": {
        "id": "view-in-github",
        "colab_type": "text"
      },
      "source": [
        "<a href=\"https://colab.research.google.com/github/Es-YES-Ye/Python/blob/main/%ED%86%B5%EA%B3%84%EB%B6%84%EC%84%9D%EC%8B%9C%EA%B0%81%ED%99%94_%EC%9D%91%EC%9A%A9.ipynb\" target=\"_parent\"><img src=\"https://colab.research.google.com/assets/colab-badge.svg\" alt=\"Open In Colab\"/></a>"
      ]
    },
    {
      "cell_type": "code",
      "source": [
        "import urllib.request\n",
        "\n",
        "\n",
        "url = 'https://dapi.kakao.com/v3/search/book' #OpenAPI 서비스 제공URL\n",
        "target_param = \"target=title\" #전달 인자\n",
        "page_param = \"page=2\"         #전달 인자\n",
        "query_in = input(\"검색 질의:\")\n",
        "query_param = \"query=\"+urllib.parse.quote(query_in) #utf-8로 인코딩, 전달인자\n",
        "\n",
        "query_str = url+'?'+target_param+'&'+query_param+'&'+page_param #쿼리문자열\n",
        "\n",
        "print(query_str)\n",
        "\n",
        "request = urllib.request.Request(query_str) #서비스 요청에 사용할 개체를 생성\n",
        "request.add_header(\"Authorization\", \"KakaoAK PersonaoKEY\") #자신이 발급받은 키로 수정\n",
        "response = urllib.request.urlopen(request) #웹 서버에 요청\n",
        "res = response.read().decode('utf-8')\n",
        "print(res)"
      ],
      "metadata": {
        "id": "q7xI82vzKqw5"
      },
      "execution_count": null,
      "outputs": []
    },
    {
      "cell_type": "code",
      "source": [
        "import json\n",
        "jd = json.loads(res)\n",
        "print(jd)"
      ],
      "metadata": {
        "colab": {
          "base_uri": "https://localhost:8080/",
          "height": 211
        },
        "id": "TK0mkOh6KfHG",
        "outputId": "1aa47da7-63cb-492b-cede-340e78d2bddb"
      },
      "execution_count": 2,
      "outputs": [
        {
          "output_type": "error",
          "ename": "NameError",
          "evalue": "ignored",
          "traceback": [
            "\u001b[0;31m---------------------------------------------------------------------------\u001b[0m",
            "\u001b[0;31mNameError\u001b[0m                                 Traceback (most recent call last)",
            "\u001b[0;32m<ipython-input-2-fad7f9466994>\u001b[0m in \u001b[0;36m<module>\u001b[0;34m()\u001b[0m\n\u001b[1;32m      1\u001b[0m \u001b[0;32mimport\u001b[0m \u001b[0mjson\u001b[0m\u001b[0;34m\u001b[0m\u001b[0;34m\u001b[0m\u001b[0m\n\u001b[0;32m----> 2\u001b[0;31m \u001b[0mjd\u001b[0m \u001b[0;34m=\u001b[0m \u001b[0mjson\u001b[0m\u001b[0;34m.\u001b[0m\u001b[0mloads\u001b[0m\u001b[0;34m(\u001b[0m\u001b[0mres\u001b[0m\u001b[0;34m)\u001b[0m\u001b[0;34m\u001b[0m\u001b[0;34m\u001b[0m\u001b[0m\n\u001b[0m\u001b[1;32m      3\u001b[0m \u001b[0mprint\u001b[0m\u001b[0;34m(\u001b[0m\u001b[0mjd\u001b[0m\u001b[0;34m)\u001b[0m\u001b[0;34m\u001b[0m\u001b[0;34m\u001b[0m\u001b[0m\n",
            "\u001b[0;31mNameError\u001b[0m: name 'res' is not defined"
          ]
        }
      ]
    },
    {
      "cell_type": "code",
      "source": [
        "import pandas as pd\n",
        "df = pd.json_normalize(jd['documents'])\n",
        "df.info()"
      ],
      "metadata": {
        "colab": {
          "base_uri": "https://localhost:8080/",
          "height": 211
        },
        "id": "4_ypC6qVK7cl",
        "outputId": "d6e125b2-5cfd-41aa-e7ea-82dc911d4591"
      },
      "execution_count": 3,
      "outputs": [
        {
          "output_type": "error",
          "ename": "NameError",
          "evalue": "ignored",
          "traceback": [
            "\u001b[0;31m---------------------------------------------------------------------------\u001b[0m",
            "\u001b[0;31mNameError\u001b[0m                                 Traceback (most recent call last)",
            "\u001b[0;32m<ipython-input-3-1a6082194b21>\u001b[0m in \u001b[0;36m<module>\u001b[0;34m()\u001b[0m\n\u001b[1;32m      1\u001b[0m \u001b[0;32mimport\u001b[0m \u001b[0mpandas\u001b[0m \u001b[0;32mas\u001b[0m \u001b[0mpd\u001b[0m\u001b[0;34m\u001b[0m\u001b[0;34m\u001b[0m\u001b[0m\n\u001b[0;32m----> 2\u001b[0;31m \u001b[0mdf\u001b[0m \u001b[0;34m=\u001b[0m \u001b[0mpd\u001b[0m\u001b[0;34m.\u001b[0m\u001b[0mjson_normalize\u001b[0m\u001b[0;34m(\u001b[0m\u001b[0mjd\u001b[0m\u001b[0;34m[\u001b[0m\u001b[0;34m'documents'\u001b[0m\u001b[0;34m]\u001b[0m\u001b[0;34m)\u001b[0m\u001b[0;34m\u001b[0m\u001b[0;34m\u001b[0m\u001b[0m\n\u001b[0m\u001b[1;32m      3\u001b[0m \u001b[0mdf\u001b[0m\u001b[0;34m.\u001b[0m\u001b[0minfo\u001b[0m\u001b[0;34m(\u001b[0m\u001b[0;34m)\u001b[0m\u001b[0;34m\u001b[0m\u001b[0;34m\u001b[0m\u001b[0m\n",
            "\u001b[0;31mNameError\u001b[0m: name 'jd' is not defined"
          ]
        }
      ]
    },
    {
      "cell_type": "code",
      "source": [
        "url = 'https://openapi.naver.com/v1/search/book.xml'\n",
        "\n",
        "query_in =input(\"검색 질의 : \") #사용자로부터 입력받은 것\n",
        "query_param = \"query=\"+urllib.parse.quote(query_in) #utf-8로 인코딩 #쿼리부분에 대한 param완성\n",
        "query_str = url+'?'+query_param\n",
        "\n",
        "print(query_str)\n",
        "\n",
        "request = urllib.request.Request(query_str) #서비스 요청에 사용할 개체를 생성\n",
        "request.add_header('X-Naver-Client-Id', 'PersonaoKEY')\n",
        "request.add_header('X-Naver-Client-Secret', 'PersonaoKEY')\n",
        "#request.add_header('X-Naver-Client-Id', '발급받은 client id')\n",
        "#request.add_header('X-Naver-Client-Secret', '발급받은 client secret')\n",
        "\n",
        "response = urllib.request.urlopen(request)\n",
        "res = response.read().decode(\"utf-8\")\n",
        "print(res)"
      ],
      "metadata": {
        "colab": {
          "base_uri": "https://localhost:8080/"
        },
        "id": "WfvhGOUeLiQj",
        "outputId": "85b2a651-c4d3-41b9-9895-7d9429f6f833"
      },
      "execution_count": 4,
      "outputs": [
        {
          "output_type": "stream",
          "name": "stdout",
          "text": [
            "검색 질의 : 파이썬\n",
            "https://openapi.naver.com/v1/search/book.xml?query=%ED%8C%8C%EC%9D%B4%EC%8D%AC\n",
            "<?xml version=\"1.0\" encoding=\"UTF-8\"?><rss version=\"2.0\"><channel><title>Naver Open API - book ::'파이썬'</title><link>https://search.naver.com</link><description>Naver Search Result</description><lastBuildDate>Thu, 03 Mar 2022 10:26:47 +0900</lastBuildDate><total>1509</total><start>1</start><display>10</display><item><title>혼자 공부하는 &lt;b&gt;파이썬&lt;/b&gt; (&lt;b&gt;파이썬&lt;/b&gt; 최신 버전 반영)</title><link>http://book.naver.com/bookdb/book_detail.php?bid=15028688</link><image>https://bookthumb-phinf.pstatic.net/cover/150/286/15028688.jpg?type=m1&amp;udate=20220129</image><author>윤인성</author><price>18000</price><discount>16200</discount><publisher>한빛미디어</publisher><pubdate>20190610</pubdate><isbn>1162241888 9791162241882</isbn><description>1:1 과외하듯 배우는 &lt;b&gt;파이썬&lt;/b&gt; 프로그래밍 자습서(&lt;b&gt;파이썬&lt;/b&gt; 최신 버전 반영)\n",
            "27명의 베타리더 검증으로, ‘함께 만든’ 입문자 맞춤형 도서\n",
            "\n",
            "이 책은 독학으로 프로그래밍 언어를 처음 배우려는 입문자가, 혹은 &lt;b&gt;파이썬&lt;/b&gt;을 배우려는 입문자가 ‘꼭 필요한 내용을 제대로’ 학습할 수 있도록 구성했다. ‘무엇을’... </description></item><item><title>혼자 공부하는 첫 프로그래밍 with &lt;b&gt;파이썬&lt;/b&gt; (1:1 과외하듯 배우는 왕초보 코딩 입문서)</title><link>http://book.naver.com/bookdb/book_detail.php?bid=16385280</link><image>https://bookthumb-phinf.pstatic.net/cover/163/852/16385280.jpg?type=m1&amp;udate=20211207</image><author>문현일</author><price>17000</price><discount>15300</discount><publisher>한빛미디어</publisher><pubdate>20200630</pubdate><isbn>1162243031 9791162243039</isbn><description>비전공자도 ‘혼공’ 할 수 있다!\n",
            "1:1 과외하듯 배우는 왕초보 코딩 입문서\n",
            "\n",
            "유튜브 강의! 그림으로 보여주는 ‘눈코딩’ 예제! 프로그램 설치 없이 온라인 실습! 부록 용어 노트! 이 모든 것을 제공하기에 비전공자도 프로그래밍을 독학할 수 있습니다. 이 책은 비전공자가 시중에 나온 프로그래밍 책을 이해할 수... </description></item><item><title>Do it! 점프 투 &lt;b&gt;파이썬&lt;/b&gt;</title><link>http://book.naver.com/bookdb/book_detail.php?bid=15052904</link><image>https://bookthumb-phinf.pstatic.net/cover/150/529/15052904.jpg?type=m1&amp;udate=20200910</image><author>박응용</author><price>18800</price><discount>16900</discount><publisher>이지스퍼블리싱</publisher><pubdate>20190620</pubdate><isbn>1163030910 9791163030911</isbn><description>&lt;b&gt;파이썬&lt;/b&gt; 4년 연속 베스트셀러 1위!\n",
            "《DO IT! 점프 투 &lt;b&gt;파이썬&lt;/b&gt;》 전면 개정판 출시!문과생도 중고등학생도 직장인도 프로그래밍에 눈뜨게 만든 바로 그 책이... 점프 투 &lt;b&gt;파이썬&lt;/b&gt;》으로 출간되었던 이 책은 약 4년 동안의 피드백을 반영하여 초보자가 더 빠르게 입문하고, 더 깊이 있게 공부할 수 있도록 개정되었다.... </description></item><item><title>이것이 취업을 위한 코딩 테스트다 with &lt;b&gt;파이썬&lt;/b&gt; (취업과 이직을 결정하는 알고리즘 인터뷰 완벽 가이드)</title><link>http://book.naver.com/bookdb/book_detail.php?bid=16439154</link><image>https://bookthumb-phinf.pstatic.net/cover/164/391/16439154.jpg?type=m1&amp;udate=20200928</image><author>나동빈</author><price>34000</price><discount>30600</discount><publisher>한빛미디어</publisher><pubdate>20200805</pubdate><isbn>1162243074 9791162243077</isbn><description>8가지 핵심 알고리즘 이론을 쉽게 설명하고, 관련 실전 문제를 풀이했다. 출제 유형 분석, 이론 설명, 기출문제 풀이까지! 어떤 코딩 테스트도 이 책 한 권으로 대비할 수 있을 것이다. 코딩 테스트에서 주로 선택하는 &lt;b&gt;파이썬&lt;/b&gt;을 기반으로 설명되어 있으며, &lt;b&gt;파이썬&lt;/b&gt; 코드 외에도 C/C++, 자바 코드를 추가로 제공한다.</description></item><item><title>&lt;b&gt;파이썬&lt;/b&gt; 알고리즘 인터뷰 (95가지 알고리즘 문제 풀이로 완성하는 코딩 테스트)</title><link>http://book.naver.com/bookdb/book_detail.php?bid=16406247</link><image>https://bookthumb-phinf.pstatic.net/cover/164/062/16406247.jpg?type=m1&amp;udate=20220114</image><author>박상길</author><price>38000</price><discount>34200</discount><publisher>책만</publisher><pubdate>20200715</pubdate><isbn>1189909170 9791189909178</isbn><description>물론, &lt;b&gt;파이썬&lt;/b&gt;으로 구현하는 코드 풀이를 통해 성능 최적화 기법, &lt;b&gt;파이썬&lt;/b&gt;의 핵심 문법과 다양한 실용 테크닉까지 배울 수 있는, 초보 개발자와 숙련 개발자... 이 책은 현업과 실무에 유용한 주요 알고리즘 이론을 깊숙이 이해하고, &lt;b&gt;파이썬&lt;/b&gt;의 핵심 기능과 문법까지 상세하게 이해할 수 있는 취업용 코딩 테스트를... </description></item><item><title>모두의 &lt;b&gt;파이썬&lt;/b&gt; (20일 만에 배우는 프로그래밍 기초)</title><link>http://book.naver.com/bookdb/book_detail.php?bid=14126163</link><image>https://bookthumb-phinf.pstatic.net/cover/141/261/14126163.jpg?type=m1&amp;udate=20210210</image><author>이승찬</author><price>12000</price><discount>10800</discount><publisher>길벗</publisher><pubdate>20181009</pubdate><isbn>1160505853 9791160505856</isbn><description>&lt;b&gt;파이썬&lt;/b&gt; 분야 &amp; 어린이 코딩 교육 분야\n",
            "2년 연속 베스트셀러! 개정판 출간!\n",
            "즐겁게 시작하는 나의 첫 프로그래밍!\n",
            "프로그래밍을 한 번도 해본 적이 없어도 괜찮다. &lt;b&gt;파이썬&lt;/b&gt;이 무엇인지 몰라도 상관 없다.... 어느새 &lt;b&gt;파이썬&lt;/b&gt; 프로그램으로 멋진 그림을 그리고, 계산을 하고, 간단한 게임을 만들고, 수학 문제를... </description></item><item><title>웹 크롤링 &amp; 데이터 분석 with &lt;b&gt;파이썬&lt;/b&gt;</title><link>http://book.naver.com/bookdb/book_detail.php?bid=21413549</link><image>https://bookthumb-phinf.pstatic.net/cover/214/135/21413549.jpg?type=m1&amp;udate=20220112</image><author>장철원</author><price>20000</price><discount>18000</discount><publisher>인사이트</publisher><pubdate>20220124</pubdate><isbn>8966263399 9788966263394</isbn><description>그동안 &lt;b&gt;파이썬&lt;/b&gt;이라는 언어와 크롤링의 난해한 코드로 고개를 떨구던 독자에게, 크롤링 기술은 누구나 쉽게 배울 수 있다는 것을 알려주는 책입니다.세... &lt;b&gt;파이썬&lt;/b&gt;을 전혀 모른다고요? 크롤링 학습에 꼭 필요한 내용 중심으로 공부하도록 안배하였습니다.크롤링은 물론 데이터 분석까지더 나아가 이 책에서는... </description></item><item><title>&lt;b&gt;파이썬&lt;/b&gt;을 이용한 비트코인 자동매매</title><link>http://book.naver.com/bookdb/book_detail.php?bid=18214660</link><image>https://bookthumb-phinf.pstatic.net/cover/182/146/18214660.jpg?type=m1&amp;udate=20210316</image><author>유대표|조대표</author><price>27000</price><discount>24300</discount><publisher>파이스탁</publisher><pubdate>20210322</pubdate><isbn>1196608814 9791196608811</isbn><description>이 책은 최근 인기 있는 프로그래밍 언어인 &lt;b&gt;파이썬&lt;/b&gt;을 사용하여 국내 3대 거래소(코빗, 빗썸, 업비트)... 프로그래밍 경험이 없는 일반인을 대상으로 &lt;b&gt;파이썬&lt;/b&gt; 기초 문법부터 시작하여 24시간 실시간 자동... 있어 &lt;b&gt;파이썬&lt;/b&gt;을 처음 배우는 분들이 유익하고 재미있게 프로그래밍을 배울 수 있도록 합니다. 책에서... </description></item><item><title>&lt;b&gt;파이썬&lt;/b&gt; 머신러닝 완벽 가이드 (다양한 캐글 예제와 함께 기초 알고리즘부터 최신 기법까지 배우는)</title><link>http://book.naver.com/bookdb/book_detail.php?bid=16238302</link><image>https://bookthumb-phinf.pstatic.net/cover/162/383/16238302.jpg?type=m1&amp;udate=20200423</image><author>권철민</author><price>38000</price><discount>34200</discount><publisher>위키북스</publisher><pubdate>20200207</pubdate><isbn>1158391927 9791158391928</isbn><description>자세한 이론 설명과 &lt;b&gt;파이썬&lt;/b&gt; 실습을 통해 머신러닝을 완벽하게 배울 수 있습니다!《&lt;b&gt;파이썬&lt;/b&gt; 머신러닝 완벽 가이드》는 이론 위주의 머신러닝 책에서 탈피해 다양한 실전 예제를 직접 구현해 보면서 머신러닝을 체득할 수 있도록 만들었습니다.  캐글과 UCI 머신러닝 리포지토리에서 난이도가 있는 실습... </description></item><item><title>쉽게 따라 만드는 &lt;b&gt;파이썬&lt;/b&gt; 주식 자동매매 시스템 (증권사 API 사용, 매매전략 구현, 실전 투자 전환까지!)</title><link>http://book.naver.com/bookdb/book_detail.php?bid=21119890</link><image>https://bookthumb-phinf.pstatic.net/cover/211/198/21119890.jpg?type=m1&amp;udate=20211207</image><author>박준성</author><price>28000</price><discount>25200</discount><publisher>길벗</publisher><pubdate>20211014</pubdate><isbn>1165217163 9791165217167</isbn><description>개발 환경 구축부터 실전 투자 전환까지\n",
            "&lt;b&gt;파이썬&lt;/b&gt;으로 나만의 주식 자동매매 시스템을 만든다!\n",
            "\n",
            "이 책은 &lt;b&gt;파이썬&lt;/b&gt;을 이용하여 주식 자동매매 시스템을 만드는... 개발 환경을 구축하고, 프로젝트를 만드는 데 필요한 기초 &lt;b&gt;파이썬&lt;/b&gt; 문법은 물론 증권 데이터를 주고받기 위해 키움증권 API를 사용하는 방법과 웹... </description></item></channel></rss>\n"
          ]
        }
      ]
    },
    {
      "cell_type": "code",
      "source": [
        "df = pd.read_xml(res,xpath=\".//item\")\n",
        "df"
      ],
      "metadata": {
        "colab": {
          "base_uri": "https://localhost:8080/",
          "height": 1000
        },
        "id": "ZWK2tgowMW_Q",
        "outputId": "11863b98-7bce-4410-9cb5-db6b0f4487b7"
      },
      "execution_count": 5,
      "outputs": [
        {
          "output_type": "execute_result",
          "data": {
            "text/html": [
              "\n",
              "  <div id=\"df-72d86556-6b61-4199-b168-9c16f46c4f4a\">\n",
              "    <div class=\"colab-df-container\">\n",
              "      <div>\n",
              "<style scoped>\n",
              "    .dataframe tbody tr th:only-of-type {\n",
              "        vertical-align: middle;\n",
              "    }\n",
              "\n",
              "    .dataframe tbody tr th {\n",
              "        vertical-align: top;\n",
              "    }\n",
              "\n",
              "    .dataframe thead th {\n",
              "        text-align: right;\n",
              "    }\n",
              "</style>\n",
              "<table border=\"1\" class=\"dataframe\">\n",
              "  <thead>\n",
              "    <tr style=\"text-align: right;\">\n",
              "      <th></th>\n",
              "      <th>title</th>\n",
              "      <th>link</th>\n",
              "      <th>image</th>\n",
              "      <th>author</th>\n",
              "      <th>price</th>\n",
              "      <th>discount</th>\n",
              "      <th>publisher</th>\n",
              "      <th>pubdate</th>\n",
              "      <th>isbn</th>\n",
              "      <th>description</th>\n",
              "    </tr>\n",
              "  </thead>\n",
              "  <tbody>\n",
              "    <tr>\n",
              "      <th>0</th>\n",
              "      <td>혼자 공부하는 &lt;b&gt;파이썬&lt;/b&gt; (&lt;b&gt;파이썬&lt;/b&gt; 최신 버전 반영)</td>\n",
              "      <td>http://book.naver.com/bookdb/book_detail.php?b...</td>\n",
              "      <td>https://bookthumb-phinf.pstatic.net/cover/150/...</td>\n",
              "      <td>윤인성</td>\n",
              "      <td>18000</td>\n",
              "      <td>16200</td>\n",
              "      <td>한빛미디어</td>\n",
              "      <td>20190610</td>\n",
              "      <td>1162241888 9791162241882</td>\n",
              "      <td>1:1 과외하듯 배우는 &lt;b&gt;파이썬&lt;/b&gt; 프로그래밍 자습서(&lt;b&gt;파이썬&lt;/b&gt; 최...</td>\n",
              "    </tr>\n",
              "    <tr>\n",
              "      <th>1</th>\n",
              "      <td>혼자 공부하는 첫 프로그래밍 with &lt;b&gt;파이썬&lt;/b&gt; (1:1 과외하듯 배우는 ...</td>\n",
              "      <td>http://book.naver.com/bookdb/book_detail.php?b...</td>\n",
              "      <td>https://bookthumb-phinf.pstatic.net/cover/163/...</td>\n",
              "      <td>문현일</td>\n",
              "      <td>17000</td>\n",
              "      <td>15300</td>\n",
              "      <td>한빛미디어</td>\n",
              "      <td>20200630</td>\n",
              "      <td>1162243031 9791162243039</td>\n",
              "      <td>비전공자도 ‘혼공’ 할 수 있다!\\n1:1 과외하듯 배우는 왕초보 코딩 입문서\\n\\...</td>\n",
              "    </tr>\n",
              "    <tr>\n",
              "      <th>2</th>\n",
              "      <td>Do it! 점프 투 &lt;b&gt;파이썬&lt;/b&gt;</td>\n",
              "      <td>http://book.naver.com/bookdb/book_detail.php?b...</td>\n",
              "      <td>https://bookthumb-phinf.pstatic.net/cover/150/...</td>\n",
              "      <td>박응용</td>\n",
              "      <td>18800</td>\n",
              "      <td>16900</td>\n",
              "      <td>이지스퍼블리싱</td>\n",
              "      <td>20190620</td>\n",
              "      <td>1163030910 9791163030911</td>\n",
              "      <td>&lt;b&gt;파이썬&lt;/b&gt; 4년 연속 베스트셀러 1위!\\n《DO IT! 점프 투 &lt;b&gt;파이...</td>\n",
              "    </tr>\n",
              "    <tr>\n",
              "      <th>3</th>\n",
              "      <td>이것이 취업을 위한 코딩 테스트다 with &lt;b&gt;파이썬&lt;/b&gt; (취업과 이직을 결정...</td>\n",
              "      <td>http://book.naver.com/bookdb/book_detail.php?b...</td>\n",
              "      <td>https://bookthumb-phinf.pstatic.net/cover/164/...</td>\n",
              "      <td>나동빈</td>\n",
              "      <td>34000</td>\n",
              "      <td>30600</td>\n",
              "      <td>한빛미디어</td>\n",
              "      <td>20200805</td>\n",
              "      <td>1162243074 9791162243077</td>\n",
              "      <td>8가지 핵심 알고리즘 이론을 쉽게 설명하고, 관련 실전 문제를 풀이했다. 출제 유형...</td>\n",
              "    </tr>\n",
              "    <tr>\n",
              "      <th>4</th>\n",
              "      <td>&lt;b&gt;파이썬&lt;/b&gt; 알고리즘 인터뷰 (95가지 알고리즘 문제 풀이로 완성하는 코딩 ...</td>\n",
              "      <td>http://book.naver.com/bookdb/book_detail.php?b...</td>\n",
              "      <td>https://bookthumb-phinf.pstatic.net/cover/164/...</td>\n",
              "      <td>박상길</td>\n",
              "      <td>38000</td>\n",
              "      <td>34200</td>\n",
              "      <td>책만</td>\n",
              "      <td>20200715</td>\n",
              "      <td>1189909170 9791189909178</td>\n",
              "      <td>물론, &lt;b&gt;파이썬&lt;/b&gt;으로 구현하는 코드 풀이를 통해 성능 최적화 기법, &lt;b&gt;...</td>\n",
              "    </tr>\n",
              "    <tr>\n",
              "      <th>5</th>\n",
              "      <td>모두의 &lt;b&gt;파이썬&lt;/b&gt; (20일 만에 배우는 프로그래밍 기초)</td>\n",
              "      <td>http://book.naver.com/bookdb/book_detail.php?b...</td>\n",
              "      <td>https://bookthumb-phinf.pstatic.net/cover/141/...</td>\n",
              "      <td>이승찬</td>\n",
              "      <td>12000</td>\n",
              "      <td>10800</td>\n",
              "      <td>길벗</td>\n",
              "      <td>20181009</td>\n",
              "      <td>1160505853 9791160505856</td>\n",
              "      <td>&lt;b&gt;파이썬&lt;/b&gt; 분야 &amp; 어린이 코딩 교육 분야\\n2년 연속 베스트셀러! 개정판...</td>\n",
              "    </tr>\n",
              "    <tr>\n",
              "      <th>6</th>\n",
              "      <td>웹 크롤링 &amp; 데이터 분석 with &lt;b&gt;파이썬&lt;/b&gt;</td>\n",
              "      <td>http://book.naver.com/bookdb/book_detail.php?b...</td>\n",
              "      <td>https://bookthumb-phinf.pstatic.net/cover/214/...</td>\n",
              "      <td>장철원</td>\n",
              "      <td>20000</td>\n",
              "      <td>18000</td>\n",
              "      <td>인사이트</td>\n",
              "      <td>20220124</td>\n",
              "      <td>8966263399 9788966263394</td>\n",
              "      <td>그동안 &lt;b&gt;파이썬&lt;/b&gt;이라는 언어와 크롤링의 난해한 코드로 고개를 떨구던 독자에...</td>\n",
              "    </tr>\n",
              "    <tr>\n",
              "      <th>7</th>\n",
              "      <td>&lt;b&gt;파이썬&lt;/b&gt;을 이용한 비트코인 자동매매</td>\n",
              "      <td>http://book.naver.com/bookdb/book_detail.php?b...</td>\n",
              "      <td>https://bookthumb-phinf.pstatic.net/cover/182/...</td>\n",
              "      <td>유대표|조대표</td>\n",
              "      <td>27000</td>\n",
              "      <td>24300</td>\n",
              "      <td>파이스탁</td>\n",
              "      <td>20210322</td>\n",
              "      <td>1196608814 9791196608811</td>\n",
              "      <td>이 책은 최근 인기 있는 프로그래밍 언어인 &lt;b&gt;파이썬&lt;/b&gt;을 사용하여 국내 3대...</td>\n",
              "    </tr>\n",
              "    <tr>\n",
              "      <th>8</th>\n",
              "      <td>&lt;b&gt;파이썬&lt;/b&gt; 머신러닝 완벽 가이드 (다양한 캐글 예제와 함께 기초 알고리즘부...</td>\n",
              "      <td>http://book.naver.com/bookdb/book_detail.php?b...</td>\n",
              "      <td>https://bookthumb-phinf.pstatic.net/cover/162/...</td>\n",
              "      <td>권철민</td>\n",
              "      <td>38000</td>\n",
              "      <td>34200</td>\n",
              "      <td>위키북스</td>\n",
              "      <td>20200207</td>\n",
              "      <td>1158391927 9791158391928</td>\n",
              "      <td>자세한 이론 설명과 &lt;b&gt;파이썬&lt;/b&gt; 실습을 통해 머신러닝을 완벽하게 배울 수 있...</td>\n",
              "    </tr>\n",
              "    <tr>\n",
              "      <th>9</th>\n",
              "      <td>쉽게 따라 만드는 &lt;b&gt;파이썬&lt;/b&gt; 주식 자동매매 시스템 (증권사 API 사용, ...</td>\n",
              "      <td>http://book.naver.com/bookdb/book_detail.php?b...</td>\n",
              "      <td>https://bookthumb-phinf.pstatic.net/cover/211/...</td>\n",
              "      <td>박준성</td>\n",
              "      <td>28000</td>\n",
              "      <td>25200</td>\n",
              "      <td>길벗</td>\n",
              "      <td>20211014</td>\n",
              "      <td>1165217163 9791165217167</td>\n",
              "      <td>개발 환경 구축부터 실전 투자 전환까지\\n&lt;b&gt;파이썬&lt;/b&gt;으로 나만의 주식 자동매...</td>\n",
              "    </tr>\n",
              "  </tbody>\n",
              "</table>\n",
              "</div>\n",
              "      <button class=\"colab-df-convert\" onclick=\"convertToInteractive('df-72d86556-6b61-4199-b168-9c16f46c4f4a')\"\n",
              "              title=\"Convert this dataframe to an interactive table.\"\n",
              "              style=\"display:none;\">\n",
              "        \n",
              "  <svg xmlns=\"http://www.w3.org/2000/svg\" height=\"24px\"viewBox=\"0 0 24 24\"\n",
              "       width=\"24px\">\n",
              "    <path d=\"M0 0h24v24H0V0z\" fill=\"none\"/>\n",
              "    <path d=\"M18.56 5.44l.94 2.06.94-2.06 2.06-.94-2.06-.94-.94-2.06-.94 2.06-2.06.94zm-11 1L8.5 8.5l.94-2.06 2.06-.94-2.06-.94L8.5 2.5l-.94 2.06-2.06.94zm10 10l.94 2.06.94-2.06 2.06-.94-2.06-.94-.94-2.06-.94 2.06-2.06.94z\"/><path d=\"M17.41 7.96l-1.37-1.37c-.4-.4-.92-.59-1.43-.59-.52 0-1.04.2-1.43.59L10.3 9.45l-7.72 7.72c-.78.78-.78 2.05 0 2.83L4 21.41c.39.39.9.59 1.41.59.51 0 1.02-.2 1.41-.59l7.78-7.78 2.81-2.81c.8-.78.8-2.07 0-2.86zM5.41 20L4 18.59l7.72-7.72 1.47 1.35L5.41 20z\"/>\n",
              "  </svg>\n",
              "      </button>\n",
              "      \n",
              "  <style>\n",
              "    .colab-df-container {\n",
              "      display:flex;\n",
              "      flex-wrap:wrap;\n",
              "      gap: 12px;\n",
              "    }\n",
              "\n",
              "    .colab-df-convert {\n",
              "      background-color: #E8F0FE;\n",
              "      border: none;\n",
              "      border-radius: 50%;\n",
              "      cursor: pointer;\n",
              "      display: none;\n",
              "      fill: #1967D2;\n",
              "      height: 32px;\n",
              "      padding: 0 0 0 0;\n",
              "      width: 32px;\n",
              "    }\n",
              "\n",
              "    .colab-df-convert:hover {\n",
              "      background-color: #E2EBFA;\n",
              "      box-shadow: 0px 1px 2px rgba(60, 64, 67, 0.3), 0px 1px 3px 1px rgba(60, 64, 67, 0.15);\n",
              "      fill: #174EA6;\n",
              "    }\n",
              "\n",
              "    [theme=dark] .colab-df-convert {\n",
              "      background-color: #3B4455;\n",
              "      fill: #D2E3FC;\n",
              "    }\n",
              "\n",
              "    [theme=dark] .colab-df-convert:hover {\n",
              "      background-color: #434B5C;\n",
              "      box-shadow: 0px 1px 3px 1px rgba(0, 0, 0, 0.15);\n",
              "      filter: drop-shadow(0px 1px 2px rgba(0, 0, 0, 0.3));\n",
              "      fill: #FFFFFF;\n",
              "    }\n",
              "  </style>\n",
              "\n",
              "      <script>\n",
              "        const buttonEl =\n",
              "          document.querySelector('#df-72d86556-6b61-4199-b168-9c16f46c4f4a button.colab-df-convert');\n",
              "        buttonEl.style.display =\n",
              "          google.colab.kernel.accessAllowed ? 'block' : 'none';\n",
              "\n",
              "        async function convertToInteractive(key) {\n",
              "          const element = document.querySelector('#df-72d86556-6b61-4199-b168-9c16f46c4f4a');\n",
              "          const dataTable =\n",
              "            await google.colab.kernel.invokeFunction('convertToInteractive',\n",
              "                                                     [key], {});\n",
              "          if (!dataTable) return;\n",
              "\n",
              "          const docLinkHtml = 'Like what you see? Visit the ' +\n",
              "            '<a target=\"_blank\" href=https://colab.research.google.com/notebooks/data_table.ipynb>data table notebook</a>'\n",
              "            + ' to learn more about interactive tables.';\n",
              "          element.innerHTML = '';\n",
              "          dataTable['output_type'] = 'display_data';\n",
              "          await google.colab.output.renderOutput(dataTable, element);\n",
              "          const docLink = document.createElement('div');\n",
              "          docLink.innerHTML = docLinkHtml;\n",
              "          element.appendChild(docLink);\n",
              "        }\n",
              "      </script>\n",
              "    </div>\n",
              "  </div>\n",
              "  "
            ],
            "text/plain": [
              "                                               title  ...                                        description\n",
              "0           혼자 공부하는 <b>파이썬</b> (<b>파이썬</b> 최신 버전 반영)  ...  1:1 과외하듯 배우는 <b>파이썬</b> 프로그래밍 자습서(<b>파이썬</b> 최...\n",
              "1  혼자 공부하는 첫 프로그래밍 with <b>파이썬</b> (1:1 과외하듯 배우는 ...  ...  비전공자도 ‘혼공’ 할 수 있다!\\n1:1 과외하듯 배우는 왕초보 코딩 입문서\\n\\...\n",
              "2                             Do it! 점프 투 <b>파이썬</b>  ...  <b>파이썬</b> 4년 연속 베스트셀러 1위!\\n《DO IT! 점프 투 <b>파이...\n",
              "3  이것이 취업을 위한 코딩 테스트다 with <b>파이썬</b> (취업과 이직을 결정...  ...  8가지 핵심 알고리즘 이론을 쉽게 설명하고, 관련 실전 문제를 풀이했다. 출제 유형...\n",
              "4  <b>파이썬</b> 알고리즘 인터뷰 (95가지 알고리즘 문제 풀이로 완성하는 코딩 ...  ...  물론, <b>파이썬</b>으로 구현하는 코드 풀이를 통해 성능 최적화 기법, <b>...\n",
              "5               모두의 <b>파이썬</b> (20일 만에 배우는 프로그래밍 기초)  ...  <b>파이썬</b> 분야 & 어린이 코딩 교육 분야\\n2년 연속 베스트셀러! 개정판...\n",
              "6                     웹 크롤링 & 데이터 분석 with <b>파이썬</b>  ...  그동안 <b>파이썬</b>이라는 언어와 크롤링의 난해한 코드로 고개를 떨구던 독자에...\n",
              "7                          <b>파이썬</b>을 이용한 비트코인 자동매매  ...  이 책은 최근 인기 있는 프로그래밍 언어인 <b>파이썬</b>을 사용하여 국내 3대...\n",
              "8  <b>파이썬</b> 머신러닝 완벽 가이드 (다양한 캐글 예제와 함께 기초 알고리즘부...  ...  자세한 이론 설명과 <b>파이썬</b> 실습을 통해 머신러닝을 완벽하게 배울 수 있...\n",
              "9  쉽게 따라 만드는 <b>파이썬</b> 주식 자동매매 시스템 (증권사 API 사용, ...  ...  개발 환경 구축부터 실전 투자 전환까지\\n<b>파이썬</b>으로 나만의 주식 자동매...\n",
              "\n",
              "[10 rows x 10 columns]"
            ]
          },
          "metadata": {},
          "execution_count": 5
        }
      ]
    },
    {
      "cell_type": "code",
      "source": [
        "import matplotlib.pyplot as plt\n",
        "df.price.plot()\n",
        "plt.show()"
      ],
      "metadata": {
        "colab": {
          "base_uri": "https://localhost:8080/",
          "height": 264
        },
        "id": "Tl2kLn2GMvse",
        "outputId": "af29ecdc-e723-4e7c-9070-55ce2a181444"
      },
      "execution_count": 9,
      "outputs": [
        {
          "output_type": "display_data",
          "data": {
            "image/png": "[encoded data removed]",
            "text/plain": [
              "<Figure size 432x288 with 1 Axes>"
            ]
          },
          "metadata": {
            "needs_background": "light"
          }
        }
      ]
    },
    {
      "cell_type": "code",
      "source": [
        "df.description[0]"
      ],
      "metadata": {
        "colab": {
          "base_uri": "https://localhost:8080/",
          "height": 72
        },
        "id": "DIAPgksSNkzF",
        "outputId": "5641c41c-525a-4502-a906-d43d1cb6756d"
      },
      "execution_count": 8,
      "outputs": [
        {
          "output_type": "execute_result",
          "data": {
            "application/vnd.google.colaboratory.intrinsic+json": {
              "type": "string"
            },
            "text/plain": [
              "'1:1 과외하듯 배우는 <b>파이썬</b> 프로그래밍 자습서(<b>파이썬</b> 최신 버전 반영)\\n27명의 베타리더 검증으로, ‘함께 만든’ 입문자 맞춤형 도서\\n\\n이 책은 독학으로 프로그래밍 언어를 처음 배우려는 입문자가, 혹은 <b>파이썬</b>을 배우려는 입문자가 ‘꼭 필요한 내용을 제대로’ 학습할 수 있도록 구성했다. ‘무엇을’...'"
            ]
          },
          "metadata": {},
          "execution_count": 8
        }
      ]
    },
    {
      "cell_type": "code",
      "source": [
        "des_str = df.description[0]\n",
        "des_str"
      ],
      "metadata": {
        "colab": {
          "base_uri": "https://localhost:8080/",
          "height": 72
        },
        "id": "pRywZa7zNkon",
        "outputId": "a2f1f73b-3d87-47b1-906e-69693d753415"
      },
      "execution_count": 7,
      "outputs": [
        {
          "output_type": "execute_result",
          "data": {
            "application/vnd.google.colaboratory.intrinsic+json": {
              "type": "string"
            },
            "text/plain": [
              "'1:1 과외하듯 배우는 <b>파이썬</b> 프로그래밍 자습서(<b>파이썬</b> 최신 버전 반영)\\n27명의 베타리더 검증으로, ‘함께 만든’ 입문자 맞춤형 도서\\n\\n이 책은 독학으로 프로그래밍 언어를 처음 배우려는 입문자가, 혹은 <b>파이썬</b>을 배우려는 입문자가 ‘꼭 필요한 내용을 제대로’ 학습할 수 있도록 구성했다. ‘무엇을’...'"
            ]
          },
          "metadata": {},
          "execution_count": 7
        }
      ]
    },
    {
      "cell_type": "code",
      "source": [
        "demo_str = \"abc 123 cae$ asd# cr\"\n",
        "target_str = \"\"\n",
        "for ch in demo_str:\n",
        "  if ch.isalnum() or ch.isspace():\n",
        "    target_str = target_str+ch\n",
        "    print(target_str)"
      ],
      "metadata": {
        "colab": {
          "base_uri": "https://localhost:8080/"
        },
        "id": "MNc3BwW4OHqa",
        "outputId": "d739fe88-7334-4a02-b4ef-9dc6eacbb67d"
      },
      "execution_count": 6,
      "outputs": [
        {
          "output_type": "stream",
          "name": "stdout",
          "text": [
            "a\n",
            "ab\n",
            "abc\n",
            "abc \n",
            "abc 1\n",
            "abc 12\n",
            "abc 123\n",
            "abc 123 \n",
            "abc 123 c\n",
            "abc 123 ca\n",
            "abc 123 cae\n",
            "abc 123 cae \n",
            "abc 123 cae a\n",
            "abc 123 cae as\n",
            "abc 123 cae asd\n",
            "abc 123 cae asd \n",
            "abc 123 cae asd c\n",
            "abc 123 cae asd cr\n"
          ]
        }
      ]
    },
    {
      "cell_type": "code",
      "source": [
        "demo_str = \"abc 123 cae$ asd# cr\"\n",
        "target_str = \"\"\n",
        "for ch in demo_str:\n",
        "  if ch.isalnum() or ch.isspace():\n",
        "    target_str = target_str+ch\n",
        "print(target_str)\n",
        "target_str = \"\".join(char for char in demo_str if (char.isalnum() or char.isspace()))\n",
        "print(target_str)"
      ],
      "metadata": {
        "colab": {
          "base_uri": "https://localhost:8080/"
        },
        "id": "dMmXRYuqO-U8",
        "outputId": "1a742c4c-1117-4714-cf36-a813e281b601"
      },
      "execution_count": 10,
      "outputs": [
        {
          "output_type": "stream",
          "name": "stdout",
          "text": [
            "abc 123 cae asd cr\n",
            "abc 123 cae asd cr\n"
          ]
        }
      ]
    },
    {
      "cell_type": "code",
      "source": [
        "filter_str = \"\".join(char for char in des_str if (char.isalnum() or char.isspace()) and char != '•')\n",
        "print(filter_str)\n",
        "'•'.isalnum()"
      ],
      "metadata": {
        "colab": {
          "base_uri": "https://localhost:8080/"
        },
        "id": "pkamIfYcPozo",
        "outputId": "ee3e349a-3827-4ecc-f2bb-6e37b11a7d8a"
      },
      "execution_count": 11,
      "outputs": [
        {
          "output_type": "stream",
          "name": "stdout",
          "text": [
            "11 과외하듯 배우는 b파이썬b 프로그래밍 자습서b파이썬b 최신 버전 반영\n",
            "27명의 베타리더 검증으로 함께 만든 입문자 맞춤형 도서\n",
            "\n",
            "이 책은 독학으로 프로그래밍 언어를 처음 배우려는 입문자가 혹은 b파이썬b을 배우려는 입문자가 꼭 필요한 내용을 제대로 학습할 수 있도록 구성했다 무엇을\n"
          ]
        },
        {
          "output_type": "execute_result",
          "data": {
            "text/plain": [
              "False"
            ]
          },
          "metadata": {},
          "execution_count": 11
        }
      ]
    },
    {
      "cell_type": "code",
      "source": [
        "filter_str = \"\".join(char for char in des_str if (char.isalnum() or char.isspace()) and char != '•')\n",
        "print(filter_str)\n",
        "words = filter_str.split(' ')\n",
        "s = pd.Series(words)\n",
        "s.value_counts()"
      ],
      "metadata": {
        "colab": {
          "base_uri": "https://localhost:8080/"
        },
        "id": "AtM9yCncQXwj",
        "outputId": "bf73aa8d-2e5d-4a35-cbb3-da0d19a86138"
      },
      "execution_count": 12,
      "outputs": [
        {
          "output_type": "stream",
          "name": "stdout",
          "text": [
            "11 과외하듯 배우는 b파이썬b 프로그래밍 자습서b파이썬b 최신 버전 반영\n",
            "27명의 베타리더 검증으로 함께 만든 입문자 맞춤형 도서\n",
            "\n",
            "이 책은 독학으로 프로그래밍 언어를 처음 배우려는 입문자가 혹은 b파이썬b을 배우려는 입문자가 꼭 필요한 내용을 제대로 학습할 수 있도록 구성했다 무엇을\n"
          ]
        },
        {
          "output_type": "execute_result",
          "data": {
            "text/plain": [
              "배우려는        2\n",
              "프로그래밍       2\n",
              "입문자가        2\n",
              "11          1\n",
              "필요한         1\n",
              "처음          1\n",
              "혹은          1\n",
              "b파이썬b을      1\n",
              "꼭           1\n",
              "내용을         1\n",
              "독학으로        1\n",
              "제대로         1\n",
              "학습할         1\n",
              "수           1\n",
              "있도록         1\n",
              "구성했다        1\n",
              "언어를         1\n",
              "책은          1\n",
              "과외하듯        1\n",
              "도서\\n\\n이     1\n",
              "맞춤형         1\n",
              "입문자         1\n",
              "만든          1\n",
              "함께          1\n",
              "검증으로        1\n",
              "베타리더        1\n",
              "반영\\n27명의    1\n",
              "버전          1\n",
              "최신          1\n",
              "자습서b파이썬b    1\n",
              "b파이썬b       1\n",
              "배우는         1\n",
              "무엇을         1\n",
              "dtype: int64"
            ]
          },
          "metadata": {},
          "execution_count": 12
        }
      ]
    },
    {
      "cell_type": "code",
      "source": [
        "from  wordcloud import WordCloud"
      ],
      "metadata": {
        "id": "V8OqLoOIQ84e"
      },
      "execution_count": 13,
      "outputs": []
    },
    {
      "cell_type": "code",
      "source": [
        "src = \"\"\"\n",
        "      python interpreter language python python feature love is\n",
        "      wonderful python interpreter language all language is hard\n",
        "\"\"\""
      ],
      "metadata": {
        "id": "-ERCkqvpT4FM"
      },
      "execution_count": 14,
      "outputs": []
    },
    {
      "cell_type": "code",
      "source": [
        "wc = WordCloud()\n",
        "wc.generate(src)\n",
        "plt.figure()\n",
        "plt.imshow(wc)\n",
        "plt.axis('off')\n",
        "plt.show()\n",
        "wc.words_ #빈도수가 가장 많은 걸 1"
      ],
      "metadata": {
        "colab": {
          "base_uri": "https://localhost:8080/",
          "height": 326
        },
        "id": "e3q2hltUUSbI",
        "outputId": "e8d94072-7892-4691-b02a-57f599d5088e"
      },
      "execution_count": 15,
      "outputs": [
        {
          "output_type": "display_data",
          "data": {
            "image/png": "[encoded data removed]",
            "text/plain": [
              "<Figure size 432x288 with 1 Axes>"
            ]
          },
          "metadata": {
            "needs_background": "light"
          }
        },
        {
          "output_type": "execute_result",
          "data": {
            "text/plain": [
              "{'feature': 0.25,\n",
              " 'hard': 0.25,\n",
              " 'interpreter': 0.5,\n",
              " 'language': 0.75,\n",
              " 'love': 0.25,\n",
              " 'python': 1.0,\n",
              " 'wonderful': 0.25}"
            ]
          },
          "metadata": {},
          "execution_count": 15
        }
      ]
    },
    {
      "cell_type": "code",
      "source": [
        "#리눅스 명령 sudo\n",
        "#한글 폰트 설치\n",
        "!sudo apt-get install -y fonts-nanum\n",
        "!sudo fc-cache -fv\n",
        "!rm ~/.cache/matplotlib -rf"
      ],
      "metadata": {
        "colab": {
          "base_uri": "https://localhost:8080/"
        },
        "id": "rNE96jitW7sx",
        "outputId": "a7d7cb67-0a54-4c9a-ace5-d2d9bf0d1c63"
      },
      "execution_count": 16,
      "outputs": [
        {
          "output_type": "stream",
          "name": "stdout",
          "text": [
            "Reading package lists... Done\n",
            "Building dependency tree       \n",
            "Reading state information... Done\n",
            "The following package was automatically installed and is no longer required:\n",
            "  libnvidia-common-470\n",
            "Use 'sudo apt autoremove' to remove it.\n",
            "The following NEW packages will be installed:\n",
            "  fonts-nanum\n",
            "0 upgraded, 1 newly installed, 0 to remove and 39 not upgraded.\n",
            "Need to get 9,604 kB of archives.\n",
            "After this operation, 29.5 MB of additional disk space will be used.\n",
            "Get:1 http://archive.ubuntu.com/ubuntu bionic/universe amd64 fonts-nanum all 20170925-1 [9,604 kB]\n",
            "Fetched 9,604 kB in 1s (8,506 kB/s)\n",
            "debconf: unable to initialize frontend: Dialog\n",
            "debconf: (No usable dialog-like program is installed, so the dialog based frontend cannot be used. at /usr/share/perl5/Debconf/FrontEnd/Dialog.pm line 76, <> line 1.)\n",
            "debconf: falling back to frontend: Readline\n",
            "debconf: unable to initialize frontend: Readline\n",
            "debconf: (This frontend requires a controlling tty.)\n",
            "debconf: falling back to frontend: Teletype\n",
            "dpkg-preconfigure: unable to re-open stdin: \n",
            "Selecting previously unselected package fonts-nanum.\n",
            "(Reading database ... 155320 files and directories currently installed.)\n",
            "Preparing to unpack .../fonts-nanum_20170925-1_all.deb ...\n",
            "Unpacking fonts-nanum (20170925-1) ...\n",
            "Setting up fonts-nanum (20170925-1) ...\n",
            "Processing triggers for fontconfig (2.12.6-0ubuntu2) ...\n",
            "/usr/share/fonts: caching, new cache contents: 0 fonts, 1 dirs\n",
            "/usr/share/fonts/truetype: caching, new cache contents: 0 fonts, 3 dirs\n",
            "/usr/share/fonts/truetype/humor-sans: caching, new cache contents: 1 fonts, 0 dirs\n",
            "/usr/share/fonts/truetype/liberation: caching, new cache contents: 16 fonts, 0 dirs\n",
            "/usr/share/fonts/truetype/nanum: caching, new cache contents: 10 fonts, 0 dirs\n",
            "/usr/local/share/fonts: caching, new cache contents: 0 fonts, 0 dirs\n",
            "/root/.local/share/fonts: skipping, no such directory\n",
            "/root/.fonts: skipping, no such directory\n",
            "/var/cache/fontconfig: cleaning cache directory\n",
            "/root/.cache/fontconfig: not cleaning non-existent cache directory\n",
            "/root/.fontconfig: not cleaning non-existent cache directory\n",
            "fc-cache: succeeded\n"
          ]
        }
      ]
    },
    {
      "cell_type": "code",
      "source": [
        "wc = WordCloud()\n",
        "wc.generate(filter_str)\n",
        "plt.figure()\n",
        "plt.imshow(wc)\n",
        "plt.axis('off')\n",
        "plt.show()\n",
        "wc.words_ #빈도수가 가장 많은 걸 1"
      ],
      "metadata": {
        "colab": {
          "base_uri": "https://localhost:8080/",
          "height": 770
        },
        "id": "FHvY-tG1VPZt",
        "outputId": "9fd75b72-fb32-4124-f44c-2cd3adcc8bec"
      },
      "execution_count": 18,
      "outputs": [
        {
          "output_type": "display_data",
          "data": {
            "image/png": "[encoded data removed]",
            "text/plain": [
              "<Figure size 432x288 with 1 Axes>"
            ]
          },
          "metadata": {
            "needs_background": "light"
          }
        },
        {
          "output_type": "execute_result",
          "data": {
            "text/plain": [
              "{'27명의': 0.5,\n",
              " 'b파이썬b': 0.5,\n",
              " 'b파이썬b을': 0.5,\n",
              " '검증으로': 0.5,\n",
              " '과외하듯': 0.5,\n",
              " '구성했다': 0.5,\n",
              " '내용을': 0.5,\n",
              " '도서': 0.5,\n",
              " '독학으로': 0.5,\n",
              " '만든': 0.5,\n",
              " '맞춤형': 0.5,\n",
              " '무엇을': 0.5,\n",
              " '반영': 0.5,\n",
              " '배우는': 0.5,\n",
              " '배우려는': 1.0,\n",
              " '버전': 0.5,\n",
              " '베타리더': 0.5,\n",
              " '언어를': 0.5,\n",
              " '입문자': 0.5,\n",
              " '입문자가': 1.0,\n",
              " '있도록': 0.5,\n",
              " '자습서b파이썬b': 0.5,\n",
              " '제대로': 0.5,\n",
              " '책은': 0.5,\n",
              " '처음': 0.5,\n",
              " '최신': 0.5,\n",
              " '프로그래밍': 1.0,\n",
              " '필요한': 0.5,\n",
              " '학습할': 0.5,\n",
              " '함께': 0.5,\n",
              " '혹은': 0.5}"
            ]
          },
          "metadata": {},
          "execution_count": 18
        }
      ]
    },
    {
      "cell_type": "code",
      "source": [
        "import matplotlib.font_manager as font_manager\n",
        "sf = fm.findSystemFonts()\n",
        "[f for f in sf if 'Nanum' in f]"
      ],
      "metadata": {
        "colab": {
          "base_uri": "https://localhost:8080/",
          "height": 211
        },
        "id": "88EjVHIKVqBz",
        "outputId": "2d5bcc03-e32e-469e-8219-86cf676d021c"
      },
      "execution_count": 19,
      "outputs": [
        {
          "output_type": "error",
          "ename": "NameError",
          "evalue": "ignored",
          "traceback": [
            "\u001b[0;31m---------------------------------------------------------------------------\u001b[0m",
            "\u001b[0;31mNameError\u001b[0m                                 Traceback (most recent call last)",
            "\u001b[0;32m<ipython-input-19-fc79da309a03>\u001b[0m in \u001b[0;36m<module>\u001b[0;34m()\u001b[0m\n\u001b[1;32m      1\u001b[0m \u001b[0;32mimport\u001b[0m \u001b[0mmatplotlib\u001b[0m\u001b[0;34m.\u001b[0m\u001b[0mfont_manager\u001b[0m \u001b[0;32mas\u001b[0m \u001b[0mfont_manager\u001b[0m\u001b[0;34m\u001b[0m\u001b[0;34m\u001b[0m\u001b[0m\n\u001b[0;32m----> 2\u001b[0;31m \u001b[0msf\u001b[0m \u001b[0;34m=\u001b[0m \u001b[0mfm\u001b[0m\u001b[0;34m.\u001b[0m\u001b[0mfindSystemFonts\u001b[0m\u001b[0;34m(\u001b[0m\u001b[0;34m)\u001b[0m\u001b[0;34m\u001b[0m\u001b[0;34m\u001b[0m\u001b[0m\n\u001b[0m\u001b[1;32m      3\u001b[0m \u001b[0;34m[\u001b[0m\u001b[0mf\u001b[0m \u001b[0;32mfor\u001b[0m \u001b[0mf\u001b[0m \u001b[0;32min\u001b[0m \u001b[0msf\u001b[0m \u001b[0;32mif\u001b[0m \u001b[0;34m'Nanum'\u001b[0m \u001b[0;32min\u001b[0m \u001b[0mf\u001b[0m\u001b[0;34m]\u001b[0m\u001b[0;34m\u001b[0m\u001b[0;34m\u001b[0m\u001b[0m\n",
            "\u001b[0;31mNameError\u001b[0m: name 'fm' is not defined"
          ]
        }
      ]
    },
    {
      "cell_type": "markdown",
      "source": [
        ""
      ],
      "metadata": {
        "id": "Sl29JpIgZAa8"
      }
    }
  ]
}