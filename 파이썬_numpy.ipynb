{
  "nbformat": 4,
  "nbformat_minor": 0,
  "metadata": {
    "colab": {
      "name": "파이썬-numpy.ipynb",
      "provenance": [],
      "authorship_tag": "ABX9TyM3Fr9FUnkaSw0pu3gXtXTo",
      "include_colab_link": true
    },
    "kernelspec": {
      "name": "python3",
      "display_name": "Python 3"
    },
    "language_info": {
      "name": "python"
    }
  },
  "cells": [
    {
      "cell_type": "markdown",
      "metadata": {
        "id": "view-in-github",
        "colab_type": "text"
      },
      "source": [
        "<a href=\"https://colab.research.google.com/github/Es-YES-Ye/Python/blob/main/%ED%8C%8C%EC%9D%B4%EC%8D%AC_numpy.ipynb\" target=\"_parent\"><img src=\"https://colab.research.google.com/assets/colab-badge.svg\" alt=\"Open In Colab\"/></a>"
      ]
    },
    {
      "cell_type": "code",
      "source": [
        "import numpy as np"
      ],
      "metadata": {
        "id": "cHK2G8hAKE4v"
      },
      "execution_count": null,
      "outputs": []
    },
    {
      "cell_type": "code",
      "execution_count": null,
      "metadata": {
        "id": "ec-rE2JhabLc",
        "colab": {
          "base_uri": "https://localhost:8080/"
        },
        "outputId": "9bcd9677-36c2-4337-a2dd-27569f369e88"
      },
      "outputs": [
        {
          "output_type": "execute_result",
          "data": {
            "text/plain": [
              "array(['1.5', '0.62', '10', '3.14', '32'], dtype='<U4')"
            ]
          },
          "metadata": {},
          "execution_count": 4
        }
      ],
      "source": [
        "np.array(['1.5', '0.62', '10','3.14','32'])"
      ]
    },
    {
      "cell_type": "code",
      "source": [
        "str_a1 = np.array(['1.567', '0.123', '5.125', '9', '7'])\n",
        "num_a1 = str_a1.astype(float)\n",
        "str_a1.dtype, num_a1, num_a1.dtype "
      ],
      "metadata": {
        "colab": {
          "base_uri": "https://localhost:8080/"
        },
        "id": "_KpV0p_YKsvQ",
        "outputId": "65fb2eda-41fc-41fc-d3c9-29e0c5eed29f"
      },
      "execution_count": null,
      "outputs": [
        {
          "output_type": "execute_result",
          "data": {
            "text/plain": [
              "(dtype('<U5'), array([1.567, 0.123, 5.125, 9.   , 7.   ]), dtype('float64'))"
            ]
          },
          "metadata": {},
          "execution_count": 7
        }
      ]
    },
    {
      "cell_type": "code",
      "source": [
        "num_f1 = np.array([10, 21, 0.546, 4.32, 5.77])\n",
        "num_i1 = num_f1.astype(int)\n",
        "num_f1.dtype, num_i1, num_i1.dtype"
      ],
      "metadata": {
        "colab": {
          "base_uri": "https://localhost:8080/"
        },
        "id": "VC4BeucYLbrH",
        "outputId": "60df5a42-e84b-4f68-e071-507aaa136832"
      },
      "execution_count": null,
      "outputs": [
        {
          "output_type": "execute_result",
          "data": {
            "text/plain": [
              "(dtype('float64'), array([10, 21,  0,  4,  5]), dtype('int64'))"
            ]
          },
          "metadata": {},
          "execution_count": 9
        }
      ]
    },
    {
      "cell_type": "code",
      "source": [
        ""
      ],
      "metadata": {
        "id": "cLR_2zyc9xkn"
      },
      "execution_count": null,
      "outputs": []
    },
    {
      "cell_type": "code",
      "source": [
        "np.random.rand(2,3)"
      ],
      "metadata": {
        "colab": {
          "base_uri": "https://localhost:8080/"
        },
        "id": "D6yUUhi89Y3c",
        "outputId": "9c966fd7-ce8d-4579-d9ee-3191e87f2c3f"
      },
      "execution_count": null,
      "outputs": [
        {
          "output_type": "execute_result",
          "data": {
            "text/plain": [
              "array([[0.78632522, 0.09948503, 0.18608532],\n",
              "       [0.09413828, 0.93450303, 0.60230331]])"
            ]
          },
          "metadata": {},
          "execution_count": 2
        }
      ]
    },
    {
      "cell_type": "code",
      "source": [
        "np.random.rand(2,3,4)"
      ],
      "metadata": {
        "colab": {
          "base_uri": "https://localhost:8080/"
        },
        "id": "K4HE1J4592my",
        "outputId": "efc4e232-feb5-44c3-86b7-288c3a2816c9"
      },
      "execution_count": null,
      "outputs": [
        {
          "output_type": "execute_result",
          "data": {
            "text/plain": [
              "array([[[0.41809531, 0.77766916, 0.31651167, 0.46038275],\n",
              "        [0.44362567, 0.86441232, 0.02570507, 0.74017634],\n",
              "        [0.0429259 , 0.8441574 , 0.00161534, 0.42023719]],\n",
              "\n",
              "       [[0.16687236, 0.59389968, 0.68419174, 0.1071643 ],\n",
              "        [0.6411809 , 0.45466651, 0.04749948, 0.67989057],\n",
              "        [0.0253963 , 0.72453955, 0.68718508, 0.17024779]]])"
            ]
          },
          "metadata": {},
          "execution_count": 6
        }
      ]
    },
    {
      "cell_type": "code",
      "source": [
        "np.random.randint(1,30)"
      ],
      "metadata": {
        "colab": {
          "base_uri": "https://localhost:8080/"
        },
        "id": "fLI41TQQ9oM8",
        "outputId": "0d19d27e-cb53-4b72-af4b-dc5877a1f919"
      },
      "execution_count": null,
      "outputs": [
        {
          "output_type": "execute_result",
          "data": {
            "text/plain": [
              "22"
            ]
          },
          "metadata": {},
          "execution_count": 3
        }
      ]
    },
    {
      "cell_type": "code",
      "source": [
        "np.random.randint(10, size=(3,4))"
      ],
      "metadata": {
        "colab": {
          "base_uri": "https://localhost:8080/"
        },
        "id": "sFiMYfLN9uQO",
        "outputId": "f3784916-ef9b-4f0a-fc9c-bb70afd16df9"
      },
      "execution_count": null,
      "outputs": [
        {
          "output_type": "execute_result",
          "data": {
            "text/plain": [
              "array([[6, 9, 2, 2],\n",
              "       [9, 7, 1, 4],\n",
              "       [7, 9, 5, 0]])"
            ]
          },
          "metadata": {},
          "execution_count": 5
        }
      ]
    },
    {
      "cell_type": "code",
      "source": [
        "arr1 = np.array([10,20,30,40])\n",
        "arr2 = np.array([1,2,3,4])"
      ],
      "metadata": {
        "id": "8UP_GRtMKvvp"
      },
      "execution_count": null,
      "outputs": []
    },
    {
      "cell_type": "code",
      "source": [
        "print(arr1+arr2\n",
        ", arr1-arr2\n",
        ", arr2*2\n",
        ", arr2**2)\n",
        "print(arr1*arr2\n",
        ", arr1/arr2)\n",
        "print(arr1/(arr2**2)\n",
        ")\n",
        "print(arr1>20)"
      ],
      "metadata": {
        "id": "ZxkfZv-YKzqO"
      },
      "execution_count": null,
      "outputs": []
    },
    {
      "cell_type": "code",
      "source": [
        "arr3=np.arange(5)\n",
        "arr3"
      ],
      "metadata": {
        "id": "gSGonhFCK0l1"
      },
      "execution_count": null,
      "outputs": []
    },
    {
      "cell_type": "code",
      "source": [
        "arr3.sum(), arr3.mean()"
      ],
      "metadata": {
        "id": "4LyupmNyK10M"
      },
      "execution_count": null,
      "outputs": []
    },
    {
      "cell_type": "code",
      "source": [
        "arr3.std(), arr3.var()"
      ],
      "metadata": {
        "id": "xSFIm0gpK3OF"
      },
      "execution_count": null,
      "outputs": []
    },
    {
      "cell_type": "code",
      "source": [
        "arr3.min(), arr3.max()"
      ],
      "metadata": {
        "id": "ccp8BlaUK440"
      },
      "execution_count": null,
      "outputs": []
    },
    {
      "cell_type": "code",
      "source": [
        "arr3.cumsum(), arr3.cumprod()"
      ],
      "metadata": {
        "id": "BVoGuYFnK7jm"
      },
      "execution_count": null,
      "outputs": []
    }
  ]
}