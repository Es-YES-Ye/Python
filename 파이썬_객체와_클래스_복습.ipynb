{
  "nbformat": 4,
  "nbformat_minor": 0,
  "metadata": {
    "colab": {
      "name": "파이썬-객체와 클래스 복습.ipynb",
      "provenance": [],
      "authorship_tag": "ABX9TyPn5KV225tEIuAhCACZgl9m",
      "include_colab_link": true
    },
    "kernelspec": {
      "name": "python3",
      "display_name": "Python 3"
    },
    "language_info": {
      "name": "python"
    }
  },
  "cells": [
    {
      "cell_type": "markdown",
      "metadata": {
        "id": "view-in-github",
        "colab_type": "text"
      },
      "source": [
        "<a href=\"https://colab.research.google.com/github/Es-YES-Ye/Python/blob/main/%ED%8C%8C%EC%9D%B4%EC%8D%AC_%EA%B0%9D%EC%B2%B4%EC%99%80_%ED%81%B4%EB%9E%98%EC%8A%A4_%EB%B3%B5%EC%8A%B5.ipynb\" target=\"_parent\"><img src=\"https://colab.research.google.com/assets/colab-badge.svg\" alt=\"Open In Colab\"/></a>"
      ]
    },
    {
      "cell_type": "code",
      "execution_count": 2,
      "metadata": {
        "id": "wFfcQ8vM_LK6"
      },
      "outputs": [],
      "source": [
        "class JSS:\n",
        "  def __init__(self):\n",
        "    self.name=input(\"이름 : \")\n",
        "    self.age=input(\"나이 : \")\n",
        "  def show(self):\n",
        "    print(f\"나의 이름은 {self.name} , 나이는 {self.age} 세입니다.\")"
      ]
    },
    {
      "cell_type": "code",
      "source": [
        "class JSS2(JSS):\n",
        "  def __init__(self):\n",
        "    super().__init__()\n",
        "    self.gender = input(\"성별 : \")"
      ],
      "metadata": {
        "id": "P8icXfVu_rnu"
      },
      "execution_count": 7,
      "outputs": []
    },
    {
      "cell_type": "code",
      "source": [
        "a=JSS()"
      ],
      "metadata": {
        "colab": {
          "base_uri": "https://localhost:8080/"
        },
        "id": "Ph4ygrpZ_iw4",
        "outputId": "061e12b5-e74d-46cc-d988-1ed5c075cdb7"
      },
      "execution_count": 4,
      "outputs": [
        {
          "name": "stdout",
          "output_type": "stream",
          "text": [
            "이름 : 홍길동\n",
            "나이 : 20\n"
          ]
        }
      ]
    },
    {
      "cell_type": "code",
      "source": [
        "a.show()"
      ],
      "metadata": {
        "colab": {
          "base_uri": "https://localhost:8080/"
        },
        "id": "oE3BqIpc_oY1",
        "outputId": "95b0ccfc-a5a5-4ca5-95eb-dae37e600a1f"
      },
      "execution_count": 5,
      "outputs": [
        {
          "output_type": "stream",
          "name": "stdout",
          "text": [
            "나의 이름은 홍길동 , 나이는 20 세입니다.\n"
          ]
        }
      ]
    },
    {
      "cell_type": "code",
      "source": [
        "b = JSS2()"
      ],
      "metadata": {
        "colab": {
          "base_uri": "https://localhost:8080/"
        },
        "id": "wQj_hd9-_44I",
        "outputId": "18e160fc-1895-4bba-e7f1-5e39cf53f0b1"
      },
      "execution_count": 8,
      "outputs": [
        {
          "name": "stdout",
          "output_type": "stream",
          "text": [
            "이름 : 나길동\n",
            "나이 : 45\n",
            "성별 : 남\n"
          ]
        }
      ]
    },
    {
      "cell_type": "code",
      "source": [
        "b.show()"
      ],
      "metadata": {
        "colab": {
          "base_uri": "https://localhost:8080/"
        },
        "id": "ITCkWWd8_9OP",
        "outputId": "de9885ac-0b63-4704-a5b9-e57ab632db6b"
      },
      "execution_count": 9,
      "outputs": [
        {
          "output_type": "stream",
          "name": "stdout",
          "text": [
            "나의 이름은 나길동 , 나이는 45 세입니다.\n"
          ]
        }
      ]
    },
    {
      "cell_type": "code",
      "source": [
        "#클래스 정의\n",
        "\n",
        "class Book(object):\n",
        "  author=\"\"\n",
        "  title=\"\"\n",
        "  publisher=\"\"\n",
        "  date=\"\"\n"
      ],
      "metadata": {
        "id": "bYXFxrH9DRhn"
      },
      "execution_count": 10,
      "outputs": []
    },
    {
      "cell_type": "code",
      "source": [
        "#인스턴스 만들기 Book()이라는 클래스를 book이라는 인스턴스로 할당받았다.\n",
        "\n",
        "book = Book()\n",
        "book.author = \"Yesys\" #book이라는 인스턴스에 author라는 속성값에다 \"\"의 문자열을 집어넣은 것이다."
      ],
      "metadata": {
        "id": "KYcABqn_DYfa"
      },
      "execution_count": 11,
      "outputs": []
    },
    {
      "cell_type": "code",
      "source": [
        "print(book.author)"
      ],
      "metadata": {
        "colab": {
          "base_uri": "https://localhost:8080/"
        },
        "id": "hotAMGiMDfF7",
        "outputId": "0712a870-cb11-486e-d5b2-4173bf9f9593"
      },
      "execution_count": 13,
      "outputs": [
        {
          "output_type": "stream",
          "name": "stdout",
          "text": [
            "Yesys\n"
          ]
        }
      ]
    },
    {
      "cell_type": "code",
      "source": [
        "book.title = \"python\""
      ],
      "metadata": {
        "id": "PLoJf5QlDksA"
      },
      "execution_count": 14,
      "outputs": []
    },
    {
      "cell_type": "code",
      "source": [
        "#클래스의 메소드 정의\n",
        "\n",
        "class Book(object):\n",
        "  author=\"\"\n",
        "  title=\"\"\n",
        "  publisher=\"\"\n",
        "  date=\"\"\n",
        "\n",
        "#self가 있어야지만 실제로 인스턴스가 사용할 수 있는 메소드로 선언\n",
        "  def print_info(self):\n",
        "    print(f\"{self.author} 의 책 제목은 '{self.title}' 입니다.\")"
      ],
      "metadata": {
        "id": "UK_f89vmDndC"
      },
      "execution_count": 24,
      "outputs": []
    },
    {
      "cell_type": "code",
      "source": [
        "book = Book()\n",
        "book.author = \"why\"\n",
        "book.title = \"모든 게 궁금해\" #여기서 book을 class 메소드에 들어간 self라고 생각하면 편하다\n",
        "book.print_info() #메소드호출"
      ],
      "metadata": {
        "colab": {
          "base_uri": "https://localhost:8080/"
        },
        "id": "lUFOKI-uD-D8",
        "outputId": "20ed956a-d33a-479a-b4ae-e98fe14c1d9e"
      },
      "execution_count": 25,
      "outputs": [
        {
          "output_type": "stream",
          "name": "stdout",
          "text": [
            "why 의 책 제목은 '모든 게 궁금해' 입니다.\n"
          ]
        }
      ]
    },
    {
      "cell_type": "code",
      "source": [
        "#인스턴스 속성\n",
        "\n",
        "class Book(object):\n",
        "  author=\"\"\n",
        "  title=\"\"\n",
        "  publisher=\"\"\n",
        "  date=\"\"\n",
        "\n",
        "  def print_info(self):\n",
        "    print(f\"{self.author} 의 책 제목은 '{self.title}' 입니다.\")\n",
        "    print(f\"출판사 : {self.publisher}\")\n",
        "    print(f\"출판일 : {self.date}\")\n",
        "    "
      ],
      "metadata": {
        "id": "6YDEVkEbEdr_"
      },
      "execution_count": 27,
      "outputs": []
    },
    {
      "cell_type": "code",
      "source": [
        "b1 = Book()\n",
        "b1.author = \"나\"\n",
        "b1.title = \"나에 대한 모든 것\"\n",
        "b1.publisher = \"우리집\"\n",
        "b1.date=\"2022-02-27\"\n",
        "b1.print_info()"
      ],
      "metadata": {
        "colab": {
          "base_uri": "https://localhost:8080/"
        },
        "id": "G4aSwTFdIISl",
        "outputId": "b5a2ed6e-93cd-43d4-c4cd-438e094e28fa"
      },
      "execution_count": 30,
      "outputs": [
        {
          "output_type": "stream",
          "name": "stdout",
          "text": [
            "나 의 책 제목은 '나에 대한 모든 것' 입니다.\n",
            "출판사 : 우리집\n",
            "출판일 : 2022-02-27\n"
          ]
        }
      ]
    },
    {
      "cell_type": "code",
      "source": [
        "#클래스 속성\n",
        "class Book(object):\n",
        "  author=\"\"\n",
        "  title=\"\"\n",
        "  publisher=\"\"\n",
        "  date=\"\"\n",
        "\n",
        "  def print_info(self):\n",
        "    print(f\"{self.author} 의 책 제목은 '{self.title}' 입니다.\")\n",
        "    print(f\"출판사 : {self.publisher}\")\n",
        "    print(f\"출판일 : {self.date}\")\n",
        "    "
      ],
      "metadata": {
        "id": "NSo__FDGIllz"
      },
      "execution_count": null,
      "outputs": []
    },
    {
      "cell_type": "code",
      "source": [
        "b1 = Book()\n",
        "Book.author = \"나\" #클래스 속성으로도 접근할 수 있다.\n",
        "Book.title = \"나에 대한 모든 것\"\n",
        "Book.publisher = \"우리집\"\n",
        "Book.date=\"2022-02-27\"\n",
        "b1.print_info()"
      ],
      "metadata": {
        "colab": {
          "base_uri": "https://localhost:8080/"
        },
        "id": "iFanj9MmIsSe",
        "outputId": "d71db89e-59c1-4f06-d02d-7bd5284b3c38"
      },
      "execution_count": 31,
      "outputs": [
        {
          "output_type": "stream",
          "name": "stdout",
          "text": [
            "나 의 책 제목은 '나에 대한 모든 것' 입니다.\n",
            "출판사 : 우리집\n",
            "출판일 : 2022-02-27\n"
          ]
        }
      ]
    },
    {
      "cell_type": "code",
      "source": [
        "#인스턴스 속성과 클래스 속성\n",
        "\n",
        "class Book(object):\n",
        "  author=\"\"\n",
        "  title=\"\"\n",
        "  publisher=\"\"\n",
        "  date=\"\"\n",
        "  count=0\n",
        "\n",
        "  def print_info(self):\n",
        "    print(f\"{self.author} 의 책 제목은 '{self.title}' 입니다.\")\n",
        "    print(f\"출판사 : {self.publisher}\")\n",
        "    print(f\"출판일 : {self.date}\")"
      ],
      "metadata": {
        "id": "9fMLOTWXJL2f"
      },
      "execution_count": 32,
      "outputs": []
    },
    {
      "cell_type": "code",
      "source": [
        "b1 = Book()\n",
        "Book.count += 1\n",
        "b1.author = \"나\"\n",
        "b1.title = \"나에 대한 모든 것\"\n",
        "b1.publisher = \"우리집\"\n",
        "b1.date=\"2022-02-27\"\n",
        "b1.print_info()\n",
        "print(\"책 수량 : \", str(Book.count))"
      ],
      "metadata": {
        "colab": {
          "base_uri": "https://localhost:8080/"
        },
        "id": "tahvMyVBJQ2R",
        "outputId": "8c03e38d-8d53-4bf8-ab45-60420050ae07"
      },
      "execution_count": 34,
      "outputs": [
        {
          "output_type": "stream",
          "name": "stdout",
          "text": [
            "나 의 책 제목은 '나에 대한 모든 것' 입니다.\n",
            "출판사 : 우리집\n",
            "출판일 : 2022-02-27\n",
            "책 수량 :  2\n"
          ]
        }
      ]
    },
    {
      "cell_type": "code",
      "source": [
        "#__init__() 메소드 이용해서 클래스 속성 초기화\n",
        "class Book(object):\n",
        "  count=0\n",
        "\n",
        "  def __init__(self, author, title, publisher, date):\n",
        "    self.author = author\n",
        "    self.title = title\n",
        "    self.publisher = publisher\n",
        "    self.date = date\n",
        "    Book.count += 1 #생성될 때마다 하나씩 증가\n",
        "\n",
        "  def print_info(self):\n",
        "    print(f\"{self.author} 의 책 제목은 '{self.title}' 입니다.\")\n",
        "    print(f\"출판사 : {self.publisher}\")\n",
        "    print(f\"출판일 : {self.date}\")"
      ],
      "metadata": {
        "id": "tfG049c8KwUB"
      },
      "execution_count": 47,
      "outputs": []
    },
    {
      "cell_type": "code",
      "source": [
        "book = Book(\"나\", \"나에 대하여\", \"우리집\", \"2022-02-27\")\n",
        "book.print_info()\n",
        "print(\"책 수량 : \", str(Book.count))"
      ],
      "metadata": {
        "colab": {
          "base_uri": "https://localhost:8080/"
        },
        "id": "BhX8-OZKLKlv",
        "outputId": "38e478b2-e1af-4b81-d3dc-a7aba79c0a86"
      },
      "execution_count": 48,
      "outputs": [
        {
          "output_type": "stream",
          "name": "stdout",
          "text": [
            "나 의 책 제목은 '나에 대하여' 입니다.\n",
            "출판사 : 우리집\n",
            "출판일 : 2022-02-27\n",
            "책 수량 :  1\n"
          ]
        }
      ]
    },
    {
      "cell_type": "code",
      "source": [
        "#__init__() 메소드 이용해서 클래스 속성 초기화\n",
        "class Book(object):\n",
        "  count=0\n",
        "\n",
        "  def __init__(self, author, title, publisher, date):\n",
        "    self.author = author\n",
        "    self.title = title\n",
        "    self.publisher = publisher\n",
        "    self.date = date\n",
        "    Book.count += 1 #생성될 때마다 하나씩 증가\n",
        "\n",
        "  def __str__(self):\n",
        "    return(\"Author : \" + self.author + \\\n",
        "           \"\\nTitle : \" + self.title + \\\n",
        "           \"\\nPublisher : \" + self.publisher + \\\n",
        "           \"\\nDate : \" + self.date)"
      ],
      "metadata": {
        "id": "FrwoSgxeMiAI"
      },
      "execution_count": 44,
      "outputs": []
    },
    {
      "cell_type": "code",
      "source": [
        "book = Book(\"나\", \"나에 대하여\", \"우리집\", \"2022-02-27\")\n",
        "print(book)\n",
        "print(\"책 수량 : \", str(Book.count))"
      ],
      "metadata": {
        "colab": {
          "base_uri": "https://localhost:8080/"
        },
        "id": "SY9oACIyM5eF",
        "outputId": "4233d308-7116-449b-a141-0d9064050bf6"
      },
      "execution_count": 45,
      "outputs": [
        {
          "output_type": "stream",
          "name": "stdout",
          "text": [
            "Author : 나\n",
            "Title : 나에 대하여\n",
            "Publisher : 우리집\n",
            "Date : 2022-02-27\n",
            "책 수량 :  1\n"
          ]
        }
      ]
    }
  ]
}