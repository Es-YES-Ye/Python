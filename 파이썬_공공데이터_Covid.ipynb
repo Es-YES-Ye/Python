{
  "nbformat": 4,
  "nbformat_minor": 0,
  "metadata": {
    "colab": {
      "name": "파이썬-공공데이터-Covid.ipynb",
      "provenance": [],
      "collapsed_sections": [],
      "mount_file_id": "1bEKXiy5QcupB02l6H0uHnnAPM_4NkLy6",
      "authorship_tag": "ABX9TyPGrPG0zJwtWzJfQhCMKO0e",
      "include_colab_link": true
    },
    "kernelspec": {
      "name": "python3",
      "display_name": "Python 3"
    },
    "language_info": {
      "name": "python"
    }
  },
  "cells": [
    {
      "cell_type": "markdown",
      "metadata": {
        "id": "view-in-github",
        "colab_type": "text"
      },
      "source": [
        "<a href=\"https://colab.research.google.com/github/Es-YES-Ye/Python/blob/main/%ED%8C%8C%EC%9D%B4%EC%8D%AC_%EA%B3%B5%EA%B3%B5%EB%8D%B0%EC%9D%B4%ED%84%B0_Covid.ipynb\" target=\"_parent\"><img src=\"https://colab.research.google.com/assets/colab-badge.svg\" alt=\"Open In Colab\"/></a>"
      ]
    },
    {
      "cell_type": "code",
      "execution_count": 21,
      "metadata": {
        "colab": {
          "base_uri": "https://localhost:8080/",
          "height": 72
        },
        "id": "8c2LrYHBwGPV",
        "outputId": "7430cd3d-a7e2-4b30-f530-48a09c159d80"
      },
      "outputs": [
        {
          "output_type": "execute_result",
          "data": {
            "application/vnd.google.colaboratory.intrinsic+json": {
              "type": "string"
            },
            "text/plain": [
              "'http://api.odcloud.kr/api/15098910/v1/uddi:a5ff8a87-db3e-4317-bc95-9283aa1dd4a2?page=1&perPage=20&returnType=JSON&serviceKey=PiU45JSyjp2WHmUtYIV1iiiLSE1ufMsMfJMcBf%2FfWntZqbN4EAfGZ4kkAlolAJw10ACZVWciZh%2Fz9KqwP5%2BPNA%3D%3D'"
            ]
          },
          "metadata": {},
          "execution_count": 21
        }
      ],
      "source": [
        "url='http://api.odcloud.kr/api/15098910/v1/uddi:a5ff8a87-db3e-4317-bc95-9283aa1dd4a2'\n",
        "page_param = \"page=1\"\n",
        "size_param = \"perPage=20\"\n",
        "rt_param = \"returnType=JSON\" #or XML\n",
        "auth_param =  \"serviceKey=PiU45JSyjp2WHmUtYIV1iiiLSE1ufMsMfJMcBf%2FfWntZqbN4EAfGZ4kkAlolAJw10ACZVWciZh%2Fz9KqwP5%2BPNA%3D%3D\"\n",
        "#query_str = f\"{url}?{page_param}&{size_param}&{rt_param}\"\n",
        "query_str = url + \"?\" + page_param + \"&\" + size_param + \"&\" + rt_param + \"&\" + auth_param\n",
        "query_str"
      ]
    },
    {
      "cell_type": "code",
      "source": [
        "import urllib.request"
      ],
      "metadata": {
        "id": "XW-DTy7Uw9Go"
      },
      "execution_count": 22,
      "outputs": []
    },
    {
      "cell_type": "code",
      "source": [
        "#HTTPError: HTTP Error 401: Unauthorized 인증 오류 때문에 request 객체 만들어서 인증 필요\n",
        "req = urllib.request.Request(query_str)\n",
        "#헤더 추가 가능\n",
        "#req.add_header(\"Authorization\", \"Infuser PiU45JSyjp2WHmUtYIV1iiiLSE1ufMsMfJMcBf%2FfWntZqbN4EAfGZ4kkAlolAJw10ACZVWciZh%2Fz9KqwP5%2BPNA%3D%3D\")\n",
        "res = urllib.request.urlopen(req)\n",
        "data=res.read().decode('utf-8')\n",
        "print(data) #JSON 방식의 문자열 딕셔너리 형태 #xml은 태그형태"
      ],
      "metadata": {
        "colab": {
          "base_uri": "https://localhost:8080/"
        },
        "id": "44cPcj-exAlv",
        "outputId": "b88a56b2-e452-4310-edff-f622ef8d36f7"
      },
      "execution_count": 23,
      "outputs": [
        {
          "output_type": "stream",
          "name": "stdout",
          "text": [
            "{\"currentCount\":20,\"data\":[{\"구분\":\"2020-01-31\",\"사망자\":0,\"확진자\":0},{\"구분\":\"2020-02-29\",\"사망자\":0,\"확진자\":1},{\"구분\":\"2020-03-31\",\"사망자\":0,\"확진자\":45},{\"구분\":\"2020-04-30\",\"사망자\":0,\"확진자\":0},{\"구분\":\"2020-05-31\",\"사망자\":0,\"확진자\":1},{\"구분\":\"2020-06-30\",\"사망자\":0,\"확진자\":3},{\"구분\":\"2020-07-31\",\"사망자\":0,\"확진자\":0},{\"구분\":\"2020-08-31\",\"사망자\":0,\"확진자\":17},{\"구분\":\"2020-09-30\",\"사망자\":0,\"확진자\":9},{\"구분\":\"2020-10-31\",\"사망자\":0,\"확진자\":6},{\"구분\":\"2020-11-30\",\"사망자\":0,\"확진자\":20},{\"구분\":\"2020-12-31\",\"사망자\":1,\"확진자\":48},{\"구분\":\"2021-01-31\",\"사망자\":0,\"확진자\":46},{\"구분\":\"2021-02-28\",\"사망자\":0,\"확진자\":31},{\"구분\":\"2021-03-31\",\"사망자\":0,\"확진자\":56},{\"구분\":\"2021-04-30\",\"사망자\":0,\"확진자\":78},{\"구분\":\"2021-05-31\",\"사망자\":0,\"확진자\":122},{\"구분\":\"2021-06-30\",\"사망자\":0,\"확진자\":82},{\"구분\":\"2021-07-31\",\"사망자\":0,\"확진자\":180},{\"구분\":\"2021-08-31\",\"사망자\":0,\"확진자\":258}],\"matchCount\":24,\"page\":1,\"perPage\":20,\"totalCount\":24}\n",
            "\n"
          ]
        }
      ]
    },
    {
      "cell_type": "code",
      "source": [
        "import sys\n",
        "sys.path.append('/content/drive/MyDrive/module/')"
      ],
      "metadata": {
        "id": "e9tXgEGONi3i"
      },
      "execution_count": 45,
      "outputs": []
    },
    {
      "cell_type": "code",
      "source": [
        "from coviddata import CovidData #from 파이썬파일명 import "
      ],
      "metadata": {
        "id": "e5kTfxVGNrY0"
      },
      "execution_count": 47,
      "outputs": []
    },
    {
      "cell_type": "code",
      "source": [
        "#새로운 파일로 복사해서 붙여넣는다\n",
        "#from datetime import datetime\n",
        "\n",
        "#class CovidData:\n",
        "#  def __init__(self,dt,dcnt, ccnt):\n",
        "#    self.dt = dt\n",
        "#    self.dcnt = dcnt\n",
        "#    self.ccnt = ccnt\n",
        "#  @staticmethod #정적메소드 만들 때 쓰는 표현\n",
        "#  def make_covid_data(src):\n",
        "#    dt = datetime.strptime(src['구분'], '%Y-%m-%d')\n",
        "#    dcnt = src['사망자']\n",
        "#    ccnt = src['확진자']\n",
        "#    return CovidData(dt, dcnt, ccnt)"
      ],
      "metadata": {
        "id": "gm1jfa_EJDH-"
      },
      "execution_count": 41,
      "outputs": []
    },
    {
      "cell_type": "code",
      "source": [
        "#위쪽으로 합치기\n",
        "#dt = datetime.strptime('2020-01-31', '%Y-%m-%d')\n",
        "#print(dt)\n",
        "#print(type(dt))\n",
        "#def make_covid_data(src):\n",
        "#  dt = datetime.strptime(src['구분'], '%Y-%m-%d')\n",
        "#  dcnt = src['사망자']\n",
        "#  ccnt = src['확진자']\n",
        "#  return CovidData(dt, dcnt, ccnt)\n",
        "CovidData.make_covid_data(src) #클래스 이름으로 접근하는 걸 정적메소드, 형식의 메소드라고 한다."
      ],
      "metadata": {
        "colab": {
          "base_uri": "https://localhost:8080/"
        },
        "id": "TKfd1gFeKKkA",
        "outputId": "7d0c87ab-14d6-4d9b-ebaa-8a033a4e8c21"
      },
      "execution_count": 39,
      "outputs": [
        {
          "output_type": "stream",
          "name": "stdout",
          "text": [
            "2020-01-31 00:00:00\n",
            "<class 'datetime.datetime'>\n"
          ]
        }
      ]
    },
    {
      "cell_type": "code",
      "source": [
        "import json #json방식\n",
        "jres = json.loads(data)\n",
        "cdata = jres['data']\n",
        "#print(cdata) 컬렉션 형태로 출력된다.\n",
        "cds=[]\n",
        "for raw_cd in cdata:\n",
        "  cds.append(CovidData.make_covid_data(raw_cd))\n",
        "for cd in cds:\n",
        "  print(f\"일자: {cd.dt} 사망자: {cd.dcnt} 확진자: {cd.ccnt}\")\n",
        "  print(\"===========================================================\")\n"
      ],
      "metadata": {
        "colab": {
          "base_uri": "https://localhost:8080/"
        },
        "id": "zezlLJEAJaaB",
        "outputId": "d8e1fda9-26ca-4cfe-a824-f7734b4afcfd"
      },
      "execution_count": 48,
      "outputs": [
        {
          "output_type": "stream",
          "name": "stdout",
          "text": [
            "일자: 2020-01-31 00:00:00 사망자: 0 확진자: 0\n",
            "===========================================================\n",
            "일자: 2020-02-29 00:00:00 사망자: 0 확진자: 1\n",
            "===========================================================\n",
            "일자: 2020-03-31 00:00:00 사망자: 0 확진자: 45\n",
            "===========================================================\n",
            "일자: 2020-04-30 00:00:00 사망자: 0 확진자: 0\n",
            "===========================================================\n",
            "일자: 2020-05-31 00:00:00 사망자: 0 확진자: 1\n",
            "===========================================================\n",
            "일자: 2020-06-30 00:00:00 사망자: 0 확진자: 3\n",
            "===========================================================\n",
            "일자: 2020-07-31 00:00:00 사망자: 0 확진자: 0\n",
            "===========================================================\n",
            "일자: 2020-08-31 00:00:00 사망자: 0 확진자: 17\n",
            "===========================================================\n",
            "일자: 2020-09-30 00:00:00 사망자: 0 확진자: 9\n",
            "===========================================================\n",
            "일자: 2020-10-31 00:00:00 사망자: 0 확진자: 6\n",
            "===========================================================\n",
            "일자: 2020-11-30 00:00:00 사망자: 0 확진자: 20\n",
            "===========================================================\n",
            "일자: 2020-12-31 00:00:00 사망자: 1 확진자: 48\n",
            "===========================================================\n",
            "일자: 2021-01-31 00:00:00 사망자: 0 확진자: 46\n",
            "===========================================================\n",
            "일자: 2021-02-28 00:00:00 사망자: 0 확진자: 31\n",
            "===========================================================\n",
            "일자: 2021-03-31 00:00:00 사망자: 0 확진자: 56\n",
            "===========================================================\n",
            "일자: 2021-04-30 00:00:00 사망자: 0 확진자: 78\n",
            "===========================================================\n",
            "일자: 2021-05-31 00:00:00 사망자: 0 확진자: 122\n",
            "===========================================================\n",
            "일자: 2021-06-30 00:00:00 사망자: 0 확진자: 82\n",
            "===========================================================\n",
            "일자: 2021-07-31 00:00:00 사망자: 0 확진자: 180\n",
            "===========================================================\n",
            "일자: 2021-08-31 00:00:00 사망자: 0 확진자: 258\n",
            "===========================================================\n"
          ]
        }
      ]
    }
  ]
}