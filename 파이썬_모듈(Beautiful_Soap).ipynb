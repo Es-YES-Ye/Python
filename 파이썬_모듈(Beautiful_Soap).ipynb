{
  "nbformat": 4,
  "nbformat_minor": 0,
  "metadata": {
    "colab": {
      "name": "파이썬-모듈(Beautiful Soap).ipynb",
      "provenance": [],
      "authorship_tag": "ABX9TyPVYdjxBY/meXDDoP5KBuMT",
      "include_colab_link": true
    },
    "kernelspec": {
      "name": "python3",
      "display_name": "Python 3"
    },
    "language_info": {
      "name": "python"
    }
  },
  "cells": [
    {
      "cell_type": "markdown",
      "metadata": {
        "id": "view-in-github",
        "colab_type": "text"
      },
      "source": [
        "<a href=\"https://colab.research.google.com/github/Es-YES-Ye/Python/blob/main/%ED%8C%8C%EC%9D%B4%EC%8D%AC_%EB%AA%A8%EB%93%88(Beautiful_Soap).ipynb\" target=\"_parent\"><img src=\"https://colab.research.google.com/assets/colab-badge.svg\" alt=\"Open In Colab\"/></a>"
      ]
    },
    {
      "cell_type": "markdown",
      "source": [
        "BeautifulSoup 메뉴얼 사이트 : \n",
        "https://www.crummy.com/software/BeautifulSoup/bs4/doc/\n"
      ],
      "metadata": {
        "id": "KknJ3QgRhs5H"
      }
    },
    {
      "cell_type": "code",
      "execution_count": 19,
      "metadata": {
        "id": "XfW3EJa_hlCI"
      },
      "outputs": [],
      "source": [
        "from bs4 import BeautifulSoup"
      ]
    },
    {
      "cell_type": "code",
      "source": [
        "src =\"\"\"\n",
        "<html>\n",
        "\t<head>\n",
        "\t\t<title> test page </title>\n",
        "\t</head>\n",
        "\t<body>\n",
        "\t\t<strong>a~</strong>\n",
        "\t\t<p>bcd</p>\n",
        "\t</body>\n",
        "</html>\n",
        "\"\"\"\n",
        "print(src)"
      ],
      "metadata": {
        "colab": {
          "base_uri": "https://localhost:8080/"
        },
        "id": "cvzEKKcRkXdV",
        "outputId": "b785aad0-558b-423e-f584-3b3095f9bdab"
      },
      "execution_count": 20,
      "outputs": [
        {
          "output_type": "stream",
          "name": "stdout",
          "text": [
            "\n",
            "<html>\n",
            "\t<head>\n",
            "\t\t<title> test page </title>\n",
            "\t</head>\n",
            "\t<body>\n",
            "\t\t<strong>a~</strong>\n",
            "\t\t<p>bcd</p>\n",
            "\t</body>\n",
            "</html>\n",
            "\n"
          ]
        }
      ]
    },
    {
      "cell_type": "code",
      "source": [
        "html_parser = BeautifulSoup(src, 'html.parser')\n",
        "html_parser"
      ],
      "metadata": {
        "colab": {
          "base_uri": "https://localhost:8080/"
        },
        "id": "CyCM7D5ZklHD",
        "outputId": "4d0cfaf8-1f0c-4bae-8563-bd0201fadcf3"
      },
      "execution_count": null,
      "outputs": [
        {
          "output_type": "execute_result",
          "data": {
            "text/plain": [
              "\n",
              "<html>\n",
              "<head>\n",
              "<title> test page </title>\n",
              "</head>\n",
              "<body>\n",
              "<strong>a~</strong>\n",
              "<p>bcd</p>\n",
              "</body>\n",
              "</html>"
            ]
          },
          "metadata": {},
          "execution_count": 4
        }
      ]
    },
    {
      "cell_type": "code",
      "source": [
        "html_parser.head"
      ],
      "metadata": {
        "colab": {
          "base_uri": "https://localhost:8080/"
        },
        "id": "G-6B6ENjlo49",
        "outputId": "8bf8dad2-f637-42cc-8860-44fd985deffa"
      },
      "execution_count": null,
      "outputs": [
        {
          "output_type": "execute_result",
          "data": {
            "text/plain": [
              "<head>\n",
              "<title> test page </title>\n",
              "</head>"
            ]
          },
          "metadata": {},
          "execution_count": 5
        }
      ]
    },
    {
      "cell_type": "code",
      "source": [
        "html_parser.body"
      ],
      "metadata": {
        "colab": {
          "base_uri": "https://localhost:8080/"
        },
        "id": "UsXiZbA1lrLE",
        "outputId": "ca55c455-e67c-48ae-a3d8-6154a6ba8552"
      },
      "execution_count": null,
      "outputs": [
        {
          "output_type": "execute_result",
          "data": {
            "text/plain": [
              "<body>\n",
              "<strong>a~</strong>\n",
              "<p>bcd</p>\n",
              "</body>"
            ]
          },
          "metadata": {},
          "execution_count": 6
        }
      ]
    },
    {
      "cell_type": "code",
      "source": [
        "html_parser.strong #처음으로 발견된 strong 태그"
      ],
      "metadata": {
        "colab": {
          "base_uri": "https://localhost:8080/"
        },
        "id": "kejGj396lsif",
        "outputId": "19615943-abaf-4825-f5b7-451d0d5c6feb"
      },
      "execution_count": null,
      "outputs": [
        {
          "output_type": "execute_result",
          "data": {
            "text/plain": [
              "<strong>a~</strong>"
            ]
          },
          "metadata": {},
          "execution_count": 7
        }
      ]
    },
    {
      "cell_type": "markdown",
      "source": [
        "#카카오 도서 검색 API 사용하기\n",
        "\n",
        "https://developers.kakao.com/\n",
        "\n",
        "쿼리 문자열 구조\n",
        "\n",
        "도메인 주소 ? 매개변수 목록\n",
        "\n",
        "매개변수 목록에서 매개변수와 매개변수는 & 로 구분\n",
        "\n",
        "매개변수는 키 = 값 구조를 지님"
      ],
      "metadata": {
        "id": "xtOEjpPioEYz"
      }
    },
    {
      "cell_type": "markdown",
      "source": [
        "query string 중요한 부분"
      ],
      "metadata": {
        "id": "sxw1gKhGr__w"
      }
    },
    {
      "cell_type": "code",
      "source": [
        "import urllib.request \n",
        "\n",
        "url = 'https://dapi.kakao.com/v3/search/book'\n",
        "target_param = \"target=title\"\n",
        "page_param = \"page=2\"\n",
        "query_in =input(\"검색 질의 : \") #사용자로부터 입력받은 것\n",
        "query_param = \"query=\"+urllib.parse.quote(query_in) #utf-8로 인코딩 #쿼리부분에 대한 param완성\n",
        "query_str = url+'?'+target_param+'&'+query_param + '&' + page_param\n",
        "\n",
        "print(query_str)\n",
        "\n",
        "request = urllib.request.Request(query_str) #서비스 요청에 사용할 개체를 생성\n",
        "#urllib.request.urlopen(query_str) #HTTPError: HTTP Error 401: Unauthorized\n",
        "request.add_header(\"Authorization\", \"KakaoAK PERSONAL REST API\") #rest api 키 붙여넣기\n",
        "response = urllib.request.urlopen(request)\n",
        "res = response.read().decode(\"utf-8\")\n",
        "print(res)\n"
      ],
      "metadata": {
        "colab": {
          "base_uri": "https://localhost:8080/"
        },
        "id": "igqLwumvn1gj",
        "outputId": "6284d0ca-91e2-4b09-a0b9-3fbe7e9d1232"
      },
      "execution_count": 34,
      "outputs": [
        {
          "output_type": "stream",
          "name": "stdout",
          "text": [
            "검색 질의 : 음악\n",
            "https://dapi.kakao.com/v3/search/book?target=title&query=%EC%9D%8C%EC%95%85&page=2\n",
            "{\"documents\":[{\"authors\":[\"이화균\"],\"contents\":\"입문자도 입시생도 독학하기 쉬운 음악이론  저자는 음악을 즐기는 수준에서 공부로 넘어가는 과정이 매우 어려웠습니다. 우리나라에서만 쓰는 한자식 표현, 현대 음악과는 상관없는 오래된 관행, 그 당시의 부족한 정보의 탓으로 혼란스러운 적이 많았습니다. 요즘은 사정이 나아져서 많은 교재가 나왔지만 아직도 대다수의 교재는 기본적인 부분을 생략해 너무 어렵거나 불필요한 내용이 많아 만족스럽지 않았습니다. 이는 학생들과 수업을 하면서 늘 느끼는 것입니다. 지금은\",\"datetime\":\"2020-12-07T00:00:00.000+09:00\",\"isbn\":\"1197094512 9791197094514\",\"price\":16000,\"publisher\":\"해피엠뮤직\",\"sale_price\":14400,\"status\":\"정상판매\",\"thumbnail\":\"https://search1.kakaocdn.net/thumb/R120x174.q85/?fname=http%3A%2F%2Ft1.daumcdn.net%2Flbook%2Fimage%2F5549934%3Ftimestamp%3D20220222213712\",\"title\":\"기초 실용음악 화성학\",\"translators\":[],\"url\":\"https://search.daum.net/search?w=bookpage\\u0026bookId=5549934\\u0026q=%EA%B8%B0%EC%B4%88+%EC%8B%A4%EC%9A%A9%EC%9D%8C%EC%95%85+%ED%99%94%EC%84%B1%ED%95%99\"},{\"authors\":[\"이지영\"],\"contents\":\"음악은 같은 예술 분야인 미술에 비해 텍스트와 덜 친화적이다. 즉흥적으로 뭔가를 느끼고 감정을 직접 건드린다는 점에서 탁월한 표현력을 지닌다. 이런 점은 음악의 가장 큰 장점이지만, 한편 더 깊이 있게 알려는 이들에게는 관련 텍스트가 폭넓지 않아 가끔 척박하다는 인상을 준다. 가령 피아니스트, 바이올리니스트들은 직접 글을 쓰는 일이 드물고, 저명한 작곡가들에 대한 책 역시 많지 않다. 청중(독자)은 동시대 최정점에 오른 연주자들의 콘서트홀을 찾고 음반\",\"datetime\":\"2021-11-15T00:00:00.000+09:00\",\"isbn\":\"8967359675 9788967359676\",\"price\":19800,\"publisher\":\"글항아리\",\"sale_price\":17820,\"status\":\"정상판매\",\"thumbnail\":\"https://search1.kakaocdn.net/thumb/R120x174.q85/?fname=http%3A%2F%2Ft1.daumcdn.net%2Flbook%2Fimage%2F5886876%3Ftimestamp%3D20220222201534\",\"title\":\"음악, 당신에게 무엇입니까(양장본 HardCover)\",\"translators\":[],\"url\":\"https://search.daum.net/search?w=bookpage\\u0026bookId=5886876\\u0026q=%EC%9D%8C%EC%95%85%2C+%EB%8B%B9%EC%8B%A0%EC%97%90%EA%B2%8C+%EB%AC%B4%EC%97%87%EC%9E%85%EB%8B%88%EA%B9%8C%28%EC%96%91%EC%9E%A5%EB%B3%B8+HardCover%29\"},{\"authors\":[\"다이애나\"],\"contents\":\"\\\"중등교원 임용고시 대비  Diana 종합음악세트 - 음악교육론 전공음악! 이 교재로 총정리!! -테마별로 기본부터 심화까자 모두 정리 -악보와 이론의 통합 정리 -폭넓은 자료를 통한 입체적 내용 구성  이 책은 중등교원임용 음악교사를 준비하는 분들을 위한 수험서입니다. 5년 전 초판 발행 이후 중등교원임용 수험서로 많은 사랑을 받았던 이 교재가 올해로 3판을 맞이했습니다. 시대흐름에 맞추어 교육과정이 변화됨에 따라 예비음악교사 선생님들의 임용고시 준비\",\"datetime\":\"2019-04-10T00:00:00.000+09:00\",\"isbn\":\"1156838061 9791156838067\",\"price\":9000,\"publisher\":\"북이그잼\",\"sale_price\":8100,\"status\":\"정상판매\",\"thumbnail\":\"https://search1.kakaocdn.net/thumb/R120x174.q85/?fname=http%3A%2F%2Ft1.daumcdn.net%2Flbook%2Fimage%2F4914447%3Ftimestamp%3D20210815032203\",\"title\":\"전공음악 음악교육론(종합음악세트)(Diana)\",\"translators\":[],\"url\":\"https://search.daum.net/search?w=bookpage\\u0026bookId=4914447\\u0026q=%EC%A0%84%EA%B3%B5%EC%9D%8C%EC%95%85+%EC%9D%8C%EC%95%85%EA%B5%90%EC%9C%A1%EB%A1%A0%28%EC%A2%85%ED%95%A9%EC%9D%8C%EC%95%85%EC%84%B8%ED%8A%B8%29%28Diana%29\"},{\"authors\":[\"대니얼 J. 레비틴\"],\"contents\":\"음악은 어디서 비롯된 걸까? 음악은 인류가 진화하고 발전하는 과정에서 어떤 기능을 했을까? 개 짖는 소리나 자동차 브레이크 소리와 달리 특정 소리의 배열로 이뤄진 음악이 우리 마음을 움직일 수 있는 이유가 뭘까? 음악은 왜, 이렇게나 아름답게 들리는 걸까? 레비틴은 음악의 정체를 파고들면 파고들수록 기쁨, 두려움, 욕구, 기억, 소통 등 인간의 본질을 더욱 잘 이해하게 될 것이라고 한다. 그는 음악을 감성의 영역에서 끄집어내 뇌과학의 시선으로 펼쳐본다\",\"datetime\":\"2022-01-03T00:00:00.000+09:00\",\"isbn\":\"1168410495 9791168410497\",\"price\":22000,\"publisher\":\"와이즈베리\",\"sale_price\":19800,\"status\":\"정상판매\",\"thumbnail\":\"https://search1.kakaocdn.net/thumb/R120x174.q85/?fname=http%3A%2F%2Ft1.daumcdn.net%2Flbook%2Fimage%2F5937052%3Ftimestamp%3D20220222210313\",\"title\":\"음악 인류\",\"translators\":[\"이진선\"],\"url\":\"https://search.daum.net/search?w=bookpage\\u0026bookId=5937052\\u0026q=%EC%9D%8C%EC%95%85+%EC%9D%B8%EB%A5%98\"},{\"authors\":[\"장보람\"],\"contents\":\"흥미로운 이야기를 통해 초등 교과서 지식을 만나는 『떴다 지식 탐험대』 제30권 \\u0026lt;높은음자리 음악단 기적을 만들다(음악)\\u0026gt;. 개성 넘치는 주인공들이 문제를 해결하고 원리를 밝혀 나가는 이야기를 재미있게 그려내며 아이들의 눈높이에 맞춘 지식을 제공한다. 교과서 속 핵심 정보들을 현직 초등학교 교사로 구성된 자문위원들과 분석해 아이들이 꼭 알아야 하는 정보들만을 선별했다. 또한 정보 학습 코너를 통해 이야기에서 밝혀진 원리나 사실들을 체계적\",\"datetime\":\"2012-01-15T00:00:00.000+09:00\",\"isbn\":\"895276417X 9788952764171\",\"price\":9500,\"publisher\":\"시공주니어\",\"sale_price\":8550,\"status\":\"정상판매\",\"thumbnail\":\"https://search1.kakaocdn.net/thumb/R120x174.q85/?fname=http%3A%2F%2Ft1.daumcdn.net%2Flbook%2Fimage%2F644821%3Ftimestamp%3D20210527155118\",\"title\":\"떴다 지식 탐험대. 30: 높은음자리 음악단 기적을 만들다(음악)\",\"translators\":[],\"url\":\"https://search.daum.net/search?w=bookpage\\u0026bookId=644821\\u0026q=%EB%96%B4%EB%8B%A4+%EC%A7%80%EC%8B%9D+%ED%83%90%ED%97%98%EB%8C%80.+30%3A+%EB%86%92%EC%9D%80%EC%9D%8C%EC%9E%90%EB%A6%AC+%EC%9D%8C%EC%95%85%EB%8B%A8+%EA%B8%B0%EC%A0%81%EC%9D%84+%EB%A7%8C%EB%93%A4%EB%8B%A4%28%EC%9D%8C%EC%95%85%29\"},{\"authors\":[\"권덕원\",\"석문주\",\"최은식\",\"함희주\",\"정진원\",\"오지향 정재은 이수진 최미영\"],\"contents\":\"제5판의 발행이 갖는 특징을 두 가지로 요약할 수 있습니다. 첫 번째는 다섯 명의 저자들이 새롭게 참여하게 되었다는 것입니다. 새로운 저자들은 여러 대학에서 예비교사들을 가르치고 있는, 음악교육학을 전공한 교수들로서, 각각 전문적으로 연구하는 분야를 갖고 있습니다. 새롭게 동참한 저자들은 그 전문적인 지식과 관점으로 본 책의 기존 내용을 철저히 검토하고, 미흡한 내용을 보완하는 작업에 참여하였습니다. 본 『음악교육의 기초』의 저자가 아홉 명이라는 것\",\"datetime\":\"2021-08-25T00:00:00.000+09:00\",\"isbn\":\"892541614X 9788925416144\",\"price\":20000,\"publisher\":\"교육과학사\",\"sale_price\":20000,\"status\":\"정상판매\",\"thumbnail\":\"https://search1.kakaocdn.net/thumb/R120x174.q85/?fname=http%3A%2F%2Ft1.daumcdn.net%2Flbook%2Fimage%2F5813959%3Ftimestamp%3D20220222201942\",\"title\":\"음악교육의 기초(5판)\",\"translators\":[],\"url\":\"https://search.daum.net/search?w=bookpage\\u0026bookId=5813959\\u0026q=%EC%9D%8C%EC%95%85%EA%B5%90%EC%9C%A1%EC%9D%98+%EA%B8%B0%EC%B4%88%285%ED%8C%90%29\"},{\"authors\":[\"정혜윤\"],\"contents\":\"나다운 일상을 만드는 사람들의 이야기를 담은 『오늘도 리추얼』시리즈가 위즈덤하우스에서 출간되었다.『오늘도 리추얼』시리즈는 음악,요가,달리기,영감 수집 등 다양한 리추얼을 통해 자신만의 세계를 쌓아나가는 사람들의 일상을 소개한다..그 첫 번째 책인 정혜윤 작가의 『오늘도 리추얼:음악,나에게 선물하는 시간』은음악이 어떻게 리추얼이 되었는지,또 그를 통해 어떻게 자신을 만나고 세계를 확장시켜 나갔는지에 대한 이야기를 담았다.저자는 ‘나’에게 오롯이 집중하는\",\"datetime\":\"2021-12-01T00:00:00.000+09:00\",\"isbn\":\"1168120748 9791168120747\",\"price\":15000,\"publisher\":\"위즈덤하우스\",\"sale_price\":13500,\"status\":\"정상판매\",\"thumbnail\":\"https://search1.kakaocdn.net/thumb/R120x174.q85/?fname=http%3A%2F%2Ft1.daumcdn.net%2Flbook%2Fimage%2F5904011%3Ftimestamp%3D20220222214419\",\"title\":\"오늘도 리추얼: 음악, 나에게 선물하는 시간\",\"translators\":[],\"url\":\"https://search.daum.net/search?w=bookpage\\u0026bookId=5904011\\u0026q=%EC%98%A4%EB%8A%98%EB%8F%84+%EB%A6%AC%EC%B6%94%EC%96%BC%3A+%EC%9D%8C%EC%95%85%2C+%EB%82%98%EC%97%90%EA%B2%8C+%EC%84%A0%EB%AC%BC%ED%95%98%EB%8A%94+%EC%8B%9C%EA%B0%84\"},{\"authors\":[\"카렌 A 드몰\"],\"contents\":\"\",\"datetime\":\"2009-05-20T00:00:00.000+09:00\",\"isbn\":\"8993169438 9788993169430\",\"price\":9000,\"publisher\":\"꿈을이루는사람들\",\"sale_price\":8100,\"status\":\"정상판매\",\"thumbnail\":\"https://search1.kakaocdn.net/thumb/R120x174.q85/?fname=http%3A%2F%2Ft1.daumcdn.net%2Flbook%2Fimage%2F1398937%3Ftimestamp%3D20200411133733\",\"title\":\"음악(기독교 세계관으로 본)\",\"translators\":[\"이경원\"],\"url\":\"https://search.daum.net/search?w=bookpage\\u0026bookId=1398937\\u0026q=%EC%9D%8C%EC%95%85%28%EA%B8%B0%EB%8F%85%EA%B5%90+%EC%84%B8%EA%B3%84%EA%B4%80%EC%9C%BC%EB%A1%9C+%EB%B3%B8%29\"},{\"authors\":[\"요하네스 라데마허\"],\"contents\":\"\",\"datetime\":\"2005-12-20T00:00:00.000+09:00\",\"isbn\":\"897084287X 9788970842875\",\"price\":12800,\"publisher\":\"예경\",\"sale_price\":11520,\"status\":\"정상판매\",\"thumbnail\":\"https://search1.kakaocdn.net/thumb/R120x174.q85/?fname=http%3A%2F%2Ft1.daumcdn.net%2Flbook%2Fimage%2F970221%3Ftimestamp%3D20211023202856\",\"title\":\"음악(즐거운 지식여행 12)\",\"translators\":[\"이선희\"],\"url\":\"https://search.daum.net/search?w=bookpage\\u0026bookId=970221\\u0026q=%EC%9D%8C%EC%95%85%28%EC%A6%90%EA%B1%B0%EC%9A%B4+%EC%A7%80%EC%8B%9D%EC%97%AC%ED%96%89+12%29\"},{\"authors\":[\"현대음악출판사 편집부\"],\"contents\":\"맛있는 음악이론『초콜렛 1』. 혼자서도 음악 이론을 즐겁게 학습할 수 있도록 쉽게 기획된 음악 교재이다. 음악이론과 학습한 음악이론을 다질 수 있는 문제로 구성되어 있으며, 해당 교재에서 배운 음악이론을 다질 수 있게 ‘다지기 부록’이 함께 포함되어 있다.\",\"datetime\":\"2008-04-14T00:00:00.000+09:00\",\"isbn\":\"8957662480 9788957662489\",\"price\":4000,\"publisher\":\"현대음악출판사\",\"sale_price\":3600,\"status\":\"정상판매\",\"thumbnail\":\"https://search1.kakaocdn.net/thumb/R120x174.q85/?fname=http%3A%2F%2Ft1.daumcdn.net%2Flbook%2Fimage%2F764477%3Ftimestamp%3D20220222214419\",\"title\":\"초콜렛. 1(맛있는 음악이론)\",\"translators\":[],\"url\":\"https://search.daum.net/search?w=bookpage\\u0026bookId=764477\\u0026q=%EC%B4%88%EC%BD%9C%EB%A0%9B.+1%28%EB%A7%9B%EC%9E%88%EB%8A%94+%EC%9D%8C%EC%95%85%EC%9D%B4%EB%A1%A0%29\"}],\"meta\":{\"is_end\":false,\"pageable_count\":1000,\"total_count\":9080}}\n"
          ]
        }
      ]
    },
    {
      "cell_type": "code",
      "source": [
        "import json"
      ],
      "metadata": {
        "id": "BUFgp2gs-Rov"
      },
      "execution_count": 30,
      "outputs": []
    },
    {
      "cell_type": "code",
      "source": [
        "jres = json.loads(res)\n",
        "if jres == None:\n",
        "    print(\"json.loads 실패\")\n",
        "    exit(0) #exit 만나자마자 프로그램 끝난다\n",
        "for post in jres['documents']:\n",
        "    print(\"제목 : \", post['title'])\n",
        "    print(\"설명 : \", post['contents'])\n",
        "    print(\"url : \", post['url'])\n",
        "    print(\"가격 : \", post['price'])\n",
        "    print(\"============================================================-========================\")"
      ],
      "metadata": {
        "colab": {
          "base_uri": "https://localhost:8080/"
        },
        "id": "gC2qyl7m-kQh",
        "outputId": "c725794a-1faf-4b0b-bec8-f297d47d9a5b"
      },
      "execution_count": 35,
      "outputs": [
        {
          "output_type": "stream",
          "name": "stdout",
          "text": [
            "제목 :  기초 실용음악 화성학\n",
            "설명 :  입문자도 입시생도 독학하기 쉬운 음악이론  저자는 음악을 즐기는 수준에서 공부로 넘어가는 과정이 매우 어려웠습니다. 우리나라에서만 쓰는 한자식 표현, 현대 음악과는 상관없는 오래된 관행, 그 당시의 부족한 정보의 탓으로 혼란스러운 적이 많았습니다. 요즘은 사정이 나아져서 많은 교재가 나왔지만 아직도 대다수의 교재는 기본적인 부분을 생략해 너무 어렵거나 불필요한 내용이 많아 만족스럽지 않았습니다. 이는 학생들과 수업을 하면서 늘 느끼는 것입니다. 지금은\n",
            "url :  https://search.daum.net/search?w=bookpage&bookId=5549934&q=%EA%B8%B0%EC%B4%88+%EC%8B%A4%EC%9A%A9%EC%9D%8C%EC%95%85+%ED%99%94%EC%84%B1%ED%95%99\n",
            "가격 :  16000\n",
            "============================================================-========================\n",
            "제목 :  음악, 당신에게 무엇입니까(양장본 HardCover)\n",
            "설명 :  음악은 같은 예술 분야인 미술에 비해 텍스트와 덜 친화적이다. 즉흥적으로 뭔가를 느끼고 감정을 직접 건드린다는 점에서 탁월한 표현력을 지닌다. 이런 점은 음악의 가장 큰 장점이지만, 한편 더 깊이 있게 알려는 이들에게는 관련 텍스트가 폭넓지 않아 가끔 척박하다는 인상을 준다. 가령 피아니스트, 바이올리니스트들은 직접 글을 쓰는 일이 드물고, 저명한 작곡가들에 대한 책 역시 많지 않다. 청중(독자)은 동시대 최정점에 오른 연주자들의 콘서트홀을 찾고 음반\n",
            "url :  https://search.daum.net/search?w=bookpage&bookId=5886876&q=%EC%9D%8C%EC%95%85%2C+%EB%8B%B9%EC%8B%A0%EC%97%90%EA%B2%8C+%EB%AC%B4%EC%97%87%EC%9E%85%EB%8B%88%EA%B9%8C%28%EC%96%91%EC%9E%A5%EB%B3%B8+HardCover%29\n",
            "가격 :  19800\n",
            "============================================================-========================\n",
            "제목 :  전공음악 음악교육론(종합음악세트)(Diana)\n",
            "설명 :  \"중등교원 임용고시 대비  Diana 종합음악세트 - 음악교육론 전공음악! 이 교재로 총정리!! -테마별로 기본부터 심화까자 모두 정리 -악보와 이론의 통합 정리 -폭넓은 자료를 통한 입체적 내용 구성  이 책은 중등교원임용 음악교사를 준비하는 분들을 위한 수험서입니다. 5년 전 초판 발행 이후 중등교원임용 수험서로 많은 사랑을 받았던 이 교재가 올해로 3판을 맞이했습니다. 시대흐름에 맞추어 교육과정이 변화됨에 따라 예비음악교사 선생님들의 임용고시 준비\n",
            "url :  https://search.daum.net/search?w=bookpage&bookId=4914447&q=%EC%A0%84%EA%B3%B5%EC%9D%8C%EC%95%85+%EC%9D%8C%EC%95%85%EA%B5%90%EC%9C%A1%EB%A1%A0%28%EC%A2%85%ED%95%A9%EC%9D%8C%EC%95%85%EC%84%B8%ED%8A%B8%29%28Diana%29\n",
            "가격 :  9000\n",
            "============================================================-========================\n",
            "제목 :  음악 인류\n",
            "설명 :  음악은 어디서 비롯된 걸까? 음악은 인류가 진화하고 발전하는 과정에서 어떤 기능을 했을까? 개 짖는 소리나 자동차 브레이크 소리와 달리 특정 소리의 배열로 이뤄진 음악이 우리 마음을 움직일 수 있는 이유가 뭘까? 음악은 왜, 이렇게나 아름답게 들리는 걸까? 레비틴은 음악의 정체를 파고들면 파고들수록 기쁨, 두려움, 욕구, 기억, 소통 등 인간의 본질을 더욱 잘 이해하게 될 것이라고 한다. 그는 음악을 감성의 영역에서 끄집어내 뇌과학의 시선으로 펼쳐본다\n",
            "url :  https://search.daum.net/search?w=bookpage&bookId=5937052&q=%EC%9D%8C%EC%95%85+%EC%9D%B8%EB%A5%98\n",
            "가격 :  22000\n",
            "============================================================-========================\n",
            "제목 :  떴다 지식 탐험대. 30: 높은음자리 음악단 기적을 만들다(음악)\n",
            "설명 :  흥미로운 이야기를 통해 초등 교과서 지식을 만나는 『떴다 지식 탐험대』 제30권 &lt;높은음자리 음악단 기적을 만들다(음악)&gt;. 개성 넘치는 주인공들이 문제를 해결하고 원리를 밝혀 나가는 이야기를 재미있게 그려내며 아이들의 눈높이에 맞춘 지식을 제공한다. 교과서 속 핵심 정보들을 현직 초등학교 교사로 구성된 자문위원들과 분석해 아이들이 꼭 알아야 하는 정보들만을 선별했다. 또한 정보 학습 코너를 통해 이야기에서 밝혀진 원리나 사실들을 체계적\n",
            "url :  https://search.daum.net/search?w=bookpage&bookId=644821&q=%EB%96%B4%EB%8B%A4+%EC%A7%80%EC%8B%9D+%ED%83%90%ED%97%98%EB%8C%80.+30%3A+%EB%86%92%EC%9D%80%EC%9D%8C%EC%9E%90%EB%A6%AC+%EC%9D%8C%EC%95%85%EB%8B%A8+%EA%B8%B0%EC%A0%81%EC%9D%84+%EB%A7%8C%EB%93%A4%EB%8B%A4%28%EC%9D%8C%EC%95%85%29\n",
            "가격 :  9500\n",
            "============================================================-========================\n",
            "제목 :  음악교육의 기초(5판)\n",
            "설명 :  제5판의 발행이 갖는 특징을 두 가지로 요약할 수 있습니다. 첫 번째는 다섯 명의 저자들이 새롭게 참여하게 되었다는 것입니다. 새로운 저자들은 여러 대학에서 예비교사들을 가르치고 있는, 음악교육학을 전공한 교수들로서, 각각 전문적으로 연구하는 분야를 갖고 있습니다. 새롭게 동참한 저자들은 그 전문적인 지식과 관점으로 본 책의 기존 내용을 철저히 검토하고, 미흡한 내용을 보완하는 작업에 참여하였습니다. 본 『음악교육의 기초』의 저자가 아홉 명이라는 것\n",
            "url :  https://search.daum.net/search?w=bookpage&bookId=5813959&q=%EC%9D%8C%EC%95%85%EA%B5%90%EC%9C%A1%EC%9D%98+%EA%B8%B0%EC%B4%88%285%ED%8C%90%29\n",
            "가격 :  20000\n",
            "============================================================-========================\n",
            "제목 :  오늘도 리추얼: 음악, 나에게 선물하는 시간\n",
            "설명 :  나다운 일상을 만드는 사람들의 이야기를 담은 『오늘도 리추얼』시리즈가 위즈덤하우스에서 출간되었다.『오늘도 리추얼』시리즈는 음악,요가,달리기,영감 수집 등 다양한 리추얼을 통해 자신만의 세계를 쌓아나가는 사람들의 일상을 소개한다..그 첫 번째 책인 정혜윤 작가의 『오늘도 리추얼:음악,나에게 선물하는 시간』은음악이 어떻게 리추얼이 되었는지,또 그를 통해 어떻게 자신을 만나고 세계를 확장시켜 나갔는지에 대한 이야기를 담았다.저자는 ‘나’에게 오롯이 집중하는\n",
            "url :  https://search.daum.net/search?w=bookpage&bookId=5904011&q=%EC%98%A4%EB%8A%98%EB%8F%84+%EB%A6%AC%EC%B6%94%EC%96%BC%3A+%EC%9D%8C%EC%95%85%2C+%EB%82%98%EC%97%90%EA%B2%8C+%EC%84%A0%EB%AC%BC%ED%95%98%EB%8A%94+%EC%8B%9C%EA%B0%84\n",
            "가격 :  15000\n",
            "============================================================-========================\n",
            "제목 :  음악(기독교 세계관으로 본)\n",
            "설명 :  \n",
            "url :  https://search.daum.net/search?w=bookpage&bookId=1398937&q=%EC%9D%8C%EC%95%85%28%EA%B8%B0%EB%8F%85%EA%B5%90+%EC%84%B8%EA%B3%84%EA%B4%80%EC%9C%BC%EB%A1%9C+%EB%B3%B8%29\n",
            "가격 :  9000\n",
            "============================================================-========================\n",
            "제목 :  음악(즐거운 지식여행 12)\n",
            "설명 :  \n",
            "url :  https://search.daum.net/search?w=bookpage&bookId=970221&q=%EC%9D%8C%EC%95%85%28%EC%A6%90%EA%B1%B0%EC%9A%B4+%EC%A7%80%EC%8B%9D%EC%97%AC%ED%96%89+12%29\n",
            "가격 :  12800\n",
            "============================================================-========================\n",
            "제목 :  초콜렛. 1(맛있는 음악이론)\n",
            "설명 :  맛있는 음악이론『초콜렛 1』. 혼자서도 음악 이론을 즐겁게 학습할 수 있도록 쉽게 기획된 음악 교재이다. 음악이론과 학습한 음악이론을 다질 수 있는 문제로 구성되어 있으며, 해당 교재에서 배운 음악이론을 다질 수 있게 ‘다지기 부록’이 함께 포함되어 있다.\n",
            "url :  https://search.daum.net/search?w=bookpage&bookId=764477&q=%EC%B4%88%EC%BD%9C%EB%A0%9B.+1%28%EB%A7%9B%EC%9E%88%EB%8A%94+%EC%9D%8C%EC%95%85%EC%9D%B4%EB%A1%A0%29\n",
            "가격 :  4000\n",
            "============================================================-========================\n"
          ]
        }
      ]
    },
    {
      "cell_type": "markdown",
      "source": [
        "여기까진 urllib 만 있어도 되지만 이 아래로 beatiful soap 이용해서 카카오 open api 사용하기"
      ],
      "metadata": {
        "id": "VksCt0JCr5Et"
      }
    },
    {
      "cell_type": "markdown",
      "source": [
        "#Naver 도서 검색 API 사용하기\n",
        "https://developers.naver.com/main/"
      ],
      "metadata": {
        "id": "bUx6o5_b-SLA"
      }
    },
    {
      "cell_type": "code",
      "source": [
        "import urllib.request \n",
        "\n",
        "url = 'https://openapi.naver.com/v1/search/book.xml'\n",
        "\n",
        "query_in =input(\"검색 질의 : \") #사용자로부터 입력받은 것\n",
        "query_param = \"query=\"+urllib.parse.quote(query_in) #utf-8로 인코딩 #쿼리부분에 대한 param완성\n",
        "query_str = url+'?'+query_param\n",
        "\n",
        "print(query_str)\n",
        "\n",
        "request = urllib.request.Request(query_str) #서비스 요청에 사용할 개체를 생성\n",
        "request.add_header('X-Naver-Client-Id', 'PERSONAL ID')\n",
        "request.add_header('X-Naver-Client-Secret', 'PERSONAL SECRET')\n",
        "#request.add_header('X-Naver-Client-Id', '발급받은 client id')\n",
        "#request.add_header('X-Naver-Client-Secret', '발급받은 client secret')\n",
        "\n",
        "response = urllib.request.urlopen(request)\n",
        "res = response.read().decode(\"utf-8\")\n",
        "print(res)"
      ],
      "metadata": {
        "colab": {
          "base_uri": "https://localhost:8080/"
        },
        "id": "DMdNrE99FyDq",
        "outputId": "7ae8e2ad-3570-45e5-8ba4-fae6282cac49"
      },
      "execution_count": 27,
      "outputs": [
        {
          "output_type": "stream",
          "name": "stdout",
          "text": [
            "검색 질의 : 왜\n",
            "https://openapi.naver.com/v1/search/book.xml?query=%EC%99%9C\n",
            "<?xml version=\"1.0\" encoding=\"UTF-8\"?><rss version=\"2.0\"><channel><title>Naver Open API - book ::'왜'</title><link>https://search.naver.com</link><description>Naver Search Result</description><lastBuildDate>Wed, 23 Feb 2022 14:47:39 +0900</lastBuildDate><total>159331</total><start>1</start><display>10</display><item><title>&lt;b&gt;왜&lt;/b&gt; 일하는가</title><link>http://book.naver.com/bookdb/book_detail.php?bid=18904207</link><image>https://bookthumb-phinf.pstatic.net/cover/189/042/18904207.jpg?type=m1&amp;udate=20211120</image><author>이나모리 가즈오</author><price>16000</price><discount>14400</discount><publisher>다산북스</publisher><pubdate>20210412</pubdate><isbn>1130637034 9791130637037</isbn><description>대체 어떤 책이길래 이토록 많은 경영자와 직장인들의 가슴에 불을 붙인 걸까? \n",
            "?&lt;b&gt;왜&lt;/b&gt; 일하는가?는 부도 직전의 중소기업에 간신히 취업해 하루하루... 미래가 막막한 한국의 일하는 모든 사람에게 이렇게 묻는다. “당신은 어떤 일을 하는가? &lt;b&gt;왜&lt;/b&gt; 그 일을 하는가? 그 일을 하는 당신은 무엇이 되길 바라는가?”</description></item><item><title>&lt;b&gt;왜&lt;/b&gt; 리더인가 (반세기 경영 끝에 깨달은 마음의 법칙)</title><link>http://book.naver.com/bookdb/book_detail.php?bid=20511854</link><image>https://bookthumb-phinf.pstatic.net/cover/205/118/20511854.jpg?type=m1&amp;udate=20211207</image><author>이나모리 가즈오</author><price>16000</price><discount>14400</discount><publisher>다산북스</publisher><pubdate>20210512</pubdate><isbn>1130635872 9791130635873</isbn><description>『&lt;b&gt;왜&lt;/b&gt; 일하는가』 이후 이나모리 가즈오 경영 철학의 궁극에 도달한 유일한 책!\n",
            "대한민국 CEO들이 가장 존경하는 경영자,\n",
            "살아 있는 ‘경영의 신’... 그래서 나는 마음을 토대에 두고 회사를 이끌어나가겠다고 다짐했다.”\n",
            "\n",
            "전 세계 500만 직장인의 삶을 바꾼 『&lt;b&gt;왜&lt;/b&gt; 일하는가』의 저자 이나모리 가즈오가 지난 60여... </description></item><item><title>&lt;b&gt;왜&lt;/b&gt; 살아야 하는가 (삶과 죽음이라는 문제 앞에 선 사상가 10인의 대답)</title><link>http://book.naver.com/bookdb/book_detail.php?bid=20807948</link><image>https://bookthumb-phinf.pstatic.net/cover/208/079/20807948.jpg?type=m1&amp;udate=20220115</image><author>미하엘 하우스켈러</author><price>18000</price><discount>16200</discount><publisher>추수밭</publisher><pubdate>20210811</pubdate><isbn>1155401905 9791155401903</isbn><description>‘&lt;b&gt;왜&lt;/b&gt; 살아야 하는가’라는 질문에 답변하기 위한 시도를 보여준 사상가 10인의 고전을 깊이 있게 읽고 알기 쉽게 해설한다. 철학과 문학을 오가며 ‘삶’과 ‘죽음’의 의미를 심도 있게 탐색하면서 목적과 방향을 잃은 현대인이 흔히들 갖게 되는 이익주의, 합리주의, 허무주의, 냉소주의 등의 태도를 반성한다.... </description></item><item><title>존리의 &lt;b&gt;왜&lt;/b&gt; 주식인가 (시간에 투자하는 대가의 생각)</title><link>http://book.naver.com/bookdb/book_detail.php?bid=21473566</link><image>https://bookthumb-phinf.pstatic.net/cover/214/735/21473566.jpg?type=m1&amp;udate=20220215</image><author>존 리</author><price>20000</price><discount>18000</discount><publisher>한국경제신문</publisher><pubdate>20220207</pubdate><isbn>8947547905 9788947547901</isbn><description>‘&lt;b&gt;왜&lt;/b&gt; 주식인가?’를 묻기 이전에 ‘&lt;b&gt;왜&lt;/b&gt; 존리인가?’를 물어야 하지 않을까, 라는 생각마저 든다.이 책 《존리의 &lt;b&gt;왜&lt;/b&gt; 주식인가》에는 저자의 투자 철학과 전략이 빠짐없이 수록되어 있다. 그야말로 저자의 30년 경험을 아낌없이 수록한 결정판이자 최고의 역작이라 불러도 손색이 없는 책이다. 존리의 주식투자법에... </description></item><item><title>나는 &lt;b&gt;왜&lt;/b&gt; 생각이 많을까? (머릿속의 스위치를 끄고 싶을 때 보는 뇌과학 이야기)</title><link>http://book.naver.com/bookdb/book_detail.php?bid=20777127</link><image>https://bookthumb-phinf.pstatic.net/cover/207/771/20777127.jpg?type=m1&amp;udate=20220205</image><author>홋타 슈고</author><price>13800</price><discount>12400</discount><publisher>서사원</publisher><pubdate>20210719</pubdate><isbn>1190179873 9791190179874</isbn><description>‘나는 &lt;b&gt;왜&lt;/b&gt; 생각이 많을까?’ 나조차 이유를 모르는 내 머릿속 비밀을 시원하게 밝혀 줄 초간단 해법이 등장했다. 이 책의 저자인 ‘홋타 슈고’는 뇌과학, 사회심리학, 언어학 등을 연구하며 다수의 책을 출간한 바 있다. 이번에는 사람들이 생각을 많이 하게 된 이유, 생각을 단순화해야 하는 이유와 그... </description></item><item><title>이렇게 쉬운데 &lt;b&gt;왜&lt;/b&gt; 부동산 투자를 하지 않았을까 (내집 마련부터 수익률을 높이는 투자법까지 한권에 담은 부동산 투자가이드)</title><link>http://book.naver.com/bookdb/book_detail.php?bid=21259318</link><image>https://bookthumb-phinf.pstatic.net/cover/212/593/21259318.jpg?type=m1&amp;udate=20211207</image><author>마인츠</author><price>18000</price><discount>16200</discount><publisher>한스미디어</publisher><pubdate>20211110</pubdate><isbn>1160077436 9791160077438</isbn><description>“\n",
            "아파트·빌라·상가·토지까지 모든 부동산의 기초 지식 정리\n",
            "\n",
            "부동산은 모르지만 내집은 갖고 싶은 부린이\n",
            "내집은 있지만 더 좋은 동네로 옮기고 싶은 유주택자\n",
            "투자처를 다양하게 넓히려는 꿈 많은 투자자까지\n",
            "\n",
            "부동산에 관심이 있는 모두를 위한 부동산 투자 기초 가이드 『이렇게 쉬운데 &lt;b&gt;왜&lt;/b&gt; 부동산 투자를... </description></item><item><title>나는 &lt;b&gt;왜&lt;/b&gt; 혼자가 편할까 ? (인간관계가 귀찮은 사람들의 관계 심리학)</title><link>http://book.naver.com/bookdb/book_detail.php?bid=21413633</link><image>https://bookthumb-phinf.pstatic.net/cover/214/136/21413633.jpg?type=m1&amp;udate=20220210</image><author>오카다 다카시</author><price>14500</price><discount>13050</discount><publisher>동양북스</publisher><pubdate>20220120</pubdate><isbn>1157687717 9791157687718</isbn><description>“&lt;b&gt;왜&lt;/b&gt; 사람한테 기대면 마음이 더 아플까?”★7주년 기념 개정판★★7년 연속 국내 심리 스테디셀러... 『나는 &lt;b&gt;왜&lt;/b&gt; 혼자가 편할까?』의 최신 개정판이 출간되었다. 혼자 있는 게 더 편한 사람, 결혼과 출산을... 『나는 &lt;b&gt;왜&lt;/b&gt; 혼자가 편할까?』(원제: 회피성애착장애回避性愛着障害)는 1인 가구의 증가와 더불어서 계속... </description></item><item><title>&lt;b&gt;왜&lt;/b&gt; 아가리로만 할까? (오늘도, 해야지 해야지 하며 하루를 보낸 당신에게)</title><link>http://book.naver.com/bookdb/book_detail.php?bid=20633531</link><image>https://bookthumb-phinf.pstatic.net/cover/206/335/20633531.jpg?type=m1&amp;udate=20211231</image><author>박정한|이상목|이수창</author><price>14800</price><discount>13300</discount><publisher>들녘</publisher><pubdate>20210617</pubdate><isbn>1159256489 9791159256486</isbn><description>&lt;b&gt;왜&lt;/b&gt; 말로만 하고 실천하지 못하는지,&amp;#x0D;나도 나를 이해할 수 없는 당신에게 꼭 필요한 이야기&amp;#x0D;&amp;#x0D;공부? 해야지.&amp;#x0D;운동? 퇴근하고 해야지.&amp;#x0D;다이어트? 내일부터 해야지.&amp;#x0D;자기계발? 해야 하는데 시간이 없어.&amp;#x0D;새해 연초에 세운 계획? 아, 하나도 못 지켰네.&amp;#x0D;&amp;#x0D;많은 이들이 자신의 고민을... </description></item><item><title>나는 &lt;b&gt;왜&lt;/b&gt; 네 말이 힘들까 (상대의 말이 듣기 힘들 때 후회되는 말을 했을 때)</title><link>http://book.naver.com/bookdb/book_detail.php?bid=16388775</link><image>https://bookthumb-phinf.pstatic.net/cover/163/887/16388775.jpg?type=m1&amp;udate=20211207</image><author>박재연</author><price>16800</price><discount>15100</discount><publisher>한빛라이프</publisher><pubdate>20200701</pubdate><isbn>1190846012 9791190846011</isbn><description>혹은 마음에도 없는 말이 불쑥 튀어나와 상대와의 관계가 묘하게 어긋난 적이 있는가?『나는 &lt;b&gt;왜&lt;/b&gt; 네 말이 힘들까』는 오해 없이 상대의 말을 듣고, 내 마음을 진솔하게 표현하는 방법을 다양한 방식으로 연습해볼 수 있도록 도와주는 대화 안내서다. 단계별 연습과 풍부한 사례를 통해 일상에서 말로 인해... </description></item><item><title>&lt;b&gt;왜&lt;/b&gt;요, 기후가 어떤데요? (탄소 발자국에 숨은 기후 위기)</title><link>http://book.naver.com/bookdb/book_detail.php?bid=20825454</link><image>https://bookthumb-phinf.pstatic.net/cover/208/254/20825454.jpg?type=m1&amp;udate=20211208</image><author>최원형</author><price>13000</price><discount>11700</discount><publisher>동녘</publisher><pubdate>20210803</pubdate><isbn>897297000X 9788972970002</isbn><description>문제의 핵심을 짚은 청소년 기후 변화 입문서동녘 청소년 교양 시리즈 ‘&lt;b&gt;왜&lt;/b&gt;요’가 들려주는 세 번째 이야기. 환경과 생태 문제를 청소년 눈높이로 전달하는 탁월한 능력을 입증한 최원형 작가가 기후 변화를 말한다. 청소년이 일상에서 접하는 기후 변화와 관련한 다양한 사례부터 탄소 중립 실천법까지 쉽고도... </description></item></channel></rss>\n"
          ]
        }
      ]
    },
    {
      "cell_type": "code",
      "source": [
        "from bs4 import BeautifulSoup\n",
        "xmlsoup = BeautifulSoup(res, 'html.parser')\n",
        "items = xmlsoup.find_all('item') #item으로 된 애들은 전부 찾는다\n",
        "for item in items:\n",
        "  print(\"제목 : \", item.title.get_text())\n",
        "  print(\"설명 : \", item.description.get_text())\n",
        "  print(\"이미지 : \", item.image.get_text())\n",
        "  print(\"가격 : \", item.price.get_text())\n",
        "  print(\"=================================================================================\")"
      ],
      "metadata": {
        "id": "NjNwMPoLMi3J"
      },
      "execution_count": 37,
      "outputs": []
    },
    {
      "cell_type": "markdown",
      "source": [
        ""
      ],
      "metadata": {
        "id": "27gQdiYJ-WbK"
      }
    }
  ]
}