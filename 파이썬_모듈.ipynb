{
  "nbformat": 4,
  "nbformat_minor": 0,
  "metadata": {
    "colab": {
      "name": "파이썬 - 모듈.ipynb",
      "provenance": [],
      "collapsed_sections": [],
      "mount_file_id": "1O9oSdgHVStdIlhZ1ZX9vhT_R0Eo_kTFj",
      "authorship_tag": "ABX9TyPHDshBXw2MR6GUgA9klvHl",
      "include_colab_link": true
    },
    "kernelspec": {
      "name": "python3",
      "display_name": "Python 3"
    },
    "language_info": {
      "name": "python"
    }
  },
  "cells": [
    {
      "cell_type": "markdown",
      "metadata": {
        "id": "view-in-github",
        "colab_type": "text"
      },
      "source": [
        "<a href=\"https://colab.research.google.com/github/Es-YES-Ye/Python/blob/main/%ED%8C%8C%EC%9D%B4%EC%8D%AC_%EB%AA%A8%EB%93%88.ipynb\" target=\"_parent\"><img src=\"https://colab.research.google.com/assets/colab-badge.svg\" alt=\"Open In Colab\"/></a>"
      ]
    },
    {
      "cell_type": "markdown",
      "source": [
        "#모듈\n",
        "\n",
        "관련 있는 형식이나 기능을 모아서 정의한 코드 집합\n",
        "\n",
        "파이썬에서는 하나의 파이썬 파일(.py)로 정의\n",
        "\n",
        "\n",
        "\n",
        "*   표준 모듈\n",
        "\n",
        "    파이썬을 설치하면 기본적으로 사용 가능한 모듈\n",
        "\n",
        "*   외부 모듈\n",
        "\n",
        "    별도의 설치를 해야 사용 가능한 모듈\n",
        "\n",
        "*   사용자 정의 모듈\n",
        "\n",
        "    개발자(파이썬 사용자)가 직접 정의한 모듈\n"
      ],
      "metadata": {
        "id": "euFMhYXg5Oyq"
      }
    },
    {
      "cell_type": "markdown",
      "source": [
        "#패키지\n",
        "\n",
        "배포의 단위\n",
        "\n",
        "파이썬에서는 파이썬 파일들을 포함하는  폴더"
      ],
      "metadata": {
        "id": "Ngmz9GmT5cg0"
      }
    },
    {
      "cell_type": "markdown",
      "source": [
        "#프레임워크\n",
        "\n",
        "비슷한 형태의  프로그램의 기본 구조와 골격을 정의해 놓은 것\n",
        "\n",
        "\n",
        "(장고)"
      ],
      "metadata": {
        "id": "IIvX8caG51xN"
      }
    },
    {
      "cell_type": "markdown",
      "source": [
        "#진입점 ( Entry Point)\n",
        "\n",
        "소스파일이 여러 개가 있으면 프로그램을 실행시켰을 때 시작하는 지점\n",
        "\n",
        "__name__ 에는 진입점이 무엇인지 알 수 있다."
      ],
      "metadata": {
        "id": "RAcjTx-p9_Z5"
      }
    },
    {
      "cell_type": "code",
      "execution_count": 1,
      "metadata": {
        "colab": {
          "base_uri": "https://localhost:8080/"
        },
        "id": "DSU-RrH32pdu",
        "outputId": "8253266f-019c-4746-dde3-b238e1573a83"
      },
      "outputs": [
        {
          "output_type": "execute_result",
          "data": {
            "text/plain": [
              "['',\n",
              " '/content',\n",
              " '/env/python',\n",
              " '/usr/lib/python37.zip',\n",
              " '/usr/lib/python3.7',\n",
              " '/usr/lib/python3.7/lib-dynload',\n",
              " '/usr/local/lib/python3.7/dist-packages',\n",
              " '/usr/lib/python3/dist-packages',\n",
              " '/usr/local/lib/python3.7/dist-packages/IPython/extensions',\n",
              " '/root/.ipython',\n",
              " '/content/drive/MyDrive/module']"
            ]
          },
          "metadata": {},
          "execution_count": 1
        }
      ],
      "source": [
        "#모듈 더미\n",
        "import sys\n",
        "\n",
        "sys.path.append('/content/drive/MyDrive/module')\n",
        "sys.path #상대경로로 사용할 수 있게 경로를 등록해서 파일명으로 사용하게 한다\n",
        "\n"
      ]
    },
    {
      "cell_type": "code",
      "source": [
        "import dummy\n"
      ],
      "metadata": {
        "id": "7z4macDc-UIy"
      },
      "execution_count": 2,
      "outputs": []
    },
    {
      "cell_type": "code",
      "source": [
        "dummy.print_n(\"hello\", 3)"
      ],
      "metadata": {
        "colab": {
          "base_uri": "https://localhost:8080/"
        },
        "id": "2qHkaOz4-Weh",
        "outputId": "1ec4c9f0-d02e-4229-f302-4581d08c9779"
      },
      "execution_count": 3,
      "outputs": [
        {
          "output_type": "stream",
          "name": "stdout",
          "text": [
            "1 s \n",
            "2 s \n",
            "3 s \n"
          ]
        }
      ]
    },
    {
      "cell_type": "code",
      "source": [
        "dummy.print_list([1,2,3,4])"
      ],
      "metadata": {
        "colab": {
          "base_uri": "https://localhost:8080/"
        },
        "id": "Z2SsMFMu-cQV",
        "outputId": "88808940-0647-4502-e36b-2ded3066a9b2"
      },
      "execution_count": 4,
      "outputs": [
        {
          "output_type": "stream",
          "name": "stdout",
          "text": [
            "1 : 1\n",
            "2 : 2\n",
            "3 : 3\n",
            "4 : 4\n"
          ]
        }
      ]
    },
    {
      "cell_type": "markdown",
      "source": [
        "이름이 길고 축약해서 사용하기를 원한다면?"
      ],
      "metadata": {
        "id": "XqkqpVKsAFVT"
      }
    },
    {
      "cell_type": "code",
      "source": [
        "from dummy import print_n, print_list"
      ],
      "metadata": {
        "id": "EaX38jUkAIt3"
      },
      "execution_count": 7,
      "outputs": []
    },
    {
      "cell_type": "code",
      "source": [
        "print_n(\"yahoo\", 3) #dummy. 하지 않고 쓸 수 있다.,"
      ],
      "metadata": {
        "id": "8V4_xHNCAL00"
      },
      "execution_count": null,
      "outputs": []
    },
    {
      "cell_type": "code",
      "source": [
        "print_list([1,2,3])"
      ],
      "metadata": {
        "colab": {
          "base_uri": "https://localhost:8080/"
        },
        "id": "AeIrhAmUAZsq",
        "outputId": "62b3568c-a32f-4631-ae44-60d766dd2b14"
      },
      "execution_count": 8,
      "outputs": [
        {
          "output_type": "stream",
          "name": "stdout",
          "text": [
            "1 : 1\n",
            "2 : 2\n",
            "3 : 3\n"
          ]
        }
      ]
    },
    {
      "cell_type": "code",
      "source": [
        "from dummy import * #모든 것의 이름을 직접 사용하겠다."
      ],
      "metadata": {
        "id": "fOWaABMCAhU-"
      },
      "execution_count": 10,
      "outputs": []
    },
    {
      "cell_type": "markdown",
      "source": [
        "from 모듈이름 import (asterisk) * \n",
        "\n",
        "모듈에 있는 모든 이름을 직접 사용할 수 있다.\n",
        "\n",
        "하지만 다른 모듈에 같은 이름이 있으면 모호해질 수 있으니 권장하지 않음 "
      ],
      "metadata": {
        "id": "Jbg5fB-yBofu"
      }
    },
    {
      "cell_type": "code",
      "source": [
        "print_n(\"yahoo\", 3)"
      ],
      "metadata": {
        "colab": {
          "base_uri": "https://localhost:8080/"
        },
        "id": "Uoq1cm4IAnGS",
        "outputId": "51bfb96a-a7a2-4d37-be2c-7dc3ef798e66"
      },
      "execution_count": 11,
      "outputs": [
        {
          "output_type": "stream",
          "name": "stdout",
          "text": [
            "1 s \n",
            "2 s \n",
            "3 s \n"
          ]
        }
      ]
    },
    {
      "cell_type": "code",
      "source": [
        " import dummy as dm\n",
        " dm.print_n(\"yahoo\", 3)"
      ],
      "metadata": {
        "colab": {
          "base_uri": "https://localhost:8080/"
        },
        "id": "ShW-OzqkBxAl",
        "outputId": "eea518fe-b108-4ab4-d6f2-88bebf76f40b"
      },
      "execution_count": 15,
      "outputs": [
        {
          "output_type": "stream",
          "name": "stdout",
          "text": [
            "1 s \n",
            "2 s \n",
            "3 s \n"
          ]
        }
      ]
    },
    {
      "cell_type": "code",
      "source": [
        "if __name__ == \"__main__\": #현재 파일의 main이 __name__과 일치할 때, 진입점일 때 아래를 수행하시오\n",
        "  print_n(\"Hello\", 3)\n",
        "  print_list([1,2,3])"
      ],
      "metadata": {
        "colab": {
          "base_uri": "https://localhost:8080/"
        },
        "id": "WuNNpW1rB4xU",
        "outputId": "2000dce9-ef20-468f-c3ce-54679bb3e20f"
      },
      "execution_count": 16,
      "outputs": [
        {
          "output_type": "stream",
          "name": "stdout",
          "text": [
            "1 s \n",
            "2 s \n",
            "3 s \n",
            "1 : 1\n",
            "2 : 2\n",
            "3 : 3\n"
          ]
        }
      ]
    },
    {
      "cell_type": "code",
      "source": [
        "import dummy2 as d2"
      ],
      "metadata": {
        "colab": {
          "base_uri": "https://localhost:8080/"
        },
        "id": "UBm12-lRHpFf",
        "outputId": "a93be7c6-1bb3-4006-9c47-5069f3b8c2e0"
      },
      "execution_count": 17,
      "outputs": [
        {
          "output_type": "stream",
          "name": "stdout",
          "text": [
            "1: Hello\n",
            "2: Hello\n",
            "3: Hello\n"
          ]
        }
      ]
    },
    {
      "cell_type": "markdown",
      "source": [
        "테스트 하기 위해 print 놓은 건 import 할 때 보이지 않기 위해서\n",
        "\n",
        "if __name__ = \"__main__\" 이런 조건을 걸어주고 테스트하면 좋다"
      ],
      "metadata": {
        "id": "bMWaYVFPH4-N"
      }
    }
  ]
}