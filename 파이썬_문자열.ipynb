{
  "nbformat": 4,
  "nbformat_minor": 0,
  "metadata": {
    "colab": {
      "name": "파이썬-문자열.ipynb",
      "provenance": [],
      "authorship_tag": "ABX9TyOOs2LSsOHuvCMxcn/2wI4E",
      "include_colab_link": true
    },
    "kernelspec": {
      "name": "python3",
      "display_name": "Python 3"
    },
    "language_info": {
      "name": "python"
    }
  },
  "cells": [
    {
      "cell_type": "markdown",
      "metadata": {
        "id": "view-in-github",
        "colab_type": "text"
      },
      "source": [
        "<a href=\"https://colab.research.google.com/github/Es-YES-Ye/Python/blob/main/%ED%8C%8C%EC%9D%B4%EC%8D%AC_%EB%AC%B8%EC%9E%90%EC%97%B4.ipynb\" target=\"_parent\"><img src=\"https://colab.research.google.com/assets/colab-badge.svg\" alt=\"Open In Colab\"/></a>"
      ]
    },
    {
      "cell_type": "code",
      "execution_count": 7,
      "metadata": {
        "colab": {
          "base_uri": "https://localhost:8080/"
        },
        "id": "potcugV-26Ok",
        "outputId": "68932134-f2f5-4832-8c09-b76fcc9eaee1"
      },
      "outputs": [
        {
          "output_type": "execute_result",
          "data": {
            "text/plain": [
              "26"
            ]
          },
          "metadata": {},
          "execution_count": 7
        }
      ],
      "source": [
        "s1 = \"abcDeFghijKlmnopqRstuVwxyz\"\n"
      ]
    },
    {
      "cell_type": "code",
      "source": [
        "len(s1)\n",
        "#문자열의 길이를 알 수 있다."
      ],
      "metadata": {
        "id": "EQ-_XIGb4G3v"
      },
      "execution_count": null,
      "outputs": []
    },
    {
      "cell_type": "code",
      "source": [
        "s1.upper() #대문자 \n",
        "#자기 자신을 바꾸는 게 아니고 대문자로 바뀐 문자열을 반환해주는 것뿐이다.\n"
      ],
      "metadata": {
        "colab": {
          "base_uri": "https://localhost:8080/",
          "height": 35
        },
        "id": "z4fgZiWd3GWV",
        "outputId": "743e3fed-444c-4543-d301-881817b64182"
      },
      "execution_count": 9,
      "outputs": [
        {
          "output_type": "execute_result",
          "data": {
            "application/vnd.google.colaboratory.intrinsic+json": {
              "type": "string"
            },
            "text/plain": [
              "'ABCDEFGHIJKLMNOPQRSTUVWXYZ'"
            ]
          },
          "metadata": {},
          "execution_count": 9
        }
      ]
    },
    {
      "cell_type": "code",
      "source": [
        "s1.lower()#소문자\n"
      ],
      "metadata": {
        "colab": {
          "base_uri": "https://localhost:8080/",
          "height": 35
        },
        "id": "rIESiF3z3-HB",
        "outputId": "9d979590-4996-480e-e653-addbd61c5480"
      },
      "execution_count": 10,
      "outputs": [
        {
          "output_type": "execute_result",
          "data": {
            "application/vnd.google.colaboratory.intrinsic+json": {
              "type": "string"
            },
            "text/plain": [
              "'abcdefghijklmnopqrstuvwxyz'"
            ]
          },
          "metadata": {},
          "execution_count": 10
        }
      ]
    },
    {
      "cell_type": "code",
      "source": [
        "s1"
      ],
      "metadata": {
        "colab": {
          "base_uri": "https://localhost:8080/",
          "height": 35
        },
        "id": "3p-20Fsx4A8B",
        "outputId": "6e226056-2a2b-45cb-d39e-44ee8a7f94c5"
      },
      "execution_count": 11,
      "outputs": [
        {
          "output_type": "execute_result",
          "data": {
            "application/vnd.google.colaboratory.intrinsic+json": {
              "type": "string"
            },
            "text/plain": [
              "'abcDeFghijKlmnopqRstuVwxyz'"
            ]
          },
          "metadata": {},
          "execution_count": 11
        }
      ]
    },
    {
      "cell_type": "code",
      "source": [
        "s1[12]\n",
        "#indexer[]로 몇 번째 문자열을 알 수 있다."
      ],
      "metadata": {
        "colab": {
          "base_uri": "https://localhost:8080/",
          "height": 35
        },
        "id": "JNYAB2MK4CJ5",
        "outputId": "d1e80fee-7146-473e-d711-d7deb2bdee80"
      },
      "execution_count": 13,
      "outputs": [
        {
          "output_type": "execute_result",
          "data": {
            "application/vnd.google.colaboratory.intrinsic+json": {
              "type": "string"
            },
            "text/plain": [
              "'m'"
            ]
          },
          "metadata": {},
          "execution_count": 13
        }
      ]
    },
    {
      "cell_type": "code",
      "source": [
        "#양옆에 있는 공백을 제거한다. strip()\n",
        "s1 = \"             abcd       \"\n",
        "s1.strip()"
      ],
      "metadata": {
        "colab": {
          "base_uri": "https://localhost:8080/",
          "height": 35
        },
        "id": "RltOeVz_4nHj",
        "outputId": "bdc619b8-6e84-4b5d-e0f7-96a05e93344c"
      },
      "execution_count": 15,
      "outputs": [
        {
          "output_type": "execute_result",
          "data": {
            "application/vnd.google.colaboratory.intrinsic+json": {
              "type": "string"
            },
            "text/plain": [
              "'             abcd       '"
            ]
          },
          "metadata": {},
          "execution_count": 15
        }
      ]
    },
    {
      "cell_type": "code",
      "source": [
        "\"123\".isalnum(), \"123adfsdfe\".isalnum(), \"123afsd ez tq\".isalnum(), \"asfdfe\".isalnum(), \"asfd#fe\".isalnum(), \"123#\".isalnum()\n",
        "# is~() 로 물어보면 true/flase 로 대답 돌아온다."
      ],
      "metadata": {
        "colab": {
          "base_uri": "https://localhost:8080/"
        },
        "id": "c-iD5y_r47MT",
        "outputId": "b6c8f535-e262-4528-de01-3aaeb61d1b14"
      },
      "execution_count": 18,
      "outputs": [
        {
          "output_type": "execute_result",
          "data": {
            "text/plain": [
              "(True, True, False, True, False, False)"
            ]
          },
          "metadata": {},
          "execution_count": 18
        }
      ]
    },
    {
      "cell_type": "code",
      "source": [
        "s1 = \"I am a boy. You are a girl. SoWhat?\"\n",
        "s1.find(\"a \"), s1.rfind(\"a \")\n",
        "#멤버십 연산자\n",
        "#find는 처음부터 찾아라 rfind는 뒤에서부터 찾아라"
      ],
      "metadata": {
        "colab": {
          "base_uri": "https://localhost:8080/"
        },
        "id": "n_H535re5_mY",
        "outputId": "a9c1355f-717a-488d-d1e0-ac8fafc079d6"
      },
      "execution_count": 20,
      "outputs": [
        {
          "output_type": "execute_result",
          "data": {
            "text/plain": [
              "(5, 20)"
            ]
          },
          "metadata": {},
          "execution_count": 20
        }
      ]
    },
    {
      "cell_type": "code",
      "source": [
        "\"something\" in s1\n",
        "#멤버십 연산자 in\n",
        "#문자열 자체는 컬렉션이다.\n"
      ],
      "metadata": {
        "colab": {
          "base_uri": "https://localhost:8080/"
        },
        "id": "CfKpIObZ6bhi",
        "outputId": "0f5a4065-7482-41f0-c39f-2ccd70c37ba9"
      },
      "execution_count": 21,
      "outputs": [
        {
          "output_type": "execute_result",
          "data": {
            "text/plain": [
              "False"
            ]
          },
          "metadata": {},
          "execution_count": 21
        }
      ]
    },
    {
      "cell_type": "code",
      "source": [
        "res = s1.split(' ')\n",
        "res\n",
        "#텍스트 마이닝\n",
        "#공백을 단위로 분리시켜 달라."
      ],
      "metadata": {
        "colab": {
          "base_uri": "https://localhost:8080/"
        },
        "id": "kE61NYij69nJ",
        "outputId": "1cfee2d6-5950-479f-9fd3-9849e494d772"
      },
      "execution_count": 22,
      "outputs": [
        {
          "output_type": "execute_result",
          "data": {
            "text/plain": [
              "['I', 'am', 'a', 'boy.', 'You', 'are', 'a', 'girl.', 'SoWhat?']"
            ]
          },
          "metadata": {},
          "execution_count": 22
        }
      ]
    },
    {
      "cell_type": "code",
      "source": [
        "rs= s1.split('.')\n",
        "rs"
      ],
      "metadata": {
        "colab": {
          "base_uri": "https://localhost:8080/"
        },
        "id": "k5_Zggk77Uue",
        "outputId": "71773565-b107-49eb-95d4-802b98c7740f"
      },
      "execution_count": 23,
      "outputs": [
        {
          "output_type": "execute_result",
          "data": {
            "text/plain": [
              "['I am a boy', ' You are a girl', ' SoWhat?']"
            ]
          },
          "metadata": {},
          "execution_count": 23
        }
      ]
    },
    {
      "cell_type": "code",
      "source": [
        ""
      ],
      "metadata": {
        "id": "WTq7ESwj7X9C"
      },
      "execution_count": null,
      "outputs": []
    }
  ]
}