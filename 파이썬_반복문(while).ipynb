{
  "nbformat": 4,
  "nbformat_minor": 0,
  "metadata": {
    "colab": {
      "name": "파이썬-반복문(while).ipynb",
      "provenance": [],
      "authorship_tag": "ABX9TyPGcXqX5moEyca2GMcua6nL",
      "include_colab_link": true
    },
    "kernelspec": {
      "name": "python3",
      "display_name": "Python 3"
    },
    "language_info": {
      "name": "python"
    }
  },
  "cells": [
    {
      "cell_type": "markdown",
      "metadata": {
        "id": "view-in-github",
        "colab_type": "text"
      },
      "source": [
        "<a href=\"https://colab.research.google.com/github/Es-YES-Ye/Python/blob/main/%ED%8C%8C%EC%9D%B4%EC%8D%AC_%EB%B0%98%EB%B3%B5%EB%AC%B8(while).ipynb\" target=\"_parent\"><img src=\"https://colab.research.google.com/assets/colab-badge.svg\" alt=\"Open In Colab\"/></a>"
      ]
    },
    {
      "cell_type": "markdown",
      "source": [
        "#while 반복문\n",
        "\n",
        "특정 조건이 참일 때 반복"
      ],
      "metadata": {
        "id": "HwMLWRDDIqfK"
      }
    },
    {
      "cell_type": "code",
      "execution_count": 3,
      "metadata": {
        "colab": {
          "base_uri": "https://localhost:8080/"
        },
        "id": "UvgVc0fgIpq-",
        "outputId": "6fff7c05-d396-476b-c8f2-9edf1273fe6d"
      },
      "outputs": [
        {
          "output_type": "stream",
          "name": "stdout",
          "text": [
            "정수 : 10\n",
            "정수 : 2\n",
            "정수 : -1\n",
            "12\n"
          ]
        }
      ],
      "source": [
        "#사용자로부터 정수를 입력받아 합계를 계산하여 출력하시오.\n",
        "#사용자가 음수를 입력하면 더 이상 입력받지 않는다.\n",
        "\n",
        "#합계:=0\n",
        "#반복 number:= 사용자로부터 정수를 입력받고 number이 음수가 아니라면 \n",
        "  #합계:= 합계 + number\n",
        "#합계 출력\n",
        "\n",
        "sum = 0\n",
        "number=0\n",
        "#while number = int(input(\"정수 : \"))>=0:\n",
        "while number >=0:\n",
        "  sum += number\n",
        "  number=int(input(\"정수 : \"))\n",
        "print(sum)\n",
        "\n"
      ]
    },
    {
      "cell_type": "code",
      "source": [
        "#break 사용\n",
        "\n",
        "sum = 0\n",
        "while True:\n",
        "  number = int(input(\"정수 : \"))\n",
        "  if number < 0:\n",
        "    break #반복문(루프) 탈출\n",
        "  sum += number\n",
        "print(sum)"
      ],
      "metadata": {
        "colab": {
          "base_uri": "https://localhost:8080/"
        },
        "id": "hjs9wqSHKm3s",
        "outputId": "933a1d24-160c-4d52-a957-518225d34ed2"
      },
      "execution_count": 5,
      "outputs": [
        {
          "output_type": "stream",
          "name": "stdout",
          "text": [
            "정수 : 23\n",
            "정수 : 7\n",
            "정수 : -9\n",
            "30\n"
          ]
        }
      ]
    },
    {
      "cell_type": "code",
      "source": [
        "for i in range(10):\n",
        "  print(i, end= '')\n",
        "\n",
        "#같은 의미를 while문으로 쓰면\n",
        "\n",
        "i=0\n",
        "while i<10:\n",
        "  print(i, end=' ')\n",
        "  i += 1"
      ],
      "metadata": {
        "colab": {
          "base_uri": "https://localhost:8080/"
        },
        "id": "ugZrc4UELOiZ",
        "outputId": "cd92a020-b4fe-4b4c-d837-4dc1333f2032"
      },
      "execution_count": 7,
      "outputs": [
        {
          "output_type": "stream",
          "name": "stdout",
          "text": [
            "01234567890 1 2 3 4 5 6 7 8 9 "
          ]
        }
      ]
    },
    {
      "cell_type": "code",
      "source": [
        "#continue 사용\n",
        "\n",
        "i=0\n",
        "while i<100:\n",
        "  i+=1\n",
        "  if i % 2 == 0:\n",
        "    print(i, end=' ')\n",
        "  elif i % 3 == 0:\n",
        "    continue\n",
        "  else:\n",
        "    print(f'.{i}.')\n"
      ],
      "metadata": {
        "colab": {
          "base_uri": "https://localhost:8080/"
        },
        "id": "bvs2g6z8LQKi",
        "outputId": "7f130a15-f9f9-4b64-d764-52d0d255d7f2"
      },
      "execution_count": 12,
      "outputs": [
        {
          "output_type": "stream",
          "name": "stdout",
          "text": [
            ".1.\n",
            "2 4 .5.\n",
            "6 .7.\n",
            "8 10 .11.\n",
            "12 .13.\n",
            "14 16 .17.\n",
            "18 .19.\n",
            "20 22 .23.\n",
            "24 .25.\n",
            "26 28 .29.\n",
            "30 .31.\n",
            "32 34 .35.\n",
            "36 .37.\n",
            "38 40 .41.\n",
            "42 .43.\n",
            "44 46 .47.\n",
            "48 .49.\n",
            "50 52 .53.\n",
            "54 .55.\n",
            "56 58 .59.\n",
            "60 .61.\n",
            "62 64 .65.\n",
            "66 .67.\n",
            "68 70 .71.\n",
            "72 .73.\n",
            "74 76 .77.\n",
            "78 .79.\n",
            "80 82 .83.\n",
            "84 .85.\n",
            "86 88 .89.\n",
            "90 .91.\n",
            "92 94 .95.\n",
            "96 .97.\n",
            "98 100 "
          ]
        }
      ]
    }
  ]
}