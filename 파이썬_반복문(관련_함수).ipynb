{
  "nbformat": 4,
  "nbformat_minor": 0,
  "metadata": {
    "colab": {
      "name": "파이썬-반복문(관련 함수).ipynb",
      "provenance": [],
      "authorship_tag": "ABX9TyMIaAv4mz23i9cIqeYWdp0u",
      "include_colab_link": true
    },
    "kernelspec": {
      "name": "python3",
      "display_name": "Python 3"
    },
    "language_info": {
      "name": "python"
    }
  },
  "cells": [
    {
      "cell_type": "markdown",
      "metadata": {
        "id": "view-in-github",
        "colab_type": "text"
      },
      "source": [
        "<a href=\"https://colab.research.google.com/github/Es-YES-Ye/Python/blob/main/%ED%8C%8C%EC%9D%B4%EC%8D%AC_%EB%B0%98%EB%B3%B5%EB%AC%B8(%EA%B4%80%EB%A0%A8_%ED%95%A8%EC%88%98).ipynb\" target=\"_parent\"><img src=\"https://colab.research.google.com/assets/colab-badge.svg\" alt=\"Open In Colab\"/></a>"
      ]
    },
    {
      "cell_type": "markdown",
      "source": [
        "#리스트 관련 함수"
      ],
      "metadata": {
        "id": "snWd3MwhP14h"
      }
    },
    {
      "cell_type": "code",
      "execution_count": 1,
      "metadata": {
        "colab": {
          "base_uri": "https://localhost:8080/"
        },
        "id": "QS2h0UF3PgD8",
        "outputId": "e3a76b8b-b65d-440f-b90f-1ede9b1a863f"
      },
      "outputs": [
        {
          "output_type": "stream",
          "name": "stdout",
          "text": [
            "최소값 :  6\n",
            "최대값 :  98\n",
            "합계 :  270\n"
          ]
        }
      ],
      "source": [
        "ls = [10,98,11,23,45,77,6]\n",
        "print(\"최소값 : \", min(ls))\n",
        "print(\"최대값 : \", max(ls))\n",
        "print(\"합계 : \", sum(ls))"
      ]
    },
    {
      "cell_type": "code",
      "source": [
        "#리스트 뒤집기\n",
        "#변수이름.멤버메소드 => 어떤 개체에 종속적이다. 함수와 목적은 같다.\n",
        "#자기 자신이 바뀐다. 내용이 바뀐다.\n",
        "\n",
        "ls.sort() #리스트 내 요소들 정렬\n",
        "print(ls)\n",
        "ls.reverse() #역순 정렬\n",
        "print(ls)"
      ],
      "metadata": {
        "colab": {
          "base_uri": "https://localhost:8080/"
        },
        "id": "tiTiW4y7QSQd",
        "outputId": "937c8c69-cdd2-4613-bf3a-afd071bc8060"
      },
      "execution_count": 4,
      "outputs": [
        {
          "output_type": "stream",
          "name": "stdout",
          "text": [
            "[6, 10, 11, 23, 45, 77, 98]\n",
            "[98, 77, 45, 23, 11, 10, 6]\n"
          ]
        }
      ]
    },
    {
      "cell_type": "code",
      "source": [
        "#리스트 뒤집기\n",
        "#함수 중에 reversed 도 있다.\n",
        "#자기 자신을 바꾸기보다 변환한 것을 반환한다.\n",
        "\n",
        "rls = reversed(ls)\n",
        "for elem in rls:\n",
        "  print(elem, end=' ')\n",
        "print()\n",
        "print(ls)\n",
        "\n",
        "ls[::-1] #확장 슬라이싱으로 뒤집기\n",
        "print(ls)"
      ],
      "metadata": {
        "colab": {
          "base_uri": "https://localhost:8080/"
        },
        "id": "1j87_PrOQuE6",
        "outputId": "d5d5a3d2-0b04-4b1e-a109-9972e9ba05eb"
      },
      "execution_count": 7,
      "outputs": [
        {
          "output_type": "stream",
          "name": "stdout",
          "text": [
            "88 57 23 10 5 4 3 \n",
            "[3, 4, 5, 10, 23, 57, 88]\n",
            "[3, 4, 5, 10, 23, 57, 88]\n"
          ]
        }
      ]
    },
    {
      "cell_type": "code",
      "source": [
        "#enumerate()\n",
        "#열거하기 위한 개체\n",
        "\n",
        "ls = [3,4,5,10,23,57,88]\n",
        "els = enumerate(ls)\n",
        "print(els)\n",
        "print(list(els)) #튜플로 출력"
      ],
      "metadata": {
        "colab": {
          "base_uri": "https://localhost:8080/"
        },
        "id": "3jmsU4xmRU4G",
        "outputId": "394add89-553e-425d-c7b5-c6d575ae9fec"
      },
      "execution_count": 6,
      "outputs": [
        {
          "output_type": "stream",
          "name": "stdout",
          "text": [
            "<enumerate object at 0x7f51f6597aa0>\n"
          ]
        }
      ]
    },
    {
      "cell_type": "code",
      "source": [
        "#enumerate() 사용하는 법\n",
        "\n",
        "ls = [2,5,7,9,22,36,89]\n",
        "for index, elem in enumerate(ls):\n",
        "  print(f\"{index}:{elem}\")"
      ],
      "metadata": {
        "colab": {
          "base_uri": "https://localhost:8080/"
        },
        "id": "NIDBCZTtRzfa",
        "outputId": "aafc4258-9f3e-4893-954e-0e64fccd36bd"
      },
      "execution_count": 8,
      "outputs": [
        {
          "output_type": "stream",
          "name": "stdout",
          "text": [
            "0:2\n",
            "1:5\n",
            "2:7\n",
            "3:9\n",
            "4:22\n",
            "5:36\n",
            "6:89\n"
          ]
        }
      ]
    },
    {
      "cell_type": "markdown",
      "source": [
        "#딕셔너리"
      ],
      "metadata": {
        "id": "OVivlBncSJP0"
      }
    },
    {
      "cell_type": "code",
      "source": [
        "ex_dict = {}\n",
        "ex_dict[\"남궁길동\"]=5\n",
        "ex_dict[\"독고길동\"]=54\n",
        "ex_dict[\"제갈길동\"]=95\n",
        "ex_dict[\"선우길동\"]=21\n",
        "ex_dict[\"고길동\"]=76\n",
        "print(ex_dict)"
      ],
      "metadata": {
        "colab": {
          "base_uri": "https://localhost:8080/"
        },
        "id": "hrbUNzgHSKVT",
        "outputId": "3bd81cd2-df0e-4c5e-b372-fea57c5a25ef"
      },
      "execution_count": 9,
      "outputs": [
        {
          "output_type": "stream",
          "name": "stdout",
          "text": [
            "{'남궁길동': 5, '독고길동': 54, '제갈길동': 95, '선우길동': 21, '고길동': 76}\n"
          ]
        }
      ]
    },
    {
      "cell_type": "code",
      "source": [
        "print(ex_dict.items())"
      ],
      "metadata": {
        "colab": {
          "base_uri": "https://localhost:8080/"
        },
        "id": "U9CE6-SgSZgx",
        "outputId": "497b6279-c4da-4a45-b076-7c77fb9e80db"
      },
      "execution_count": 10,
      "outputs": [
        {
          "output_type": "stream",
          "name": "stdout",
          "text": [
            "dict_items([('남궁길동', 5), ('독고길동', 54), ('제갈길동', 95), ('선우길동', 21), ('고길동', 76)])\n"
          ]
        }
      ]
    },
    {
      "cell_type": "code",
      "source": [
        "#key 와 value 열거하는 법\n",
        "for key, value in ex_dict.items():\n",
        "  print(f\"key:{key} value:{value}\")"
      ],
      "metadata": {
        "colab": {
          "base_uri": "https://localhost:8080/"
        },
        "id": "QA8lUx-SSjbh",
        "outputId": "6d28ff20-d3d7-415f-a3d2-f5ab031d3218"
      },
      "execution_count": 11,
      "outputs": [
        {
          "output_type": "stream",
          "name": "stdout",
          "text": [
            "key:남궁길동 value:5\n",
            "key:독고길동 value:54\n",
            "key:제갈길동 value:95\n",
            "key:선우길동 value:21\n",
            "key:고길동 value:76\n"
          ]
        }
      ]
    },
    {
      "cell_type": "code",
      "source": [
        "#정렬\n",
        "sdict = sorted(ex_dict)\n",
        "print(sdict)\n"
      ],
      "metadata": {
        "colab": {
          "base_uri": "https://localhost:8080/"
        },
        "id": "2uWc1p9AS21L",
        "outputId": "98bbf7dd-34e3-4534-888d-c61392dd5725"
      },
      "execution_count": 13,
      "outputs": [
        {
          "output_type": "stream",
          "name": "stdout",
          "text": [
            "['고길동', '남궁길동', '독고길동', '선우길동', '제갈길동']\n"
          ]
        }
      ]
    },
    {
      "cell_type": "markdown",
      "source": [
        "#고급진 list comprehension \n",
        "\n",
        "머신러닝, 딥러닝에서 자주 사용한다"
      ],
      "metadata": {
        "id": "HjbnEcS4TFOq"
      }
    },
    {
      "cell_type": "markdown",
      "source": [
        "리스트 이름=[표현식 for 반복자 in 반복할 수 있는 것]\n",
        "\n",
        "리스트 이름=[표현식 for 반복자 in 반복할 수 있는 것 if 조건문]"
      ],
      "metadata": {
        "id": "O9iTwhYIUv8c"
      }
    },
    {
      "cell_type": "code",
      "source": [
        "#1~100까지 3의 배수 리스트 만들기\n",
        "\n",
        "ls = []\n",
        "#for i in range(0, 100, 3): 0에서 100까지를 3씩 증가해라\n",
        "for i in range(100):\n",
        "  if i % 3 == 0:\n",
        "   ls.append(i)\n",
        "print(ls)\n",
        "\n",
        "#같은 의미\n",
        "ls = [i for i in range(1,100) if i%3==0]\n",
        "print(ls)"
      ],
      "metadata": {
        "colab": {
          "base_uri": "https://localhost:8080/"
        },
        "id": "JTYsvxP3TUOD",
        "outputId": "b18d4f08-4d1a-45e0-b803-b7c3fdb66e9c"
      },
      "execution_count": 14,
      "outputs": [
        {
          "output_type": "stream",
          "name": "stdout",
          "text": [
            "[0, 3, 6, 9, 12, 15, 18, 21, 24, 27, 30, 33, 36, 39, 42, 45, 48, 51, 54, 57, 60, 63, 66, 69, 72, 75, 78, 81, 84, 87, 90, 93, 96, 99]\n"
          ]
        }
      ]
    },
    {
      "cell_type": "code",
      "source": [
        "#1~100까지 구성한 리스트 만들기 \n",
        "ls=[]\n",
        "for i in range(1,100):\n",
        "  ls.append(i)\n",
        "print(ls)\n",
        "\n",
        "#같은 의미\n",
        "ls = [i for i in range(1, 100)]\n",
        "print(ls)\n",
        "\n"
      ],
      "metadata": {
        "colab": {
          "base_uri": "https://localhost:8080/"
        },
        "id": "n1KxoKe3UC2r",
        "outputId": "8bde0b60-49aa-4991-95b2-5a758643ea6d"
      },
      "execution_count": 16,
      "outputs": [
        {
          "output_type": "stream",
          "name": "stdout",
          "text": [
            "[1, 2, 3, 4, 5, 6, 7, 8, 9, 10, 11, 12, 13, 14, 15, 16, 17, 18, 19, 20, 21, 22, 23, 24, 25, 26, 27, 28, 29, 30, 31, 32, 33, 34, 35, 36, 37, 38, 39, 40, 41, 42, 43, 44, 45, 46, 47, 48, 49, 50, 51, 52, 53, 54, 55, 56, 57, 58, 59, 60, 61, 62, 63, 64, 65, 66, 67, 68, 69, 70, 71, 72, 73, 74, 75, 76, 77, 78, 79, 80, 81, 82, 83, 84, 85, 86, 87, 88, 89, 90, 91, 92, 93, 94, 95, 96, 97, 98, 99]\n"
          ]
        }
      ]
    },
    {
      "cell_type": "code",
      "source": [
        ""
      ],
      "metadata": {
        "id": "Xog1fjy7WAXp"
      },
      "execution_count": null,
      "outputs": []
    }
  ]
}