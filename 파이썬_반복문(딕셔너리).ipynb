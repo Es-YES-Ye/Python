{
  "nbformat": 4,
  "nbformat_minor": 0,
  "metadata": {
    "colab": {
      "name": "파이썬-반복문(딕셔너리).ipynb",
      "provenance": [],
      "collapsed_sections": [],
      "authorship_tag": "ABX9TyO1YOcB9xCHp1nuppQlSH2e",
      "include_colab_link": true
    },
    "kernelspec": {
      "name": "python3",
      "display_name": "Python 3"
    },
    "language_info": {
      "name": "python"
    }
  },
  "cells": [
    {
      "cell_type": "markdown",
      "metadata": {
        "id": "view-in-github",
        "colab_type": "text"
      },
      "source": [
        "<a href=\"https://colab.research.google.com/github/Es-YES-Ye/Python/blob/main/%ED%8C%8C%EC%9D%B4%EC%8D%AC_%EB%B0%98%EB%B3%B5%EB%AC%B8(%EB%94%95%EC%85%94%EB%84%88%EB%A6%AC).ipynb\" target=\"_parent\"><img src=\"https://colab.research.google.com/assets/colab-badge.svg\" alt=\"Open In Colab\"/></a>"
      ]
    },
    {
      "cell_type": "markdown",
      "source": [
        "#딕셔너리\n",
        "\n",
        "키와 값을 쌍으로 갖는 요소를 보관하는 자료구조(컬렉션)"
      ],
      "metadata": {
        "id": "jRacjOcBCrDx"
      }
    },
    {
      "cell_type": "code",
      "execution_count": 1,
      "metadata": {
        "colab": {
          "base_uri": "https://localhost:8080/"
        },
        "id": "x4_xZJKeCQU2",
        "outputId": "23613240-36df-4ebe-ce2c-25a9d53b1a22"
      },
      "outputs": [
        {
          "output_type": "stream",
          "name": "stdout",
          "text": [
            "{'홍길동': 23, '남궁길동': 17, '제갈길동': 18, '독고길동': 45}\n"
          ]
        }
      ],
      "source": [
        "member_states={\"홍길동\":23,\n",
        "               \"남궁길동\":17,\n",
        "               \"제갈길동\":18,\n",
        "               \"독고길동\":45\n",
        "               }\n",
        "print(member_states)"
      ]
    },
    {
      "cell_type": "code",
      "source": [
        "print(member_states[\"독고길동\"])"
      ],
      "metadata": {
        "colab": {
          "base_uri": "https://localhost:8080/"
        },
        "id": "-oWqXH-BDQYL",
        "outputId": "163950b9-284f-477b-dbcd-3240d3179f79"
      },
      "execution_count": 2,
      "outputs": [
        {
          "output_type": "stream",
          "name": "stdout",
          "text": [
            "45\n"
          ]
        }
      ]
    },
    {
      "cell_type": "code",
      "source": [
        "#열명의 학생의 성적을 입력\n",
        "subjects=(\"국어\",\"영어\",\"수학\")\n",
        "scores_dic={}\n",
        "for i in range(5):\n",
        "  name = input(f\"{i+1}번째 학생 이름 : \")\n",
        "  scores = []\n",
        "  for s in subjects:\n",
        "    score= int(input(f\"{s}:\")) #점수 받아서 int로 converting\n",
        "    scores.append(score) #한 학생의 정보를 입력받는 것\n",
        "  scores_dic[name]=scores #값 추가 or 변경(이미 있는 key면 변경된다 처음 발견한 key면 추가된다)\n",
        "  print(scores_dic)\n"
      ],
      "metadata": {
        "colab": {
          "base_uri": "https://localhost:8080/"
        },
        "id": "fnReYppyDfB9",
        "outputId": "e5f7cbf6-0ec2-4532-921b-f52ce78d86fc"
      },
      "execution_count": 4,
      "outputs": [
        {
          "output_type": "stream",
          "name": "stdout",
          "text": [
            "1번째 학생 이름 : 남궁길동\n",
            "국어:50\n",
            "영어:12\n",
            "수학:60\n",
            "{'남궁길동': [50, 12, 60]}\n",
            "2번째 학생 이름 : 제갈길동\n",
            "국어:80\n",
            "영어:90\n",
            "수학:50\n",
            "{'남궁길동': [50, 12, 60], '제갈길동': [80, 90, 50]}\n",
            "3번째 학생 이름 : 독고길동\n",
            "국어:99\n",
            "영어:20\n",
            "수학:98\n",
            "{'남궁길동': [50, 12, 60], '제갈길동': [80, 90, 50], '독고길동': [99, 20, 98]}\n",
            "4번째 학생 이름 : 홍길동\n",
            "국어:45\n",
            "영어:32\n",
            "수학:98\n",
            "{'남궁길동': [50, 12, 60], '제갈길동': [80, 90, 50], '독고길동': [99, 20, 98], '홍길동': [45, 32, 98]}\n",
            "5번째 학생 이름 : 고길동\n",
            "국어:100\n",
            "영어:100\n",
            "수학:100\n",
            "{'남궁길동': [50, 12, 60], '제갈길동': [80, 90, 50], '독고길동': [99, 20, 98], '홍길동': [45, 32, 98], '고길동': [100, 100, 100]}\n"
          ]
        }
      ]
    },
    {
      "cell_type": "code",
      "source": [
        "#값 제거\n",
        "name=input(\"삭제할 학생 : \")\n",
        "del  scores_dic[name]\n",
        "print( scores_dic)"
      ],
      "metadata": {
        "colab": {
          "base_uri": "https://localhost:8080/"
        },
        "id": "GZiyCsuMEqPp",
        "outputId": "28a1f0e2-98ce-4584-d628-1bb956a64115"
      },
      "execution_count": 5,
      "outputs": [
        {
          "output_type": "stream",
          "name": "stdout",
          "text": [
            "삭제할 학생 : 홍길동\n",
            "{'남궁길동': [50, 12, 60], '제갈길동': [80, 90, 50], '독고길동': [99, 20, 98], '고길동': [100, 100, 100]}\n"
          ]
        }
      ]
    },
    {
      "cell_type": "code",
      "source": [
        "eh_attr_dic = {}\n",
        "eh_attr_dic[\"title\"]=\"네이버\"\n",
        "eh_attr_dic[\"url\"]=\"http://www.naver.com\"\n",
        "eh_attr_dic[\"desc\"]=\"어쩌구 저쩌구\"\n",
        "print(eh_attr_dic)"
      ],
      "metadata": {
        "colab": {
          "base_uri": "https://localhost:8080/"
        },
        "id": "VlrcDP1lEwXt",
        "outputId": "c056df70-1ddc-4f52-870b-2771dcc6a11e"
      },
      "execution_count": 6,
      "outputs": [
        {
          "output_type": "stream",
          "name": "stdout",
          "text": [
            "{'title': '네이버', 'url': 'http://www.naver.com', 'desc': '어쩌구 저쩌구'}\n"
          ]
        }
      ]
    },
    {
      "cell_type": "code",
      "source": [
        "#print(eh_attr_dic[\"score\"]) 존재하지 않는 키를 인덱스 연산으로 사용하면 keyError 발생\n",
        "if \"url\" in eh_attr_dic:\n",
        "  print( f'존재합니다. {eh_attr_dic[\"url\"]}')\n",
        "else:\n",
        "  print(\"url 정보가 없습니다.\")"
      ],
      "metadata": {
        "colab": {
          "base_uri": "https://localhost:8080/"
        },
        "id": "YXK2nwWxGMz-",
        "outputId": "3b78a036-e909-44e3-cfbd-907197e1515a"
      },
      "execution_count": 7,
      "outputs": [
        {
          "output_type": "stream",
          "name": "stdout",
          "text": [
            "존재합니다. http://www.naver.com\n"
          ]
        }
      ]
    },
    {
      "cell_type": "code",
      "source": [
        "value=eh_attr_dic.get(\"score\")\n",
        "if value==None:\n",
        "  print(\"score 정보가 없습니다.\")\n",
        "else:\n",
        "  print(f\"score:{value}\")"
      ],
      "metadata": {
        "colab": {
          "base_uri": "https://localhost:8080/"
        },
        "id": "_a3qONPsGvaT",
        "outputId": "ce936437-b80a-4562-c8f4-65313bfd311c"
      },
      "execution_count": 8,
      "outputs": [
        {
          "output_type": "stream",
          "name": "stdout",
          "text": [
            "score 정보가 없습니다.\n"
          ]
        }
      ]
    },
    {
      "cell_type": "code",
      "source": [
        "for attr in eh_attr_dic:\n",
        "  print(f\"{attr} : {eh_attr_dic[attr]}\")"
      ],
      "metadata": {
        "colab": {
          "base_uri": "https://localhost:8080/"
        },
        "id": "NW8y_g3EH6ih",
        "outputId": "4404a0ce-5857-4ef1-eead-7ddb0330e264"
      },
      "execution_count": 10,
      "outputs": [
        {
          "output_type": "stream",
          "name": "stdout",
          "text": [
            "title : 네이버\n",
            "url : http://www.naver.com\n",
            "desc : 어쩌구 저쩌구\n"
          ]
        }
      ]
    }
  ]
}