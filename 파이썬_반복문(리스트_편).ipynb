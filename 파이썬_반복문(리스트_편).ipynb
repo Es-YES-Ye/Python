{
  "nbformat": 4,
  "nbformat_minor": 0,
  "metadata": {
    "colab": {
      "name": "파이썬-반복문(리스트 편).ipynb",
      "provenance": [],
      "authorship_tag": "ABX9TyN6dlzMLaFscBIZVrP4M5/y",
      "include_colab_link": true
    },
    "kernelspec": {
      "name": "python3",
      "display_name": "Python 3"
    },
    "language_info": {
      "name": "python"
    }
  },
  "cells": [
    {
      "cell_type": "markdown",
      "metadata": {
        "id": "view-in-github",
        "colab_type": "text"
      },
      "source": [
        "<a href=\"https://colab.research.google.com/github/Es-YES-Ye/Python/blob/main/%ED%8C%8C%EC%9D%B4%EC%8D%AC_%EB%B0%98%EB%B3%B5%EB%AC%B8(%EB%A6%AC%EC%8A%A4%ED%8A%B8_%ED%8E%B8).ipynb\" target=\"_parent\"><img src=\"https://colab.research.google.com/assets/colab-badge.svg\" alt=\"Open In Colab\"/></a>"
      ]
    },
    {
      "cell_type": "markdown",
      "source": [
        "#for문"
      ],
      "metadata": {
        "id": "xKVNcwFn4038"
      }
    },
    {
      "cell_type": "code",
      "execution_count": 1,
      "metadata": {
        "colab": {
          "base_uri": "https://localhost:8080/"
        },
        "id": "3irYVf3i37HB",
        "outputId": "ffb97af3-185d-4dbf-9d34-3d18715c90ca"
      },
      "outputs": [
        {
          "output_type": "stream",
          "name": "stdout",
          "text": [
            "0 1 2 3 4 5 6 7 8 9 "
          ]
        }
      ],
      "source": [
        "for i in range(10):\n",
        "  print(i, end= ' ')"
      ]
    },
    {
      "cell_type": "code",
      "source": [
        "ls=[3,4,8,9]\n",
        "for i in ls:\n",
        "  print(i, end=' ')"
      ],
      "metadata": {
        "colab": {
          "base_uri": "https://localhost:8080/"
        },
        "id": "lfSvVjET47mf",
        "outputId": "dcba56a6-b115-4c7a-f04e-cdc6a018c7ee"
      },
      "execution_count": 2,
      "outputs": [
        {
          "output_type": "stream",
          "name": "stdout",
          "text": [
            "3 4 8 9 "
          ]
        }
      ]
    },
    {
      "cell_type": "markdown",
      "source": [
        "#간단한 연습 문제\n",
        "10명의 회원 이름을 입력받아 출력하시오."
      ],
      "metadata": {
        "id": "LEviz11h6tXp"
      }
    },
    {
      "cell_type": "code",
      "source": [
        "member_names=[]\n",
        "for i in range(10):\n",
        "  name= input(f\"{i+1}번째 회원 이름: \") #i는 0부터 시작하니까\n",
        "  member_names.append(name)\n",
        "\n",
        "print(member_names)\n",
        "\n",
        "\n",
        "\n"
      ],
      "metadata": {
        "colab": {
          "base_uri": "https://localhost:8080/"
        },
        "id": "bRf_CwPj6k00",
        "outputId": "5f30672e-bbd1-41e3-9591-d9434f3e3be0"
      },
      "execution_count": 5,
      "outputs": [
        {
          "output_type": "stream",
          "name": "stdout",
          "text": [
            "1번째 회원 이름: 홍길동\n",
            "2번째 회원 이름: 남궁길동\n",
            "3번째 회원 이름: 독고길동\n",
            "4번째 회원 이름: 제갈길동\n",
            "5번째 회원 이름: 선우길동\n",
            "6번째 회원 이름: 고길동\n",
            "7번째 회원 이름: 부길동\n",
            "8번째 회원 이름: 좌길동\n",
            "9번째 회원 이름: 강길동\n",
            "10번째 회원 이름: 안길동\n",
            "['홍길동', '남궁길동', '독고길동', '제갈길동', '선우길동', '고길동', '부길동', '좌길동', '강길동', '안길동']\n"
          ]
        }
      ]
    },
    {
      "cell_type": "markdown",
      "source": [
        "국어, 영어, 수학 점수를 입력받아 평균을 구하여 출력하시오. 단 점수는 리스트에 보관"
      ],
      "metadata": {
        "id": "WiJsCNoG7lq9"
      }
    },
    {
      "cell_type": "code",
      "source": [
        "#점수를 기억할 컬랙션 생성\n",
        "#반복(3과목)\n",
        "  #점수 입력\n",
        "  #컬랙션에 보관\n",
        "#평균 출력\n",
        "\n",
        "subjects=(\"국어\",\"영어\",\"수학\")\n",
        "scores = []\n",
        "for i in range(len(subjects)):\n",
        "  score = int(input(f\"{subjects[i]} 점수 입력 : \"))\n",
        "  scores.append(score)\n",
        "print((scores[0]+scores[1]+scores[2])/3)\n"
      ],
      "metadata": {
        "colab": {
          "base_uri": "https://localhost:8080/"
        },
        "id": "BZe99c8C7kuJ",
        "outputId": "5392d847-6b61-4180-b557-5bd140bcf1ef"
      },
      "execution_count": 12,
      "outputs": [
        {
          "output_type": "stream",
          "name": "stdout",
          "text": [
            "국어 점수 입력 : 10\n",
            "영어 점수 입력 : 10\n",
            "수학 점수 입력 : 10\n",
            "10.0\n"
          ]
        }
      ]
    }
  ]
}