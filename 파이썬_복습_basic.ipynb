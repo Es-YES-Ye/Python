{
  "cells": [
    {
      "cell_type": "markdown",
      "metadata": {
        "id": "view-in-github",
        "colab_type": "text"
      },
      "source": [
        "<a href=\"https://colab.research.google.com/github/Es-YES-Ye/Python/blob/main/%ED%8C%8C%EC%9D%B4%EC%8D%AC_%EB%B3%B5%EC%8A%B5_basic.ipynb\" target=\"_parent\"><img src=\"https://colab.research.google.com/assets/colab-badge.svg\" alt=\"Open In Colab\"/></a>"
      ]
    },
    {
      "cell_type": "markdown",
      "metadata": {
        "id": "XLafpkV-Nt_8"
      },
      "source": [
        "## 화면 출력 (print)"
      ]
    },
    {
      "cell_type": "code",
      "execution_count": 1,
      "metadata": {
        "colab": {
          "base_uri": "https://localhost:8080/"
        },
        "id": "WU0Y3AS-NuAB",
        "outputId": "a45d522f-e932-4d67-8210-8727f60aad98"
      },
      "outputs": [
        {
          "output_type": "stream",
          "name": "stdout",
          "text": [
            "Hello World\n"
          ]
        }
      ],
      "source": [
        "print(\"Hello World\")"
      ]
    },
    {
      "cell_type": "code",
      "execution_count": 2,
      "metadata": {
        "colab": {
          "base_uri": "https://localhost:8080/"
        },
        "id": "APmz7OjNNuAD",
        "outputId": "6c0075a7-5338-4646-b9db-54e84e1dfd8a"
      },
      "outputs": [
        {
          "output_type": "stream",
          "name": "stdout",
          "text": [
            "Python을 시작합니다\n",
            "안녕하세요?\n"
          ]
        }
      ],
      "source": [
        "print(\"Python을 시작합니다\\n안녕하세요?\")"
      ]
    },
    {
      "cell_type": "code",
      "execution_count": 3,
      "metadata": {
        "colab": {
          "base_uri": "https://localhost:8080/"
        },
        "id": "dvG0Yk15NuAE",
        "outputId": "02b4529c-2182-4b32-8070-51f8aa120ee2"
      },
      "outputs": [
        {
          "output_type": "stream",
          "name": "stdout",
          "text": [
            "3.1415926535\n"
          ]
        }
      ],
      "source": [
        "pi=3.1415926535\n",
        "print(pi)"
      ]
    },
    {
      "cell_type": "code",
      "execution_count": 4,
      "metadata": {
        "colab": {
          "base_uri": "https://localhost:8080/"
        },
        "id": "FpckD6YlNuAG",
        "outputId": "bec74155-a177-4bf1-e7e0-8ba474c1e085"
      },
      "outputs": [
        {
          "output_type": "stream",
          "name": "stdout",
          "text": [
            "안녕하세요\n"
          ]
        }
      ],
      "source": [
        "hello=\"안녕하세요\"\n",
        "print(hello)"
      ]
    },
    {
      "cell_type": "code",
      "execution_count": 5,
      "metadata": {
        "colab": {
          "base_uri": "https://localhost:8080/"
        },
        "id": "zozI8tSgNuAG",
        "outputId": "0469c864-b323-4847-c913-9b71a38b4b9d"
      },
      "outputs": [
        {
          "output_type": "stream",
          "name": "stdout",
          "text": [
            "학교이름은 한국대학교입니다.\n"
          ]
        }
      ],
      "source": [
        "name=\"한국대학교\"\n",
        "print(\"학교이름은 {}입니다.\".format(name))"
      ]
    },
    {
      "cell_type": "markdown",
      "metadata": {
        "id": "L_KETatCNuAH"
      },
      "source": [
        "# 숫자(numerics)"
      ]
    },
    {
      "cell_type": "code",
      "execution_count": 6,
      "metadata": {
        "collapsed": true,
        "id": "GOrV0pAnNuAI"
      },
      "outputs": [],
      "source": [
        "# 데이터 형태\n",
        "# d: 정수 (int)\n",
        "# s: 문자 (str)\n",
        "# f: 실수 (float)"
      ]
    },
    {
      "cell_type": "code",
      "execution_count": 7,
      "metadata": {
        "colab": {
          "base_uri": "https://localhost:8080/"
        },
        "id": "V6k4jxJQNuAI",
        "outputId": "097dba5c-aa6f-46aa-b00c-45bac947ceac"
      },
      "outputs": [
        {
          "output_type": "execute_result",
          "data": {
            "text/plain": [
              "int"
            ]
          },
          "metadata": {},
          "execution_count": 7
        }
      ],
      "source": [
        "type(10)"
      ]
    },
    {
      "cell_type": "code",
      "execution_count": 8,
      "metadata": {
        "colab": {
          "base_uri": "https://localhost:8080/"
        },
        "id": "41w16Vq4NuAJ",
        "outputId": "a5adb072-b589-46c9-feb1-8aa415dd8831"
      },
      "outputs": [
        {
          "output_type": "execute_result",
          "data": {
            "text/plain": [
              "float"
            ]
          },
          "metadata": {},
          "execution_count": 8
        }
      ],
      "source": [
        "type(3.14)"
      ]
    },
    {
      "cell_type": "code",
      "execution_count": 9,
      "metadata": {
        "colab": {
          "base_uri": "https://localhost:8080/"
        },
        "id": "6qN-w_ynNuAJ",
        "outputId": "34593956-d302-40a7-9b52-2658475b6a85"
      },
      "outputs": [
        {
          "output_type": "execute_result",
          "data": {
            "text/plain": [
              "complex"
            ]
          },
          "metadata": {},
          "execution_count": 9
        }
      ],
      "source": [
        "type(7+5j)"
      ]
    },
    {
      "cell_type": "code",
      "execution_count": 10,
      "metadata": {
        "colab": {
          "base_uri": "https://localhost:8080/"
        },
        "id": "rhi2oGtuNuAK",
        "outputId": "a6094c7d-c68b-4ae3-c844-97a6a0c655a7"
      },
      "outputs": [
        {
          "output_type": "execute_result",
          "data": {
            "text/plain": [
              "14"
            ]
          },
          "metadata": {},
          "execution_count": 10
        }
      ],
      "source": [
        "10+4"
      ]
    },
    {
      "cell_type": "code",
      "execution_count": 11,
      "metadata": {
        "colab": {
          "base_uri": "https://localhost:8080/"
        },
        "id": "iZ8SHczoNuAK",
        "outputId": "b0812ede-e3e2-49fc-81ac-39bcb7ab6899"
      },
      "outputs": [
        {
          "output_type": "execute_result",
          "data": {
            "text/plain": [
              "6"
            ]
          },
          "metadata": {},
          "execution_count": 11
        }
      ],
      "source": [
        "10-4"
      ]
    },
    {
      "cell_type": "code",
      "execution_count": 12,
      "metadata": {
        "colab": {
          "base_uri": "https://localhost:8080/"
        },
        "id": "wsvogZvRNuAL",
        "outputId": "c22488d2-24ef-4767-a3d7-363f3bfea412"
      },
      "outputs": [
        {
          "output_type": "execute_result",
          "data": {
            "text/plain": [
              "40"
            ]
          },
          "metadata": {},
          "execution_count": 12
        }
      ],
      "source": [
        "10*4"
      ]
    },
    {
      "cell_type": "code",
      "execution_count": 13,
      "metadata": {
        "colab": {
          "base_uri": "https://localhost:8080/"
        },
        "id": "rqT3o9p7NuAM",
        "outputId": "cd08a74f-e6d2-4b40-f54e-5ec0dd544f5e"
      },
      "outputs": [
        {
          "output_type": "execute_result",
          "data": {
            "text/plain": [
              "100"
            ]
          },
          "metadata": {},
          "execution_count": 13
        }
      ],
      "source": [
        "10**2"
      ]
    },
    {
      "cell_type": "code",
      "execution_count": 14,
      "metadata": {
        "colab": {
          "base_uri": "https://localhost:8080/"
        },
        "id": "zRpMuU3ONuAN",
        "outputId": "1c6c6a74-c9ad-4ac1-b0e6-7b1455eb5391"
      },
      "outputs": [
        {
          "output_type": "execute_result",
          "data": {
            "text/plain": [
              "2.5"
            ]
          },
          "metadata": {},
          "execution_count": 14
        }
      ],
      "source": [
        "10/4"
      ]
    },
    {
      "cell_type": "code",
      "execution_count": 15,
      "metadata": {
        "colab": {
          "base_uri": "https://localhost:8080/"
        },
        "id": "RqNcu_oPNuAN",
        "outputId": "75dbb0d3-1a86-4188-cc8a-929593718990"
      },
      "outputs": [
        {
          "output_type": "execute_result",
          "data": {
            "text/plain": [
              "2"
            ]
          },
          "metadata": {},
          "execution_count": 15
        }
      ],
      "source": [
        "10//4"
      ]
    },
    {
      "cell_type": "code",
      "execution_count": 16,
      "metadata": {
        "colab": {
          "base_uri": "https://localhost:8080/"
        },
        "id": "XEnqJg9VNuAO",
        "outputId": "0112e8c8-4a36-47bd-8bd8-912b86c9c7ce"
      },
      "outputs": [
        {
          "output_type": "execute_result",
          "data": {
            "text/plain": [
              "2"
            ]
          },
          "metadata": {},
          "execution_count": 16
        }
      ],
      "source": [
        "10%4"
      ]
    },
    {
      "cell_type": "code",
      "execution_count": 17,
      "metadata": {
        "colab": {
          "base_uri": "https://localhost:8080/"
        },
        "id": "PE0V6LN7NuAP",
        "outputId": "f721f3df-3be7-4b99-c084-7a30e4d8968c"
      },
      "outputs": [
        {
          "output_type": "execute_result",
          "data": {
            "text/plain": [
              "True"
            ]
          },
          "metadata": {},
          "execution_count": 17
        }
      ],
      "source": [
        "10>4"
      ]
    },
    {
      "cell_type": "code",
      "execution_count": 18,
      "metadata": {
        "colab": {
          "base_uri": "https://localhost:8080/"
        },
        "id": "toiW3jK2NuAP",
        "outputId": "3668423a-52ed-4221-836e-f96c23adcc31"
      },
      "outputs": [
        {
          "output_type": "execute_result",
          "data": {
            "text/plain": [
              "False"
            ]
          },
          "metadata": {},
          "execution_count": 18
        }
      ],
      "source": [
        "10<4"
      ]
    },
    {
      "cell_type": "code",
      "execution_count": 19,
      "metadata": {
        "colab": {
          "base_uri": "https://localhost:8080/"
        },
        "id": "J-8OEJo7NuAQ",
        "outputId": "3015b313-1cbe-4a9b-d9b9-381fd165e4f4"
      },
      "outputs": [
        {
          "output_type": "execute_result",
          "data": {
            "text/plain": [
              "False"
            ]
          },
          "metadata": {},
          "execution_count": 19
        }
      ],
      "source": [
        "10==4"
      ]
    },
    {
      "cell_type": "code",
      "execution_count": 20,
      "metadata": {
        "colab": {
          "base_uri": "https://localhost:8080/"
        },
        "id": "WCQs6qBiNuAR",
        "outputId": "3402961b-dab3-4ebc-fac0-b6c3e846fbf7"
      },
      "outputs": [
        {
          "output_type": "execute_result",
          "data": {
            "text/plain": [
              "True"
            ]
          },
          "metadata": {},
          "execution_count": 20
        }
      ],
      "source": [
        "10!=4"
      ]
    },
    {
      "cell_type": "code",
      "execution_count": 21,
      "metadata": {
        "colab": {
          "base_uri": "https://localhost:8080/"
        },
        "id": "1uIWZhgXNuAR",
        "outputId": "9f957cea-f432-495f-b921-62973399b118"
      },
      "outputs": [
        {
          "output_type": "execute_result",
          "data": {
            "text/plain": [
              "True"
            ]
          },
          "metadata": {},
          "execution_count": 21
        }
      ],
      "source": [
        "10>=4"
      ]
    },
    {
      "cell_type": "code",
      "execution_count": 22,
      "metadata": {
        "colab": {
          "base_uri": "https://localhost:8080/"
        },
        "id": "X32VyAQlNuAS",
        "outputId": "4135ffb0-295c-43e0-fc8b-133237a5817f"
      },
      "outputs": [
        {
          "output_type": "execute_result",
          "data": {
            "text/plain": [
              "False"
            ]
          },
          "metadata": {},
          "execution_count": 22
        }
      ],
      "source": [
        "10<=4"
      ]
    },
    {
      "cell_type": "code",
      "execution_count": 23,
      "metadata": {
        "id": "VuueXjisNuAS"
      },
      "outputs": [],
      "source": [
        "a=10\n",
        "b=4\n",
        "c=2"
      ]
    },
    {
      "cell_type": "code",
      "execution_count": 24,
      "metadata": {
        "colab": {
          "base_uri": "https://localhost:8080/"
        },
        "id": "YbckzxK9NuAT",
        "outputId": "1b8ea3ca-b366-4889-8027-31eff964cce2"
      },
      "outputs": [
        {
          "output_type": "execute_result",
          "data": {
            "text/plain": [
              "14"
            ]
          },
          "metadata": {},
          "execution_count": 24
        }
      ],
      "source": [
        "a+b"
      ]
    },
    {
      "cell_type": "code",
      "execution_count": 25,
      "metadata": {
        "colab": {
          "base_uri": "https://localhost:8080/"
        },
        "id": "IVWJitHWNuAU",
        "outputId": "13b65043-db10-43b7-e457-eec2abdef7f8"
      },
      "outputs": [
        {
          "output_type": "execute_result",
          "data": {
            "text/plain": [
              "True"
            ]
          },
          "metadata": {},
          "execution_count": 25
        }
      ],
      "source": [
        "a>=b"
      ]
    },
    {
      "cell_type": "code",
      "execution_count": 26,
      "metadata": {
        "colab": {
          "base_uri": "https://localhost:8080/"
        },
        "id": "3qVd3cwlNuAU",
        "outputId": "dbb61ee8-12b0-4fe0-f8a5-94770bc90a5b"
      },
      "outputs": [
        {
          "output_type": "execute_result",
          "data": {
            "text/plain": [
              "False"
            ]
          },
          "metadata": {},
          "execution_count": 26
        }
      ],
      "source": [
        "a=True\n",
        "b=False\n",
        "(a and b)"
      ]
    },
    {
      "cell_type": "code",
      "execution_count": 27,
      "metadata": {
        "colab": {
          "base_uri": "https://localhost:8080/"
        },
        "id": "ZAUtyyO_NuAV",
        "outputId": "ccbe12ba-7f03-410b-9948-e2130ac87cdf"
      },
      "outputs": [
        {
          "output_type": "execute_result",
          "data": {
            "text/plain": [
              "True"
            ]
          },
          "metadata": {},
          "execution_count": 27
        }
      ],
      "source": [
        "a=True\n",
        "b=False\n",
        "(a or b)"
      ]
    },
    {
      "cell_type": "code",
      "execution_count": 28,
      "metadata": {
        "colab": {
          "base_uri": "https://localhost:8080/"
        },
        "id": "s5WUNaKeNuAV",
        "outputId": "b1ae9772-f505-4af0-a4e3-4d6b4ced0de1"
      },
      "outputs": [
        {
          "output_type": "execute_result",
          "data": {
            "text/plain": [
              "True"
            ]
          },
          "metadata": {},
          "execution_count": 28
        }
      ],
      "source": [
        "a=True\n",
        "b=False\n",
        "not b"
      ]
    },
    {
      "cell_type": "code",
      "execution_count": 29,
      "metadata": {
        "colab": {
          "base_uri": "https://localhost:8080/"
        },
        "id": "z3f5bVHlNuAX",
        "outputId": "20fd18e7-0bbb-4723-e972-212da6133f78"
      },
      "outputs": [
        {
          "output_type": "execute_result",
          "data": {
            "text/plain": [
              "True"
            ]
          },
          "metadata": {},
          "execution_count": 29
        }
      ],
      "source": [
        "a=True\n",
        "b=False\n",
        "not(a and b)"
      ]
    },
    {
      "cell_type": "code",
      "execution_count": 30,
      "metadata": {
        "colab": {
          "base_uri": "https://localhost:8080/"
        },
        "id": "FeTliVGrNuAY",
        "outputId": "bbf86855-d860-4114-f8f0-c2a5e22166ec"
      },
      "outputs": [
        {
          "output_type": "execute_result",
          "data": {
            "text/plain": [
              "False"
            ]
          },
          "metadata": {},
          "execution_count": 30
        }
      ],
      "source": [
        "a=True\n",
        "b=False\n",
        "not(a or b)"
      ]
    },
    {
      "cell_type": "markdown",
      "metadata": {
        "id": "_b4YSIN7NuAZ"
      },
      "source": [
        "## 문자열 자료형 (String)"
      ]
    },
    {
      "cell_type": "code",
      "execution_count": 31,
      "metadata": {
        "colab": {
          "base_uri": "https://localhost:8080/"
        },
        "id": "Pq4kQparNuAb",
        "outputId": "74e4a8b8-e198-4cc0-b7f3-283836846ec4"
      },
      "outputs": [
        {
          "output_type": "stream",
          "name": "stdout",
          "text": [
            "Lifeistooshort\n",
            "Life is too short\n"
          ]
        }
      ],
      "source": [
        "# 문자열 붙이기 (concatenation)\n",
        "C3 = \"Life\"\n",
        "C4 = \"is\"\n",
        "C5 = \"too\"\n",
        "C6 = \"short\"\n",
        "C7 = C3 + C4 + C5 + C6\n",
        "C8 = C3 + \" \" + C4 + \" \" + C5 + \" \" + C6\n",
        "print(C7)\n",
        "print(C8)"
      ]
    },
    {
      "cell_type": "code",
      "execution_count": 32,
      "metadata": {
        "colab": {
          "base_uri": "https://localhost:8080/"
        },
        "id": "HwN90k0lNuAc",
        "outputId": "a282aa28-6eb1-49cc-d8e4-7b6da0c5a2a7"
      },
      "outputs": [
        {
          "output_type": "stream",
          "name": "stdout",
          "text": [
            "H\n",
            "O\n",
            "하\n",
            "봅\n"
          ]
        }
      ],
      "source": [
        "# 문자열 인덱싱 (indexing)\n",
        "C1 = \"HELLO PYTHON\"  \n",
        "C2 = \"안녕하세요 파이썬씨?우리 잘 해봅시다\"\n",
        "print(C1[0]) #C1의 0번째 문자\n",
        "print(C1[-2]) #C1의 끝에서 2번째 문자\n",
        "print(C2[2]) #C2 2번째 문자\n",
        "print(C2[-3]) #C2 끝에서 3번째 문자"
      ]
    },
    {
      "cell_type": "code",
      "execution_count": 33,
      "metadata": {
        "colab": {
          "base_uri": "https://localhost:8080/"
        },
        "id": "eknCRy4YNuAe",
        "outputId": "c96c2cd9-0f67-40b0-e480-531efa2f6d21"
      },
      "outputs": [
        {
          "output_type": "stream",
          "name": "stdout",
          "text": [
            "은\n",
            "파이썬\n",
            "어서와 파이\n",
            "도 처음이야\n"
          ]
        }
      ],
      "source": [
        "# 문자열 슬라이싱 (slicing)\n",
        "C2 = \"어서와 파이썬은 처음이지?\\n나도 처음이야\"\n",
        "print(C2[7])   # 7번째 문자 추출\n",
        "print(C2[4:7]) #4번째 문자부터 6번째까지\n",
        "print(C2[:6]) #처음부터 5번째까지\n",
        "print(C2[-6:])#끝에서 6번째부터 끝까지"
      ]
    },
    {
      "cell_type": "code",
      "execution_count": 34,
      "metadata": {
        "colab": {
          "base_uri": "https://localhost:8080/"
        },
        "id": "qa2lZDvLNuAf",
        "outputId": "450e4297-3efa-4fc6-e24b-b07cc64598bf"
      },
      "outputs": [
        {
          "output_type": "stream",
          "name": "stdout",
          "text": [
            "2\n",
            "4\n"
          ]
        }
      ],
      "source": [
        "# 문자열 찾기 (finding)\n",
        "C2 = \"어서와 파이썬은 처음이지?\\n나도 처음이야\"\n",
        "print(C2.index('와')) # C2문장에서 '와'의 위치 2번째 (0부터 계산)\n",
        "print(C2.find('파')) #C2문장에서 '파'의 위치는 4번째 (공백도 계산)"
      ]
    },
    {
      "cell_type": "code",
      "execution_count": 35,
      "metadata": {
        "colab": {
          "base_uri": "https://localhost:8080/"
        },
        "id": "Sntq8bgSNuAf",
        "outputId": "3fbed143-07bd-49ec-f95b-637f2b1b164b"
      },
      "outputs": [
        {
          "output_type": "stream",
          "name": "stdout",
          "text": [
            "hello python\n",
            "SHORT\n"
          ]
        }
      ],
      "source": [
        "# 대/소문자 바꾸기 (convert to uppercase/lowercase)\n",
        "C1 = \"HELLO PYTHON\"\n",
        "C6 = \"short\"\n",
        "print(C1.lower())\n",
        "print(C6.upper())"
      ]
    },
    {
      "cell_type": "code",
      "execution_count": 36,
      "metadata": {
        "colab": {
          "base_uri": "https://localhost:8080/"
        },
        "id": "yYipd7Z-NuAg",
        "outputId": "bc20087a-769f-4a49-dabd-2d4f8bfc7439"
      },
      "outputs": [
        {
          "output_type": "stream",
          "name": "stdout",
          "text": [
            "HELLO \n",
            " HELLO\n",
            "HELLO\n"
          ]
        }
      ],
      "source": [
        "# 공백 지우기 (strip, remove spaces)\n",
        "C9 = \" HELLO \"\n",
        "print(C9.lstrip()) #왼쪽 공백 제거\n",
        "print(C9.rstrip()) # 오른쪽 공백 제거\n",
        "print(C9.strip()) #양쪽 공백제거"
      ]
    },
    {
      "cell_type": "code",
      "execution_count": 37,
      "metadata": {
        "colab": {
          "base_uri": "https://localhost:8080/"
        },
        "id": "4ofVGgnWNuAh",
        "outputId": "b59a21e8-f68d-4a9b-d14a-f3fdb14d0419"
      },
      "outputs": [
        {
          "output_type": "stream",
          "name": "stdout",
          "text": [
            "고구려대학교\n"
          ]
        }
      ],
      "source": [
        "# 문자열 찾아 바꾸기 (replace)\n",
        "C10 = \"한국대학교\"\n",
        "print(C10.replace(\"한국\", \"고구려\"))"
      ]
    },
    {
      "cell_type": "code",
      "execution_count": 38,
      "metadata": {
        "colab": {
          "base_uri": "https://localhost:8080/"
        },
        "id": "mXDQ8GkNNuAi",
        "outputId": "71f2cf50-7345-48f7-8051-51c2a08077cf"
      },
      "outputs": [
        {
          "output_type": "stream",
          "name": "stdout",
          "text": [
            "['A', 'B', 'C', 'D']\n"
          ]
        }
      ],
      "source": [
        "# 문자열 나누기 (split)\n",
        "C11 = \"A:B:C:D\"\n",
        "print(C11.split(':')) #':'를 기준으로 문자열 나누기"
      ]
    },
    {
      "cell_type": "markdown",
      "metadata": {
        "id": "v-IZGtuZNuAj"
      },
      "source": [
        "## 목록(List)과 튜플(tuple)"
      ]
    },
    {
      "cell_type": "code",
      "execution_count": 39,
      "metadata": {
        "id": "mlh_D85NNuAk"
      },
      "outputs": [],
      "source": [
        "L1 = [1, 2, 3, 4]\n",
        "L2 = ['Life', 'is', 'too', 'short']\n",
        "L3 = [1, 2, 'Python']\n",
        "L4 = [1, 2, ['Life', 'Python']]"
      ]
    },
    {
      "cell_type": "code",
      "execution_count": 40,
      "metadata": {
        "colab": {
          "base_uri": "https://localhost:8080/"
        },
        "id": "m1deQ4hVNuAl",
        "outputId": "408262e3-4d0b-40b1-a1c3-21c2a23dbbfb"
      },
      "outputs": [
        {
          "output_type": "stream",
          "name": "stdout",
          "text": [
            "1\n",
            "6\n",
            "['Life', 'Python']\n",
            "Life\n"
          ]
        }
      ],
      "source": [
        "# 리스트 슬라이싱 (list slicing)\n",
        "L1 = [1, 2, 3, 4]\n",
        "L4 = [1, 2, ['Life', 'Python']]\n",
        "\n",
        "print(L1[0])#L1의 첫번째 요소 추출\n",
        "print(L1[1]+L1[3]) #L1 두번째 요소(2)+L1의 네번째 요소(4) \n",
        "print(L4[-1]) #L4 끝에서 첫번째 요소 추출\n",
        "print(L4[-1][0]) #L4 끝에서 첫번째 요소(['Life', 'Python']) 중 첫번째 "
      ]
    },
    {
      "cell_type": "code",
      "execution_count": 41,
      "metadata": {
        "colab": {
          "base_uri": "https://localhost:8080/"
        },
        "id": "1YEmfNK4NuAm",
        "outputId": "b86dbc8a-68b2-4366-897a-625d013e9909"
      },
      "outputs": [
        {
          "output_type": "stream",
          "name": "stdout",
          "text": [
            "[1, 2, 3, 4, 4, 5, 6, 7]\n",
            "[1, 2, 3, 4, 1, 2, 3, 4, 1, 2, 3, 4]\n"
          ]
        }
      ],
      "source": [
        "# 리스트 연산자 (더하기, 반복하기)\n",
        "L1 = [1, 2, 3, 4]\n",
        "L5 = [4, 5, 6, 7]\n",
        "print(L1+L5) #L1과 L5 더하기\n",
        "print(L1*3)#L1 3번 반복"
      ]
    },
    {
      "cell_type": "code",
      "execution_count": 42,
      "metadata": {
        "colab": {
          "base_uri": "https://localhost:8080/"
        },
        "id": "sCX35KWPNuAm",
        "outputId": "786097f4-851f-439f-bc63-4724ecb856b4"
      },
      "outputs": [
        {
          "output_type": "stream",
          "name": "stdout",
          "text": [
            "['a', 'b', 'c', 'd', 'e', 'f', 'g']\n"
          ]
        }
      ],
      "source": [
        "# 리스트에 요소 삽입\n",
        "L7 = ['a', 'b', 'c', 'd', 'e', 'f']\n",
        "L7.append('g')\n",
        "print(L7)"
      ]
    },
    {
      "cell_type": "code",
      "execution_count": 43,
      "metadata": {
        "colab": {
          "base_uri": "https://localhost:8080/"
        },
        "id": "_nYITo1MNuAn",
        "outputId": "3d9feb8e-d0b4-4276-f2d0-9fcdc2d2e8c5"
      },
      "outputs": [
        {
          "output_type": "stream",
          "name": "stdout",
          "text": [
            "[1, 3, 9, 2, 4, 5, 7, 8, 10, 6]\n"
          ]
        }
      ],
      "source": [
        "# 리스트에 요소 삽입\n",
        "L8 = [1, 3, 2, 4, 5, 7, 8, 10, 6]\n",
        "L8.insert(2, 9)#L8의 세번째 요소 9삽입\n",
        "print(L8)"
      ]
    },
    {
      "cell_type": "code",
      "execution_count": 44,
      "metadata": {
        "colab": {
          "base_uri": "https://localhost:8080/"
        },
        "id": "uJmuiheMNuAo",
        "outputId": "ce2966cf-1834-48cd-b893-256efab21891"
      },
      "outputs": [
        {
          "output_type": "stream",
          "name": "stdout",
          "text": [
            "[1, 2, 3, 4, 5, 6, 7, 8, 9, 10, 6, 7, 8, 9, 10]\n"
          ]
        }
      ],
      "source": [
        "# 리스트간 합치기\n",
        "L10 = [1, 2, 3, 4, 5]\n",
        "L11 = [6, 7, 8, 9, 10]\n",
        "L10.extend(L11)\n",
        "L10+=L11\n",
        "print(L10)"
      ]
    },
    {
      "cell_type": "code",
      "execution_count": 45,
      "metadata": {
        "colab": {
          "base_uri": "https://localhost:8080/"
        },
        "id": "MFylFcovNuAo",
        "outputId": "92b6d343-1789-4d65-9494-b501a109249f"
      },
      "outputs": [
        {
          "output_type": "stream",
          "name": "stdout",
          "text": [
            "[1, 2, 3, 4, 5, 6, 7, 8, 9, 10]\n"
          ]
        }
      ],
      "source": [
        "# 리스트간 합치기\n",
        "L10 = [1, 2, 3, 4, 5]\n",
        "L11 = [6, 7, 8, 9, 10]\n",
        "L10+=L11\n",
        "print(L10)"
      ]
    },
    {
      "cell_type": "code",
      "execution_count": 46,
      "metadata": {
        "colab": {
          "base_uri": "https://localhost:8080/"
        },
        "id": "yF4sEyupNuAp",
        "outputId": "f642e2ca-b715-4ec9-8898-86da92c02c2a"
      },
      "outputs": [
        {
          "output_type": "stream",
          "name": "stdout",
          "text": [
            "[1, 2, 4, 3, 5, 6, 7, 8]\n"
          ]
        }
      ],
      "source": [
        "# 리스트 하나의 값 수정하기\n",
        "L6 = [1, 2, 4, 3, 5, 7, 7, 8]\n",
        "L6[5]=6 #6번째 요소의 값을 6으로 수정\n",
        "print(L6)"
      ]
    },
    {
      "cell_type": "code",
      "execution_count": 47,
      "metadata": {
        "colab": {
          "base_uri": "https://localhost:8080/"
        },
        "id": "ss4qbIsmNuAq",
        "outputId": "ef0e8373-3a65-4623-9831-05ae335fd190"
      },
      "outputs": [
        {
          "output_type": "stream",
          "name": "stdout",
          "text": [
            "[1, 2, 3, 4, 5, 7, 7, 8]\n"
          ]
        }
      ],
      "source": [
        "# 리스트에 여러 값 수정하기 (범위)\n",
        "L6 = [1, 2, 4, 3, 5, 7, 7, 8]\n",
        "L6[2:4] = [3, 4]#3번째에서 4번째 사이의 요소 값을 3, 4로 수정\n",
        "print(L6)"
      ]
    },
    {
      "cell_type": "code",
      "execution_count": 48,
      "metadata": {
        "colab": {
          "base_uri": "https://localhost:8080/"
        },
        "id": "aNc49G6iNuAq",
        "outputId": "6aac5d06-2d86-4fc6-d422-77197eb53302"
      },
      "outputs": [
        {
          "output_type": "stream",
          "name": "stdout",
          "text": [
            "[1, 2, 4, 3, 5, 7, 7]\n"
          ]
        }
      ],
      "source": [
        "# 리스트에서 요소 삭제\n",
        "L6 = [1, 2, 4, 3, 5, 7, 7, 8]\n",
        "del L6[7] #8번째 요소 삭제\n",
        "print(L6)"
      ]
    },
    {
      "cell_type": "code",
      "execution_count": 49,
      "metadata": {
        "colab": {
          "base_uri": "https://localhost:8080/"
        },
        "id": "3_hoJfzZNuAr",
        "outputId": "5f40caeb-98fd-473b-829d-95d702d5a149"
      },
      "outputs": [
        {
          "output_type": "stream",
          "name": "stdout",
          "text": [
            "[1, 2, 4, 3, 5, 7, 7]\n"
          ]
        }
      ],
      "source": [
        "# 리스트에서 요소 삭제\n",
        "L6 = [1, 2, 4, 3, 5, 7, 7, 8]\n",
        "L6.pop(7) #8번째 요소 삭제\n",
        "print(L6)"
      ]
    },
    {
      "cell_type": "code",
      "execution_count": 50,
      "metadata": {
        "colab": {
          "base_uri": "https://localhost:8080/"
        },
        "id": "yawdqE7oNuAr",
        "outputId": "ea4f6ce7-16f8-4b16-c435-f01a48482a46"
      },
      "outputs": [
        {
          "output_type": "stream",
          "name": "stdout",
          "text": [
            "2\n",
            "3\n"
          ]
        }
      ],
      "source": [
        "# 리스트에서 요소의 개수 확인\n",
        "L9 = [1, 1, 2, 2, 2, 3, 3, 3, 3, 4, 4, 4, 4, 4]\n",
        "print(L9.count(1)) #L9에서 1이 몇 개인가 계산\n",
        "print(L9.count(2))#L9에서 2가 몇 개인가 계산"
      ]
    },
    {
      "cell_type": "code",
      "execution_count": 51,
      "metadata": {
        "colab": {
          "base_uri": "https://localhost:8080/"
        },
        "id": "kwh3GnNBNuAs",
        "outputId": "aeda4308-a8d0-4d0d-fa34-855d71c7bdb5"
      },
      "outputs": [
        {
          "output_type": "stream",
          "name": "stdout",
          "text": [
            "[1, 2, 3, 4, 5, 6, 7, 8, 10]\n",
            "[10, 8, 7, 6, 5, 4, 3, 2, 1]\n"
          ]
        }
      ],
      "source": [
        "# 리스트 정렬\n",
        "L8 = [1, 3, 2, 4, 5, 7, 8, 10, 6]\n",
        "L8.sort() #오름차순으로 정렬\n",
        "print(L8)\n",
        "\n",
        "L8 = [1, 3, 2, 4, 5, 7, 8, 10, 6]\n",
        "L8.sort(reverse=True) #내림차순으로 정렬\n",
        "print(L8)"
      ]
    },
    {
      "cell_type": "code",
      "execution_count": 52,
      "metadata": {
        "colab": {
          "base_uri": "https://localhost:8080/"
        },
        "id": "nVX8DcyCNuAs",
        "outputId": "e068b3ac-440f-43ca-f84b-1c87f7030941"
      },
      "outputs": [
        {
          "output_type": "stream",
          "name": "stdout",
          "text": [
            "[6, 10, 8, 7, 5, 4, 2, 3, 1]\n"
          ]
        }
      ],
      "source": [
        "# 리스트를 역순으로 정렬\n",
        "L8 = [1, 3, 2, 4, 5, 7, 8, 10, 6]\n",
        "L8.reverse()\n",
        "print(L8)"
      ]
    },
    {
      "cell_type": "code",
      "execution_count": 53,
      "metadata": {
        "colab": {
          "base_uri": "https://localhost:8080/"
        },
        "id": "C6_ccZvpNuAs",
        "outputId": "c17dbb56-619b-4400-df7a-0998302666f3"
      },
      "outputs": [
        {
          "output_type": "execute_result",
          "data": {
            "text/plain": [
              "(6, 10, 8, 7, 5, 4, 2, 3, 1)"
            ]
          },
          "metadata": {},
          "execution_count": 53
        }
      ],
      "source": [
        "#리스트를 튜플로 변환\n",
        "L9=tuple(L8)\n",
        "L9"
      ]
    },
    {
      "cell_type": "code",
      "execution_count": 54,
      "metadata": {
        "colab": {
          "base_uri": "https://localhost:8080/"
        },
        "id": "KeORUkYCNuAs",
        "outputId": "f3d6bef3-babb-4f12-97a7-51f58aac09ce"
      },
      "outputs": [
        {
          "output_type": "execute_result",
          "data": {
            "text/plain": [
              "list"
            ]
          },
          "metadata": {},
          "execution_count": 54
        }
      ],
      "source": [
        "type(L8)"
      ]
    },
    {
      "cell_type": "code",
      "execution_count": 55,
      "metadata": {
        "colab": {
          "base_uri": "https://localhost:8080/"
        },
        "id": "EubNdlWPNuAt",
        "outputId": "5b901ce5-e84a-461c-9376-49173376c9d5"
      },
      "outputs": [
        {
          "output_type": "execute_result",
          "data": {
            "text/plain": [
              "tuple"
            ]
          },
          "metadata": {},
          "execution_count": 55
        }
      ],
      "source": [
        "type(L9)"
      ]
    },
    {
      "cell_type": "code",
      "execution_count": 56,
      "metadata": {
        "colab": {
          "base_uri": "https://localhost:8080/"
        },
        "id": "ghWnUtWLNuAt",
        "outputId": "d41af42a-0139-4c8b-803c-eca0fd99c2a2"
      },
      "outputs": [
        {
          "output_type": "stream",
          "name": "stdout",
          "text": [
            "<class 'tuple'>\n",
            "<class 'tuple'>\n",
            "<class 'list'>\n"
          ]
        }
      ],
      "source": [
        "# 튜플(tuple)\n",
        "T1 = (1, 2, 3, 4, 5)\n",
        "T2 = ('a', 'b', 'c', 'd', 'e')\n",
        "L1 = ['a', 'b', 'c', 'd', 'e']\n",
        "print(type(T1)) #T1의 자료유형 표기\n",
        "print(type(T2))#T2의 자료유형 표기\n",
        "print(type(L1))#L1의 자료유형 표기"
      ]
    },
    {
      "cell_type": "markdown",
      "metadata": {
        "id": "wUADtuxKNuAt"
      },
      "source": [
        "## 사전 (Dictionary)"
      ]
    },
    {
      "cell_type": "code",
      "execution_count": 57,
      "metadata": {
        "scrolled": true,
        "colab": {
          "base_uri": "https://localhost:8080/"
        },
        "id": "mTzCrRN8NuAu",
        "outputId": "eace84a5-b563-43b2-9d50-8e24f1010598"
      },
      "outputs": [
        {
          "output_type": "stream",
          "name": "stdout",
          "text": [
            "KIM\n"
          ]
        }
      ],
      "source": [
        "# 딕셔너리(dictionary)\n",
        "D1 = {'name': 'KIM', 'birth': '2003', 'height': '175'}\n",
        "print(D1['name'])"
      ]
    },
    {
      "cell_type": "code",
      "execution_count": 58,
      "metadata": {
        "colab": {
          "base_uri": "https://localhost:8080/"
        },
        "id": "bImO6qQ-NuAu",
        "outputId": "22154326-dd44-4927-ae7b-baf1d5cae1aa"
      },
      "outputs": [
        {
          "output_type": "stream",
          "name": "stdout",
          "text": [
            "{'name': 'KIM', 'birth': '2003', 'height': '175', 'weight': '60'}\n"
          ]
        }
      ],
      "source": [
        "D1['weight']='60'#D1에 key 'weight'와 value'60'추가\n",
        "print(D1)"
      ]
    },
    {
      "cell_type": "code",
      "execution_count": 59,
      "metadata": {
        "colab": {
          "base_uri": "https://localhost:8080/"
        },
        "id": "RoRBvzeANuAv",
        "outputId": "975a73a0-45f2-4718-ce14-957489bfede9"
      },
      "outputs": [
        {
          "output_type": "stream",
          "name": "stdout",
          "text": [
            "{'name': 'KIM', 'birth': '2003', 'height': '180', 'weight': '60'}\n"
          ]
        }
      ],
      "source": [
        "D1['height']='180'#'height'의 값을 '180'으로 수정\n",
        "print(D1)"
      ]
    },
    {
      "cell_type": "code",
      "execution_count": 60,
      "metadata": {
        "colab": {
          "base_uri": "https://localhost:8080/"
        },
        "id": "u5cFk5DBNuAv",
        "outputId": "b3d61a47-ac45-4f26-d2a3-7b404ac10633"
      },
      "outputs": [
        {
          "output_type": "stream",
          "name": "stdout",
          "text": [
            "{'birth': '2003', 'height': '180', 'weight': '60'}\n"
          ]
        }
      ],
      "source": [
        "del D1['name'] #D1에서 'name' 삭제\n",
        "print(D1)"
      ]
    },
    {
      "cell_type": "code",
      "execution_count": 61,
      "metadata": {
        "colab": {
          "base_uri": "https://localhost:8080/"
        },
        "id": "Huui5MSPNuAw",
        "outputId": "45b9019d-4cbb-41b2-a31e-0ea89042d374"
      },
      "outputs": [
        {
          "output_type": "stream",
          "name": "stdout",
          "text": [
            "['birth', 'height', 'weight']\n"
          ]
        }
      ],
      "source": [
        "D1key=list(D1.keys()) #D1의 key이름 목록 만들기\n",
        "print(D1key)"
      ]
    },
    {
      "cell_type": "code",
      "execution_count": 62,
      "metadata": {
        "colab": {
          "base_uri": "https://localhost:8080/"
        },
        "id": "CwQeV3jZNuAw",
        "outputId": "74f0c1ec-5832-4dff-f8b3-ad6ce7e012a1"
      },
      "outputs": [
        {
          "output_type": "stream",
          "name": "stdout",
          "text": [
            "['2003', '180', '60']\n"
          ]
        }
      ],
      "source": [
        "D1value=list(D1.values())#D1의 value값 목록 만들기\n",
        "print(D1value)"
      ]
    },
    {
      "cell_type": "code",
      "execution_count": 63,
      "metadata": {
        "colab": {
          "base_uri": "https://localhost:8080/"
        },
        "id": "IcyLtobINuAw",
        "outputId": "679c7fe5-8670-4b0e-8c64-3e5d9b3479c1"
      },
      "outputs": [
        {
          "output_type": "stream",
          "name": "stdout",
          "text": [
            "False\n",
            "True\n"
          ]
        }
      ],
      "source": [
        "# Key 존재 여부 확인\n",
        "print('nember' in D1) #D1에 'number'라는 key가 있는지 여부 확인\n",
        "print('weight' in D1) #D1에 'weight'라는 key가 있는지 여부 확인"
      ]
    },
    {
      "cell_type": "markdown",
      "metadata": {
        "id": "Ru-ivYVcNuAx"
      },
      "source": [
        "## 다차원 배열 (ndarray)"
      ]
    },
    {
      "cell_type": "code",
      "execution_count": 64,
      "metadata": {
        "colab": {
          "base_uri": "https://localhost:8080/"
        },
        "id": "aNQs7LUbNuAx",
        "outputId": "66482f76-da8a-49ec-868f-f20d2470254c"
      },
      "outputs": [
        {
          "output_type": "stream",
          "name": "stdout",
          "text": [
            "[1 2 3 4]\n"
          ]
        }
      ],
      "source": [
        "# 배열 만들기\n",
        "import numpy as np\n",
        "V1=np.array([1, 2, 3, 4])\n",
        "print(V1)"
      ]
    },
    {
      "cell_type": "code",
      "execution_count": 65,
      "metadata": {
        "colab": {
          "base_uri": "https://localhost:8080/"
        },
        "id": "9YJquLuwNuAx",
        "outputId": "355184cd-5317-4588-f3c7-5fd367f1ba90"
      },
      "outputs": [
        {
          "output_type": "stream",
          "name": "stdout",
          "text": [
            "[0 1 2 3 4]\n"
          ]
        }
      ],
      "source": [
        "V1 = np.arange(5) #처움(0)부터 5번째 숫자(4)까지의 숫자 배열\n",
        "print(V1)"
      ]
    },
    {
      "cell_type": "code",
      "execution_count": 66,
      "metadata": {
        "colab": {
          "base_uri": "https://localhost:8080/"
        },
        "id": "gUPEUzgENuAy",
        "outputId": "e425f38c-9023-4a72-8f0b-b7474e0259e0"
      },
      "outputs": [
        {
          "output_type": "stream",
          "name": "stdout",
          "text": [
            "[ 1  9 25 49 81]\n"
          ]
        }
      ],
      "source": [
        "V4 = np.arange(1, 10, 2) ** 2 #1부터10까지 2 간격 수(1, 3, 5, 7, 9)의 제곱\n",
        "print(V4)"
      ]
    },
    {
      "cell_type": "code",
      "execution_count": 67,
      "metadata": {
        "colab": {
          "base_uri": "https://localhost:8080/"
        },
        "id": "uzScjSBbNuAy",
        "outputId": "48db0a9c-4e5c-41af-b5e1-fd78b6112e2f"
      },
      "outputs": [
        {
          "output_type": "stream",
          "name": "stdout",
          "text": [
            "[  1  27 125 343 729]\n"
          ]
        }
      ],
      "source": [
        "V5 = np.arange(1, 10, 2) ** 3 #1부터10까지 2 간격 수(1, 3, 5, 7, 9)의 세제곱\n",
        "print(V5)"
      ]
    },
    {
      "cell_type": "code",
      "execution_count": 68,
      "metadata": {
        "colab": {
          "base_uri": "https://localhost:8080/"
        },
        "id": "FgUOyriuNuAy",
        "outputId": "9bc45937-4865-4155-8581-3b767c570495"
      },
      "outputs": [
        {
          "output_type": "stream",
          "name": "stdout",
          "text": [
            "[3 5 7 9]\n"
          ]
        }
      ],
      "source": [
        "# 배열 만들기 (연속되거나 일정한 규칙을 가진 숫자, 데이터 형태 지정)\n",
        "V2 = np.arange(3, 10, 2, dtype=int) #3부터 10사이 2간격의 정수\n",
        "print(V2)"
      ]
    },
    {
      "cell_type": "code",
      "execution_count": 69,
      "metadata": {
        "colab": {
          "base_uri": "https://localhost:8080/"
        },
        "id": "KqtL247KNuAz",
        "outputId": "400bcbda-3db4-4b21-9b47-515db114fe8f"
      },
      "outputs": [
        {
          "output_type": "stream",
          "name": "stdout",
          "text": [
            "[3.5 5.5 7.5 9.5]\n"
          ]
        }
      ],
      "source": [
        "# 배열 만들기 (연속되거나 일정한 규칙을 가진 숫자, 데이터 형태 지정)\n",
        "V3 = np.arange(3.5, 10.5, 2, dtype=float) # 3.5부터 10.5사이 2간격의 실수\n",
        "print(V3)"
      ]
    },
    {
      "cell_type": "code",
      "execution_count": 70,
      "metadata": {
        "colab": {
          "base_uri": "https://localhost:8080/"
        },
        "id": "8dbPWzqbNuAz",
        "outputId": "8a55fd14-b478-4a05-9b7c-3a0d28eeb331"
      },
      "outputs": [
        {
          "output_type": "stream",
          "name": "stdout",
          "text": [
            "[  2  36 150 392 810]\n"
          ]
        }
      ],
      "source": [
        "# 배열 합치기\n",
        "V6 = V4+V5\n",
        "print(V6)"
      ]
    },
    {
      "cell_type": "code",
      "execution_count": 71,
      "metadata": {
        "scrolled": true,
        "colab": {
          "base_uri": "https://localhost:8080/"
        },
        "id": "cXn4eHahNuAz",
        "outputId": "e5d0c25f-d1aa-4f31-bc64-a2d986cefc6e"
      },
      "outputs": [
        {
          "output_type": "stream",
          "name": "stdout",
          "text": [
            "[ 0  1  2  3  4  5  6  7  8  9 10 11]\n",
            "[[ 0  1  2  3  4  5]\n",
            " [ 6  7  8  9 10 11]]\n",
            "[[ 0  2  4  6  8 10]\n",
            " [ 1  3  5  7  9 11]]\n"
          ]
        }
      ],
      "source": [
        "# 행렬 만들기\n",
        "V1=np.arange(12)#0부터 12번째\n",
        "print(V1)\n",
        "V2=V1.reshape(2, 6)#V1 2행 6열, 행부터 채워넣음\n",
        "print(V2)\n",
        "V3=V1.reshape(2, 6, order='F') #2행 6열 열부터 채워넣음\n",
        "print(V3)"
      ]
    },
    {
      "cell_type": "code",
      "execution_count": 72,
      "metadata": {
        "colab": {
          "base_uri": "https://localhost:8080/"
        },
        "id": "I4I5DCrPNuAz",
        "outputId": "14f01b45-a854-4641-dbbf-cc939233faeb"
      },
      "outputs": [
        {
          "output_type": "stream",
          "name": "stdout",
          "text": [
            "[[1 2]\n",
            " [3 4]]\n"
          ]
        }
      ],
      "source": [
        "# 행렬의 곱\n",
        "V1=np.arange(1,5).reshape(2,2) #1부터 4번째 2행2열, 행부터 채움\n",
        "print(V1)"
      ]
    },
    {
      "cell_type": "code",
      "execution_count": 73,
      "metadata": {
        "colab": {
          "base_uri": "https://localhost:8080/"
        },
        "id": "LpEBxuqVNuA0",
        "outputId": "00b32bd3-5a55-4a63-f584-f8443771cb19"
      },
      "outputs": [
        {
          "output_type": "stream",
          "name": "stdout",
          "text": [
            "[[ 1  4]\n",
            " [ 9 16]]\n"
          ]
        }
      ],
      "source": [
        "print(V1*V1)#V1과 V1의 요소끼리 단순하게 곱한다"
      ]
    },
    {
      "cell_type": "code",
      "execution_count": 74,
      "metadata": {
        "colab": {
          "base_uri": "https://localhost:8080/"
        },
        "id": "wizV28_GNuA0",
        "outputId": "36568f8d-62a4-473f-cfdd-32fe1b6121b4"
      },
      "outputs": [
        {
          "output_type": "stream",
          "name": "stdout",
          "text": [
            "[[ 7 10]\n",
            " [15 22]]\n"
          ]
        }
      ],
      "source": [
        "print(np.dot(V1, V1)) #V1과 V1의 행렬의 곱셈방식을 적용하여 계산"
      ]
    },
    {
      "cell_type": "code",
      "execution_count": 75,
      "metadata": {
        "colab": {
          "base_uri": "https://localhost:8080/"
        },
        "id": "pRRkDNZsNuA0",
        "outputId": "632b8553-c39f-4b1b-d659-9265357959b5"
      },
      "outputs": [
        {
          "output_type": "stream",
          "name": "stdout",
          "text": [
            "[3.5 5.5 7.5 9.5]\n",
            "[[1 2]\n",
            " [3 4]]\n",
            "9.5\n",
            "1\n",
            "float64\n",
            "(2, 2)\n"
          ]
        }
      ],
      "source": [
        "V3 = np.arange(3.5, 10.5, 2, dtype=float)\n",
        "print(V3)\n",
        "V6 = np.arange(1,5).reshape(2,2)\n",
        "print(V6)\n",
        "print(np.amax(V3)) # 최대값 반환\n",
        "print(np.amin(V6)) # 최소값 반환\n",
        "print(V3.dtype) # V3의 데이터 타입\n",
        "print(V6.shape) # V6의 행, 열, 차원 확인"
      ]
    },
    {
      "cell_type": "code",
      "execution_count": 76,
      "metadata": {
        "colab": {
          "base_uri": "https://localhost:8080/"
        },
        "id": "eBT0YsrTNuA0",
        "outputId": "e9fdb229-4473-4303-be01-66344a1b0685"
      },
      "outputs": [
        {
          "output_type": "stream",
          "name": "stdout",
          "text": [
            "[[1 2]\n",
            " [3 4]]\n",
            "[[ 7 10]\n",
            " [15 22]]\n"
          ]
        }
      ],
      "source": [
        "# np.matrix에서 행렬 만드는 법\n",
        "M1=np.matrix([[1, 2], [3, 4]])\n",
        "print(M1)\n",
        "\n",
        "# np.matrix에서 만든 행렬의 곱\n",
        "print(M1*M1)"
      ]
    },
    {
      "cell_type": "markdown",
      "metadata": {
        "id": "EPnN2QIiNuA1"
      },
      "source": [
        "## 조건문 (if)"
      ]
    },
    {
      "cell_type": "code",
      "execution_count": 77,
      "metadata": {
        "colab": {
          "base_uri": "https://localhost:8080/"
        },
        "id": "ue5V2HSQNuA1",
        "outputId": "3b775c26-1f39-4a1b-e7b3-47f91ac402e8"
      },
      "outputs": [
        {
          "output_type": "stream",
          "name": "stdout",
          "text": [
            "짜장면\n"
          ]
        }
      ],
      "source": [
        "금액 = 5000\n",
        "if 금액==5000:\n",
        "    print(\"짜장면\")"
      ]
    },
    {
      "cell_type": "code",
      "execution_count": 78,
      "metadata": {
        "colab": {
          "base_uri": "https://localhost:8080/"
        },
        "id": "TjnavNj4NuA1",
        "outputId": "028cf248-b8b0-47cf-f3ec-d84e2d06e563"
      },
      "outputs": [
        {
          "output_type": "stream",
          "name": "stdout",
          "text": [
            "짬뽕\n"
          ]
        }
      ],
      "source": [
        "금액 = 6000\n",
        "if 금액 == 5000:\n",
        "    print(\"짜장면\")\n",
        "if 10000 > 금액 > 5000:\n",
        "    print(\"짬뽕\")"
      ]
    },
    {
      "cell_type": "code",
      "execution_count": 79,
      "metadata": {
        "colab": {
          "base_uri": "https://localhost:8080/"
        },
        "id": "i1oh26QlNuA1",
        "outputId": "d8e72009-aec5-468f-acfe-f4d356a90652"
      },
      "outputs": [
        {
          "output_type": "stream",
          "name": "stdout",
          "text": [
            "짬뽕\n"
          ]
        }
      ],
      "source": [
        "금액 = 6000\n",
        "if 금액 == 5000:\n",
        "    print(\"짜장면\")\n",
        "elif 10000 > 금액 > 5000:\n",
        "    print(\"짬뽕\")"
      ]
    },
    {
      "cell_type": "code",
      "execution_count": 80,
      "metadata": {
        "colab": {
          "base_uri": "https://localhost:8080/"
        },
        "id": "2FDpawX6NuA2",
        "outputId": "e1edb696-8675-4d87-fd0b-79d73b38fc80"
      },
      "outputs": [
        {
          "output_type": "stream",
          "name": "stdout",
          "text": [
            "죄송해요\n"
          ]
        }
      ],
      "source": [
        "금액 = 4000\n",
        "if 금액 == 5000:\n",
        "    print(\"짜장면\")\n",
        "elif 10000 > 금액 > 5000:\n",
        "    print(\"짬뽕\")\n",
        "else:\n",
        "    print (\"죄송해요\")"
      ]
    },
    {
      "cell_type": "code",
      "execution_count": 81,
      "metadata": {
        "colab": {
          "base_uri": "https://localhost:8080/"
        },
        "id": "N-n73d9ZNuA3",
        "outputId": "f7ef3cd5-49ed-461a-c693-a7cd4e82bbc8"
      },
      "outputs": [
        {
          "output_type": "stream",
          "name": "stdout",
          "text": [
            "짜장면이요.\n",
            "짬뽕드세요.\n"
          ]
        }
      ],
      "source": [
        "음식메뉴 = ['짜장면', '짬뽕']\n",
        "if '짜장면' in 음식메뉴:\n",
        "    print(\"짜장면이요.\")\n",
        "if '짬뽕' in 음식메뉴:\n",
        "    print(\"짬뽕드세요.\")\n",
        "else:\n",
        "    print(\"오늘 굶으세요\")"
      ]
    },
    {
      "cell_type": "code",
      "execution_count": 82,
      "metadata": {
        "colab": {
          "base_uri": "https://localhost:8080/"
        },
        "id": "8nFSm7lfNuA4",
        "outputId": "fde239bc-e7ef-49a4-fa17-cd86b7f37b85"
      },
      "outputs": [
        {
          "output_type": "stream",
          "name": "stdout",
          "text": [
            "짜장면이요.\n"
          ]
        }
      ],
      "source": [
        "음식메뉴 = ['짜장면', '짬뽕']\n",
        "if '짜장면' in 음식메뉴:\n",
        "    print(\"짜장면이요.\")\n",
        "elif '짬뽕' in 음식메뉴:\n",
        "    print(\"짬뽕드세요.\")\n",
        "else:\n",
        "    print(\"오늘 굶으세요\")"
      ]
    },
    {
      "cell_type": "code",
      "execution_count": 83,
      "metadata": {
        "colab": {
          "base_uri": "https://localhost:8080/"
        },
        "id": "3pYCpbwUNuA4",
        "outputId": "83363993-1760-4c0b-f522-29b0a5a9ca6c"
      },
      "outputs": [
        {
          "output_type": "stream",
          "name": "stdout",
          "text": [
            "짬뽕드세요.\n"
          ]
        }
      ],
      "source": [
        "음식메뉴 = ['짬뽕']\n",
        "if '짜장면' in 음식메뉴:\n",
        "    print(\"짜장면이요.\")\n",
        "elif '짬뽕' in 음식메뉴:\n",
        "    print(\"짬뽕드세요.\")\n",
        "else:\n",
        "    print(\"오늘 굶으세요\")"
      ]
    },
    {
      "cell_type": "code",
      "execution_count": 84,
      "metadata": {
        "colab": {
          "base_uri": "https://localhost:8080/"
        },
        "id": "S3sSH99jNuA4",
        "outputId": "a6ce00e6-6319-45e5-8ad7-bcd706f2f8d8"
      },
      "outputs": [
        {
          "output_type": "stream",
          "name": "stdout",
          "text": [
            "오늘 굶으세요\n"
          ]
        }
      ],
      "source": [
        "음식메뉴 = []\n",
        "if '짜장면' in 음식메뉴:\n",
        "    print(\"짜장면이요.\")\n",
        "elif '짬뽕' in 음식메뉴:\n",
        "    print(\"짬뽕드세요.\")\n",
        "else:\n",
        "    print(\"오늘 굶으세요\")"
      ]
    },
    {
      "cell_type": "code",
      "execution_count": 85,
      "metadata": {
        "colab": {
          "base_uri": "https://localhost:8080/"
        },
        "id": "1XgDCYGINuA5",
        "outputId": "12b4f7af-9d4d-4a94-9c02-adadcb8317f4"
      },
      "outputs": [
        {
          "output_type": "stream",
          "name": "stdout",
          "text": [
            "오늘 굶으세요\n"
          ]
        }
      ],
      "source": [
        "음식메뉴 = ['군만두']\n",
        "if '짜장면' in 음식메뉴:\n",
        "    print(\"짜장면이요.\")\n",
        "elif '짬뽕' in 음식메뉴:\n",
        "    print(\"짬뽕드세요.\")\n",
        "else:\n",
        "    print(\"오늘 굶으세요\")"
      ]
    },
    {
      "cell_type": "code",
      "execution_count": 86,
      "metadata": {
        "colab": {
          "base_uri": "https://localhost:8080/"
        },
        "id": "lGVkI4w2NuA5",
        "outputId": "a0dfc396-8a92-4dae-8e08-d5b7f7523319"
      },
      "outputs": [
        {
          "output_type": "stream",
          "name": "stdout",
          "text": [
            "짜장면\n",
            "짬뽕\n",
            "군만두\n"
          ]
        }
      ],
      "source": [
        "음식메뉴 = ['짜장면', '짬뽕','군만두']\n",
        "if '짜장면' in 음식메뉴:\n",
        "    print(\"짜장면\")\n",
        "if '짬뽕' in 음식메뉴:\n",
        "    print(\"짬뽕\")\n",
        "if '군만두' in 음식메뉴:\n",
        "    print(\"군만두\")"
      ]
    },
    {
      "cell_type": "code",
      "execution_count": 87,
      "metadata": {
        "colab": {
          "base_uri": "https://localhost:8080/"
        },
        "id": "N6GSK5kjNuA5",
        "outputId": "9a6ad569-5e2b-4529-99e1-03e7c49be51a"
      },
      "outputs": [
        {
          "output_type": "stream",
          "name": "stdout",
          "text": [
            "짜장면\n",
            "짬뽕\n",
            "군만두\n"
          ]
        }
      ],
      "source": [
        "음식메뉴 = ['짜장면', '짬뽕','군만두']\n",
        "for i in 음식메뉴:\n",
        "    print(i)"
      ]
    },
    {
      "cell_type": "code",
      "execution_count": 88,
      "metadata": {
        "colab": {
          "base_uri": "https://localhost:8080/"
        },
        "id": "CWiHOuDXNuA6",
        "outputId": "6ace7f5f-656b-44c3-9235-95ab97c5d3b4"
      },
      "outputs": [
        {
          "output_type": "stream",
          "name": "stdout",
          "text": [
            "짜장면\n",
            "짬뽕\n",
            "군만두\n"
          ]
        }
      ],
      "source": [
        "for i in ['짜장면', '짬뽕','군만두']:\n",
        "    print(i)"
      ]
    },
    {
      "cell_type": "code",
      "execution_count": 89,
      "metadata": {
        "colab": {
          "base_uri": "https://localhost:8080/"
        },
        "id": "tdEMG-QrNuA6",
        "outputId": "67c35179-c96c-44d1-f0c7-5da2976dda53"
      },
      "outputs": [
        {
          "output_type": "stream",
          "name": "stdout",
          "text": [
            "짬뽕\n",
            "군만두\n",
            "탕수육\n",
            "팔보채\n"
          ]
        }
      ],
      "source": [
        "중국음식=['짜장면','짬뽕','군만두','탕수육','팔보채']\n",
        "for 메뉴 in 중국음식:\n",
        "    if \"짜장면\" in 메뉴:\n",
        "        continue       # 짜장면 건너뛰고 차례로 출력\n",
        "    print(메뉴)"
      ]
    },
    {
      "cell_type": "code",
      "execution_count": 90,
      "metadata": {
        "colab": {
          "base_uri": "https://localhost:8080/"
        },
        "id": "l5y95nvXNuA6",
        "outputId": "eac267c5-15dd-49ca-e6d6-bccf7977a457"
      },
      "outputs": [
        {
          "output_type": "stream",
          "name": "stdout",
          "text": [
            "짜장면\n",
            "짬뽕\n",
            "군만두\n",
            "탕수육\n",
            "팔보채\n"
          ]
        }
      ],
      "source": [
        "중국음식=['짜장면','짬뽕','군만두','탕수육','팔보채']\n",
        "for 메뉴 in 중국음식:\n",
        "    if \"짜장면\" in 메뉴:\n",
        "        pass       # 짜장면부터 차례로 출력\n",
        "    print(메뉴)"
      ]
    },
    {
      "cell_type": "code",
      "execution_count": 91,
      "metadata": {
        "colab": {
          "base_uri": "https://localhost:8080/"
        },
        "id": "wV4_crItNuA6",
        "outputId": "0d679264-1a29-424a-a05f-deec22c9b1f9"
      },
      "outputs": [
        {
          "output_type": "stream",
          "name": "stdout",
          "text": [
            "0\n",
            "1\n",
            "2\n",
            "3\n",
            "4\n",
            "5\n",
            "6\n",
            "7\n",
            "8\n",
            "9\n"
          ]
        }
      ],
      "source": [
        "for i in range(10):\n",
        "    print(i)"
      ]
    },
    {
      "cell_type": "code",
      "execution_count": 92,
      "metadata": {
        "colab": {
          "base_uri": "https://localhost:8080/"
        },
        "id": "vUarSr2DNuA9",
        "outputId": "8743a169-22f0-4f5f-c56a-17f8d25de05d"
      },
      "outputs": [
        {
          "output_type": "stream",
          "name": "stdout",
          "text": [
            "0 1 2 3 4 5 6 7 8 9 10 11 12 13 14 15 16 17 18 19 "
          ]
        }
      ],
      "source": [
        "for i in range(20):\n",
        "    print(i, end=\" \")"
      ]
    },
    {
      "cell_type": "code",
      "execution_count": 93,
      "metadata": {
        "colab": {
          "base_uri": "https://localhost:8080/"
        },
        "id": "9I2Ef-mKNuA-",
        "outputId": "4a7318c7-c081-4934-ccbb-1db6fc84878a"
      },
      "outputs": [
        {
          "output_type": "stream",
          "name": "stdout",
          "text": [
            "10 11 12 13 14 15 16 17 18 19 "
          ]
        }
      ],
      "source": [
        "for i in range(10,20):\n",
        "    print(i, end=\" \")"
      ]
    },
    {
      "cell_type": "code",
      "execution_count": 94,
      "metadata": {
        "colab": {
          "base_uri": "https://localhost:8080/"
        },
        "id": "hjzDEFs1NuA_",
        "outputId": "3869dfd7-07c5-4e60-ef3e-8660b478e2d0"
      },
      "outputs": [
        {
          "output_type": "stream",
          "name": "stdout",
          "text": [
            "10 12 14 16 18 "
          ]
        }
      ],
      "source": [
        "for i in range(10,20,2):\n",
        "    print(i, end=\" \")"
      ]
    },
    {
      "cell_type": "code",
      "execution_count": 95,
      "metadata": {
        "colab": {
          "base_uri": "https://localhost:8080/"
        },
        "id": "NDic9RX6NuBE",
        "outputId": "7a4e14b2-bce9-4f16-cc04-e4b63359dab9"
      },
      "outputs": [
        {
          "output_type": "stream",
          "name": "stdout",
          "text": [
            "30 36 42 48 54 "
          ]
        }
      ],
      "source": [
        "for i in range(10,20,2):\n",
        "    print(i*3, end=\" \")"
      ]
    },
    {
      "cell_type": "code",
      "execution_count": 96,
      "metadata": {
        "colab": {
          "base_uri": "https://localhost:8080/"
        },
        "id": "3a4Mj7J6NuBF",
        "outputId": "77520e64-d014-4854-b116-3223b8fcb571"
      },
      "outputs": [
        {
          "output_type": "stream",
          "name": "stdout",
          "text": [
            "3 4 5 6 \n",
            "4 5 6 7 \n",
            "5 6 7 8 \n",
            "6 7 8 9 \n"
          ]
        }
      ],
      "source": [
        "for i in range(2, 6):\n",
        "    for j in range(1, 5):\n",
        "        print(i+j, end=\" \")\n",
        "    print(\"\")"
      ]
    },
    {
      "cell_type": "code",
      "execution_count": 96,
      "metadata": {
        "id": "9WDM4oPrNuBF"
      },
      "outputs": [],
      "source": [
        ""
      ]
    },
    {
      "cell_type": "code",
      "execution_count": 97,
      "metadata": {
        "colab": {
          "base_uri": "https://localhost:8080/"
        },
        "id": "DxUN-hxYNuBG",
        "outputId": "ee932921-7f2f-4aa1-a341-e3ed5b5ec953"
      },
      "outputs": [
        {
          "output_type": "stream",
          "name": "stdout",
          "text": [
            "2+1=3 2+2=4 2+3=5 2+4=6 \n",
            "\n",
            "3+1=4 3+2=5 3+3=6 3+4=7 \n",
            "\n",
            "4+1=5 4+2=6 4+3=7 4+4=8 \n",
            "\n",
            "5+1=6 5+2=7 5+3=8 5+4=9 \n",
            "\n"
          ]
        }
      ],
      "source": [
        "for i in range(2, 6):\n",
        "    for j in range(1, 5):\n",
        "        print(\"{}+{}={}\". format(i,j,i+j), end=\" \")\n",
        "    print(\"\\n\")"
      ]
    },
    {
      "cell_type": "code",
      "execution_count": 98,
      "metadata": {
        "colab": {
          "base_uri": "https://localhost:8080/"
        },
        "id": "dOZ5ucdDNuBG",
        "outputId": "7b18c575-acb0-473b-aba2-fa7e86f92164"
      },
      "outputs": [
        {
          "output_type": "stream",
          "name": "stdout",
          "text": [
            "2+1=2 2+2=4 2+3=6 2+4=8 \n",
            "\n",
            "3+1=3 3+2=6 3+3=9 3+4=12 \n",
            "\n",
            "4+1=4 4+2=8 4+3=12 4+4=16 \n",
            "\n",
            "5+1=5 5+2=10 5+3=15 5+4=20 \n",
            "\n"
          ]
        }
      ],
      "source": [
        "for i in range(2, 6):\n",
        "    for j in range(1, 5):\n",
        "        print(\"{}+{}={}\". format(i,j,i*j), end=\" \")\n",
        "    print(\"\\n\")"
      ]
    }
  ],
  "metadata": {
    "kernelspec": {
      "display_name": "Python 3",
      "language": "python",
      "name": "python3"
    },
    "language_info": {
      "codemirror_mode": {
        "name": "ipython",
        "version": 3
      },
      "file_extension": ".py",
      "mimetype": "text/x-python",
      "name": "python",
      "nbconvert_exporter": "python",
      "pygments_lexer": "ipython3",
      "version": "3.6.4"
    },
    "colab": {
      "name": "파이썬 복습 basic.ipynb",
      "provenance": [],
      "include_colab_link": true
    }
  },
  "nbformat": 4,
  "nbformat_minor": 0
}