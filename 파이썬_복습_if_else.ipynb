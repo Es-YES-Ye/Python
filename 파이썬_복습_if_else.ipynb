{
  "nbformat": 4,
  "nbformat_minor": 0,
  "metadata": {
    "colab": {
      "name": "파이썬 복습 if-else.ipynb",
      "provenance": [],
      "authorship_tag": "ABX9TyM5tTRcyMFaqUTCayPqs6Cc",
      "include_colab_link": true
    },
    "kernelspec": {
      "name": "python3",
      "display_name": "Python 3"
    },
    "language_info": {
      "name": "python"
    }
  },
  "cells": [
    {
      "cell_type": "markdown",
      "metadata": {
        "id": "view-in-github",
        "colab_type": "text"
      },
      "source": [
        "<a href=\"https://colab.research.google.com/github/Es-YES-Ye/Python/blob/main/%ED%8C%8C%EC%9D%B4%EC%8D%AC_%EB%B3%B5%EC%8A%B5_if_else.ipynb\" target=\"_parent\"><img src=\"https://colab.research.google.com/assets/colab-badge.svg\" alt=\"Open In Colab\"/></a>"
      ]
    },
    {
      "cell_type": "code",
      "execution_count": 6,
      "metadata": {
        "colab": {
          "base_uri": "https://localhost:8080/"
        },
        "id": "WcJ6WPqvliqA",
        "outputId": "b9e8a7e5-519f-4952-c5eb-c58d39506a65"
      },
      "outputs": [
        {
          "output_type": "stream",
          "name": "stdout",
          "text": [
            "is your birthday is Set1?\n",
            "1 3 5 7\n",
            "9 11 13 15\n",
            "17 19 21 23 \n",
            "25 27 29 31\n",
            "Enter 0 for No and 1 for Yes : 0\n",
            "\n",
            "ls your birthday is Set2?\n",
            "2 3 6 7\n",
            "10 11 14. 15\n",
            "18 19 22 23\n",
            "Enter 0 for No and 1 for Yes : 1\n",
            "\n",
            "ls your birthday is Set3?\n",
            "4 5 6 7\n",
            "12 13 14 15\n",
            "20 21 22 23\n",
            "28 29 30 31\n",
            "Enter 0 for No and 1 for Yes : 0\n",
            "\n",
            "ls your birthday is Set4?\n",
            "8 9 10 11\n",
            "12 13 14 15\n",
            "24 25 26 27\n",
            "28 29 30 31\n",
            "Enter 0 for No and 1 for Yes : 1\n",
            "\n",
            "ls your birthday is Set5?\n",
            "16 17 18 19\n",
            "20 21 22 23\n",
            "24 25 26 27\n",
            "28 29 30 31\n",
            "Enter 0 for No and 1 for Yes : 0\n",
            "\n",
            "your birthday is 10 !\n"
          ]
        }
      ],
      "source": [
        "import datetime\n",
        "\n",
        "day = 0\n",
        "\n",
        "question1 = \"is your birthday is Set1?\\n\" + \\\n",
        "\"1 3 5 7\\n\" + \\\n",
        "\"9 11 13 15\\n\" + \\\n",
        "\"17 19 21 23 \\n\" + \\\n",
        "\"25 27 29 31\\n\" + \\\n",
        "\"Enter 0 for No and 1 for Yes : \"\n",
        "\n",
        "answer = eval(input(question1))\n",
        "\n",
        "if answer == 1:\n",
        "  day += 1\n",
        "\n",
        "\n",
        "question2 = \"\\nls your birthday is Set2?\\n\" + \\\n",
        "\"2 3 6 7\\n\" + \\\n",
        "\"10 11 14 15\\n\" + \\\n",
        "\"18 19 22 23\\n\" + \\\n",
        "\"Enter 0 for No and 1 for Yes : \"\n",
        "\n",
        "answer = eval(input(question2))\n",
        "if answer == 1:\n",
        "  day += 2\n",
        "\n",
        "\n",
        "question3 = \"\\nls your birthday is Set3?\\n\" + \\\n",
        "\"4 5 6 7\\n\" + \\\n",
        "\"12 13 14 15\\n\" + \\\n",
        "\"20 21 22 23\\n\" + \\\n",
        "\"28 29 30 31\\n\" + \\\n",
        "\"Enter 0 for No and 1 for Yes : \"\n",
        "\n",
        "answer = eval(input(question3))\n",
        "if answer == 1:\n",
        "  day += 4\n",
        "\n",
        "\n",
        "question4 = \"\\nls your birthday is Set4?\\n\" + \\\n",
        "\"8 9 10 11\\n\" + \\\n",
        "\"12 13 14 15\\n\" + \\\n",
        "\"24 25 26 27\\n\" + \\\n",
        "\"28 29 30 31\\n\" + \\\n",
        "\"Enter 0 for No and 1 for Yes : \"\n",
        "\n",
        "answer = eval(input(question4))\n",
        "if answer == 1:\n",
        "  day += 8\n",
        "\n",
        "\n",
        "question5 = \"\\nls your birthday is Set5?\\n\" + \\\n",
        "\"16 17 18 19\\n\" + \\\n",
        "\"20 21 22 23\\n\" + \\\n",
        "\"24 25 26 27\\n\" + \\\n",
        "\"28 29 30 31\\n\" + \\\n",
        "\"Enter 0 for No and 1 for Yes : \"\n",
        "\n",
        "answer = eval(input(question5))\n",
        "if answer == 1:\n",
        "  day += 16\n",
        "\n",
        "print(\"\\nyour birthday is\", day, \"!\")"
      ]
    },
    {
      "cell_type": "code",
      "source": [
        "import random\n",
        "\n",
        "num1 = random.randint(0,9)\n",
        "num2 = random.randint(0,9)\n",
        "\n",
        "if num1 < num2 :\n",
        "  num1, num2 = num2, num1\n",
        "\n",
        "answer = eval(input(\"what is\"+str(num1) +\"-\"+ str(num2) + \"? :\"))\n",
        "\n",
        "if answer == num1 - num2:\n",
        "  print(\"You are correct!\")\n",
        "\n",
        "else:\n",
        "  print(\"Your answer is wrong\\n\", num1, \"-\", num2, \"is\", num1-num2)"
      ],
      "metadata": {
        "colab": {
          "base_uri": "https://localhost:8080/"
        },
        "id": "7_n-6liIpWpt",
        "outputId": "569224bf-150e-4e04-b4e3-c224a0465480"
      },
      "execution_count": 7,
      "outputs": [
        {
          "output_type": "stream",
          "name": "stdout",
          "text": [
            "waht is6-3? :3\n",
            "You are correct!\n"
          ]
        }
      ]
    }
  ]
}