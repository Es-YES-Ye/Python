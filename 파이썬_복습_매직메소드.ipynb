{
  "nbformat": 4,
  "nbformat_minor": 0,
  "metadata": {
    "colab": {
      "name": "파이썬-복습-매직메소드.ipynb",
      "provenance": [],
      "authorship_tag": "ABX9TyMOSlxNKTcIsXCEfKwvpdmQ",
      "include_colab_link": true
    },
    "kernelspec": {
      "name": "python3",
      "display_name": "Python 3"
    },
    "language_info": {
      "name": "python"
    }
  },
  "cells": [
    {
      "cell_type": "markdown",
      "metadata": {
        "id": "view-in-github",
        "colab_type": "text"
      },
      "source": [
        "<a href=\"https://colab.research.google.com/github/Es-YES-Ye/Python/blob/main/%ED%8C%8C%EC%9D%B4%EC%8D%AC_%EB%B3%B5%EC%8A%B5_%EB%A7%A4%EC%A7%81%EB%A9%94%EC%86%8C%EB%93%9C.ipynb\" target=\"_parent\"><img src=\"https://colab.research.google.com/assets/colab-badge.svg\" alt=\"Open In Colab\"/></a>"
      ]
    },
    {
      "cell_type": "code",
      "execution_count": 1,
      "metadata": {
        "colab": {
          "base_uri": "https://localhost:8080/"
        },
        "id": "TOqFdeoHRyD7",
        "outputId": "1844ec0b-9842-44c2-fd9e-7ab3e6b0f79a"
      },
      "outputs": [
        {
          "output_type": "stream",
          "name": "stdout",
          "text": [
            "8\n",
            "16\n"
          ]
        }
      ],
      "source": [
        "#__init__() __add__()\n",
        "\n",
        "class coordinate:\n",
        "  def __init__(self, x, y):\n",
        "    self.x = x\n",
        "    self.y = y\n",
        "  def __add__(self, other):\n",
        "    return coordinate(self.x + other.x, self.y + other.y)\n",
        "\n"
      ]
    },
    {
      "cell_type": "code",
      "source": [
        "coord1 = coordinate(5, 7)\n",
        "coord2 = coordinate(3, 9)\n",
        "coord3 = coord1 + coord2  #coord1.__add__(coord2)\n",
        "print(coord3.x)\n",
        "print(coord3.y)"
      ],
      "metadata": {
        "id": "g7njTIkMSRrL"
      },
      "execution_count": null,
      "outputs": []
    },
    {
      "cell_type": "code",
      "source": [
        "#__gt__()\n",
        "\n",
        "class SpecialString:\n",
        "  def __init__(self, cont):\n",
        "    self.cont = cont\n",
        "\n",
        "  def __gt__(self, other):\n",
        "    for index in range(len(other.cont)+1):\n",
        "      result = other.cont[:index] + \">\" + self.cont\n",
        "      result += \">\" + other.cont[index:]\n",
        "      print(result)\n",
        "\n"
      ],
      "metadata": {
        "colab": {
          "base_uri": "https://localhost:8080/"
        },
        "id": "lM7iYUezR3dj",
        "outputId": "28eed14b-f21e-4dc3-9601-aa2724a478c0"
      },
      "execution_count": 2,
      "outputs": [
        {
          "output_type": "stream",
          "name": "stdout",
          "text": [
            ">spam>eggs\n",
            "e>spam>ggs\n",
            "eg>spam>gs\n",
            "egg>spam>s\n",
            "eggs>spam>\n"
          ]
        }
      ]
    },
    {
      "cell_type": "code",
      "source": [
        "spam = SpecialString(\"spam\")\n",
        "eggs = SpecialString(\"eggs\")\n",
        "spam > eggs"
      ],
      "metadata": {
        "id": "3dmI7VkNSS2r"
      },
      "execution_count": null,
      "outputs": []
    },
    {
      "cell_type": "code",
      "source": [
        "#__getitem__() __len__()\n",
        "\n",
        "import random\n",
        "\n",
        "class VagueList:\n",
        "  def __init__(self, cont):\n",
        "    self.cont = cont\n",
        "\n",
        "  def __getitem__(self, index):\n",
        "    return self.cont[index + random.randint(-1, 1)]\n",
        "\n",
        "  def __len__(self):\n",
        "    return random.randint(0, len(self.cont)*2)\n",
        "\n"
      ],
      "metadata": {
        "colab": {
          "base_uri": "https://localhost:8080/"
        },
        "id": "3WL6xCWjR58k",
        "outputId": "baec23f2-2738-4be0-c5bf-582bf1d46ca6"
      },
      "execution_count": 3,
      "outputs": [
        {
          "output_type": "stream",
          "name": "stdout",
          "text": [
            "5\n",
            "3\n",
            "C\n",
            "B\n"
          ]
        }
      ]
    },
    {
      "cell_type": "code",
      "source": [
        "vague_list = VagueList([\"A\", \"B\", \"C\", \"D\", \"E\"])\n",
        "print(len(vague_list))\n",
        "print(len(vague_list)) #오버로딩\n",
        "print(vague_list[2])\n",
        "print(vague_list[2]) #오버로딩"
      ],
      "metadata": {
        "id": "C8APIejbSell"
      },
      "execution_count": null,
      "outputs": []
    },
    {
      "cell_type": "code",
      "source": [
        ""
      ],
      "metadata": {
        "id": "t1CHfB7DR56w"
      },
      "execution_count": null,
      "outputs": []
    }
  ]
}