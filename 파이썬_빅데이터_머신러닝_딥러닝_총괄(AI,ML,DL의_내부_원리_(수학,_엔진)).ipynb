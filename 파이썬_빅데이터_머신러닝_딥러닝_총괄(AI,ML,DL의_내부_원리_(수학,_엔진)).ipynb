{
  "nbformat": 4,
  "nbformat_minor": 0,
  "metadata": {
    "colab": {
      "name": "파이썬-빅데이터-머신러닝-딥러닝 총괄(AI,ML,DL의 내부 원리 (수학, 엔진)).ipynb",
      "provenance": [],
      "authorship_tag": "ABX9TyPZ5Fg+9odTRBfb8xUnaiWR",
      "include_colab_link": true
    },
    "kernelspec": {
      "name": "python3",
      "display_name": "Python 3"
    },
    "language_info": {
      "name": "python"
    }
  },
  "cells": [
    {
      "cell_type": "markdown",
      "metadata": {
        "id": "view-in-github",
        "colab_type": "text"
      },
      "source": [
        "<a href=\"https://colab.research.google.com/github/Es-YES-Ye/Python/blob/main/%ED%8C%8C%EC%9D%B4%EC%8D%AC_%EB%B9%85%EB%8D%B0%EC%9D%B4%ED%84%B0_%EB%A8%B8%EC%8B%A0%EB%9F%AC%EB%8B%9D_%EB%94%A5%EB%9F%AC%EB%8B%9D_%EC%B4%9D%EA%B4%84(AI%2CML%2CDL%EC%9D%98_%EB%82%B4%EB%B6%80_%EC%9B%90%EB%A6%AC_(%EC%88%98%ED%95%99%2C_%EC%97%94%EC%A7%84)).ipynb\" target=\"_parent\"><img src=\"https://colab.research.google.com/assets/colab-badge.svg\" alt=\"Open In Colab\"/></a>"
      ]
    },
    {
      "cell_type": "markdown",
      "source": [
        "AI,ML,DL의 내부 원리 (수학, 엔진)"
      ],
      "metadata": {
        "id": "sL21O7Q3Gwax"
      }
    },
    {
      "cell_type": "code",
      "source": [
        "import numpy as np"
      ],
      "metadata": {
        "id": "M4k5BB5bPqK2"
      },
      "execution_count": 5,
      "outputs": []
    },
    {
      "cell_type": "code",
      "execution_count": 1,
      "metadata": {
        "id": "0ppP-Gf0Gt87"
      },
      "outputs": [],
      "source": [
        "from sklearn.linear_model import LinearRegression"
      ]
    },
    {
      "cell_type": "code",
      "source": [
        "xs = [x for x in range(100)]\n",
        "ys = [(2+np.random.uniform(-0.1,0.1))*x + 3 + np.random.uniform(-2,2) for x in xs]\n",
        "import matplotlib.pyplot as plt\n",
        "plt.figure(figsize=(5,5))\n",
        "plt.plot(xs,ys,'b.')\n",
        "plt.xlim((0,200))\n",
        "plt.ylim((0,200))\n",
        "plt.show()"
      ],
      "metadata": {
        "colab": {
          "base_uri": "https://localhost:8080/",
          "height": 324
        },
        "id": "8p0fDX4PPNhl",
        "outputId": "aa50ac79-27eb-43ab-a750-743f45410869"
      },
      "execution_count": 10,
      "outputs": [
        {
          "output_type": "display_data",
          "data": {
            "text/plain": [
              "<Figure size 360x360 with 1 Axes>"
            ],
            "image/png": "[encoded data removed]"
          },
          "metadata": {
            "needs_background": "light"
          }
        }
      ]
    },
    {
      "cell_type": "code",
      "source": [
        "#분류모델\n",
        "#from sklearn.datasets import load_iris"
      ],
      "metadata": {
        "id": "RsWgTyrvPEST"
      },
      "execution_count": 2,
      "outputs": []
    },
    {
      "cell_type": "code",
      "source": [
        "xs2 = [[x] for x in xs]\n",
        "model = LinearRegression() #선형 모델 개체 생성\n",
        "model.fit(xs2, ys) #학습\n",
        "print(model.coef_, model.intercept_) #선형 회귀 함수의 가중치, 편향"
      ],
      "metadata": {
        "colab": {
          "base_uri": "https://localhost:8080/"
        },
        "id": "lJo-Klv1PIhO",
        "outputId": "b1e6b617-24e0-4d4f-f1c9-a6a7ab67f753"
      },
      "execution_count": 12,
      "outputs": [
        {
          "output_type": "stream",
          "name": "stdout",
          "text": [
            "[1.99877961] 2.847718890098747\n"
          ]
        }
      ]
    },
    {
      "cell_type": "code",
      "source": [
        "def mse(yp,y):\n",
        "  \"\"\"\n",
        "  yp:예측값\n",
        "  y:실제값\n",
        "  \"\"\"\n",
        "  return sum((yp-y)**2)/len(y)"
      ],
      "metadata": {
        "id": "nbbE93cPYC9N"
      },
      "execution_count": 17,
      "outputs": []
    },
    {
      "cell_type": "code",
      "source": [
        "w1=1\n",
        "w2=2\n",
        "w3=3\n",
        "b1=1\n",
        "b2=2\n",
        "b3=3\n",
        "xarr=np.array(xs)\n",
        "yarr=np.array(ys)\n",
        "yp11=w1*xarr + b1\n",
        "yp12=w1*xarr + b2\n",
        "yp13=w1*xarr + b3\n",
        "yp21=w2*xarr + b1\n",
        "yp22=w2*xarr + b2\n",
        "yp23=w2*xarr + b3\n",
        "yp31=w3*xarr + b1\n",
        "yp32=w3*xarr + b2\n",
        "yp33=w3*xarr + b3\n",
        "print(mse(yp11, yarr))\n",
        "print(mse(yp12, yarr))\n",
        "print(mse(yp13, yarr))\n",
        "print(mse(yp21, yarr))\n",
        "print(mse(yp22, yarr))\n",
        "print(mse(yp23, yarr))\n",
        "print(mse(yp31, yarr))\n",
        "print(mse(yp32, yarr))\n",
        "print(mse(yp33, yarr))"
      ],
      "metadata": {
        "colab": {
          "base_uri": "https://localhost:8080/"
        },
        "id": "Ku7KfiC0Yczj",
        "outputId": "3d1b264a-f664-4c80-f476-14ad7f8abb76"
      },
      "execution_count": 18,
      "outputs": [
        {
          "output_type": "stream",
          "name": "stdout",
          "text": [
            "3472.713579651655\n",
            "3371.1389609210128\n",
            "3271.5643421903706\n",
            "14.303739818986662\n",
            "11.729121088343534\n",
            "11.154502357700403\n",
            "3122.8938999863185\n",
            "3219.3192812556745\n",
            "3317.744662525034\n"
          ]
        }
      ]
    },
    {
      "cell_type": "code",
      "source": [
        "b=2\n",
        "ws = [w/10 for w in range(-100,100)] #-10~10, step:0.1\n",
        "mses = []\n",
        "for w in ws:\n",
        "  yp = w*xarr + b\n",
        "  mses.append(mse(yp, yarr))\n",
        "plt.plot(ws,mses)\n",
        "plt.xlabel(\"w\")\n",
        "plt.ylabel(\"mse\")\n",
        "plt.show()"
      ],
      "metadata": {
        "colab": {
          "base_uri": "https://localhost:8080/",
          "height": 279
        },
        "id": "MTmGbJVIZq0T",
        "outputId": "7286e949-2fd9-49f2-9a91-811a897acc8a"
      },
      "execution_count": 22,
      "outputs": [
        {
          "output_type": "display_data",
          "data": {
            "text/plain": [
              "<Figure size 432x288 with 1 Axes>"
            ],
            "image/png": "[encoded data removed]"
          },
          "metadata": {
            "needs_background": "light"
          }
        }
      ]
    },
    {
      "cell_type": "markdown",
      "source": [
        "KNN 회귀"
      ],
      "metadata": {
        "id": "U8Hv2v2Icr-S"
      }
    },
    {
      "cell_type": "code",
      "source": [
        "iris_data = load_iris()\n",
        "xs = iris_data.data\n",
        "ys = iris_data.target\n",
        "xs.shape, ys.shape"
      ],
      "metadata": {
        "colab": {
          "base_uri": "https://localhost:8080/"
        },
        "id": "pbdKxdAac0gU",
        "outputId": "88218b82-8e07-420c-a266-073bb8c4230a"
      },
      "execution_count": 24,
      "outputs": [
        {
          "output_type": "execute_result",
          "data": {
            "text/plain": [
              "((150, 4), (150,))"
            ]
          },
          "metadata": {},
          "execution_count": 24
        }
      ]
    },
    {
      "cell_type": "code",
      "source": [
        "xs[9],xs[59],xs[109]"
      ],
      "metadata": {
        "colab": {
          "base_uri": "https://localhost:8080/"
        },
        "id": "8OQ8UvXDdKxA",
        "outputId": "728f62bc-1ef6-4502-8dc1-0eac08650094"
      },
      "execution_count": 27,
      "outputs": [
        {
          "output_type": "execute_result",
          "data": {
            "text/plain": [
              "(array([4.9, 3.1, 1.5, 0.1]),\n",
              " array([5.2, 2.7, 3.9, 1.4]),\n",
              " array([7.2, 3.6, 6.1, 2.5]))"
            ]
          },
          "metadata": {},
          "execution_count": 27
        }
      ]
    },
    {
      "cell_type": "code",
      "source": [
        "from sklearn.neighbors import KNeighborsRegressor"
      ],
      "metadata": {
        "id": "3MOsIM2tcrq3"
      },
      "execution_count": 25,
      "outputs": []
    },
    {
      "cell_type": "code",
      "source": [
        "model = KNeighborsRegressor()\n",
        "model.fit(xs,ys)\n",
        "p_vals = model.predict([[5,3,1.6,0.1],[5.2, 2.7, 3.9, 1.4],[7.2, 3.6, 6.1, 2.5]])\n",
        "p_vals, ys[9], ys[59], ys[109]"
      ],
      "metadata": {
        "colab": {
          "base_uri": "https://localhost:8080/"
        },
        "id": "qhmwxvexcwHP",
        "outputId": "527a24dc-0c34-47bb-ee4e-2484170c37c1"
      },
      "execution_count": 29,
      "outputs": [
        {
          "output_type": "execute_result",
          "data": {
            "text/plain": [
              "(array([0., 1., 2.]), 0, 1, 2)"
            ]
          },
          "metadata": {},
          "execution_count": 29
        }
      ]
    },
    {
      "cell_type": "code",
      "source": [
        "xs = [[172,0.68], [180,0.70],[168,0.70],[165,0.50],[180,0.73],[170,0.64]]\n",
        "x1 = [x[0] for x in xs]\n",
        "x2 = [x[1] for x in xs]\n",
        "plt.plot(x1,x2,'b.')\n",
        "plt.show()"
      ],
      "metadata": {
        "colab": {
          "base_uri": "https://localhost:8080/",
          "height": 265
        },
        "id": "1v1hSsR7ewQI",
        "outputId": "0a75182c-a02b-4920-a46c-47c1a82cc925"
      },
      "execution_count": 40,
      "outputs": [
        {
          "output_type": "display_data",
          "data": {
            "text/plain": [
              "<Figure size 432x288 with 1 Axes>"
            ],
            "image/png": "[encoded data removed]"
          },
          "metadata": {
            "needs_background": "light"
          }
        }
      ]
    },
    {
      "cell_type": "code",
      "source": [
        "xd = [[177,0.50]]\n",
        "xd1 = xd[0][0]\n",
        "xd2 = xd[0][1]\n",
        "xd1, xd2"
      ],
      "metadata": {
        "colab": {
          "base_uri": "https://localhost:8080/"
        },
        "id": "WBzyYk_rfFb1",
        "outputId": "14f1ffb6-f3ad-4351-84f6-5f6b862ae980"
      },
      "execution_count": 41,
      "outputs": [
        {
          "output_type": "execute_result",
          "data": {
            "text/plain": [
              "(177, 0.5)"
            ]
          },
          "metadata": {},
          "execution_count": 41
        }
      ]
    },
    {
      "cell_type": "code",
      "source": [
        "plt.plot(xd1,xd2,'ro')\n",
        "plt.plot(x1,x2,'b.')\n",
        "plt.xlim(0,190)\n",
        "plt.ylim(0,0.80)\n",
        "plt.show()"
      ],
      "metadata": {
        "colab": {
          "base_uri": "https://localhost:8080/",
          "height": 269
        },
        "id": "jO4YDjOKfHcD",
        "outputId": "ab494e45-18d9-4726-9a44-eb1d2c2fa87c"
      },
      "execution_count": 35,
      "outputs": [
        {
          "output_type": "display_data",
          "data": {
            "text/plain": [
              "<Figure size 432x288 with 1 Axes>"
            ],
            "image/png": "[encoded data removed]"
          },
          "metadata": {
            "needs_background": "light"
          }
        }
      ]
    },
    {
      "cell_type": "code",
      "source": [
        "plt.plot(xd1,xd2,'ro')\n",
        "plt.plot(x1,x2,'b.')\n",
        "plt.xlim(0,190)\n",
        "plt.ylim(0,190)\n",
        "plt.xlabel(\"height\")\n",
        "plt.xlabel(\"weight\")\n",
        "plt.show()"
      ],
      "metadata": {
        "colab": {
          "base_uri": "https://localhost:8080/",
          "height": 279
        },
        "id": "Zw6mrWdZgSNk",
        "outputId": "19b2f3c6-43c7-466c-a435-efb54231e307"
      },
      "execution_count": 37,
      "outputs": [
        {
          "output_type": "display_data",
          "data": {
            "text/plain": [
              "<Figure size 432x288 with 1 Axes>"
            ],
            "image/png": "[encoded data removed]"
          },
          "metadata": {
            "needs_background": "light"
          }
        }
      ]
    },
    {
      "cell_type": "code",
      "source": [
        "xarr1 = np.array(x1)\n",
        "xarr2 = np.array(x2)\n",
        "\n",
        "m1 = xarr1.mean()\n",
        "s1=np.std(xarr1)\n",
        "m2 = xarr2.mean()\n",
        "s2 = np.std(xarr2)\n",
        "\n",
        "xarr1 = (xarr1-xarr1.mean())/np.std(xarr1) #평균을 빼고 표준편차로 나누고 : rescale\n",
        "xarr2 = (xarr2-xarr2.mean())/np.std(xarr2)\n",
        "\n",
        "#xdj1= (xd1 -xarr1.mean())/np.std(xarr1)\n",
        "#xdj2= (xd2 -xarr2.mean())/np.std(xarr2)\n",
        "xdj1 = (xd1-m1)/s1 #x1의 평균을 빼고 표준편차로 나누고\n",
        "xdj2 = (xd2-m2)/s2"
      ],
      "metadata": {
        "id": "R3VZmR18gcO-"
      },
      "execution_count": 44,
      "outputs": []
    },
    {
      "cell_type": "code",
      "source": [
        "plt.figure(figsize=(5,5))\n",
        "plt.plot(xarr1, xarr2, 'b.')\n",
        "plt.plot(xdj1, xdj2, \"ro\")\n",
        "plt.xlim(-3,3)\n",
        "plt.ylim(-3,3)\n",
        "plt.show()"
      ],
      "metadata": {
        "colab": {
          "base_uri": "https://localhost:8080/",
          "height": 324
        },
        "id": "mb78hp1-g8X7",
        "outputId": "a05eec42-2707-4460-85e0-011e353894b8"
      },
      "execution_count": 46,
      "outputs": [
        {
          "output_type": "display_data",
          "data": {
            "text/plain": [
              "<Figure size 360x360 with 1 Axes>"
            ],
            "image/png": "[encoded data removed]"
          },
          "metadata": {
            "needs_background": "light"
          }
        }
      ]
    }
  ]
}