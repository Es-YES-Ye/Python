{
  "nbformat": 4,
  "nbformat_minor": 0,
  "metadata": {
    "colab": {
      "name": "파이썬-빅데이터-머신러닝-딥러닝 총괄(리스트,모듈).ipynb",
      "provenance": [],
      "authorship_tag": "ABX9TyNYoS2NPzPgFqbCPjIHWVr9",
      "include_colab_link": true
    },
    "kernelspec": {
      "name": "python3",
      "display_name": "Python 3"
    },
    "language_info": {
      "name": "python"
    }
  },
  "cells": [
    {
      "cell_type": "markdown",
      "metadata": {
        "id": "view-in-github",
        "colab_type": "text"
      },
      "source": [
        "<a href=\"https://colab.research.google.com/github/Es-YES-Ye/Python/blob/main/%ED%8C%8C%EC%9D%B4%EC%8D%AC_%EB%B9%85%EB%8D%B0%EC%9D%B4%ED%84%B0_%EB%A8%B8%EC%8B%A0%EB%9F%AC%EB%8B%9D_%EB%94%A5%EB%9F%AC%EB%8B%9D_%EC%B4%9D%EA%B4%84(%EB%A6%AC%EC%8A%A4%ED%8A%B8%2C%EB%AA%A8%EB%93%88).ipynb\" target=\"_parent\"><img src=\"https://colab.research.google.com/assets/colab-badge.svg\" alt=\"Open In Colab\"/></a>"
      ]
    },
    {
      "cell_type": "markdown",
      "source": [
        "리스트 "
      ],
      "metadata": {
        "id": "OhWs7lgQzzvT"
      }
    },
    {
      "cell_type": "code",
      "execution_count": null,
      "metadata": {
        "colab": {
          "base_uri": "https://localhost:8080/"
        },
        "id": "NuZA_-d3ztuJ",
        "outputId": "baf25d5d-2acb-429b-eda5-f461134279e6"
      },
      "outputs": [
        {
          "output_type": "execute_result",
          "data": {
            "text/plain": [
              "([0, 1, 2, 3, 4, 5, 6, 7, 8, 9],\n",
              " [0, 2, 4, 6, 8],\n",
              " [0, -1, 2, -1, 4, -1, 6, -1, 8, -1])"
            ]
          },
          "metadata": {},
          "execution_count": 1
        }
      ],
      "source": [
        "ls1 = [x for x in range(10)]\n",
        "ls2 = [x for x in range(10) if x%2 == 0]\n",
        "ls3 = [x if x%2 == 0 else (-1) for x in range(10)]\n",
        "\n",
        "ls1, ls2, ls3"
      ]
    },
    {
      "cell_type": "code",
      "source": [
        "def calculate(xs):\n",
        "  s =0\n",
        "  for x in xs:\n",
        "    s += x\n",
        "  return s, s/len(xs)"
      ],
      "metadata": {
        "id": "XdcdEod501ZJ"
      },
      "execution_count": null,
      "outputs": []
    },
    {
      "cell_type": "code",
      "source": [
        "s,_ = calculate([1,2,3,4,5,6,7,8,9,10])\n",
        "print(f\"합계:{s:010d}\")"
      ],
      "metadata": {
        "colab": {
          "base_uri": "https://localhost:8080/"
        },
        "id": "NOqiljAu07F6",
        "outputId": "b7ad2a15-fbb4-4740-a7ed-161342ac4de9"
      },
      "execution_count": null,
      "outputs": [
        {
          "output_type": "stream",
          "name": "stdout",
          "text": [
            "합계:0000000055\n"
          ]
        }
      ]
    },
    {
      "cell_type": "code",
      "source": [
        "data = 2,3\n",
        "print(type(data))"
      ],
      "metadata": {
        "colab": {
          "base_uri": "https://localhost:8080/"
        },
        "id": "8ynWUqAp1dcg",
        "outputId": "fff68f21-a926-4981-e352-e3b81ba35970"
      },
      "execution_count": null,
      "outputs": [
        {
          "output_type": "stream",
          "name": "stdout",
          "text": [
            "<class 'tuple'>\n"
          ]
        }
      ]
    },
    {
      "cell_type": "code",
      "source": [
        "a,b = data\n",
        "a,b"
      ],
      "metadata": {
        "colab": {
          "base_uri": "https://localhost:8080/"
        },
        "id": "mNNVfZBk2GLg",
        "outputId": "e4fc8a29-a2fa-4650-e76b-1e7c48144e00"
      },
      "execution_count": null,
      "outputs": [
        {
          "output_type": "execute_result",
          "data": {
            "text/plain": [
              "(2, 3)"
            ]
          },
          "metadata": {},
          "execution_count": 6
        }
      ]
    },
    {
      "cell_type": "code",
      "source": [
        "import sys\n",
        "sys.path.append('/content/')"
      ],
      "metadata": {
        "id": "CTtB5Rxf3NUZ"
      },
      "execution_count": 8,
      "outputs": []
    },
    {
      "cell_type": "code",
      "source": [
        "import foo"
      ],
      "metadata": {
        "id": "civE2Z9h3dCh"
      },
      "execution_count": 9,
      "outputs": []
    },
    {
      "cell_type": "code",
      "source": [
        "foo.A()"
      ],
      "metadata": {
        "id": "8ZoWdekY3d_B",
        "colab": {
          "base_uri": "https://localhost:8080/"
        },
        "outputId": "690dd601-1ea7-4ea0-f7e5-e110d73546a4"
      },
      "execution_count": 10,
      "outputs": [
        {
          "output_type": "stream",
          "name": "stdout",
          "text": [
            "A\n"
          ]
        }
      ]
    },
    {
      "cell_type": "markdown",
      "source": [
        "from 모듈이름 import 모듈 내에 있는 것 중에 간단히 사용할 이름"
      ],
      "metadata": {
        "id": "j8jegI385T7a"
      }
    },
    {
      "cell_type": "code",
      "source": [
        "import soo"
      ],
      "metadata": {
        "id": "lYJxpReu4ic4"
      },
      "execution_count": 11,
      "outputs": []
    },
    {
      "cell_type": "code",
      "source": [
        "s = soo.Soo()"
      ],
      "metadata": {
        "colab": {
          "base_uri": "https://localhost:8080/"
        },
        "id": "hzsxMu0e4j1e",
        "outputId": "3e27db69-fd24-459c-b77a-a33556820c3c"
      },
      "execution_count": 12,
      "outputs": [
        {
          "output_type": "stream",
          "name": "stdout",
          "text": [
            "Soo\n"
          ]
        }
      ]
    },
    {
      "cell_type": "code",
      "source": [
        "from soo import Soo"
      ],
      "metadata": {
        "id": "QvXU9tlf8KzG"
      },
      "execution_count": 13,
      "outputs": []
    },
    {
      "cell_type": "code",
      "source": [
        "s = Soo()"
      ],
      "metadata": {
        "colab": {
          "base_uri": "https://localhost:8080/"
        },
        "id": "nAj-0qvi8MLO",
        "outputId": "e7245ba0-6e08-46a8-8a5a-986345ba5710"
      },
      "execution_count": 14,
      "outputs": [
        {
          "output_type": "stream",
          "name": "stdout",
          "text": [
            "Soo\n"
          ]
        }
      ]
    },
    {
      "cell_type": "markdown",
      "source": [
        "대표 모듈"
      ],
      "metadata": {
        "id": "mfOhewTh8KHa"
      }
    },
    {
      "cell_type": "code",
      "source": [
        "import numpy as np"
      ],
      "metadata": {
        "id": "ymqFGXAf8PcV"
      },
      "execution_count": 15,
      "outputs": []
    },
    {
      "cell_type": "code",
      "source": [
        "ls1 = [1,2,3,4]\n",
        "ls2 = [3,4,5,6]\n",
        "\n",
        "ls3 = ls1+ls2 # + 연산은 제공하지만 행렬 간의 더하기 연산은 아님\n",
        "ls3"
      ],
      "metadata": {
        "colab": {
          "base_uri": "https://localhost:8080/"
        },
        "id": "p85UNtwt8xyw",
        "outputId": "5b619f68-181c-4dc5-de74-c04bc1474b1a"
      },
      "execution_count": 17,
      "outputs": [
        {
          "output_type": "execute_result",
          "data": {
            "text/plain": [
              "[1, 2, 3, 4, 3, 4, 5, 6]"
            ]
          },
          "metadata": {},
          "execution_count": 17
        }
      ]
    },
    {
      "cell_type": "code",
      "source": [
        "#ls3 = ls2-ls1 행렬 사이의 빼기 연산 제공하지 않음"
      ],
      "metadata": {
        "id": "H8wgssaV858v"
      },
      "execution_count": null,
      "outputs": []
    },
    {
      "cell_type": "code",
      "source": [
        "ls3 = ls1*4 # * 연산도 행렬과 정수 사이의 연산이 아님\n",
        "ls3"
      ],
      "metadata": {
        "colab": {
          "base_uri": "https://localhost:8080/"
        },
        "id": "Y8hd5x3S8-b1",
        "outputId": "b5910506-1897-4353-c9e5-e906f266e980"
      },
      "execution_count": 18,
      "outputs": [
        {
          "output_type": "execute_result",
          "data": {
            "text/plain": [
              "[1, 2, 3, 4, 1, 2, 3, 4, 1, 2, 3, 4, 1, 2, 3, 4]"
            ]
          },
          "metadata": {},
          "execution_count": 18
        }
      ]
    },
    {
      "cell_type": "code",
      "source": [
        "ar1= np.array(ls1)\n",
        "ar2= np.array(ls2)\n",
        "ar3 = ar1 + ar2\n",
        "ar3"
      ],
      "metadata": {
        "colab": {
          "base_uri": "https://localhost:8080/"
        },
        "id": "34XfuAwq9Cae",
        "outputId": "d81898e9-c7f4-4247-c636-23502c6cd688"
      },
      "execution_count": 20,
      "outputs": [
        {
          "output_type": "execute_result",
          "data": {
            "text/plain": [
              "array([ 4,  6,  8, 10])"
            ]
          },
          "metadata": {},
          "execution_count": 20
        }
      ]
    },
    {
      "cell_type": "code",
      "source": [
        "ar3 = ar1 + ar2 #행렬 사이의 + 연산 제공\n",
        "ar3"
      ],
      "metadata": {
        "colab": {
          "base_uri": "https://localhost:8080/"
        },
        "id": "aAUigr6H9fur",
        "outputId": "3fbb9142-520e-4d6a-9956-05592acb36b9"
      },
      "execution_count": 21,
      "outputs": [
        {
          "output_type": "execute_result",
          "data": {
            "text/plain": [
              "array([ 4,  6,  8, 10])"
            ]
          },
          "metadata": {},
          "execution_count": 21
        }
      ]
    },
    {
      "cell_type": "code",
      "source": [
        "ar3 = ar2 - ar1 #행렬 사이의 - 연산 제공\n",
        "ar3"
      ],
      "metadata": {
        "colab": {
          "base_uri": "https://localhost:8080/"
        },
        "id": "jXWlYqOK9iXC",
        "outputId": "132ab547-9695-4bb8-e75c-7ba752569898"
      },
      "execution_count": 22,
      "outputs": [
        {
          "output_type": "execute_result",
          "data": {
            "text/plain": [
              "array([2, 2, 2, 2])"
            ]
          },
          "metadata": {},
          "execution_count": 22
        }
      ]
    },
    {
      "cell_type": "code",
      "source": [
        "ar3 = ar2*4 #행렬과 정수 사이의 x 연산 제공\n",
        "ar3"
      ],
      "metadata": {
        "colab": {
          "base_uri": "https://localhost:8080/"
        },
        "id": "kBdpm7Fa9jFk",
        "outputId": "2250bb4c-4bdd-4341-d6f6-4b035e249c22"
      },
      "execution_count": 23,
      "outputs": [
        {
          "output_type": "execute_result",
          "data": {
            "text/plain": [
              "array([12, 16, 20, 24])"
            ]
          },
          "metadata": {},
          "execution_count": 23
        }
      ]
    },
    {
      "cell_type": "code",
      "source": [
        "ar3 = ar1 @ ar2 #행렬과 행렬 사이의 내적 연산\n",
        "ar3"
      ],
      "metadata": {
        "colab": {
          "base_uri": "https://localhost:8080/"
        },
        "id": "ZtXUIMRd9jo9",
        "outputId": "576869d3-26d2-455a-9654-c8e4bce5e43d"
      },
      "execution_count": 24,
      "outputs": [
        {
          "output_type": "execute_result",
          "data": {
            "text/plain": [
              "50"
            ]
          },
          "metadata": {},
          "execution_count": 24
        }
      ]
    },
    {
      "cell_type": "code",
      "source": [
        "ar3 = ar1 * ar2 #행렬 사이의 곱하기 연산\n",
        "ar3"
      ],
      "metadata": {
        "colab": {
          "base_uri": "https://localhost:8080/"
        },
        "id": "it_I5v9Q9tyY",
        "outputId": "37f8656f-9ba1-4844-c984-5bed75d31278"
      },
      "execution_count": 25,
      "outputs": [
        {
          "output_type": "execute_result",
          "data": {
            "text/plain": [
              "array([ 3,  8, 15, 24])"
            ]
          },
          "metadata": {},
          "execution_count": 25
        }
      ]
    },
    {
      "cell_type": "code",
      "source": [
        "ar3 = ar1.dot(ar2) #내적\n",
        "ar3"
      ],
      "metadata": {
        "colab": {
          "base_uri": "https://localhost:8080/"
        },
        "id": "hVw3DpmH9v4w",
        "outputId": "d446a4cc-7df8-4460-d4c0-5711333579af"
      },
      "execution_count": 26,
      "outputs": [
        {
          "output_type": "execute_result",
          "data": {
            "text/plain": [
              "50"
            ]
          },
          "metadata": {},
          "execution_count": 26
        }
      ]
    },
    {
      "cell_type": "code",
      "source": [
        "ls = [[1,2,3], [2], [4,5,6,7,8]]\n",
        "ls"
      ],
      "metadata": {
        "colab": {
          "base_uri": "https://localhost:8080/"
        },
        "id": "ZKMJzBBb-CWi",
        "outputId": "9b818e64-4acd-48a5-c9c2-f505ecd001b3"
      },
      "execution_count": 27,
      "outputs": [
        {
          "output_type": "execute_result",
          "data": {
            "text/plain": [
              "[[1, 2, 3], [2], [4, 5, 6, 7, 8]]"
            ]
          },
          "metadata": {},
          "execution_count": 27
        }
      ]
    },
    {
      "cell_type": "code",
      "source": [
        "ar = np.arange(100)\n",
        "ar.shape"
      ],
      "metadata": {
        "colab": {
          "base_uri": "https://localhost:8080/"
        },
        "id": "qIBu6S3b-q_E",
        "outputId": "f7190765-01b0-4876-bf09-9c1696b1867e"
      },
      "execution_count": 28,
      "outputs": [
        {
          "output_type": "execute_result",
          "data": {
            "text/plain": [
              "(100,)"
            ]
          },
          "metadata": {},
          "execution_count": 28
        }
      ]
    },
    {
      "cell_type": "code",
      "source": [
        "ar2 = ar.reshape(2, 50)\n",
        "ar2.shape"
      ],
      "metadata": {
        "colab": {
          "base_uri": "https://localhost:8080/"
        },
        "id": "iI1oyrrt-ssy",
        "outputId": "b6115015-cfe6-4c82-a20c-19f91931cd13"
      },
      "execution_count": 29,
      "outputs": [
        {
          "output_type": "execute_result",
          "data": {
            "text/plain": [
              "(2, 50)"
            ]
          },
          "metadata": {},
          "execution_count": 29
        }
      ]
    },
    {
      "cell_type": "code",
      "source": [
        "ar2.dtype"
      ],
      "metadata": {
        "colab": {
          "base_uri": "https://localhost:8080/"
        },
        "id": "3CKhxV2N-vTg",
        "outputId": "17d551d4-9291-47ee-b5b0-aebad1fa207d"
      },
      "execution_count": 30,
      "outputs": [
        {
          "output_type": "execute_result",
          "data": {
            "text/plain": [
              "dtype('int64')"
            ]
          },
          "metadata": {},
          "execution_count": 30
        }
      ]
    },
    {
      "cell_type": "code",
      "source": [
        "ar = np.array([1,2,3,5.])\n",
        "print(type(ar[0]))"
      ],
      "metadata": {
        "colab": {
          "base_uri": "https://localhost:8080/"
        },
        "id": "zQcepEdS_Dm9",
        "outputId": "178456af-d696-4d1e-b368-2e6a323e6200"
      },
      "execution_count": 32,
      "outputs": [
        {
          "output_type": "stream",
          "name": "stdout",
          "text": [
            "<class 'numpy.float64'>\n"
          ]
        }
      ]
    },
    {
      "cell_type": "code",
      "source": [
        "ls = [1,2,3,5.]\n",
        "print(type(ls[0]))"
      ],
      "metadata": {
        "colab": {
          "base_uri": "https://localhost:8080/"
        },
        "id": "xQem8Sd-_Zvl",
        "outputId": "098793b8-2d28-46f9-e311-f4d0487eeddb"
      },
      "execution_count": 33,
      "outputs": [
        {
          "output_type": "stream",
          "name": "stdout",
          "text": [
            "<class 'int'>\n"
          ]
        }
      ]
    },
    {
      "cell_type": "code",
      "source": [
        "ar = np.random.randn(1000)\n",
        "ar.sum(), ar.mean(), np.median(ar), np.quantile(ar, 0.25)"
      ],
      "metadata": {
        "colab": {
          "base_uri": "https://localhost:8080/"
        },
        "id": "2jvFOywj_m-U",
        "outputId": "368cda5b-1cb3-44f2-dc0b-024a3db55fe0"
      },
      "execution_count": 36,
      "outputs": [
        {
          "output_type": "execute_result",
          "data": {
            "text/plain": [
              "(-19.20314279082759,\n",
              " -0.01920314279082759,\n",
              " 0.028496062181171095,\n",
              " -0.6599604783091989)"
            ]
          },
          "metadata": {},
          "execution_count": 36
        }
      ]
    },
    {
      "cell_type": "code",
      "source": [
        "ar1 = [1,2,3,4]\n",
        "ar2 = [4,5,6,7]\n",
        "cv = np.cov(ar1, ar2)\n",
        "print(cv[0,0]) #ar1과 ar1 사이의 공분산\n",
        "print(cv[0,1]) #ar1과 ar2 사이의 공분산\n",
        "print(cv[1,0]) #ar2과 ar1 사이의 공분산\n",
        "print(cv[1,1]) #ar2과 ar2 사이의 공분산"
      ],
      "metadata": {
        "colab": {
          "base_uri": "https://localhost:8080/"
        },
        "id": "paC9G5caAVr2",
        "outputId": "d8a2b9c6-95a4-406b-9c26-d24dbf177b73"
      },
      "execution_count": 37,
      "outputs": [
        {
          "output_type": "execute_result",
          "data": {
            "text/plain": [
              "array([[1.66666667, 1.66666667],\n",
              "       [1.66666667, 1.66666667]])"
            ]
          },
          "metadata": {},
          "execution_count": 37
        }
      ]
    },
    {
      "cell_type": "code",
      "source": [
        "cv[0,1]/(np.std(ar1)*np.std(ar2)) #상관계수"
      ],
      "metadata": {
        "colab": {
          "base_uri": "https://localhost:8080/"
        },
        "id": "Zv3euK8zA-4w",
        "outputId": "21257832-4a9f-4087-a7a0-bf8bc4d861f0"
      },
      "execution_count": 39,
      "outputs": [
        {
          "output_type": "execute_result",
          "data": {
            "text/plain": [
              "1.333333333333333"
            ]
          },
          "metadata": {},
          "execution_count": 39
        }
      ]
    },
    {
      "cell_type": "code",
      "source": [
        "import pandas as pd"
      ],
      "metadata": {
        "id": "HmkpbEOzBdOL"
      },
      "execution_count": 38,
      "outputs": []
    },
    {
      "cell_type": "code",
      "source": [
        "df = pd.read_csv('/content/sample_data/california_housing_test.csv')\n",
        "df"
      ],
      "metadata": {
        "colab": {
          "base_uri": "https://localhost:8080/",
          "height": 487
        },
        "id": "lshDZTZBBnQh",
        "outputId": "a762f606-c1fc-439d-d9c7-b32e2b993d19"
      },
      "execution_count": 41,
      "outputs": [
        {
          "output_type": "execute_result",
          "data": {
            "text/plain": [
              "      longitude  latitude  housing_median_age  total_rooms  total_bedrooms  \\\n",
              "0       -122.05     37.37                27.0       3885.0           661.0   \n",
              "1       -118.30     34.26                43.0       1510.0           310.0   \n",
              "2       -117.81     33.78                27.0       3589.0           507.0   \n",
              "3       -118.36     33.82                28.0         67.0            15.0   \n",
              "4       -119.67     36.33                19.0       1241.0           244.0   \n",
              "...         ...       ...                 ...          ...             ...   \n",
              "2995    -119.86     34.42                23.0       1450.0           642.0   \n",
              "2996    -118.14     34.06                27.0       5257.0          1082.0   \n",
              "2997    -119.70     36.30                10.0        956.0           201.0   \n",
              "2998    -117.12     34.10                40.0         96.0            14.0   \n",
              "2999    -119.63     34.42                42.0       1765.0           263.0   \n",
              "\n",
              "      population  households  median_income  median_house_value  \n",
              "0         1537.0       606.0         6.6085            344700.0  \n",
              "1          809.0       277.0         3.5990            176500.0  \n",
              "2         1484.0       495.0         5.7934            270500.0  \n",
              "3           49.0        11.0         6.1359            330000.0  \n",
              "4          850.0       237.0         2.9375             81700.0  \n",
              "...          ...         ...            ...                 ...  \n",
              "2995      1258.0       607.0         1.1790            225000.0  \n",
              "2996      3496.0      1036.0         3.3906            237200.0  \n",
              "2997       693.0       220.0         2.2895             62000.0  \n",
              "2998        46.0        14.0         3.2708            162500.0  \n",
              "2999       753.0       260.0         8.5608            500001.0  \n",
              "\n",
              "[3000 rows x 9 columns]"
            ],
            "text/html": [
              "\n",
              "  <div id=\"df-ef05efe4-fc5e-4e10-8e42-2ef23fe20ca5\">\n",
              "    <div class=\"colab-df-container\">\n",
              "      <div>\n",
              "<style scoped>\n",
              "    .dataframe tbody tr th:only-of-type {\n",
              "        vertical-align: middle;\n",
              "    }\n",
              "\n",
              "    .dataframe tbody tr th {\n",
              "        vertical-align: top;\n",
              "    }\n",
              "\n",
              "    .dataframe thead th {\n",
              "        text-align: right;\n",
              "    }\n",
              "</style>\n",
              "<table border=\"1\" class=\"dataframe\">\n",
              "  <thead>\n",
              "    <tr style=\"text-align: right;\">\n",
              "      <th></th>\n",
              "      <th>longitude</th>\n",
              "      <th>latitude</th>\n",
              "      <th>housing_median_age</th>\n",
              "      <th>total_rooms</th>\n",
              "      <th>total_bedrooms</th>\n",
              "      <th>population</th>\n",
              "      <th>households</th>\n",
              "      <th>median_income</th>\n",
              "      <th>median_house_value</th>\n",
              "    </tr>\n",
              "  </thead>\n",
              "  <tbody>\n",
              "    <tr>\n",
              "      <th>0</th>\n",
              "      <td>-122.05</td>\n",
              "      <td>37.37</td>\n",
              "      <td>27.0</td>\n",
              "      <td>3885.0</td>\n",
              "      <td>661.0</td>\n",
              "      <td>1537.0</td>\n",
              "      <td>606.0</td>\n",
              "      <td>6.6085</td>\n",
              "      <td>344700.0</td>\n",
              "    </tr>\n",
              "    <tr>\n",
              "      <th>1</th>\n",
              "      <td>-118.30</td>\n",
              "      <td>34.26</td>\n",
              "      <td>43.0</td>\n",
              "      <td>1510.0</td>\n",
              "      <td>310.0</td>\n",
              "      <td>809.0</td>\n",
              "      <td>277.0</td>\n",
              "      <td>3.5990</td>\n",
              "      <td>176500.0</td>\n",
              "    </tr>\n",
              "    <tr>\n",
              "      <th>2</th>\n",
              "      <td>-117.81</td>\n",
              "      <td>33.78</td>\n",
              "      <td>27.0</td>\n",
              "      <td>3589.0</td>\n",
              "      <td>507.0</td>\n",
              "      <td>1484.0</td>\n",
              "      <td>495.0</td>\n",
              "      <td>5.7934</td>\n",
              "      <td>270500.0</td>\n",
              "    </tr>\n",
              "    <tr>\n",
              "      <th>3</th>\n",
              "      <td>-118.36</td>\n",
              "      <td>33.82</td>\n",
              "      <td>28.0</td>\n",
              "      <td>67.0</td>\n",
              "      <td>15.0</td>\n",
              "      <td>49.0</td>\n",
              "      <td>11.0</td>\n",
              "      <td>6.1359</td>\n",
              "      <td>330000.0</td>\n",
              "    </tr>\n",
              "    <tr>\n",
              "      <th>4</th>\n",
              "      <td>-119.67</td>\n",
              "      <td>36.33</td>\n",
              "      <td>19.0</td>\n",
              "      <td>1241.0</td>\n",
              "      <td>244.0</td>\n",
              "      <td>850.0</td>\n",
              "      <td>237.0</td>\n",
              "      <td>2.9375</td>\n",
              "      <td>81700.0</td>\n",
              "    </tr>\n",
              "    <tr>\n",
              "      <th>...</th>\n",
              "      <td>...</td>\n",
              "      <td>...</td>\n",
              "      <td>...</td>\n",
              "      <td>...</td>\n",
              "      <td>...</td>\n",
              "      <td>...</td>\n",
              "      <td>...</td>\n",
              "      <td>...</td>\n",
              "      <td>...</td>\n",
              "    </tr>\n",
              "    <tr>\n",
              "      <th>2995</th>\n",
              "      <td>-119.86</td>\n",
              "      <td>34.42</td>\n",
              "      <td>23.0</td>\n",
              "      <td>1450.0</td>\n",
              "      <td>642.0</td>\n",
              "      <td>1258.0</td>\n",
              "      <td>607.0</td>\n",
              "      <td>1.1790</td>\n",
              "      <td>225000.0</td>\n",
              "    </tr>\n",
              "    <tr>\n",
              "      <th>2996</th>\n",
              "      <td>-118.14</td>\n",
              "      <td>34.06</td>\n",
              "      <td>27.0</td>\n",
              "      <td>5257.0</td>\n",
              "      <td>1082.0</td>\n",
              "      <td>3496.0</td>\n",
              "      <td>1036.0</td>\n",
              "      <td>3.3906</td>\n",
              "      <td>237200.0</td>\n",
              "    </tr>\n",
              "    <tr>\n",
              "      <th>2997</th>\n",
              "      <td>-119.70</td>\n",
              "      <td>36.30</td>\n",
              "      <td>10.0</td>\n",
              "      <td>956.0</td>\n",
              "      <td>201.0</td>\n",
              "      <td>693.0</td>\n",
              "      <td>220.0</td>\n",
              "      <td>2.2895</td>\n",
              "      <td>62000.0</td>\n",
              "    </tr>\n",
              "    <tr>\n",
              "      <th>2998</th>\n",
              "      <td>-117.12</td>\n",
              "      <td>34.10</td>\n",
              "      <td>40.0</td>\n",
              "      <td>96.0</td>\n",
              "      <td>14.0</td>\n",
              "      <td>46.0</td>\n",
              "      <td>14.0</td>\n",
              "      <td>3.2708</td>\n",
              "      <td>162500.0</td>\n",
              "    </tr>\n",
              "    <tr>\n",
              "      <th>2999</th>\n",
              "      <td>-119.63</td>\n",
              "      <td>34.42</td>\n",
              "      <td>42.0</td>\n",
              "      <td>1765.0</td>\n",
              "      <td>263.0</td>\n",
              "      <td>753.0</td>\n",
              "      <td>260.0</td>\n",
              "      <td>8.5608</td>\n",
              "      <td>500001.0</td>\n",
              "    </tr>\n",
              "  </tbody>\n",
              "</table>\n",
              "<p>3000 rows × 9 columns</p>\n",
              "</div>\n",
              "      <button class=\"colab-df-convert\" onclick=\"convertToInteractive('df-ef05efe4-fc5e-4e10-8e42-2ef23fe20ca5')\"\n",
              "              title=\"Convert this dataframe to an interactive table.\"\n",
              "              style=\"display:none;\">\n",
              "        \n",
              "  <svg xmlns=\"http://www.w3.org/2000/svg\" height=\"24px\"viewBox=\"0 0 24 24\"\n",
              "       width=\"24px\">\n",
              "    <path d=\"M0 0h24v24H0V0z\" fill=\"none\"/>\n",
              "    <path d=\"M18.56 5.44l.94 2.06.94-2.06 2.06-.94-2.06-.94-.94-2.06-.94 2.06-2.06.94zm-11 1L8.5 8.5l.94-2.06 2.06-.94-2.06-.94L8.5 2.5l-.94 2.06-2.06.94zm10 10l.94 2.06.94-2.06 2.06-.94-2.06-.94-.94-2.06-.94 2.06-2.06.94z\"/><path d=\"M17.41 7.96l-1.37-1.37c-.4-.4-.92-.59-1.43-.59-.52 0-1.04.2-1.43.59L10.3 9.45l-7.72 7.72c-.78.78-.78 2.05 0 2.83L4 21.41c.39.39.9.59 1.41.59.51 0 1.02-.2 1.41-.59l7.78-7.78 2.81-2.81c.8-.78.8-2.07 0-2.86zM5.41 20L4 18.59l7.72-7.72 1.47 1.35L5.41 20z\"/>\n",
              "  </svg>\n",
              "      </button>\n",
              "      \n",
              "  <style>\n",
              "    .colab-df-container {\n",
              "      display:flex;\n",
              "      flex-wrap:wrap;\n",
              "      gap: 12px;\n",
              "    }\n",
              "\n",
              "    .colab-df-convert {\n",
              "      background-color: #E8F0FE;\n",
              "      border: none;\n",
              "      border-radius: 50%;\n",
              "      cursor: pointer;\n",
              "      display: none;\n",
              "      fill: #1967D2;\n",
              "      height: 32px;\n",
              "      padding: 0 0 0 0;\n",
              "      width: 32px;\n",
              "    }\n",
              "\n",
              "    .colab-df-convert:hover {\n",
              "      background-color: #E2EBFA;\n",
              "      box-shadow: 0px 1px 2px rgba(60, 64, 67, 0.3), 0px 1px 3px 1px rgba(60, 64, 67, 0.15);\n",
              "      fill: #174EA6;\n",
              "    }\n",
              "\n",
              "    [theme=dark] .colab-df-convert {\n",
              "      background-color: #3B4455;\n",
              "      fill: #D2E3FC;\n",
              "    }\n",
              "\n",
              "    [theme=dark] .colab-df-convert:hover {\n",
              "      background-color: #434B5C;\n",
              "      box-shadow: 0px 1px 3px 1px rgba(0, 0, 0, 0.15);\n",
              "      filter: drop-shadow(0px 1px 2px rgba(0, 0, 0, 0.3));\n",
              "      fill: #FFFFFF;\n",
              "    }\n",
              "  </style>\n",
              "\n",
              "      <script>\n",
              "        const buttonEl =\n",
              "          document.querySelector('#df-ef05efe4-fc5e-4e10-8e42-2ef23fe20ca5 button.colab-df-convert');\n",
              "        buttonEl.style.display =\n",
              "          google.colab.kernel.accessAllowed ? 'block' : 'none';\n",
              "\n",
              "        async function convertToInteractive(key) {\n",
              "          const element = document.querySelector('#df-ef05efe4-fc5e-4e10-8e42-2ef23fe20ca5');\n",
              "          const dataTable =\n",
              "            await google.colab.kernel.invokeFunction('convertToInteractive',\n",
              "                                                     [key], {});\n",
              "          if (!dataTable) return;\n",
              "\n",
              "          const docLinkHtml = 'Like what you see? Visit the ' +\n",
              "            '<a target=\"_blank\" href=https://colab.research.google.com/notebooks/data_table.ipynb>data table notebook</a>'\n",
              "            + ' to learn more about interactive tables.';\n",
              "          element.innerHTML = '';\n",
              "          dataTable['output_type'] = 'display_data';\n",
              "          await google.colab.output.renderOutput(dataTable, element);\n",
              "          const docLink = document.createElement('div');\n",
              "          docLink.innerHTML = docLinkHtml;\n",
              "          element.appendChild(docLink);\n",
              "        }\n",
              "      </script>\n",
              "    </div>\n",
              "  </div>\n",
              "  "
            ]
          },
          "metadata": {},
          "execution_count": 41
        }
      ]
    },
    {
      "cell_type": "code",
      "source": [
        "df.info()"
      ],
      "metadata": {
        "colab": {
          "base_uri": "https://localhost:8080/"
        },
        "id": "lfHEVa-xB7Wh",
        "outputId": "cf00f6d1-57d2-4d09-be9f-8aefdd481e53"
      },
      "execution_count": 42,
      "outputs": [
        {
          "output_type": "stream",
          "name": "stdout",
          "text": [
            "<class 'pandas.core.frame.DataFrame'>\n",
            "RangeIndex: 3000 entries, 0 to 2999\n",
            "Data columns (total 9 columns):\n",
            " #   Column              Non-Null Count  Dtype  \n",
            "---  ------              --------------  -----  \n",
            " 0   longitude           3000 non-null   float64\n",
            " 1   latitude            3000 non-null   float64\n",
            " 2   housing_median_age  3000 non-null   float64\n",
            " 3   total_rooms         3000 non-null   float64\n",
            " 4   total_bedrooms      3000 non-null   float64\n",
            " 5   population          3000 non-null   float64\n",
            " 6   households          3000 non-null   float64\n",
            " 7   median_income       3000 non-null   float64\n",
            " 8   median_house_value  3000 non-null   float64\n",
            "dtypes: float64(9)\n",
            "memory usage: 211.1 KB\n"
          ]
        }
      ]
    },
    {
      "cell_type": "code",
      "source": [
        "df.describe()"
      ],
      "metadata": {
        "colab": {
          "base_uri": "https://localhost:8080/",
          "height": 364
        },
        "id": "OZyI5zEuCKLa",
        "outputId": "27203b73-a158-4fb8-f3d2-d21c6035a117"
      },
      "execution_count": 43,
      "outputs": [
        {
          "output_type": "execute_result",
          "data": {
            "text/plain": [
              "         longitude    latitude  housing_median_age   total_rooms  \\\n",
              "count  3000.000000  3000.00000         3000.000000   3000.000000   \n",
              "mean   -119.589200    35.63539           28.845333   2599.578667   \n",
              "std       1.994936     2.12967           12.555396   2155.593332   \n",
              "min    -124.180000    32.56000            1.000000      6.000000   \n",
              "25%    -121.810000    33.93000           18.000000   1401.000000   \n",
              "50%    -118.485000    34.27000           29.000000   2106.000000   \n",
              "75%    -118.020000    37.69000           37.000000   3129.000000   \n",
              "max    -114.490000    41.92000           52.000000  30450.000000   \n",
              "\n",
              "       total_bedrooms    population  households  median_income  \\\n",
              "count     3000.000000   3000.000000  3000.00000    3000.000000   \n",
              "mean       529.950667   1402.798667   489.91200       3.807272   \n",
              "std        415.654368   1030.543012   365.42271       1.854512   \n",
              "min          2.000000      5.000000     2.00000       0.499900   \n",
              "25%        291.000000    780.000000   273.00000       2.544000   \n",
              "50%        437.000000   1155.000000   409.50000       3.487150   \n",
              "75%        636.000000   1742.750000   597.25000       4.656475   \n",
              "max       5419.000000  11935.000000  4930.00000      15.000100   \n",
              "\n",
              "       median_house_value  \n",
              "count          3000.00000  \n",
              "mean         205846.27500  \n",
              "std          113119.68747  \n",
              "min           22500.00000  \n",
              "25%          121200.00000  \n",
              "50%          177650.00000  \n",
              "75%          263975.00000  \n",
              "max          500001.00000  "
            ],
            "text/html": [
              "\n",
              "  <div id=\"df-636bc3bb-e01f-46b7-bfd9-2a043d07af00\">\n",
              "    <div class=\"colab-df-container\">\n",
              "      <div>\n",
              "<style scoped>\n",
              "    .dataframe tbody tr th:only-of-type {\n",
              "        vertical-align: middle;\n",
              "    }\n",
              "\n",
              "    .dataframe tbody tr th {\n",
              "        vertical-align: top;\n",
              "    }\n",
              "\n",
              "    .dataframe thead th {\n",
              "        text-align: right;\n",
              "    }\n",
              "</style>\n",
              "<table border=\"1\" class=\"dataframe\">\n",
              "  <thead>\n",
              "    <tr style=\"text-align: right;\">\n",
              "      <th></th>\n",
              "      <th>longitude</th>\n",
              "      <th>latitude</th>\n",
              "      <th>housing_median_age</th>\n",
              "      <th>total_rooms</th>\n",
              "      <th>total_bedrooms</th>\n",
              "      <th>population</th>\n",
              "      <th>households</th>\n",
              "      <th>median_income</th>\n",
              "      <th>median_house_value</th>\n",
              "    </tr>\n",
              "  </thead>\n",
              "  <tbody>\n",
              "    <tr>\n",
              "      <th>count</th>\n",
              "      <td>3000.000000</td>\n",
              "      <td>3000.00000</td>\n",
              "      <td>3000.000000</td>\n",
              "      <td>3000.000000</td>\n",
              "      <td>3000.000000</td>\n",
              "      <td>3000.000000</td>\n",
              "      <td>3000.00000</td>\n",
              "      <td>3000.000000</td>\n",
              "      <td>3000.00000</td>\n",
              "    </tr>\n",
              "    <tr>\n",
              "      <th>mean</th>\n",
              "      <td>-119.589200</td>\n",
              "      <td>35.63539</td>\n",
              "      <td>28.845333</td>\n",
              "      <td>2599.578667</td>\n",
              "      <td>529.950667</td>\n",
              "      <td>1402.798667</td>\n",
              "      <td>489.91200</td>\n",
              "      <td>3.807272</td>\n",
              "      <td>205846.27500</td>\n",
              "    </tr>\n",
              "    <tr>\n",
              "      <th>std</th>\n",
              "      <td>1.994936</td>\n",
              "      <td>2.12967</td>\n",
              "      <td>12.555396</td>\n",
              "      <td>2155.593332</td>\n",
              "      <td>415.654368</td>\n",
              "      <td>1030.543012</td>\n",
              "      <td>365.42271</td>\n",
              "      <td>1.854512</td>\n",
              "      <td>113119.68747</td>\n",
              "    </tr>\n",
              "    <tr>\n",
              "      <th>min</th>\n",
              "      <td>-124.180000</td>\n",
              "      <td>32.56000</td>\n",
              "      <td>1.000000</td>\n",
              "      <td>6.000000</td>\n",
              "      <td>2.000000</td>\n",
              "      <td>5.000000</td>\n",
              "      <td>2.00000</td>\n",
              "      <td>0.499900</td>\n",
              "      <td>22500.00000</td>\n",
              "    </tr>\n",
              "    <tr>\n",
              "      <th>25%</th>\n",
              "      <td>-121.810000</td>\n",
              "      <td>33.93000</td>\n",
              "      <td>18.000000</td>\n",
              "      <td>1401.000000</td>\n",
              "      <td>291.000000</td>\n",
              "      <td>780.000000</td>\n",
              "      <td>273.00000</td>\n",
              "      <td>2.544000</td>\n",
              "      <td>121200.00000</td>\n",
              "    </tr>\n",
              "    <tr>\n",
              "      <th>50%</th>\n",
              "      <td>-118.485000</td>\n",
              "      <td>34.27000</td>\n",
              "      <td>29.000000</td>\n",
              "      <td>2106.000000</td>\n",
              "      <td>437.000000</td>\n",
              "      <td>1155.000000</td>\n",
              "      <td>409.50000</td>\n",
              "      <td>3.487150</td>\n",
              "      <td>177650.00000</td>\n",
              "    </tr>\n",
              "    <tr>\n",
              "      <th>75%</th>\n",
              "      <td>-118.020000</td>\n",
              "      <td>37.69000</td>\n",
              "      <td>37.000000</td>\n",
              "      <td>3129.000000</td>\n",
              "      <td>636.000000</td>\n",
              "      <td>1742.750000</td>\n",
              "      <td>597.25000</td>\n",
              "      <td>4.656475</td>\n",
              "      <td>263975.00000</td>\n",
              "    </tr>\n",
              "    <tr>\n",
              "      <th>max</th>\n",
              "      <td>-114.490000</td>\n",
              "      <td>41.92000</td>\n",
              "      <td>52.000000</td>\n",
              "      <td>30450.000000</td>\n",
              "      <td>5419.000000</td>\n",
              "      <td>11935.000000</td>\n",
              "      <td>4930.00000</td>\n",
              "      <td>15.000100</td>\n",
              "      <td>500001.00000</td>\n",
              "    </tr>\n",
              "  </tbody>\n",
              "</table>\n",
              "</div>\n",
              "      <button class=\"colab-df-convert\" onclick=\"convertToInteractive('df-636bc3bb-e01f-46b7-bfd9-2a043d07af00')\"\n",
              "              title=\"Convert this dataframe to an interactive table.\"\n",
              "              style=\"display:none;\">\n",
              "        \n",
              "  <svg xmlns=\"http://www.w3.org/2000/svg\" height=\"24px\"viewBox=\"0 0 24 24\"\n",
              "       width=\"24px\">\n",
              "    <path d=\"M0 0h24v24H0V0z\" fill=\"none\"/>\n",
              "    <path d=\"M18.56 5.44l.94 2.06.94-2.06 2.06-.94-2.06-.94-.94-2.06-.94 2.06-2.06.94zm-11 1L8.5 8.5l.94-2.06 2.06-.94-2.06-.94L8.5 2.5l-.94 2.06-2.06.94zm10 10l.94 2.06.94-2.06 2.06-.94-2.06-.94-.94-2.06-.94 2.06-2.06.94z\"/><path d=\"M17.41 7.96l-1.37-1.37c-.4-.4-.92-.59-1.43-.59-.52 0-1.04.2-1.43.59L10.3 9.45l-7.72 7.72c-.78.78-.78 2.05 0 2.83L4 21.41c.39.39.9.59 1.41.59.51 0 1.02-.2 1.41-.59l7.78-7.78 2.81-2.81c.8-.78.8-2.07 0-2.86zM5.41 20L4 18.59l7.72-7.72 1.47 1.35L5.41 20z\"/>\n",
              "  </svg>\n",
              "      </button>\n",
              "      \n",
              "  <style>\n",
              "    .colab-df-container {\n",
              "      display:flex;\n",
              "      flex-wrap:wrap;\n",
              "      gap: 12px;\n",
              "    }\n",
              "\n",
              "    .colab-df-convert {\n",
              "      background-color: #E8F0FE;\n",
              "      border: none;\n",
              "      border-radius: 50%;\n",
              "      cursor: pointer;\n",
              "      display: none;\n",
              "      fill: #1967D2;\n",
              "      height: 32px;\n",
              "      padding: 0 0 0 0;\n",
              "      width: 32px;\n",
              "    }\n",
              "\n",
              "    .colab-df-convert:hover {\n",
              "      background-color: #E2EBFA;\n",
              "      box-shadow: 0px 1px 2px rgba(60, 64, 67, 0.3), 0px 1px 3px 1px rgba(60, 64, 67, 0.15);\n",
              "      fill: #174EA6;\n",
              "    }\n",
              "\n",
              "    [theme=dark] .colab-df-convert {\n",
              "      background-color: #3B4455;\n",
              "      fill: #D2E3FC;\n",
              "    }\n",
              "\n",
              "    [theme=dark] .colab-df-convert:hover {\n",
              "      background-color: #434B5C;\n",
              "      box-shadow: 0px 1px 3px 1px rgba(0, 0, 0, 0.15);\n",
              "      filter: drop-shadow(0px 1px 2px rgba(0, 0, 0, 0.3));\n",
              "      fill: #FFFFFF;\n",
              "    }\n",
              "  </style>\n",
              "\n",
              "      <script>\n",
              "        const buttonEl =\n",
              "          document.querySelector('#df-636bc3bb-e01f-46b7-bfd9-2a043d07af00 button.colab-df-convert');\n",
              "        buttonEl.style.display =\n",
              "          google.colab.kernel.accessAllowed ? 'block' : 'none';\n",
              "\n",
              "        async function convertToInteractive(key) {\n",
              "          const element = document.querySelector('#df-636bc3bb-e01f-46b7-bfd9-2a043d07af00');\n",
              "          const dataTable =\n",
              "            await google.colab.kernel.invokeFunction('convertToInteractive',\n",
              "                                                     [key], {});\n",
              "          if (!dataTable) return;\n",
              "\n",
              "          const docLinkHtml = 'Like what you see? Visit the ' +\n",
              "            '<a target=\"_blank\" href=https://colab.research.google.com/notebooks/data_table.ipynb>data table notebook</a>'\n",
              "            + ' to learn more about interactive tables.';\n",
              "          element.innerHTML = '';\n",
              "          dataTable['output_type'] = 'display_data';\n",
              "          await google.colab.output.renderOutput(dataTable, element);\n",
              "          const docLink = document.createElement('div');\n",
              "          docLink.innerHTML = docLinkHtml;\n",
              "          element.appendChild(docLink);\n",
              "        }\n",
              "      </script>\n",
              "    </div>\n",
              "  </div>\n",
              "  "
            ]
          },
          "metadata": {},
          "execution_count": 43
        }
      ]
    },
    {
      "cell_type": "code",
      "source": [
        "ar1 = np.array([1,2,3,-4,5,-2])\n",
        "filter = ar1>=0\n",
        "far = ar1[filter]\n",
        "far"
      ],
      "metadata": {
        "colab": {
          "base_uri": "https://localhost:8080/"
        },
        "id": "uFh88SsnCbhx",
        "outputId": "13756a4b-b6f7-4492-e48e-9c1d0310c8ac"
      },
      "execution_count": 44,
      "outputs": [
        {
          "output_type": "execute_result",
          "data": {
            "text/plain": [
              "array([1, 2, 3, 5])"
            ]
          },
          "metadata": {},
          "execution_count": 44
        }
      ]
    },
    {
      "cell_type": "code",
      "source": [
        "far = ar1[ar1>=0]\n",
        "far"
      ],
      "metadata": {
        "colab": {
          "base_uri": "https://localhost:8080/"
        },
        "id": "EaW9H8wKCtOa",
        "outputId": "6c3f7502-7e50-4a27-e675-a3176fce4d25"
      },
      "execution_count": 47,
      "outputs": [
        {
          "output_type": "execute_result",
          "data": {
            "text/plain": [
              "array([1, 2, 3, 5])"
            ]
          },
          "metadata": {},
          "execution_count": 47
        }
      ]
    },
    {
      "cell_type": "code",
      "source": [
        "temp = ar1>=0\n",
        "temp"
      ],
      "metadata": {
        "colab": {
          "base_uri": "https://localhost:8080/"
        },
        "id": "4-9zWOkpC-Cm",
        "outputId": "e681d444-d0e9-463b-cf19-eab461796f19"
      },
      "execution_count": 48,
      "outputs": [
        {
          "output_type": "execute_result",
          "data": {
            "text/plain": [
              "array([ True,  True,  True, False,  True, False])"
            ]
          },
          "metadata": {},
          "execution_count": 48
        }
      ]
    },
    {
      "cell_type": "code",
      "source": [
        "far = ar1[temp]\n",
        "far"
      ],
      "metadata": {
        "colab": {
          "base_uri": "https://localhost:8080/"
        },
        "id": "mc-xKMy_C_58",
        "outputId": "53df4378-1b11-45aa-f9e3-3afdadfab7e7"
      },
      "execution_count": 49,
      "outputs": [
        {
          "output_type": "execute_result",
          "data": {
            "text/plain": [
              "array([1, 2, 3, 5])"
            ]
          },
          "metadata": {},
          "execution_count": 49
        }
      ]
    },
    {
      "cell_type": "code",
      "source": [
        "df"
      ],
      "metadata": {
        "colab": {
          "base_uri": "https://localhost:8080/",
          "height": 487
        },
        "id": "uvcEoNkHDrV2",
        "outputId": "e02b8549-a1e0-4e9f-ee1c-c44350fdc5ca"
      },
      "execution_count": 54,
      "outputs": [
        {
          "output_type": "execute_result",
          "data": {
            "text/plain": [
              "      longitude  latitude  housing_median_age  total_rooms  total_bedrooms  \\\n",
              "0       -122.05     37.37                27.0       3885.0           661.0   \n",
              "1       -118.30     34.26                43.0       1510.0           310.0   \n",
              "2       -117.81     33.78                27.0       3589.0           507.0   \n",
              "3       -118.36     33.82                28.0         67.0            15.0   \n",
              "4       -119.67     36.33                19.0       1241.0           244.0   \n",
              "...         ...       ...                 ...          ...             ...   \n",
              "2995    -119.86     34.42                23.0       1450.0           642.0   \n",
              "2996    -118.14     34.06                27.0       5257.0          1082.0   \n",
              "2997    -119.70     36.30                10.0        956.0           201.0   \n",
              "2998    -117.12     34.10                40.0         96.0            14.0   \n",
              "2999    -119.63     34.42                42.0       1765.0           263.0   \n",
              "\n",
              "      population  households  median_income  median_house_value  \n",
              "0         1537.0       606.0         6.6085            344700.0  \n",
              "1          809.0       277.0         3.5990            176500.0  \n",
              "2         1484.0       495.0         5.7934            270500.0  \n",
              "3           49.0        11.0         6.1359            330000.0  \n",
              "4          850.0       237.0         2.9375             81700.0  \n",
              "...          ...         ...            ...                 ...  \n",
              "2995      1258.0       607.0         1.1790            225000.0  \n",
              "2996      3496.0      1036.0         3.3906            237200.0  \n",
              "2997       693.0       220.0         2.2895             62000.0  \n",
              "2998        46.0        14.0         3.2708            162500.0  \n",
              "2999       753.0       260.0         8.5608            500001.0  \n",
              "\n",
              "[3000 rows x 9 columns]"
            ],
            "text/html": [
              "\n",
              "  <div id=\"df-fffbe6b1-00ca-4bb1-b7c5-8baf61f1a74e\">\n",
              "    <div class=\"colab-df-container\">\n",
              "      <div>\n",
              "<style scoped>\n",
              "    .dataframe tbody tr th:only-of-type {\n",
              "        vertical-align: middle;\n",
              "    }\n",
              "\n",
              "    .dataframe tbody tr th {\n",
              "        vertical-align: top;\n",
              "    }\n",
              "\n",
              "    .dataframe thead th {\n",
              "        text-align: right;\n",
              "    }\n",
              "</style>\n",
              "<table border=\"1\" class=\"dataframe\">\n",
              "  <thead>\n",
              "    <tr style=\"text-align: right;\">\n",
              "      <th></th>\n",
              "      <th>longitude</th>\n",
              "      <th>latitude</th>\n",
              "      <th>housing_median_age</th>\n",
              "      <th>total_rooms</th>\n",
              "      <th>total_bedrooms</th>\n",
              "      <th>population</th>\n",
              "      <th>households</th>\n",
              "      <th>median_income</th>\n",
              "      <th>median_house_value</th>\n",
              "    </tr>\n",
              "  </thead>\n",
              "  <tbody>\n",
              "    <tr>\n",
              "      <th>0</th>\n",
              "      <td>-122.05</td>\n",
              "      <td>37.37</td>\n",
              "      <td>27.0</td>\n",
              "      <td>3885.0</td>\n",
              "      <td>661.0</td>\n",
              "      <td>1537.0</td>\n",
              "      <td>606.0</td>\n",
              "      <td>6.6085</td>\n",
              "      <td>344700.0</td>\n",
              "    </tr>\n",
              "    <tr>\n",
              "      <th>1</th>\n",
              "      <td>-118.30</td>\n",
              "      <td>34.26</td>\n",
              "      <td>43.0</td>\n",
              "      <td>1510.0</td>\n",
              "      <td>310.0</td>\n",
              "      <td>809.0</td>\n",
              "      <td>277.0</td>\n",
              "      <td>3.5990</td>\n",
              "      <td>176500.0</td>\n",
              "    </tr>\n",
              "    <tr>\n",
              "      <th>2</th>\n",
              "      <td>-117.81</td>\n",
              "      <td>33.78</td>\n",
              "      <td>27.0</td>\n",
              "      <td>3589.0</td>\n",
              "      <td>507.0</td>\n",
              "      <td>1484.0</td>\n",
              "      <td>495.0</td>\n",
              "      <td>5.7934</td>\n",
              "      <td>270500.0</td>\n",
              "    </tr>\n",
              "    <tr>\n",
              "      <th>3</th>\n",
              "      <td>-118.36</td>\n",
              "      <td>33.82</td>\n",
              "      <td>28.0</td>\n",
              "      <td>67.0</td>\n",
              "      <td>15.0</td>\n",
              "      <td>49.0</td>\n",
              "      <td>11.0</td>\n",
              "      <td>6.1359</td>\n",
              "      <td>330000.0</td>\n",
              "    </tr>\n",
              "    <tr>\n",
              "      <th>4</th>\n",
              "      <td>-119.67</td>\n",
              "      <td>36.33</td>\n",
              "      <td>19.0</td>\n",
              "      <td>1241.0</td>\n",
              "      <td>244.0</td>\n",
              "      <td>850.0</td>\n",
              "      <td>237.0</td>\n",
              "      <td>2.9375</td>\n",
              "      <td>81700.0</td>\n",
              "    </tr>\n",
              "    <tr>\n",
              "      <th>...</th>\n",
              "      <td>...</td>\n",
              "      <td>...</td>\n",
              "      <td>...</td>\n",
              "      <td>...</td>\n",
              "      <td>...</td>\n",
              "      <td>...</td>\n",
              "      <td>...</td>\n",
              "      <td>...</td>\n",
              "      <td>...</td>\n",
              "    </tr>\n",
              "    <tr>\n",
              "      <th>2995</th>\n",
              "      <td>-119.86</td>\n",
              "      <td>34.42</td>\n",
              "      <td>23.0</td>\n",
              "      <td>1450.0</td>\n",
              "      <td>642.0</td>\n",
              "      <td>1258.0</td>\n",
              "      <td>607.0</td>\n",
              "      <td>1.1790</td>\n",
              "      <td>225000.0</td>\n",
              "    </tr>\n",
              "    <tr>\n",
              "      <th>2996</th>\n",
              "      <td>-118.14</td>\n",
              "      <td>34.06</td>\n",
              "      <td>27.0</td>\n",
              "      <td>5257.0</td>\n",
              "      <td>1082.0</td>\n",
              "      <td>3496.0</td>\n",
              "      <td>1036.0</td>\n",
              "      <td>3.3906</td>\n",
              "      <td>237200.0</td>\n",
              "    </tr>\n",
              "    <tr>\n",
              "      <th>2997</th>\n",
              "      <td>-119.70</td>\n",
              "      <td>36.30</td>\n",
              "      <td>10.0</td>\n",
              "      <td>956.0</td>\n",
              "      <td>201.0</td>\n",
              "      <td>693.0</td>\n",
              "      <td>220.0</td>\n",
              "      <td>2.2895</td>\n",
              "      <td>62000.0</td>\n",
              "    </tr>\n",
              "    <tr>\n",
              "      <th>2998</th>\n",
              "      <td>-117.12</td>\n",
              "      <td>34.10</td>\n",
              "      <td>40.0</td>\n",
              "      <td>96.0</td>\n",
              "      <td>14.0</td>\n",
              "      <td>46.0</td>\n",
              "      <td>14.0</td>\n",
              "      <td>3.2708</td>\n",
              "      <td>162500.0</td>\n",
              "    </tr>\n",
              "    <tr>\n",
              "      <th>2999</th>\n",
              "      <td>-119.63</td>\n",
              "      <td>34.42</td>\n",
              "      <td>42.0</td>\n",
              "      <td>1765.0</td>\n",
              "      <td>263.0</td>\n",
              "      <td>753.0</td>\n",
              "      <td>260.0</td>\n",
              "      <td>8.5608</td>\n",
              "      <td>500001.0</td>\n",
              "    </tr>\n",
              "  </tbody>\n",
              "</table>\n",
              "<p>3000 rows × 9 columns</p>\n",
              "</div>\n",
              "      <button class=\"colab-df-convert\" onclick=\"convertToInteractive('df-fffbe6b1-00ca-4bb1-b7c5-8baf61f1a74e')\"\n",
              "              title=\"Convert this dataframe to an interactive table.\"\n",
              "              style=\"display:none;\">\n",
              "        \n",
              "  <svg xmlns=\"http://www.w3.org/2000/svg\" height=\"24px\"viewBox=\"0 0 24 24\"\n",
              "       width=\"24px\">\n",
              "    <path d=\"M0 0h24v24H0V0z\" fill=\"none\"/>\n",
              "    <path d=\"M18.56 5.44l.94 2.06.94-2.06 2.06-.94-2.06-.94-.94-2.06-.94 2.06-2.06.94zm-11 1L8.5 8.5l.94-2.06 2.06-.94-2.06-.94L8.5 2.5l-.94 2.06-2.06.94zm10 10l.94 2.06.94-2.06 2.06-.94-2.06-.94-.94-2.06-.94 2.06-2.06.94z\"/><path d=\"M17.41 7.96l-1.37-1.37c-.4-.4-.92-.59-1.43-.59-.52 0-1.04.2-1.43.59L10.3 9.45l-7.72 7.72c-.78.78-.78 2.05 0 2.83L4 21.41c.39.39.9.59 1.41.59.51 0 1.02-.2 1.41-.59l7.78-7.78 2.81-2.81c.8-.78.8-2.07 0-2.86zM5.41 20L4 18.59l7.72-7.72 1.47 1.35L5.41 20z\"/>\n",
              "  </svg>\n",
              "      </button>\n",
              "      \n",
              "  <style>\n",
              "    .colab-df-container {\n",
              "      display:flex;\n",
              "      flex-wrap:wrap;\n",
              "      gap: 12px;\n",
              "    }\n",
              "\n",
              "    .colab-df-convert {\n",
              "      background-color: #E8F0FE;\n",
              "      border: none;\n",
              "      border-radius: 50%;\n",
              "      cursor: pointer;\n",
              "      display: none;\n",
              "      fill: #1967D2;\n",
              "      height: 32px;\n",
              "      padding: 0 0 0 0;\n",
              "      width: 32px;\n",
              "    }\n",
              "\n",
              "    .colab-df-convert:hover {\n",
              "      background-color: #E2EBFA;\n",
              "      box-shadow: 0px 1px 2px rgba(60, 64, 67, 0.3), 0px 1px 3px 1px rgba(60, 64, 67, 0.15);\n",
              "      fill: #174EA6;\n",
              "    }\n",
              "\n",
              "    [theme=dark] .colab-df-convert {\n",
              "      background-color: #3B4455;\n",
              "      fill: #D2E3FC;\n",
              "    }\n",
              "\n",
              "    [theme=dark] .colab-df-convert:hover {\n",
              "      background-color: #434B5C;\n",
              "      box-shadow: 0px 1px 3px 1px rgba(0, 0, 0, 0.15);\n",
              "      filter: drop-shadow(0px 1px 2px rgba(0, 0, 0, 0.3));\n",
              "      fill: #FFFFFF;\n",
              "    }\n",
              "  </style>\n",
              "\n",
              "      <script>\n",
              "        const buttonEl =\n",
              "          document.querySelector('#df-fffbe6b1-00ca-4bb1-b7c5-8baf61f1a74e button.colab-df-convert');\n",
              "        buttonEl.style.display =\n",
              "          google.colab.kernel.accessAllowed ? 'block' : 'none';\n",
              "\n",
              "        async function convertToInteractive(key) {\n",
              "          const element = document.querySelector('#df-fffbe6b1-00ca-4bb1-b7c5-8baf61f1a74e');\n",
              "          const dataTable =\n",
              "            await google.colab.kernel.invokeFunction('convertToInteractive',\n",
              "                                                     [key], {});\n",
              "          if (!dataTable) return;\n",
              "\n",
              "          const docLinkHtml = 'Like what you see? Visit the ' +\n",
              "            '<a target=\"_blank\" href=https://colab.research.google.com/notebooks/data_table.ipynb>data table notebook</a>'\n",
              "            + ' to learn more about interactive tables.';\n",
              "          element.innerHTML = '';\n",
              "          dataTable['output_type'] = 'display_data';\n",
              "          await google.colab.output.renderOutput(dataTable, element);\n",
              "          const docLink = document.createElement('div');\n",
              "          docLink.innerHTML = docLinkHtml;\n",
              "          element.appendChild(docLink);\n",
              "        }\n",
              "      </script>\n",
              "    </div>\n",
              "  </div>\n",
              "  "
            ]
          },
          "metadata": {},
          "execution_count": 54
        }
      ]
    },
    {
      "cell_type": "code",
      "source": [
        "lt = df['latitude']\n",
        "print(type(lt))\n",
        "lt"
      ],
      "metadata": {
        "colab": {
          "base_uri": "https://localhost:8080/"
        },
        "id": "bbdZGiOODcDC",
        "outputId": "1b41810a-161f-4d0f-a6ac-0aa3ef5dee26"
      },
      "execution_count": 53,
      "outputs": [
        {
          "output_type": "stream",
          "name": "stdout",
          "text": [
            "<class 'pandas.core.series.Series'>\n"
          ]
        },
        {
          "output_type": "execute_result",
          "data": {
            "text/plain": [
              "0       37.37\n",
              "1       34.26\n",
              "2       33.78\n",
              "3       33.82\n",
              "4       36.33\n",
              "        ...  \n",
              "2995    34.42\n",
              "2996    34.06\n",
              "2997    36.30\n",
              "2998    34.10\n",
              "2999    34.42\n",
              "Name: latitude, Length: 3000, dtype: float64"
            ]
          },
          "metadata": {},
          "execution_count": 53
        }
      ]
    },
    {
      "cell_type": "code",
      "source": [
        "t_rd = df[['total_rooms','total_bedrooms']]\n",
        "print(type(t_rd))\n",
        "t_rd"
      ],
      "metadata": {
        "colab": {
          "base_uri": "https://localhost:8080/",
          "height": 442
        },
        "id": "u60BsYLBDqTy",
        "outputId": "d4c27d3b-d9c7-4e0f-dd69-2a87fd3893f3"
      },
      "execution_count": 58,
      "outputs": [
        {
          "output_type": "stream",
          "name": "stdout",
          "text": [
            "<class 'pandas.core.frame.DataFrame'>\n"
          ]
        },
        {
          "output_type": "execute_result",
          "data": {
            "text/plain": [
              "      total_rooms  total_bedrooms\n",
              "0          3885.0           661.0\n",
              "1          1510.0           310.0\n",
              "2          3589.0           507.0\n",
              "3            67.0            15.0\n",
              "4          1241.0           244.0\n",
              "...           ...             ...\n",
              "2995       1450.0           642.0\n",
              "2996       5257.0          1082.0\n",
              "2997        956.0           201.0\n",
              "2998         96.0            14.0\n",
              "2999       1765.0           263.0\n",
              "\n",
              "[3000 rows x 2 columns]"
            ],
            "text/html": [
              "\n",
              "  <div id=\"df-66473f1e-bc5b-4bcb-9f12-a4abb8a33677\">\n",
              "    <div class=\"colab-df-container\">\n",
              "      <div>\n",
              "<style scoped>\n",
              "    .dataframe tbody tr th:only-of-type {\n",
              "        vertical-align: middle;\n",
              "    }\n",
              "\n",
              "    .dataframe tbody tr th {\n",
              "        vertical-align: top;\n",
              "    }\n",
              "\n",
              "    .dataframe thead th {\n",
              "        text-align: right;\n",
              "    }\n",
              "</style>\n",
              "<table border=\"1\" class=\"dataframe\">\n",
              "  <thead>\n",
              "    <tr style=\"text-align: right;\">\n",
              "      <th></th>\n",
              "      <th>total_rooms</th>\n",
              "      <th>total_bedrooms</th>\n",
              "    </tr>\n",
              "  </thead>\n",
              "  <tbody>\n",
              "    <tr>\n",
              "      <th>0</th>\n",
              "      <td>3885.0</td>\n",
              "      <td>661.0</td>\n",
              "    </tr>\n",
              "    <tr>\n",
              "      <th>1</th>\n",
              "      <td>1510.0</td>\n",
              "      <td>310.0</td>\n",
              "    </tr>\n",
              "    <tr>\n",
              "      <th>2</th>\n",
              "      <td>3589.0</td>\n",
              "      <td>507.0</td>\n",
              "    </tr>\n",
              "    <tr>\n",
              "      <th>3</th>\n",
              "      <td>67.0</td>\n",
              "      <td>15.0</td>\n",
              "    </tr>\n",
              "    <tr>\n",
              "      <th>4</th>\n",
              "      <td>1241.0</td>\n",
              "      <td>244.0</td>\n",
              "    </tr>\n",
              "    <tr>\n",
              "      <th>...</th>\n",
              "      <td>...</td>\n",
              "      <td>...</td>\n",
              "    </tr>\n",
              "    <tr>\n",
              "      <th>2995</th>\n",
              "      <td>1450.0</td>\n",
              "      <td>642.0</td>\n",
              "    </tr>\n",
              "    <tr>\n",
              "      <th>2996</th>\n",
              "      <td>5257.0</td>\n",
              "      <td>1082.0</td>\n",
              "    </tr>\n",
              "    <tr>\n",
              "      <th>2997</th>\n",
              "      <td>956.0</td>\n",
              "      <td>201.0</td>\n",
              "    </tr>\n",
              "    <tr>\n",
              "      <th>2998</th>\n",
              "      <td>96.0</td>\n",
              "      <td>14.0</td>\n",
              "    </tr>\n",
              "    <tr>\n",
              "      <th>2999</th>\n",
              "      <td>1765.0</td>\n",
              "      <td>263.0</td>\n",
              "    </tr>\n",
              "  </tbody>\n",
              "</table>\n",
              "<p>3000 rows × 2 columns</p>\n",
              "</div>\n",
              "      <button class=\"colab-df-convert\" onclick=\"convertToInteractive('df-66473f1e-bc5b-4bcb-9f12-a4abb8a33677')\"\n",
              "              title=\"Convert this dataframe to an interactive table.\"\n",
              "              style=\"display:none;\">\n",
              "        \n",
              "  <svg xmlns=\"http://www.w3.org/2000/svg\" height=\"24px\"viewBox=\"0 0 24 24\"\n",
              "       width=\"24px\">\n",
              "    <path d=\"M0 0h24v24H0V0z\" fill=\"none\"/>\n",
              "    <path d=\"M18.56 5.44l.94 2.06.94-2.06 2.06-.94-2.06-.94-.94-2.06-.94 2.06-2.06.94zm-11 1L8.5 8.5l.94-2.06 2.06-.94-2.06-.94L8.5 2.5l-.94 2.06-2.06.94zm10 10l.94 2.06.94-2.06 2.06-.94-2.06-.94-.94-2.06-.94 2.06-2.06.94z\"/><path d=\"M17.41 7.96l-1.37-1.37c-.4-.4-.92-.59-1.43-.59-.52 0-1.04.2-1.43.59L10.3 9.45l-7.72 7.72c-.78.78-.78 2.05 0 2.83L4 21.41c.39.39.9.59 1.41.59.51 0 1.02-.2 1.41-.59l7.78-7.78 2.81-2.81c.8-.78.8-2.07 0-2.86zM5.41 20L4 18.59l7.72-7.72 1.47 1.35L5.41 20z\"/>\n",
              "  </svg>\n",
              "      </button>\n",
              "      \n",
              "  <style>\n",
              "    .colab-df-container {\n",
              "      display:flex;\n",
              "      flex-wrap:wrap;\n",
              "      gap: 12px;\n",
              "    }\n",
              "\n",
              "    .colab-df-convert {\n",
              "      background-color: #E8F0FE;\n",
              "      border: none;\n",
              "      border-radius: 50%;\n",
              "      cursor: pointer;\n",
              "      display: none;\n",
              "      fill: #1967D2;\n",
              "      height: 32px;\n",
              "      padding: 0 0 0 0;\n",
              "      width: 32px;\n",
              "    }\n",
              "\n",
              "    .colab-df-convert:hover {\n",
              "      background-color: #E2EBFA;\n",
              "      box-shadow: 0px 1px 2px rgba(60, 64, 67, 0.3), 0px 1px 3px 1px rgba(60, 64, 67, 0.15);\n",
              "      fill: #174EA6;\n",
              "    }\n",
              "\n",
              "    [theme=dark] .colab-df-convert {\n",
              "      background-color: #3B4455;\n",
              "      fill: #D2E3FC;\n",
              "    }\n",
              "\n",
              "    [theme=dark] .colab-df-convert:hover {\n",
              "      background-color: #434B5C;\n",
              "      box-shadow: 0px 1px 3px 1px rgba(0, 0, 0, 0.15);\n",
              "      filter: drop-shadow(0px 1px 2px rgba(0, 0, 0, 0.3));\n",
              "      fill: #FFFFFF;\n",
              "    }\n",
              "  </style>\n",
              "\n",
              "      <script>\n",
              "        const buttonEl =\n",
              "          document.querySelector('#df-66473f1e-bc5b-4bcb-9f12-a4abb8a33677 button.colab-df-convert');\n",
              "        buttonEl.style.display =\n",
              "          google.colab.kernel.accessAllowed ? 'block' : 'none';\n",
              "\n",
              "        async function convertToInteractive(key) {\n",
              "          const element = document.querySelector('#df-66473f1e-bc5b-4bcb-9f12-a4abb8a33677');\n",
              "          const dataTable =\n",
              "            await google.colab.kernel.invokeFunction('convertToInteractive',\n",
              "                                                     [key], {});\n",
              "          if (!dataTable) return;\n",
              "\n",
              "          const docLinkHtml = 'Like what you see? Visit the ' +\n",
              "            '<a target=\"_blank\" href=https://colab.research.google.com/notebooks/data_table.ipynb>data table notebook</a>'\n",
              "            + ' to learn more about interactive tables.';\n",
              "          element.innerHTML = '';\n",
              "          dataTable['output_type'] = 'display_data';\n",
              "          await google.colab.output.renderOutput(dataTable, element);\n",
              "          const docLink = document.createElement('div');\n",
              "          docLink.innerHTML = docLinkHtml;\n",
              "          element.appendChild(docLink);\n",
              "        }\n",
              "      </script>\n",
              "    </div>\n",
              "  </div>\n",
              "  "
            ]
          },
          "metadata": {},
          "execution_count": 58
        }
      ]
    },
    {
      "cell_type": "code",
      "source": [
        "rd_arr = t_rd.to_numpy()\n",
        "print(type(rd_arr))\n",
        "rd_arr"
      ],
      "metadata": {
        "colab": {
          "base_uri": "https://localhost:8080/"
        },
        "id": "5LeRodN_EIOm",
        "outputId": "7abc8da2-0b8b-4ea4-dee8-3f284f9a80b2"
      },
      "execution_count": 60,
      "outputs": [
        {
          "output_type": "stream",
          "name": "stdout",
          "text": [
            "<class 'numpy.ndarray'>\n"
          ]
        },
        {
          "output_type": "execute_result",
          "data": {
            "text/plain": [
              "array([[3885.,  661.],\n",
              "       [1510.,  310.],\n",
              "       [3589.,  507.],\n",
              "       ...,\n",
              "       [ 956.,  201.],\n",
              "       [  96.,   14.],\n",
              "       [1765.,  263.]])"
            ]
          },
          "metadata": {},
          "execution_count": 60
        }
      ]
    },
    {
      "cell_type": "code",
      "source": [
        "ls = rd_arr.tolist()\n",
        "print(type(ls))\n",
        "ls"
      ],
      "metadata": {
        "colab": {
          "base_uri": "https://localhost:8080/"
        },
        "id": "ls2LsAjuEgNM",
        "outputId": "dfb3b48c-e076-4f7b-ffea-d95ea737e0a6"
      },
      "execution_count": 61,
      "outputs": [
        {
          "output_type": "stream",
          "name": "stdout",
          "text": [
            "<class 'list'>\n"
          ]
        },
        {
          "output_type": "execute_result",
          "data": {
            "text/plain": [
              "[[3885.0, 661.0],\n",
              " [1510.0, 310.0],\n",
              " [3589.0, 507.0],\n",
              " [67.0, 15.0],\n",
              " [1241.0, 244.0],\n",
              " [1018.0, 213.0],\n",
              " [1009.0, 225.0],\n",
              " [2310.0, 471.0],\n",
              " [3080.0, 617.0],\n",
              " [2402.0, 632.0],\n",
              " [972.0, 249.0],\n",
              " [736.0, 166.0],\n",
              " [1089.0, 182.0],\n",
              " [3936.0, 694.0],\n",
              " [2097.0, 325.0],\n",
              " [161.0, 40.0],\n",
              " [570.0, 123.0],\n",
              " [3077.0, 607.0],\n",
              " [1590.0, 196.0],\n",
              " [8814.0, 1307.0],\n",
              " [1445.0, 256.0],\n",
              " [1775.0, 296.0],\n",
              " [2994.0, 543.0],\n",
              " [2021.0, 528.0],\n",
              " [6131.0, 1040.0],\n",
              " [1401.0, 218.0],\n",
              " [3587.0, 1030.0],\n",
              " [2612.0, 418.0],\n",
              " [4845.0, 1609.0],\n",
              " [3078.0, 954.0],\n",
              " [1195.0, 220.0],\n",
              " [1617.0, 493.0],\n",
              " [3442.0, 705.0],\n",
              " [16181.0, 2971.0],\n",
              " [1067.0, 170.0],\n",
              " [2886.0, 726.0],\n",
              " [1560.0, 451.0],\n",
              " [1478.0, 251.0],\n",
              " [894.0, 203.0],\n",
              " [5785.0, 1035.0],\n",
              " [1562.0, 275.0],\n",
              " [2770.0, 406.0],\n",
              " [1980.0, 226.0],\n",
              " [848.0, 186.0],\n",
              " [1308.0, 286.0],\n",
              " [9998.0, 1874.0],\n",
              " [1212.0, 251.0],\n",
              " [1782.0, 338.0],\n",
              " [1649.0, 369.0],\n",
              " [7399.0, 1698.0],\n",
              " [9849.0, 1887.0],\n",
              " [554.0, 121.0],\n",
              " [2003.0, 500.0],\n",
              " [1589.0, 380.0],\n",
              " [1726.0, 333.0],\n",
              " [1287.0, 233.0],\n",
              " [3054.0, 528.0],\n",
              " [3038.0, 468.0],\n",
              " [1449.0, 291.0],\n",
              " [2650.0, 600.0],\n",
              " [805.0, 140.0],\n",
              " [1747.0, 317.0],\n",
              " [1062.0, 305.0],\n",
              " [1581.0, 299.0],\n",
              " [2830.0, 399.0],\n",
              " [3966.0, 768.0],\n",
              " [6473.0, 1212.0],\n",
              " [2290.0, 319.0],\n",
              " [3830.0, 750.0],\n",
              " [1691.0, 367.0],\n",
              " [2125.0, 382.0],\n",
              " [1582.0, 544.0],\n",
              " [1892.0, 442.0],\n",
              " [2400.0, 419.0],\n",
              " [1421.0, 291.0],\n",
              " [1186.0, 225.0],\n",
              " [2879.0, 631.0],\n",
              " [3051.0, 694.0],\n",
              " [6217.0, 858.0],\n",
              " [7274.0, 1002.0],\n",
              " [860.0, 130.0],\n",
              " [968.0, 384.0],\n",
              " [1583.0, 324.0],\n",
              " [7195.0, 1416.0],\n",
              " [1712.0, 509.0],\n",
              " [2875.0, 560.0],\n",
              " [1191.0, 190.0],\n",
              " [2769.0, 631.0],\n",
              " [1564.0, 345.0],\n",
              " [1619.0, 362.0],\n",
              " [1125.0, 341.0],\n",
              " [1013.0, 169.0],\n",
              " [1453.0, 270.0],\n",
              " [6755.0, 1017.0],\n",
              " [2935.0, 473.0],\n",
              " [1694.0, 312.0],\n",
              " [1745.0, 348.0],\n",
              " [1748.0, 322.0],\n",
              " [3118.0, 500.0],\n",
              " [1375.0, 457.0],\n",
              " [2120.0, 483.0],\n",
              " [5963.0, 1344.0],\n",
              " [3114.0, 430.0],\n",
              " [2281.0, 506.0],\n",
              " [2016.0, 505.0],\n",
              " [1590.0, 422.0],\n",
              " [3236.0, 588.0],\n",
              " [2307.0, 386.0],\n",
              " [1418.0, 439.0],\n",
              " [1514.0, 314.0],\n",
              " [1698.0, 297.0],\n",
              " [2141.0, 438.0],\n",
              " [2489.0, 481.0],\n",
              " [1606.0, 318.0],\n",
              " [1573.0, 471.0],\n",
              " [564.0, 96.0],\n",
              " [2874.0, 592.0],\n",
              " [1851.0, 238.0],\n",
              " [3540.0, 453.0],\n",
              " [324.0, 70.0],\n",
              " [4228.0, 1006.0],\n",
              " [2299.0, 579.0],\n",
              " [2949.0, 1003.0],\n",
              " [3412.0, 827.0],\n",
              " [4343.0, 515.0],\n",
              " [1829.0, 391.0],\n",
              " [2799.0, 618.0],\n",
              " [2615.0, 368.0],\n",
              " [2844.0, 623.0],\n",
              " [2513.0, 340.0],\n",
              " [1072.0, 331.0],\n",
              " [2742.0, 756.0],\n",
              " [3426.0, 769.0],\n",
              " [1164.0, 248.0],\n",
              " [2233.0, 563.0],\n",
              " [3562.0, 391.0],\n",
              " [2734.0, 501.0],\n",
              " [2025.0, 618.0],\n",
              " [3041.0, 677.0],\n",
              " [3298.0, 460.0],\n",
              " [7184.0, 1516.0],\n",
              " [1678.0, 606.0],\n",
              " [5661.0, 1209.0],\n",
              " [646.0, 134.0],\n",
              " [1554.0, 242.0],\n",
              " [1802.0, 459.0],\n",
              " [2415.0, 653.0],\n",
              " [1740.0, 351.0],\n",
              " [1341.0, 233.0],\n",
              " [2857.0, 662.0],\n",
              " [1140.0, 310.0],\n",
              " [1743.0, 349.0],\n",
              " [5799.0, 842.0],\n",
              " [3248.0, 847.0],\n",
              " [2077.0, 383.0],\n",
              " [3907.0, 671.0],\n",
              " [855.0, 284.0],\n",
              " [1729.0, 319.0],\n",
              " [3065.0, 658.0],\n",
              " [5743.0, 773.0],\n",
              " [3583.0, 642.0],\n",
              " [5192.0, 658.0],\n",
              " [1010.0, 350.0],\n",
              " [2034.0, 444.0],\n",
              " [4065.0, 841.0],\n",
              " [1481.0, 265.0],\n",
              " [2904.0, 515.0],\n",
              " [1906.0, 327.0],\n",
              " [1668.0, 307.0],\n",
              " [2493.0, 693.0],\n",
              " [1764.0, 397.0],\n",
              " [4519.0, 1081.0],\n",
              " [1108.0, 284.0],\n",
              " [2159.0, 416.0],\n",
              " [2010.0, 411.0],\n",
              " [2757.0, 713.0],\n",
              " [3449.0, 522.0],\n",
              " [2598.0, 443.0],\n",
              " [561.0, 109.0],\n",
              " [2387.0, 748.0],\n",
              " [1019.0, 191.0],\n",
              " [1461.0, 302.0],\n",
              " [6164.0, 1175.0],\n",
              " [2630.0, 446.0],\n",
              " [4563.0, 1187.0],\n",
              " [515.0, 229.0],\n",
              " [2128.0, 520.0],\n",
              " [796.0, 227.0],\n",
              " [2674.0, 428.0],\n",
              " [818.0, 269.0],\n",
              " [906.0, 187.0],\n",
              " [3225.0, 555.0],\n",
              " [1739.0, 370.0],\n",
              " [1169.0, 242.0],\n",
              " [2045.0, 398.0],\n",
              " [2204.0, 518.0],\n",
              " [1931.0, 445.0],\n",
              " [1276.0, 314.0],\n",
              " [2112.0, 363.0],\n",
              " [3262.0, 588.0],\n",
              " [767.0, 206.0],\n",
              " [1588.0, 333.0],\n",
              " [6445.0, 1839.0],\n",
              " [1189.0, 281.0],\n",
              " [787.0, 420.0],\n",
              " [667.0, 140.0],\n",
              " [1365.0, 276.0],\n",
              " [1892.0, 428.0],\n",
              " [2026.0, 548.0],\n",
              " [6379.0, 1636.0],\n",
              " [1115.0, 250.0],\n",
              " [5544.0, 1068.0],\n",
              " [4417.0, 740.0],\n",
              " [2053.0, 465.0],\n",
              " [1287.0, 224.0],\n",
              " [4576.0, 814.0],\n",
              " [5487.0, 1024.0],\n",
              " [3561.0, 691.0],\n",
              " [1066.0, 190.0],\n",
              " [2465.0, 585.0],\n",
              " [142.0, 31.0],\n",
              " [3166.0, 607.0],\n",
              " [1531.0, 357.0],\n",
              " [2113.0, 398.0],\n",
              " [172.0, 38.0],\n",
              " [2791.0, 496.0],\n",
              " [1194.0, 297.0],\n",
              " [736.0, 232.0],\n",
              " [1159.0, 209.0],\n",
              " [3602.0, 738.0],\n",
              " [3077.0, 465.0],\n",
              " [2936.0, 517.0],\n",
              " [2042.0, 378.0],\n",
              " [1165.0, 358.0],\n",
              " [4304.0, 851.0],\n",
              " [2534.0, 554.0],\n",
              " [1464.0, 211.0],\n",
              " [1932.0, 552.0],\n",
              " [768.0, 162.0],\n",
              " [3144.0, 694.0],\n",
              " [3835.0, 727.0],\n",
              " [1787.0, 236.0],\n",
              " [2235.0, 545.0],\n",
              " [1492.0, 284.0],\n",
              " [1183.0, 363.0],\n",
              " [3005.0, 771.0],\n",
              " [4013.0, 903.0],\n",
              " [9404.0, 1827.0],\n",
              " [1526.0, 339.0],\n",
              " [5876.0, 1406.0],\n",
              " [3280.0, 933.0],\n",
              " [1751.0, 438.0],\n",
              " [6055.0, 1004.0],\n",
              " [2864.0, 571.0],\n",
              " [4123.0, 874.0],\n",
              " [1931.0, 261.0],\n",
              " [4496.0, 756.0],\n",
              " [2762.0, 410.0],\n",
              " [1540.0, 364.0],\n",
              " [1607.0, 331.0],\n",
              " [1695.0, 290.0],\n",
              " [1212.0, 222.0],\n",
              " [2036.0, 414.0],\n",
              " [2587.0, 416.0],\n",
              " [681.0, 120.0],\n",
              " [2013.0, 568.0],\n",
              " [1482.0, 266.0],\n",
              " [1230.0, 262.0],\n",
              " [1934.0, 511.0],\n",
              " [674.0, 242.0],\n",
              " [6861.0, 1820.0],\n",
              " [2294.0, 411.0],\n",
              " [2521.0, 484.0],\n",
              " [2034.0, 423.0],\n",
              " [1918.0, 339.0],\n",
              " [1411.0, 292.0],\n",
              " [2290.0, 662.0],\n",
              " [2059.0, 462.0],\n",
              " [1160.0, 274.0],\n",
              " [5267.0, 1253.0],\n",
              " [1965.0, 354.0],\n",
              " [2456.0, 495.0],\n",
              " [3858.0, 1062.0],\n",
              " [2836.0, 490.0],\n",
              " [939.0, 176.0],\n",
              " [1314.0, 229.0],\n",
              " [2094.0, 316.0],\n",
              " [3771.0, 741.0],\n",
              " [2066.0, 450.0],\n",
              " [1439.0, 327.0],\n",
              " [2754.0, 477.0],\n",
              " [4216.0, 948.0],\n",
              " [24121.0, 4522.0],\n",
              " [1888.0, 429.0],\n",
              " [559.0, 139.0],\n",
              " [6842.0, 1512.0],\n",
              " [2634.0, 412.0],\n",
              " [225.0, 72.0],\n",
              " [3853.0, 541.0],\n",
              " [2854.0, 528.0],\n",
              " [3184.0, 716.0],\n",
              " [1510.0, 410.0],\n",
              " [2065.0, 532.0],\n",
              " [2339.0, 436.0],\n",
              " [1913.0, 486.0],\n",
              " [2183.0, 636.0],\n",
              " [1735.0, 347.0],\n",
              " [6016.0, 1404.0],\n",
              " [3863.0, 537.0],\n",
              " [1832.0, 539.0],\n",
              " [1595.0, 314.0],\n",
              " [1501.0, 299.0],\n",
              " [2807.0, 529.0],\n",
              " [3543.0, 1055.0],\n",
              " [1778.0, 320.0],\n",
              " [5205.0, 859.0],\n",
              " [2009.0, 469.0],\n",
              " [1436.0, 374.0],\n",
              " [2387.0, 570.0],\n",
              " [1260.0, 222.0],\n",
              " [2403.0, 516.0],\n",
              " [20354.0, 3493.0],\n",
              " [2789.0, 648.0],\n",
              " [6474.0, 1467.0],\n",
              " [1383.0, 459.0],\n",
              " [978.0, 202.0],\n",
              " [3320.0, 713.0],\n",
              " [2280.0, 610.0],\n",
              " [3301.0, 593.0],\n",
              " [2846.0, 516.0],\n",
              " [1477.0, 264.0],\n",
              " [1347.0, 282.0],\n",
              " [1563.0, 306.0],\n",
              " [1555.0, 369.0],\n",
              " [1179.0, 268.0],\n",
              " [2481.0, 586.0],\n",
              " [8561.0, 1411.0],\n",
              " [2474.0, 472.0],\n",
              " [1889.0, 407.0],\n",
              " [3813.0, 871.0],\n",
              " [1098.0, 317.0],\n",
              " [676.0, 216.0],\n",
              " [1081.0, 205.0],\n",
              " [1425.0, 317.0],\n",
              " [837.0, 213.0],\n",
              " [2144.0, 477.0],\n",
              " [2715.0, 581.0],\n",
              " [1565.0, 271.0],\n",
              " [2692.0, 477.0],\n",
              " [4120.0, 1065.0],\n",
              " [880.0, 154.0],\n",
              " [4105.0, 950.0],\n",
              " [2718.0, 438.0],\n",
              " [404.0, 96.0],\n",
              " [1613.0, 428.0],\n",
              " [4244.0, 595.0],\n",
              " [2127.0, 358.0],\n",
              " [4179.0, 784.0],\n",
              " [1922.0, 489.0],\n",
              " [1808.0, 315.0],\n",
              " [2589.0, 482.0],\n",
              " [1883.0, 419.0],\n",
              " [634.0, 152.0],\n",
              " [2261.0, 579.0],\n",
              " [505.0, 216.0],\n",
              " [1730.0, 460.0],\n",
              " [1821.0, 360.0],\n",
              " [2625.0, 673.0],\n",
              " [552.0, 161.0],\n",
              " [2259.0, 417.0],\n",
              " [1404.0, 379.0],\n",
              " [3553.0, 1060.0],\n",
              " [4670.0, 1185.0],\n",
              " [1731.0, 435.0],\n",
              " [305.0, 72.0],\n",
              " [1834.0, 390.0],\n",
              " [2892.0, 685.0],\n",
              " [1034.0, 319.0],\n",
              " [2668.0, 528.0],\n",
              " [2843.0, 652.0],\n",
              " [3181.0, 714.0],\n",
              " [5688.0, 930.0],\n",
              " [2553.0, 400.0],\n",
              " [913.0, 265.0],\n",
              " [2038.0, 629.0],\n",
              " [1417.0, 589.0],\n",
              " [1482.0, 345.0],\n",
              " [2708.0, 460.0],\n",
              " [1395.0, 373.0],\n",
              " [1819.0, 245.0],\n",
              " [721.0, 165.0],\n",
              " [2163.0, 470.0],\n",
              " [5287.0, 1048.0],\n",
              " [1089.0, 240.0],\n",
              " [2666.0, 450.0],\n",
              " [2554.0, 540.0],\n",
              " [2630.0, 617.0],\n",
              " [2894.0, 395.0],\n",
              " [1813.0, 410.0],\n",
              " [4915.0, 725.0],\n",
              " [1984.0, 379.0],\n",
              " [2693.0, 478.0],\n",
              " [3478.0, 730.0],\n",
              " [2613.0, 476.0],\n",
              " [2001.0, 302.0],\n",
              " [12779.0, 2441.0],\n",
              " [1552.0, 388.0],\n",
              " [1147.0, 243.0],\n",
              " [1907.0, 544.0],\n",
              " [3548.0, 956.0],\n",
              " [215.0, 87.0],\n",
              " [1826.0, 300.0],\n",
              " [1605.0, 314.0],\n",
              " [5919.0, 1278.0],\n",
              " [2199.0, 609.0],\n",
              " [1057.0, 276.0],\n",
              " [639.0, 179.0],\n",
              " [3306.0, 1025.0],\n",
              " [4289.0, 682.0],\n",
              " [1547.0, 372.0],\n",
              " [2063.0, 484.0],\n",
              " [2420.0, 579.0],\n",
              " [1606.0, 289.0],\n",
              " [4292.0, 1075.0],\n",
              " [284.0, 104.0],\n",
              " [1508.0, 263.0],\n",
              " [7000.0, 1185.0],\n",
              " [6203.0, 798.0],\n",
              " [1465.0, 306.0],\n",
              " [5762.0, 1115.0],\n",
              " [1772.0, 332.0],\n",
              " [1922.0, 339.0],\n",
              " [1485.0, 236.0],\n",
              " [2755.0, 519.0],\n",
              " [677.0, 370.0],\n",
              " [1564.0, 298.0],\n",
              " [1653.0, 325.0],\n",
              " [963.0, 216.0],\n",
              " [984.0, 176.0],\n",
              " [2477.0, 458.0],\n",
              " [2196.0, 486.0],\n",
              " [2750.0, 664.0],\n",
              " [2182.0, 406.0],\n",
              " [4460.0, 930.0],\n",
              " [3445.0, 661.0],\n",
              " [4742.0, 775.0],\n",
              " [4050.0, 745.0],\n",
              " [4418.0, 704.0],\n",
              " [1092.0, 302.0],\n",
              " [593.0, 137.0],\n",
              " [2869.0, 567.0],\n",
              " [3677.0, 627.0],\n",
              " [2386.0, 396.0],\n",
              " [2795.0, 496.0],\n",
              " [1183.0, 196.0],\n",
              " [944.0, 200.0],\n",
              " [2394.0, 568.0],\n",
              " [2419.0, 437.0],\n",
              " [1030.0, 161.0],\n",
              " [1814.0, 320.0],\n",
              " [2034.0, 470.0],\n",
              " [3628.0, 546.0],\n",
              " [2520.0, 726.0],\n",
              " [1047.0, 227.0],\n",
              " [2231.0, 421.0],\n",
              " [5096.0, 1011.0],\n",
              " [1386.0, 260.0],\n",
              " [1675.0, 373.0],\n",
              " [2472.0, 408.0],\n",
              " [698.0, 232.0],\n",
              " [2170.0, 430.0],\n",
              " [5108.0, 1510.0],\n",
              " [1438.0, 348.0],\n",
              " [3057.0, 510.0],\n",
              " [2577.0, 360.0],\n",
              " [1546.0, 287.0],\n",
              " [1844.0, 382.0],\n",
              " [3762.0, 1281.0],\n",
              " [1425.0, 438.0],\n",
              " [1382.0, 327.0],\n",
              " [3998.0, 744.0],\n",
              " [2089.0, 303.0],\n",
              " [954.0, 233.0],\n",
              " [414.0, 86.0],\n",
              " [1425.0, 283.0],\n",
              " [2197.0, 369.0],\n",
              " [1345.0, 230.0],\n",
              " [872.0, 203.0],\n",
              " [961.0, 199.0],\n",
              " [1531.0, 278.0],\n",
              " [1222.0, 282.0],\n",
              " [1337.0, 187.0],\n",
              " [1664.0, 292.0],\n",
              " [1977.0, 264.0],\n",
              " [5764.0, 1006.0],\n",
              " [158.0, 43.0],\n",
              " [3079.0, 558.0],\n",
              " [1235.0, 385.0],\n",
              " [1968.0, 472.0],\n",
              " [1744.0, 536.0],\n",
              " [3053.0, 635.0],\n",
              " [2436.0, 612.0],\n",
              " [2075.0, 262.0],\n",
              " [5377.0, 1005.0],\n",
              " [2101.0, 514.0],\n",
              " [762.0, 147.0],\n",
              " [2139.0, 260.0],\n",
              " [3257.0, 752.0],\n",
              " [1986.0, 472.0],\n",
              " [3823.0, 584.0],\n",
              " [3353.0, 544.0],\n",
              " [1746.0, 447.0],\n",
              " [1310.0, 364.0],\n",
              " [2077.0, 564.0],\n",
              " [2745.0, 782.0],\n",
              " [2970.0, 547.0],\n",
              " [1750.0, 372.0],\n",
              " [6108.0, 1130.0],\n",
              " [1771.0, 378.0],\n",
              " [114.0, 26.0],\n",
              " [1587.0, 268.0],\n",
              " [2102.0, 358.0],\n",
              " [1339.0, 328.0],\n",
              " [7446.0, 1979.0],\n",
              " [1005.0, 314.0],\n",
              " [1651.0, 309.0],\n",
              " [4507.0, 751.0],\n",
              " [4501.0, 832.0],\n",
              " [2311.0, 536.0],\n",
              " [1174.0, 249.0],\n",
              " [1777.0, 513.0],\n",
              " [2898.0, 335.0],\n",
              " [1206.0, 256.0],\n",
              " [3616.0, 631.0],\n",
              " [1462.0, 241.0],\n",
              " [1503.0, 298.0],\n",
              " [3404.0, 731.0],\n",
              " [3337.0, 565.0],\n",
              " [3807.0, 828.0],\n",
              " [1777.0, 362.0],\n",
              " [1127.0, 185.0],\n",
              " [2023.0, 301.0],\n",
              " [850.0, 229.0],\n",
              " [3861.0, 795.0],\n",
              " [3552.0, 704.0],\n",
              " [3124.0, 560.0],\n",
              " [2015.0, 413.0],\n",
              " [1004.0, 220.0],\n",
              " [2926.0, 562.0],\n",
              " [6227.0, 1317.0],\n",
              " [3250.0, 550.0],\n",
              " [1775.0, 347.0],\n",
              " [2987.0, 539.0],\n",
              " [2433.0, 454.0],\n",
              " [1299.0, 174.0],\n",
              " [10722.0, 1617.0],\n",
              " [2668.0, 510.0],\n",
              " [873.0, 177.0],\n",
              " [2279.0, 538.0],\n",
              " [1988.0, 402.0],\n",
              " [3464.0, 519.0],\n",
              " [1198.0, 251.0],\n",
              " [2246.0, 552.0],\n",
              " [1050.0, 288.0],\n",
              " [74.0, 19.0],\n",
              " [4369.0, 1353.0],\n",
              " [2965.0, 812.0],\n",
              " [1545.0, 420.0],\n",
              " [2226.0, 480.0],\n",
              " [455.0, 70.0],\n",
              " [2476.0, 506.0],\n",
              " [3240.0, 481.0],\n",
              " [2603.0, 576.0],\n",
              " [1005.0, 230.0],\n",
              " [1408.0, 307.0],\n",
              " [371.0, 74.0],\n",
              " [896.0, 208.0],\n",
              " [1320.0, 256.0],\n",
              " [2940.0, 708.0],\n",
              " [916.0, 194.0],\n",
              " [1217.0, 199.0],\n",
              " [3652.0, 499.0],\n",
              " [1243.0, 365.0],\n",
              " [1310.0, 267.0],\n",
              " [5892.0, 837.0],\n",
              " [701.0, 130.0],\n",
              " [2806.0, 477.0],\n",
              " [1865.0, 384.0],\n",
              " [2369.0, 413.0],\n",
              " [1655.0, 450.0],\n",
              " [4066.0, 819.0],\n",
              " [2229.0, 458.0],\n",
              " [2532.0, 621.0],\n",
              " [1297.0, 327.0],\n",
              " [1048.0, 185.0],\n",
              " [1958.0, 386.0],\n",
              " [1200.0, 221.0],\n",
              " [5512.0, 765.0],\n",
              " [1138.0, 296.0],\n",
              " [3727.0, 685.0],\n",
              " [969.0, 206.0],\n",
              " [1947.0, 355.0],\n",
              " [1417.0, 353.0],\n",
              " [4061.0, 927.0],\n",
              " [2294.0, 389.0],\n",
              " [2193.0, 499.0],\n",
              " [1886.0, 586.0],\n",
              " [5692.0, 1346.0],\n",
              " [2080.0, 365.0],\n",
              " [2793.0, 706.0],\n",
              " [3557.0, 890.0],\n",
              " [680.0, 273.0],\n",
              " [1521.0, 352.0],\n",
              " [1186.0, 300.0],\n",
              " [1087.0, 174.0],\n",
              " [2104.0, 388.0],\n",
              " [1054.0, 269.0],\n",
              " [3978.0, 1073.0],\n",
              " [172.0, 42.0],\n",
              " [3287.0, 649.0],\n",
              " [2879.0, 542.0],\n",
              " [2491.0, 656.0],\n",
              " [2830.0, 502.0],\n",
              " [3417.0, 533.0],\n",
              " [5252.0, 760.0],\n",
              " [8874.0, 1302.0],\n",
              " [1792.0, 322.0],\n",
              " [3899.0, 763.0],\n",
              " [2767.0, 584.0],\n",
              " [1033.0, 232.0],\n",
              " [3449.0, 598.0],\n",
              " [4481.0, 901.0],\n",
              " [1000.0, 206.0],\n",
              " [2285.0, 435.0],\n",
              " [1949.0, 464.0],\n",
              " [1760.0, 283.0],\n",
              " [2065.0, 535.0],\n",
              " [2377.0, 476.0],\n",
              " [3759.0, 489.0],\n",
              " [833.0, 130.0],\n",
              " [409.0, 97.0],\n",
              " [19.0, 19.0],\n",
              " [2173.0, 819.0],\n",
              " [1774.0, 299.0],\n",
              " [5051.0, 1054.0],\n",
              " [3165.0, 533.0],\n",
              " [3611.0, 614.0],\n",
              " [568.0, 145.0],\n",
              " [1486.0, 296.0],\n",
              " [1715.0, 623.0],\n",
              " [11976.0, 2495.0],\n",
              " [1061.0, 230.0],\n",
              " [2341.0, 395.0],\n",
              " [1120.0, 283.0],\n",
              " [2633.0, 630.0],\n",
              " [3355.0, 666.0],\n",
              " [1704.0, 418.0],\n",
              " [3254.0, 598.0],\n",
              " [1414.0, 274.0],\n",
              " [2774.0, 451.0],\n",
              " [666.0, 132.0],\n",
              " [1224.0, 267.0],\n",
              " [5805.0, 852.0],\n",
              " [2334.0, 530.0],\n",
              " [642.0, 203.0],\n",
              " [2867.0, 786.0],\n",
              " [40.0, 8.0],\n",
              " [492.0, 139.0],\n",
              " [3441.0, 584.0],\n",
              " [2610.0, 756.0],\n",
              " [1430.0, 273.0],\n",
              " [365.0, 98.0],\n",
              " [3217.0, 716.0],\n",
              " [5715.0, 1154.0],\n",
              " [1691.0, 286.0],\n",
              " [2991.0, 500.0],\n",
              " [104.0, 20.0],\n",
              " [3367.0, 545.0],\n",
              " [2992.0, 609.0],\n",
              " [4937.0, 1139.0],\n",
              " [4524.0, 735.0],\n",
              " [1121.0, 291.0],\n",
              " [1650.0, 496.0],\n",
              " [1630.0, 456.0],\n",
              " [321.0, 101.0],\n",
              " [1271.0, 276.0],\n",
              " [8953.0, 1074.0],\n",
              " [2490.0, 527.0],\n",
              " [7030.0, 1191.0],\n",
              " [5650.0, 1084.0],\n",
              " [2107.0, 809.0],\n",
              " [1107.0, 479.0],\n",
              " [2998.0, 470.0],\n",
              " [180.0, 89.0],\n",
              " [3385.0, 669.0],\n",
              " [2339.0, 548.0],\n",
              " [3132.0, 469.0],\n",
              " [557.0, 216.0],\n",
              " [2104.0, 393.0],\n",
              " [1616.0, 322.0],\n",
              " [2814.0, 675.0],\n",
              " [1022.0, 183.0],\n",
              " [3030.0, 413.0],\n",
              " [1139.0, 299.0],\n",
              " [1762.0, 463.0],\n",
              " [325.0, 74.0],\n",
              " [4266.0, 1010.0],\n",
              " [2621.0, 416.0],\n",
              " [4220.0, 908.0],\n",
              " [3409.0, 493.0],\n",
              " [1446.0, 181.0],\n",
              " [994.0, 185.0],\n",
              " [2862.0, 394.0],\n",
              " [1283.0, 256.0],\n",
              " [1289.0, 280.0],\n",
              " [500.0, 159.0],\n",
              " [1374.0, 248.0],\n",
              " [2307.0, 583.0],\n",
              " [759.0, 140.0],\n",
              " [4424.0, 834.0],\n",
              " [2367.0, 402.0],\n",
              " [2250.0, 430.0],\n",
              " [6121.0, 1222.0],\n",
              " [4638.0, 716.0],\n",
              " [2616.0, 547.0],\n",
              " [1401.0, 246.0],\n",
              " [4018.0, 1067.0],\n",
              " [754.0, 200.0],\n",
              " [1724.0, 432.0],\n",
              " [2191.0, 493.0],\n",
              " [3303.0, 512.0],\n",
              " [1907.0, 323.0],\n",
              " [3598.0, 701.0],\n",
              " [38.0, 8.0],\n",
              " [1184.0, 316.0],\n",
              " [2172.0, 605.0],\n",
              " [1583.0, 347.0],\n",
              " [2084.0, 400.0],\n",
              " [2923.0, 604.0],\n",
              " [204.0, 62.0],\n",
              " [16.0, 4.0],\n",
              " [2099.0, 397.0],\n",
              " [95.0, 13.0],\n",
              " [2782.0, 502.0],\n",
              " [1570.0, 274.0],\n",
              " [4013.0, 985.0],\n",
              " [1075.0, 597.0],\n",
              " [4402.0, 563.0],\n",
              " [3281.0, 531.0],\n",
              " [2541.0, 1282.0],\n",
              " [2238.0, 479.0],\n",
              " [4109.0, 884.0],\n",
              " [1898.0, 460.0],\n",
              " [6955.0, 2062.0],\n",
              " [1777.0, 368.0],\n",
              " [5121.0, 899.0],\n",
              " [2563.0, 658.0],\n",
              " [3740.0, 691.0],\n",
              " [2015.0, 356.0],\n",
              " [1749.0, 422.0],\n",
              " [3900.0, 776.0],\n",
              " [2235.0, 433.0],\n",
              " [3428.0, 753.0],\n",
              " [2349.0, 312.0],\n",
              " [1118.0, 195.0],\n",
              " [4190.0, 690.0],\n",
              " [1975.0, 384.0],\n",
              " [314.0, 57.0],\n",
              " [6341.0, 1030.0],\n",
              " [972.0, 269.0],\n",
              " [1411.0, 330.0],\n",
              " [6358.0, 1182.0],\n",
              " [729.0, 172.0],\n",
              " [3085.0, 610.0],\n",
              " [3074.0, 794.0],\n",
              " [1485.0, 345.0],\n",
              " [1937.0, 537.0],\n",
              " [2901.0, 871.0],\n",
              " [2792.0, 615.0],\n",
              " [1276.0, 292.0],\n",
              " [928.0, 195.0],\n",
              " [1790.0, 361.0],\n",
              " [2322.0, 459.0],\n",
              " [2552.0, 576.0],\n",
              " [3096.0, 757.0],\n",
              " [1495.0, 292.0],\n",
              " [3811.0, 585.0],\n",
              " [1165.0, 210.0],\n",
              " [1745.0, 370.0],\n",
              " [2101.0, 337.0],\n",
              " [2395.0, 431.0],\n",
              " [5438.0, 871.0],\n",
              " [5644.0, 757.0],\n",
              " [907.0, 207.0],\n",
              " [2273.0, 495.0],\n",
              " [2043.0, 511.0],\n",
              " [3036.0, 533.0],\n",
              " [2102.0, 403.0],\n",
              " [1797.0, 327.0],\n",
              " [5683.0, 755.0],\n",
              " [1513.0, 374.0],\n",
              " [1858.0, 366.0],\n",
              " [3888.0, 827.0],\n",
              " [1442.0, 285.0],\n",
              " [2297.0, 573.0],\n",
              " [2696.0, 640.0],\n",
              " [3595.0, 953.0],\n",
              " [2715.0, 451.0],\n",
              " [1122.0, 287.0],\n",
              " [2468.0, 552.0],\n",
              " [2275.0, 397.0],\n",
              " [2664.0, 651.0],\n",
              " [1838.0, 441.0],\n",
              " [2405.0, 541.0],\n",
              " [4202.0, 986.0],\n",
              " [2941.0, 558.0],\n",
              " [855.0, 172.0],\n",
              " [2543.0, 439.0],\n",
              " [1055.0, 298.0],\n",
              " [1180.0, 216.0],\n",
              " [2075.0, 424.0],\n",
              " [1858.0, 493.0],\n",
              " [488.0, 63.0],\n",
              " [1285.0, 193.0],\n",
              " [3075.0, 564.0],\n",
              " [1113.0, 186.0],\n",
              " [41.0, 17.0],\n",
              " [3959.0, 1196.0],\n",
              " [950.0, 300.0],\n",
              " [5846.0, 1035.0],\n",
              " [1332.0, 417.0],\n",
              " [1213.0, 228.0],\n",
              " [4236.0, 879.0],\n",
              " [396.0, 99.0],\n",
              " [1638.0, 434.0],\n",
              " [1125.0, 195.0],\n",
              " [1051.0, 244.0],\n",
              " [1690.0, 327.0],\n",
              " [1221.0, 236.0],\n",
              " [2144.0, 423.0],\n",
              " [887.0, 219.0],\n",
              " [1564.0, 270.0],\n",
              " [83.0, 15.0],\n",
              " [2323.0, 406.0],\n",
              " [2715.0, 458.0],\n",
              " [2581.0, 528.0],\n",
              " [5367.0, 1207.0],\n",
              " [3753.0, 761.0],\n",
              " [1910.0, 352.0],\n",
              " [1341.0, 256.0],\n",
              " [1111.0, 229.0],\n",
              " [1713.0, 285.0],\n",
              " [3038.0, 1533.0],\n",
              " [2956.0, 393.0],\n",
              " [4356.0, 1334.0],\n",
              " [1137.0, 203.0],\n",
              " [1948.0, 341.0],\n",
              " [2331.0, 359.0],\n",
              " [1964.0, 314.0],\n",
              " [3819.0, 550.0],\n",
              " [1487.0, 242.0],\n",
              " [1239.0, 237.0],\n",
              " [2701.0, 576.0],\n",
              " [2887.0, 351.0],\n",
              " [588.0, 157.0],\n",
              " [1321.0, 295.0],\n",
              " [4235.0, 735.0],\n",
              " [4033.0, 715.0],\n",
              " [4563.0, 1069.0],\n",
              " [3854.0, 1046.0],\n",
              " [2064.0, 484.0],\n",
              " [238.0, 51.0],\n",
              " [2604.0, 837.0],\n",
              " [2181.0, 505.0],\n",
              " [1868.0, 291.0],\n",
              " [2643.0, 418.0],\n",
              " [2011.0, 557.0],\n",
              " [2789.0, 503.0],\n",
              " [2088.0, 358.0],\n",
              " [1068.0, 190.0],\n",
              " [2522.0, 547.0],\n",
              " [2171.0, 386.0],\n",
              " [2785.0, 577.0],\n",
              " [7105.0, 1447.0],\n",
              " [617.0, 162.0],\n",
              " [2635.0, 516.0],\n",
              " [831.0, 149.0],\n",
              " [9311.0, 1703.0],\n",
              " [1487.0, 468.0],\n",
              " [2130.0, 455.0],\n",
              " [1355.0, 214.0],\n",
              " [1545.0, 341.0],\n",
              " [1475.0, 403.0],\n",
              " [852.0, 237.0],\n",
              " [126.0, 24.0],\n",
              " [2946.0, 695.0],\n",
              " [6130.0, 1359.0],\n",
              " [1732.0, 435.0],\n",
              " [6308.0, 1167.0],\n",
              " [10212.0, 1424.0],\n",
              " [18123.0, 3173.0],\n",
              " [2247.0, 573.0],\n",
              " [1789.0, 434.0],\n",
              " [769.0, 205.0],\n",
              " [1689.0, 378.0],\n",
              " [1610.0, 406.0],\n",
              " [1577.0, 343.0],\n",
              " [3797.0, 668.0],\n",
              " [3208.0, 1111.0],\n",
              " [2009.0, 519.0],\n",
              " [1668.0, 324.0],\n",
              " [2259.0, 408.0],\n",
              " [1411.0, 233.0],\n",
              " [4671.0, 912.0],\n",
              " [1244.0, 242.0],\n",
              " [956.0, 159.0],\n",
              " [1032.0, 207.0],\n",
              " [831.0, 231.0],\n",
              " [2257.0, 429.0],\n",
              " [5106.0, 1010.0],\n",
              " [2618.0, 582.0],\n",
              " [2215.0, 440.0],\n",
              " [2756.0, 557.0],\n",
              " [4162.0, 967.0],\n",
              " [3748.0, 609.0],\n",
              " [520.0, 115.0],\n",
              " [8020.0, 1432.0],\n",
              " [2325.0, 598.0],\n",
              " [2914.0, 562.0],\n",
              " [1798.0, 331.0],\n",
              " [1815.0, 376.0],\n",
              " [1438.0, 364.0],\n",
              " [3797.0, 597.0],\n",
              " [3163.0, 832.0],\n",
              " [2143.0, 580.0],\n",
              " [2387.0, 424.0],\n",
              " [1792.0, 301.0],\n",
              " [3557.0, 894.0],\n",
              " [3405.0, 831.0],\n",
              " [5301.0, 1281.0],\n",
              " [2366.0, 392.0],\n",
              " [1959.0, 342.0],\n",
              " [1630.0, 362.0],\n",
              " [1954.0, 513.0],\n",
              " [1659.0, 237.0],\n",
              " [3163.0, 712.0],\n",
              " [3562.0, 439.0],\n",
              " [11654.0, 2100.0],\n",
              " [1766.0, 288.0],\n",
              " [980.0, 171.0],\n",
              " [1787.0, 508.0],\n",
              " [563.0, 194.0],\n",
              " [2178.0, 629.0],\n",
              " [1373.0, 264.0],\n",
              " [2300.0, 335.0],\n",
              " [1212.0, 314.0],\n",
              " [3121.0, 381.0],\n",
              " [1722.0, 372.0],\n",
              " [1118.0, 219.0],\n",
              " [2985.0, 474.0],\n",
              " [2022.0, 413.0],\n",
              " [3170.0, 572.0],\n",
              " [277.0, 89.0],\n",
              " [1831.0, 274.0],\n",
              " [3222.0, 511.0],\n",
              " [2090.0, 519.0],\n",
              " [1966.0, 348.0],\n",
              " [1696.0, 279.0],\n",
              " [1502.0, 367.0],\n",
              " [1096.0, 260.0],\n",
              " [1633.0, 243.0],\n",
              " [907.0, 176.0],\n",
              " [2413.0, 524.0],\n",
              " [1473.0, 312.0],\n",
              " [952.0, 209.0],\n",
              " [1785.0, 288.0],\n",
              " [11635.0, 2055.0],\n",
              " [5928.0, 1097.0],\n",
              " [27870.0, 5027.0],\n",
              " [2035.0, 383.0],\n",
              " [3920.0, 570.0],\n",
              " [1349.0, 519.0],\n",
              " [2824.0, 633.0],\n",
              " [1139.0, 328.0],\n",
              " [1412.0, 185.0],\n",
              " [2144.0, 400.0],\n",
              " [3856.0, 867.0],\n",
              " [3662.0, 834.0],\n",
              " [2064.0, 342.0],\n",
              " [1378.0, 272.0],\n",
              " [3059.0, 729.0],\n",
              " [999.0, 232.0],\n",
              " [3038.0, 529.0],\n",
              " [477.0, 119.0],\n",
              " [3395.0, 1059.0],\n",
              " [1472.0, 228.0],\n",
              " [1789.0, 292.0],\n",
              " [308.0, 38.0],\n",
              " [1601.0, 464.0],\n",
              " [3403.0, 1367.0],\n",
              " ...]"
            ]
          },
          "metadata": {},
          "execution_count": 61
        }
      ]
    },
    {
      "cell_type": "code",
      "source": [
        "ar1=[1,2,3,4]\n",
        "ar2=[4,5,6,7]\n",
        "\n",
        "se1=pd.Series(ar1)\n",
        "se2=pd.Series(ar2)\n",
        "\n",
        "print(se1.corr(se2))"
      ],
      "metadata": {
        "colab": {
          "base_uri": "https://localhost:8080/"
        },
        "id": "n-WaxjyvEn_i",
        "outputId": "c8fb21b6-5c5f-48b3-ef9e-68b574418fa9"
      },
      "execution_count": 62,
      "outputs": [
        {
          "output_type": "stream",
          "name": "stdout",
          "text": [
            "1.0\n"
          ]
        }
      ]
    }
  ]
}