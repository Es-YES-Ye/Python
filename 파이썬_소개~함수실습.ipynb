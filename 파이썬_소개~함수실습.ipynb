{
  "nbformat": 4,
  "nbformat_minor": 0,
  "metadata": {
    "colab": {
      "name": "파이썬-소개~함수실습.ipynb",
      "provenance": [],
      "collapsed_sections": [],
      "mount_file_id": "1PjBvRhJwWfyWnaoR4jlzFBTBClXgm_FH",
      "authorship_tag": "ABX9TyPPDMSVN9ugTxydtohXMVwT",
      "include_colab_link": true
    },
    "kernelspec": {
      "name": "python3",
      "display_name": "Python 3"
    },
    "language_info": {
      "name": "python"
    }
  },
  "cells": [
    {
      "cell_type": "markdown",
      "metadata": {
        "id": "view-in-github",
        "colab_type": "text"
      },
      "source": [
        "<a href=\"https://colab.research.google.com/github/Es-YES-Ye/Python/blob/main/%ED%8C%8C%EC%9D%B4%EC%8D%AC_%EC%86%8C%EA%B0%9C~%ED%95%A8%EC%88%98%EC%8B%A4%EC%8A%B5.ipynb\" target=\"_parent\"><img src=\"https://colab.research.google.com/assets/colab-badge.svg\" alt=\"Open In Colab\"/></a>"
      ]
    },
    {
      "cell_type": "markdown",
      "source": [
        "회원 관리 프로그램을 작성하시오.\n",
        "\n",
        "프로그램은 메뉴 선택에 의해 동작하는 콘솔 응용입니다.\n",
        "\n",
        "1: 회원 데이터 추가\n",
        "\n",
        "> 회원 아이디를 입력받는다.\n",
        "\n",
        "> 이미 존재하면 기능 종료\n",
        "\n",
        "> 이름, 이메일, 나이, 키 를 입력받는다.\n",
        "\n",
        "\n",
        "2: 회원 데이터 삭제\n",
        "\n",
        "> 회원 아이디를 입력받는다.\n",
        "\n",
        "> 아이디가 존재하지 않으면 없다고 출력하고 기능 종료\n",
        "\n",
        "> 존재하면 삭제하고 삭제하였다고 출력\n",
        "\n",
        "\n",
        "\n",
        "3: 회원 데이터 검색\n",
        "\n",
        "\n",
        "> 회원 아이디를 입력받는다.\n",
        "\n",
        "> 아이디가 존재하지 않으면 없다고 출력하고 기능 종료\n",
        "\n",
        "> 존재하면 회원 정보 출력\n",
        "\n",
        "\n",
        "4: 전체 회원 데이터 정보 출력\n",
        "\n",
        "\n",
        "> 아이디 순으로 전체 회원 정보 출력\n",
        "\n",
        "\n",
        "0: 프로그램 종료\n",
        "\n",
        "\n",
        "> 프로그램 종료 시 회원 정보를 members.csv 파일로 기록\n",
        "\n",
        "> 프로그램 시작 시 members.csv 파일에 정보를 로딩\n",
        "\n"
      ],
      "metadata": {
        "id": "XUnXFr-KJfwb"
      }
    },
    {
      "cell_type": "code",
      "execution_count": 1,
      "metadata": {
        "id": "aGHuk0McJYxd"
      },
      "outputs": [],
      "source": [
        "#구현하지 않으면 예외처리\n",
        "#members.csv 불러오기\n",
        "\n",
        "def load(fname):\n",
        "  try:\n",
        "    fs = open(fname, 'r')\n",
        "  except:\n",
        "    print(\"첫 이용자 반갑습니다.\")\n",
        "    return\n",
        "  all = fs.read()\n",
        "  fs.close()\n",
        "  k_datas=all.split('\\n')\n",
        "  for i in range(1,len(k_datas)): #로드할 때 첫 번째 헤더를 지우고 불러오기\n",
        "    k_data =k_datas[i]\n",
        "    kds = k_data.split(',')\n",
        "    if(len(kds)!=5):\n",
        "      break\n",
        "    data = []\n",
        "    for i in range(1, 5): #아이디, 이름, 이메일, 키, 나이 다섯 개\n",
        "      data.append(kds[i])\n",
        "    members[kds[0]]= data\n"
      ]
    },
    {
      "cell_type": "code",
      "source": [
        "def save(fname): #members.csv 파일에 기록\n",
        "  fs = open(fname,'w')\n",
        "  fs.write(\"아이디, 이름, 이메일, 나이, 키\\n\") #첫번째 줄, 헤더 넣기\n",
        "  for _, (id, data) in enumerate(members.items()): #id는 key data는 value \n",
        "  #_는 인덱스에 해당하는 자리인데 쓸모없으니까 이름을 안 짓겠다. 인자를 굳이 변수에 집어넣지 않겠다.\n",
        "  #두번째 전달받는 인자만 받겠다. 안 받고 싶은 인자를 _ 로 표현\n",
        "    fs.write(f\"{id}, {data[0]}, {data[1]}, {data[2]}, {data[3]} \\n\") #raw한 파일 입출력으로\n",
        "  fs.close() \n",
        "  print(\"save\")"
      ],
      "metadata": {
        "id": "GQHV4sBuLI-r"
      },
      "execution_count": 2,
      "outputs": []
    },
    {
      "cell_type": "code",
      "source": [
        "\n",
        "#회원 추가\n",
        "\n",
        "members = {} #id를 primary key처럼 쓰기 위해서 딕셔너리로 만든다. \n",
        "def add_member():\n",
        "  print(\"add\")\n",
        "  id = input(\"추가할 회원 아이디 : \") #회원 아이디를 입력받는다.\n",
        "  if id in members: #이미 존재하면 \n",
        "    print(\"이미 존재하는 아이디입니다.\")\n",
        "    return #기능 종료\n",
        "  data=[]\n",
        "  data.append(input(\"이름 : \"))\n",
        "  data.append(input(\"이메일 : \"))  \n",
        "  try:\n",
        "    data.append(int(input(\"나이 : \")))\n",
        "  except:\n",
        "    print(\"잘못 입력하여 나이를 0으로 설정합니다.\")\n",
        "    data.append(0)\n",
        "  try:\n",
        "    data.append(float(input(\"키 : \")))\n",
        "  except:\n",
        "    print(\"잘못 입력하여 나이를 0으로 설정합니다.\")\n",
        "    data.append(0)\n",
        "  members[id] = data"
      ],
      "metadata": {
        "id": "v93suPL0Ln3H"
      },
      "execution_count": 3,
      "outputs": []
    },
    {
      "cell_type": "code",
      "source": [
        "#회원 삭제\n",
        "\n",
        "def remove_member():\n",
        "  print(\"remove\")\n",
        "  id = input(\"삭제할 회원 아이디 : \") #회원 아이디를 입력받는다.\n",
        "  if id not in members: #존재하지 않으면 \n",
        "    print(\"존재하지 않는 아이디입니다.\")\n",
        "    return #기능 종료\n",
        "  del members[id]\n",
        "  print(f\"{id}를 삭제하였습니다.\")\n"
      ],
      "metadata": {
        "id": "qrO3L01fLsIP"
      },
      "execution_count": 4,
      "outputs": []
    },
    {
      "cell_type": "code",
      "source": [
        "#회원 검색\n",
        "\n",
        "def find_member():\n",
        "  id = input(\"검색할 회원 아이디:\")#회원 아이디를 입력받는다.\n",
        "  if id not in members:#존재하지 않으면\n",
        "    print(\"존재하지 않는 아이디입니다.\")\n",
        "    return #기능 종료\n",
        "  print(members[id])\n"
      ],
      "metadata": {
        "id": "B5LyJ8ZBLsSo"
      },
      "execution_count": 5,
      "outputs": []
    },
    {
      "cell_type": "code",
      "source": [
        "#전체 회원 조회\n",
        "\n",
        "def view_members():\n",
        "  smembers = sorted(members.items())\n",
        "  print(smembers) #id 순으로 정렬\n",
        "  print(\"view\")\n"
      ],
      "metadata": {
        "id": "WnmPYXH8LsdI"
      },
      "execution_count": 6,
      "outputs": []
    },
    {
      "cell_type": "code",
      "source": [
        "#프로그램 명령 번호 선택\n",
        "\n",
        "def select_menu():\n",
        "  print(\"회원 관리 프로그램\")\n",
        "  print(\"1 : 회원 데이터 추가\")\n",
        "  print(\"2 : 회원 데이터 삭제\")\n",
        "  print(\"3 : 회원 데이터 찾기\")\n",
        "  print(\"4 : 전체 데이터 보기\")\n",
        "  print(\"0 : 프로그램 종료\")  \n",
        "  try:\n",
        "    key = int(input(\"선택 : \"))\n",
        "  except:\n",
        "    key = 5\n",
        "  return key"
      ],
      "metadata": {
        "id": "6qQhVox6MVBO"
      },
      "execution_count": 7,
      "outputs": []
    },
    {
      "cell_type": "code",
      "source": [
        "#input 출력 화면\n",
        "\n",
        "fname = '/content/drive/MyDrive/새싹프로그램_파이썬데이터/members.csv'\n",
        "load(fname)\n",
        "while True:\n",
        "  key = select_menu()\n",
        "  if key == 0:\n",
        "    print(\"프로그램을 종료합니다.\")\n",
        "    break\n",
        "  if key == 1:\n",
        "    add_member()\n",
        "  elif key == 2:\n",
        "    remove_member()\n",
        "  elif key == 3:\n",
        "    find_member()\n",
        "  elif key == 4:\n",
        "    view_members()\n",
        "  else:\n",
        "    print(\"잘못 선택하였습니다.\")\n",
        "save(fname)"
      ],
      "metadata": {
        "colab": {
          "base_uri": "https://localhost:8080/"
        },
        "id": "3hLoVy9vL02_",
        "outputId": "e74baf71-3267-4543-e7ed-de026bfc7af5"
      },
      "execution_count": 8,
      "outputs": [
        {
          "output_type": "stream",
          "name": "stdout",
          "text": [
            "첫 이용자 반갑습니다.\n",
            "회원 관리 프로그램\n",
            "1 : 회원 데이터 추가\n",
            "2 : 회원 데이터 삭제\n",
            "3 : 회원 데이터 찾기\n",
            "4 : 전체 데이터 보기\n",
            "0 : 프로그램 종료\n",
            "선택 : 4\n",
            "[]\n",
            "view\n",
            "회원 관리 프로그램\n",
            "1 : 회원 데이터 추가\n",
            "2 : 회원 데이터 삭제\n",
            "3 : 회원 데이터 찾기\n",
            "4 : 전체 데이터 보기\n",
            "0 : 프로그램 종료\n",
            "선택 : 1\n",
            "add\n",
            "추가할 회원 아이디 : aaa\n",
            "이름 : 제갈길동\n",
            "이메일 : aaa.com\n",
            "나이 : 45\n",
            "키 : 153\n",
            "회원 관리 프로그램\n",
            "1 : 회원 데이터 추가\n",
            "2 : 회원 데이터 삭제\n",
            "3 : 회원 데이터 찾기\n",
            "4 : 전체 데이터 보기\n",
            "0 : 프로그램 종료\n",
            "선택 : 1\n",
            "add\n",
            "추가할 회원 아이디 : bbb\n",
            "이름 : 선우길동\n",
            "이메일 : bbb.com\n",
            "나이 : 12\n",
            "키 : 153\n",
            "회원 관리 프로그램\n",
            "1 : 회원 데이터 추가\n",
            "2 : 회원 데이터 삭제\n",
            "3 : 회원 데이터 찾기\n",
            "4 : 전체 데이터 보기\n",
            "0 : 프로그램 종료\n",
            "선택 : 4\n",
            "[('aaa', ['제갈길동', 'aaa.com', 45, 153.0]), ('bbb', ['선우길동', 'bbb.com', 12, 153.0])]\n",
            "view\n",
            "회원 관리 프로그램\n",
            "1 : 회원 데이터 추가\n",
            "2 : 회원 데이터 삭제\n",
            "3 : 회원 데이터 찾기\n",
            "4 : 전체 데이터 보기\n",
            "0 : 프로그램 종료\n",
            "선택 : 1\n",
            "add\n",
            "추가할 회원 아이디 : ccc\n",
            "이름 : 독고길동\n",
            "이메일 : ccc.com\n",
            "나이 : 22\n",
            "키 : 180\n",
            "회원 관리 프로그램\n",
            "1 : 회원 데이터 추가\n",
            "2 : 회원 데이터 삭제\n",
            "3 : 회원 데이터 찾기\n",
            "4 : 전체 데이터 보기\n",
            "0 : 프로그램 종료\n",
            "선택 : 0\n",
            "프로그램을 종료합니다.\n",
            "save\n"
          ]
        }
      ]
    }
  ]
}