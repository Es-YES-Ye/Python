{
  "nbformat": 4,
  "nbformat_minor": 0,
  "metadata": {
    "colab": {
      "name": "파이썬 -시작하기.ipynb",
      "provenance": [],
      "authorship_tag": "ABX9TyMKm1MrG/sXIxnH2pp+rYtB",
      "include_colab_link": true
    },
    "kernelspec": {
      "name": "python3",
      "display_name": "Python 3"
    },
    "language_info": {
      "name": "python"
    }
  },
  "cells": [
    {
      "cell_type": "markdown",
      "metadata": {
        "id": "view-in-github",
        "colab_type": "text"
      },
      "source": [
        "<a href=\"https://colab.research.google.com/github/Es-YES-Ye/Python/blob/main/%ED%8C%8C%EC%9D%B4%EC%8D%AC_%EC%8B%9C%EC%9E%91%ED%95%98%EA%B8%B0.ipynb\" target=\"_parent\"><img src=\"https://colab.research.google.com/assets/colab-badge.svg\" alt=\"Open In Colab\"/></a>"
      ]
    },
    {
      "cell_type": "markdown",
      "source": [
        "# 간단한 계산"
      ],
      "metadata": {
        "id": "PL5K5XKiP4F-"
      }
    },
    {
      "cell_type": "code",
      "execution_count": null,
      "metadata": {
        "id": "8QAm0MkbL-Fg"
      },
      "outputs": [],
      "source": [
        "1+2\n"
      ]
    },
    {
      "cell_type": "markdown",
      "source": [
        "# 명명"
      ],
      "metadata": {
        "id": "ZvA-XuDYQnkW"
      }
    },
    {
      "cell_type": "code",
      "source": [
        "korea = 90\n",
        "math = 80\n",
        "sum = korea + math\n",
        "sum"
      ],
      "metadata": {
        "colab": {
          "base_uri": "https://localhost:8080/"
        },
        "id": "h5zwsMX6QqYI",
        "outputId": "e389dfb0-2034-4876-eeb8-ae67ee5703b5"
      },
      "execution_count": 2,
      "outputs": [
        {
          "output_type": "execute_result",
          "data": {
            "text/plain": [
              "170"
            ]
          },
          "metadata": {},
          "execution_count": 2
        }
      ]
    },
    {
      "cell_type": "markdown",
      "source": [
        "#주석"
      ],
      "metadata": {
        "id": "je2f_b-cTAKs"
      }
    },
    {
      "cell_type": "code",
      "source": [
        "#주석\n",
        "a = 3 #벽수 a에 3 대입"
      ],
      "metadata": {
        "id": "jkddIuFzTHpr"
      },
      "execution_count": null,
      "outputs": []
    },
    {
      "cell_type": "markdown",
      "source": [
        "# 출력문"
      ],
      "metadata": {
        "id": "5kDoLY0EW6mj"
      }
    },
    {
      "cell_type": "code",
      "source": [
        "print(12)\n",
        "print(\"화나게 하지마!!\")\n",
        "print(12, 3, \"뗴잉 쯧\")\n"
      ],
      "metadata": {
        "colab": {
          "base_uri": "https://localhost:8080/"
        },
        "id": "8K1TgbHNW8Ii",
        "outputId": "d1daebd7-808a-41eb-a101-f9c4ab57e646"
      },
      "execution_count": 3,
      "outputs": [
        {
          "output_type": "stream",
          "name": "stdout",
          "text": [
            "12\n",
            "화나게 하지마!!\n",
            "12 3 뗴잉 쯧\n"
          ]
        }
      ]
    },
    {
      "cell_type": "code",
      "source": [
        "print(\"진달래꽃\")\n",
        "print()\n",
        "print(\"나 보기가 역겨워\")"
      ],
      "metadata": {
        "id": "vIXwAi5mXeLU"
      },
      "execution_count": null,
      "outputs": []
    },
    {
      "cell_type": "code",
      "source": [
        ""
      ],
      "metadata": {
        "id": "Yp4B6z7yX3di"
      },
      "execution_count": null,
      "outputs": []
    }
  ]
}