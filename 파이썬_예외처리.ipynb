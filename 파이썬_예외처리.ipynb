{
  "nbformat": 4,
  "nbformat_minor": 0,
  "metadata": {
    "colab": {
      "name": "파이썬 - 예외처리.ipynb",
      "provenance": [],
      "collapsed_sections": [],
      "authorship_tag": "ABX9TyNFnSne9tOa2eVttZDu+mV5",
      "include_colab_link": true
    },
    "kernelspec": {
      "name": "python3",
      "display_name": "Python 3"
    },
    "language_info": {
      "name": "python"
    }
  },
  "cells": [
    {
      "cell_type": "markdown",
      "metadata": {
        "id": "view-in-github",
        "colab_type": "text"
      },
      "source": [
        "<a href=\"https://colab.research.google.com/github/Es-YES-Ye/Python/blob/main/%ED%8C%8C%EC%9D%B4%EC%8D%AC_%EC%98%88%EC%99%B8%EC%B2%98%EB%A6%AC.ipynb\" target=\"_parent\"><img src=\"https://colab.research.google.com/assets/colab-badge.svg\" alt=\"Open In Colab\"/></a>"
      ]
    },
    {
      "cell_type": "markdown",
      "source": [
        "구문 오류 : 코드의 문법적 잘못에 의해 발생하는 오류\n",
        "\n",
        "런타임 오류 : 실행 시점에 발생하는 오류\n",
        "\n"
      ],
      "metadata": {
        "id": "A-k_-2TUBc1V"
      }
    },
    {
      "cell_type": "code",
      "execution_count": 1,
      "metadata": {
        "colab": {
          "base_uri": "https://localhost:8080/",
          "height": 137
        },
        "id": "bKhHBkG7BUvT",
        "outputId": "a53f3ade-70dd-4e49-9e18-a6b9a2f4eb96"
      },
      "outputs": [
        {
          "output_type": "error",
          "ename": "SyntaxError",
          "evalue": "ignored",
          "traceback": [
            "\u001b[0;36m  File \u001b[0;32m\"<ipython-input-1-7c744070c2f1>\"\u001b[0;36m, line \u001b[0;32m3\u001b[0m\n\u001b[0;31m    print(\"Hell)\u001b[0m\n\u001b[0m                ^\u001b[0m\n\u001b[0;31mSyntaxError\u001b[0m\u001b[0;31m:\u001b[0m EOL while scanning string literal\n"
          ]
        }
      ],
      "source": [
        "#구문 오류 예\n",
        "\n",
        "print(\"Hell) \n",
        "#SyntaxError: EOL while scanning string literal"
      ]
    },
    {
      "cell_type": "code",
      "source": [
        "num1 = int(input(\"정수 : \"))\n",
        "num2 = int(input(\"정수 : \"))\n",
        "print(num1/num2) #0을 입력하면 에러"
      ],
      "metadata": {
        "colab": {
          "base_uri": "https://localhost:8080/",
          "height": 248
        },
        "id": "2UV69_JxCBbP",
        "outputId": "a58df6b7-869d-4879-a3f5-f48048646296"
      },
      "execution_count": 2,
      "outputs": [
        {
          "name": "stdout",
          "output_type": "stream",
          "text": [
            "정수 : 0\n",
            "정수 : 0\n"
          ]
        },
        {
          "output_type": "error",
          "ename": "ZeroDivisionError",
          "evalue": "ignored",
          "traceback": [
            "\u001b[0;31m---------------------------------------------------------------------------\u001b[0m",
            "\u001b[0;31mZeroDivisionError\u001b[0m                         Traceback (most recent call last)",
            "\u001b[0;32m<ipython-input-2-358e60d11a1b>\u001b[0m in \u001b[0;36m<module>\u001b[0;34m()\u001b[0m\n\u001b[1;32m      1\u001b[0m \u001b[0mnum1\u001b[0m \u001b[0;34m=\u001b[0m \u001b[0mint\u001b[0m\u001b[0;34m(\u001b[0m\u001b[0minput\u001b[0m\u001b[0;34m(\u001b[0m\u001b[0;34m\"정수 : \"\u001b[0m\u001b[0;34m)\u001b[0m\u001b[0;34m)\u001b[0m\u001b[0;34m\u001b[0m\u001b[0;34m\u001b[0m\u001b[0m\n\u001b[1;32m      2\u001b[0m \u001b[0mnum2\u001b[0m \u001b[0;34m=\u001b[0m \u001b[0mint\u001b[0m\u001b[0;34m(\u001b[0m\u001b[0minput\u001b[0m\u001b[0;34m(\u001b[0m\u001b[0;34m\"정수 : \"\u001b[0m\u001b[0;34m)\u001b[0m\u001b[0;34m)\u001b[0m\u001b[0;34m\u001b[0m\u001b[0;34m\u001b[0m\u001b[0m\n\u001b[0;32m----> 3\u001b[0;31m \u001b[0mprint\u001b[0m\u001b[0;34m(\u001b[0m\u001b[0mnum1\u001b[0m\u001b[0;34m/\u001b[0m\u001b[0mnum2\u001b[0m\u001b[0;34m)\u001b[0m\u001b[0;34m\u001b[0m\u001b[0;34m\u001b[0m\u001b[0m\n\u001b[0m",
            "\u001b[0;31mZeroDivisionError\u001b[0m: division by zero"
          ]
        }
      ]
    },
    {
      "cell_type": "code",
      "source": [
        "num1 = int(input(\"정수 : \"))\n",
        "num2 = int(input(\"정수 : \"))\n",
        "try:\n",
        "  print(num1/num2)\n",
        "except:\n",
        "  pass\n",
        "print(\"yahoo\")"
      ],
      "metadata": {
        "id": "5f4iB_76CYDb"
      },
      "execution_count": null,
      "outputs": []
    },
    {
      "cell_type": "code",
      "source": [
        "num1 = int(input(\"정수 : \"))\n",
        "num2 = int(input(\"정수 : \"))\n",
        "try:\n",
        "  print(num1/num2)\n",
        "except:\n",
        "  print(\"비정상\")\n",
        "else:\n",
        "  print(\"정상\")\n",
        "  "
      ],
      "metadata": {
        "colab": {
          "base_uri": "https://localhost:8080/"
        },
        "id": "qrqQuh-9Dsnz",
        "outputId": "751e9c80-de05-4eb8-d21e-1f03d6ecfbd1"
      },
      "execution_count": 3,
      "outputs": [
        {
          "output_type": "stream",
          "name": "stdout",
          "text": [
            "정수 : 4\n",
            "정수 : 2\n",
            "2.0\n",
            "정상\n"
          ]
        }
      ]
    },
    {
      "cell_type": "code",
      "source": [
        "num1 = int(input(\"정수 : \"))\n",
        "num2 = int(input(\"정수 : \"))\n",
        "try:\n",
        "  print(num1/num2)\n",
        "except:\n",
        "  print(\"비정상\")\n",
        "else:\n",
        "  print(\"정상\")\n",
        "finally:\n",
        "  print(\"절레절레전래동화\")  "
      ],
      "metadata": {
        "colab": {
          "base_uri": "https://localhost:8080/"
        },
        "id": "aIPPZTS0D-Uq",
        "outputId": "e5f4ae3e-3613-48e1-bfbe-88f4d1c2289f"
      },
      "execution_count": 4,
      "outputs": [
        {
          "output_type": "stream",
          "name": "stdout",
          "text": [
            "정수 : 2\n",
            "정수 : 3\n",
            "0.6666666666666666\n",
            "정상\n",
            "절레절레전래동화\n"
          ]
        }
      ]
    },
    {
      "cell_type": "markdown",
      "source": [
        "예외 개체 사용"
      ],
      "metadata": {
        "id": "ShNaZktNF9Gt"
      }
    },
    {
      "cell_type": "code",
      "source": [
        "#예외종류에 따라 처리하는 코드\n",
        "\n",
        "try:\n",
        "  num1 = int(input(\"정수 : \"))\n",
        "  num2 = int(input(\"정수 : \"))\n",
        "  print(num1/num2)\n",
        "except Exception as ex:\n",
        "  print(ex)\n",
        "  print(type(ex))\n",
        "else:\n",
        "  print(\"정상\")"
      ],
      "metadata": {
        "colab": {
          "base_uri": "https://localhost:8080/"
        },
        "id": "ayiOBHblFeHz",
        "outputId": "ad4fb88a-a8ec-4cf1-95ff-889aba161e77"
      },
      "execution_count": 7,
      "outputs": [
        {
          "output_type": "stream",
          "name": "stdout",
          "text": [
            "정수 : 3\n",
            "정수 : 0\n",
            "division by zero\n",
            "<class 'ZeroDivisionError'>\n"
          ]
        }
      ]
    },
    {
      "cell_type": "code",
      "source": [
        "try:\n",
        "  num1 = int(input(\"정수 : \"))\n",
        "  num2 = int(input(\"정수 : \"))\n",
        "  print(num1/num2)\n",
        "except ValueError as ex:\n",
        "  print(ex)\n",
        "  print(\"값을 잘못 전달하였습니다.\")\n",
        "except ZeroDivisionError as ex:\n",
        "  print(ex)\n",
        "  print(\"젯수는 0이 될 수 없습니다.\")\n",
        "else:\n",
        "  print(\"정상\")"
      ],
      "metadata": {
        "colab": {
          "base_uri": "https://localhost:8080/"
        },
        "id": "OZs61t9GG0A6",
        "outputId": "ce373783-f512-4e6c-9d1a-48c96cd0a291"
      },
      "execution_count": 9,
      "outputs": [
        {
          "output_type": "stream",
          "name": "stdout",
          "text": [
            "정수 : ㅇㄹㄴㅁ\n",
            "invalid literal for int() with base 10: 'ㅇㄹㄴㅁ'\n",
            "값을 잘못 전달하였습니다.\n"
          ]
        }
      ]
    },
    {
      "cell_type": "code",
      "source": [
        "try:\n",
        "  num1 = int(input(\"정수 : \"))\n",
        "  num2 = int(input(\"정수 : \"))\n",
        "  print(num1/num2)\n",
        "  ls=[1,2,3]\n",
        "  n=int(input(\"1~3 중에 고르세요.\"))\n",
        "  print(ls[n-1])\n",
        "except ValueError as ex:\n",
        "  print(ex)\n",
        "  print(\"값을 잘못 전달하였습니다.\")\n",
        "except ZeroDivisionError as ex:\n",
        "  print(ex)\n",
        "  print(\"젯수는 0이 될 수 없습니다.\")\n",
        "except Exception as ex:\n",
        "  print(ex)\n",
        "  print(\"에러 발생\") #모든 예외의 최상위 클래스가 Exception\n",
        "else:\n",
        "  print(\"정상\")"
      ],
      "metadata": {
        "colab": {
          "base_uri": "https://localhost:8080/"
        },
        "id": "5pjmdu4WHO0r",
        "outputId": "d73a8046-1f54-4248-bda1-518427e1f525"
      },
      "execution_count": 10,
      "outputs": [
        {
          "output_type": "stream",
          "name": "stdout",
          "text": [
            "정수 : 32\n",
            "정수 : 1\n",
            "32.0\n",
            "1~3 중에 고르세요.10.2\n",
            "invalid literal for int() with base 10: '10.2'\n",
            "값을 잘못 전달하였습니다.\n"
          ]
        }
      ]
    },
    {
      "cell_type": "markdown",
      "source": [
        "#예외를 발생시키기"
      ],
      "metadata": {
        "id": "UBNtBfxrIHO6"
      }
    },
    {
      "cell_type": "code",
      "source": [
        "#강제로 예외를 만든다\n",
        "\n",
        "def getsum(start, end, step=1):\n",
        "  if start>end:\n",
        "    raise ValueError #예외를 발생시킨다.\n",
        "  s = 0\n",
        "  for i in range(start, end+1, step):\n",
        "    s+=i\n",
        "  return s"
      ],
      "metadata": {
        "id": "5DBwTNRwF_Pp"
      },
      "execution_count": 12,
      "outputs": []
    },
    {
      "cell_type": "code",
      "source": [
        "try:\n",
        "  print(getsum(2,10))\n",
        "  print(getsum(10,2))\n",
        "except:\n",
        "  print(\"예외발생\")"
      ],
      "metadata": {
        "colab": {
          "base_uri": "https://localhost:8080/"
        },
        "id": "-lqGyaDsIaFY",
        "outputId": "4218d21f-da23-4d3b-b305-46ad06d1fafc"
      },
      "execution_count": 14,
      "outputs": [
        {
          "output_type": "stream",
          "name": "stdout",
          "text": [
            "54\n",
            "예외발생\n"
          ]
        }
      ]
    }
  ]
}