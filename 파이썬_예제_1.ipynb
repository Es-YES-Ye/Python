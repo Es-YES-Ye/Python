{
  "nbformat": 4,
  "nbformat_minor": 0,
  "metadata": {
    "colab": {
      "name": "파이썬 예제 1.ipynb",
      "provenance": [],
      "collapsed_sections": [],
      "authorship_tag": "ABX9TyMxVVSzwHItohwQTHm3B6Yi",
      "include_colab_link": true
    },
    "kernelspec": {
      "name": "python3",
      "display_name": "Python 3"
    },
    "language_info": {
      "name": "python"
    }
  },
  "cells": [
    {
      "cell_type": "markdown",
      "metadata": {
        "id": "view-in-github",
        "colab_type": "text"
      },
      "source": [
        "<a href=\"https://colab.research.google.com/github/Es-YES-Ye/Python/blob/main/%ED%8C%8C%EC%9D%B4%EC%8D%AC_%EC%98%88%EC%A0%9C_1.ipynb\" target=\"_parent\"><img src=\"https://colab.research.google.com/assets/colab-badge.svg\" alt=\"Open In Colab\"/></a>"
      ]
    },
    {
      "cell_type": "code",
      "execution_count": null,
      "metadata": {
        "id": "SeH6lwws9uMC"
      },
      "outputs": [],
      "source": [
        "def hello():\n",
        "  print(\"안녕하세요\")"
      ]
    },
    {
      "cell_type": "code",
      "source": [
        "hello()"
      ],
      "metadata": {
        "colab": {
          "base_uri": "https://localhost:8080/"
        },
        "id": "Yrb_AQ5m9_D1",
        "outputId": "be9d1c79-2f2e-4e4e-e4b8-45af60f7cad5"
      },
      "execution_count": null,
      "outputs": [
        {
          "output_type": "stream",
          "name": "stdout",
          "text": [
            "안녕하세요\n"
          ]
        }
      ]
    },
    {
      "cell_type": "code",
      "source": [
        "def weather(day, sky, n):\n",
        "  for i in range(n):\n",
        "    print(day + sky)"
      ],
      "metadata": {
        "id": "dSMnFQbf-Vee"
      },
      "execution_count": null,
      "outputs": []
    },
    {
      "cell_type": "code",
      "source": [
        "weather(\"오늘\",\"하늘 맑음\", 3)"
      ],
      "metadata": {
        "colab": {
          "base_uri": "https://localhost:8080/"
        },
        "id": "kYwt0TVo-o7C",
        "outputId": "e58c33c0-2d34-4098-9345-5ba008898880"
      },
      "execution_count": null,
      "outputs": [
        {
          "output_type": "stream",
          "name": "stdout",
          "text": [
            "오늘하늘 맑음\n",
            "오늘하늘 맑음\n",
            "오늘하늘 맑음\n"
          ]
        }
      ]
    },
    {
      "cell_type": "code",
      "source": [
        "def milk(n, *values):\n",
        "  for i in range(n):\n",
        "    for value in values:\n",
        "      print(value)\n",
        "    print()"
      ],
      "metadata": {
        "id": "2M9U4kZ6-46i"
      },
      "execution_count": null,
      "outputs": []
    },
    {
      "cell_type": "code",
      "source": [
        "milk(3, \"딸기우유\", \"초코우유\", \"커피우유\", \"흰 우유\")"
      ],
      "metadata": {
        "colab": {
          "base_uri": "https://localhost:8080/"
        },
        "id": "3VYghX6WAfiL",
        "outputId": "2d9b9f4b-ea6d-4859-8075-2c5e66297a5f"
      },
      "execution_count": null,
      "outputs": [
        {
          "output_type": "stream",
          "name": "stdout",
          "text": [
            "딸기우유\n",
            "초코우유\n",
            "커피우유\n",
            "흰 우유\n",
            "\n",
            "딸기우유\n",
            "초코우유\n",
            "커피우유\n",
            "흰 우유\n",
            "\n",
            "딸기우유\n",
            "초코우유\n",
            "커피우유\n",
            "흰 우유\n",
            "\n"
          ]
        }
      ]
    },
    {
      "cell_type": "code",
      "source": [
        "def coffee(cup, *values, n=2):\n",
        "  print(cup)\n",
        "  for i in range(n):\n",
        "    for value in values:\n",
        "      print(value)\n",
        "      print(\"호로록\")\n"
      ],
      "metadata": {
        "id": "5STRltO_B0xQ"
      },
      "execution_count": null,
      "outputs": []
    },
    {
      "cell_type": "code",
      "source": [
        "coffee(\"Venti\", \"아이스아메리카노\")"
      ],
      "metadata": {
        "colab": {
          "base_uri": "https://localhost:8080/"
        },
        "id": "s8Kr5ktJJvmV",
        "outputId": "26bd433e-271a-4958-e4a8-91538dab6ac6"
      },
      "execution_count": null,
      "outputs": [
        {
          "output_type": "stream",
          "name": "stdout",
          "text": [
            "Venti\n",
            "아이스아메리카노\n",
            "호로록\n",
            "아이스아메리카노\n",
            "호로록\n"
          ]
        }
      ]
    },
    {
      "cell_type": "code",
      "source": [
        "coffee(\"Venti\", \"핫초코\", n=5)"
      ],
      "metadata": {
        "colab": {
          "base_uri": "https://localhost:8080/"
        },
        "id": "ZpNAhruyKgVT",
        "outputId": "3693cb0f-862e-4271-8a6f-9d33d8a3c7d0"
      },
      "execution_count": null,
      "outputs": [
        {
          "output_type": "stream",
          "name": "stdout",
          "text": [
            "Venti\n",
            "핫초코\n",
            "호로록\n",
            "핫초코\n",
            "호로록\n",
            "핫초코\n",
            "호로록\n",
            "핫초코\n",
            "호로록\n",
            "핫초코\n",
            "호로록\n"
          ]
        }
      ]
    },
    {
      "cell_type": "code",
      "source": [
        "def test(a,b=10, c=100):\n",
        "  print(a+b+c)\n",
        "\n",
        "#1) 기본 형태\n",
        "test(10, 20, 30)\n",
        "#2) 키워드 매개변수로 모든 매개변수를 지정한 형태\n",
        "test(a=10, b=100, c=200)\n",
        "#3) 키워드 매개변수로 모든 매개변수를 마구잡이로 지정한 형태\n",
        "test(c=50, a=120, b=30)\n",
        "#4) 키워드 매개변수로 일부 매개변수만 지정한 형태\n",
        "test(10, c=200)"
      ],
      "metadata": {
        "colab": {
          "base_uri": "https://localhost:8080/"
        },
        "id": "5o1JDHeZXwXn",
        "outputId": "06451109-28f2-4d15-b1f5-905193ed3133"
      },
      "execution_count": null,
      "outputs": [
        {
          "output_type": "stream",
          "name": "stdout",
          "text": [
            "60\n",
            "310\n",
            "200\n",
            "220\n"
          ]
        }
      ]
    },
    {
      "cell_type": "markdown",
      "source": [
        "#데이터 신뢰성을 높이는 멤버 - 설정자, 접근자\n",
        "\n",
        "멤버 필드의 가시성을 차단하고 필요하면 설정자와 접급자를 제공하자.\n",
        "\n",
        "\n",
        "설정자 - 멤버 필드에 값을 설정하는 메소드\n",
        "\n",
        "접근자 - 멤버 필드에 값을 확인하는 메소드"
      ],
      "metadata": {
        "id": "Tek9_5caaaq6"
      }
    },
    {
      "cell_type": "code",
      "source": [
        "def pen():\n",
        "  print(\"분홍색\")\n",
        "  return\n",
        "  print(\"파란색\")\n",
        "\n",
        "pen()"
      ],
      "metadata": {
        "colab": {
          "base_uri": "https://localhost:8080/"
        },
        "id": "x1g8S_xUaj5F",
        "outputId": "b8a541c4-0ddc-4b46-d289-21f4a57b27b6"
      },
      "execution_count": null,
      "outputs": [
        {
          "output_type": "stream",
          "name": "stdout",
          "text": [
            "분홍색\n"
          ]
        }
      ]
    },
    {
      "cell_type": "code",
      "source": [
        "def num():\n",
        "  print(\"숫자 하나\")\n",
        "  return 100\n",
        "  print(\"숫자 둘\")\n",
        "\n",
        "num()"
      ],
      "metadata": {
        "colab": {
          "base_uri": "https://localhost:8080/"
        },
        "id": "1ZwC7oDOgvSh",
        "outputId": "3a3913d7-8a25-4cc3-8ddf-cf74fb9bb2ee"
      },
      "execution_count": null,
      "outputs": [
        {
          "output_type": "stream",
          "name": "stdout",
          "text": [
            "숫자 하나\n"
          ]
        },
        {
          "output_type": "execute_result",
          "data": {
            "text/plain": [
              "100"
            ]
          },
          "metadata": {},
          "execution_count": 37
        }
      ]
    },
    {
      "cell_type": "code",
      "source": [
        "def test():\n",
        "  return\n",
        "\n",
        "print(test())"
      ],
      "metadata": {
        "colab": {
          "base_uri": "https://localhost:8080/"
        },
        "id": "Cp5sEHrGhCua",
        "outputId": "fdf1af63-b6a3-4d68-c2ac-e52021ca7bf6"
      },
      "execution_count": null,
      "outputs": [
        {
          "output_type": "stream",
          "name": "stdout",
          "text": [
            "None\n"
          ]
        }
      ]
    },
    {
      "cell_type": "code",
      "source": [
        "def sum_all2(start, end): #함수를 선언\n",
        "  result = 0 #변수 선언\n",
        "  for i in range(start, end+1): #for반복문으로 start부터 end까지\n",
        "    result += i #숫자를 더한다\n",
        "  return result #총 결과값을 return 한다\n",
        "\n",
        "print(sum_all2(0,100)) #함수를 호출"
      ],
      "metadata": {
        "colab": {
          "base_uri": "https://localhost:8080/"
        },
        "id": "s4T2krk0h6L4",
        "outputId": "308422e1-5639-4a54-9209-f429a0674c0c"
      },
      "execution_count": null,
      "outputs": [
        {
          "output_type": "stream",
          "name": "stdout",
          "text": [
            "5050\n"
          ]
        }
      ]
    },
    {
      "cell_type": "code",
      "source": [
        "def sum_all(name, start=0, end=100, step=1):\n",
        "  output=0\n",
        "  for i in range(start, end+1, step):\n",
        "    output+=i\n",
        "  return name, output"
      ],
      "metadata": {
        "id": "X1AB8jianUy7"
      },
      "execution_count": null,
      "outputs": []
    },
    {
      "cell_type": "code",
      "source": [
        "sum_all('A', 0, 10, 1) , sum_all('B', end=20) , sum_all('C', start=98) , sum_all('D', end=10, step=2)"
      ],
      "metadata": {
        "colab": {
          "base_uri": "https://localhost:8080/"
        },
        "id": "OYS5TGUJnlsI",
        "outputId": "ebb3c0f4-2adc-469c-f8c8-3fe33cd511fa"
      },
      "execution_count": null,
      "outputs": [
        {
          "output_type": "execute_result",
          "data": {
            "text/plain": [
              "(('A', 55), ('B', 210), ('C', 297), ('D', 30))"
            ]
          },
          "metadata": {},
          "execution_count": 54
        }
      ]
    }
  ]
}