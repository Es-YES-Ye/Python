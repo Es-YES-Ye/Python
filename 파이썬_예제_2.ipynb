{
  "nbformat": 4,
  "nbformat_minor": 0,
  "metadata": {
    "colab": {
      "name": "파이썬 예제 2.ipynb",
      "provenance": [],
      "authorship_tag": "ABX9TyMV0UmdX1jPQmWCxC57KNgY",
      "include_colab_link": true
    },
    "kernelspec": {
      "name": "python3",
      "display_name": "Python 3"
    },
    "language_info": {
      "name": "python"
    }
  },
  "cells": [
    {
      "cell_type": "markdown",
      "metadata": {
        "id": "view-in-github",
        "colab_type": "text"
      },
      "source": [
        "<a href=\"https://colab.research.google.com/github/Es-YES-Ye/Python/blob/main/%ED%8C%8C%EC%9D%B4%EC%8D%AC_%EC%98%88%EC%A0%9C_2.ipynb\" target=\"_parent\"><img src=\"https://colab.research.google.com/assets/colab-badge.svg\" alt=\"Open In Colab\"/></a>"
      ]
    },
    {
      "cell_type": "code",
      "execution_count": null,
      "metadata": {
        "id": "m2bKEj1_FP0u"
      },
      "outputs": [],
      "source": [
        "def test():\n",
        "  return(10, 20)\n"
      ]
    },
    {
      "cell_type": "code",
      "source": [
        "a,b = test()\n",
        "print(\"a : \", a)\n",
        "print(\"b : \", b)"
      ],
      "metadata": {
        "colab": {
          "base_uri": "https://localhost:8080/"
        },
        "id": "IdqfqSiyFWZK",
        "outputId": "db56cc13-4abb-4dd1-bd05-4dbca8ea8038"
      },
      "execution_count": null,
      "outputs": [
        {
          "output_type": "stream",
          "name": "stdout",
          "text": [
            "a :  10\n",
            "b :  20\n"
          ]
        }
      ]
    },
    {
      "cell_type": "code",
      "source": [
        "for i, value in enumerate([1,2,3,4,5,6]):\n",
        "  print(f\"{i} 번째 요소는 {value} 입니다.\")"
      ],
      "metadata": {
        "colab": {
          "base_uri": "https://localhost:8080/"
        },
        "id": "VCMQIct7FmAV",
        "outputId": "0521977b-8d0a-417d-f837-275022ad6d25"
      },
      "execution_count": null,
      "outputs": [
        {
          "output_type": "stream",
          "name": "stdout",
          "text": [
            "0 번째 요소는 1 입니다.\n",
            "1 번째 요소는 2 입니다.\n",
            "2 번째 요소는 3 입니다.\n",
            "3 번째 요소는 4 입니다.\n",
            "4 번째 요소는 5 입니다.\n",
            "5 번째 요소는 6 입니다.\n"
          ]
        }
      ]
    },
    {
      "cell_type": "code",
      "source": [
        "def call_10_times(func):\n",
        "  for i in range(10):\n",
        "    func()"
      ],
      "metadata": {
        "id": "pxXnFspRGSvt"
      },
      "execution_count": null,
      "outputs": []
    },
    {
      "cell_type": "code",
      "source": [
        "def print_hello():\n",
        "  print(\"Hi\")"
      ],
      "metadata": {
        "id": "kLj7UcUfGZVw"
      },
      "execution_count": null,
      "outputs": []
    },
    {
      "cell_type": "code",
      "source": [
        "call_10_times(print_hello)"
      ],
      "metadata": {
        "colab": {
          "base_uri": "https://localhost:8080/"
        },
        "id": "qJRrj1tZGd7A",
        "outputId": "1301ca87-36b1-400e-d1dc-5701528df654"
      },
      "execution_count": null,
      "outputs": [
        {
          "output_type": "stream",
          "name": "stdout",
          "text": [
            "Hi\n",
            "Hi\n",
            "Hi\n",
            "Hi\n",
            "Hi\n",
            "Hi\n",
            "Hi\n",
            "Hi\n",
            "Hi\n",
            "Hi\n"
          ]
        }
      ]
    },
    {
      "cell_type": "code",
      "source": [
        "def power(item):\n",
        "  return item * item\n",
        "def under_3(item):\n",
        "  return item<3"
      ],
      "metadata": {
        "id": "9PUuEmAzHjxh"
      },
      "execution_count": null,
      "outputs": []
    },
    {
      "cell_type": "code",
      "source": [
        "list_input_a = [1,2,3,4,5]"
      ],
      "metadata": {
        "id": "Y7TojamdHrQQ"
      },
      "execution_count": null,
      "outputs": []
    },
    {
      "cell_type": "code",
      "source": [
        "output_a = map(power, list_input_a)\n",
        "print(\"<map object> 제너레이터: \", output_a)\n",
        "print(\"map() 함수 결과 : \", list(output_a))\n",
        "print()\n",
        "output_b = filter(under_3, list_input_a)\n",
        "print(\"<filter object> 제너레이터: \", output_b)\n",
        "print(\"filter() 함수 결과 : \", list(output_b))"
      ],
      "metadata": {
        "colab": {
          "base_uri": "https://localhost:8080/"
        },
        "id": "s37BGIG7HuJ0",
        "outputId": "b80cf279-d06c-4636-b73b-0894b58d464a"
      },
      "execution_count": null,
      "outputs": [
        {
          "output_type": "stream",
          "name": "stdout",
          "text": [
            "<map object> 제너레이터:  <map object at 0x7f0ea3bfc910>\n",
            "map() 함수 결과 :  [1, 4, 9, 16, 25]\n",
            "\n",
            "<filter object> 제너레이터:  <filter object at 0x7f0ea3bfcc90>\n",
            "filter() 함수 결과 :  [1, 2]\n"
          ]
        }
      ]
    },
    {
      "cell_type": "code",
      "source": [
        "power = lambda x: x*x\n",
        "under_3 = lambda x: x<3\n",
        "  \n",
        "list_input_a = [1,2,3,4,5]\n",
        "  \n",
        "output_a = map(power, list_input_a)\n",
        "print(\"<map object> 제너레이터: \", output_a)\n",
        "print(\"map() 함수 결과 : \", list(output_a))\n",
        "print()\n",
        "output_b = filter(under_3, list_input_a)\n",
        "print(\"<filter object> 제너레이터: \", output_b)\n",
        "print(\"filter() 함수 결과 : \", list(output_b))"
      ],
      "metadata": {
        "colab": {
          "base_uri": "https://localhost:8080/"
        },
        "id": "AYdzKZs0J4CJ",
        "outputId": "8cbadfce-0450-4c4c-decd-8d6ae2bc966e"
      },
      "execution_count": null,
      "outputs": [
        {
          "output_type": "stream",
          "name": "stdout",
          "text": [
            "<map object> 제너레이터:  <map object at 0x7f0ea5a72bd0>\n",
            "map() 함수 결과 :  [1, 4, 9, 16, 25]\n",
            "\n",
            "<filter object> 제너레이터:  <filter object at 0x7f0ea3c4e7d0>\n",
            "filter() 함수 결과 :  [1, 2]\n"
          ]
        }
      ]
    }
  ]
}