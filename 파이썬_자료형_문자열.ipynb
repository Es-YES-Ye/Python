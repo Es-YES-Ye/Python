{
  "nbformat": 4,
  "nbformat_minor": 0,
  "metadata": {
    "colab": {
      "name": "파이썬-자료형-문자열.ipynb",
      "provenance": [],
      "collapsed_sections": [],
      "authorship_tag": "ABX9TyMH2YYKeyzDIzBKd2eTm4dW",
      "include_colab_link": true
    },
    "kernelspec": {
      "name": "python3",
      "display_name": "Python 3"
    },
    "language_info": {
      "name": "python"
    }
  },
  "cells": [
    {
      "cell_type": "markdown",
      "metadata": {
        "id": "view-in-github",
        "colab_type": "text"
      },
      "source": [
        "<a href=\"https://colab.research.google.com/github/Es-YES-Ye/Python/blob/main/%ED%8C%8C%EC%9D%B4%EC%8D%AC_%EC%9E%90%EB%A3%8C%ED%98%95_%EB%AC%B8%EC%9E%90%EC%97%B4.ipynb\" target=\"_parent\"><img src=\"https://colab.research.google.com/assets/colab-badge.svg\" alt=\"Open In Colab\"/></a>"
      ]
    },
    {
      "cell_type": "markdown",
      "source": [
        "# Chapter2-1"
      ],
      "metadata": {
        "id": "fu4TPvUSdFJW"
      }
    },
    {
      "cell_type": "markdown",
      "source": [
        "# 문자열 기본 표현"
      ],
      "metadata": {
        "id": "H9Al1JWkdJkN"
      }
    },
    {
      "cell_type": "code",
      "execution_count": null,
      "metadata": {
        "colab": {
          "base_uri": "https://localhost:8080/"
        },
        "id": "rSR9OVdNdDDw",
        "outputId": "7ad5ddea-25c8-444d-9522-ca37b353f1fb"
      },
      "outputs": [
        {
          "output_type": "stream",
          "name": "stdout",
          "text": [
            "abc\n",
            "abc\n",
            "안녕하세요\n"
          ]
        }
      ],
      "source": [
        "print('abc')\n",
        "print(\"abc\")\n",
        "print(\"\"\"안녕하세요\"\"\")"
      ]
    },
    {
      "cell_type": "markdown",
      "source": [
        "# 이스케이프 문자"
      ],
      "metadata": {
        "id": "X5hVJ-9EdRk3"
      }
    },
    {
      "cell_type": "code",
      "source": [
        "print('\\t하이') #\\t 탭 들여쓰기\n",
        "print('우리는\\t야호\\n하하하') #\\n 개행"
      ],
      "metadata": {
        "colab": {
          "base_uri": "https://localhost:8080/"
        },
        "id": "7aHaiXdhdTNi",
        "outputId": "01daaf49-997c-49d5-9a64-d442d0dde5eb"
      },
      "execution_count": null,
      "outputs": [
        {
          "output_type": "stream",
          "name": "stdout",
          "text": [
            "\t하이\n",
            "우리는\t야호\n",
            "하하하\n"
          ]
        }
      ]
    },
    {
      "cell_type": "code",
      "source": [
        "print(\"I'm a boy.\")"
      ],
      "metadata": {
        "id": "pQSZrNxtdhQ1"
      },
      "execution_count": null,
      "outputs": []
    },
    {
      "cell_type": "code",
      "source": [
        "print(\"그가 \\\"안녕\\\"이라고 말했다.\") #\"를 출력하기 위해서 \\ 쓸 수도 있다.\""
      ],
      "metadata": {
        "colab": {
          "base_uri": "https://localhost:8080/"
        },
        "id": "JGRQVrCEd-ms",
        "outputId": "0dbdb7c4-9d9c-4acd-e961-d09a43f4d75c"
      },
      "execution_count": null,
      "outputs": [
        {
          "output_type": "stream",
          "name": "stdout",
          "text": [
            "그가 \"안녕\"이라고 말했다.\n"
          ]
        }
      ]
    },
    {
      "cell_type": "code",
      "source": [
        "print('그가 \"안녕\"이라고 말했다.')"
      ],
      "metadata": {
        "id": "lPwwrFSNeHuY"
      },
      "execution_count": null,
      "outputs": []
    },
    {
      "cell_type": "markdown",
      "source": [
        "# 인용문"
      ],
      "metadata": {
        "id": "xOuO_duaeLuK"
      }
    },
    {
      "cell_type": "code",
      "source": [
        "print(\"===\")\n",
        "azale=\"\"\"\n",
        "진달래꽃\n",
        "나 보기가 역겨워\n",
        "가실 때에는 \n",
        "말없이 고이 보내\n",
        "드리오리다.\n",
        "\"\"\"\n",
        "print(azale)\n",
        "print(\"===\") \n",
        "#여러 줄의 인용문 사용할 때 \"\"\" 쓸 수 있다\n"
      ],
      "metadata": {
        "colab": {
          "base_uri": "https://localhost:8080/"
        },
        "id": "tRtUgNUIeSTq",
        "outputId": "ed820c21-04b2-442b-e167-466966c86fe0"
      },
      "execution_count": null,
      "outputs": [
        {
          "output_type": "stream",
          "name": "stdout",
          "text": [
            "===\n",
            "\n",
            "진달래꽃\n",
            "나 보기가 역겨워\n",
            "가실 때에는 \n",
            "말없이 고이 보내\n",
            "드리오리다.\n",
            "\n",
            "===\n"
          ]
        }
      ]
    },
    {
      "cell_type": "code",
      "source": [
        "print(\"===\")\n",
        "azale2=\"\"\"\\\n",
        "진달래꽃\n",
        "나 보기가 역겨워\n",
        "가실 때에는 \n",
        "말없이 고이 보내\n",
        "드리오리다.\\\n",
        "\"\"\"\n",
        "print(azale2)\n",
        "print(\"===\") \n",
        "#\\로 위아래 공백을 지울 수도 있다."
      ],
      "metadata": {
        "colab": {
          "base_uri": "https://localhost:8080/"
        },
        "id": "4yY4omBbe78R",
        "outputId": "7b7772b4-74cd-4aa1-e500-e3571b5365b2"
      },
      "execution_count": null,
      "outputs": [
        {
          "output_type": "stream",
          "name": "stdout",
          "text": [
            "===\n",
            "진달래꽃\n",
            "나 보기가 역겨워\n",
            "가실 때에는 \n",
            "말없이 고이 보내\n",
            "드리오리다.\n",
            "===\n"
          ]
        }
      ]
    },
    {
      "cell_type": "markdown",
      "source": [
        "# 문자 코드"
      ],
      "metadata": {
        "id": "tvfgtf-iffXf"
      }
    },
    {
      "cell_type": "code",
      "source": [
        "print(\"a: \",ord('a'), \"A: \",ord('A'), \"0: \",ord('0')) #'a'=> 0110 0001 'A'=> 0101 0001 '0'=>0011 0001"
      ],
      "metadata": {
        "colab": {
          "base_uri": "https://localhost:8080/"
        },
        "id": "Km4b3lVBfhA4",
        "outputId": "bcfc9e38-1d55-4e93-c28d-816b497bb2ad"
      },
      "execution_count": 8,
      "outputs": [
        {
          "output_type": "stream",
          "name": "stdout",
          "text": [
            "a:  97 A:  65 0:  48\n"
          ]
        }
      ]
    },
    {
      "cell_type": "code",
      "source": [
        "print(chr(97), chr(65), chr(48)) #코드값을 문자로 바꿀 수도 있다."
      ],
      "metadata": {
        "colab": {
          "base_uri": "https://localhost:8080/"
        },
        "id": "6lm6Cd_vgR1G",
        "outputId": "621991a2-5a33-4197-ca87-00912336f783"
      },
      "execution_count": 9,
      "outputs": [
        {
          "output_type": "stream",
          "name": "stdout",
          "text": [
            "a A 0\n"
          ]
        }
      ]
    }
  ]
}