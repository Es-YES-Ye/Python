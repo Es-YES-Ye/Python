{
  "nbformat": 4,
  "nbformat_minor": 0,
  "metadata": {
    "colab": {
      "name": "파이썬-자료형-변수와 기본 입력 input.ipynb",
      "provenance": [],
      "authorship_tag": "ABX9TyPSf+UpwIoHT8xkxGI4Or5L",
      "include_colab_link": true
    },
    "kernelspec": {
      "name": "python3",
      "display_name": "Python 3"
    },
    "language_info": {
      "name": "python"
    }
  },
  "cells": [
    {
      "cell_type": "markdown",
      "metadata": {
        "id": "view-in-github",
        "colab_type": "text"
      },
      "source": [
        "<a href=\"https://colab.research.google.com/github/Es-YES-Ye/Python/blob/main/%ED%8C%8C%EC%9D%B4%EC%8D%AC_%EC%9E%90%EB%A3%8C%ED%98%95_%EB%B3%80%EC%88%98%EC%99%80_%EA%B8%B0%EB%B3%B8_%EC%9E%85%EB%A0%A5_input.ipynb\" target=\"_parent\"><img src=\"https://colab.research.google.com/assets/colab-badge.svg\" alt=\"Open In Colab\"/></a>"
      ]
    },
    {
      "cell_type": "markdown",
      "source": [
        "# chapter2-3"
      ],
      "metadata": {
        "id": "u5sZ4Zk8kwAm"
      }
    },
    {
      "cell_type": "markdown",
      "source": [
        "# 변수"
      ],
      "metadata": {
        "id": "SnQf1ilZkdAU"
      }
    },
    {
      "cell_type": "code",
      "execution_count": 1,
      "metadata": {
        "colab": {
          "base_uri": "https://localhost:8080/"
        },
        "id": "9px7Q1YKkYsK",
        "outputId": "5f7a61c4-1f11-4d85-8ec9-bf475417c3e3"
      },
      "outputs": [
        {
          "output_type": "stream",
          "name": "stdout",
          "text": [
            "국어 :  90 수학 :  85 합계 :  175\n"
          ]
        }
      ],
      "source": [
        "korea = 90\n",
        "math = 85\n",
        "sum = korea + math\n",
        "print(\"국어 : \", korea, \"수학 : \", math, \"합계 : \", sum)"
      ]
    },
    {
      "cell_type": "markdown",
      "source": [
        "#기본 입력 input"
      ],
      "metadata": {
        "id": "12Do7NaMlQg-"
      }
    },
    {
      "cell_type": "code",
      "source": [
        "korea = input(\"국어 점수 : \")\n",
        "math = input(\"수학 점수 : \")\n",
        "print(\"국어: \",korea, \"수학: \", math, \"합계: \", korea+math)\n",
        "\n",
        "#문자열 입력시 주의할 점"
      ],
      "metadata": {
        "colab": {
          "base_uri": "https://localhost:8080/"
        },
        "id": "RtFhKKBYlWAH",
        "outputId": "ba9bfbb4-07cb-47de-f675-458c04ef5057"
      },
      "execution_count": 2,
      "outputs": [
        {
          "output_type": "stream",
          "name": "stdout",
          "text": [
            "국어 점수 : 95\n",
            "영어 점수 : 100\n",
            "국어:  95 수학:  100 합계:  95100\n"
          ]
        }
      ]
    },
    {
      "cell_type": "code",
      "source": [
        "print(type(korea), type(math))"
      ],
      "metadata": {
        "colab": {
          "base_uri": "https://localhost:8080/"
        },
        "id": "f-p0OtVAlymU",
        "outputId": "f3cf5299-5707-4c70-86d9-a86956145e5b"
      },
      "execution_count": 3,
      "outputs": [
        {
          "output_type": "stream",
          "name": "stdout",
          "text": [
            "<class 'str'> <class 'str'>\n"
          ]
        }
      ]
    },
    {
      "cell_type": "code",
      "source": [
        "korea = int(korea)\n",
        "maht = int(math)\n",
        "#타입 이름을 함수처럼 사용하면 내가 원하는 형식으로 변환 가능 casting\n",
        "print(\"국어 : \",korea, \"수학 : \", math, \"합계 : \",korea+math)"
      ],
      "metadata": {
        "colab": {
          "base_uri": "https://localhost:8080/"
        },
        "id": "scEWybVdmB_Y",
        "outputId": "4109c9f3-0183-4e3f-fe17-da073679391e"
      },
      "execution_count": 4,
      "outputs": [
        {
          "output_type": "stream",
          "name": "stdout",
          "text": [
            "국어 :  95 수학 :  100 합계 :  95100\n"
          ]
        }
      ]
    },
    {
      "cell_type": "code",
      "source": [
        "korea = int(input(\"국어 점수 : \"))\n",
        "math = int(input(\"수학 점수 : \"))\n",
        "print(\"국어 : \", korea, \"수학 : \", math, \"합계 : \", korea+math)"
      ],
      "metadata": {
        "colab": {
          "base_uri": "https://localhost:8080/"
        },
        "id": "eSKQeFB8mRPu",
        "outputId": "856be734-d632-45bc-a4dd-b9ff7788a259"
      },
      "execution_count": 5,
      "outputs": [
        {
          "output_type": "stream",
          "name": "stdout",
          "text": [
            "국어 점수 : 95\n",
            "수학 점수 : 100\n",
            "국어 :  95 수학 :  100 합계 :  195\n"
          ]
        }
      ]
    },
    {
      "cell_type": "code",
      "source": [
        "fstr1 = \"12.34\"\n",
        "fstr2 = \"3.14\"\n",
        "f1 = float(fstr1)\n",
        "f2 = float(fstr2)\n",
        "print(\"f1 : \", f1, \"f2 : \", f2, \"f1*f2 : \", f1*f2)"
      ],
      "metadata": {
        "colab": {
          "base_uri": "https://localhost:8080/"
        },
        "id": "avfm2Jiump4m",
        "outputId": "99c4290f-edc7-4d20-aa6c-b932db1651c5"
      },
      "execution_count": 6,
      "outputs": [
        {
          "output_type": "stream",
          "name": "stdout",
          "text": [
            "f1 :  12.34 f2 :  3.14 f1*f2 :  38.7476\n"
          ]
        }
      ]
    },
    {
      "cell_type": "code",
      "source": [
        "k_str = str(korea)\n",
        "print(\"k_str : \", k_str, \"type : \", type(k_str))"
      ],
      "metadata": {
        "colab": {
          "base_uri": "https://localhost:8080/"
        },
        "id": "WBKZ_z0GnACd",
        "outputId": "cf8481a8-c2fd-48d9-9b79-e439572b4b96"
      },
      "execution_count": 7,
      "outputs": [
        {
          "output_type": "stream",
          "name": "stdout",
          "text": [
            "k_str :  95 type :  <class 'str'>\n"
          ]
        }
      ]
    }
  ]
}