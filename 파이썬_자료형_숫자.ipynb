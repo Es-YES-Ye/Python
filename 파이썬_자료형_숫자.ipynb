{
  "nbformat": 4,
  "nbformat_minor": 0,
  "metadata": {
    "colab": {
      "name": "파이썬_자료형_숫자.ipynb",
      "provenance": [],
      "authorship_tag": "ABX9TyODOGXWrP7HhBKL5Hqj8yX6",
      "include_colab_link": true
    },
    "kernelspec": {
      "name": "python3",
      "display_name": "Python 3"
    },
    "language_info": {
      "name": "python"
    }
  },
  "cells": [
    {
      "cell_type": "markdown",
      "metadata": {
        "id": "view-in-github",
        "colab_type": "text"
      },
      "source": [
        "<a href=\"https://colab.research.google.com/github/Es-YES-Ye/Python/blob/main/%ED%8C%8C%EC%9D%B4%EC%8D%AC_%EC%9E%90%EB%A3%8C%ED%98%95_%EC%88%AB%EC%9E%90.ipynb\" target=\"_parent\"><img src=\"https://colab.research.google.com/assets/colab-badge.svg\" alt=\"Open In Colab\"/></a>"
      ]
    },
    {
      "cell_type": "markdown",
      "source": [
        "# Chapter2_2 숫자"
      ],
      "metadata": {
        "id": "EUSDbZp7YXx3"
      }
    },
    {
      "cell_type": "markdown",
      "source": [
        "정수"
      ],
      "metadata": {
        "id": "EmnelO8gYiZo"
      }
    },
    {
      "cell_type": "code",
      "execution_count": 1,
      "metadata": {
        "colab": {
          "base_uri": "https://localhost:8080/"
        },
        "id": "U81EYk56YVQ6",
        "outputId": "5ffd98ee-5365-45a4-ded9-343b0bb6ccc5"
      },
      "outputs": [
        {
          "output_type": "stream",
          "name": "stdout",
          "text": [
            "12 10 18\n"
          ]
        }
      ],
      "source": [
        "print(12, 0o12, 0x12) #12:십진수, 0o12:8진수, 0x12:16진수"
      ]
    },
    {
      "cell_type": "code",
      "source": [
        "print(type(12), type(0o12), type(0x12))\n",
        " "
      ],
      "metadata": {
        "colab": {
          "base_uri": "https://localhost:8080/"
        },
        "id": "qKDN3j3_Yzoy",
        "outputId": "710a4971-4112-4a76-c9ef-e77bbeb9ccc9"
      },
      "execution_count": 3,
      "outputs": [
        {
          "output_type": "stream",
          "name": "stdout",
          "text": [
            "<class 'int'> <class 'int'> <class 'int'>\n"
          ]
        }
      ]
    },
    {
      "cell_type": "markdown",
      "source": [
        "# 실수"
      ],
      "metadata": {
        "id": "OK1tlZd7ZEhj"
      }
    },
    {
      "cell_type": "code",
      "source": [
        "print(3.14, 1.234e6) #3.14:부동 소수점 표기, 1.234e6: 지수 표현 e6 은 10의 6승이라는 뜻"
      ],
      "metadata": {
        "colab": {
          "base_uri": "https://localhost:8080/"
        },
        "id": "9j_Qzu-aY_t-",
        "outputId": "6bcf6357-b5bd-4430-bf5a-6ee075dcf587"
      },
      "execution_count": 4,
      "outputs": [
        {
          "output_type": "stream",
          "name": "stdout",
          "text": [
            "3.14 1234000.0\n"
          ]
        }
      ]
    },
    {
      "cell_type": "code",
      "source": [
        "print(type(3.14), type(1.234e6))"
      ],
      "metadata": {
        "colab": {
          "base_uri": "https://localhost:8080/"
        },
        "id": "OJkC84XXZavW",
        "outputId": "8ac5c1de-8ea1-4273-b2e8-8a46d646010c"
      },
      "execution_count": 5,
      "outputs": [
        {
          "output_type": "stream",
          "name": "stdout",
          "text": [
            "<class 'float'> <class 'float'>\n"
          ]
        }
      ]
    },
    {
      "cell_type": "markdown",
      "source": [
        "# 수와 관계있는 연산"
      ],
      "metadata": {
        "id": "nPKeQnRwaE-c"
      }
    },
    {
      "cell_type": "code",
      "source": [
        "print(\"8+3 =\", 8+3 )\n",
        "print(\"8-3 =\", 8-3 )\n",
        "print(\"8*3 =\", 8*3 )\n",
        "print(\"8/3 =\", 8/3 )"
      ],
      "metadata": {
        "colab": {
          "base_uri": "https://localhost:8080/"
        },
        "id": "HtV_ggJ3aIJT",
        "outputId": "04c9a7d4-c03d-4e46-8782-886644749d1a"
      },
      "execution_count": 6,
      "outputs": [
        {
          "output_type": "stream",
          "name": "stdout",
          "text": [
            "8+3 = 11\n",
            "8-3 = 5\n",
            "8*3 = 24\n",
            "8/3 = 2.6666666666666665\n"
          ]
        }
      ]
    },
    {
      "cell_type": "code",
      "source": [
        "print(\"8//5 = \", 8//5) #몫\n",
        "print(\"8%5 = \", 8%5) #나머지"
      ],
      "metadata": {
        "colab": {
          "base_uri": "https://localhost:8080/"
        },
        "id": "kYCNBSbaahvs",
        "outputId": "9af88aa1-fe20-449b-a48d-bc76c5ebc790"
      },
      "execution_count": 7,
      "outputs": [
        {
          "output_type": "stream",
          "name": "stdout",
          "text": [
            "8//5 =  1\n",
            "8%5 =  3\n"
          ]
        }
      ]
    },
    {
      "cell_type": "code",
      "source": [
        "i = 0\n",
        "i = (i+1)%5\n",
        "print(i)\n",
        "i = (i+1)%5\n",
        "print(i)\n",
        "i = (i+1)%5\n",
        "print(i)\n",
        "i = (i+1)%5\n",
        "print(i)\n",
        "i = (i+1)%5\n",
        "print(i)\n",
        "i = (i+1)%5\n",
        "print(i)\n",
        "i = (i+1)%5\n",
        "print(i)\n",
        "i = (i+1)%5\n",
        "print(i)\n",
        "#로테이션 목적으로 사용"
      ],
      "metadata": {
        "colab": {
          "base_uri": "https://localhost:8080/"
        },
        "id": "UhG5B9O3a0d6",
        "outputId": "15c6fe3b-95d4-4e9c-e776-883177b5bfa4"
      },
      "execution_count": 9,
      "outputs": [
        {
          "output_type": "stream",
          "name": "stdout",
          "text": [
            "1\n",
            "2\n",
            "3\n",
            "4\n",
            "0\n",
            "1\n",
            "2\n",
            "3\n"
          ]
        }
      ]
    },
    {
      "cell_type": "markdown",
      "source": [
        "# 복소수"
      ],
      "metadata": {
        "id": "BP7zvjG7bZ4l"
      }
    },
    {
      "cell_type": "code",
      "source": [
        "print(2+3j)"
      ],
      "metadata": {
        "colab": {
          "base_uri": "https://localhost:8080/"
        },
        "id": "6GGpYZC_a8Se",
        "outputId": "888bb11d-1461-42de-8326-f8743db2ccc5"
      },
      "execution_count": 10,
      "outputs": [
        {
          "output_type": "stream",
          "name": "stdout",
          "text": [
            "(2+3j)\n"
          ]
        }
      ]
    },
    {
      "cell_type": "code",
      "source": [
        "cv = 2+3j\n",
        "print(\"실수부 : \", cv.real, \"허수부\", cv.imag)"
      ],
      "metadata": {
        "colab": {
          "base_uri": "https://localhost:8080/"
        },
        "id": "azFBfddccHyb",
        "outputId": "5af6c1f9-95f9-4aae-fdd0-3c5993e6965e"
      },
      "execution_count": 11,
      "outputs": [
        {
          "output_type": "stream",
          "name": "stdout",
          "text": [
            "실수부 :  2.0 허수부 3.0\n"
          ]
        }
      ]
    }
  ]
}