{
  "nbformat": 4,
  "nbformat_minor": 0,
  "metadata": {
    "colab": {
      "name": "파이썬 조건문 - if else elif.ipynb",
      "provenance": [],
      "authorship_tag": "ABX9TyN59iwyUk0PiIM+AZpMiUSA",
      "include_colab_link": true
    },
    "kernelspec": {
      "name": "python3",
      "display_name": "Python 3"
    },
    "language_info": {
      "name": "python"
    }
  },
  "cells": [
    {
      "cell_type": "markdown",
      "metadata": {
        "id": "view-in-github",
        "colab_type": "text"
      },
      "source": [
        "<a href=\"https://colab.research.google.com/github/Es-YES-Ye/Python/blob/main/%ED%8C%8C%EC%9D%B4%EC%8D%AC_%EC%A1%B0%EA%B1%B4%EB%AC%B8_if_else_elif.ipynb\" target=\"_parent\"><img src=\"https://colab.research.google.com/assets/colab-badge.svg\" alt=\"Open In Colab\"/></a>"
      ]
    },
    {
      "cell_type": "markdown",
      "source": [
        "#if else \n",
        "if 조건:\n",
        "\n",
        "조건이 참일 때 수행할 구문\n",
        "\n",
        "else:\n",
        "\n",
        "조건이 거짓일 때 수행할 구문\n"
      ],
      "metadata": {
        "id": "fWBCvGzWsiNp"
      }
    },
    {
      "cell_type": "code",
      "execution_count": 1,
      "metadata": {
        "colab": {
          "base_uri": "https://localhost:8080/"
        },
        "id": "uqDoN9Dkqewg",
        "outputId": "6b21d83c-f68f-4b0c-c4a3-dd35a0c4fc35"
      },
      "outputs": [
        {
          "output_type": "stream",
          "name": "stdout",
          "text": [
            "정수 : 44\n",
            "짝수\n",
            "===========\n"
          ]
        }
      ],
      "source": [
        "num = int(input(\"정수 : \"))\n",
        "if num%2 ==0:\n",
        "  print(\"짝수\")\n",
        "else:\n",
        "  print(\"홀수\")\n",
        "print(\"===========\")"
      ]
    },
    {
      "cell_type": "markdown",
      "source": [
        "#if elif else\n",
        "if 조건1:\n",
        "\n",
        "조건1이 참일 때 수행할 구문\n",
        "\n",
        "elif 조건2:\n",
        "\n",
        "조건2가 참일 때 수행할 구문\n",
        "\n",
        "else:\n",
        "\n",
        "모든 조건이 거짓일 때 수핼할 구문\n"
      ],
      "metadata": {
        "id": "yimBBD8ZtT1A"
      }
    },
    {
      "cell_type": "code",
      "source": [
        "score = int(input(\"국어 점수 : \"))\n",
        "if score>=90:\n",
        "  print(\"A\")\n",
        "elif score>=80:\n",
        "  print(\"B\")\n",
        "elif score>=70:\n",
        "  print(\"C\")\n",
        "elif score>=60:\n",
        "  print(\"D\")\n",
        "else:\n",
        "  print(\"F\")\n",
        "print(\"=============\")"
      ],
      "metadata": {
        "colab": {
          "base_uri": "https://localhost:8080/"
        },
        "id": "E_gV-VrateKT",
        "outputId": "943ea6d0-227f-4071-e344-ead4a8a5aa0a"
      },
      "execution_count": 2,
      "outputs": [
        {
          "output_type": "stream",
          "name": "stdout",
          "text": [
            "국어 점수 : 85\n",
            "B\n",
            "=============\n"
          ]
        }
      ]
    }
  ]
}