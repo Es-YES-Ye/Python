{
  "nbformat": 4,
  "nbformat_minor": 0,
  "metadata": {
    "colab": {
      "name": "파이썬 - 클래스.ipynb",
      "provenance": [],
      "authorship_tag": "ABX9TyNWCOkBpZp9tgjsVvSZKWVV",
      "include_colab_link": true
    },
    "kernelspec": {
      "name": "python3",
      "display_name": "Python 3"
    },
    "language_info": {
      "name": "python"
    }
  },
  "cells": [
    {
      "cell_type": "markdown",
      "metadata": {
        "id": "view-in-github",
        "colab_type": "text"
      },
      "source": [
        "<a href=\"https://colab.research.google.com/github/Es-YES-Ye/Python/blob/main/%ED%8C%8C%EC%9D%B4%EC%8D%AC_%ED%81%B4%EB%9E%98%EC%8A%A4.ipynb\" target=\"_parent\"><img src=\"https://colab.research.google.com/assets/colab-badge.svg\" alt=\"Open In Colab\"/></a>"
      ]
    },
    {
      "cell_type": "markdown",
      "source": [
        "#구조체 캡슐화\n",
        "\n",
        "데이터를 멤버로 구성하는 캡슐화\n",
        "\n",
        "절차식 언어에서 캡슐화하는 방법\n",
        "\n",
        "분리되어있는 데이터를 하나로 묶어서 관리하면 정의하기 쉬워진다."
      ],
      "metadata": {
        "id": "5anECSSZRL0K"
      }
    },
    {
      "cell_type": "code",
      "execution_count": null,
      "metadata": {
        "id": "6il8cU2VCeFw"
      },
      "outputs": [],
      "source": [
        "from dataclasses import dataclass\n",
        "@dataclass\n",
        "class Product:\n",
        "  weight:int=None\n",
        "  price:int=None"
      ]
    },
    {
      "cell_type": "code",
      "source": [
        "pen = Product()\n",
        "pen.weight=100\n",
        "pen.price=1000\n",
        "print(\"무게: \", pen.weight, \"가격: \",pen.price)"
      ],
      "metadata": {
        "colab": {
          "base_uri": "https://localhost:8080/"
        },
        "id": "L3DSrIDVRnPp",
        "outputId": "b79f1ceb-ef7d-4809-b863-540d20960312"
      },
      "execution_count": null,
      "outputs": [
        {
          "output_type": "stream",
          "name": "stdout",
          "text": [
            "무게:  100 가격:  1000\n"
          ]
        }
      ]
    },
    {
      "cell_type": "markdown",
      "source": [
        "#클래스 캡슐화\n",
        "\n",
        "멤버 데이터와 멤버 메소드를 캡슐화할 수 있다.\n",
        "\n",
        "OOPL에서 캡슐화하는 방법"
      ],
      "metadata": {
        "id": "0emevew6St7n"
      }
    },
    {
      "cell_type": "code",
      "source": [
        "class Student: #현재 접근하고 있는 학생은 self\n",
        "  def __init__(self,num,name): #__init 초기화함수, 생성자함수, 생성메소드다. 학생이 만들어질 때 실행하는 함수\n",
        "    self.num = num #나의 이번호\n",
        "    self.name = name\n",
        "    self.iq=0\n",
        "  def introduce(self): #멤버메소드\n",
        "    print(f\"번호는 {self.num}, 이름은 {self.name} 아이큐는 {self.iq} 입니다.\")\n",
        "  def study(self): #멤버메소드\n",
        "    self.iq+=1\n",
        "    print(f\"{self.name} : 공부합니다. 공 부 중 . . . 공... 부... 중...\")"
      ],
      "metadata": {
        "id": "iw74vAsISsFC"
      },
      "execution_count": null,
      "outputs": []
    },
    {
      "cell_type": "code",
      "source": [
        "#하나의 메소드로 데이터와 데이터에 관한 기능을 사용할 수 있다.\n",
        "#여러 개의 멤버를 하나의 형식으로 묶는다\n",
        "\n",
        "s1 = Student(1, \"독고길동\")\n",
        "s1.introduce()\n",
        "s1.study()\n",
        "s1.study()\n",
        "s1.study()\n",
        "s1.introduce() "
      ],
      "metadata": {
        "colab": {
          "base_uri": "https://localhost:8080/"
        },
        "id": "mKoqTRiUUAgM",
        "outputId": "437798ef-51fb-4937-b96a-7d9396236ec7"
      },
      "execution_count": null,
      "outputs": [
        {
          "output_type": "stream",
          "name": "stdout",
          "text": [
            "번호는 1, 이름은 독고길동 아이큐는 0 입니다.\n",
            "독고길동 : 공부합니다. 공 부 중 . . . 공... 부... 중...\n",
            "독고길동 : 공부합니다. 공 부 중 . . . 공... 부... 중...\n",
            "독고길동 : 공부합니다. 공 부 중 . . . 공... 부... 중...\n",
            "번호는 1, 이름은 독고길동 아이큐는 3 입니다.\n"
          ]
        }
      ]
    },
    {
      "cell_type": "markdown",
      "source": [
        "#정보 은닉\n",
        "\n",
        "캡슐화 과정에서 특정 멤버의 가시성을 차단하는 방법 -> 멤버 앞에 __를 붙이면 은폐(private)\n",
        "\n",
        "사용하는 곳에서 직접 사용하지 못하며 형식 내부에서만 사용하게 하는 기법\n",
        "\n",
        "데이터 신뢰성을 높이는 방법으로 사용한다.\n",
        "\n"
      ],
      "metadata": {
        "id": "KVZvJl4QU4Li"
      }
    },
    {
      "cell_type": "code",
      "source": [
        "#시나리오 S:\n",
        "#     학생이 연속으로 5회 공부하면 아이큐가 1 올라간다.\n",
        "class Student:\n",
        "\n",
        "  def __init__(self, name):\n",
        "    self.name=name \n",
        "    self.iq=100\n",
        "    self.__scnt=0 #연속으로 공부한 횟수\n",
        "  def study(self):\n",
        "    self.__scnt+=1\n",
        "    if self.__scnt==5: #정보 은닉한 멤버에는 접근할 수 없다.\n",
        "      self.iq+=1 #iq에만 직접적으로 접근 가능하다\n",
        "      self.__scnt=0\n",
        "  def introduce(self): \n",
        "    print(f\"이름은 {self.name} 이고 아이큐는 {self.iq} 입니다. SCNT 는 : {self.__scnt}\")"
      ],
      "metadata": {
        "id": "QvlPfIacVjkg"
      },
      "execution_count": null,
      "outputs": []
    },
    {
      "cell_type": "code",
      "source": [
        "s1 = Student(\"남궁길동\")\n",
        "s1.introduce()\n",
        "s1.study()\n",
        "s1.study()\n",
        "s1.study()\n",
        "s1.study()\n",
        "print(s1.iq)\n",
        "s1.iq=10293\n",
        "s1.introduce() "
      ],
      "metadata": {
        "colab": {
          "base_uri": "https://localhost:8080/"
        },
        "id": "8UDdROuvWjaY",
        "outputId": "cae36baf-0fcc-43c9-8cf2-5572440242c9"
      },
      "execution_count": null,
      "outputs": [
        {
          "output_type": "stream",
          "name": "stdout",
          "text": [
            "이름은 남궁길동 이고 아이큐는 100 입니다. SCNT 는 : 0\n",
            "100\n",
            "이름은 남궁길동 이고 아이큐는 10293 입니다. SCNT 는 : 4\n"
          ]
        }
      ]
    },
    {
      "cell_type": "markdown",
      "source": [
        "#특별한 멤버 - 생성자, 소멸자\n",
        "\n",
        "개체를 생성할 때 생성자 (__init__)을 호출한다.\n",
        "\n",
        "해당 개체를 소멸하는 것은 garbage 수집기가 알아서 수행한다.\n",
        "\n",
        "(c와 c++에서는 개발자가 직접 소멸시켜야 하는 부담이 있다.)"
      ],
      "metadata": {
        "id": "xz4PCae2X_9P"
      }
    },
    {
      "cell_type": "code",
      "source": [
        "#시나리오 S:\n",
        "#     학생이 연속으로 5회 공부하면 아이큐가 1 올라간다.\n",
        "class Student:\n",
        "\n",
        "  def __init__(self):\n",
        "    print(\"__init__\")\n",
        "  def __del__(self):\n",
        "    print(\"__del__\")"
      ],
      "metadata": {
        "id": "dp1XyWizX8T9"
      },
      "execution_count": null,
      "outputs": []
    },
    {
      "cell_type": "code",
      "source": [
        "print(\"===1===\")\n",
        "s1 = Student()\n",
        "print(\"===2===\")\n",
        "s2 = Student()\n",
        "print(\"===3===\")\n",
        "s3 = Student()\n",
        "print(\"========\")\n",
        "exit(0)"
      ],
      "metadata": {
        "colab": {
          "base_uri": "https://localhost:8080/"
        },
        "id": "SLJNUzBlZfJX",
        "outputId": "eea59712-a95a-4f19-9572-bfb2c6ea47c0"
      },
      "execution_count": null,
      "outputs": [
        {
          "output_type": "stream",
          "name": "stdout",
          "text": [
            "===1===\n",
            "__init__\n",
            "===2===\n",
            "__init__\n",
            "===3===\n",
            "__init__\n",
            "========\n"
          ]
        }
      ]
    },
    {
      "cell_type": "markdown",
      "source": [
        "#데이터 신뢰성을 높이는 멤버 - 설정자, 접근자\n",
        "\n",
        "\n",
        "멤버 필드의 가시성을 차단하고 필요하면 설정자와 접근자를 제공하자.\n",
        "\n",
        "설정자 - 멤버 필드에 값을 설정하는 메소드, set_멤버필드명\n",
        "접근자 - 멤버 필드에 값을 확인하는 메소드, get_멤버필드명"
      ],
      "metadata": {
        "id": "4S44OD8YbJ4R"
      }
    },
    {
      "cell_type": "code",
      "source": [
        "class Student: \n",
        "  def __init__(self,name,num):\n",
        "    self.__name = name\n",
        "    self.__num = num\n",
        "    self.__korea = 0\n",
        "    self.__eng = 0\n",
        "    self.__math = 0\n",
        "  def get_name(self):\n",
        "    return self.__name\n",
        "  def get_num(self):\n",
        "    return self.__num\n",
        "  def set_korea(self, score):\n",
        "    self.__korea = score\n",
        "  def set_eng(self, score):\n",
        "    self.__eng = score\n",
        "  def set_math(self, score):\n",
        "    self.__math = score\n",
        "  def get_korea(self):\n",
        "    return self.__korea\n",
        "  def get_eng(self):\n",
        "    return self.__eng\n",
        "  def get_math(self):\n",
        "    return self.__math\n",
        "  def tostr(self):\n",
        "    return f\"이름: {self.__name}, 번호: {self.__num}, 국어: {self.__korea}, 영어: {self.__eng}, 수학: {self.__math}\""
      ],
      "metadata": {
        "id": "lvp86INmbM8Z"
      },
      "execution_count": 1,
      "outputs": []
    },
    {
      "cell_type": "code",
      "source": [
        "s1 = Student(\"선우길동\", 3)\n",
        "print(s1.tostr())\n",
        "s1.set_korea(90)\n",
        "s1.set_eng(100)\n",
        "s1.set_math(89)\n",
        "print(s1.tostr())"
      ],
      "metadata": {
        "colab": {
          "base_uri": "https://localhost:8080/"
        },
        "id": "wYrmvlLIfocB",
        "outputId": "013f337b-eef4-4a5c-a8f7-30f1809abbc5"
      },
      "execution_count": 2,
      "outputs": [
        {
          "output_type": "stream",
          "name": "stdout",
          "text": [
            "이름: 선우길동, 번호: 3, 국어: 0, 영어: 0, 수학: 0\n",
            "이름: 선우길동, 번호: 3, 국어: 90, 영어: 100, 수학: 89\n"
          ]
        }
      ]
    }
  ]
}