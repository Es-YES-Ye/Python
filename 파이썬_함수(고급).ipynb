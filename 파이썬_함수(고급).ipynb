{
  "nbformat": 4,
  "nbformat_minor": 0,
  "metadata": {
    "colab": {
      "name": "파이썬-함수(고급).ipynb",
      "provenance": [],
      "authorship_tag": "ABX9TyOs0mUSF5YJO3CZT27bwGxn",
      "include_colab_link": true
    },
    "kernelspec": {
      "name": "python3",
      "display_name": "Python 3"
    },
    "language_info": {
      "name": "python"
    }
  },
  "cells": [
    {
      "cell_type": "markdown",
      "metadata": {
        "id": "view-in-github",
        "colab_type": "text"
      },
      "source": [
        "<a href=\"https://colab.research.google.com/github/Es-YES-Ye/Python/blob/main/%ED%8C%8C%EC%9D%B4%EC%8D%AC_%ED%95%A8%EC%88%98(%EA%B3%A0%EA%B8%89).ipynb\" target=\"_parent\"><img src=\"https://colab.research.google.com/assets/colab-badge.svg\" alt=\"Open In Colab\"/></a>"
      ]
    },
    {
      "cell_type": "markdown",
      "source": [
        "#튜플\n",
        "\n",
        "여러 개의 요소로 구성한 컬렉션\n",
        "\n",
        "요소의 값을 변경할 수 없다."
      ],
      "metadata": {
        "id": "DcvOKWOQSwzm"
      }
    },
    {
      "cell_type": "code",
      "execution_count": 1,
      "metadata": {
        "colab": {
          "base_uri": "https://localhost:8080/"
        },
        "id": "jApSgzrXSs1K",
        "outputId": "a63d2aee-8e6e-4241-919d-509bdbc17911"
      },
      "outputs": [
        {
          "output_type": "stream",
          "name": "stdout",
          "text": [
            "<class 'tuple'>\n"
          ]
        }
      ],
      "source": [
        "t1=(1,2,3)\n",
        "print(type(t1))"
      ]
    },
    {
      "cell_type": "code",
      "source": [
        "print(t1[0])"
      ],
      "metadata": {
        "id": "ZKkl90iYTA4E"
      },
      "execution_count": null,
      "outputs": []
    },
    {
      "cell_type": "code",
      "source": [
        "#요소개수만큼 변수 선언하면 대입할 수 있다\n",
        "\n",
        "a,b=(2,3)\n",
        "print(a,b)"
      ],
      "metadata": {
        "colab": {
          "base_uri": "https://localhost:8080/"
        },
        "id": "RnO3r7vWYPZe",
        "outputId": "ab35d34b-4e4b-4021-9e02-bc1313454de3"
      },
      "execution_count": 5,
      "outputs": [
        {
          "output_type": "stream",
          "name": "stdout",
          "text": [
            "2 3\n"
          ]
        }
      ]
    },
    {
      "cell_type": "code",
      "source": [
        "t=1,2,3,4\n",
        "print(type(t))"
      ],
      "metadata": {
        "colab": {
          "base_uri": "https://localhost:8080/"
        },
        "id": "ay4MrnSFYiGN",
        "outputId": "da873cc6-a038-42a3-fd59-9505adbe56bd"
      },
      "execution_count": 6,
      "outputs": [
        {
          "output_type": "stream",
          "name": "stdout",
          "text": [
            "<class 'tuple'>\n"
          ]
        }
      ]
    },
    {
      "cell_type": "code",
      "source": [
        "a,b,c=1,2,3\n",
        "print(type(a)) #요소 값을 물어본 것"
      ],
      "metadata": {
        "colab": {
          "base_uri": "https://localhost:8080/"
        },
        "id": "-rWUCb7zYoOt",
        "outputId": "8ab7a74a-f3e5-4f91-db51-22ea3234bbe6"
      },
      "execution_count": 7,
      "outputs": [
        {
          "output_type": "stream",
          "name": "stdout",
          "text": [
            "<class 'int'>\n"
          ]
        }
      ]
    },
    {
      "cell_type": "code",
      "source": [
        "#값 교환하기\n",
        "\n",
        "a=2\n",
        "b=3\n",
        "print(a,b)\n",
        "a,b=b,a\n",
        "print(a,b)"
      ],
      "metadata": {
        "colab": {
          "base_uri": "https://localhost:8080/"
        },
        "id": "09RDeigdZEhl",
        "outputId": "f5b0ff0c-74df-428d-bba5-472063e35d7d"
      },
      "execution_count": 8,
      "outputs": [
        {
          "output_type": "stream",
          "name": "stdout",
          "text": [
            "2 3\n",
            "3 2\n"
          ]
        }
      ]
    },
    {
      "cell_type": "code",
      "source": [
        "#t1[0]=7 tuple은 요소의 값을 변경할 수 없다."
      ],
      "metadata": {
        "id": "OrvS9_tITH4h"
      },
      "execution_count": null,
      "outputs": []
    },
    {
      "cell_type": "code",
      "source": [
        "#여러 개의 값을 반환할 수 있다.\n",
        "#반환하는 개수만큼 변수에 넣어서...\n",
        "\n",
        "def get_sum_average(numbers):\n",
        "  s=0\n",
        "  for number in numbers:\n",
        "    s+=number\n",
        "  return s, s/len(numbers)"
      ],
      "metadata": {
        "id": "754IU3ehTX-o"
      },
      "execution_count": 2,
      "outputs": []
    },
    {
      "cell_type": "code",
      "source": [
        "s, aver = get_sum_average([1,2,4,3,54,5,6])\n",
        "print(f\"합계 : {s}  평균 : {aver:.2f}\")"
      ],
      "metadata": {
        "colab": {
          "base_uri": "https://localhost:8080/"
        },
        "id": "YUJyGccYTtOC",
        "outputId": "6f1ce9f9-1276-4950-90f3-0c5e1790702a"
      },
      "execution_count": 3,
      "outputs": [
        {
          "output_type": "stream",
          "name": "stdout",
          "text": [
            "합계 : 75  평균 : 10.71\n"
          ]
        }
      ]
    },
    {
      "cell_type": "code",
      "source": [
        "#하나 변수에 여러 개 값이 들어가면 내부적으로 튜플을 반환한다.\n",
        "\n",
        "re = get_sum_average([1,2,4,3,54,5,6])\n",
        "print(re)"
      ],
      "metadata": {
        "colab": {
          "base_uri": "https://localhost:8080/"
        },
        "id": "j0jwJvcKT7cL",
        "outputId": "cb12852b-ef73-4e9e-ee82-14c6e55660a9"
      },
      "execution_count": 4,
      "outputs": [
        {
          "output_type": "stream",
          "name": "stdout",
          "text": [
            "(75, 10.714285714285714)\n"
          ]
        }
      ]
    },
    {
      "cell_type": "markdown",
      "source": [
        "# 람다"
      ],
      "metadata": {
        "id": "gtcYKXIWabIC"
      }
    },
    {
      "cell_type": "code",
      "source": [
        "def square(x):\n",
        "  return x*x"
      ],
      "metadata": {
        "id": "UodHnaQ0aao5"
      },
      "execution_count": 9,
      "outputs": []
    },
    {
      "cell_type": "code",
      "source": [
        "#위의 square 함수와 같은 역할\n",
        "\n",
        "sq=lambda x:x*x"
      ],
      "metadata": {
        "id": "9n59nHiZahQN"
      },
      "execution_count": 10,
      "outputs": []
    },
    {
      "cell_type": "code",
      "source": [
        "def foo(x):\n",
        "  print(f\"foo({x})\")\n",
        "  return 2*x"
      ],
      "metadata": {
        "id": "cJvPetrHaye3"
      },
      "execution_count": 11,
      "outputs": []
    },
    {
      "cell_type": "code",
      "source": [
        "#첫번째 인자로 함수가 가고 두번째 인자로 목록,list가 간다.\n",
        "#함수 호출을 반복해준다. mapping 시켜서\n",
        "#리턴한 값의 목록이 반환된다\n",
        "\n",
        "re = map(foo,[1,2,3,4])\n",
        "\n",
        "for e in re:\n",
        "  print(e)\n",
        "\n",
        "#print(list(re))"
      ],
      "metadata": {
        "colab": {
          "base_uri": "https://localhost:8080/"
        },
        "id": "sDRRRDkia7iE",
        "outputId": "9f1f555e-5513-4f31-c75a-cd2827540979"
      },
      "execution_count": 14,
      "outputs": [
        {
          "output_type": "stream",
          "name": "stdout",
          "text": [
            "foo(1)\n",
            "2\n",
            "foo(2)\n",
            "4\n",
            "foo(3)\n",
            "6\n",
            "foo(4)\n",
            "8\n"
          ]
        }
      ]
    },
    {
      "cell_type": "code",
      "source": [
        "#람다식도 수행 가능\n",
        "\n",
        "re = map(sq,[1,2,3,4])\n",
        "\n",
        "for e in re:\n",
        "  print(e)\n"
      ],
      "metadata": {
        "colab": {
          "base_uri": "https://localhost:8080/"
        },
        "id": "oH1h9_DNbpO4",
        "outputId": "cead5fd3-5450-435a-a282-8b7cc360b4f7"
      },
      "execution_count": 15,
      "outputs": [
        {
          "output_type": "stream",
          "name": "stdout",
          "text": [
            "1\n",
            "4\n",
            "9\n",
            "16\n"
          ]
        }
      ]
    },
    {
      "cell_type": "code",
      "source": [
        "re = map(lambda x:x+2, [1,2,3,4])\n",
        "for e in re:\n",
        "  print(e)"
      ],
      "metadata": {
        "colab": {
          "base_uri": "https://localhost:8080/"
        },
        "id": "tB1aMOgWbvIG",
        "outputId": "acde2cf2-593c-4bcd-b6e9-ecc29a68f1b7"
      },
      "execution_count": 16,
      "outputs": [
        {
          "output_type": "stream",
          "name": "stdout",
          "text": [
            "3\n",
            "4\n",
            "5\n",
            "6\n"
          ]
        }
      ]
    },
    {
      "cell_type": "code",
      "source": [
        "def is_odd(x):\n",
        "  return x%2==1\n"
      ],
      "metadata": {
        "id": "BDm9FUhlcDOp"
      },
      "execution_count": 18,
      "outputs": []
    },
    {
      "cell_type": "code",
      "source": [
        "#filter 참이 되는 요소들만 남는 것\n",
        "\n",
        "re = filter(is_odd, [1,2,3,4,5,6,7,8,9,10,23,45,66])\n",
        "for e in re:\n",
        "  print(e)"
      ],
      "metadata": {
        "colab": {
          "base_uri": "https://localhost:8080/"
        },
        "id": "C7dlXWdZcTbn",
        "outputId": "6690eaaf-e3b0-4376-fcbc-a5d63d07e50e"
      },
      "execution_count": 19,
      "outputs": [
        {
          "output_type": "stream",
          "name": "stdout",
          "text": [
            "1\n",
            "3\n",
            "5\n",
            "7\n",
            "9\n",
            "23\n",
            "45\n"
          ]
        }
      ]
    },
    {
      "cell_type": "code",
      "source": [
        "#람다식을 사용\n",
        "\n",
        "re = filter(lambda x:x%2==1, [1,2,3,4,5,6,7,8,9,10,23,45,66])\n",
        "for e in re:\n",
        "  print(e)"
      ],
      "metadata": {
        "colab": {
          "base_uri": "https://localhost:8080/"
        },
        "id": "pIt8Ig6ecors",
        "outputId": "a6495e5f-a630-4173-e471-44772632bd18"
      },
      "execution_count": 20,
      "outputs": [
        {
          "output_type": "stream",
          "name": "stdout",
          "text": [
            "1\n",
            "3\n",
            "5\n",
            "7\n",
            "9\n",
            "23\n",
            "45\n"
          ]
        }
      ]
    }
  ]
}