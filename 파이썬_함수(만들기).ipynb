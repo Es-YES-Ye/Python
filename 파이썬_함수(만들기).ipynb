{
  "nbformat": 4,
  "nbformat_minor": 0,
  "metadata": {
    "colab": {
      "name": "파이썬 - 함수(만들기).ipynb",
      "provenance": [],
      "authorship_tag": "ABX9TyNG9D3SfLFeNGyNsFZHXtt/",
      "include_colab_link": true
    },
    "kernelspec": {
      "name": "python3",
      "display_name": "Python 3"
    },
    "language_info": {
      "name": "python"
    }
  },
  "cells": [
    {
      "cell_type": "markdown",
      "metadata": {
        "id": "view-in-github",
        "colab_type": "text"
      },
      "source": [
        "<a href=\"https://colab.research.google.com/github/Es-YES-Ye/Python/blob/main/%ED%8C%8C%EC%9D%B4%EC%8D%AC_%ED%95%A8%EC%88%98(%EB%A7%8C%EB%93%A4%EA%B8%B0).ipynb\" target=\"_parent\"><img src=\"https://colab.research.google.com/assets/colab-badge.svg\" alt=\"Open In Colab\"/></a>"
      ]
    },
    {
      "cell_type": "markdown",
      "source": [
        "#함수\n",
        "자주 사용하는 알고리즘을 이름을 부여하여 만든 로직 혹은 코드 블록\n",
        "\n",
        "로직 이름, 입력 매개변수 목록, 수행할 코드, 반환 값으로 구성\n",
        "\n",
        "입력 매개변수 목록과 반환 값은 생략 가능\n",
        "\n",
        "\n",
        "함수를 만드는 것을 함수 정의\n",
        "\n",
        "함수를 사용하는 것을 함수 호출"
      ],
      "metadata": {
        "id": "oaK_NNPgwV40"
      }
    },
    {
      "cell_type": "code",
      "source": [
        "#함수 이름: foo\n",
        "#입력 매개변수 : 2개(a,b)\n",
        "#수행 코드 : 두 개의 인자를 출력한 후 곱한 값을 반환\n",
        "#반환 값 : a * b\n",
        "\n",
        "def foo(a,b):\n",
        "  print(f\"a:{a} b:{b}\")\n",
        "  return a*b\n"
      ],
      "metadata": {
        "id": "G3PIJR0QwUcq"
      },
      "execution_count": 4,
      "outputs": []
    },
    {
      "cell_type": "code",
      "source": [
        "re = foo(2,3) #함수 호출(반환 값을 re에 대입)\n",
        "print(f\"결과:{re}\")\n",
        "foo(3,4) #함수 호출(반환 값을 무시)"
      ],
      "metadata": {
        "colab": {
          "base_uri": "https://localhost:8080/"
        },
        "id": "vsxjb2kmxIz8",
        "outputId": "5c4175d8-5ef7-4a8f-b589-04c2fee32805"
      },
      "execution_count": 5,
      "outputs": [
        {
          "output_type": "stream",
          "name": "stdout",
          "text": [
            "a:2 b:3\n",
            "결과:6\n",
            "a:3 b:4\n"
          ]
        },
        {
          "output_type": "execute_result",
          "data": {
            "text/plain": [
              "12"
            ]
          },
          "metadata": {},
          "execution_count": 5
        }
      ]
    },
    {
      "cell_type": "code",
      "source": [
        "#입력매개변수도 없고 리턴도 없는 함수도 있다.\n",
        "\n",
        "def print_menu():\n",
        "  print(\"1: 데이터 추가\")\n",
        "  print(\"2: 데이터 삭제\")\n",
        "  print(\"3: 데이터 검색\")\n",
        "  print(\"4: 전체 데이터 확인\")\n",
        "  print(\"0: 종료\")"
      ],
      "metadata": {
        "id": "u2dx71KCxuSs"
      },
      "execution_count": 9,
      "outputs": []
    },
    {
      "cell_type": "code",
      "source": [
        "#입력매개변수는 없고 리턴은 있는 함수도 있다.\n",
        "\n",
        "def menu_select():\n",
        "  print_menu()\n",
        "  return int(input(\"메뉴 선택: \"))"
      ],
      "metadata": {
        "id": "vZcUvIcWx4tm"
      },
      "execution_count": 10,
      "outputs": []
    },
    {
      "cell_type": "code",
      "source": [
        "while True:\n",
        "  key = menu_select()\n",
        "  if key==0:\n",
        "    print(\"종료합니다\")\n",
        "    break\n",
        "  if key==1:\n",
        "    print(\"데이터 추가\")\n",
        "  elif key==2:\n",
        "    print(\"데이터 삭제\")\n",
        "  elif key==3:\n",
        "    print(\"데이터 검색\")\n",
        "  elif key==4:\n",
        "    print(\"전체 데이터 확인\")\n",
        "  else:\n",
        "    print(\"잘못 선택하였습니다.\")"
      ],
      "metadata": {
        "colab": {
          "base_uri": "https://localhost:8080/"
        },
        "id": "1oxf8f9iyB1J",
        "outputId": "6e4ae7cb-903d-4a5d-d2a3-2df058dafeaf"
      },
      "execution_count": 11,
      "outputs": [
        {
          "name": "stdout",
          "output_type": "stream",
          "text": [
            "1: 데이터 추가\n",
            "2: 데이터 삭제\n",
            "3: 데이터 검색\n",
            "4: 전체 데이터 확인\n",
            "0: 종료\n",
            "메뉴 선택: 1\n",
            "데이터 추가\n",
            "1: 데이터 추가\n",
            "2: 데이터 삭제\n",
            "3: 데이터 검색\n",
            "4: 전체 데이터 확인\n",
            "0: 종료\n",
            "메뉴 선택: 2\n",
            "데이터 삭제\n",
            "1: 데이터 추가\n",
            "2: 데이터 삭제\n",
            "3: 데이터 검색\n",
            "4: 전체 데이터 확인\n",
            "0: 종료\n",
            "메뉴 선택: 3\n",
            "데이터 검색\n",
            "1: 데이터 추가\n",
            "2: 데이터 삭제\n",
            "3: 데이터 검색\n",
            "4: 전체 데이터 확인\n",
            "0: 종료\n",
            "메뉴 선택: 4\n",
            "전체 데이터 확인\n",
            "1: 데이터 추가\n",
            "2: 데이터 삭제\n",
            "3: 데이터 검색\n",
            "4: 전체 데이터 확인\n",
            "0: 종료\n",
            "메뉴 선택: 8\n",
            "잘못 선택하였습니다.\n",
            "1: 데이터 추가\n",
            "2: 데이터 삭제\n",
            "3: 데이터 검색\n",
            "4: 전체 데이터 확인\n",
            "0: 종료\n",
            "메뉴 선택: 9\n",
            "잘못 선택하였습니다.\n",
            "1: 데이터 추가\n",
            "2: 데이터 삭제\n",
            "3: 데이터 검색\n",
            "4: 전체 데이터 확인\n",
            "0: 종료\n",
            "메뉴 선택: 0\n"
          ]
        }
      ]
    },
    {
      "cell_type": "markdown",
      "source": [
        "특정 범위의 수와 합계를 구하는 함수"
      ],
      "metadata": {
        "id": "m2dntzoNzDWH"
      }
    },
    {
      "cell_type": "code",
      "source": [
        "def getsum(start, end):\n",
        "  s=0\n",
        "  for i in range(start, end+1):\n",
        "    s+=i\n",
        "  return s"
      ],
      "metadata": {
        "id": "oKGF1pTkyLoN"
      },
      "execution_count": 13,
      "outputs": []
    },
    {
      "cell_type": "code",
      "source": [
        "s = int(input(\"시작 : \"))\n",
        "e = int(input(\"끝 : \"))\n",
        "print(f\"{s}에서 {e}까지 합계 : {getsum(s,e)}\")\n",
        "\n",
        "print(f\"{1}에서 {100}까지 합계 : {getsum(1,100)}\")"
      ],
      "metadata": {
        "colab": {
          "base_uri": "https://localhost:8080/"
        },
        "id": "Cz5rzs7vzV51",
        "outputId": "5b7381df-d29f-4afb-fa07-720082229a7a"
      },
      "execution_count": 14,
      "outputs": [
        {
          "output_type": "stream",
          "name": "stdout",
          "text": [
            "시작 : 1\n",
            "끝 : 2\n",
            "1에서 2까지 합계 : 3\n",
            "1에서 100까지 합계 : 5050\n"
          ]
        }
      ]
    },
    {
      "cell_type": "code",
      "source": [
        "#re = getsum(1,2,3) 정의한 함수와 다르게 인자를 전달하고 있음 - Type Error\n",
        "#print(re)"
      ],
      "metadata": {
        "colab": {
          "base_uri": "https://localhost:8080/",
          "height": 193
        },
        "id": "WIWqLACj0cAS",
        "outputId": "07d017e9-adde-4798-b068-2502190baa3f"
      },
      "execution_count": 16,
      "outputs": [
        {
          "output_type": "error",
          "ename": "TypeError",
          "evalue": "ignored",
          "traceback": [
            "\u001b[0;31m---------------------------------------------------------------------------\u001b[0m",
            "\u001b[0;31mTypeError\u001b[0m                                 Traceback (most recent call last)",
            "\u001b[0;32m<ipython-input-16-2a9b534a8e3d>\u001b[0m in \u001b[0;36m<module>\u001b[0;34m()\u001b[0m\n\u001b[0;32m----> 1\u001b[0;31m \u001b[0mre\u001b[0m \u001b[0;34m=\u001b[0m \u001b[0mgetsum\u001b[0m\u001b[0;34m(\u001b[0m\u001b[0;36m1\u001b[0m\u001b[0;34m,\u001b[0m\u001b[0;36m2\u001b[0m\u001b[0;34m,\u001b[0m\u001b[0;36m3\u001b[0m\u001b[0;34m)\u001b[0m\u001b[0;34m\u001b[0m\u001b[0;34m\u001b[0m\u001b[0m\n\u001b[0m\u001b[1;32m      2\u001b[0m \u001b[0mprint\u001b[0m\u001b[0;34m(\u001b[0m\u001b[0mre\u001b[0m\u001b[0;34m)\u001b[0m\u001b[0;34m\u001b[0m\u001b[0;34m\u001b[0m\u001b[0m\n",
            "\u001b[0;31mTypeError\u001b[0m: getsum() takes 2 positional arguments but 3 were given"
          ]
        }
      ]
    },
    {
      "cell_type": "code",
      "source": [
        "print()\n",
        "print(1)\n",
        "print(1,2)\n",
        "print(1,2,end=' ')\n",
        "print()"
      ],
      "metadata": {
        "colab": {
          "base_uri": "https://localhost:8080/"
        },
        "id": "3_TMz4ex02nF",
        "outputId": "c1693941-f89d-403a-c235-aaf9179d4c7c"
      },
      "execution_count": 17,
      "outputs": [
        {
          "output_type": "stream",
          "name": "stdout",
          "text": [
            "\n",
            "\n",
            "\n"
          ]
        }
      ]
    },
    {
      "cell_type": "code",
      "source": [
        "def soo(a, temp=1, yahoo='a'): #temp는 인자를 전달하지 않을 때 1을 디폴트 값으로, yahoo의 디폴트 값은 ' a'\n",
        "  print(a,temp,yahoo) #a는 디폴트 값이 없어서 반드시 전달해야 한다."
      ],
      "metadata": {
        "id": "-gPMZTfx1GJ_"
      },
      "execution_count": 18,
      "outputs": []
    },
    {
      "cell_type": "code",
      "source": [
        "soo(1)\n",
        "soo(2, temp=2)\n",
        "soo(3, yahoo=7)\n",
        "soo(3,4)\n",
        "soo(3,4,5)"
      ],
      "metadata": {
        "colab": {
          "base_uri": "https://localhost:8080/"
        },
        "id": "eRY4CvAh1TwF",
        "outputId": "915504f4-cac2-4c98-808d-f0973f07739b"
      },
      "execution_count": 19,
      "outputs": [
        {
          "output_type": "stream",
          "name": "stdout",
          "text": [
            "1 1 a\n",
            "2 2 a\n",
            "3 1 7\n",
            "3 4 a\n",
            "3 4 5\n"
          ]
        }
      ]
    },
    {
      "cell_type": "code",
      "source": [
        "def zoo(n=2, *values): # *가 붙어있는 건 가변인자, 가변변수\n",
        "  print(\"============\")\n",
        "  print(n)\n",
        "  for value in values:\n",
        "    print(value, end= ' ')\n",
        "  print()"
      ],
      "metadata": {
        "id": "2IWqtud411w-"
      },
      "execution_count": 23,
      "outputs": []
    },
    {
      "cell_type": "code",
      "source": [
        "zoo() #아무것도 전달하지 않으면 디폴트매개변수 하나만 출력\n",
        "zoo(1)\n",
        "zoo(2,3) #3은 values에 해당하는 부분\n",
        "zoo(2,3,4,5) #3,4,5는 values에 해당하는 부분\n"
      ],
      "metadata": {
        "colab": {
          "base_uri": "https://localhost:8080/"
        },
        "id": "fb_Bo4GG1_e_",
        "outputId": "27099af2-a02a-4565-f1bc-22508c9cf6b7"
      },
      "execution_count": 24,
      "outputs": [
        {
          "output_type": "stream",
          "name": "stdout",
          "text": [
            "============\n",
            "2\n",
            "\n",
            "============\n",
            "1\n",
            "\n",
            "============\n",
            "2\n",
            "3 \n",
            "============\n",
            "2\n",
            "3 4 5 \n"
          ]
        }
      ]
    },
    {
      "cell_type": "code",
      "source": [
        "name = input(\"이름 : \")\n",
        "print(f\"이름 : {name}\")\n"
      ],
      "metadata": {
        "colab": {
          "base_uri": "https://localhost:8080/"
        },
        "id": "GF3xF37L3fKi",
        "outputId": "40150e9a-5d50-449f-b381-6e3b56b0ab3d"
      },
      "execution_count": 26,
      "outputs": [
        {
          "output_type": "stream",
          "name": "stdout",
          "text": [
            "이름 : 남궁길동\n",
            "이름 : 남궁길동\n"
          ]
        }
      ]
    },
    {
      "cell_type": "code",
      "source": [
        "def square(x):\n",
        "  return x*x"
      ],
      "metadata": {
        "id": "n7snrgEj3rR3"
      },
      "execution_count": 27,
      "outputs": []
    },
    {
      "cell_type": "code",
      "source": [
        "for i in range(1,5):\n",
        "  re = square(i)\n",
        "  print(f\"{i}의 제곱: {re}\")\n",
        "#리턴은 넣어도 되고 안 넣어도 된다.\n",
        "#어떤 함수가 리턴하면 그 함수는 종료한다."
      ],
      "metadata": {
        "colab": {
          "base_uri": "https://localhost:8080/"
        },
        "id": "FaqMLNzg3yyd",
        "outputId": "8ffb1d9c-6da7-4f44-eeb0-7adf716a286e"
      },
      "execution_count": 29,
      "outputs": [
        {
          "output_type": "stream",
          "name": "stdout",
          "text": [
            "1의 제곱: 1\n",
            "2의 제곱: 4\n",
            "3의 제곱: 9\n",
            "4의 제곱: 16\n"
          ]
        }
      ]
    },
    {
      "cell_type": "code",
      "source": [
        "#함수 종료\n",
        "def find_nearest_sum(start,goal):\n",
        "  s=0\n",
        "  while s<goal:\n",
        "    s += start\n",
        "    start += 1\n",
        "    if(start==100):\n",
        "      return s\n",
        "  print(\"find!!\")\n",
        "  return s"
      ],
      "metadata": {
        "id": "Pi9vH4jc4DkU"
      },
      "execution_count": 32,
      "outputs": []
    },
    {
      "cell_type": "code",
      "source": [
        "re1 = find_nearest_sum(1,2000)\n",
        "print(re)\n",
        "print()\n",
        "re2 = find_nearest_sum(1,2000000)\n",
        "print(re2)\n",
        "print()\n",
        "re3 = find_nearest_sum(100, 200)\n",
        "print(re3)"
      ],
      "metadata": {
        "colab": {
          "base_uri": "https://localhost:8080/"
        },
        "id": "DgmbpTGQ34Cz",
        "outputId": "d6f25a47-7bd1-4110-d65c-2c6f5520c39a"
      },
      "execution_count": 34,
      "outputs": [
        {
          "output_type": "stream",
          "name": "stdout",
          "text": [
            "find!!\n",
            "16\n",
            "\n",
            "4950\n",
            "\n",
            "find!!\n",
            "201\n"
          ]
        }
      ]
    }
  ]
}