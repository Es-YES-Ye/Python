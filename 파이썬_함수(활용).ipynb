{
  "nbformat": 4,
  "nbformat_minor": 0,
  "metadata": {
    "colab": {
      "name": "파이썬-함수(활용).ipynb",
      "provenance": [],
      "authorship_tag": "ABX9TyND/sdljXOr+zLhRE0lZVCo",
      "include_colab_link": true
    },
    "kernelspec": {
      "name": "python3",
      "display_name": "Python 3"
    },
    "language_info": {
      "name": "python"
    }
  },
  "cells": [
    {
      "cell_type": "markdown",
      "metadata": {
        "id": "view-in-github",
        "colab_type": "text"
      },
      "source": [
        "<a href=\"https://colab.research.google.com/github/Es-YES-Ye/Python/blob/main/%ED%8C%8C%EC%9D%B4%EC%8D%AC_%ED%95%A8%EC%88%98(%ED%99%9C%EC%9A%A9).ipynb\" target=\"_parent\"><img src=\"https://colab.research.google.com/assets/colab-badge.svg\" alt=\"Open In Colab\"/></a>"
      ]
    },
    {
      "cell_type": "markdown",
      "source": [
        "#함수를 활용했을 때의 장점\n",
        "\n",
        "\n",
        "n개의 정수를 입력받아 합계와 평균을 출력하자."
      ],
      "metadata": {
        "id": "owUoJ1boNRcX"
      }
    },
    {
      "cell_type": "code",
      "source": [
        "n = int(input(\"입력 받을 정수 개수 : \"))\n",
        "\n",
        "numbers=[]\n",
        "for i in range(1, n+1):\n",
        "  number = int(input(f\"{i+1}번째 : \"))\n",
        "  numbers.append(number)\n",
        "\n",
        "s=0\n",
        "for number in numbers:\n",
        "  s+=number\n",
        "\n",
        "print(f\"합계 : {s} 평균 : {s/len(numbers):.2f}\")\n"
      ],
      "metadata": {
        "id": "LORrQhpvNW0R"
      },
      "execution_count": null,
      "outputs": []
    },
    {
      "cell_type": "code",
      "source": [
        "#함수를 이용해서 만들기\n",
        "#n개의 정수를 입력받아서 반환해주는, n을 입력인자로 주기\n",
        "\n",
        "def input_numbers(n):\n",
        "  numbers=[]\n",
        "  for i in range(n):\n",
        "    number = int(input(f\"{i+1}번째 : \"))\n",
        "    numbers.append(number)\n",
        "  return numbers\n"
      ],
      "metadata": {
        "id": "zZu4lzbLOFZD"
      },
      "execution_count": null,
      "outputs": []
    },
    {
      "cell_type": "code",
      "source": [
        "#합계를 구하는 함수\n",
        "def get_sum(numbers):\n",
        "  s=0\n",
        "  for number in numbers:\n",
        "    s+=number\n",
        "  return s\n"
      ],
      "metadata": {
        "id": "Qb5DI6R3OdN5"
      },
      "execution_count": null,
      "outputs": []
    },
    {
      "cell_type": "code",
      "source": [
        "#함수를 활용한다\n",
        "n = int(input(\"입력 받을 정수 개수 : \"))\n",
        "numbers=input_numbers(n)\n",
        "s = get_sum(numbers)\n",
        "print(f\"합계:{s} 평균:{s/len(numbers):.2f}\")"
      ],
      "metadata": {
        "id": "hO_tFv6aOn-0"
      },
      "execution_count": null,
      "outputs": []
    },
    {
      "cell_type": "markdown",
      "source": [
        "#팁\n",
        "\n",
        "하드코딩과 소프트코딩"
      ],
      "metadata": {
        "id": "s-KZ1aEqQCyM"
      }
    },
    {
      "cell_type": "code",
      "source": [
        "#파이를 3.14로 하드 코딩\n",
        "\n",
        "def get_circle_area(radius):\n",
        "  return 3.14*radius**2"
      ],
      "metadata": {
        "id": "W2WJ8EXVQGxj"
      },
      "execution_count": null,
      "outputs": []
    },
    {
      "cell_type": "code",
      "source": [
        "print(get_circle_area())"
      ],
      "metadata": {
        "id": "l6YB4kfoQd-B"
      },
      "execution_count": null,
      "outputs": []
    },
    {
      "cell_type": "code",
      "source": [
        "#상수를 이용한 소프트 코딩\n",
        "PI =3.14\n",
        "def get_circle_area2(radius):\n",
        "  return PI*radius**2"
      ],
      "metadata": {
        "id": "zJBcDE8QQg5M"
      },
      "execution_count": null,
      "outputs": []
    },
    {
      "cell_type": "code",
      "source": [
        "print(get_circle_area2())"
      ],
      "metadata": {
        "id": "fixf7RI-QpHb"
      },
      "execution_count": null,
      "outputs": []
    },
    {
      "cell_type": "code",
      "source": [
        "s1 = \"hello\"\n",
        "s2 = \"yahoo\"\n",
        "print(\"<p>\",s1,\"</p>\")\n",
        "print(\"<p>\",s2,\"</p>\")"
      ],
      "metadata": {
        "id": "ZUz92XXrRlBz"
      },
      "execution_count": null,
      "outputs": []
    },
    {
      "cell_type": "code",
      "source": [
        "#p 태그로 감싸주는 함수를 이용할 수도 있다.\n",
        "\n",
        "def make_ptag(s):\n",
        "  return str.format(\"<p>{0}</p>\",s)\n",
        "  print(make_ptag(s1))\n",
        "  print(make_ptag(s2))"
      ],
      "metadata": {
        "id": "7UZZ3y-lRs2y"
      },
      "execution_count": null,
      "outputs": []
    },
    {
      "cell_type": "markdown",
      "source": [
        "#재귀함수\n",
        "\n",
        "\n",
        "자기 자신을 호출하여 문제를 해결하는 함수\n",
        "\n",
        "1 1 2 3 5 8 13 ...\n",
        "\n",
        "F(1)=F(2)=1\n",
        "\n",
        "F(n)=F(n-1)+F(n-2)\n",
        "\n",
        "\n",
        "단, n은 자연수"
      ],
      "metadata": {
        "id": "ZRFJ6hvG8vVh"
      }
    },
    {
      "cell_type": "code",
      "execution_count": 10,
      "metadata": {
        "id": "HdFJvExe8rvM"
      },
      "outputs": [],
      "source": [
        "#cnt=0\n",
        "def fibonacci(n):\n",
        "  #global cnt # 앞으로 이 함수에서 cnt는 함수 외부에 있는 전역 변수 cnt를 의미합니다.\n",
        "  #cnt+=1 # 이 함수가 몇 번 호출하는지 카운팅\n",
        "  if(n<0):\n",
        "    return 0\n",
        "  if(n==1) or (n==2):\n",
        "    return 1\n",
        "  return fibonacci(n-1)+fibonacci(n-2)"
      ]
    },
    {
      "cell_type": "code",
      "source": [
        "fibonacci(40)\n",
        "print(cnt)"
      ],
      "metadata": {
        "colab": {
          "base_uri": "https://localhost:8080/"
        },
        "id": "Yx8rXEknC2C5",
        "outputId": "e6cbf733-ffb1-4896-ebfe-deaa47983b1f"
      },
      "execution_count": 11,
      "outputs": [
        {
          "output_type": "stream",
          "name": "stdout",
          "text": [
            "204668309\n"
          ]
        }
      ]
    },
    {
      "cell_type": "code",
      "source": [
        "re=fibonacci(3)\n",
        "print(f\"fibonacci({3}):{re}\")\n",
        "re=fibonacci(0)\n",
        "print(f\"fibonacci({0}):{re}\")\n",
        "\n",
        "for i in range(1, 20):\n",
        "  re = fibonacci(i)\n",
        "  print(re, end='')"
      ],
      "metadata": {
        "colab": {
          "base_uri": "https://localhost:8080/"
        },
        "id": "6998sgQ49hyZ",
        "outputId": "cb78186d-3d23-4e3a-c5f7-1e31078c2467"
      },
      "execution_count": 7,
      "outputs": [
        {
          "output_type": "stream",
          "name": "stdout",
          "text": [
            "fibonacci(3):2\n",
            "fibonacci(0):0\n",
            "1123581321345589144233377610987159725844181"
          ]
        }
      ]
    },
    {
      "cell_type": "markdown",
      "source": [
        "#하노이 타워\n",
        "\n",
        "n개의 돌을 A에서 C로 옮기시오(B를 이용)\n",
        "\n",
        "한번에 1 개의 돌을 옮길 수 있다.\n",
        "\n",
        "큰 돌 위에 작은 돌을 올릴 수 있다."
      ],
      "metadata": {
        "id": "PsVK7Bs8AaoB"
      }
    },
    {
      "cell_type": "code",
      "source": [
        "def hanoi(a,b,c,n):\n",
        "  if n==0:\n",
        "    return #돌이 1개 일 때는 n-1이 0이 되니까 그냥 리턴\n",
        "  hanoi(a,c,b,n-1) #A에 있는 n-1개의 돌을 B로 옮겨라 (C 이용)\n",
        "  print(f'{a}->{c}') #A에 있는 1 개의 돌을 C로 옮겨라\n",
        "  hanoi(b,a,c,n-1) #B에 있는 n-1개의 돌을 C로 옮겨라 (A 이용)"
      ],
      "metadata": {
        "id": "44vlOT9KAiOV"
      },
      "execution_count": 8,
      "outputs": []
    },
    {
      "cell_type": "code",
      "source": [
        "hanoi('a','b','c',3)"
      ],
      "metadata": {
        "colab": {
          "base_uri": "https://localhost:8080/"
        },
        "id": "081t8yiyEEGc",
        "outputId": "738e606e-e7fe-4c1f-fb68-fdc90c8a98e1"
      },
      "execution_count": 12,
      "outputs": [
        {
          "output_type": "stream",
          "name": "stdout",
          "text": [
            "a->c\n",
            "a->b\n",
            "c->b\n",
            "a->c\n",
            "b->a\n",
            "b->c\n",
            "a->c\n"
          ]
        }
      ]
    },
    {
      "cell_type": "markdown",
      "source": [
        "#동적 프로그래밍(Dynamic Programming)\n",
        "\n",
        "\n",
        "경험한 정보를 이용하여 문제를 해결하는 최적화 기법"
      ],
      "metadata": {
        "id": "wiDHrXL5EI2Q"
      }
    },
    {
      "cell_type": "code",
      "source": [
        "cnt2 = 0\n",
        "answer = [0,1,1]\n",
        "def fibonacci2(n):\n",
        "  global cnt2\n",
        "  cnt2+=1\n",
        "  if len(answer)>n:\n",
        "    return answer[n]\n",
        "  re = fibonacci2(n-1) + fibonacci2(n-2)\n",
        "  answer.append(re)\n",
        "  return re"
      ],
      "metadata": {
        "id": "bPNnRQA7EIF6"
      },
      "execution_count": 18,
      "outputs": []
    },
    {
      "cell_type": "code",
      "source": [
        "fibonacci2(40)\n",
        "print(cnt2)"
      ],
      "metadata": {
        "colab": {
          "base_uri": "https://localhost:8080/"
        },
        "id": "dwXKCXCvFzSp",
        "outputId": "38113810-651f-4075-82cb-93dcf57003e7"
      },
      "execution_count": 20,
      "outputs": [
        {
          "output_type": "stream",
          "name": "stdout",
          "text": [
            "77\n"
          ]
        }
      ]
    },
    {
      "cell_type": "code",
      "source": [
        "for i in range(1, 20):\n",
        "  re = fibonacci2(i)\n",
        "  print(re, end=' ')"
      ],
      "metadata": {
        "colab": {
          "base_uri": "https://localhost:8080/"
        },
        "id": "yLcVIl2WEhHD",
        "outputId": "c54a5c5a-7cd7-46d9-dee1-0a839f478f27"
      },
      "execution_count": 17,
      "outputs": [
        {
          "output_type": "stream",
          "name": "stdout",
          "text": [
            "1 1 2 3 5 8 13 21 34 55 89 144 233 377 610 987 1597 2584 4181 "
          ]
        }
      ]
    },
    {
      "cell_type": "markdown",
      "source": [
        "# fibonacci 와 fibonacci2 비교"
      ],
      "metadata": {
        "id": "zXfUzXPXLfoN"
      }
    },
    {
      "cell_type": "code",
      "source": [
        "def fibonacci(n):\n",
        "  if(n<0):\n",
        "    return 0\n",
        "  if(n==1) or (n==2):\n",
        "    return 1\n",
        "  return fibonacci(n-1)+fibonacci(n-2)"
      ],
      "metadata": {
        "id": "A8JyyqXVLeAT"
      },
      "execution_count": 21,
      "outputs": []
    },
    {
      "cell_type": "code",
      "source": [
        "answer = [0,1,1]\n",
        "def fibonacci2(n):\n",
        "  if len(answer)>n:\n",
        "    return answer[n]\n",
        "  re = fibonacci2(n-1) + fibonacci2(n-2)\n",
        "  answer.append(re)\n",
        "  return re"
      ],
      "metadata": {
        "id": "Fu6QugA5LfSi"
      },
      "execution_count": 22,
      "outputs": []
    },
    {
      "cell_type": "code",
      "source": [
        "import time\n",
        "def test_case(n):\n",
        "  print(\"test case : \",n)\n",
        "  start = time.time()\n",
        "  fibonacci(n)\n",
        "  end=time.time()\n",
        "  print(\"fibonacci : \", end-start)\n",
        "  start2 = time.time()\n",
        "  fibonacci2(n)\n",
        "  end2=time.time()\n",
        "  print(\"fibonacci2 : \", end2-start2)\n",
        "  print()"
      ],
      "metadata": {
        "id": "o18uHOm7LRfr"
      },
      "execution_count": 23,
      "outputs": []
    },
    {
      "cell_type": "code",
      "source": [
        "for i in range(1,50):\n",
        "  test_case(i)"
      ],
      "metadata": {
        "colab": {
          "base_uri": "https://localhost:8080/"
        },
        "id": "awLl27zUMBcM",
        "outputId": "03a0ff7d-6d48-46aa-9960-4b43d232a6a0"
      },
      "execution_count": null,
      "outputs": [
        {
          "output_type": "stream",
          "name": "stdout",
          "text": [
            "test case :  1\n",
            "fibonacci :  3.0994415283203125e-06\n",
            "fibonacci2 :  3.5762786865234375e-06\n",
            "\n",
            "test case :  2\n",
            "fibonacci :  9.5367431640625e-07\n",
            "fibonacci2 :  1.430511474609375e-06\n",
            "\n",
            "test case :  3\n",
            "fibonacci :  2.6226043701171875e-06\n",
            "fibonacci2 :  3.337860107421875e-06\n",
            "\n",
            "test case :  4\n",
            "fibonacci :  3.0994415283203125e-06\n",
            "fibonacci2 :  2.6226043701171875e-06\n",
            "\n",
            "test case :  5\n",
            "fibonacci :  4.291534423828125e-06\n",
            "fibonacci2 :  2.384185791015625e-06\n",
            "\n",
            "test case :  6\n",
            "fibonacci :  5.245208740234375e-06\n",
            "fibonacci2 :  2.6226043701171875e-06\n",
            "\n",
            "test case :  7\n",
            "fibonacci :  1.0728836059570312e-05\n",
            "fibonacci2 :  4.0531158447265625e-06\n",
            "\n",
            "test case :  8\n",
            "fibonacci :  1.7642974853515625e-05\n",
            "fibonacci2 :  4.5299530029296875e-06\n",
            "\n",
            "test case :  9\n",
            "fibonacci :  2.288818359375e-05\n",
            "fibonacci2 :  2.384185791015625e-06\n",
            "\n",
            "test case :  10\n",
            "fibonacci :  3.647804260253906e-05\n",
            "fibonacci2 :  2.384185791015625e-06\n",
            "\n",
            "test case :  11\n",
            "fibonacci :  7.2479248046875e-05\n",
            "fibonacci2 :  2.86102294921875e-06\n",
            "\n",
            "test case :  12\n",
            "fibonacci :  8.249282836914062e-05\n",
            "fibonacci2 :  3.0994415283203125e-06\n",
            "\n",
            "test case :  13\n",
            "fibonacci :  0.00013446807861328125\n",
            "fibonacci2 :  3.814697265625e-06\n",
            "\n",
            "test case :  14\n",
            "fibonacci :  0.00021505355834960938\n",
            "fibonacci2 :  4.0531158447265625e-06\n",
            "\n",
            "test case :  15\n",
            "fibonacci :  0.0003113746643066406\n",
            "fibonacci2 :  3.337860107421875e-06\n",
            "\n",
            "test case :  16\n",
            "fibonacci :  0.0005984306335449219\n",
            "fibonacci2 :  5.0067901611328125e-06\n",
            "\n",
            "test case :  17\n",
            "fibonacci :  0.0009369850158691406\n",
            "fibonacci2 :  4.0531158447265625e-06\n",
            "\n",
            "test case :  18\n",
            "fibonacci :  0.0015785694122314453\n",
            "fibonacci2 :  4.0531158447265625e-06\n",
            "\n",
            "test case :  19\n",
            "fibonacci :  0.002938985824584961\n",
            "fibonacci2 :  4.0531158447265625e-06\n",
            "\n",
            "test case :  20\n",
            "fibonacci :  0.0028848648071289062\n",
            "fibonacci2 :  5.7220458984375e-06\n",
            "\n",
            "test case :  21\n",
            "fibonacci :  0.00404047966003418\n",
            "fibonacci2 :  3.5762786865234375e-06\n",
            "\n",
            "test case :  22\n",
            "fibonacci :  0.007389545440673828\n",
            "fibonacci2 :  4.5299530029296875e-06\n",
            "\n",
            "test case :  23\n",
            "fibonacci :  0.011478900909423828\n",
            "fibonacci2 :  7.152557373046875e-06\n",
            "\n",
            "test case :  24\n",
            "fibonacci :  0.020133495330810547\n",
            "fibonacci2 :  6.9141387939453125e-06\n",
            "\n",
            "test case :  25\n",
            "fibonacci :  0.03855419158935547\n",
            "fibonacci2 :  1.6927719116210938e-05\n",
            "\n",
            "test case :  26\n",
            "fibonacci :  0.05032682418823242\n",
            "fibonacci2 :  8.106231689453125e-06\n",
            "\n",
            "test case :  27\n",
            "fibonacci :  0.08367228507995605\n",
            "fibonacci2 :  8.58306884765625e-06\n",
            "\n",
            "test case :  28\n",
            "fibonacci :  0.1672530174255371\n",
            "fibonacci2 :  6.198883056640625e-06\n",
            "\n",
            "test case :  29\n",
            "fibonacci :  0.21194076538085938\n",
            "fibonacci2 :  9.5367431640625e-06\n",
            "\n",
            "test case :  30\n",
            "fibonacci :  0.3186638355255127\n",
            "fibonacci2 :  7.3909759521484375e-06\n",
            "\n",
            "test case :  31\n",
            "fibonacci :  0.537933349609375\n",
            "fibonacci2 :  5.4836273193359375e-06\n",
            "\n",
            "test case :  32\n",
            "fibonacci :  0.8396847248077393\n",
            "fibonacci2 :  5.9604644775390625e-06\n",
            "\n",
            "test case :  33\n",
            "fibonacci :  1.3770747184753418\n",
            "fibonacci2 :  5.4836273193359375e-06\n",
            "\n",
            "test case :  34\n",
            "fibonacci :  2.1600048542022705\n",
            "fibonacci2 :  5.7220458984375e-06\n",
            "\n",
            "test case :  35\n",
            "fibonacci :  3.515103578567505\n",
            "fibonacci2 :  7.3909759521484375e-06\n",
            "\n",
            "test case :  36\n",
            "fibonacci :  5.671777963638306\n",
            "fibonacci2 :  4.5299530029296875e-06\n",
            "\n",
            "test case :  37\n",
            "fibonacci :  9.142096996307373\n",
            "fibonacci2 :  4.76837158203125e-06\n",
            "\n",
            "test case :  38\n",
            "fibonacci :  14.879115104675293\n",
            "fibonacci2 :  6.9141387939453125e-06\n",
            "\n",
            "test case :  39\n",
            "fibonacci :  24.175060749053955\n",
            "fibonacci2 :  5.9604644775390625e-06\n",
            "\n",
            "test case :  40\n",
            "fibonacci :  38.6109094619751\n",
            "fibonacci2 :  1.0013580322265625e-05\n",
            "\n",
            "test case :  41\n",
            "fibonacci :  62.81524682044983\n",
            "fibonacci2 :  1.2159347534179688e-05\n",
            "\n",
            "test case :  42\n",
            "fibonacci :  101.9307804107666\n",
            "fibonacci2 :  6.4373016357421875e-06\n",
            "\n",
            "test case :  43\n",
            "fibonacci :  169.6764121055603\n",
            "fibonacci2 :  1.3589859008789062e-05\n",
            "\n",
            "test case :  44\n",
            "fibonacci :  288.6071877479553\n",
            "fibonacci2 :  8.106231689453125e-06\n",
            "\n",
            "test case :  45\n",
            "fibonacci :  438.2256667613983\n",
            "fibonacci2 :  9.059906005859375e-06\n",
            "\n",
            "test case :  46\n"
          ]
        }
      ]
    }
  ]
}