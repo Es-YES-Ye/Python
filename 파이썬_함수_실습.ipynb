{
  "nbformat": 4,
  "nbformat_minor": 0,
  "metadata": {
    "colab": {
      "name": "파이썬-함수 실습.ipynb",
      "provenance": [],
      "mount_file_id": "13JcYGwEURpl5zqaS91Ap13Y2-zGGf_Fx",
      "authorship_tag": "ABX9TyOrxYjq50RgPzmXX6dAWsxa",
      "include_colab_link": true
    },
    "kernelspec": {
      "name": "python3",
      "display_name": "Python 3"
    },
    "language_info": {
      "name": "python"
    }
  },
  "cells": [
    {
      "cell_type": "markdown",
      "metadata": {
        "id": "view-in-github",
        "colab_type": "text"
      },
      "source": [
        "<a href=\"https://colab.research.google.com/github/Es-YES-Ye/Python/blob/main/%ED%8C%8C%EC%9D%B4%EC%8D%AC_%ED%95%A8%EC%88%98_%EC%8B%A4%EC%8A%B5.ipynb\" target=\"_parent\"><img src=\"https://colab.research.google.com/assets/colab-badge.svg\" alt=\"Open In Colab\"/></a>"
      ]
    },
    {
      "cell_type": "code",
      "execution_count": 2,
      "metadata": {
        "id": "g3_jC8XM0bpL"
      },
      "outputs": [],
      "source": [
        "folder='/content/drive/MyDrive/새싹프로그램_파이썬데이터/'"
      ]
    },
    {
      "cell_type": "code",
      "source": [
        "#표데이터\n",
        "\n",
        "members = [\n",
        "           [\"남궁길동\", 90, 85, 88],\n",
        "           [\"제갈길동\", 80, 90, 88],\n",
        "           [\"독고길동\", 90, 95, 100]\n",
        "          ]"
      ],
      "metadata": {
        "id": "H0LI1JC50tIW"
      },
      "execution_count": 3,
      "outputs": []
    },
    {
      "cell_type": "code",
      "source": [
        "fname = folder+\"mscores.csv\"\n",
        "fname"
      ],
      "metadata": {
        "colab": {
          "base_uri": "https://localhost:8080/",
          "height": 35
        },
        "id": "67oP_Xtc0-45",
        "outputId": "d01ed114-2db9-4ebf-b20c-264309368089"
      },
      "execution_count": 4,
      "outputs": [
        {
          "output_type": "execute_result",
          "data": {
            "application/vnd.google.colaboratory.intrinsic+json": {
              "type": "string"
            },
            "text/plain": [
              "'/content/drive/MyDrive/새싹프로그램_파이썬데이터/mscores.csv'"
            ]
          },
          "metadata": {},
          "execution_count": 4
        }
      ]
    },
    {
      "cell_type": "markdown",
      "source": [
        "\n",
        "with open(fname, 'w') as fs:\n",
        "print(\"um\")\n",
        "\n",
        "**위와 같은 코드**\n",
        "\n",
        "fs=open(fname, 'w')\n",
        "print(\"um\")\n",
        "fs.close()"
      ],
      "metadata": {
        "id": "wcvPCkJa1z4O"
      }
    },
    {
      "cell_type": "code",
      "source": [
        "\n",
        "#with open(fname, 'w') as fs:\n",
        "#  print(\"um\")\n",
        "\n",
        "#헤더를 확인해야한다.\n",
        "#raw한 파일 입출력\n",
        "\n",
        "fs=open(fname, 'w')\n",
        "for member in members:\n",
        "  fs.write(f\"{member[0]}, {member[1]}, {member[2]}, {member[3]}\\n\")\n",
        "fs.close()\n"
      ],
      "metadata": {
        "id": "0b7Au1Un1FNA"
      },
      "execution_count": 6,
      "outputs": []
    },
    {
      "cell_type": "code",
      "source": [
        "# 더 간단하다\n",
        "#csv 모듈 이용해서\n",
        "\n",
        "import csv\n",
        "fname2 = folder+\"mscores2.csv\"\n",
        "fs = open(fname2, 'w', newline='')\n",
        "sw=csv.writer(fs,delimiter=',')\n",
        "for member in members:\n",
        "  sw.writerow(member)\n",
        "fs.close()"
      ],
      "metadata": {
        "id": "XPa9GMwO5OWK"
      },
      "execution_count": null,
      "outputs": []
    },
    {
      "cell_type": "markdown",
      "source": [
        ""
      ],
      "metadata": {
        "id": "LhLeH1SM5KNR"
      }
    },
    {
      "cell_type": "code",
      "source": [
        "#위와 같은 의미\n",
        "#csv 모듈 이용해서\n",
        "\n",
        "import csv\n",
        "fname2 = folder+\"mscores2.csv\"\n",
        "with open(fname2, 'w', newline='') as csvfile:\n",
        "  sw=csv.writer(csvfile, delimiter=',')\n",
        "  for member in members:\n",
        "    sw.writerow(member)"
      ],
      "metadata": {
        "id": "KFaSrk9c2_YM"
      },
      "execution_count": 8,
      "outputs": []
    },
    {
      "cell_type": "markdown",
      "source": [
        "#파이썬표준기구에서 제공하는 메뉴얼 사이트\n",
        "\n",
        "https://docs.python.org/ko/3/library/csv.html\n",
        "\n",
        "\n",
        "fs.write(f\"{member[0]}, {member[1]}, {member[2]}, {member[3]}\\n\")\n",
        "\n",
        "sw.writerow(member)"
      ],
      "metadata": {
        "id": "KWge2fcL3aAI"
      }
    },
    {
      "cell_type": "code",
      "source": [
        "#읽어오기\n",
        "\n",
        "fs = open(fname, 'r')\n",
        "data = fs.read()\n",
        "fs.close()\n",
        "print(data)"
      ],
      "metadata": {
        "colab": {
          "base_uri": "https://localhost:8080/"
        },
        "id": "pHB_EDrn4DYG",
        "outputId": "b3fc3cef-6920-4d75-befc-e82f823a6914"
      },
      "execution_count": 9,
      "outputs": [
        {
          "output_type": "stream",
          "name": "stdout",
          "text": [
            "남궁길동, 90, 85, 88\n",
            "제갈길동, 80, 90, 88\n",
            "독고길동, 90, 95, 100\n",
            "\n"
          ]
        }
      ]
    },
    {
      "cell_type": "markdown",
      "source": [
        "None\n",
        "null\n",
        "nill\n",
        "\n",
        "\n"
      ],
      "metadata": {
        "id": "xwxu9uKW6b3I"
      }
    },
    {
      "cell_type": "code",
      "source": [
        "fs = open(fname, 'r')\n",
        "while True:\n",
        "  record = fs.readline()\n",
        "  if record==\"\":\n",
        "    break\n",
        "  record = record.replace(\"\\n\",\"\")\n",
        "  sdata=record.split(',') #, 를 기준으로 split\n",
        "  rs=[]\n",
        "  rs.append(sdata[0])\n",
        "  for i in range(1,4):\n",
        "    rs.append(int(sdata[i]))\n",
        "  members.append(rs)\n",
        "fs.close()\n",
        "print(members)"
      ],
      "metadata": {
        "colab": {
          "base_uri": "https://localhost:8080/"
        },
        "id": "-MW1YL_y5kO9",
        "outputId": "b59b38db-49d8-4a5c-993c-14965a6a59d4"
      },
      "execution_count": 11,
      "outputs": [
        {
          "output_type": "stream",
          "name": "stdout",
          "text": [
            "[['남궁길동', 90, 85, 88], ['제갈길동', 80, 90, 88], ['독고길동', 90, 95, 100], ['남궁길동', 90, 85, 88], ['제갈길동', 80, 90, 88], ['독고길동', 90, 95, 100]]\n"
          ]
        }
      ]
    },
    {
      "cell_type": "code",
      "source": [
        "import csv\n",
        "fs = open(fname, 'r', newline='')\n",
        "reader = csv.reader(fs)\n",
        "for row in reader:\n",
        "  print(row)\n",
        "fs.close()"
      ],
      "metadata": {
        "colab": {
          "base_uri": "https://localhost:8080/"
        },
        "id": "m3SyrULf7yzN",
        "outputId": "f41cd112-5e1e-4716-dfb9-a4eeee0456c2"
      },
      "execution_count": 12,
      "outputs": [
        {
          "output_type": "stream",
          "name": "stdout",
          "text": [
            "['남궁길동', ' 90', ' 85', ' 88']\n",
            "['제갈길동', ' 80', ' 90', ' 88']\n",
            "['독고길동', ' 90', ' 95', ' 100']\n"
          ]
        }
      ]
    },
    {
      "cell_type": "code",
      "source": [
        "import pandas as pd\n",
        "members = pd.read_csv(fname, header = None)\n",
        "members"
      ],
      "metadata": {
        "colab": {
          "base_uri": "https://localhost:8080/",
          "height": 171
        },
        "id": "3HDPbIbX9g6Q",
        "outputId": "213fac6c-08a9-4d9e-f158-52ccc35f701c"
      },
      "execution_count": 13,
      "outputs": [
        {
          "output_type": "execute_result",
          "data": {
            "text/html": [
              "\n",
              "  <div id=\"df-a0a61533-286d-4c9a-a6f7-5e5e6b1c5ab1\">\n",
              "    <div class=\"colab-df-container\">\n",
              "      <div>\n",
              "<style scoped>\n",
              "    .dataframe tbody tr th:only-of-type {\n",
              "        vertical-align: middle;\n",
              "    }\n",
              "\n",
              "    .dataframe tbody tr th {\n",
              "        vertical-align: top;\n",
              "    }\n",
              "\n",
              "    .dataframe thead th {\n",
              "        text-align: right;\n",
              "    }\n",
              "</style>\n",
              "<table border=\"1\" class=\"dataframe\">\n",
              "  <thead>\n",
              "    <tr style=\"text-align: right;\">\n",
              "      <th></th>\n",
              "      <th>0</th>\n",
              "      <th>1</th>\n",
              "      <th>2</th>\n",
              "      <th>3</th>\n",
              "    </tr>\n",
              "  </thead>\n",
              "  <tbody>\n",
              "    <tr>\n",
              "      <th>0</th>\n",
              "      <td>남궁길동</td>\n",
              "      <td>90</td>\n",
              "      <td>85</td>\n",
              "      <td>88</td>\n",
              "    </tr>\n",
              "    <tr>\n",
              "      <th>1</th>\n",
              "      <td>제갈길동</td>\n",
              "      <td>80</td>\n",
              "      <td>90</td>\n",
              "      <td>88</td>\n",
              "    </tr>\n",
              "    <tr>\n",
              "      <th>2</th>\n",
              "      <td>독고길동</td>\n",
              "      <td>90</td>\n",
              "      <td>95</td>\n",
              "      <td>100</td>\n",
              "    </tr>\n",
              "  </tbody>\n",
              "</table>\n",
              "</div>\n",
              "      <button class=\"colab-df-convert\" onclick=\"convertToInteractive('df-a0a61533-286d-4c9a-a6f7-5e5e6b1c5ab1')\"\n",
              "              title=\"Convert this dataframe to an interactive table.\"\n",
              "              style=\"display:none;\">\n",
              "        \n",
              "  <svg xmlns=\"http://www.w3.org/2000/svg\" height=\"24px\"viewBox=\"0 0 24 24\"\n",
              "       width=\"24px\">\n",
              "    <path d=\"M0 0h24v24H0V0z\" fill=\"none\"/>\n",
              "    <path d=\"M18.56 5.44l.94 2.06.94-2.06 2.06-.94-2.06-.94-.94-2.06-.94 2.06-2.06.94zm-11 1L8.5 8.5l.94-2.06 2.06-.94-2.06-.94L8.5 2.5l-.94 2.06-2.06.94zm10 10l.94 2.06.94-2.06 2.06-.94-2.06-.94-.94-2.06-.94 2.06-2.06.94z\"/><path d=\"M17.41 7.96l-1.37-1.37c-.4-.4-.92-.59-1.43-.59-.52 0-1.04.2-1.43.59L10.3 9.45l-7.72 7.72c-.78.78-.78 2.05 0 2.83L4 21.41c.39.39.9.59 1.41.59.51 0 1.02-.2 1.41-.59l7.78-7.78 2.81-2.81c.8-.78.8-2.07 0-2.86zM5.41 20L4 18.59l7.72-7.72 1.47 1.35L5.41 20z\"/>\n",
              "  </svg>\n",
              "      </button>\n",
              "      \n",
              "  <style>\n",
              "    .colab-df-container {\n",
              "      display:flex;\n",
              "      flex-wrap:wrap;\n",
              "      gap: 12px;\n",
              "    }\n",
              "\n",
              "    .colab-df-convert {\n",
              "      background-color: #E8F0FE;\n",
              "      border: none;\n",
              "      border-radius: 50%;\n",
              "      cursor: pointer;\n",
              "      display: none;\n",
              "      fill: #1967D2;\n",
              "      height: 32px;\n",
              "      padding: 0 0 0 0;\n",
              "      width: 32px;\n",
              "    }\n",
              "\n",
              "    .colab-df-convert:hover {\n",
              "      background-color: #E2EBFA;\n",
              "      box-shadow: 0px 1px 2px rgba(60, 64, 67, 0.3), 0px 1px 3px 1px rgba(60, 64, 67, 0.15);\n",
              "      fill: #174EA6;\n",
              "    }\n",
              "\n",
              "    [theme=dark] .colab-df-convert {\n",
              "      background-color: #3B4455;\n",
              "      fill: #D2E3FC;\n",
              "    }\n",
              "\n",
              "    [theme=dark] .colab-df-convert:hover {\n",
              "      background-color: #434B5C;\n",
              "      box-shadow: 0px 1px 3px 1px rgba(0, 0, 0, 0.15);\n",
              "      filter: drop-shadow(0px 1px 2px rgba(0, 0, 0, 0.3));\n",
              "      fill: #FFFFFF;\n",
              "    }\n",
              "  </style>\n",
              "\n",
              "      <script>\n",
              "        const buttonEl =\n",
              "          document.querySelector('#df-a0a61533-286d-4c9a-a6f7-5e5e6b1c5ab1 button.colab-df-convert');\n",
              "        buttonEl.style.display =\n",
              "          google.colab.kernel.accessAllowed ? 'block' : 'none';\n",
              "\n",
              "        async function convertToInteractive(key) {\n",
              "          const element = document.querySelector('#df-a0a61533-286d-4c9a-a6f7-5e5e6b1c5ab1');\n",
              "          const dataTable =\n",
              "            await google.colab.kernel.invokeFunction('convertToInteractive',\n",
              "                                                     [key], {});\n",
              "          if (!dataTable) return;\n",
              "\n",
              "          const docLinkHtml = 'Like what you see? Visit the ' +\n",
              "            '<a target=\"_blank\" href=https://colab.research.google.com/notebooks/data_table.ipynb>data table notebook</a>'\n",
              "            + ' to learn more about interactive tables.';\n",
              "          element.innerHTML = '';\n",
              "          dataTable['output_type'] = 'display_data';\n",
              "          await google.colab.output.renderOutput(dataTable, element);\n",
              "          const docLink = document.createElement('div');\n",
              "          docLink.innerHTML = docLinkHtml;\n",
              "          element.appendChild(docLink);\n",
              "        }\n",
              "      </script>\n",
              "    </div>\n",
              "  </div>\n",
              "  "
            ],
            "text/plain": [
              "      0   1   2    3\n",
              "0  남궁길동  90  85   88\n",
              "1  제갈길동  80  90   88\n",
              "2  독고길동  90  95  100"
            ]
          },
          "metadata": {},
          "execution_count": 13
        }
      ]
    }
  ]
}