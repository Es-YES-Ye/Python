{
  "nbformat": 4,
  "nbformat_minor": 0,
  "metadata": {
    "colab": {
      "name": "파이썬복습-str-repr2.ipynb",
      "provenance": [],
      "authorship_tag": "ABX9TyOfO5CGTvI3w2feRpRVr6hn",
      "include_colab_link": true
    },
    "kernelspec": {
      "name": "python3",
      "display_name": "Python 3"
    },
    "language_info": {
      "name": "python"
    }
  },
  "cells": [
    {
      "cell_type": "markdown",
      "metadata": {
        "id": "view-in-github",
        "colab_type": "text"
      },
      "source": [
        "<a href=\"https://colab.research.google.com/github/Es-YES-Ye/Python/blob/main/%ED%8C%8C%EC%9D%B4%EC%8D%AC%EB%B3%B5%EC%8A%B5_str_repr2.ipynb\" target=\"_parent\"><img src=\"https://colab.research.google.com/assets/colab-badge.svg\" alt=\"Open In Colab\"/></a>"
      ]
    },
    {
      "cell_type": "code",
      "execution_count": 1,
      "metadata": {
        "id": "UBXfjfQwiJmU"
      },
      "outputs": [],
      "source": [
        "class Color():\n",
        "  def __init__(self,name):\n",
        "    self.name = name"
      ]
    },
    {
      "cell_type": "code",
      "source": [
        "red = Color('red')\n",
        "yellow = Color('yellow')\n",
        "black = Color('black')\n",
        "\n",
        "arr = [red, yellow, black]\n",
        "\n",
        "for ar in arr:\n",
        "  print(ar)"
      ],
      "metadata": {
        "colab": {
          "base_uri": "https://localhost:8080/"
        },
        "id": "x7FAX44fig07",
        "outputId": "693eed4b-5779-4a1a-ca0d-892be3f991f8"
      },
      "execution_count": 2,
      "outputs": [
        {
          "output_type": "stream",
          "name": "stdout",
          "text": [
            "<__main__.Color object at 0x7fa89e022490>\n",
            "<__main__.Color object at 0x7fa89e022850>\n",
            "<__main__.Color object at 0x7fa89e022950>\n"
          ]
        }
      ]
    },
    {
      "cell_type": "code",
      "source": [
        "class Color():\n",
        "  def __init__(self,name):\n",
        "    self.name = name\n",
        "  \n",
        "  def __str__(self):\n",
        "    return f'__str__ : {self.name}'\n",
        "  \n",
        "  def __repr__(self):\n",
        "    return f'__repr__ : {self.name}'"
      ],
      "metadata": {
        "id": "7HCEksUziwOA"
      },
      "execution_count": 3,
      "outputs": []
    },
    {
      "cell_type": "code",
      "source": [
        "red = Color('red')\n",
        "yellow = Color('yellow')\n",
        "black = Color('black')\n",
        "\n",
        "arr = [red, yellow, black]\n",
        "\n",
        "for ar in arr:\n",
        "  print(ar)"
      ],
      "metadata": {
        "colab": {
          "base_uri": "https://localhost:8080/"
        },
        "id": "tthb7WaRi-jz",
        "outputId": "f472b4b3-d270-4832-9d73-599538d4db66"
      },
      "execution_count": 4,
      "outputs": [
        {
          "output_type": "stream",
          "name": "stdout",
          "text": [
            "__str__ : red\n",
            "__str__ : yellow\n",
            "__str__ : black\n"
          ]
        }
      ]
    },
    {
      "cell_type": "code",
      "source": [
        "print(arr)"
      ],
      "metadata": {
        "colab": {
          "base_uri": "https://localhost:8080/"
        },
        "id": "jsUYk_oxjE3D",
        "outputId": "7602a2d5-3c28-4542-ca18-569cbc3bf7fc"
      },
      "execution_count": 5,
      "outputs": [
        {
          "output_type": "stream",
          "name": "stdout",
          "text": [
            "[__repr__ : red, __repr__ : yellow, __repr__ : black]\n"
          ]
        }
      ]
    },
    {
      "cell_type": "code",
      "source": [
        "class charic():\n",
        "  def __init__(self, name, level):\n",
        "    self.name = name\n",
        "    self.level = level"
      ],
      "metadata": {
        "id": "azoMSMdwjezc"
      },
      "execution_count": 6,
      "outputs": []
    },
    {
      "cell_type": "code",
      "source": [
        "create = charic(\"one\", 1)\n",
        "print(create.name)\n",
        "print(create.level)"
      ],
      "metadata": {
        "colab": {
          "base_uri": "https://localhost:8080/"
        },
        "id": "16pK8urQjn6H",
        "outputId": "b3860952-257c-4ecc-907f-4edb793830b2"
      },
      "execution_count": 7,
      "outputs": [
        {
          "output_type": "stream",
          "name": "stdout",
          "text": [
            "one\n",
            "1\n"
          ]
        }
      ]
    },
    {
      "cell_type": "code",
      "source": [
        "class charic2():\n",
        "  def __init__(self, name, level):\n",
        "    self.name = name\n",
        "    self.level = level\n",
        "\n",
        "  def __str__(self):\n",
        "    return f\"이름 : {self.name}, 레벨 : {self.level}\""
      ],
      "metadata": {
        "id": "PzjhQBbpj4QM"
      },
      "execution_count": 10,
      "outputs": []
    },
    {
      "cell_type": "code",
      "source": [
        "create = charic2(\"one\", 1)\n",
        "print(create)"
      ],
      "metadata": {
        "colab": {
          "base_uri": "https://localhost:8080/"
        },
        "id": "Tpml_exUkKRI",
        "outputId": "10fca6b1-aa56-4440-fbc8-a0f5e91ca76b"
      },
      "execution_count": 12,
      "outputs": [
        {
          "output_type": "stream",
          "name": "stdout",
          "text": [
            "이름 : one, 레벨 : 1\n"
          ]
        }
      ]
    }
  ]
}